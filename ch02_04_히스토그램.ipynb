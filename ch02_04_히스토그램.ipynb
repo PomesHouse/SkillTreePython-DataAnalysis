{
  "nbformat": 4,
  "nbformat_minor": 0,
  "metadata": {
    "colab": {
      "name": "ch02_04_히스토그램.ipynb",
      "provenance": [],
      "collapsed_sections": [],
      "include_colab_link": true
    },
    "kernelspec": {
      "name": "python3",
      "display_name": "Python 3"
    },
    "language_info": {
      "name": "python"
    }
  },
  "cells": [
    {
      "cell_type": "markdown",
      "metadata": {
        "id": "view-in-github",
        "colab_type": "text"
      },
      "source": [
        "<a href=\"https://colab.research.google.com/github/PomesHouse/SkillTreePython-DataAnalysis/blob/main/ch02_04_%ED%9E%88%EC%8A%A4%ED%86%A0%EA%B7%B8%EB%9E%A8.ipynb\" target=\"_parent\"><img src=\"https://colab.research.google.com/assets/colab-badge.svg\" alt=\"Open In Colab\"/></a>"
      ]
    },
    {
      "cell_type": "markdown",
      "source": [
        "# Ch02.04 히스토그램\n",
        "\n",
        "---\n",
        "* 날짜:\n",
        "* 이름:\n",
        "\n",
        "\n",
        "```\n",
        "import numpy as np\n",
        "import pandas as pd\n",
        "import matplotlib.pyplot as plt\n",
        "import seaborn as sns\n",
        "\n",
        "plt.rcParams['figure.figsize'] = [6, 4]\n",
        "plt.style.use('seaborn-white')\n",
        "sns.set_style('white')\n",
        "\n",
        "```"
      ],
      "metadata": {
        "id": "ylXjSLUxXHxm"
      }
    },
    {
      "cell_type": "code",
      "execution_count": 2,
      "metadata": {
        "id": "TyVLPbux1Yu7"
      },
      "outputs": [],
      "source": [
        "import numpy as np\n",
        "import pandas as pd\n",
        "import matplotlib.pyplot as plt\n",
        "import seaborn as sns\n",
        "\n",
        "plt.rcParams['figure.figsize'] = [4, 3]\n",
        "plt.style.use('seaborn-white')\n",
        "sns.set_style('white')"
      ]
    },
    {
      "cell_type": "markdown",
      "source": [
        "\n",
        "## **개념정리**\n",
        "---\n",
        "\n",
        "\n"
      ],
      "metadata": {
        "id": "UgGmlC8UejLN"
      }
    },
    {
      "cell_type": "markdown",
      "source": [
        "### (1) Matplotlib 으로 그리기\n"
      ],
      "metadata": {
        "id": "QzMXKYm0F-CE"
      }
    },
    {
      "cell_type": "markdown",
      "source": [
        "#### **| 기본사용**\n",
        "\n",
        "```\n",
        "x = np.random.randn(5000) # 표준정규분포\n",
        "plt.hist(x)\n",
        "plt.show()\n",
        "```"
      ],
      "metadata": {
        "id": "iTQGsPm68SBn"
      }
    },
    {
      "cell_type": "code",
      "source": [
        "# 막대그래프와는 달리 연속적인 값 (어떤 구간에 대한 밀도를 보여주는 그래프 )\n",
        "\n",
        "x = np.random.randn(5000)\n",
        "plt.hist(x) # 1차원 배열 \n",
        "plt.show()"
      ],
      "metadata": {
        "id": "9VND05j315g8",
        "colab": {
          "base_uri": "https://localhost:8080/",
          "height": 207
        },
        "outputId": "322a13fa-f294-484f-e04c-6e70dc2c4cf9"
      },
      "execution_count": 3,
      "outputs": [
        {
          "output_type": "display_data",
          "data": {
            "text/plain": [
              "<Figure size 288x216 with 1 Axes>"
            ],
            "image/png": "[encoded data removed]"
          },
          "metadata": {}
        }
      ]
    },
    {
      "cell_type": "markdown",
      "source": [
        "#### **| 옵션**\n",
        "\n",
        "```\n",
        "plt.hist(data, \n",
        "        bins = 구간개수,\n",
        "        color=색,\n",
        "        edgecolor=테두리 색, \n",
        "        alpha=투명도 (0~1),\n",
        "        density=정규화 여부 (True/False),\n",
        "        cumulative=누적여부 (True/Fasle),  \n",
        "        histtype = 플롯 형식 {'bar', 'barstacked', 'step', 'stepfilled' } default: 'bar'\n",
        "        label = 레이블,\n",
        "        align=눈금 위치 {'left', 'mid', 'right'}, default: 'mid'\n",
        "```"
      ],
      "metadata": {
        "id": "IKDL5iKI7yV2"
      }
    },
    {
      "cell_type": "code",
      "source": [
        "plt.hist(x, \n",
        "        bins = 30,\n",
        "        alpha = 0.5,\n",
        "        color = 'tomato',\n",
        "        density = True) # 전체를 1로 봤을 때 / 데이터 수가 다른 데이터의 분포를 비교하고 싶을 때 desity = True가 유용하다. \n",
        "\n",
        "plt.show() "
      ],
      "metadata": {
        "id": "c8372IBS2HvO",
        "colab": {
          "base_uri": "https://localhost:8080/",
          "height": 207
        },
        "outputId": "645d1e81-cf21-4701-e3ff-d1e73bf80edd"
      },
      "execution_count": 8,
      "outputs": [
        {
          "output_type": "display_data",
          "data": {
            "text/plain": [
              "<Figure size 288x216 with 1 Axes>"
            ],
            "image/png": "[encoded data removed]"
          },
          "metadata": {}
        }
      ]
    },
    {
      "cell_type": "markdown",
      "source": [
        "#### **| 여러개의 히스토그램**\n",
        "\n",
        "```\n",
        "plt.hist([x1,x2, ..])\n",
        "```"
      ],
      "metadata": {
        "id": "pDDjq1gjA3R-"
      }
    },
    {
      "cell_type": "code",
      "source": [
        "x2 = np.random.randn(4000)\n",
        "plt.hist([x,x2])\n",
        "plt.show()"
      ],
      "metadata": {
        "id": "BefgeEDr5QdE",
        "colab": {
          "base_uri": "https://localhost:8080/",
          "height": 300
        },
        "outputId": "28158e86-4e3e-4976-947d-d6572ad9c939"
      },
      "execution_count": 12,
      "outputs": [
        {
          "output_type": "stream",
          "name": "stderr",
          "text": [
            "/usr/local/lib/python3.7/dist-packages/numpy/core/fromnumeric.py:3208: VisibleDeprecationWarning: Creating an ndarray from ragged nested sequences (which is a list-or-tuple of lists-or-tuples-or ndarrays with different lengths or shapes) is deprecated. If you meant to do this, you must specify 'dtype=object' when creating the ndarray.\n",
            "  return asarray(a).size\n",
            "/usr/local/lib/python3.7/dist-packages/matplotlib/cbook/__init__.py:1376: VisibleDeprecationWarning: Creating an ndarray from ragged nested sequences (which is a list-or-tuple of lists-or-tuples-or ndarrays with different lengths or shapes) is deprecated. If you meant to do this, you must specify 'dtype=object' when creating the ndarray.\n",
            "  X = np.atleast_1d(X.T if isinstance(X, np.ndarray) else np.asarray(X))\n"
          ]
        },
        {
          "output_type": "display_data",
          "data": {
            "text/plain": [
              "<Figure size 288x216 with 1 Axes>"
            ],
            "image/png": "[encoded data removed]"
          },
          "metadata": {}
        }
      ]
    },
    {
      "cell_type": "code",
      "source": [
        "plt.hist(x)\n",
        "plt.hist(x2 , alpha = 0.5)\n",
        "plt.show()"
      ],
      "metadata": {
        "colab": {
          "base_uri": "https://localhost:8080/",
          "height": 207
        },
        "id": "VmPjIS8IhxBC",
        "outputId": "52533e2b-cd6e-4173-d174-c71750fb5aa3"
      },
      "execution_count": 14,
      "outputs": [
        {
          "output_type": "display_data",
          "data": {
            "text/plain": [
              "<Figure size 288x216 with 1 Axes>"
            ],
            "image/png": "[encoded data removed]"
          },
          "metadata": {}
        }
      ]
    },
    {
      "cell_type": "markdown",
      "source": [
        "### (2) Seaborn 으로 그리기\n",
        "\n"
      ],
      "metadata": {
        "id": "ggjMd8im8gJx"
      }
    },
    {
      "cell_type": "markdown",
      "source": [
        "#### **| 기본사용**\n",
        "\n",
        "```\n",
        "sns.histplot(x)\n",
        "```"
      ],
      "metadata": {
        "id": "WCVykkIPXTmq"
      }
    },
    {
      "cell_type": "code",
      "source": [
        "sns.histplot(x)"
      ],
      "metadata": {
        "id": "caplckbRZt0Q",
        "colab": {
          "base_uri": "https://localhost:8080/",
          "height": 225
        },
        "outputId": "3e2bdfb2-bcd0-4bc7-a15e-c08f61c3fa5e"
      },
      "execution_count": 15,
      "outputs": [
        {
          "output_type": "execute_result",
          "data": {
            "text/plain": [
              "<matplotlib.axes._subplots.AxesSubplot at 0x7f877b005150>"
            ]
          },
          "metadata": {},
          "execution_count": 15
        },
        {
          "output_type": "display_data",
          "data": {
            "text/plain": [
              "<Figure size 288x216 with 1 Axes>"
            ],
            "image/png": "[encoded data removed]"
          },
          "metadata": {}
        }
      ]
    },
    {
      "cell_type": "markdown",
      "source": [
        "#### **| 옵션**\n",
        "\n",
        "```\n",
        "seaborn.histplot(data=None, \n",
        "                 bins='auto', # 구간개수\n",
        "                 cumulative=False, # 누적여부\n",
        "                 element='bars', # 플롯형식 {“bars”, “step”, “poly”},\n",
        "                 multiple='layer' # 다중데이터 플롯형식{“layer”, “dodge”, “stack”, “fill”},\n",
        "                 fill=True, # 색칠 여부\n",
        "                 shrink=1, # 너비 감소\n",
        "                 kde=False, # kde선\n",
        "                 color=None, # 색깔\n",
        "                 log_scale=None # 로그스케일)\n",
        "```"
      ],
      "metadata": {
        "id": "TP2JTc1NJChB"
      }
    },
    {
      "cell_type": "code",
      "source": [
        "sns.histplot(x, color = 'c', shrink = 0.8)"
      ],
      "metadata": {
        "id": "egRiCOeWgXkd",
        "colab": {
          "base_uri": "https://localhost:8080/",
          "height": 225
        },
        "outputId": "11e8831e-6973-4d9f-ae10-1e782779f8ed"
      },
      "execution_count": 18,
      "outputs": [
        {
          "output_type": "execute_result",
          "data": {
            "text/plain": [
              "<matplotlib.axes._subplots.AxesSubplot at 0x7f877ad9ead0>"
            ]
          },
          "metadata": {},
          "execution_count": 18
        },
        {
          "output_type": "display_data",
          "data": {
            "text/plain": [
              "<Figure size 288x216 with 1 Axes>"
            ],
            "image/png": "[encoded data removed]"
          },
          "metadata": {}
        }
      ]
    },
    {
      "cell_type": "markdown",
      "source": [
        "#### **| 여러개의 히스토그램**\n",
        "\n",
        "```\n",
        "sns.histplot([x1, x2, ...])\n",
        "```"
      ],
      "metadata": {
        "id": "bWRCEHGQCdzN"
      }
    },
    {
      "cell_type": "code",
      "source": [
        "sns.histplot([x,x2])"
      ],
      "metadata": {
        "id": "ufpGpPv2LpRA",
        "colab": {
          "base_uri": "https://localhost:8080/",
          "height": 225
        },
        "outputId": "7ae09660-04a5-4860-c0fb-b6af903c5b3c"
      },
      "execution_count": 19,
      "outputs": [
        {
          "output_type": "execute_result",
          "data": {
            "text/plain": [
              "<matplotlib.axes._subplots.AxesSubplot at 0x7f877adeff50>"
            ]
          },
          "metadata": {},
          "execution_count": 19
        },
        {
          "output_type": "display_data",
          "data": {
            "text/plain": [
              "<Figure size 288x216 with 1 Axes>"
            ],
            "image/png": "[encoded data removed]"
          },
          "metadata": {}
        }
      ]
    },
    {
      "cell_type": "markdown",
      "source": [
        "#### **| DataFrame 사용**\n",
        "\n",
        "\n"
      ],
      "metadata": {
        "id": "GCPmXaIIyLcr"
      }
    },
    {
      "cell_type": "markdown",
      "source": [
        "* 데이터 프레임을 만들어 줍니다.\n",
        "\n"
      ],
      "metadata": {
        "id": "3cKlgwTJOzBJ"
      }
    },
    {
      "cell_type": "code",
      "source": [
        "df = pd.DataFrame([x, x*2]).T\n",
        "df.head()"
      ],
      "metadata": {
        "id": "so1ANfnzO4Jh",
        "colab": {
          "base_uri": "https://localhost:8080/",
          "height": 206
        },
        "outputId": "64e1c84b-2cbe-47ae-b5e1-357c09524b60"
      },
      "execution_count": 24,
      "outputs": [
        {
          "output_type": "execute_result",
          "data": {
            "text/plain": [
              "          0         1\n",
              "0  0.175265  0.350531\n",
              "1  0.853142  1.706285\n",
              "2  0.117547  0.235093\n",
              "3  0.423449  0.846899\n",
              "4 -0.139800 -0.279600"
            ],
            "text/html": [
              "\n",
              "  <div id=\"df-1497be6f-0002-43d3-9d87-8936ece1d809\">\n",
              "    <div class=\"colab-df-container\">\n",
              "      <div>\n",
              "<style scoped>\n",
              "    .dataframe tbody tr th:only-of-type {\n",
              "        vertical-align: middle;\n",
              "    }\n",
              "\n",
              "    .dataframe tbody tr th {\n",
              "        vertical-align: top;\n",
              "    }\n",
              "\n",
              "    .dataframe thead th {\n",
              "        text-align: right;\n",
              "    }\n",
              "</style>\n",
              "<table border=\"1\" class=\"dataframe\">\n",
              "  <thead>\n",
              "    <tr style=\"text-align: right;\">\n",
              "      <th></th>\n",
              "      <th>0</th>\n",
              "      <th>1</th>\n",
              "    </tr>\n",
              "  </thead>\n",
              "  <tbody>\n",
              "    <tr>\n",
              "      <th>0</th>\n",
              "      <td>0.175265</td>\n",
              "      <td>0.350531</td>\n",
              "    </tr>\n",
              "    <tr>\n",
              "      <th>1</th>\n",
              "      <td>0.853142</td>\n",
              "      <td>1.706285</td>\n",
              "    </tr>\n",
              "    <tr>\n",
              "      <th>2</th>\n",
              "      <td>0.117547</td>\n",
              "      <td>0.235093</td>\n",
              "    </tr>\n",
              "    <tr>\n",
              "      <th>3</th>\n",
              "      <td>0.423449</td>\n",
              "      <td>0.846899</td>\n",
              "    </tr>\n",
              "    <tr>\n",
              "      <th>4</th>\n",
              "      <td>-0.139800</td>\n",
              "      <td>-0.279600</td>\n",
              "    </tr>\n",
              "  </tbody>\n",
              "</table>\n",
              "</div>\n",
              "      <button class=\"colab-df-convert\" onclick=\"convertToInteractive('df-1497be6f-0002-43d3-9d87-8936ece1d809')\"\n",
              "              title=\"Convert this dataframe to an interactive table.\"\n",
              "              style=\"display:none;\">\n",
              "        \n",
              "  <svg xmlns=\"http://www.w3.org/2000/svg\" height=\"24px\"viewBox=\"0 0 24 24\"\n",
              "       width=\"24px\">\n",
              "    <path d=\"M0 0h24v24H0V0z\" fill=\"none\"/>\n",
              "    <path d=\"M18.56 5.44l.94 2.06.94-2.06 2.06-.94-2.06-.94-.94-2.06-.94 2.06-2.06.94zm-11 1L8.5 8.5l.94-2.06 2.06-.94-2.06-.94L8.5 2.5l-.94 2.06-2.06.94zm10 10l.94 2.06.94-2.06 2.06-.94-2.06-.94-.94-2.06-.94 2.06-2.06.94z\"/><path d=\"M17.41 7.96l-1.37-1.37c-.4-.4-.92-.59-1.43-.59-.52 0-1.04.2-1.43.59L10.3 9.45l-7.72 7.72c-.78.78-.78 2.05 0 2.83L4 21.41c.39.39.9.59 1.41.59.51 0 1.02-.2 1.41-.59l7.78-7.78 2.81-2.81c.8-.78.8-2.07 0-2.86zM5.41 20L4 18.59l7.72-7.72 1.47 1.35L5.41 20z\"/>\n",
              "  </svg>\n",
              "      </button>\n",
              "      \n",
              "  <style>\n",
              "    .colab-df-container {\n",
              "      display:flex;\n",
              "      flex-wrap:wrap;\n",
              "      gap: 12px;\n",
              "    }\n",
              "\n",
              "    .colab-df-convert {\n",
              "      background-color: #E8F0FE;\n",
              "      border: none;\n",
              "      border-radius: 50%;\n",
              "      cursor: pointer;\n",
              "      display: none;\n",
              "      fill: #1967D2;\n",
              "      height: 32px;\n",
              "      padding: 0 0 0 0;\n",
              "      width: 32px;\n",
              "    }\n",
              "\n",
              "    .colab-df-convert:hover {\n",
              "      background-color: #E2EBFA;\n",
              "      box-shadow: 0px 1px 2px rgba(60, 64, 67, 0.3), 0px 1px 3px 1px rgba(60, 64, 67, 0.15);\n",
              "      fill: #174EA6;\n",
              "    }\n",
              "\n",
              "    [theme=dark] .colab-df-convert {\n",
              "      background-color: #3B4455;\n",
              "      fill: #D2E3FC;\n",
              "    }\n",
              "\n",
              "    [theme=dark] .colab-df-convert:hover {\n",
              "      background-color: #434B5C;\n",
              "      box-shadow: 0px 1px 3px 1px rgba(0, 0, 0, 0.15);\n",
              "      filter: drop-shadow(0px 1px 2px rgba(0, 0, 0, 0.3));\n",
              "      fill: #FFFFFF;\n",
              "    }\n",
              "  </style>\n",
              "\n",
              "      <script>\n",
              "        const buttonEl =\n",
              "          document.querySelector('#df-1497be6f-0002-43d3-9d87-8936ece1d809 button.colab-df-convert');\n",
              "        buttonEl.style.display =\n",
              "          google.colab.kernel.accessAllowed ? 'block' : 'none';\n",
              "\n",
              "        async function convertToInteractive(key) {\n",
              "          const element = document.querySelector('#df-1497be6f-0002-43d3-9d87-8936ece1d809');\n",
              "          const dataTable =\n",
              "            await google.colab.kernel.invokeFunction('convertToInteractive',\n",
              "                                                     [key], {});\n",
              "          if (!dataTable) return;\n",
              "\n",
              "          const docLinkHtml = 'Like what you see? Visit the ' +\n",
              "            '<a target=\"_blank\" href=https://colab.research.google.com/notebooks/data_table.ipynb>data table notebook</a>'\n",
              "            + ' to learn more about interactive tables.';\n",
              "          element.innerHTML = '';\n",
              "          dataTable['output_type'] = 'display_data';\n",
              "          await google.colab.output.renderOutput(dataTable, element);\n",
              "          const docLink = document.createElement('div');\n",
              "          docLink.innerHTML = docLinkHtml;\n",
              "          element.appendChild(docLink);\n",
              "        }\n",
              "      </script>\n",
              "    </div>\n",
              "  </div>\n",
              "  "
            ]
          },
          "metadata": {},
          "execution_count": 24
        }
      ]
    },
    {
      "cell_type": "markdown",
      "source": [
        "* 데이터프레임에서 기본적으로 플롯을 제공합니다.\n",
        "\n",
        "\n",
        "```\n",
        "df.plot(kind='hist')\n",
        "```\n",
        "\n",
        "\n"
      ],
      "metadata": {
        "id": "j5x-0qTTgqK2"
      }
    },
    {
      "cell_type": "code",
      "source": [
        "df.plot(kind = 'hist', alpha = 0.5)"
      ],
      "metadata": {
        "id": "v4RUwYz5yPRs",
        "colab": {
          "base_uri": "https://localhost:8080/",
          "height": 225
        },
        "outputId": "903f64bc-cae9-44da-a607-e98ba160f89d"
      },
      "execution_count": 30,
      "outputs": [
        {
          "output_type": "execute_result",
          "data": {
            "text/plain": [
              "<matplotlib.axes._subplots.AxesSubplot at 0x7f877b04fe10>"
            ]
          },
          "metadata": {},
          "execution_count": 30
        },
        {
          "output_type": "display_data",
          "data": {
            "text/plain": [
              "<Figure size 288x216 with 1 Axes>"
            ],
            "image/png": "[encoded data removed]"
          },
          "metadata": {}
        }
      ]
    },
    {
      "cell_type": "markdown",
      "source": [
        "* 데이터프레임 기반으로 seaborn을 사용합니다.\n",
        "\n",
        "\n",
        "```\n",
        "sns.histplot(data=df, x=x_column)\n",
        "```\n"
      ],
      "metadata": {
        "id": "ycx-4x4Ag94u"
      }
    },
    {
      "cell_type": "code",
      "source": [
        "sns.histplot(data = df)"
      ],
      "metadata": {
        "id": "B8MgiEHyyjUt",
        "colab": {
          "base_uri": "https://localhost:8080/",
          "height": 225
        },
        "outputId": "d2446e5c-22e8-4793-de2e-a498b6ef0adf"
      },
      "execution_count": 32,
      "outputs": [
        {
          "output_type": "execute_result",
          "data": {
            "text/plain": [
              "<matplotlib.axes._subplots.AxesSubplot at 0x7f8779db3a90>"
            ]
          },
          "metadata": {},
          "execution_count": 32
        },
        {
          "output_type": "display_data",
          "data": {
            "text/plain": [
              "<Figure size 288x216 with 1 Axes>"
            ],
            "image/png": "[encoded data removed]"
          },
          "metadata": {}
        }
      ]
    },
    {
      "cell_type": "markdown",
      "source": [
        "\n",
        "## **실습**\n",
        "---\n"
      ],
      "metadata": {
        "id": "9BldG-nOgeoQ"
      }
    },
    {
      "cell_type": "markdown",
      "source": [
        "### (1) `plt.hist`의 `histtypes` 옵션비교\n",
        "\n",
        "```\n",
        "x1 = np.random.normal(0, 1, 5000)\n",
        "x2 = np.random.normal(0, 3, 5000)\n",
        "x3 = np.random.normal(10, 3, 5000)\n",
        "\n",
        "histtypes=['bar', 'barstacked', 'step', 'stepfilled']\n",
        "\n",
        "```"
      ],
      "metadata": {
        "id": "Sm_irK939Amm"
      }
    },
    {
      "cell_type": "code",
      "source": [
        "x1 = np.random.normal(0, 1, 5000) # 평균 0, 편차 1 == 표준정규분포\n",
        "x2 = np.random.normal(0, 3, 5000) # 평균 0, 편차 3\n",
        "x3 = np.random.normal(10, 3, 5000) # 평균 10, 편차 3\n",
        "histtypes=['bar', 'barstacked', 'step', 'stepfilled']"
      ],
      "metadata": {
        "id": "JTw_B59906sA"
      },
      "execution_count": 33,
      "outputs": []
    },
    {
      "cell_type": "code",
      "source": [
        "plt.figure(figsize = (8,6))\n",
        "# 2*2 플롯에 그리기\n",
        "for i, histtype in enumerate(histtypes):\n",
        "    plt.subplot(2,2,i + 1)\n",
        "    plt.hist([x1,x2,x3], histtype = histtype, \n",
        "             label =['x1','x2','x3'],\n",
        "             alpha = .5,\n",
        "             bins = 50)\n",
        "    plt.legend()\n",
        "    plt.title(histtype)\n",
        "plt.show()"
      ],
      "metadata": {
        "colab": {
          "base_uri": "https://localhost:8080/",
          "height": 387
        },
        "id": "ykQjC--VkMTy",
        "outputId": "b20e2eb8-1f58-4e8a-912f-f97498dc3e1c"
      },
      "execution_count": 37,
      "outputs": [
        {
          "output_type": "display_data",
          "data": {
            "text/plain": [
              "<Figure size 576x432 with 4 Axes>"
            ],
            "image/png": "[encoded data removed]"
          },
          "metadata": {}
        }
      ]
    },
    {
      "cell_type": "markdown",
      "source": [
        "### (2) 객체지향 사용하기\n",
        "\n",
        "\n",
        "```\n",
        "fig, ax = plt.subplots(2,2, figsize=size)\n",
        "```"
      ],
      "metadata": {
        "id": "TvcoGSW3IO0w"
      }
    },
    {
      "cell_type": "code",
      "source": [
        "fig, ax = plt.subplots(2,2, figsize = (8,6)) # fig  = 전체그림, ax = 서브플롯 \n",
        "ax.shape # 2x2 \n",
        "ax = ax.flatten() # 1차원배열이 된다. forloop 쓰기 편해진다. \n",
        "for i, histtype in enumerate(histtypes):\n",
        "    ax[i].hist([x1,x2,x3], histtype = histtype, \n",
        "             label =['x1','x2','x3'],\n",
        "             alpha = .5,\n",
        "             bins = 50)\n",
        "    ax[i].legend()\n",
        "    ax[i].set_title(histtype)\n",
        "plt.show()"
      ],
      "metadata": {
        "id": "9FGstFpUgcIN",
        "colab": {
          "base_uri": "https://localhost:8080/",
          "height": 387
        },
        "outputId": "94078721-db46-45dd-9db9-1ab79c9a359d"
      },
      "execution_count": 41,
      "outputs": [
        {
          "output_type": "display_data",
          "data": {
            "text/plain": [
              "<Figure size 576x432 with 4 Axes>"
            ],
            "image/png": "[encoded data removed]"
          },
          "metadata": {}
        }
      ]
    },
    {
      "cell_type": "markdown",
      "source": [
        "### (3) Iris 데이터 변수별 분포 그리기\n",
        "\n",
        "```\n",
        "           꽃받침 길이   꽃받침 너비   꽃의 길이  꽃의 너비\n",
        " 샘플1      \n",
        " 샘플2 \n",
        " ...\n",
        " 샘플150\n",
        "```\n",
        "\n",
        "\n",
        "```\n",
        "from sklearn.datasets import load_iris\n",
        "iris = load_iris()\n",
        "```\n",
        "\n",
        "\n",
        "* `.feature_names` : 변수 이름\n",
        "* `.target_names` : 타겟 이름\n",
        "* `.data` : 데이터 \n",
        "* `.target` : 타겟\n"
      ],
      "metadata": {
        "id": "QGviht0yPmHr"
      }
    },
    {
      "cell_type": "code",
      "source": [
        "from sklearn.datasets import load_iris\n",
        "iris = load_iris()"
      ],
      "metadata": {
        "id": "A2kQAsaLgdsg"
      },
      "execution_count": 45,
      "outputs": []
    },
    {
      "cell_type": "code",
      "source": [
        "# 변수 이름 / 라벨이름 \n",
        "x_names = iris.feature_names\n",
        "y_names = iris.target_names\n",
        "print( 'x names:', x_names)\n",
        "print('y names: ', y_names)"
      ],
      "metadata": {
        "colab": {
          "base_uri": "https://localhost:8080/"
        },
        "id": "mNKrNgl7qoUM",
        "outputId": "ec33e083-80ea-4f1a-acc6-0530c618e12e"
      },
      "execution_count": 48,
      "outputs": [
        {
          "output_type": "stream",
          "name": "stdout",
          "text": [
            "x names: ['sepal length (cm)', 'sepal width (cm)', 'petal length (cm)', 'petal width (cm)']\n",
            "y names:  ['setosa' 'versicolor' 'virginica']\n"
          ]
        }
      ]
    },
    {
      "cell_type": "code",
      "source": [
        "# 데이터셋\n",
        "x_data = iris.data\n",
        "y_data = iris.target\n",
        "print('x :', x_data.shape)\n",
        "print('y :', y_data.shape)"
      ],
      "metadata": {
        "colab": {
          "base_uri": "https://localhost:8080/"
        },
        "id": "dbByH1f5rL7k",
        "outputId": "b773a17a-c699-4cf7-f2cf-0d6839428806"
      },
      "execution_count": 49,
      "outputs": [
        {
          "output_type": "stream",
          "name": "stdout",
          "text": [
            "x : (150, 4)\n",
            "y : (150,)\n"
          ]
        }
      ]
    },
    {
      "cell_type": "code",
      "source": [
        "plt.hist(y_data)\n",
        "plt.xticks([0,1,2], y_names)\n",
        "plt.title('Number of each target')\n",
        "plt.show()"
      ],
      "metadata": {
        "colab": {
          "base_uri": "https://localhost:8080/",
          "height": 223
        },
        "id": "mG7kb-kzsDjs",
        "outputId": "8be30da1-9283-42a0-82a9-555190f16ad3"
      },
      "execution_count": 54,
      "outputs": [
        {
          "output_type": "display_data",
          "data": {
            "text/plain": [
              "<Figure size 288x216 with 1 Axes>"
            ],
            "image/png": "[encoded data removed]"
          },
          "metadata": {}
        }
      ]
    },
    {
      "cell_type": "code",
      "source": [
        "plt.figure(figsize = (6,3))\n",
        "plt.hist(x_data,\n",
        "         histtype = 'stepfilled', \n",
        "         bins = 30,\n",
        "         alpha = 0.5,\n",
        "         label = x_names) # 항상 1차원 배열, 여기선 150이 4개 들어가 있다. \n",
        "plt.legend()\n",
        "plt.show()"
      ],
      "metadata": {
        "colab": {
          "base_uri": "https://localhost:8080/",
          "height": 207
        },
        "id": "xEPisWyps-wk",
        "outputId": "acb75635-b472-42ff-8d4d-e54557fcd8e5"
      },
      "execution_count": 61,
      "outputs": [
        {
          "output_type": "display_data",
          "data": {
            "text/plain": [
              "<Figure size 432x216 with 1 Axes>"
            ],
            "image/png": "[encoded data removed]"
          },
          "metadata": {}
        }
      ]
    },
    {
      "cell_type": "markdown",
      "source": [
        "\n",
        "## **과제**\n",
        "---\n"
      ],
      "metadata": {
        "id": "P-ZNWdUxYGqn"
      }
    },
    {
      "cell_type": "markdown",
      "source": [
        "플러스과제 :\n",
        "\n",
        "* petal 끼리 / sepal 끼리 나눠서 그리기\n",
        "* 2 * 1 에다가"
      ],
      "metadata": {
        "id": "s2tyvMR2uQ87"
      }
    },
    {
      "cell_type": "code",
      "source": [
        "\n",
        "fig, ax = plt.subplots(2,1, figsize = (5,4))\n",
        "ax[0].hist(x_data[:,:2],\n",
        "         histtype = 'stepfilled', \n",
        "         bins = 30,\n",
        "         alpha = 0.5,\n",
        "         label = x_names[:2] ) # 항상 1차원 배열, 여기선 150이 4개 들어가 있다. \n",
        "plt.subplots_adjust(hspace = 0.4)\n",
        "ax[0].legend()\n",
        "ax[0].set_title('Sepal')\n",
        "\n",
        "ax[1].hist(x_data[:, 2:],\n",
        "           histtype = 'stepfilled',\n",
        "           bins = 30,\n",
        "           alpha = 0.5,\n",
        "           label = x_names[2:])\n",
        "ax[1].legend()\n",
        "ax[1].set_title('Petal')\n",
        "plt.show()"
      ],
      "metadata": {
        "colab": {
          "base_uri": "https://localhost:8080/",
          "height": 278
        },
        "id": "A-LrM7k0uP20",
        "outputId": "7266ac90-78ca-4436-d33a-aaf1ea109460"
      },
      "execution_count": 141,
      "outputs": [
        {
          "output_type": "display_data",
          "data": {
            "text/plain": [
              "<Figure size 360x288 with 2 Axes>"
            ],
            "image/png": "[encoded data removed]"
          },
          "metadata": {}
        }
      ]
    },
    {
      "cell_type": "markdown",
      "source": [
        "### (1)  지수분포(exponential distribution) 그리기\n",
        "\n",
        "\n"
      ],
      "metadata": {
        "id": "Enwz_K4DUqjW"
      }
    },
    {
      "cell_type": "markdown",
      "source": [
        "* 지수분포의 확률밀도 함수는 다음과 같습니다.\n",
        "\n",
        "\n",
        "![](https://wikimedia.org/api/rest_v1/media/math/render/svg/7ae26c8e2d08abfda4102c31e1f380e7fa9068b7)\n",
        "\n",
        "* 아래와 같이 넘파이 함수를 이용해 확률밀도 함수를 따르는 데이터셋을 얻을 수 있습니다.\n",
        "\n",
        "```\n",
        "np.random.exponential(scale=lambda, size=데이터개수)\n",
        "```\n",
        "\n",
        "* lambda 값이 각각 `0.5, 1, 2`일 때의 지수분포를 따르는 데이터를 `10000`개씩 뽑고 각 데이터셋의 밀도분포를 그리세요.\n",
        "\n",
        "\n",
        "\n",
        "* 3개의 데이터셋을 비교하고, lambda 값에 따라 데이터가 어떻게 샘플링 되는지 간단히 설명하세요."
      ],
      "metadata": {
        "id": "MIbBkbRNfAs8"
      }
    },
    {
      "cell_type": "code",
      "source": [
        "\n",
        "df05 = np.random.exponential(scale=0.5, size=10000)\n",
        "df10 = np.random.exponential(scale=1, size=10000)\n",
        "df20 = np.random.exponential(scale=2, size=10000)\n",
        "\n",
        "plt.figure(figsize = (8,6))\n",
        "sns.histplot([df05, df10, df20], bins = 60, palette = \"icefire\")\n",
        "plt.axis('tight')\n",
        "\n",
        "plt.show()"
      ],
      "metadata": {
        "id": "cD9VpwIFggPn",
        "colab": {
          "base_uri": "https://localhost:8080/",
          "height": 371
        },
        "outputId": "a2466397-ef0a-44e5-97f8-4553283a01ac"
      },
      "execution_count": 164,
      "outputs": [
        {
          "output_type": "display_data",
          "data": {
            "text/plain": [
              "<Figure size 576x432 with 1 Axes>"
            ],
            "image/png": "[encoded data removed]"
          },
          "metadata": {}
        }
      ]
    },
    {
      "cell_type": "code",
      "source": [
        "######### 해설 코드\n",
        "for scale in [0.5, 1, 1.5]:\n",
        "    xs = np.random.exponential(scale=scale,size=10000)\n",
        "    plt.hist(xs, bins=100, histtype='step', density=True, linewidth=2, label=f'lambda={scale}')\n",
        "\n",
        "plt.legend()\n",
        "plt.xlim([0,8])\n",
        "plt.show()"
      ],
      "metadata": {
        "colab": {
          "base_uri": "https://localhost:8080/",
          "height": 210
        },
        "id": "f2NyBz7jGIA0",
        "outputId": "b893f39e-ffe8-438d-e082-5400d2eba3fa"
      },
      "execution_count": 131,
      "outputs": [
        {
          "output_type": "display_data",
          "data": {
            "text/plain": [
              "<Figure size 288x216 with 1 Axes>"
            ],
            "image/png": "[encoded data removed]"
          },
          "metadata": {}
        }
      ]
    },
    {
      "cell_type": "markdown",
      "source": [
        "### (2) 캘리포니아 집값 데이터 변수별 분포 그리기\n",
        "\n"
      ],
      "metadata": {
        "id": "FGUSYEG-ETnb"
      }
    },
    {
      "cell_type": "markdown",
      "source": [
        "* `/content/sample_data/california_housing_test.csv`을 불러오세요.\n",
        "* 9개의 변수의 분포를 3 x 3 figure에 `seaborn`을 이용해 그려주세요.\n",
        "* `kde` 선을 (histplot 옵션 )추가해 주세요.\n",
        "\n",
        "```\n",
        "df=pd.read_csv('/content/sample_data/california_housing_test.csv')\n",
        "```"
      ],
      "metadata": {
        "id": "JHAzswnDfCRD"
      }
    },
    {
      "cell_type": "code",
      "source": [
        "df=pd.read_csv('/content/sample_data/california_housing_test.csv')\n",
        "df.head()"
      ],
      "metadata": {
        "id": "P7dp-QNshMN3",
        "colab": {
          "base_uri": "https://localhost:8080/",
          "height": 206
        },
        "outputId": "cab06309-a91a-40c1-d2b0-337c6100b74b"
      },
      "execution_count": 98,
      "outputs": [
        {
          "output_type": "execute_result",
          "data": {
            "text/plain": [
              "   longitude  latitude  housing_median_age  total_rooms  total_bedrooms  \\\n",
              "0    -122.05     37.37                27.0       3885.0           661.0   \n",
              "1    -118.30     34.26                43.0       1510.0           310.0   \n",
              "2    -117.81     33.78                27.0       3589.0           507.0   \n",
              "3    -118.36     33.82                28.0         67.0            15.0   \n",
              "4    -119.67     36.33                19.0       1241.0           244.0   \n",
              "\n",
              "   population  households  median_income  median_house_value  \n",
              "0      1537.0       606.0         6.6085            344700.0  \n",
              "1       809.0       277.0         3.5990            176500.0  \n",
              "2      1484.0       495.0         5.7934            270500.0  \n",
              "3        49.0        11.0         6.1359            330000.0  \n",
              "4       850.0       237.0         2.9375             81700.0  "
            ],
            "text/html": [
              "\n",
              "  <div id=\"df-3b5b1b3c-ee96-4d9c-a2d5-1f976f43c46a\">\n",
              "    <div class=\"colab-df-container\">\n",
              "      <div>\n",
              "<style scoped>\n",
              "    .dataframe tbody tr th:only-of-type {\n",
              "        vertical-align: middle;\n",
              "    }\n",
              "\n",
              "    .dataframe tbody tr th {\n",
              "        vertical-align: top;\n",
              "    }\n",
              "\n",
              "    .dataframe thead th {\n",
              "        text-align: right;\n",
              "    }\n",
              "</style>\n",
              "<table border=\"1\" class=\"dataframe\">\n",
              "  <thead>\n",
              "    <tr style=\"text-align: right;\">\n",
              "      <th></th>\n",
              "      <th>longitude</th>\n",
              "      <th>latitude</th>\n",
              "      <th>housing_median_age</th>\n",
              "      <th>total_rooms</th>\n",
              "      <th>total_bedrooms</th>\n",
              "      <th>population</th>\n",
              "      <th>households</th>\n",
              "      <th>median_income</th>\n",
              "      <th>median_house_value</th>\n",
              "    </tr>\n",
              "  </thead>\n",
              "  <tbody>\n",
              "    <tr>\n",
              "      <th>0</th>\n",
              "      <td>-122.05</td>\n",
              "      <td>37.37</td>\n",
              "      <td>27.0</td>\n",
              "      <td>3885.0</td>\n",
              "      <td>661.0</td>\n",
              "      <td>1537.0</td>\n",
              "      <td>606.0</td>\n",
              "      <td>6.6085</td>\n",
              "      <td>344700.0</td>\n",
              "    </tr>\n",
              "    <tr>\n",
              "      <th>1</th>\n",
              "      <td>-118.30</td>\n",
              "      <td>34.26</td>\n",
              "      <td>43.0</td>\n",
              "      <td>1510.0</td>\n",
              "      <td>310.0</td>\n",
              "      <td>809.0</td>\n",
              "      <td>277.0</td>\n",
              "      <td>3.5990</td>\n",
              "      <td>176500.0</td>\n",
              "    </tr>\n",
              "    <tr>\n",
              "      <th>2</th>\n",
              "      <td>-117.81</td>\n",
              "      <td>33.78</td>\n",
              "      <td>27.0</td>\n",
              "      <td>3589.0</td>\n",
              "      <td>507.0</td>\n",
              "      <td>1484.0</td>\n",
              "      <td>495.0</td>\n",
              "      <td>5.7934</td>\n",
              "      <td>270500.0</td>\n",
              "    </tr>\n",
              "    <tr>\n",
              "      <th>3</th>\n",
              "      <td>-118.36</td>\n",
              "      <td>33.82</td>\n",
              "      <td>28.0</td>\n",
              "      <td>67.0</td>\n",
              "      <td>15.0</td>\n",
              "      <td>49.0</td>\n",
              "      <td>11.0</td>\n",
              "      <td>6.1359</td>\n",
              "      <td>330000.0</td>\n",
              "    </tr>\n",
              "    <tr>\n",
              "      <th>4</th>\n",
              "      <td>-119.67</td>\n",
              "      <td>36.33</td>\n",
              "      <td>19.0</td>\n",
              "      <td>1241.0</td>\n",
              "      <td>244.0</td>\n",
              "      <td>850.0</td>\n",
              "      <td>237.0</td>\n",
              "      <td>2.9375</td>\n",
              "      <td>81700.0</td>\n",
              "    </tr>\n",
              "  </tbody>\n",
              "</table>\n",
              "</div>\n",
              "      <button class=\"colab-df-convert\" onclick=\"convertToInteractive('df-3b5b1b3c-ee96-4d9c-a2d5-1f976f43c46a')\"\n",
              "              title=\"Convert this dataframe to an interactive table.\"\n",
              "              style=\"display:none;\">\n",
              "        \n",
              "  <svg xmlns=\"http://www.w3.org/2000/svg\" height=\"24px\"viewBox=\"0 0 24 24\"\n",
              "       width=\"24px\">\n",
              "    <path d=\"M0 0h24v24H0V0z\" fill=\"none\"/>\n",
              "    <path d=\"M18.56 5.44l.94 2.06.94-2.06 2.06-.94-2.06-.94-.94-2.06-.94 2.06-2.06.94zm-11 1L8.5 8.5l.94-2.06 2.06-.94-2.06-.94L8.5 2.5l-.94 2.06-2.06.94zm10 10l.94 2.06.94-2.06 2.06-.94-2.06-.94-.94-2.06-.94 2.06-2.06.94z\"/><path d=\"M17.41 7.96l-1.37-1.37c-.4-.4-.92-.59-1.43-.59-.52 0-1.04.2-1.43.59L10.3 9.45l-7.72 7.72c-.78.78-.78 2.05 0 2.83L4 21.41c.39.39.9.59 1.41.59.51 0 1.02-.2 1.41-.59l7.78-7.78 2.81-2.81c.8-.78.8-2.07 0-2.86zM5.41 20L4 18.59l7.72-7.72 1.47 1.35L5.41 20z\"/>\n",
              "  </svg>\n",
              "      </button>\n",
              "      \n",
              "  <style>\n",
              "    .colab-df-container {\n",
              "      display:flex;\n",
              "      flex-wrap:wrap;\n",
              "      gap: 12px;\n",
              "    }\n",
              "\n",
              "    .colab-df-convert {\n",
              "      background-color: #E8F0FE;\n",
              "      border: none;\n",
              "      border-radius: 50%;\n",
              "      cursor: pointer;\n",
              "      display: none;\n",
              "      fill: #1967D2;\n",
              "      height: 32px;\n",
              "      padding: 0 0 0 0;\n",
              "      width: 32px;\n",
              "    }\n",
              "\n",
              "    .colab-df-convert:hover {\n",
              "      background-color: #E2EBFA;\n",
              "      box-shadow: 0px 1px 2px rgba(60, 64, 67, 0.3), 0px 1px 3px 1px rgba(60, 64, 67, 0.15);\n",
              "      fill: #174EA6;\n",
              "    }\n",
              "\n",
              "    [theme=dark] .colab-df-convert {\n",
              "      background-color: #3B4455;\n",
              "      fill: #D2E3FC;\n",
              "    }\n",
              "\n",
              "    [theme=dark] .colab-df-convert:hover {\n",
              "      background-color: #434B5C;\n",
              "      box-shadow: 0px 1px 3px 1px rgba(0, 0, 0, 0.15);\n",
              "      filter: drop-shadow(0px 1px 2px rgba(0, 0, 0, 0.3));\n",
              "      fill: #FFFFFF;\n",
              "    }\n",
              "  </style>\n",
              "\n",
              "      <script>\n",
              "        const buttonEl =\n",
              "          document.querySelector('#df-3b5b1b3c-ee96-4d9c-a2d5-1f976f43c46a button.colab-df-convert');\n",
              "        buttonEl.style.display =\n",
              "          google.colab.kernel.accessAllowed ? 'block' : 'none';\n",
              "\n",
              "        async function convertToInteractive(key) {\n",
              "          const element = document.querySelector('#df-3b5b1b3c-ee96-4d9c-a2d5-1f976f43c46a');\n",
              "          const dataTable =\n",
              "            await google.colab.kernel.invokeFunction('convertToInteractive',\n",
              "                                                     [key], {});\n",
              "          if (!dataTable) return;\n",
              "\n",
              "          const docLinkHtml = 'Like what you see? Visit the ' +\n",
              "            '<a target=\"_blank\" href=https://colab.research.google.com/notebooks/data_table.ipynb>data table notebook</a>'\n",
              "            + ' to learn more about interactive tables.';\n",
              "          element.innerHTML = '';\n",
              "          dataTable['output_type'] = 'display_data';\n",
              "          await google.colab.output.renderOutput(dataTable, element);\n",
              "          const docLink = document.createElement('div');\n",
              "          docLink.innerHTML = docLinkHtml;\n",
              "          element.appendChild(docLink);\n",
              "        }\n",
              "      </script>\n",
              "    </div>\n",
              "  </div>\n",
              "  "
            ]
          },
          "metadata": {},
          "execution_count": 98
        }
      ]
    },
    {
      "cell_type": "code",
      "source": [
        "df.columns"
      ],
      "metadata": {
        "colab": {
          "base_uri": "https://localhost:8080/"
        },
        "id": "6sjSLG4FAfWG",
        "outputId": "05d30749-2670-4414-be5f-b1c7327a9eed"
      },
      "execution_count": 103,
      "outputs": [
        {
          "output_type": "execute_result",
          "data": {
            "text/plain": [
              "Index(['longitude', 'latitude', 'housing_median_age', 'total_rooms',\n",
              "       'total_bedrooms', 'population', 'households', 'median_income',\n",
              "       'median_house_value'],\n",
              "      dtype='object')"
            ]
          },
          "metadata": {},
          "execution_count": 103
        }
      ]
    },
    {
      "cell_type": "code",
      "source": [
        "plt.figure(figsize = (11,7))\n",
        "\n",
        "for i, col in enumerate(df.columns):\n",
        "   plt.subplot(3, 3, i + 1)\n",
        "   sns.histplot(df[col], kde = True, palette = \"Spectral\")\n",
        "   plt.axis('tight')\n",
        "\n",
        "plt.subplots_adjust(hspace = 0.4, wspace = 0.4)\n",
        "plt.show()"
      ],
      "metadata": {
        "colab": {
          "base_uri": "https://localhost:8080/",
          "height": 440
        },
        "id": "vbUvMqd3_1qK",
        "outputId": "7d103f75-9dc7-4fcf-e48e-1b48b8d27e5f"
      },
      "execution_count": 160,
      "outputs": [
        {
          "output_type": "display_data",
          "data": {
            "text/plain": [
              "<Figure size 792x504 with 9 Axes>"
            ],
            "image/png": "[encoded data removed]"
          },
          "metadata": {}
        }
      ]
    },
    {
      "cell_type": "code",
      "source": [
        ""
      ],
      "metadata": {
        "id": "b_mWNwe6E4Lr"
      },
      "execution_count": null,
      "outputs": []
    }
  ]
}