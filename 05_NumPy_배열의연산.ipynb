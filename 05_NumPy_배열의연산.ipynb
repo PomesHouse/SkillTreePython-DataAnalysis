{
  "nbformat": 4,
  "nbformat_minor": 0,
  "metadata": {
    "colab": {
      "name": "05_NumPy-배열의연산.ipynb",
      "provenance": [],
      "collapsed_sections": [],
      "include_colab_link": true
    },
    "kernelspec": {
      "name": "python3",
      "display_name": "Python 3"
    },
    "language_info": {
      "name": "python"
    }
  },
  "cells": [
    {
      "cell_type": "markdown",
      "metadata": {
        "id": "view-in-github",
        "colab_type": "text"
      },
      "source": [
        "<a href=\"https://colab.research.google.com/github/PomesHouse/SkillTreePython-DataAnalysis/blob/main/05_NumPy_%EB%B0%B0%EC%97%B4%EC%9D%98%EC%97%B0%EC%82%B0.ipynb\" target=\"_parent\"><img src=\"https://colab.research.google.com/assets/colab-badge.svg\" alt=\"Open In Colab\"/></a>"
      ]
    },
    {
      "cell_type": "markdown",
      "metadata": {
        "id": "jgFAOz-Tw1VI"
      },
      "source": [
        "# CH05 Numpy  - 배열의 연산\n",
        "\n",
        "---\n",
        "* 날짜:\n",
        "* 이름:\n"
      ]
    },
    {
      "cell_type": "code",
      "source": [
        "import numpy as np"
      ],
      "metadata": {
        "id": "zPOE7GIhJcdU"
      },
      "execution_count": 1,
      "outputs": []
    },
    {
      "cell_type": "markdown",
      "metadata": {
        "id": "_ilCtKbjYZzk"
      },
      "source": [
        "---\n",
        "### **(1) 산술 연산(Arithmetic Operators)**\n",
        "---\n",
        "\n",
        "|연산자|범용함수|설명|\n",
        "|--|--|--|\n",
        "|+|`np.add`|덧셈|\n",
        "|-|`np.substract`|뺄셈|\n",
        "|-|`np.negative`|단항음수|\n",
        "|*|`np.multiply`|곱셈|\n",
        "|/|`np.divide`|나눗셈|\n",
        "|//|`np.floor_divide`|나눗셈 내림|\n",
        "|**|`np.power`|지수 연산|\n",
        "|%|`np.mod`|나머지 연산|\n",
        "\n",
        "파이썬의 수치자료형에서 사용하는 모든 연산을 넘파이 배열에서 사용할 수 있습니다. \n",
        "\n",
        "리스트에서는 불가능했던 배열간의 덧셈도 아래와 같이 사용 가능합니다.\n",
        "\n",
        "```\n",
        "a = np.array([1,2,3])\n",
        "b = np.array([-1,2,-3])\n",
        "a*b\n",
        "```\n",
        "\n"
      ]
    },
    {
      "cell_type": "code",
      "metadata": {
        "id": "lGmuZNP4YZzu",
        "colab": {
          "base_uri": "https://localhost:8080/"
        },
        "outputId": "2eefd592-8b03-4a3f-e1c2-dd8e48ef23e2"
      },
      "source": [
        "a = np.array([1,2,3])\n",
        "b = np.array([-1,2,-3])\n",
        "a*b"
      ],
      "execution_count": 7,
      "outputs": [
        {
          "output_type": "execute_result",
          "data": {
            "text/plain": [
              "array([-1,  4, -9])"
            ]
          },
          "metadata": {},
          "execution_count": 7
        }
      ]
    },
    {
      "cell_type": "markdown",
      "metadata": {
        "id": "HjPXsM8C5ULZ"
      },
      "source": [
        "\n",
        "#### **|  브로드캐스팅 (Broadcasting)**\n",
        "\n",
        "NumPy의 배열 연산은 벡터화(vectorized) 연산을 사용합니다. 브로드 캐스팅은 배열 각 요소에 대한 반복적인 계산을 효율적으로 수행합니다.\n",
        "\n",
        "\n",
        "<p align='center'>\n",
        "<img src=https://github.com/yebiny/SkillTreePython-DataAnalysis/blob/main/imgs/ch0105-01.png?raw=true width=560>\n",
        "</p>"
      ]
    },
    {
      "cell_type": "code",
      "source": [
        "a = np.arange(1,10).reshape(3,3)\n",
        "print(a * 2)\n",
        "print(a * [2,2,2])"
      ],
      "metadata": {
        "id": "ZhsYhSsaLhoh",
        "colab": {
          "base_uri": "https://localhost:8080/"
        },
        "outputId": "82dfcf70-bf4a-44a4-d806-4e021153b718"
      },
      "execution_count": 3,
      "outputs": [
        {
          "output_type": "stream",
          "name": "stdout",
          "text": [
            "[[ 2  4  6]\n",
            " [ 8 10 12]\n",
            " [14 16 18]]\n",
            "[[ 2  4  6]\n",
            " [ 8 10 12]\n",
            " [14 16 18]]\n"
          ]
        }
      ]
    },
    {
      "cell_type": "markdown",
      "metadata": {
        "id": "bSey8YjkL5BT"
      },
      "source": [
        "---\n",
        "### **(2) 수학 관련 함수**\n",
        "---\n",
        "\n",
        "\n",
        "\n"
      ]
    },
    {
      "cell_type": "markdown",
      "source": [
        "#### **| 절대값 함수 (Absolute Function)**\n",
        "\n",
        "\n",
        "\n",
        "\n",
        "\n",
        "* `np.absolute(n)` = `np.abs(n)` : `n`의 절대값 반환\n",
        "\n",
        "```\n",
        "print(b)\n",
        "np.abs(b)\n",
        "```\n"
      ],
      "metadata": {
        "id": "aNlW6SlrO9nr"
      }
    },
    {
      "cell_type": "code",
      "metadata": {
        "id": "zaMa3LVuO9ns",
        "colab": {
          "base_uri": "https://localhost:8080/"
        },
        "outputId": "98bffaa1-bb5c-4de1-e483-7fc7947b6316"
      },
      "source": [
        "print(b)\n",
        "print(np.abs(b))"
      ],
      "execution_count": null,
      "outputs": [
        {
          "output_type": "stream",
          "name": "stdout",
          "text": [
            "[-1  2 -3]\n",
            "[1 2 3]\n"
          ]
        }
      ]
    },
    {
      "cell_type": "markdown",
      "metadata": {
        "id": "U5uE3sVtzRvA"
      },
      "source": [
        "#### **| 제곱/제곱근 함수**\n",
        "\n",
        "* `np.square(n)`: `n`의 제곱을 반환\n",
        "* `np.sqrt(n)` : `n`의 제곱근을 반환\n",
        "\n",
        "```\n",
        "n = 25\n",
        "print(np.square(n), np.sqrt(n))\n",
        "```"
      ]
    },
    {
      "cell_type": "code",
      "metadata": {
        "id": "ggnIxDGzzTfX",
        "colab": {
          "base_uri": "https://localhost:8080/"
        },
        "outputId": "e0cbf53e-286d-46ab-e3f6-491552aff996"
      },
      "source": [
        "# 제곱근: 어떤 수 x를 제곱하여 a가 되었을 때의 x값\n",
        "n = 25\n",
        "print(np.square(n), np.sqrt(n))"
      ],
      "execution_count": null,
      "outputs": [
        {
          "output_type": "stream",
          "name": "stdout",
          "text": [
            "625 5.0\n"
          ]
        }
      ]
    },
    {
      "cell_type": "markdown",
      "metadata": {
        "id": "tWh1aQ50vRhB"
      },
      "source": [
        "#### **| 지수/로그 함수**\n",
        "\n",
        "* `np.exp(n)` : 자연상수 `e`(=~2.71..)의 `n` 제곱을 반환\n",
        "* `np.exp2(n)` : 상수 `2`의 `n` 제곱을 반환\n",
        "\n",
        "\n",
        "```\n",
        "[np.exp2(n) for n in range(10)]\n",
        "```\n",
        "\n",
        "\n",
        "\n",
        "\n",
        "\n"
      ]
    },
    {
      "cell_type": "code",
      "metadata": {
        "id": "Dygt3AyHvTZz",
        "colab": {
          "base_uri": "https://localhost:8080/"
        },
        "outputId": "486a136f-986d-472c-eff6-2f6b851a4648"
      },
      "source": [
        "print([np.exp(n) for n in range(10)])\n",
        "print([np.exp2(n) for n in range(10)])"
      ],
      "execution_count": null,
      "outputs": [
        {
          "output_type": "stream",
          "name": "stdout",
          "text": [
            "[1.0, 2.718281828459045, 7.38905609893065, 20.085536923187668, 54.598150033144236, 148.4131591025766, 403.4287934927351, 1096.6331584284585, 2980.9579870417283, 8103.083927575384]\n",
            "[1.0, 2.0, 4.0, 8.0, 16.0, 32.0, 64.0, 128.0, 256.0, 512.0]\n"
          ]
        }
      ]
    },
    {
      "cell_type": "markdown",
      "source": [
        "\n",
        "* `np.log(n)` : 밑이 `e`인 로그값을 반환합니다. \n",
        "* `np.log2(n)` : 밑이 `2`인 로그값을 반환합니다.\n",
        "* `np.log10(n)` : 밑이 `10`인 로그값을 반환합니다.\n",
        "\n",
        "```\n",
        "n = [10,100,1000,10000]\n",
        "np.log10(n)\n",
        "```"
      ],
      "metadata": {
        "id": "0g8jrMErbtEA"
      }
    },
    {
      "cell_type": "code",
      "source": [
        "n = [2,4,8,16]\n",
        "np.log2(n)"
      ],
      "metadata": {
        "colab": {
          "base_uri": "https://localhost:8080/"
        },
        "id": "MIqUFd7XGnsh",
        "outputId": "73cf2a00-ae81-4411-e6c7-2cf7c8ba6382"
      },
      "execution_count": null,
      "outputs": [
        {
          "output_type": "execute_result",
          "data": {
            "text/plain": [
              "array([1., 2., 3., 4.])"
            ]
          },
          "metadata": {},
          "execution_count": 13
        }
      ]
    },
    {
      "cell_type": "code",
      "metadata": {
        "id": "YB0BzwxDvnkT",
        "colab": {
          "base_uri": "https://localhost:8080/"
        },
        "outputId": "d2a40eb9-d064-4f85-f3b4-7e76bf4dd071"
      },
      "source": [
        "n = [10,100,1000,10000]\n",
        "np.log10(n)"
      ],
      "execution_count": null,
      "outputs": [
        {
          "output_type": "execute_result",
          "data": {
            "text/plain": [
              "array([1., 2., 3., 4.])"
            ]
          },
          "metadata": {},
          "execution_count": 12
        }
      ]
    },
    {
      "cell_type": "markdown",
      "metadata": {
        "id": "wE_p9AxjtdJ9"
      },
      "source": [
        "#### **| 삼각 함수(Trigonometrical Function)**\n",
        "\n",
        "|함수|설명|\n",
        "|--|--|\n",
        "|`np.sin`|사인|\n",
        "|`np.cos`|코사인|\n",
        "|`np.tan`|탄젠트|\n",
        "|`np.arcsin`|아크 사인|\n",
        "|`np.argcos`|아크 코사인|\n",
        "|`np.argtan`|아크 탄젠트|\n",
        "|`np.sinh`|하이퍼볼릭 사인|\n",
        "|`np.cosh`|하이퍼볼릭 코사인|\n",
        "|`np.tanh`|하이퍼볼릭 탄젠트|\n",
        "|`np.arcsinh`|하이퍼볼릭 아크 사인|\n",
        "|`np.arccosh`|하이퍼볼릭 아크 코사인|\n",
        "|`np.arctanh`|하이퍼볼릭 아크 탄젠트|\n",
        "|`np.deg2rad`|각도를 라디안으로 변환|\n",
        "|`np.rad2deg`|라디안을 각도로 변환|\n",
        "|`np.hypot`|유클리드 거리계산|\n",
        "\n",
        "학창시절 아래 삼각함수 표를 외워본 경험이 있을 겁니다. 더이상 이를 외울 필요는 없습니다. 코드가 알아서 해줄테니까요. 값이 똑같이 나오는지 확인해 봅시다.\n",
        "\n",
        "<p align='center'>\n",
        "<img src=https://github.com/yebiny/SkillTreePython-DataAnalysis/blob/main/imgs/ch0105-02.png?raw=true width=500>\n",
        "</p>\n",
        "\n",
        "```\n",
        "n = 0\n",
        "np.sin(n), np.cos(n), np.tan(n)\n",
        "```"
      ]
    },
    {
      "cell_type": "code",
      "metadata": {
        "id": "v7m-AQW9uJ9u",
        "colab": {
          "base_uri": "https://localhost:8080/"
        },
        "outputId": "a0a05240-da5b-4efe-877a-dac7e45bc4a1"
      },
      "source": [
        "n = 0\n",
        "np.sin(n), np.cos(n), np.tan(n)"
      ],
      "execution_count": 14,
      "outputs": [
        {
          "output_type": "execute_result",
          "data": {
            "text/plain": [
              "(0.0, 1.0, 0.0)"
            ]
          },
          "metadata": {},
          "execution_count": 14
        }
      ]
    },
    {
      "cell_type": "markdown",
      "metadata": {
        "id": "EHGOV5FuPII3"
      },
      "source": [
        "#### **| 집계 함수(Aggregate Functions)**\n",
        "\n",
        "|함수|설명|\n",
        "|--|--|\n",
        "|`np.sum()`|배열 내 합을 반환|\n",
        "|`np.cumsum()`|배열 내 누적합 반환|\n",
        "|`np.prod()`|배열 내 곱 반환|\n",
        "|`np.diff()`|배열 내 차 반환|\n",
        "|`np.min()`|최소값 반환|\n",
        "|`np.max()`|최대값 반환|\n",
        "|`np.mean()`|평균 반환|\n",
        "|`np.std()`|표준편차 반환|\n",
        "|`np.var()`|분산 반환|\n",
        "|`np.median()`|중앙값 반환|\n",
        "|`np.argmin()`|최소값 인덱스 반환|\n",
        "|`np.argmax()`|최소값 인덱스 반환|\n",
        "\n",
        "\n",
        "```\n",
        "print(a)\n",
        "print('누적합: ',np.cumsum(a))\n",
        "print('곱: ',np.prod(a))\n",
        "print('차: ',np.diff(a))\n",
        "print('중앙값: ',np.median(a))\n",
        "```"
      ]
    },
    {
      "cell_type": "code",
      "source": [
        "print(a)\n",
        "print('누적합: ',np.cumsum(a)) # 하나씩 누적된 합이 나온다. \n",
        "print('곱: ',np.prod(a))\n",
        "print('차: ',np.diff(a))\n",
        "print('중앙값: ',np.median(a))"
      ],
      "metadata": {
        "id": "OIENQ0LlVMyd",
        "colab": {
          "base_uri": "https://localhost:8080/"
        },
        "outputId": "a15a601e-6e3c-430b-e7fc-49a04db01ec4"
      },
      "execution_count": 16,
      "outputs": [
        {
          "output_type": "stream",
          "name": "stdout",
          "text": [
            "[1 2 3]\n",
            "누적합:  [1 3 6]\n",
            "곱:  6\n",
            "차:  [1 1]\n",
            "중앙값:  2.0\n"
          ]
        }
      ]
    },
    {
      "cell_type": "markdown",
      "source": [
        "머신러닝에서 자주 사용되는 함수는 `np.argmax`입니다. `np.argmax`는 최대값의 인덱스를 반환하는데요, 최대값 자체가 아닌 인덱스가 언제 필요할까요?\n",
        "\n",
        "예시를 들어 봅시다. `y`에 카드 이름이, `x`에는 각 카드가 뽑힐 확률이 들어 있습니다. 뽑힐 확률이 가장 높은 카드를 아래와 같이 구할 수 있습니다.\n",
        "\n",
        "```\n",
        "x = [0.1, 0.2, 0.6, 0.1]\n",
        "y = ['a', 'b', 'c', 'd']\n",
        "idx = np.argmax(x)\n",
        "print(y[idx]) # 팬시 인덱싱\n",
        "```"
      ],
      "metadata": {
        "id": "VAVV6_8OarUE"
      }
    },
    {
      "cell_type": "code",
      "source": [
        "x = [0.1, 0.2, 0.6, 0.1]\n",
        "y = ['a', 'b', 'c', 'd']\n",
        "idx = np.argmax(x)\n",
        "print(idx)\n",
        "print(y[idx]) "
      ],
      "metadata": {
        "id": "X5ltEzDsap-m",
        "colab": {
          "base_uri": "https://localhost:8080/"
        },
        "outputId": "47ef93d0-4672-41f3-d2d2-b273baa3d65e"
      },
      "execution_count": 17,
      "outputs": [
        {
          "output_type": "stream",
          "name": "stdout",
          "text": [
            "2\n",
            "c\n"
          ]
        }
      ]
    },
    {
      "cell_type": "markdown",
      "metadata": {
        "id": "ohtLbHoEVMU2"
      },
      "source": [
        "---\n",
        "### **(3) 벡터/행렬 연산**\n",
        "---\n",
        "\n",
        "|함수|설명|\n",
        "|--|--|\n",
        "|`np.matmul()`|=`@`, 행렬곱|\n",
        "|`np.dot()`|내적|\n",
        "|`np.prod()`|외적|\n",
        "\n"
      ]
    },
    {
      "cell_type": "markdown",
      "source": [
        "\n",
        "* `np.matmul(a1, a2)` : 배열 `a1`과 `a2`의 행렬곱을 수행합니다. \n",
        "\n",
        "일반적인 행렬곱을 `matmul`을 통해서 할 수 있습니다. \n",
        "\n",
        "```\n",
        "A = np.array([[1,2],\n",
        "              [0,1]])\n",
        "B = np.array([[1,0],\n",
        "              [0,1]])\n",
        "print(np.matmul(A,B))\n",
        "print(A@B)\n",
        "```\n"
      ],
      "metadata": {
        "id": "i6ll7q_HWTKA"
      }
    },
    {
      "cell_type": "code",
      "source": [
        "A = np.array([[1,2],\n",
        "              [0,1]])\n",
        "B = np.array([[1,0],\n",
        "              [0,1]])\n",
        "print(np.matmul(A,B))\n",
        "print(A@B)"
      ],
      "metadata": {
        "id": "9Gds9RSHWTx8",
        "colab": {
          "base_uri": "https://localhost:8080/"
        },
        "outputId": "4f9c8894-c6d7-4f16-b2e8-e1b3aa476cc6"
      },
      "execution_count": 18,
      "outputs": [
        {
          "output_type": "stream",
          "name": "stdout",
          "text": [
            "[[1 2]\n",
            " [0 1]]\n",
            "[[1 2]\n",
            " [0 1]]\n"
          ]
        }
      ]
    },
    {
      "cell_type": "markdown",
      "source": [
        "* `np.dot(a1, a2)`: 배열 `a1`과 `a2`의 벡터 내적을 수행합니다.\n",
        "\n",
        "벡터 내적은 벡터 내 같은 인덱스의 값을 곱하고 모두 더한 것입니다.\n",
        "\n",
        "```\n",
        "print(a, b)\n",
        "print(sum(a*b))\n",
        "print(np.dot(a,b))\n",
        "```\n",
        "\n",
        "\n"
      ],
      "metadata": {
        "id": "WJrKcbetWT5E"
      }
    },
    {
      "cell_type": "code",
      "source": [
        "print(a, b)\n",
        "print(sum(a*b))\n",
        "print(np.dot(a,b))"
      ],
      "metadata": {
        "id": "xX2V5x3SWSpk",
        "colab": {
          "base_uri": "https://localhost:8080/"
        },
        "outputId": "1908505e-ed5d-40fa-c31f-e38038df6bad"
      },
      "execution_count": 19,
      "outputs": [
        {
          "output_type": "stream",
          "name": "stdout",
          "text": [
            "[1 2 3] [-1  2 -3]\n",
            "-6\n",
            "-6\n"
          ]
        }
      ]
    },
    {
      "cell_type": "markdown",
      "metadata": {
        "id": "_oy400wHYLHN"
      },
      "source": [
        "---\n",
        "### **(4) 비교 연산**\n",
        "---\n",
        "\n",
        "비교 연산자를 이용하면 `boolean` 값으로 이루어진 배열을 반환합니다.\n",
        "\n",
        "\n"
      ]
    },
    {
      "cell_type": "markdown",
      "source": [
        "\n",
        "#### **| 값 비교**\n",
        "\n",
        "\n",
        "|연산자|비교 범용 함수|\n",
        "|--|--|\n",
        "|`==`|`np.equal`|\n",
        "|`!=`|`np.not_equal`|\n",
        "|`<`| `np.less`|\n",
        "|`<=`|`np.less_equal`|\n",
        "|`>`| `np.greater`|\n",
        "|`>=`|`np.greater_equal`|\n",
        "\n",
        "```\n",
        "print(a)\n",
        "print(b)\n",
        "a==b, a<b, a>b\n",
        "```"
      ],
      "metadata": {
        "id": "Hhi5eYZu9Uw4"
      }
    },
    {
      "cell_type": "code",
      "source": [
        "print(a)\n",
        "print(b)\n",
        "a==b, a<b, a>b"
      ],
      "metadata": {
        "id": "gXL4qh9G0Euw",
        "colab": {
          "base_uri": "https://localhost:8080/"
        },
        "outputId": "9f5af727-c31c-4ec7-df18-404a1713b932"
      },
      "execution_count": 20,
      "outputs": [
        {
          "output_type": "stream",
          "name": "stdout",
          "text": [
            "[1 2 3]\n",
            "[-1  2 -3]\n"
          ]
        },
        {
          "output_type": "execute_result",
          "data": {
            "text/plain": [
              "(array([False,  True, False]),\n",
              " array([False, False, False]),\n",
              " array([ True, False,  True]))"
            ]
          },
          "metadata": {},
          "execution_count": 20
        }
      ]
    },
    {
      "cell_type": "markdown",
      "source": [
        "\n",
        "#### **| 예외값 비교**\n",
        "\n",
        "\n",
        "\n",
        "|함수|설명|\n",
        "|--|--|\n",
        "|`np.isinf`|`inf` 값이면 `True`, 아니면 `False`|\n",
        "|`np.isfinite`|`inf, nan` 값이면 `False`, 아니면 `True`|\n",
        "|`np.isnan`|`nan` 값이면 `True`, 아니면 `False`|\n",
        "\n",
        "```\n",
        "a = [np.inf, np.nan, 0]\n",
        "print(np.isinf(a))\n",
        "print(np.isfinite(a))\n",
        "print(np.isnan(a))\n",
        "```"
      ],
      "metadata": {
        "id": "OLsYDXJ88jyd"
      }
    },
    {
      "cell_type": "code",
      "source": [
        "a = [np.inf, np.nan, 0]\n",
        "print(a)"
      ],
      "metadata": {
        "id": "pt_d1IfE0F0g",
        "colab": {
          "base_uri": "https://localhost:8080/"
        },
        "outputId": "ca7b7183-bb4b-4f11-aeb4-9e05c01fa261"
      },
      "execution_count": 21,
      "outputs": [
        {
          "output_type": "stream",
          "name": "stdout",
          "text": [
            "[inf, nan, 0]\n"
          ]
        }
      ]
    },
    {
      "cell_type": "code",
      "source": [
        "print(np.isinf(a))\n",
        "print(np.isnan(a))\n",
        "print(np.isfinite(a))"
      ],
      "metadata": {
        "colab": {
          "base_uri": "https://localhost:8080/"
        },
        "id": "vWBG_QyMOwLz",
        "outputId": "5b1e510b-ceec-4590-c9c5-b173079bf27c"
      },
      "execution_count": 31,
      "outputs": [
        {
          "output_type": "stream",
          "name": "stdout",
          "text": [
            "[False False False False False]\n",
            "[False False False False False]\n",
            "[ True  True  True  True  True]\n"
          ]
        }
      ]
    },
    {
      "cell_type": "markdown",
      "source": [
        "#### **| 논리 연산자**\n",
        "\n",
        "|함수|설명|\n",
        "|--|--|\n",
        "|`np.all()`|모두 `True`일때 `True` 반환|\n",
        "|`np.any()`|모두 `False`일때 `False` 반환|\n",
        "\n",
        "파이썬의 논리 연산자와 동일 합니다. 아래와 같이 숫자 자료형을 바로 넣으면 0 일 때는 `False`, 그 외에는 `True`로 인식하여 연산이 진행됩니다.\n",
        "\n",
        "```\n",
        "a = [1,0,1,1,0]\n",
        "np.all(a), np.any(a)\n",
        "```"
      ],
      "metadata": {
        "id": "rnvGTkHatKIn"
      }
    },
    {
      "cell_type": "code",
      "source": [
        "a = [1,0,1,1,0]\n",
        "np.all(a), np.any(a)"
      ],
      "metadata": {
        "id": "PlyGLDBntSCt",
        "colab": {
          "base_uri": "https://localhost:8080/"
        },
        "outputId": "98d77d14-4fd2-469a-a2b2-43b7b92d7dd4"
      },
      "execution_count": 29,
      "outputs": [
        {
          "output_type": "execute_result",
          "data": {
            "text/plain": [
              "(False, True)"
            ]
          },
          "metadata": {},
          "execution_count": 29
        }
      ]
    },
    {
      "cell_type": "markdown",
      "metadata": {
        "id": "3SiCZqJsap3_"
      },
      "source": [
        "---\n",
        "### **(5) 정렬**\n",
        "---\n",
        "\n",
        "\n",
        "|함수|설명|\n",
        "|--|--|\n",
        "|`np.sort()`|오름차순 정렬|\n",
        "|`np.argsort()`|index 정렬|\n",
        "|`np.partition()`|`k`개의 작은값 반환|\n"
      ]
    },
    {
      "cell_type": "markdown",
      "source": [
        "* `np.sort(a, axis=axis)` : 배열 `a`를 오름차순으로 정렬합니다. \n",
        "\n",
        "```\n",
        "np.random.seed(42);a = np.random.randint(0,12,(3,4))\n",
        "print(a)\n",
        "print('axis=0: 위에서 아래로 정렬')\n",
        "print(np.sort(a, axis=0))\n",
        "print('axis=1: 좌에서 우로 정렬')\n",
        "print(np.sort(a, axis=1))\n",
        "```\n"
      ],
      "metadata": {
        "id": "kTcud6R1-ptC"
      }
    },
    {
      "cell_type": "code",
      "source": [
        "np.random.seed(42);\n",
        "a = np.random. randint(0,12,(4,3))\n",
        "a"
      ],
      "metadata": {
        "id": "-4A0yrwM0I4M",
        "colab": {
          "base_uri": "https://localhost:8080/"
        },
        "outputId": "b8f8379c-1894-4860-a1fb-17229f4302cd"
      },
      "execution_count": 64,
      "outputs": [
        {
          "output_type": "execute_result",
          "data": {
            "text/plain": [
              "array([[ 6,  3, 10],\n",
              "       [ 7,  4,  6],\n",
              "       [ 9,  2,  6],\n",
              "       [10, 10,  7]])"
            ]
          },
          "metadata": {},
          "execution_count": 64
        }
      ]
    },
    {
      "cell_type": "code",
      "source": [
        "np.sort(a, axis = 0) # axis = 0 기준으로 1,2,3,4번째 이렇게 된다. "
      ],
      "metadata": {
        "colab": {
          "base_uri": "https://localhost:8080/"
        },
        "id": "HbldcJdnUi5K",
        "outputId": "5b59a8bd-4b82-4ca8-acef-84d291d58788"
      },
      "execution_count": 65,
      "outputs": [
        {
          "output_type": "execute_result",
          "data": {
            "text/plain": [
              "array([[ 6,  2,  6],\n",
              "       [ 7,  3,  6],\n",
              "       [ 9,  4,  7],\n",
              "       [10, 10, 10]])"
            ]
          },
          "metadata": {},
          "execution_count": 65
        }
      ]
    },
    {
      "cell_type": "code",
      "source": [
        "np.sort(a, axis = 1) # axis = 1 을 기준으로 1,2,3,4.. 이렇게 된다. "
      ],
      "metadata": {
        "colab": {
          "base_uri": "https://localhost:8080/"
        },
        "id": "fpAIacRTUsYC",
        "outputId": "36e4aa66-080f-4c91-a83f-b380b04f7bb1"
      },
      "execution_count": 66,
      "outputs": [
        {
          "output_type": "execute_result",
          "data": {
            "text/plain": [
              "array([[ 3,  6, 10],\n",
              "       [ 4,  6,  7],\n",
              "       [ 2,  6,  9],\n",
              "       [ 7, 10, 10]])"
            ]
          },
          "metadata": {},
          "execution_count": 66
        }
      ]
    },
    {
      "cell_type": "code",
      "source": [
        "# 반대로 하고 싶으면 [::-1]도 된다. "
      ],
      "metadata": {
        "id": "PlZbdt4jVKtp"
      },
      "execution_count": null,
      "outputs": []
    },
    {
      "cell_type": "markdown",
      "source": [
        "* `np.argsort(a, axis=axis)` : 배열 `a`를 오름차순 정렬하는  인덱스를 반환\n",
        "\n",
        "위에서 배웠던 `np.argmax`와 마찬가지로 팬시 인덱싱에서 유용하게 사용됩니다. \n",
        "\n",
        "아래와 같이 월별(x) 판매수(y)가 주어졌을 때 판매수 순으로 정렬하고자 합니다. \n",
        "\n",
        "```\n",
        "x = np.array(['1월', '2월', '3월'])\n",
        "y = np.array([500,230,350])\n",
        "sort_idx = np.argsort(y)\n",
        "print(sort_idx)\n",
        "x[sort_idx][::-1] # 팬시 인덱싱\n",
        "```"
      ],
      "metadata": {
        "id": "vtT3s-bP_dOo"
      }
    },
    {
      "cell_type": "code",
      "source": [
        "x = np.array(['1월', '2월', '3월'])\n",
        "y = np.array([500,230,350])\n",
        "sort_idx = np.argsort(y)\n",
        "print(sort_idx) # [1,2,0] 가장 앞에 있는게 가장 적은 수의 index\n",
        "x[sort_idx][::-1] # 팬시 인덱싱"
      ],
      "metadata": {
        "id": "Mt4Bjvj-0KTE",
        "colab": {
          "base_uri": "https://localhost:8080/"
        },
        "outputId": "a02daf2d-7099-440c-e22c-a382b6b8c53d"
      },
      "execution_count": 125,
      "outputs": [
        {
          "output_type": "stream",
          "name": "stdout",
          "text": [
            "[1 2 0]\n"
          ]
        },
        {
          "output_type": "execute_result",
          "data": {
            "text/plain": [
              "array(['1월', '3월', '2월'], dtype='<U2')"
            ]
          },
          "metadata": {},
          "execution_count": 125
        }
      ]
    },
    {
      "cell_type": "markdown",
      "source": [
        "## 문제풀이\n",
        "---"
      ],
      "metadata": {
        "id": "a3jBnhpAdMVe"
      }
    },
    {
      "cell_type": "markdown",
      "metadata": {
        "id": "d9o7kBXoNlE3"
      },
      "source": [
        "**예제 01**\n",
        "\n",
        "아래 그림에 있는 산술연산을 각각 코드로 구현하세요\n",
        "\n",
        "<p align='center'>\n",
        "<img src=https://github.com/yebiny/SkillTreePython-DataAnalysis/blob/main/imgs/ch0105-03.png?raw=true width=400>\n",
        "</p>\n"
      ]
    },
    {
      "cell_type": "code",
      "metadata": {
        "id": "Gwir0bafNlE9",
        "colab": {
          "base_uri": "https://localhost:8080/"
        },
        "outputId": "5646718e-464a-4570-bd70-c53a6c713254"
      },
      "source": [
        "a = np.array([1,2,3])\n",
        "print(a + 2, np.add(a, 2))\n",
        "print(a - 2, np.subtract(a, 2))\n",
        "print(a % 2, np.mod(a, 2))\n",
        "print(a ** 2, np.power(a, 2))"
      ],
      "execution_count": 44,
      "outputs": [
        {
          "output_type": "stream",
          "name": "stdout",
          "text": [
            "[3 4 5] [3 4 5]\n",
            "[-1  0  1] [-1  0  1]\n",
            "[1 0 1] [1 0 1]\n",
            "[1 4 9] [1 4 9]\n"
          ]
        }
      ]
    },
    {
      "cell_type": "markdown",
      "metadata": {
        "id": "9K2SFvwvDWS0"
      },
      "source": [
        "**예제 02**\n",
        "\n",
        "\n",
        "아래는 `sum`의 용례를 그림으로 표현한 것입니다. 각 경우에 대해 코드로 구현하세요.\n",
        "\n",
        "<p align='center'>\n",
        "<img src=https://github.com/yebiny/SkillTreePython-DataAnalysis/blob/main/imgs/ch0105-04.png?raw=true width=460>\n",
        "</p>\n"
      ]
    },
    {
      "cell_type": "code",
      "source": [
        "# aa = np.concatenate([a,a], axis = 1) 이거나 append 로는 원래 1차원이였던 array를 2차원으로 이어붙일 수 없다. \n",
        "aa = np.stack([a,a], axis = 0)"
      ],
      "metadata": {
        "id": "fRmgVemQeXB5",
        "colab": {
          "base_uri": "https://localhost:8080/"
        },
        "outputId": "c1d4cb33-9fdf-421d-aeb6-e3f22f0d42b7"
      },
      "execution_count": 40,
      "outputs": [
        {
          "output_type": "execute_result",
          "data": {
            "text/plain": [
              "array([[1, 2, 3],\n",
              "       [1, 2, 3]])"
            ]
          },
          "metadata": {},
          "execution_count": 40
        }
      ]
    },
    {
      "cell_type": "code",
      "source": [
        "aa1 = np.sum(aa)\n",
        "aa2 = np.sum(aa, axis = 0)\n",
        "aa3 = np.sum(aa, axis = 1)\n",
        "print(aa1) # 전체가 다 더해진다. \n",
        "print(aa2) # axis = 0 축이 하나가된다.  \n",
        "print(aa3) # axis = 1 축이 하나가된다.  "
      ],
      "metadata": {
        "colab": {
          "base_uri": "https://localhost:8080/"
        },
        "id": "SC8DQqMUQrva",
        "outputId": "5c32e19b-a6eb-44c1-f3ab-82974626200f"
      },
      "execution_count": 47,
      "outputs": [
        {
          "output_type": "stream",
          "name": "stdout",
          "text": [
            "12\n",
            "[2 4 6]\n",
            "[6 6]\n"
          ]
        }
      ]
    },
    {
      "cell_type": "markdown",
      "source": [
        "**예제 03**\n",
        "\n",
        "위와 똑같은 방법으로 3가지 경우에 대해 `min()`을 수행하세요"
      ],
      "metadata": {
        "id": "0keO4-KjEApG"
      }
    },
    {
      "cell_type": "code",
      "source": [
        "print(np.min(aa1)) # type이 numpy.int64  \n",
        "print(np.min(aa2)) # type이 numpy.ndarray\n",
        "print(np.min(aa3))"
      ],
      "metadata": {
        "id": "UNDxcRJxsQJn",
        "colab": {
          "base_uri": "https://localhost:8080/"
        },
        "outputId": "efa37dfc-df94-41c0-f21a-514a6c6f5406"
      },
      "execution_count": 58,
      "outputs": [
        {
          "output_type": "stream",
          "name": "stdout",
          "text": [
            "12\n",
            "2\n",
            "6\n"
          ]
        }
      ]
    },
    {
      "cell_type": "markdown",
      "source": [
        "**예제 04**\n",
        "\n",
        "위와 똑같은 방법으로 3가지 경우에 대해 `argmax()`을 수행하세요"
      ],
      "metadata": {
        "id": "4UCGzsZdESAT"
      }
    },
    {
      "cell_type": "code",
      "source": [
        "print(np.argmax(aa1)) # type이 numpy.int64  \n",
        "print(np.argmax(aa2)) \n",
        "print(np.argmax(aa3)) # 가장 빠른 인덱스 return "
      ],
      "metadata": {
        "id": "-wPr1XR4ESAU",
        "colab": {
          "base_uri": "https://localhost:8080/"
        },
        "outputId": "990c1daf-6212-4f44-ea61-075814d9d5c7"
      },
      "execution_count": 60,
      "outputs": [
        {
          "output_type": "stream",
          "name": "stdout",
          "text": [
            "0\n",
            "2\n",
            "0\n"
          ]
        }
      ]
    },
    {
      "cell_type": "markdown",
      "source": [
        "**예제 05**\n",
        "\n",
        "위와 똑같은 방법으로 3가지 경우에 대해 `std()`을 수행하세요"
      ],
      "metadata": {
        "id": "yMPwhGuUEY1v"
      }
    },
    {
      "cell_type": "code",
      "source": [
        "print(np.std(aa1))\n",
        "print(np.std(aa2))\n",
        "print(np.std(aa3))"
      ],
      "metadata": {
        "id": "KKmFZ_BYEY1v",
        "colab": {
          "base_uri": "https://localhost:8080/"
        },
        "outputId": "22cb2584-0bae-443d-c86a-6641b8bb3510"
      },
      "execution_count": 61,
      "outputs": [
        {
          "output_type": "stream",
          "name": "stdout",
          "text": [
            "0.0\n",
            "1.632993161855452\n",
            "0.0\n"
          ]
        }
      ]
    },
    {
      "cell_type": "markdown",
      "metadata": {
        "id": "jWsyyY-4DduJ"
      },
      "source": [
        "**예제 06**\n",
        "\n",
        "아래는 `any`의 용례를 그림으로 표현한 것입니다. 각 경우에 대해 코드로 구현하고, 왜 이런 결과가 나오는지 정리하세요.\n",
        "\n",
        "\n",
        "<p align='center'>\n",
        "<img src=https://github.com/yebiny/SkillTreePython-DataAnalysis/blob/main/imgs/ch0105-05.png?raw=true width=580>\n",
        "</p>\n"
      ]
    },
    {
      "cell_type": "code",
      "source": [
        "print(aa)\n",
        "print(np.any(aa > 2)) # 전체 value 중에서 3이 두개가 있다. True  \n",
        "print(np.any(aa > 2, axis = 0)) # axis = 0 축이 하나가 된다. 결과값의 쉐입 모양이 (1,x), 첫번째 열의 경우 전부 1이기에 False, 다음은 2라서 False, 마지막은 3이라서 True\n",
        "print(np.any(aa > 2, axis = 1)) # axis = 1 축이 하나가 된다. 결과값의 쉐입 모양이 (x,1), 첫번째, 두번째 행의 경우 둘다 1,2,3 을 포함하고 있기에 True, True."
      ],
      "metadata": {
        "id": "sWBmKlwmvzoN",
        "colab": {
          "base_uri": "https://localhost:8080/"
        },
        "outputId": "79832a73-8184-415b-cd3e-f059d1798929"
      },
      "execution_count": 69,
      "outputs": [
        {
          "output_type": "stream",
          "name": "stdout",
          "text": [
            "[[1 2 3]\n",
            " [1 2 3]]\n",
            "True\n",
            "[False False  True]\n",
            "[ True  True]\n"
          ]
        }
      ]
    },
    {
      "cell_type": "markdown",
      "source": [
        "**예제 07**\n",
        "\n",
        "위와 똑같은 방법으로 3가지 경우에 대해 `all()`을 수행하고, 왜 이런 결과가 나오는지 정리하세요."
      ],
      "metadata": {
        "id": "mwnQPVUNE1h1"
      }
    },
    {
      "cell_type": "code",
      "metadata": {
        "id": "VKgUxqoFE1h2",
        "colab": {
          "base_uri": "https://localhost:8080/"
        },
        "outputId": "8fd0a92b-f4e4-4a9c-e60b-ef2245f1c4c1"
      },
      "source": [
        "print(aa)\n",
        "print(np.all(aa > 2)) # 모든 값이 2 초과가 아니기에 False\n",
        "print(np.all(aa > 2, axis = 0)) # 결과값의 쉐입 모양이 (1,x) 된다고 했을 때 False, False, True가 된다. ([1,2,3]이 되기에)\n",
        "print(np.all(aa > 2, axis = 1)) # 결과값의 쉐입 모양이 (x,1) 된다고 했을 때, 각 행이 1,2,3 을 모두 포함하고 있기에 False, False가 된다. "
      ],
      "execution_count": 70,
      "outputs": [
        {
          "output_type": "stream",
          "name": "stdout",
          "text": [
            "[[1 2 3]\n",
            " [1 2 3]]\n",
            "False\n",
            "[False False  True]\n",
            "[False False]\n"
          ]
        }
      ]
    },
    {
      "cell_type": "markdown",
      "metadata": {
        "id": "2IBubqt7Dk7s"
      },
      "source": [
        "**예제 08**\n",
        "\n",
        "\n",
        "1에서 100까지의 랜덤값을 가지고 형태가 `(40)` 인 1차원 배열을 `a08`로 바인딩하세요"
      ]
    },
    {
      "cell_type": "code",
      "metadata": {
        "id": "xiwGmZftDk7t",
        "colab": {
          "base_uri": "https://localhost:8080/"
        },
        "outputId": "c03227df-fc15-493a-b6af-88ba3dae9207"
      },
      "source": [
        "a08 = np.random.randint(1,101, (40,))\n",
        "a08"
      ],
      "execution_count": 72,
      "outputs": [
        {
          "output_type": "execute_result",
          "data": {
            "text/plain": [
              "array([100,  24,   3,  22,  53,   2,  88,  30,  38,   2,  64,  60,  21,\n",
              "        33,  76,  58,  22,  89,  49,  91,  59,  42,  92,  60,  80,  15,\n",
              "        62,  62,  47,  62,  51,  55,  64,   3,  51,   7,  21,  73,  39,\n",
              "        18])"
            ]
          },
          "metadata": {},
          "execution_count": 72
        }
      ]
    },
    {
      "cell_type": "markdown",
      "source": [
        "**예제 09**\n",
        "\n",
        "`a08`에서 50보다 큰 수만 가지는 배열을 불리언 연산자를 이용해서 생성하세요."
      ],
      "metadata": {
        "id": "AV6YotDEFht1"
      }
    },
    {
      "cell_type": "code",
      "metadata": {
        "id": "QfmEyuClFht1",
        "colab": {
          "base_uri": "https://localhost:8080/"
        },
        "outputId": "0011378d-eac4-40f0-9432-68f9b7030965"
      },
      "source": [
        "a08[a08 > 50]"
      ],
      "execution_count": 73,
      "outputs": [
        {
          "output_type": "execute_result",
          "data": {
            "text/plain": [
              "array([100,  53,  88,  64,  60,  76,  58,  89,  91,  59,  92,  60,  80,\n",
              "        62,  62,  62,  51,  55,  64,  51,  73])"
            ]
          },
          "metadata": {},
          "execution_count": 73
        }
      ]
    },
    {
      "cell_type": "markdown",
      "source": [
        "**예제 10**\n",
        "\n",
        "`a08`에서 50 이하이며 3의 배수만 가지는 배열을 불리언 연산자를 이용해 생성하세요"
      ],
      "metadata": {
        "id": "15JxLUfIFvhb"
      }
    },
    {
      "cell_type": "code",
      "metadata": {
        "id": "dohpkasaFvhc",
        "colab": {
          "base_uri": "https://localhost:8080/"
        },
        "outputId": "1d72fc73-b698-4aa6-d379-278c642d4c2f"
      },
      "source": [
        "mask1 = 50 >= a08\n",
        "mask2 = a08%3 ==0\n",
        "print(mask1)\n",
        "print(mask2)\n",
        "mask = mask1 & mask2 # (and는 안된다)\n",
        "a08[mask]\n"
      ],
      "execution_count": 83,
      "outputs": [
        {
          "output_type": "stream",
          "name": "stdout",
          "text": [
            "[False  True  True  True False  True False  True  True  True False False\n",
            "  True  True False False  True False  True False False  True False False\n",
            " False  True False False  True False False False False  True False  True\n",
            "  True False  True  True]\n",
            "[False  True  True False False False False  True False False False  True\n",
            "  True  True False False False False False False False  True False  True\n",
            " False  True False False False False  True False False  True  True False\n",
            "  True False  True  True]\n"
          ]
        },
        {
          "output_type": "execute_result",
          "data": {
            "text/plain": [
              "array([24,  3, 30, 21, 33, 42, 15,  3, 21, 39, 18])"
            ]
          },
          "metadata": {},
          "execution_count": 83
        }
      ]
    },
    {
      "cell_type": "markdown",
      "source": [
        "**예제 11**\n",
        "\n",
        "`a08`에서 90이상이거나 10이하인 수만 가지는 배열을 불리언 연산자를 이용해 생성하세요"
      ],
      "metadata": {
        "id": "cfPWmy9QGPon"
      }
    },
    {
      "cell_type": "code",
      "metadata": {
        "id": "BV55x0xiGPoo",
        "colab": {
          "base_uri": "https://localhost:8080/"
        },
        "outputId": "b0700318-4420-4dd4-f7b8-0b9dcdc5591a"
      },
      "source": [
        "mask1 = a08 >= 90\n",
        "mask2 = a08 <=10\n",
        "mask = mask1 | mask2\n",
        "print(a08[mask])"
      ],
      "execution_count": 87,
      "outputs": [
        {
          "output_type": "stream",
          "name": "stdout",
          "text": [
            "[100   3   2   2  91  92   3   7]\n"
          ]
        }
      ]
    },
    {
      "cell_type": "markdown",
      "source": [
        "**예제 12**\n",
        "\n",
        "\n",
        "`a08`을 shape가 `(8,5)`인 2차원 배열로 변환하고 `a12`로 바인딩 하세요."
      ],
      "metadata": {
        "id": "K0xYrJgYGbDf"
      }
    },
    {
      "cell_type": "code",
      "metadata": {
        "id": "ITvXZBHaGbDf",
        "colab": {
          "base_uri": "https://localhost:8080/"
        },
        "outputId": "8ad0d0a5-09ce-4ff9-ec19-20b66c3d5db3"
      },
      "source": [
        "a12 = a08.reshape(8,5)\n",
        "a12"
      ],
      "execution_count": 89,
      "outputs": [
        {
          "output_type": "execute_result",
          "data": {
            "text/plain": [
              "array([[100,  24,   3,  22,  53],\n",
              "       [  2,  88,  30,  38,   2],\n",
              "       [ 64,  60,  21,  33,  76],\n",
              "       [ 58,  22,  89,  49,  91],\n",
              "       [ 59,  42,  92,  60,  80],\n",
              "       [ 15,  62,  62,  47,  62],\n",
              "       [ 51,  55,  64,   3,  51],\n",
              "       [  7,  21,  73,  39,  18]])"
            ]
          },
          "metadata": {},
          "execution_count": 89
        }
      ]
    },
    {
      "cell_type": "markdown",
      "source": [
        "**예제 13**\n",
        "\n",
        "\n",
        "`a12`를 복사하여 `a13`으로 바인딩하고 이를 각 행 별로 정렬하세요"
      ],
      "metadata": {
        "id": "1tuYynxRGoiU"
      }
    },
    {
      "cell_type": "code",
      "metadata": {
        "id": "v33_n2dtGoiV",
        "colab": {
          "base_uri": "https://localhost:8080/"
        },
        "outputId": "8d90c6d8-46df-4d1b-8b82-43ed9a8bacd7"
      },
      "source": [
        "a13 = a12.copy()\n",
        "print(a12)\n",
        "print(a13)\n",
        "np.sort(a13,  axis = 1 )"
      ],
      "execution_count": 91,
      "outputs": [
        {
          "output_type": "stream",
          "name": "stdout",
          "text": [
            "[[100  24   3  22  53]\n",
            " [  2  88  30  38   2]\n",
            " [ 64  60  21  33  76]\n",
            " [ 58  22  89  49  91]\n",
            " [ 59  42  92  60  80]\n",
            " [ 15  62  62  47  62]\n",
            " [ 51  55  64   3  51]\n",
            " [  7  21  73  39  18]]\n",
            "[[100  24   3  22  53]\n",
            " [  2  88  30  38   2]\n",
            " [ 64  60  21  33  76]\n",
            " [ 58  22  89  49  91]\n",
            " [ 59  42  92  60  80]\n",
            " [ 15  62  62  47  62]\n",
            " [ 51  55  64   3  51]\n",
            " [  7  21  73  39  18]]\n"
          ]
        },
        {
          "output_type": "execute_result",
          "data": {
            "text/plain": [
              "array([[  3,  22,  24,  53, 100],\n",
              "       [  2,   2,  30,  38,  88],\n",
              "       [ 21,  33,  60,  64,  76],\n",
              "       [ 22,  49,  58,  89,  91],\n",
              "       [ 42,  59,  60,  80,  92],\n",
              "       [ 15,  47,  62,  62,  62],\n",
              "       [  3,  51,  51,  55,  64],\n",
              "       [  7,  18,  21,  39,  73]])"
            ]
          },
          "metadata": {},
          "execution_count": 91
        }
      ]
    },
    {
      "cell_type": "markdown",
      "source": [
        "**예제 14**\n",
        "\n",
        "\n",
        "`a12`를 복사하여 `a14`로 바인딩하고 각 열 별로 가장 작은수 3개를 찾으세요"
      ],
      "metadata": {
        "id": "3U84dpF0GtvC"
      }
    },
    {
      "cell_type": "code",
      "metadata": {
        "id": "IFBK4giEGtvC",
        "colab": {
          "base_uri": "https://localhost:8080/"
        },
        "outputId": "ebac0e20-193c-48a4-9842-49f44761bb28"
      },
      "source": [
        "a14 = a12.copy()\n",
        "\n",
        "print(np.sort(a14, axis = 0)[:3])\n"
      ],
      "execution_count": 124,
      "outputs": [
        {
          "output_type": "stream",
          "name": "stdout",
          "text": [
            "[[ 2 21  3  3  2]\n",
            " [ 7 22 21 22 18]\n",
            " [15 24 30 33 51]]\n"
          ]
        }
      ]
    },
    {
      "cell_type": "code",
      "source": [
        "np.partition()"
      ],
      "metadata": {
        "id": "icXelyVQgGnw"
      },
      "execution_count": null,
      "outputs": []
    },
    {
      "cell_type": "markdown",
      "source": [
        "$A$, $B$, $C$를 아래와 같이 정의하세요.\n",
        "\n",
        "\\begin{align*}\n",
        " A&= \n",
        "\\begin{pmatrix}\n",
        "1 &2  &1 \\\\ \n",
        "2 &1 & 1\\\\ \n",
        "-1 & 0 & 1\n",
        "\\end{pmatrix}\n",
        "\\end{align*}\n",
        "\n",
        "\\begin{align*}\n",
        " B&= \n",
        "\\begin{pmatrix}\n",
        "1 &0 \\\\ \n",
        "0 &1 \\\\ \n",
        "1 & 0 \n",
        "\\end{pmatrix}\n",
        "\\end{align*}\n",
        "\n",
        "\\begin{align*}\n",
        " C&= \n",
        "\\begin{pmatrix}\n",
        "1 \\\\ \n",
        "0  \\\\ \n",
        "-1  \n",
        "\\end{pmatrix}\n",
        "\\end{align*}\n",
        "\n"
      ],
      "metadata": {
        "id": "tEodss9KIfy_"
      }
    },
    {
      "cell_type": "code",
      "source": [
        "A = np.array([[1,2,1],[2,1,1],[-1,0,1]])\n",
        "B = np.array([[1,0],[0,1],[1,0]])\n",
        "C = np.array([[1],[0],[-1]])\n",
        "print(A)\n",
        "print(B)\n",
        "print(C)"
      ],
      "metadata": {
        "id": "lfugPiWZoN60",
        "colab": {
          "base_uri": "https://localhost:8080/"
        },
        "outputId": "641d3992-4b6f-47d9-ff12-2870b11ada96"
      },
      "execution_count": 100,
      "outputs": [
        {
          "output_type": "stream",
          "name": "stdout",
          "text": [
            "[[ 1  2  1]\n",
            " [ 2  1  1]\n",
            " [-1  0  1]]\n",
            "[[1 0]\n",
            " [0 1]\n",
            " [1 0]]\n",
            "[[ 1]\n",
            " [ 0]\n",
            " [-1]]\n"
          ]
        }
      ]
    },
    {
      "cell_type": "markdown",
      "source": [
        "**예제 15**\n",
        "\n",
        "\n",
        "$A$, $B$ 의 행렬곱"
      ],
      "metadata": {
        "id": "uLmADn5RJpM-"
      }
    },
    {
      "cell_type": "code",
      "metadata": {
        "id": "6y-Dpcf1JpNI",
        "colab": {
          "base_uri": "https://localhost:8080/"
        },
        "outputId": "9ad9ae78-be28-492d-b496-83a96d560e77"
      },
      "source": [
        "A@B"
      ],
      "execution_count": 101,
      "outputs": [
        {
          "output_type": "execute_result",
          "data": {
            "text/plain": [
              "array([[2, 2],\n",
              "       [3, 1],\n",
              "       [0, 0]])"
            ]
          },
          "metadata": {},
          "execution_count": 101
        }
      ]
    },
    {
      "cell_type": "markdown",
      "source": [
        "**예제 16**\n",
        "\n",
        "\n",
        "$A$, $C$ 의 행렬곱"
      ],
      "metadata": {
        "id": "OeS66T5ZJ4He"
      }
    },
    {
      "cell_type": "code",
      "metadata": {
        "id": "S_sKPQnNJ4Hf",
        "colab": {
          "base_uri": "https://localhost:8080/"
        },
        "outputId": "fda40900-9c4e-42a3-f3b4-14bbce5e4878"
      },
      "source": [
        "A@C"
      ],
      "execution_count": 102,
      "outputs": [
        {
          "output_type": "execute_result",
          "data": {
            "text/plain": [
              "array([[ 0],\n",
              "       [ 1],\n",
              "       [-2]])"
            ]
          },
          "metadata": {},
          "execution_count": 102
        }
      ]
    },
    {
      "cell_type": "markdown",
      "source": [
        "**예제 17**\n",
        "\n",
        "\n",
        "$A * C$"
      ],
      "metadata": {
        "id": "QAJw9V1JKSk5"
      }
    },
    {
      "cell_type": "code",
      "metadata": {
        "id": "PvIutUcLKSk6",
        "colab": {
          "base_uri": "https://localhost:8080/"
        },
        "outputId": "ed4d465e-8932-4dd1-ee3f-000c4687adaf"
      },
      "source": [
        " A * C"
      ],
      "execution_count": 103,
      "outputs": [
        {
          "output_type": "execute_result",
          "data": {
            "text/plain": [
              "array([[ 1,  2,  1],\n",
              "       [ 0,  0,  0],\n",
              "       [ 1,  0, -1]])"
            ]
          },
          "metadata": {},
          "execution_count": 103
        }
      ]
    },
    {
      "cell_type": "markdown",
      "source": [
        "**예제 18**\n",
        "\n",
        "\n",
        "$B$와 $B^T$의 내적"
      ],
      "metadata": {
        "id": "OVD8v-qCJ-rv"
      }
    },
    {
      "cell_type": "code",
      "source": [
        "print(B)\n",
        "print(B.T)"
      ],
      "metadata": {
        "colab": {
          "base_uri": "https://localhost:8080/"
        },
        "id": "Qu0fPlFmfUUx",
        "outputId": "08c5ad21-4576-44d1-b1d0-fdc6dd17eff2"
      },
      "execution_count": 105,
      "outputs": [
        {
          "output_type": "stream",
          "name": "stdout",
          "text": [
            "[[1 0]\n",
            " [0 1]\n",
            " [1 0]]\n",
            "[[1 0 1]\n",
            " [0 1 0]]\n"
          ]
        }
      ]
    },
    {
      "cell_type": "code",
      "metadata": {
        "id": "9trfMVWJJ-rv",
        "colab": {
          "base_uri": "https://localhost:8080/"
        },
        "outputId": "ad30a6ba-ca25-41f4-8c60-2c6a0664fa03"
      },
      "source": [
        "np.dot(B, B.T)"
      ],
      "execution_count": 104,
      "outputs": [
        {
          "output_type": "execute_result",
          "data": {
            "text/plain": [
              "array([[1, 0, 1],\n",
              "       [0, 1, 0],\n",
              "       [1, 0, 1]])"
            ]
          },
          "metadata": {},
          "execution_count": 104
        }
      ]
    },
    {
      "cell_type": "markdown",
      "source": [
        "\n",
        "20명의 학생의 번호와, 키와, 수행평가 점수가 아래와 같이 정의 되어 있습니다. \n",
        "\n",
        "```\n",
        "idx = [1,2,3,4,5,6,7,8,9,10,11,12,13,14,15,16,17,18,19,20]\n",
        "tall = [178, 171, 179, 173, 152, 157, 175, 180, 182, 165, 160, 164, 174, 163, 158, 159, 172, 155, 177, 162]\n",
        "score = [57, 64, 85, 30, 58, 72, 84, 63, 49, 94, 70, 54, 60, 68, 74, 78, 92, 86, 51, 37]\n",
        "```\n"
      ],
      "metadata": {
        "id": "iMnix5w9psKz"
      }
    },
    {
      "cell_type": "code",
      "source": [
        "idx = np.array([1,2,3,4,5,6,7,8,9,10,11,12,13,14,15,16,17,18,19,20])\n",
        "tall = np.array([178, 171, 179, 173, 152, 157, 175, 180, 182, 165, 160, 164, 174, 163, 158, 159, 172, 155, 177, 162])\n",
        "score = np.array([57, 64, 85, 30, 58, 72, 84, 63, 49, 94, 70, 54, 60, 68, 74, 78, 92, 86, 51, 37])"
      ],
      "metadata": {
        "id": "D0i699xups-x"
      },
      "execution_count": 134,
      "outputs": []
    },
    {
      "cell_type": "markdown",
      "source": [
        "**예제 19**\n",
        "\n",
        "키가 큰 순으로 학생들의 번호(idx)를 정렬하세요.\n",
        "\n"
      ],
      "metadata": {
        "id": "c5tYq2nKol3P"
      }
    },
    {
      "cell_type": "code",
      "metadata": {
        "id": "9kJ5nVO0ol3W",
        "colab": {
          "base_uri": "https://localhost:8080/"
        },
        "outputId": "096d8937-fe43-4be5-88b2-821bc38bd195"
      },
      "source": [
        "order_tall = np.argsort(tall)\n",
        "print(order_tall)\n",
        "print(idx[order_tall][::-1])"
      ],
      "execution_count": 139,
      "outputs": [
        {
          "output_type": "stream",
          "name": "stdout",
          "text": [
            "[ 4 17  5 14 15 10 19 13 11  9  1 16  3 12  6 18  0  2  7  8]\n",
            "[ 9  8  3  1 19  7 13  4 17  2 10 12 14 20 11 16 15  6 18  5]\n"
          ]
        }
      ]
    },
    {
      "cell_type": "markdown",
      "source": [
        "**예제 20**\n",
        "\n",
        "수행평가 점수가 낮은 순으로 학생들의 번호(idx)를 정렬하세요.\n"
      ],
      "metadata": {
        "id": "zUs8t2AipxEp"
      }
    },
    {
      "cell_type": "code",
      "metadata": {
        "id": "9Kl8UyflpxEq",
        "colab": {
          "base_uri": "https://localhost:8080/"
        },
        "outputId": "81974eb3-7a2f-4d03-caf0-9e1ae2031c91"
      },
      "source": [
        "order_score = np.argsort(score)\n",
        "print(order_score)\n",
        "print(idx[order_score])"
      ],
      "execution_count": 137,
      "outputs": [
        {
          "output_type": "stream",
          "name": "stdout",
          "text": [
            "[ 3 19  8 18 11  0  4 12  7  1 13 10  5 14 15  6  2 17 16  9]\n",
            "[ 4 20  9 19 12  1  5 13  8  2 14 11  6 15 16  7  3 18 17 10]\n"
          ]
        }
      ]
    }
  ]
}