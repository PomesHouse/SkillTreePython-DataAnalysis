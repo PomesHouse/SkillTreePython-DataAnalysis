{
  "nbformat": 4,
  "nbformat_minor": 0,
  "metadata": {
    "colab": {
      "name": "03_NumPy-배열의값다루기.ipynb",
      "provenance": [],
      "collapsed_sections": [],
      "include_colab_link": true
    },
    "kernelspec": {
      "name": "python3",
      "display_name": "Python 3"
    },
    "language_info": {
      "name": "python"
    }
  },
  "cells": [
    {
      "cell_type": "markdown",
      "metadata": {
        "id": "view-in-github",
        "colab_type": "text"
      },
      "source": [
        "<a href=\"https://colab.research.google.com/github/PomesHouse/SkillTreePython-DataAnalysis/blob/main/03_NumPy_%EB%B0%B0%EC%97%B4%EC%9D%98%EA%B0%92%EB%8B%A4%EB%A3%A8%EA%B8%B0.ipynb\" target=\"_parent\"><img src=\"https://colab.research.google.com/assets/colab-badge.svg\" alt=\"Open In Colab\"/></a>"
      ]
    },
    {
      "cell_type": "markdown",
      "metadata": {
        "id": "jgFAOz-Tw1VI"
      },
      "source": [
        "# CH03. Numpy  - 배열의 값 다루기\n",
        "\n",
        "---\n",
        "* 날짜:\n",
        "* 이름:\n"
      ]
    },
    {
      "cell_type": "markdown",
      "source": [
        "## 개념정리\n",
        "\n",
        "앞서 우리는 배열을 생성하는 다양한 방법을 배웠습니다. 이번시간에 이렇게 생성한 배열의 값을 조회(인덱싱, 슬리아싱) 하고 값을 변경(수정, 삭제) 하는 방법에 대해 알아보도록 합니다. \n",
        "\n",
        "\n",
        "```\n",
        "import numpy as np\n",
        "```\n",
        "\n",
        "\n"
      ],
      "metadata": {
        "id": "_3uSBF40BdCd"
      }
    },
    {
      "cell_type": "code",
      "source": [
        "import numpy as np"
      ],
      "metadata": {
        "id": "3IDspyuAtqd7"
      },
      "execution_count": 1,
      "outputs": []
    },
    {
      "cell_type": "markdown",
      "metadata": {
        "id": "HjPXsM8C5ULZ"
      },
      "source": [
        "---\n",
        "### **(1) 배열 조회**\n",
        "---\n",
        "\n",
        "기본적인 배열의 정보를 아래 메서드를 이용해 확인할 수 있습니다. \n",
        "\n",
        "\n",
        "* `.ndim`: 차원의 수\n",
        "* `.shape`: 형태\n",
        "* `.dtype`: element 타입\n",
        "* `.size`: element 총 개수\n",
        "* `.itemsize`: 메모리 사이즈 (byte)\n",
        "* `.nbytes`: `size`*`itemsize`\n",
        "\n",
        "```\n",
        "a = np.arange(10)\n",
        "print(a)\n",
        "print(a.ndim) # 차원의 수\n",
        "print(a.shape) # 형태\n",
        "print(a.dtype) # element 타입\n",
        "print(a.size) # element 총 개수\n",
        "print(a.itemsize) # 메모리 사이즈\n",
        "print(a.nbytes) # 메모리 사이즈 * element 총 개수\n",
        "```"
      ]
    },
    {
      "cell_type": "code",
      "source": [
        "a = np.zeros((10,1)) #이거 1차원이 아니라 2차원이다\n",
        "print(a)\n",
        "print(a.ndim) # 차원의 수\n",
        "print(a.shape) # 형태\n",
        "print(a.dtype) # element 타입\n",
        "print(a.size) # element 총 개수\n",
        "print(a.itemsize) # 메모리 사이즈\n",
        "print(a.nbytes) # 메모리 사이즈 * element 총 개수"
      ],
      "metadata": {
        "id": "_dSqxyxUk44g",
        "colab": {
          "base_uri": "https://localhost:8080/"
        },
        "outputId": "abc2d7b2-4fcf-40b9-f3b8-f549f9e056b3"
      },
      "execution_count": 3,
      "outputs": [
        {
          "output_type": "stream",
          "name": "stdout",
          "text": [
            "[[0.]\n",
            " [0.]\n",
            " [0.]\n",
            " [0.]\n",
            " [0.]\n",
            " [0.]\n",
            " [0.]\n",
            " [0.]\n",
            " [0.]\n",
            " [0.]]\n",
            "2\n",
            "(10, 1)\n",
            "float64\n",
            "10\n",
            "8\n",
            "80\n"
          ]
        }
      ]
    },
    {
      "cell_type": "markdown",
      "source": [
        "#### **| 인덱싱**\n",
        "\n",
        "배열의 인덱싱은 기본적으로 파이썬 리스트와 동일합니다. 다만 넘파이 배열에서는 차원에 대한 인덱싱을 콤마(,)를 이용합니다.\n",
        "\n",
        "아래와 같이 리스트 `l`과 배열 `a`가 주어 졌을 때 데이터 `2`를 출력해 봅시다.\n",
        "\n",
        "배열을 사용할 땐 보통 `a[0,1]` 과 같이 각 차원에 대해 콤마(`,`)로 구분합니다. \n",
        "\n",
        "```\n",
        "l = [[1,2,3],[4,5,6]]\n",
        "a = np.array(l)\n",
        "print(a)\n",
        "\n",
        "l[0][1], a[0][1], a[0,1]\n",
        "```"
      ],
      "metadata": {
        "id": "NQ_GbYiXLN2i"
      }
    },
    {
      "cell_type": "code",
      "source": [
        "l = [[1,2,3],[4,5,6]]\n",
        "a = np.array(l)\n",
        "print(a)\n",
        "\n",
        "l[0][1], a[0][1], a[0,1]\n"
      ],
      "metadata": {
        "id": "XzFGRGdoj7jD",
        "colab": {
          "base_uri": "https://localhost:8080/"
        },
        "outputId": "94d3f29a-8afd-4a8d-ed13-e4e3544d9a8f"
      },
      "execution_count": 5,
      "outputs": [
        {
          "output_type": "stream",
          "name": "stdout",
          "text": [
            "[[1 2 3]\n",
            " [4 5 6]]\n"
          ]
        },
        {
          "output_type": "execute_result",
          "data": {
            "text/plain": [
              "array([[1, 2, 3],\n",
              "       [4, 5, 6]])"
            ]
          },
          "metadata": {},
          "execution_count": 5
        }
      ]
    },
    {
      "cell_type": "markdown",
      "source": [
        "#### **| 슬라이싱**\n",
        "\n",
        "슬라이싱 또한 기본적으로 파이썬 리스트와 동일하며 다른점은 콤마(,)를 이용한다는 것입니다. \n",
        "\n",
        "우선 슬라이싱을 이용해 리스트 `l`에서 리스트 `[[1,2],[4,5]]`을 출력해 봅시다.\n",
        "\n",
        "```\n",
        "?\n",
        "```\n",
        "\n"
      ],
      "metadata": {
        "id": "hoFFULJRj8mU"
      }
    },
    {
      "cell_type": "code",
      "source": [
        "# 리스트로는 불가능 "
      ],
      "metadata": {
        "id": "dYLhCvEqj8mV",
        "colab": {
          "base_uri": "https://localhost:8080/"
        },
        "outputId": "5ee6e0e1-9e50-4796-b114-6e9a1a0e9687"
      },
      "execution_count": 10,
      "outputs": [
        {
          "output_type": "execute_result",
          "data": {
            "text/plain": [
              "array([[1, 2, 3]])"
            ]
          },
          "metadata": {},
          "execution_count": 10
        }
      ]
    },
    {
      "cell_type": "markdown",
      "source": [
        "이번엔 배열 `a`에서 배열 `[[1,2],[4,5]]`을 출력해 봅시다. "
      ],
      "metadata": {
        "id": "oVZRxzcyoWsD"
      }
    },
    {
      "cell_type": "code",
      "source": [
        "a[:,:2]"
      ],
      "metadata": {
        "id": "S64FExzsoBBg",
        "colab": {
          "base_uri": "https://localhost:8080/"
        },
        "outputId": "55bba3c6-5c52-433f-ce98-b60a0e3877a3"
      },
      "execution_count": 15,
      "outputs": [
        {
          "output_type": "execute_result",
          "data": {
            "text/plain": [
              "array([[1, 2, 3],\n",
              "       [4, 5, 6]])"
            ]
          },
          "metadata": {},
          "execution_count": 15
        }
      ]
    },
    {
      "cell_type": "markdown",
      "source": [
        "이처럼 리스트에서는 제한적인 슬라이싱을 넘파이 배열을 통해서는 자유롭게 슬라이싱이 가능합니다. "
      ],
      "metadata": {
        "id": "BJPqOH9FooVQ"
      }
    },
    {
      "cell_type": "markdown",
      "source": [
        "#### **| 연습문제**\n",
        "\n",
        "연습을 위해 아래 그림과 같은 2차원 배열을 생성하고 `a2`로 바인딩 하세요.\n",
        "\n",
        "<p align='center'>\n",
        "<img src=https://github.com/yebiny/SkillTreePython-DataAnalysis/blob/main/imgs/ch0103-01.png?raw=true width=240>\n",
        "</p>\n",
        "\n",
        "```\n",
        "a2 = np.arange(1, 26).reshape(5,5)\n",
        "```"
      ],
      "metadata": {
        "id": "hzWZ5G7mo2PR"
      }
    },
    {
      "cell_type": "code",
      "source": [
        "a2 = np.arange(1,26).reshape(5,5)\n",
        "a2"
      ],
      "metadata": {
        "id": "peNsBPQcrggt",
        "colab": {
          "base_uri": "https://localhost:8080/"
        },
        "outputId": "c29e643d-8f9b-4343-e0ab-905a2607eedb"
      },
      "execution_count": 18,
      "outputs": [
        {
          "output_type": "execute_result",
          "data": {
            "text/plain": [
              "array([[ 1,  2,  3,  4,  5],\n",
              "       [ 6,  7,  8,  9, 10],\n",
              "       [11, 12, 13, 14, 15],\n",
              "       [16, 17, 18, 19, 20],\n",
              "       [21, 22, 23, 24, 25]])"
            ]
          },
          "metadata": {},
          "execution_count": 18
        }
      ]
    },
    {
      "cell_type": "markdown",
      "source": [
        "**연습 01**\n",
        "\n",
        "인덱싱을 이용해 `a2`의 4, 13, 25를 각각 출력하세요. \n"
      ],
      "metadata": {
        "id": "ey_R7ZgXnHdp"
      }
    },
    {
      "cell_type": "code",
      "source": [
        "print(a2[0,3])\n",
        "print(a2[2,2])\n",
        "print(a2[4,4])\n",
        "print(a2[(0,2,4),(3,2,4)])"
      ],
      "metadata": {
        "id": "XUKKRTSJAsMa",
        "colab": {
          "base_uri": "https://localhost:8080/"
        },
        "outputId": "ba1cd200-f1a7-40d0-baf4-1dd6d1d93353"
      },
      "execution_count": 25,
      "outputs": [
        {
          "output_type": "stream",
          "name": "stdout",
          "text": [
            "4\n",
            "13\n",
            "25\n",
            "[ 4 13 25]\n"
          ]
        }
      ]
    },
    {
      "cell_type": "markdown",
      "source": [
        "**연습 02**\n",
        "\n",
        "슬라이싱을 이용해 파란색 값으로 이루어진 배열을 출력하세요.\n",
        "\n",
        "<p align='center'>\n",
        "<img src=https://github.com/yebiny/SkillTreePython-DataAnalysis/blob/main/imgs/ch0103-02.png?raw=true width=240>\n",
        "</p>\n"
      ],
      "metadata": {
        "id": "osSECfAyqBln"
      }
    },
    {
      "cell_type": "code",
      "source": [
        "print(a2[1:,1])"
      ],
      "metadata": {
        "id": "4f6g4MUhqBlu",
        "colab": {
          "base_uri": "https://localhost:8080/"
        },
        "outputId": "ce44f978-b2fe-43f6-99f3-ec39f3a16c9e"
      },
      "execution_count": 20,
      "outputs": [
        {
          "output_type": "stream",
          "name": "stdout",
          "text": [
            "[ 7 12 17 22]\n"
          ]
        }
      ]
    },
    {
      "cell_type": "markdown",
      "source": [
        "**연습 03**\n",
        "\n",
        "슬라이싱을 이용해 파란색 값으로 이루어진 배열을 출력하세요.\n",
        "\n",
        "<p align='center'>\n",
        "<img src=https://github.com/yebiny/SkillTreePython-DataAnalysis/blob/main/imgs/ch0103-03.png?raw=true width=240>\n",
        "</p>\n"
      ],
      "metadata": {
        "id": "5frFtw8dqJth"
      }
    },
    {
      "cell_type": "code",
      "source": [
        "print(a2[1:4,1:4])"
      ],
      "metadata": {
        "id": "VrPumy5wqJth",
        "colab": {
          "base_uri": "https://localhost:8080/"
        },
        "outputId": "874291a2-b78c-4bc0-e4fe-288b16de3938"
      },
      "execution_count": 27,
      "outputs": [
        {
          "output_type": "stream",
          "name": "stdout",
          "text": [
            "[[ 7  8  9]\n",
            " [12 13 14]\n",
            " [17 18 19]]\n"
          ]
        }
      ]
    },
    {
      "cell_type": "markdown",
      "source": [
        "---\n",
        "### **(2) 다양한 인덱싱**\n",
        "---\n"
      ],
      "metadata": {
        "id": "CrNPIU4P7gb4"
      }
    },
    {
      "cell_type": "markdown",
      "source": [
        "#### **| 팬시 인덱싱(Fancy indexing)**\n",
        "\n",
        "아래그림과 같이 `a2`의 대각선 값인 `[1,7,13,19,25]`만 슬라이싱 하려면 어떻게 할까요? 이 경우 인덱스가 이어져 있지 않기 때문에 위에서 배운 방법만으로는 어렵습니다. \n",
        "\n",
        "<p align='center'>\n",
        "<img src=https://github.com/yebiny/SkillTreePython-DataAnalysis/blob/main/imgs/ch0103-04.png?raw=true width=240>\n",
        "</p>\n",
        "\n",
        "\n",
        "이럴 때 유용하게 사용할 수 있는게 팬시 인덱싱 입니다. 팬시 인덱싱은 배열 값의 선택 여부를 인덱스로 지정합니다. \n",
        "\n",
        "\n",
        "```\n",
        "a2[(0,1,2,3,4),(0,1,2,3,4)]\n",
        "```\n",
        "위 코드는 행, 열로 바꿔 생각하면 `(0,0)`, `(1,1)`, `(2,2)`, `(3,3)`, `(4,4)` 위치에 있는 값들을 인덱싱 한것과 동일합니다. \n"
      ],
      "metadata": {
        "id": "2DTdJiChrkHg"
      }
    },
    {
      "cell_type": "code",
      "source": [
        "a2[(0,1,2,3,4),(0,1,2,3,4)]"
      ],
      "metadata": {
        "id": "R6XxUzsPrkHh",
        "colab": {
          "base_uri": "https://localhost:8080/"
        },
        "outputId": "2d98c888-8d74-4b62-d13a-dbbf45e29c29"
      },
      "execution_count": 28,
      "outputs": [
        {
          "output_type": "execute_result",
          "data": {
            "text/plain": [
              "array([ 1,  7, 13, 19, 25])"
            ]
          },
          "metadata": {},
          "execution_count": 28
        }
      ]
    },
    {
      "cell_type": "markdown",
      "source": [
        "#### **| 불리언 인덱싱(Fancy indexing)**\n",
        "\n",
        "불리언 인덱싱은 배열 값의 선택 여부를 불리언(boolian) 을 이용해 지정합니다. 불리언 인덱싱을 사용하기 위해서는 인덱스 할 배열과 똑같은 크기에 `True`혹은 `False` 값만 들어있는 배열이 필요합니다. \n",
        "\n",
        "따라서 위에서 처럼 대각값을 슬라이싱 하기 위해서는 아래와 같은 작업이 필요합니다. \n",
        "\n",
        "```\n",
        "mask  = np.array([[True, False, False, False, False,],\n",
        "                [False, True, False, False, False,],\n",
        "                [False, False, True, False, False,],\n",
        "                [False, False, False, True, False,],\n",
        "                [False, False, False, False, True,]])\n",
        "\n",
        "mask  = np.array([[1,0,0,0,0],\n",
        "                 [0,1,0,0,0],\n",
        "                 [0,0,1,0,0],\n",
        "                 [0,0,0,1,0],\n",
        "                 [0,0,0,0,1]], dtype=bool)\n",
        "print(mask)\n",
        "\n",
        "a2[mask]\n",
        "```\n"
      ],
      "metadata": {
        "id": "fl73JgeJrrwQ"
      }
    },
    {
      "cell_type": "code",
      "source": [
        "mask  = np.array([[1,0,0,0,0],\n",
        "                 [0,1,0,0,0],\n",
        "                 [0,0,1,0,0],\n",
        "                 [0,0,0,1,0],\n",
        "                 [0,0,0,0,1]], dtype=bool)\n",
        "print(mask)\n",
        "a2[mask]"
      ],
      "metadata": {
        "id": "nfRZ8261rrwR",
        "colab": {
          "base_uri": "https://localhost:8080/"
        },
        "outputId": "9e42512a-4f1d-4356-fe1d-cbefc8b9ae9a"
      },
      "execution_count": 31,
      "outputs": [
        {
          "output_type": "stream",
          "name": "stdout",
          "text": [
            "[[ True False False False False]\n",
            " [False  True False False False]\n",
            " [False False  True False False]\n",
            " [False False False  True False]\n",
            " [False False False False  True]]\n"
          ]
        },
        {
          "output_type": "execute_result",
          "data": {
            "text/plain": [
              "array([ 1,  7, 13, 19, 25])"
            ]
          },
          "metadata": {},
          "execution_count": 31
        }
      ]
    },
    {
      "cell_type": "markdown",
      "source": [
        "불리언 인덱싱이 불필요해 보이지만 유용하게 사용될 때가 있습니다. 아직 연산에 대해 배우지 않았지만 예시를 들어보겠습니다. \n",
        "\n",
        "`a2`에서 `15`보다 큰값만 슬라이싱 하려 합니다. 이 때 불리언 인덱싱을 이용해 `mask`를 다음과 같이 정의할 수 있습니다. \n",
        "\n",
        "```\n",
        "mask = a2>15\n",
        "print(mask)\n",
        "a2[mask]\n",
        "```"
      ],
      "metadata": {
        "id": "yDnEg3ZHtHEO"
      }
    },
    {
      "cell_type": "code",
      "source": [
        "mask = a2 > 15 # 배열과 숫자가 비교 가능하다 (리스트에서는 불가능)\n",
        "mask"
      ],
      "metadata": {
        "id": "Pd6HybTdtlsO",
        "colab": {
          "base_uri": "https://localhost:8080/"
        },
        "outputId": "c2d33677-c9c1-4e72-c1d8-8202487b39cd"
      },
      "execution_count": 32,
      "outputs": [
        {
          "output_type": "execute_result",
          "data": {
            "text/plain": [
              "array([[False, False, False, False, False],\n",
              "       [False, False, False, False, False],\n",
              "       [False, False, False, False, False],\n",
              "       [ True,  True,  True,  True,  True],\n",
              "       [ True,  True,  True,  True,  True]])"
            ]
          },
          "metadata": {},
          "execution_count": 32
        }
      ]
    },
    {
      "cell_type": "markdown",
      "source": [
        "#### **| 연습문제**\n",
        "\n",
        "**연습 04**\n",
        "\n",
        "아래 그림에서 색깔별로 해당하는 값들을 인덱싱 하여 각각 새로운 배열로 만드세요.\n",
        "\n",
        "\n",
        "<p align='center'>\n",
        "<img src=https://github.com/yebiny/SkillTreePython-DataAnalysis/blob/main/imgs/ch0103-05.png?raw=true width=240>\n",
        "</p>\n",
        "\n"
      ],
      "metadata": {
        "id": "3OohVJBBt5XQ"
      }
    },
    {
      "cell_type": "code",
      "source": [
        "print(a2[(0,0,1,1,2,2),(2,4,2,4,2,4)])\n",
        "print(a2[:3,(2,4)])\n",
        "print(a2[(0,2,3),(0,1,3)])\n",
        "mask = a2 > 20\n",
        "print(a2[mask])"
      ],
      "metadata": {
        "id": "i0Mc-XWQvJ_d",
        "colab": {
          "base_uri": "https://localhost:8080/"
        },
        "outputId": "0ac7a985-2113-4909-c4e3-672d8104d582"
      },
      "execution_count": 47,
      "outputs": [
        {
          "output_type": "stream",
          "name": "stdout",
          "text": [
            "[ 3  5  8 10 13 15]\n",
            "[[ 3  5]\n",
            " [ 8 10]\n",
            " [13 15]]\n",
            "[ 1 12 19]\n",
            "[21 22 23 24 25]\n"
          ]
        }
      ]
    },
    {
      "cell_type": "markdown",
      "source": [
        "---\n",
        "### **(3) 배열 값 변경**\n",
        "---\n"
      ],
      "metadata": {
        "id": "20us_Tx577JL"
      }
    },
    {
      "cell_type": "markdown",
      "source": [
        "#### **| 수정**\n",
        "\n",
        "배열 값의 수정은 기본적으로 인덱싱을 이용합니다. 리스트의 수정과 마찬가지로 인덱싱으로 특정값에 접근하고 바인딩을 이용해 값을 수정합니다. \n",
        "\n",
        "\n",
        "```\n",
        "a = np.arange(10)\n",
        "print(a)\n",
        "a[0]=100\n",
        "print(a)\n",
        "```"
      ],
      "metadata": {
        "id": "xW7UPAFY77JR"
      }
    },
    {
      "cell_type": "code",
      "source": [
        "a = np.arange(10)\n",
        "print(a)\n",
        "a[0] = 100\n",
        "print(a) # 0번째가 100으로 바꼈다. "
      ],
      "metadata": {
        "id": "VwBnNgLT77xV",
        "colab": {
          "base_uri": "https://localhost:8080/"
        },
        "outputId": "57807547-4c65-42b3-ac74-902bf21583eb"
      },
      "execution_count": 48,
      "outputs": [
        {
          "output_type": "stream",
          "name": "stdout",
          "text": [
            "[0 1 2 3 4 5 6 7 8 9]\n",
            "[100   1   2   3   4   5   6   7   8   9]\n"
          ]
        }
      ]
    },
    {
      "cell_type": "markdown",
      "source": [
        "#### **| 삽입**\n",
        "\n",
        "* `b = np.insert(a, index, element, axis=n)` : \n",
        "값을 추가한 새로운 배열을 반환합니다. 원본 배열은 변경되지 않습니다. \n",
        "\n",
        "`insert` 메서드를 이용하여 배열의 특정 위치에 값을 추가할 수 있습니다. 이 때 값을 추가할 차원 축 (axis)를 지정해야 하며, 지정하지 않으면 1차원 배열을 반환합니다. \n",
        "\n",
        "```\n",
        "a = np.zeros((3,3))\n",
        "print(a)\n",
        "\n",
        "print(np.insert(a, 0, 1, axis=0))\n",
        "print(np.insert(a, 0, 1, axis=1))\n",
        "print(np.insert(a, 0, 1))\n",
        "```"
      ],
      "metadata": {
        "id": "eKawM5an8mZx"
      }
    },
    {
      "cell_type": "code",
      "source": [
        "a = np.zeros((3,3))\n",
        "print(a)\n",
        "#a의 0번째에 1을 삽입(수정 아님)\n",
        "\n",
        "print(np.insert(a, 0, 1, axis = 0)) #0이면 행\n",
        "print(np.insert(a, 0, 1, axis=1))   #1이면 열 \n",
        "print(np.insert(a, 0, 1)) #axis 안정해주니 1차원이 되었다.It got flattened. "
      ],
      "metadata": {
        "id": "IkvNkInb8mZx",
        "colab": {
          "base_uri": "https://localhost:8080/"
        },
        "outputId": "cf9b8137-7630-43b1-d961-221f4e896e7e"
      },
      "execution_count": 49,
      "outputs": [
        {
          "output_type": "stream",
          "name": "stdout",
          "text": [
            "[[0. 0. 0.]\n",
            " [0. 0. 0.]\n",
            " [0. 0. 0.]]\n",
            "[[1. 1. 1.]\n",
            " [0. 0. 0.]\n",
            " [0. 0. 0.]\n",
            " [0. 0. 0.]]\n",
            "[[1. 0. 0. 0.]\n",
            " [1. 0. 0. 0.]\n",
            " [1. 0. 0. 0.]]\n",
            "[1. 0. 0. 0. 0. 0. 0. 0. 0. 0.]\n"
          ]
        }
      ]
    },
    {
      "cell_type": "markdown",
      "source": [
        "#### **| 연습문제**\n",
        "\n"
      ],
      "metadata": {
        "id": "h_cUD4FQ-oAo"
      }
    },
    {
      "cell_type": "markdown",
      "source": [
        "**연습 05**\n",
        "\n",
        "위에서 정의한 `a`에 `insert`를 사용하여 아래 그림과 같은 배열을 출력하세요.\n",
        "\n",
        "<p align='center'>\n",
        "<img src=https://github.com/yebiny/SkillTreePython-DataAnalysis/blob/main/imgs/ch0103-06.png?raw=true width=150>\n",
        "</p>"
      ],
      "metadata": {
        "id": "Rw32D58m-t1t"
      }
    },
    {
      "cell_type": "code",
      "source": [
        "print(a)\n",
        "print(np.insert(a,2,1,axis = 0))\n"
      ],
      "metadata": {
        "id": "nK3awP18-oAp",
        "colab": {
          "base_uri": "https://localhost:8080/"
        },
        "outputId": "4e4d9fc7-a8cf-4821-9832-4a03540e2306"
      },
      "execution_count": 52,
      "outputs": [
        {
          "output_type": "stream",
          "name": "stdout",
          "text": [
            "[[0. 0. 0.]\n",
            " [0. 0. 0.]\n",
            " [0. 0. 0.]]\n",
            "[[0. 0. 0.]\n",
            " [0. 0. 0.]\n",
            " [1. 1. 1.]\n",
            " [0. 0. 0.]]\n"
          ]
        }
      ]
    },
    {
      "cell_type": "markdown",
      "source": [
        "**연습 06**\n",
        "\n",
        "위에서 정의한 `a`에 `insert`를 사용하여 아래 그림과 같은 배열을 출력하세요.\n",
        "\n",
        "<p align='center'>\n",
        "<img src=https://github.com/yebiny/SkillTreePython-DataAnalysis/blob/main/imgs/ch0103-07.png?raw=true width=210>\n",
        "</p>"
      ],
      "metadata": {
        "id": "Bza20EHW_lXI"
      }
    },
    {
      "cell_type": "code",
      "source": [
        "print(a)\n",
        "print(np.insert(a, 1, [1,2,3], axis = 1)) # 원본에 저장 안된다. \n",
        "print(a)"
      ],
      "metadata": {
        "id": "hSvLOhwAZA_r",
        "colab": {
          "base_uri": "https://localhost:8080/"
        },
        "outputId": "7e752461-c16d-4464-a3ec-fdf50942dc00"
      },
      "execution_count": 55,
      "outputs": [
        {
          "output_type": "stream",
          "name": "stdout",
          "text": [
            "[[0. 0. 0.]\n",
            " [0. 0. 0.]\n",
            " [0. 0. 0.]]\n",
            "[[0. 1. 0. 0.]\n",
            " [0. 2. 0. 0.]\n",
            " [0. 3. 0. 0.]]\n",
            "[[0. 0. 0.]\n",
            " [0. 0. 0.]\n",
            " [0. 0. 0.]]\n"
          ]
        }
      ]
    },
    {
      "cell_type": "code",
      "source": [
        ""
      ],
      "metadata": {
        "colab": {
          "base_uri": "https://localhost:8080/"
        },
        "id": "1GBWM62-Uln4",
        "outputId": "89c1dbfc-3062-4880-e77f-326177328052"
      },
      "execution_count": 58,
      "outputs": [
        {
          "output_type": "stream",
          "name": "stdout",
          "text": [
            "[1, 2, 3, 4, 5]\n"
          ]
        }
      ]
    },
    {
      "cell_type": "markdown",
      "source": [
        "#### **| 삭제**\n",
        "\n",
        "* `b = np.delete(a, index, axis=n)` : \n",
        "값을 추가한 새로운 배열을 반환합니다. 원본 배열은 변경되지 않습니다. \n",
        "\n",
        "`delete` 메서드는 배열의 특정 위치 값을 삭제합니다. 이 때 값을 추가할 차원 축 (axis)를 지정해야 하며, 지정하지 않으면 1차원 배열을 반환합니다. \n",
        "\n",
        "```\n",
        "a = np.zeros((3,3))\n",
        "print(a)\n",
        "\n",
        "print(np.delete(a, 0, axis=0))\n",
        "print(np.delete(a, 0, axis=1))\n",
        "print(np.delete(a, 0))\n",
        "``` "
      ],
      "metadata": {
        "id": "I1w7yFZkPcI5"
      }
    },
    {
      "cell_type": "code",
      "metadata": {
        "id": "m7oidORKPcI9",
        "colab": {
          "base_uri": "https://localhost:8080/"
        },
        "outputId": "ad38e551-2fce-43c6-f745-8bd0ae387223"
      },
      "source": [
        "a = np.zeros((3,3))\n",
        "print(a)\n",
        "\n",
        "print(np.delete(a, 0, axis=0))\n",
        "print(np.delete(a, 0, axis=1))\n",
        "print(np.delete(a, 0)) \n",
        "# delete도 원본이 변화하지는 않는다. \n",
        "print(a)"
      ],
      "execution_count": 60,
      "outputs": [
        {
          "output_type": "stream",
          "name": "stdout",
          "text": [
            "[[0. 0. 0.]\n",
            " [0. 0. 0.]\n",
            " [0. 0. 0.]]\n",
            "[[0. 0. 0.]\n",
            " [0. 0. 0.]]\n",
            "[[0. 0.]\n",
            " [0. 0.]\n",
            " [0. 0.]]\n",
            "[0. 0. 0. 0. 0. 0. 0. 0.]\n",
            "[[0. 0. 0.]\n",
            " [0. 0. 0.]\n",
            " [0. 0. 0.]]\n"
          ]
        }
      ]
    },
    {
      "cell_type": "markdown",
      "source": [
        "#### **| 복사**\n",
        "\n",
        "* `b = np.copy(a)` : 배열 `a`를 복사하여 `b`로 반환합니다. \n",
        "\n",
        "\n",
        "\n",
        "\n",
        "\n",
        "\n"
      ],
      "metadata": {
        "id": "3TdSoq9shmbV"
      }
    },
    {
      "cell_type": "code",
      "source": [
        "print(a)\n",
        "b = np.copy(a)\n",
        "print(b)"
      ],
      "metadata": {
        "id": "VeCwYgn4Bhpk",
        "colab": {
          "base_uri": "https://localhost:8080/"
        },
        "outputId": "63369c76-fffe-44e6-df19-fa58706df915"
      },
      "execution_count": 61,
      "outputs": [
        {
          "output_type": "stream",
          "name": "stdout",
          "text": [
            "[[0. 0. 0.]\n",
            " [0. 0. 0.]\n",
            " [0. 0. 0.]]\n",
            "[[0. 0. 0.]\n",
            " [0. 0. 0.]\n",
            " [0. 0. 0.]]\n"
          ]
        }
      ]
    },
    {
      "cell_type": "markdown",
      "source": [
        "`np.copy`를 이용해 배열을 복사하면 `b` 값이 변경되더라도 원본 배열 `a`는 보존됩니다.\n",
        "```\n",
        "b[1,1]=1\n",
        "print(a)\n",
        "print(b)\n",
        "```"
      ],
      "metadata": {
        "id": "LOw4Y58XByIA"
      }
    },
    {
      "cell_type": "code",
      "source": [
        "b[1,1]=1 # 이렇게 하면 원본 b 값이 바뀐다. \n",
        "print(a)\n",
        "print(b)"
      ],
      "metadata": {
        "id": "U4yvdZKABraW",
        "colab": {
          "base_uri": "https://localhost:8080/"
        },
        "outputId": "a46ef05f-4972-4a2f-b2b5-610e57a34844"
      },
      "execution_count": 62,
      "outputs": [
        {
          "output_type": "stream",
          "name": "stdout",
          "text": [
            "[[0. 0. 0.]\n",
            " [0. 0. 0.]\n",
            " [0. 0. 0.]]\n",
            "[[0. 0. 0.]\n",
            " [0. 1. 0.]\n",
            " [0. 0. 0.]]\n"
          ]
        }
      ]
    },
    {
      "cell_type": "markdown",
      "source": [
        "만약 슬라이싱으로 배열을 복사하게 되면 원본 배열 `a`가 보존되지 않습니다.\n",
        "\n",
        "```\n",
        "b = a[:]\n",
        "print(a)\n",
        "print(b)\n",
        "print('b값을 변경')\n",
        "b[1,1]=1\n",
        "print(a)\n",
        "print(b)\n",
        "```\n"
      ],
      "metadata": {
        "id": "1mSHucaqhkFu"
      }
    },
    {
      "cell_type": "code",
      "metadata": {
        "id": "2DxXadB1VgBQ",
        "colab": {
          "base_uri": "https://localhost:8080/"
        },
        "outputId": "46a762fa-7e12-478e-fb6d-a03807962387"
      },
      "source": [
        "b = a[:]\n",
        "print(a)\n",
        "print(b)\n",
        "print('b값을 변경')\n",
        "b[1,1]=1\n",
        "print(a)\n",
        "print(b)"
      ],
      "execution_count": 63,
      "outputs": [
        {
          "output_type": "stream",
          "name": "stdout",
          "text": [
            "[[0. 0. 0.]\n",
            " [0. 0. 0.]\n",
            " [0. 0. 0.]]\n",
            "[[0. 0. 0.]\n",
            " [0. 0. 0.]\n",
            " [0. 0. 0.]]\n",
            "b값을 변경\n",
            "[[0. 0. 0.]\n",
            " [0. 1. 0.]\n",
            " [0. 0. 0.]]\n",
            "[[0. 0. 0.]\n",
            " [0. 1. 0.]\n",
            " [0. 0. 0.]]\n"
          ]
        }
      ]
    },
    {
      "cell_type": "code",
      "source": [
        "b  = a[1,:]\n",
        "print(b)\n",
        "print(a)\n",
        "b[:] = 10\n",
        "print(a)\n",
        "print(b)"
      ],
      "metadata": {
        "colab": {
          "base_uri": "https://localhost:8080/"
        },
        "id": "27aOfkAhYWgP",
        "outputId": "1d9a383a-9b7d-4ea0-ae74-3d8378c86f69"
      },
      "execution_count": 66,
      "outputs": [
        {
          "output_type": "stream",
          "name": "stdout",
          "text": [
            "[0. 1. 0.]\n",
            "[[0. 0. 0.]\n",
            " [0. 1. 0.]\n",
            " [0. 0. 0.]]\n",
            "[[ 0.  0.  0.]\n",
            " [10. 10. 10.]\n",
            " [ 0.  0.  0.]]\n",
            "[10. 10. 10.]\n"
          ]
        }
      ]
    },
    {
      "cell_type": "markdown",
      "source": [
        "## 문제풀이\n",
        "---\n"
      ],
      "metadata": {
        "id": "1Zo86GIRD8iE"
      }
    },
    {
      "cell_type": "markdown",
      "source": [
        "아래 그림과 같은 배열을 각각 `a1`, `a2`, `a3` 로 정의하세요. `a3` 그림에서 뒤쪽에 있는 숫자들은 앞에 값과 동일합니다.\n",
        "\n",
        "<p align='center'>\n",
        "<img src=https://github.com/yebiny/SkillTreePython-DataAnalysis/blob/main/imgs/ch0103-08.png?raw=true width=620>\n",
        "</p>"
      ],
      "metadata": {
        "id": "BJNPI5t15M4P"
      }
    },
    {
      "cell_type": "code",
      "source": [
        "a1 = np.array([2,4,1,3])\n",
        "a2 = np.array([[0,1,2],\n",
        "      [10,11,12],\n",
        "      [20,21,22],\n",
        "      [30,31,32],\n",
        "      [40,41,42]])\n",
        "a3 = np.array([\n",
        "    [[0,1],[10,11]],\n",
        "    [[0,1],[10,11]],\n",
        "    [[0,1],[10,11]]\n",
        "                    ])\n",
        "print(a1)\n",
        "print(a2)\n",
        "print(a3)"
      ],
      "metadata": {
        "id": "0VcVNdbm5M1J",
        "colab": {
          "base_uri": "https://localhost:8080/"
        },
        "outputId": "c42a81b2-a59d-4e65-a966-27eaa992f23a"
      },
      "execution_count": 71,
      "outputs": [
        {
          "output_type": "stream",
          "name": "stdout",
          "text": [
            "[2 4 1 3]\n",
            "[[ 0  1  2]\n",
            " [10 11 12]\n",
            " [20 21 22]\n",
            " [30 31 32]\n",
            " [40 41 42]]\n",
            "[[[ 0  1]\n",
            "  [10 11]]\n",
            "\n",
            " [[ 0  1]\n",
            "  [10 11]]\n",
            "\n",
            " [[ 0  1]\n",
            "  [10 11]]]\n"
          ]
        }
      ]
    },
    {
      "cell_type": "markdown",
      "source": [
        "**예제 01**\n",
        "\n",
        "`a1`의 3을 인덱싱 하세요"
      ],
      "metadata": {
        "id": "cTtCSNxFmxsL"
      }
    },
    {
      "cell_type": "code",
      "source": [
        "a1[3]"
      ],
      "metadata": {
        "id": "X2FslwXL_hSE",
        "colab": {
          "base_uri": "https://localhost:8080/"
        },
        "outputId": "e3fc2a44-3cff-4a00-a1e6-6da604e17e04"
      },
      "execution_count": 70,
      "outputs": [
        {
          "output_type": "execute_result",
          "data": {
            "text/plain": [
              "3"
            ]
          },
          "metadata": {},
          "execution_count": 70
        }
      ]
    },
    {
      "cell_type": "markdown",
      "source": [
        "**예제 02**\n",
        "\n",
        "`a2`의 2와 30을 인덱싱 하세요."
      ],
      "metadata": {
        "id": "mQqp_GvL_nqZ"
      }
    },
    {
      "cell_type": "code",
      "source": [
        "a2[(0,3),(2,0)]"
      ],
      "metadata": {
        "id": "afH2M561_nqa",
        "colab": {
          "base_uri": "https://localhost:8080/"
        },
        "outputId": "e18e7558-9dfc-4399-e2db-887800436042"
      },
      "execution_count": 72,
      "outputs": [
        {
          "output_type": "execute_result",
          "data": {
            "text/plain": [
              "array([ 2, 30])"
            ]
          },
          "metadata": {},
          "execution_count": 72
        }
      ]
    },
    {
      "cell_type": "markdown",
      "source": [
        "**예제 03**\n",
        "\n",
        "`a3`의 10을 모두 인덱싱 하세요."
      ],
      "metadata": {
        "id": "t_ryizEe_rvF"
      }
    },
    {
      "cell_type": "code",
      "source": [
        "a3[:,1,0]"
      ],
      "metadata": {
        "id": "EM_B1GhA_rvG",
        "colab": {
          "base_uri": "https://localhost:8080/"
        },
        "outputId": "d2aeec99-bc37-402d-e82a-3468397163fb"
      },
      "execution_count": 74,
      "outputs": [
        {
          "output_type": "execute_result",
          "data": {
            "text/plain": [
              "array([10, 10, 10])"
            ]
          },
          "metadata": {},
          "execution_count": 74
        }
      ]
    },
    {
      "cell_type": "markdown",
      "source": [
        "**예제 04**\n",
        "\n",
        "`a2`에서 아래 그림에 해당하는 값을 펜시 인덱싱과 불리언 인덱싱을 각각 이용하여 새로운 배열로 만드세요.\n",
        "\n",
        "<p align='center'>\n",
        "<img src=https://github.com/yebiny/SkillTreePython-DataAnalysis/blob/main/imgs/ch0103-09.png?raw=true width=150>\n",
        "</p>"
      ],
      "metadata": {
        "id": "joLrAHQjAO-u"
      }
    },
    {
      "cell_type": "code",
      "source": [
        "# fancy indexing\n",
        "print(a2[(2,2,4,4),(0,2,0,2)])\n",
        "\n",
        "# boolean indexing\n",
        "\n",
        "mask = (a2[(2,4),:]%2 ==0)\n",
        "print(mask)\n",
        "print(a2[(2,4),:][mask])"
      ],
      "metadata": {
        "id": "2XxmQEyRAO-v",
        "colab": {
          "base_uri": "https://localhost:8080/"
        },
        "outputId": "4b5272ac-41ed-4289-a7a1-124a320c292c"
      },
      "execution_count": 97,
      "outputs": [
        {
          "output_type": "stream",
          "name": "stdout",
          "text": [
            "[20 22 40 42]\n",
            "[[ True False  True]\n",
            " [ True False  True]]\n",
            "[20 22 40 42]\n"
          ]
        }
      ]
    },
    {
      "cell_type": "markdown",
      "source": [
        "**예제 05**\n",
        "\n",
        "`a2`에서 아래 그림에 해당하는 값을 펜시 인덱싱과 불리언 인덱싱을 각각 이용하여 새로운 배열로 만드세요.\n",
        "\n",
        "\n",
        "<p align='center'>\n",
        "<img src=https://github.com/yebiny/SkillTreePython-DataAnalysis/blob/main/imgs/ch0103-10.png?raw=true width=150>\n",
        "</p>"
      ],
      "metadata": {
        "id": "SfR9Wjh-6wpK"
      }
    },
    {
      "cell_type": "code",
      "source": [
        "# fancy indexing\n",
        "print(a2[(0,0,1,1,2,2),(0,2,0,2,0,2)])\n",
        "\n",
        "# boolean indexing\n",
        "\n",
        "mask = (a2[:3,:3]%2 == 0)\n",
        "print(mask)\n",
        "a2[:3][:3][mask]\n",
        "#print(a2[a2[:2,:2]%2 == 0])"
      ],
      "metadata": {
        "id": "gCQwBtin6wpP",
        "colab": {
          "base_uri": "https://localhost:8080/"
        },
        "outputId": "6c7e3562-7664-4c50-b985-4c38d57bfb8c"
      },
      "execution_count": 92,
      "outputs": [
        {
          "output_type": "stream",
          "name": "stdout",
          "text": [
            "[ 0  2 10 12 20 22]\n",
            "[[ True False  True]\n",
            " [ True False  True]\n",
            " [ True False  True]]\n"
          ]
        },
        {
          "output_type": "execute_result",
          "data": {
            "text/plain": [
              "array([ 0,  2, 10, 12, 20, 22])"
            ]
          },
          "metadata": {},
          "execution_count": 92
        }
      ]
    },
    {
      "cell_type": "markdown",
      "source": [
        "**예제 06**\n",
        "\n",
        "`a2`에서 아래 그림에 해당하는 값을 펜시 인덱싱과 불리언 인덱싱을 각각 이용하여 새로운 배열로 만드세요.\n",
        "\n",
        "\n",
        "<p align='center'>\n",
        "<img src=https://github.com/yebiny/SkillTreePython-DataAnalysis/blob/main/imgs/ch0103-11.png?raw=true width=150>\n",
        "</p>"
      ],
      "metadata": {
        "id": "xiltaKm27A0k"
      }
    },
    {
      "cell_type": "code",
      "source": [
        "# fancy indexing \n",
        "print(a2[(2,2,2,3,4),(0,1,2,1,1)])\n",
        "\n",
        "# boolean indexing\n",
        "mask = np.array([[1,1,1],[0,1,0],[0,1,0]], dtype = bool)\n",
        "print(a2[2:,:][mask])"
      ],
      "metadata": {
        "id": "vddom3tb7A0l",
        "colab": {
          "base_uri": "https://localhost:8080/"
        },
        "outputId": "28483cce-11f6-4720-c5b8-bd75e0e0fea5"
      },
      "execution_count": 102,
      "outputs": [
        {
          "output_type": "stream",
          "name": "stdout",
          "text": [
            "[20 21 22 31 41]\n",
            "[20 21 22 31 41]\n"
          ]
        }
      ]
    },
    {
      "cell_type": "markdown",
      "source": [
        "**예제 07**\n",
        "\n",
        "`a3`에서 1에 해당하는 값만 모아 새로운 배열로 만드세요."
      ],
      "metadata": {
        "id": "V8tbSZZN62na"
      }
    },
    {
      "cell_type": "code",
      "source": [
        "a3 \n",
        "print(a3[:,0,1])"
      ],
      "metadata": {
        "id": "5meyjfby62nb",
        "colab": {
          "base_uri": "https://localhost:8080/"
        },
        "outputId": "f57bccc1-8b9b-4c2b-94eb-2a82308c50db"
      },
      "execution_count": 99,
      "outputs": [
        {
          "output_type": "stream",
          "name": "stdout",
          "text": [
            "[1 1 1]\n"
          ]
        }
      ]
    },
    {
      "cell_type": "markdown",
      "metadata": {
        "id": "KrDsXKO0BvN9"
      },
      "source": [
        "**예제 08**\n",
        "\n",
        "`a2`를 복사하여 `b2`로 바인딩하세요.\n"
      ]
    },
    {
      "cell_type": "code",
      "source": [
        "b2 = np.copy(a2)\n",
        "print(b2)"
      ],
      "metadata": {
        "id": "Cw7MAmI8BvN-",
        "colab": {
          "base_uri": "https://localhost:8080/"
        },
        "outputId": "56240d94-6f24-4d41-d0d6-f84de0faaa3c"
      },
      "execution_count": 105,
      "outputs": [
        {
          "output_type": "stream",
          "name": "stdout",
          "text": [
            "[[ 0  1  2]\n",
            " [10 11 12]\n",
            " [20 21 22]\n",
            " [30 31 32]\n",
            " [40 41 42]]\n"
          ]
        }
      ]
    },
    {
      "cell_type": "markdown",
      "source": [
        "**예제 09**\n",
        "\n",
        "`b2`를 아래 그림과 같이 수정하세요.\n",
        "\n",
        "\n",
        "<p align='center'>\n",
        "<img src=https://github.com/yebiny/SkillTreePython-DataAnalysis/blob/main/imgs/ch0103-12.png?raw=true width=150>\n",
        "</p>"
      ],
      "metadata": {
        "id": "Kxa9RJw8N1k4"
      }
    },
    {
      "cell_type": "code",
      "source": [
        "b2[(1,3),:] = 100\n",
        "print(b2)"
      ],
      "metadata": {
        "id": "TuKu3G0COHTx",
        "colab": {
          "base_uri": "https://localhost:8080/"
        },
        "outputId": "f552ab8d-02f0-4b08-fe67-83c755657048"
      },
      "execution_count": 108,
      "outputs": [
        {
          "output_type": "stream",
          "name": "stdout",
          "text": [
            "[[  0   1   2]\n",
            " [100 100 100]\n",
            " [ 20  21  22]\n",
            " [100 100 100]\n",
            " [ 40  41  42]]\n"
          ]
        }
      ]
    },
    {
      "cell_type": "markdown",
      "source": [
        "**예제 10**\n",
        "\n",
        "이어서 `b2`를 아래 그림과 같이 수정하세요.\n",
        "\n",
        "\n",
        "<p align='center'>\n",
        "<img src=https://github.com/yebiny/SkillTreePython-DataAnalysis/blob/main/imgs/ch0103-13.png?raw=true width=150>\n",
        "</p>"
      ],
      "metadata": {
        "id": "uDYC2aemC4FW"
      }
    },
    {
      "cell_type": "code",
      "source": [
        "b2[(0,2,4),2] = 200\n",
        "print(b2)"
      ],
      "metadata": {
        "id": "9qhPnPtoC4FX",
        "colab": {
          "base_uri": "https://localhost:8080/"
        },
        "outputId": "c95f1511-30de-46ea-ea58-aad0126b3820"
      },
      "execution_count": 109,
      "outputs": [
        {
          "output_type": "stream",
          "name": "stdout",
          "text": [
            "[[  0   1 200]\n",
            " [100 100 100]\n",
            " [ 20  21 200]\n",
            " [100 100 100]\n",
            " [ 40  41 200]]\n"
          ]
        }
      ]
    },
    {
      "cell_type": "markdown",
      "source": [
        "**예제 11**\n",
        "\n",
        "이어서 `b2`에 값을 아래와 같이 삽입하세요.\n",
        "\n",
        "\n",
        "<p align='center'>\n",
        "<img src=https://github.com/yebiny/SkillTreePython-DataAnalysis/blob/main/imgs/ch0103-14.png?raw=true width=180>\n",
        "</p>"
      ],
      "metadata": {
        "id": "1fpupocGOYlz"
      }
    },
    {
      "cell_type": "code",
      "source": [
        "b2 = np.insert(b2,2,0, axis = 1)\n",
        "print(b2)"
      ],
      "metadata": {
        "id": "F3AcVlSCOYl0",
        "colab": {
          "base_uri": "https://localhost:8080/"
        },
        "outputId": "7ab1cbc4-cb0f-4dce-fcf9-8fa9e5cc273c"
      },
      "execution_count": 113,
      "outputs": [
        {
          "output_type": "stream",
          "name": "stdout",
          "text": [
            "[[  0   1   0 200]\n",
            " [100 100   0 100]\n",
            " [ 20  21   0 200]\n",
            " [100 100   0 100]\n",
            " [ 40  41   0 200]]\n"
          ]
        }
      ]
    },
    {
      "cell_type": "markdown",
      "source": [
        "**예제 12**\n",
        "\n",
        "이어서 `b2`의 값을 아래와 같이 삭제하세요.\n",
        "\n",
        "\n",
        "<p align='center'>\n",
        "<img src=https://github.com/yebiny/SkillTreePython-DataAnalysis/blob/main/imgs/ch0103-15.png?raw=true width=180>\n",
        "</p>"
      ],
      "metadata": {
        "id": "RV92_ziYDFAG"
      }
    },
    {
      "cell_type": "code",
      "source": [
        "b2 = np.delete(b2,(2,4),axis = 0)\n"
      ],
      "metadata": {
        "id": "oGk3Z4NCDFAH"
      },
      "execution_count": null,
      "outputs": []
    },
    {
      "cell_type": "code",
      "source": [
        "print(b2)"
      ],
      "metadata": {
        "colab": {
          "base_uri": "https://localhost:8080/"
        },
        "id": "SKngzqSNiNYO",
        "outputId": "c1d70d47-6ccd-46da-faec-37ab642678b8"
      },
      "execution_count": 116,
      "outputs": [
        {
          "output_type": "stream",
          "name": "stdout",
          "text": [
            "[[  0   1   0 200]\n",
            " [100 100   0 100]\n",
            " [100 100   0 100]]\n"
          ]
        }
      ]
    }
  ]
}