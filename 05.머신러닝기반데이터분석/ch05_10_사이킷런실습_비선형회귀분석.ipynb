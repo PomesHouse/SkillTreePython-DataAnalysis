{
  "nbformat": 4,
  "nbformat_minor": 0,
  "metadata": {
    "colab": {
      "name": "ch05_10_사이킷런실습-비선형회귀분석.ipynb",
      "provenance": [],
      "collapsed_sections": [],
      "include_colab_link": true
    },
    "kernelspec": {
      "name": "python3",
      "display_name": "Python 3"
    },
    "language_info": {
      "name": "python"
    }
  },
  "cells": [
    {
      "cell_type": "markdown",
      "metadata": {
        "id": "view-in-github",
        "colab_type": "text"
      },
      "source": [
        "<a href=\"https://colab.research.google.com/github/PomesHouse/SkillTreePython-DataAnalysis/blob/main/05.%EB%A8%B8%EC%8B%A0%EB%9F%AC%EB%8B%9D%EA%B8%B0%EB%B0%98%EB%8D%B0%EC%9D%B4%ED%84%B0%EB%B6%84%EC%84%9D/ch05_10_%EC%82%AC%EC%9D%B4%ED%82%B7%EB%9F%B0%EC%8B%A4%EC%8A%B5_%EB%B9%84%EC%84%A0%ED%98%95%ED%9A%8C%EA%B7%80%EB%B6%84%EC%84%9D.ipynb\" target=\"_parent\"><img src=\"https://colab.research.google.com/assets/colab-badge.svg\" alt=\"Open In Colab\"/></a>"
      ]
    },
    {
      "cell_type": "markdown",
      "metadata": {
        "id": "wWpXZc2fi39U"
      },
      "source": [
        "# ch05.10. 사이킷런 실습 - 비선형회귀분석\n",
        "\n",
        "---\n",
        "* 날짜:\n",
        "* 이름:\n",
        "\n",
        "## 학습내용\n",
        "    - 다항식을 이용한 회귀 분석을 진행한다.\n",
        "    - 랜덤 포레스트를 이용해 비선형 회귀를 진행한다.\n",
        "    - 앙상블 학습에 대해 이해한다."
      ]
    },
    {
      "cell_type": "markdown",
      "metadata": {
        "id": "kByKdJPApy6P"
      },
      "source": [
        "```\n",
        "import numpy as np\n",
        "import pandas as pd\n",
        "import seaborn as sns\n",
        "import matplotlib.pyplot as plt\n",
        "```"
      ]
    },
    {
      "cell_type": "code",
      "source": [
        "import numpy as np\n",
        "import pandas as pd\n",
        "import seaborn as sns\n",
        "import matplotlib.pyplot as plt"
      ],
      "metadata": {
        "id": "YW4q7CsxPlQh"
      },
      "execution_count": null,
      "outputs": []
    },
    {
      "cell_type": "code",
      "source": [
        "from google.colab import drive\n",
        "drive.mount('/content/drive')"
      ],
      "metadata": {
        "colab": {
          "base_uri": "https://localhost:8080/"
        },
        "id": "eRZpXXji3oyv",
        "outputId": "4f6ab0d8-cf36-4f4d-d608-cb5872bba8bc"
      },
      "execution_count": null,
      "outputs": [
        {
          "output_type": "stream",
          "name": "stdout",
          "text": [
            "Mounted at /content/drive\n"
          ]
        }
      ]
    },
    {
      "cell_type": "code",
      "source": [
        "import sys\n",
        "sys.path.append('/content/drive/MyDrive/DeepLearningFrameWork/script')\n",
        "\n",
        "from data_loader import *\n",
        "from score_dict import *"
      ],
      "metadata": {
        "id": "YIUkCYsGEVIh"
      },
      "execution_count": null,
      "outputs": []
    },
    {
      "cell_type": "markdown",
      "source": [
        "## **선형 회귀 모델을 다항 회귀로 변환**\n",
        "---"
      ],
      "metadata": {
        "id": "GYfR9QxDOEIy"
      }
    },
    {
      "cell_type": "markdown",
      "source": [
        "### **| 간단한 데이터에 대한 다항 회귀**"
      ],
      "metadata": {
        "id": "_dvcAIL3C3vE"
      }
    },
    {
      "cell_type": "markdown",
      "source": [
        "#### **데이터**\n",
        "```\n",
        "X = np.array([258.0, 270.0, 294.0, \n",
        "              320.0, 342.0, 368.0, \n",
        "              396.0, 446.0, 480.0, 586.0]).reshape(-1, 1)\n",
        "\n",
        "y = np.array([236.4, 234.4, 252.8, \n",
        "              298.6, 314.2, 342.2, \n",
        "              360.8, 368.0, 391.2,\n",
        "              390.8])\n",
        "```"
      ],
      "metadata": {
        "id": "OhR4fxMkCt-3"
      }
    },
    {
      "cell_type": "markdown",
      "source": [
        "* 데이터 생성"
      ],
      "metadata": {
        "id": "GMZTe-AcDRFw"
      }
    },
    {
      "cell_type": "code",
      "source": [
        "X = np.array([258.0, 270.0, 294.0, \n",
        "              320.0, 342.0, 368.0, \n",
        "              396.0, 446.0, 480.0, 586.0]).reshape(-1, 1)\n",
        "\n",
        "y = np.array([236.4, 234.4, 252.8, \n",
        "              298.6, 314.2, 342.2, \n",
        "              360.8, 368.0, 391.2,\n",
        "              390.8])\n",
        "X.shape, y.shape"
      ],
      "metadata": {
        "id": "3Ycs4pI60zPo",
        "colab": {
          "base_uri": "https://localhost:8080/"
        },
        "outputId": "3795861c-ea45-45ef-a262-2622b629bf9a"
      },
      "execution_count": null,
      "outputs": [
        {
          "output_type": "execute_result",
          "data": {
            "text/plain": [
              "((10, 1), (10,))"
            ]
          },
          "metadata": {},
          "execution_count": 4
        }
      ]
    },
    {
      "cell_type": "markdown",
      "source": [
        "* 시각화"
      ],
      "metadata": {
        "id": "kJKrGZF0C1du"
      }
    },
    {
      "cell_type": "code",
      "source": [
        "plt.scatter(X, y);"
      ],
      "metadata": {
        "id": "TaZLcFNu3gRm",
        "colab": {
          "base_uri": "https://localhost:8080/",
          "height": 265
        },
        "outputId": "64221909-dec8-448d-dc1a-adbe374f229b"
      },
      "execution_count": null,
      "outputs": [
        {
          "output_type": "display_data",
          "data": {
            "text/plain": [
              "<Figure size 432x288 with 1 Axes>"
            ],
            "image/png": "[encoded data removed]"
          },
          "metadata": {
            "needs_background": "light"
          }
        }
      ]
    },
    {
      "cell_type": "markdown",
      "source": [
        "#### **선형 특성 학습**"
      ],
      "metadata": {
        "id": "sjMo6aNaDCIU"
      }
    },
    {
      "cell_type": "code",
      "source": [
        "from sklearn.linear_model import LinearRegression\n",
        "\n",
        "lr1 =LinearRegression()\n",
        "lr1.fit(X,y)"
      ],
      "metadata": {
        "id": "QK57ELPT0-9M",
        "colab": {
          "base_uri": "https://localhost:8080/"
        },
        "outputId": "c2ffe990-7792-4f8d-c3e8-77d387d73e93"
      },
      "execution_count": null,
      "outputs": [
        {
          "output_type": "execute_result",
          "data": {
            "text/plain": [
              "LinearRegression()"
            ]
          },
          "metadata": {},
          "execution_count": 6
        }
      ]
    },
    {
      "cell_type": "code",
      "source": [
        "plt.scatter(X,y)\n",
        "y_pred = lr1.predict(X)\n",
        "plt.plot(X, y_pred);"
      ],
      "metadata": {
        "id": "eLXdRvfx6fqG",
        "colab": {
          "base_uri": "https://localhost:8080/",
          "height": 265
        },
        "outputId": "a9d5efb9-4f31-4a50-9b8f-f4d3eac70fac"
      },
      "execution_count": null,
      "outputs": [
        {
          "output_type": "display_data",
          "data": {
            "text/plain": [
              "<Figure size 432x288 with 1 Axes>"
            ],
            "image/png": "[encoded data removed]"
          },
          "metadata": {
            "needs_background": "light"
          }
        }
      ]
    },
    {
      "cell_type": "markdown",
      "source": [
        "#### **이차항 특성 학습**\n"
      ],
      "metadata": {
        "id": "rvuZSvRvzmhT"
      }
    },
    {
      "cell_type": "code",
      "source": [
        "from sklearn.preprocessing import PolynomialFeatures\n",
        "# x가 1차항 -> 다차항으로 변환 \n",
        "quad = PolynomialFeatures(degree = 2) # 차수 지정"
      ],
      "metadata": {
        "id": "zaVfSiPW1DyA"
      },
      "execution_count": null,
      "outputs": []
    },
    {
      "cell_type": "markdown",
      "source": [
        "* X 데이터 변환"
      ],
      "metadata": {
        "id": "Tlyc4sYWH3Zg"
      }
    },
    {
      "cell_type": "code",
      "source": [
        "# X 변환  \n",
        "X_quad = quad.fit_transform(X)\n",
        "X.shape, X_quad.shape"
      ],
      "metadata": {
        "id": "7TE8lUHfz86X",
        "colab": {
          "base_uri": "https://localhost:8080/"
        },
        "outputId": "67a2e785-c9f7-4e53-fcd5-7bfefc655a27"
      },
      "execution_count": null,
      "outputs": [
        {
          "output_type": "execute_result",
          "data": {
            "text/plain": [
              "((10, 1), (10, 3))"
            ]
          },
          "metadata": {},
          "execution_count": 9
        }
      ]
    },
    {
      "cell_type": "code",
      "source": [
        "quad.get_feature_names()\n",
        "pd.DataFrame(X_quad, columns = quad.get_feature_names())"
      ],
      "metadata": {
        "id": "h0DMRfsF79a-",
        "colab": {
          "base_uri": "https://localhost:8080/",
          "height": 418
        },
        "outputId": "6deb5e90-b489-4a94-90f0-a7e877b8c388"
      },
      "execution_count": null,
      "outputs": [
        {
          "output_type": "stream",
          "name": "stderr",
          "text": [
            "/usr/local/lib/python3.7/dist-packages/sklearn/utils/deprecation.py:87: FutureWarning: Function get_feature_names is deprecated; get_feature_names is deprecated in 1.0 and will be removed in 1.2. Please use get_feature_names_out instead.\n",
            "  warnings.warn(msg, category=FutureWarning)\n"
          ]
        },
        {
          "output_type": "execute_result",
          "data": {
            "text/plain": [
              "     1     x0      x0^2\n",
              "0  1.0  258.0   66564.0\n",
              "1  1.0  270.0   72900.0\n",
              "2  1.0  294.0   86436.0\n",
              "3  1.0  320.0  102400.0\n",
              "4  1.0  342.0  116964.0\n",
              "5  1.0  368.0  135424.0\n",
              "6  1.0  396.0  156816.0\n",
              "7  1.0  446.0  198916.0\n",
              "8  1.0  480.0  230400.0\n",
              "9  1.0  586.0  343396.0"
            ],
            "text/html": [
              "\n",
              "  <div id=\"df-cfb9671f-e77b-4977-9ac4-86d19b00f8a1\">\n",
              "    <div class=\"colab-df-container\">\n",
              "      <div>\n",
              "<style scoped>\n",
              "    .dataframe tbody tr th:only-of-type {\n",
              "        vertical-align: middle;\n",
              "    }\n",
              "\n",
              "    .dataframe tbody tr th {\n",
              "        vertical-align: top;\n",
              "    }\n",
              "\n",
              "    .dataframe thead th {\n",
              "        text-align: right;\n",
              "    }\n",
              "</style>\n",
              "<table border=\"1\" class=\"dataframe\">\n",
              "  <thead>\n",
              "    <tr style=\"text-align: right;\">\n",
              "      <th></th>\n",
              "      <th>1</th>\n",
              "      <th>x0</th>\n",
              "      <th>x0^2</th>\n",
              "    </tr>\n",
              "  </thead>\n",
              "  <tbody>\n",
              "    <tr>\n",
              "      <th>0</th>\n",
              "      <td>1.0</td>\n",
              "      <td>258.0</td>\n",
              "      <td>66564.0</td>\n",
              "    </tr>\n",
              "    <tr>\n",
              "      <th>1</th>\n",
              "      <td>1.0</td>\n",
              "      <td>270.0</td>\n",
              "      <td>72900.0</td>\n",
              "    </tr>\n",
              "    <tr>\n",
              "      <th>2</th>\n",
              "      <td>1.0</td>\n",
              "      <td>294.0</td>\n",
              "      <td>86436.0</td>\n",
              "    </tr>\n",
              "    <tr>\n",
              "      <th>3</th>\n",
              "      <td>1.0</td>\n",
              "      <td>320.0</td>\n",
              "      <td>102400.0</td>\n",
              "    </tr>\n",
              "    <tr>\n",
              "      <th>4</th>\n",
              "      <td>1.0</td>\n",
              "      <td>342.0</td>\n",
              "      <td>116964.0</td>\n",
              "    </tr>\n",
              "    <tr>\n",
              "      <th>5</th>\n",
              "      <td>1.0</td>\n",
              "      <td>368.0</td>\n",
              "      <td>135424.0</td>\n",
              "    </tr>\n",
              "    <tr>\n",
              "      <th>6</th>\n",
              "      <td>1.0</td>\n",
              "      <td>396.0</td>\n",
              "      <td>156816.0</td>\n",
              "    </tr>\n",
              "    <tr>\n",
              "      <th>7</th>\n",
              "      <td>1.0</td>\n",
              "      <td>446.0</td>\n",
              "      <td>198916.0</td>\n",
              "    </tr>\n",
              "    <tr>\n",
              "      <th>8</th>\n",
              "      <td>1.0</td>\n",
              "      <td>480.0</td>\n",
              "      <td>230400.0</td>\n",
              "    </tr>\n",
              "    <tr>\n",
              "      <th>9</th>\n",
              "      <td>1.0</td>\n",
              "      <td>586.0</td>\n",
              "      <td>343396.0</td>\n",
              "    </tr>\n",
              "  </tbody>\n",
              "</table>\n",
              "</div>\n",
              "      <button class=\"colab-df-convert\" onclick=\"convertToInteractive('df-cfb9671f-e77b-4977-9ac4-86d19b00f8a1')\"\n",
              "              title=\"Convert this dataframe to an interactive table.\"\n",
              "              style=\"display:none;\">\n",
              "        \n",
              "  <svg xmlns=\"http://www.w3.org/2000/svg\" height=\"24px\"viewBox=\"0 0 24 24\"\n",
              "       width=\"24px\">\n",
              "    <path d=\"M0 0h24v24H0V0z\" fill=\"none\"/>\n",
              "    <path d=\"M18.56 5.44l.94 2.06.94-2.06 2.06-.94-2.06-.94-.94-2.06-.94 2.06-2.06.94zm-11 1L8.5 8.5l.94-2.06 2.06-.94-2.06-.94L8.5 2.5l-.94 2.06-2.06.94zm10 10l.94 2.06.94-2.06 2.06-.94-2.06-.94-.94-2.06-.94 2.06-2.06.94z\"/><path d=\"M17.41 7.96l-1.37-1.37c-.4-.4-.92-.59-1.43-.59-.52 0-1.04.2-1.43.59L10.3 9.45l-7.72 7.72c-.78.78-.78 2.05 0 2.83L4 21.41c.39.39.9.59 1.41.59.51 0 1.02-.2 1.41-.59l7.78-7.78 2.81-2.81c.8-.78.8-2.07 0-2.86zM5.41 20L4 18.59l7.72-7.72 1.47 1.35L5.41 20z\"/>\n",
              "  </svg>\n",
              "      </button>\n",
              "      \n",
              "  <style>\n",
              "    .colab-df-container {\n",
              "      display:flex;\n",
              "      flex-wrap:wrap;\n",
              "      gap: 12px;\n",
              "    }\n",
              "\n",
              "    .colab-df-convert {\n",
              "      background-color: #E8F0FE;\n",
              "      border: none;\n",
              "      border-radius: 50%;\n",
              "      cursor: pointer;\n",
              "      display: none;\n",
              "      fill: #1967D2;\n",
              "      height: 32px;\n",
              "      padding: 0 0 0 0;\n",
              "      width: 32px;\n",
              "    }\n",
              "\n",
              "    .colab-df-convert:hover {\n",
              "      background-color: #E2EBFA;\n",
              "      box-shadow: 0px 1px 2px rgba(60, 64, 67, 0.3), 0px 1px 3px 1px rgba(60, 64, 67, 0.15);\n",
              "      fill: #174EA6;\n",
              "    }\n",
              "\n",
              "    [theme=dark] .colab-df-convert {\n",
              "      background-color: #3B4455;\n",
              "      fill: #D2E3FC;\n",
              "    }\n",
              "\n",
              "    [theme=dark] .colab-df-convert:hover {\n",
              "      background-color: #434B5C;\n",
              "      box-shadow: 0px 1px 3px 1px rgba(0, 0, 0, 0.15);\n",
              "      filter: drop-shadow(0px 1px 2px rgba(0, 0, 0, 0.3));\n",
              "      fill: #FFFFFF;\n",
              "    }\n",
              "  </style>\n",
              "\n",
              "      <script>\n",
              "        const buttonEl =\n",
              "          document.querySelector('#df-cfb9671f-e77b-4977-9ac4-86d19b00f8a1 button.colab-df-convert');\n",
              "        buttonEl.style.display =\n",
              "          google.colab.kernel.accessAllowed ? 'block' : 'none';\n",
              "\n",
              "        async function convertToInteractive(key) {\n",
              "          const element = document.querySelector('#df-cfb9671f-e77b-4977-9ac4-86d19b00f8a1');\n",
              "          const dataTable =\n",
              "            await google.colab.kernel.invokeFunction('convertToInteractive',\n",
              "                                                     [key], {});\n",
              "          if (!dataTable) return;\n",
              "\n",
              "          const docLinkHtml = 'Like what you see? Visit the ' +\n",
              "            '<a target=\"_blank\" href=https://colab.research.google.com/notebooks/data_table.ipynb>data table notebook</a>'\n",
              "            + ' to learn more about interactive tables.';\n",
              "          element.innerHTML = '';\n",
              "          dataTable['output_type'] = 'display_data';\n",
              "          await google.colab.output.renderOutput(dataTable, element);\n",
              "          const docLink = document.createElement('div');\n",
              "          docLink.innerHTML = docLinkHtml;\n",
              "          element.appendChild(docLink);\n",
              "        }\n",
              "      </script>\n",
              "    </div>\n",
              "  </div>\n",
              "  "
            ]
          },
          "metadata": {},
          "execution_count": 10
        }
      ]
    },
    {
      "cell_type": "markdown",
      "source": [
        "* 학습"
      ],
      "metadata": {
        "id": "DR79eUEsH8gM"
      }
    },
    {
      "cell_type": "code",
      "source": [
        "lr2 = LinearRegression() # 똑같은 모델 but 인풋이 다차항이다.\n",
        "lr2.fit(X_quad, y)"
      ],
      "metadata": {
        "id": "831zjGBc6kGX",
        "colab": {
          "base_uri": "https://localhost:8080/"
        },
        "outputId": "e3ddcb33-ef94-4dce-98a4-521e15ed064e"
      },
      "execution_count": null,
      "outputs": [
        {
          "output_type": "execute_result",
          "data": {
            "text/plain": [
              "LinearRegression()"
            ]
          },
          "metadata": {},
          "execution_count": 11
        }
      ]
    },
    {
      "cell_type": "markdown",
      "source": [
        "#### **테스트셋 성능 비교**"
      ],
      "metadata": {
        "id": "tyHcbw-9HzF8"
      }
    },
    {
      "cell_type": "code",
      "source": [
        "y_pred1 = lr1.predict(X)\n",
        "lr1_scores = regression_scores(y, y_pred1)\n",
        "\n",
        "y_pred2 = lr2.predict(X_quad)\n",
        "lr2_scores = regression_scores(y, y_pred2)\n",
        "\n",
        "pd.DataFrame([lr1_scores, lr2_scores])"
      ],
      "metadata": {
        "id": "pKQsac_KAQz0",
        "colab": {
          "base_uri": "https://localhost:8080/",
          "height": 112
        },
        "outputId": "638f7486-bcc4-42f4-e33d-544dd8ce0cfd"
      },
      "execution_count": null,
      "outputs": [
        {
          "output_type": "execute_result",
          "data": {
            "text/plain": [
              "      mse    rmse     mae   nmae   mape     r2\n",
              "0  569.78  23.870  21.898  0.069  7.035  0.832\n",
              "1   61.33   7.831   6.379  0.020  2.213  0.982"
            ],
            "text/html": [
              "\n",
              "  <div id=\"df-5204c41d-d17c-439d-84f3-c01fd42340c7\">\n",
              "    <div class=\"colab-df-container\">\n",
              "      <div>\n",
              "<style scoped>\n",
              "    .dataframe tbody tr th:only-of-type {\n",
              "        vertical-align: middle;\n",
              "    }\n",
              "\n",
              "    .dataframe tbody tr th {\n",
              "        vertical-align: top;\n",
              "    }\n",
              "\n",
              "    .dataframe thead th {\n",
              "        text-align: right;\n",
              "    }\n",
              "</style>\n",
              "<table border=\"1\" class=\"dataframe\">\n",
              "  <thead>\n",
              "    <tr style=\"text-align: right;\">\n",
              "      <th></th>\n",
              "      <th>mse</th>\n",
              "      <th>rmse</th>\n",
              "      <th>mae</th>\n",
              "      <th>nmae</th>\n",
              "      <th>mape</th>\n",
              "      <th>r2</th>\n",
              "    </tr>\n",
              "  </thead>\n",
              "  <tbody>\n",
              "    <tr>\n",
              "      <th>0</th>\n",
              "      <td>569.78</td>\n",
              "      <td>23.870</td>\n",
              "      <td>21.898</td>\n",
              "      <td>0.069</td>\n",
              "      <td>7.035</td>\n",
              "      <td>0.832</td>\n",
              "    </tr>\n",
              "    <tr>\n",
              "      <th>1</th>\n",
              "      <td>61.33</td>\n",
              "      <td>7.831</td>\n",
              "      <td>6.379</td>\n",
              "      <td>0.020</td>\n",
              "      <td>2.213</td>\n",
              "      <td>0.982</td>\n",
              "    </tr>\n",
              "  </tbody>\n",
              "</table>\n",
              "</div>\n",
              "      <button class=\"colab-df-convert\" onclick=\"convertToInteractive('df-5204c41d-d17c-439d-84f3-c01fd42340c7')\"\n",
              "              title=\"Convert this dataframe to an interactive table.\"\n",
              "              style=\"display:none;\">\n",
              "        \n",
              "  <svg xmlns=\"http://www.w3.org/2000/svg\" height=\"24px\"viewBox=\"0 0 24 24\"\n",
              "       width=\"24px\">\n",
              "    <path d=\"M0 0h24v24H0V0z\" fill=\"none\"/>\n",
              "    <path d=\"M18.56 5.44l.94 2.06.94-2.06 2.06-.94-2.06-.94-.94-2.06-.94 2.06-2.06.94zm-11 1L8.5 8.5l.94-2.06 2.06-.94-2.06-.94L8.5 2.5l-.94 2.06-2.06.94zm10 10l.94 2.06.94-2.06 2.06-.94-2.06-.94-.94-2.06-.94 2.06-2.06.94z\"/><path d=\"M17.41 7.96l-1.37-1.37c-.4-.4-.92-.59-1.43-.59-.52 0-1.04.2-1.43.59L10.3 9.45l-7.72 7.72c-.78.78-.78 2.05 0 2.83L4 21.41c.39.39.9.59 1.41.59.51 0 1.02-.2 1.41-.59l7.78-7.78 2.81-2.81c.8-.78.8-2.07 0-2.86zM5.41 20L4 18.59l7.72-7.72 1.47 1.35L5.41 20z\"/>\n",
              "  </svg>\n",
              "      </button>\n",
              "      \n",
              "  <style>\n",
              "    .colab-df-container {\n",
              "      display:flex;\n",
              "      flex-wrap:wrap;\n",
              "      gap: 12px;\n",
              "    }\n",
              "\n",
              "    .colab-df-convert {\n",
              "      background-color: #E8F0FE;\n",
              "      border: none;\n",
              "      border-radius: 50%;\n",
              "      cursor: pointer;\n",
              "      display: none;\n",
              "      fill: #1967D2;\n",
              "      height: 32px;\n",
              "      padding: 0 0 0 0;\n",
              "      width: 32px;\n",
              "    }\n",
              "\n",
              "    .colab-df-convert:hover {\n",
              "      background-color: #E2EBFA;\n",
              "      box-shadow: 0px 1px 2px rgba(60, 64, 67, 0.3), 0px 1px 3px 1px rgba(60, 64, 67, 0.15);\n",
              "      fill: #174EA6;\n",
              "    }\n",
              "\n",
              "    [theme=dark] .colab-df-convert {\n",
              "      background-color: #3B4455;\n",
              "      fill: #D2E3FC;\n",
              "    }\n",
              "\n",
              "    [theme=dark] .colab-df-convert:hover {\n",
              "      background-color: #434B5C;\n",
              "      box-shadow: 0px 1px 3px 1px rgba(0, 0, 0, 0.15);\n",
              "      filter: drop-shadow(0px 1px 2px rgba(0, 0, 0, 0.3));\n",
              "      fill: #FFFFFF;\n",
              "    }\n",
              "  </style>\n",
              "\n",
              "      <script>\n",
              "        const buttonEl =\n",
              "          document.querySelector('#df-5204c41d-d17c-439d-84f3-c01fd42340c7 button.colab-df-convert');\n",
              "        buttonEl.style.display =\n",
              "          google.colab.kernel.accessAllowed ? 'block' : 'none';\n",
              "\n",
              "        async function convertToInteractive(key) {\n",
              "          const element = document.querySelector('#df-5204c41d-d17c-439d-84f3-c01fd42340c7');\n",
              "          const dataTable =\n",
              "            await google.colab.kernel.invokeFunction('convertToInteractive',\n",
              "                                                     [key], {});\n",
              "          if (!dataTable) return;\n",
              "\n",
              "          const docLinkHtml = 'Like what you see? Visit the ' +\n",
              "            '<a target=\"_blank\" href=https://colab.research.google.com/notebooks/data_table.ipynb>data table notebook</a>'\n",
              "            + ' to learn more about interactive tables.';\n",
              "          element.innerHTML = '';\n",
              "          dataTable['output_type'] = 'display_data';\n",
              "          await google.colab.output.renderOutput(dataTable, element);\n",
              "          const docLink = document.createElement('div');\n",
              "          docLink.innerHTML = docLinkHtml;\n",
              "          element.appendChild(docLink);\n",
              "        }\n",
              "      </script>\n",
              "    </div>\n",
              "  </div>\n",
              "  "
            ]
          },
          "metadata": {},
          "execution_count": 12
        }
      ]
    },
    {
      "cell_type": "markdown",
      "source": [
        "#### **그래프 시각화**"
      ],
      "metadata": {
        "id": "4Ef6kxh6H1hs"
      }
    },
    {
      "cell_type": "code",
      "source": [
        "X_every = np.arange(250, 600, 0.1).reshape(-1,1)\n",
        "plt.scatter(X, y, label = 'trainset', c = 'k')\n",
        "plt.plot(X, lr1.predict(X), label = 'linear')\n",
        "plt.plot(X_every, lr2.predict(quad.fit_transform(X_every)), label = 'quadratic')\n",
        "plt.legend()\n",
        "plt.show()"
      ],
      "metadata": {
        "id": "p4WIs-nQ1VKG",
        "colab": {
          "base_uri": "https://localhost:8080/",
          "height": 265
        },
        "outputId": "0ac79354-c70b-4aa1-d585-4979ce76ac93"
      },
      "execution_count": null,
      "outputs": [
        {
          "output_type": "display_data",
          "data": {
            "text/plain": [
              "<Figure size 432x288 with 1 Axes>"
            ],
            "image/png": "[encoded data removed]"
          },
          "metadata": {
            "needs_background": "light"
          }
        }
      ]
    },
    {
      "cell_type": "markdown",
      "source": [
        "### **| 주택 데이터를 이용한 비선형 회귀 분석**\n"
      ],
      "metadata": {
        "id": "B4BejB3gxzqR"
      }
    },
    {
      "cell_type": "markdown",
      "source": [
        "\n",
        "#### **주택 데이터셋**\n",
        "\n",
        "[https://archive.ics.uci.edu/ml/datasets/Housing](https://archive.ics.uci.edu/ml/datasets/Housing)\n",
        "\n",
        "    \n",
        "<pre>\n",
        "01. CRIM     도시의 인당 범죄율\n",
        "02. ZN       2만 5,0000평방 피트가 넘는 주택 비율\n",
        "03. INDUS    도시에서 소매 업종이 아닌 지역 비율\n",
        "04. CHAS     찰스 강 인접 여부(강 주변=1, 그외=0)\n",
        "05. NOX      일산화질소 농도(10ppm당)\n",
        "06. RM       주택의 평균 방 개수\n",
        "07. AGE      1940년 이전에 지어진 자가 주택 비율\n",
        "08. DIS      다섯 개의 보스턴 고용 센터까지 가중치가 적용된 거리\n",
        "09. RAD      방사형으로 뻗은 고속도로까지 접근성 지수\n",
        "10. TAX      10만 달러당 재산세율\n",
        "11. PTRATIO  도시의 학생-교사 비율\n",
        "12. B        1000(Bk - 0.63)^2 도시의 아프리카계 미국인 비율\n",
        "13. LSTAT    저소득층 비율\n",
        "14. MEDV     자가 주택의 중간가격 (단위 $1000s)\n",
        "</pre>\n",
        "\n"
      ],
      "metadata": {
        "id": "SwHpIs02xtKM"
      }
    },
    {
      "cell_type": "markdown",
      "source": [
        "* 데이터 불러오기\n"
      ],
      "metadata": {
        "id": "an_F7hczTA6u"
      }
    },
    {
      "cell_type": "code",
      "source": [
        "X_train, X_test, y_train, y_test = housing_loader(['LSTAT']) # x 속성 선택\n",
        "X_train.shape, X_test.shape, y_train.shape, y_test.shape"
      ],
      "metadata": {
        "id": "hyZDJJVdJ9--",
        "colab": {
          "base_uri": "https://localhost:8080/"
        },
        "outputId": "eba6a39f-f988-44ca-96aa-8905845746c6"
      },
      "execution_count": null,
      "outputs": [
        {
          "output_type": "stream",
          "name": "stdout",
          "text": [
            "(506, 14)\n"
          ]
        },
        {
          "output_type": "execute_result",
          "data": {
            "text/plain": [
              "((404, 1), (102, 1), (404,), (102,))"
            ]
          },
          "metadata": {},
          "execution_count": 14
        }
      ]
    },
    {
      "cell_type": "markdown",
      "source": [
        "* 시각화"
      ],
      "metadata": {
        "id": "Edjyi6Ba-t5F"
      }
    },
    {
      "cell_type": "code",
      "source": [
        "def draw_data():\n",
        "  plt.scatter(X_train, y_train, label='TrainSet', color='lightgray')\n",
        "  plt.scatter(X_test, y_test, label='TestSet', color='lightgreen')\n",
        "  plt.xlabel('% lower status of the population [LSTAT]')\n",
        "  plt.ylabel('Price in $1000s [MEDV]')\n",
        "  plt.legend()\n",
        "\n",
        "draw_data()"
      ],
      "metadata": {
        "id": "VTkitF4MNXWp",
        "colab": {
          "base_uri": "https://localhost:8080/",
          "height": 279
        },
        "outputId": "b8dbe7fa-671e-40ae-e1d1-826e9a10d080"
      },
      "execution_count": null,
      "outputs": [
        {
          "output_type": "display_data",
          "data": {
            "text/plain": [
              "<Figure size 432x288 with 1 Axes>"
            ],
            "image/png": "[encoded data removed]"
          },
          "metadata": {
            "needs_background": "light"
          }
        }
      ]
    },
    {
      "cell_type": "markdown",
      "source": [
        "#### **선형 모델 학습**"
      ],
      "metadata": {
        "id": "-lSaVrzH-0fd"
      }
    },
    {
      "cell_type": "code",
      "source": [
        "from sklearn.linear_model import LinearRegression\n",
        "lr1 = LinearRegression()\n",
        "lr1.fit(X_train, y_train)"
      ],
      "metadata": {
        "id": "TgFDjdHP-yBz",
        "colab": {
          "base_uri": "https://localhost:8080/"
        },
        "outputId": "06324f28-4df8-4493-a8c0-f48704bcc6b8"
      },
      "execution_count": null,
      "outputs": [
        {
          "output_type": "execute_result",
          "data": {
            "text/plain": [
              "LinearRegression()"
            ]
          },
          "metadata": {},
          "execution_count": 16
        }
      ]
    },
    {
      "cell_type": "markdown",
      "source": [
        "#### **이차 다항 모델 학습**"
      ],
      "metadata": {
        "id": "1RTFnTJE-29P"
      }
    },
    {
      "cell_type": "code",
      "source": [
        "lr2 = LinearRegression()\n",
        "quad = PolynomialFeatures(degree = 2)\n",
        "X_quad = quad.fit_transform(X_train)\n",
        "lr2.fit(X_quad, y_train)"
      ],
      "metadata": {
        "id": "XGz31zmn-yD9",
        "colab": {
          "base_uri": "https://localhost:8080/"
        },
        "outputId": "07694beb-ee1e-4db8-9ac4-af05097d01d8"
      },
      "execution_count": null,
      "outputs": [
        {
          "output_type": "execute_result",
          "data": {
            "text/plain": [
              "LinearRegression()"
            ]
          },
          "metadata": {},
          "execution_count": 17
        }
      ]
    },
    {
      "cell_type": "markdown",
      "source": [
        "#### **삼차 다항 모델 학습**"
      ],
      "metadata": {
        "id": "sUOLczvE-9vM"
      }
    },
    {
      "cell_type": "code",
      "source": [
        "lr3 = LinearRegression()\n",
        "cubic = PolynomialFeatures(degree = 3)\n",
        "X_cubic = cubic.fit_transform(X_train)\n",
        "lr3.fit(X_cubic, y_train)"
      ],
      "metadata": {
        "id": "69sIWqRt-yF8",
        "colab": {
          "base_uri": "https://localhost:8080/"
        },
        "outputId": "e3fbcf61-4abd-4fc1-81be-a638066c648a"
      },
      "execution_count": null,
      "outputs": [
        {
          "output_type": "execute_result",
          "data": {
            "text/plain": [
              "LinearRegression()"
            ]
          },
          "metadata": {},
          "execution_count": 18
        }
      ]
    },
    {
      "cell_type": "markdown",
      "source": [
        "#### **테스트셋 성능 비교**"
      ],
      "metadata": {
        "id": "V3fvA5AZCci0"
      }
    },
    {
      "cell_type": "code",
      "source": [
        "# 예측\n",
        "y_pred1 = lr1.predict(X_test)\n",
        "y_pred2 = lr2.predict(quad.fit_transform(X_test)) # 이차항 변환\n",
        "y_pred3 = lr3.predict(cubic.fit_transform(X_test)) # 삼차항 변환\n",
        "\n",
        "# 성능 평가\n",
        "lr1_scores = regression_scores(y_test, y_pred1)\n",
        "lr2_scores = regression_scores(y_test, y_pred2)\n",
        "lr3_scores = regression_scores(y_test, y_pred3)\n",
        "\n",
        "# 데이터프레임으로 보기\n",
        "df_scores = pd.DataFrame([lr1_scores, lr2_scores, lr3_scores], \n",
        "                         index = ['linear','quadratic','cubic'])\n",
        "df_scores.style.background_gradient(cmap = 'Blues_r')"
      ],
      "metadata": {
        "id": "ljOPV5DGRBoR",
        "colab": {
          "base_uri": "https://localhost:8080/",
          "height": 143
        },
        "outputId": "bc8524b2-0ad1-475a-f744-12fa88d2daab"
      },
      "execution_count": null,
      "outputs": [
        {
          "output_type": "execute_result",
          "data": {
            "text/plain": [
              "<pandas.io.formats.style.Styler at 0x7f764f195c50>"
            ],
            "text/html": [
              "<style type=\"text/css\">\n",
              "#T_5f838_row0_col0, #T_5f838_row0_col1, #T_5f838_row0_col2, #T_5f838_row0_col3, #T_5f838_row1_col4, #T_5f838_row2_col5 {\n",
              "  background-color: #f7fbff;\n",
              "  color: #000000;\n",
              "}\n",
              "#T_5f838_row0_col4 {\n",
              "  background-color: #3282be;\n",
              "  color: #f1f1f1;\n",
              "}\n",
              "#T_5f838_row0_col5, #T_5f838_row2_col0, #T_5f838_row2_col1, #T_5f838_row2_col2, #T_5f838_row2_col3, #T_5f838_row2_col4 {\n",
              "  background-color: #08306b;\n",
              "  color: #f1f1f1;\n",
              "}\n",
              "#T_5f838_row1_col0 {\n",
              "  background-color: #1561a9;\n",
              "  color: #f1f1f1;\n",
              "}\n",
              "#T_5f838_row1_col1 {\n",
              "  background-color: #1865ac;\n",
              "  color: #f1f1f1;\n",
              "}\n",
              "#T_5f838_row1_col2 {\n",
              "  background-color: #2c7cba;\n",
              "  color: #f1f1f1;\n",
              "}\n",
              "#T_5f838_row1_col3 {\n",
              "  background-color: #2d7dbb;\n",
              "  color: #f1f1f1;\n",
              "}\n",
              "#T_5f838_row1_col5 {\n",
              "  background-color: #d2e3f3;\n",
              "  color: #000000;\n",
              "}\n",
              "</style>\n",
              "<table id=\"T_5f838_\" class=\"dataframe\">\n",
              "  <thead>\n",
              "    <tr>\n",
              "      <th class=\"blank level0\" >&nbsp;</th>\n",
              "      <th class=\"col_heading level0 col0\" >mse</th>\n",
              "      <th class=\"col_heading level0 col1\" >rmse</th>\n",
              "      <th class=\"col_heading level0 col2\" >mae</th>\n",
              "      <th class=\"col_heading level0 col3\" >nmae</th>\n",
              "      <th class=\"col_heading level0 col4\" >mape</th>\n",
              "      <th class=\"col_heading level0 col5\" >r2</th>\n",
              "    </tr>\n",
              "  </thead>\n",
              "  <tbody>\n",
              "    <tr>\n",
              "      <th id=\"T_5f838_level0_row0\" class=\"row_heading level0 row0\" >linear</th>\n",
              "      <td id=\"T_5f838_row0_col0\" class=\"data row0 col0\" >0.463000</td>\n",
              "      <td id=\"T_5f838_row0_col1\" class=\"data row0 col1\" >0.680000</td>\n",
              "      <td id=\"T_5f838_row0_col2\" class=\"data row0 col2\" >0.501000</td>\n",
              "      <td id=\"T_5f838_row0_col3\" class=\"data row0 col3\" >0.721000</td>\n",
              "      <td id=\"T_5f838_row0_col4\" class=\"data row0 col4\" >671.832000</td>\n",
              "      <td id=\"T_5f838_row0_col5\" class=\"data row0 col5\" >0.537000</td>\n",
              "    </tr>\n",
              "    <tr>\n",
              "      <th id=\"T_5f838_level0_row1\" class=\"row_heading level0 row1\" >quadratic</th>\n",
              "      <td id=\"T_5f838_row1_col0\" class=\"data row1 col0\" >0.343000</td>\n",
              "      <td id=\"T_5f838_row1_col1\" class=\"data row1 col1\" >0.586000</td>\n",
              "      <td id=\"T_5f838_row1_col2\" class=\"data row1 col2\" >0.445000</td>\n",
              "      <td id=\"T_5f838_row1_col3\" class=\"data row1 col3\" >0.640000</td>\n",
              "      <td id=\"T_5f838_row1_col4\" class=\"data row1 col4\" >713.233000</td>\n",
              "      <td id=\"T_5f838_row1_col5\" class=\"data row1 col5\" >0.657000</td>\n",
              "    </tr>\n",
              "    <tr>\n",
              "      <th id=\"T_5f838_level0_row2\" class=\"row_heading level0 row2\" >cubic</th>\n",
              "      <td id=\"T_5f838_row2_col0\" class=\"data row2 col0\" >0.315000</td>\n",
              "      <td id=\"T_5f838_row2_col1\" class=\"data row2 col1\" >0.562000</td>\n",
              "      <td id=\"T_5f838_row2_col2\" class=\"data row2 col2\" >0.422000</td>\n",
              "      <td id=\"T_5f838_row2_col3\" class=\"data row2 col3\" >0.606000</td>\n",
              "      <td id=\"T_5f838_row2_col4\" class=\"data row2 col4\" >652.893000</td>\n",
              "      <td id=\"T_5f838_row2_col5\" class=\"data row2 col5\" >0.685000</td>\n",
              "    </tr>\n",
              "  </tbody>\n",
              "</table>\n"
            ]
          },
          "metadata": {},
          "execution_count": 19
        }
      ]
    },
    {
      "cell_type": "markdown",
      "source": [
        "#### **그래프 시각화**"
      ],
      "metadata": {
        "id": "aNIjJ9smCf9F"
      }
    },
    {
      "cell_type": "code",
      "source": [
        "draw_data()\n",
        "X_every = np.arange(-2, 4, 0.1).reshape(-1,1)\n",
        "plt.plot(X_every, lr1.predict(X_every), label = 'linear', linewidth = 3, linestyle = ':' ) # 1차항 \n",
        "plt.plot(X_every, lr2.predict(quad.transform(X_every)), label = 'quadratic', linewidth = 3 ) # 2차항\n",
        "plt.plot(X_every, lr3.predict(cubic.transform(X_every)), label = 'cubic', linewidth = 3, linestyle = '--' ) # 3차항 "
      ],
      "metadata": {
        "id": "irw_FWuHRPra",
        "colab": {
          "base_uri": "https://localhost:8080/",
          "height": 297
        },
        "outputId": "a846c48c-de09-4fc3-de88-aef8e1749666"
      },
      "execution_count": null,
      "outputs": [
        {
          "output_type": "execute_result",
          "data": {
            "text/plain": [
              "[<matplotlib.lines.Line2D at 0x7f764edd94d0>]"
            ]
          },
          "metadata": {},
          "execution_count": 20
        },
        {
          "output_type": "display_data",
          "data": {
            "text/plain": [
              "<Figure size 432x288 with 1 Axes>"
            ],
            "image/png": "[encoded data removed]"
          },
          "metadata": {
            "needs_background": "light"
          }
        }
      ]
    },
    {
      "cell_type": "markdown",
      "source": [
        "## **랜덤 포레스트를 사용하여 비선형 관계 다루기**\n",
        "---\n",
        "\n",
        "![](https://img1.daumcdn.net/thumb/R1280x0/?scode=mtistory2&fname=https%3A%2F%2Fblog.kakaocdn.net%2Fdn%2F96F6N%2FbtqwVglgV2S%2FYTCytd7Z2egbnbJM29MJv1%2Fimg.png)\n",
        "\n",
        "*출처:  ratsgo's blog"
      ],
      "metadata": {
        "id": "o_Z_UJB-bM6R"
      }
    },
    {
      "cell_type": "markdown",
      "source": [
        "### **| 결정트리 회귀**\n",
        "* Decision Tree"
      ],
      "metadata": {
        "id": "JmqniPTaf0sE"
      }
    },
    {
      "cell_type": "markdown",
      "source": [
        "#### **모델 학습**"
      ],
      "metadata": {
        "id": "U9AXb-Z5EV9C"
      }
    },
    {
      "cell_type": "code",
      "source": [
        "from sklearn.tree import DecisionTreeRegressor\n",
        "\n",
        "tree = DecisionTreeRegressor(random_state = 1, max_depth = 3)\n",
        "tree.fit(X_train, y_train)"
      ],
      "metadata": {
        "id": "jBKTe-_bgNDi",
        "colab": {
          "base_uri": "https://localhost:8080/"
        },
        "outputId": "9fcd71eb-f9eb-412f-a902-a4e0e77f0c2b"
      },
      "execution_count": null,
      "outputs": [
        {
          "output_type": "execute_result",
          "data": {
            "text/plain": [
              "DecisionTreeRegressor(max_depth=3, random_state=1)"
            ]
          },
          "metadata": {},
          "execution_count": 21
        }
      ]
    },
    {
      "cell_type": "markdown",
      "source": [
        "#### **테스트셋 성능비교**"
      ],
      "metadata": {
        "id": "p0j-4TSyEY0a"
      }
    },
    {
      "cell_type": "code",
      "source": [
        "y_pred = tree.predict(X_test)\n",
        "score = regression_scores(y_test, y_pred)\n",
        "df_scores.loc['tree'] = score # 행이라 loc 사용\n",
        "df_scores.style.background_gradient(cmap = 'Blues_r')"
      ],
      "metadata": {
        "id": "22aKQ3OJ9v8n",
        "colab": {
          "base_uri": "https://localhost:8080/",
          "height": 175
        },
        "outputId": "1794dba5-b573-43fd-994d-08a841202875"
      },
      "execution_count": null,
      "outputs": [
        {
          "output_type": "execute_result",
          "data": {
            "text/plain": [
              "<pandas.io.formats.style.Styler at 0x7f764eb09dd0>"
            ],
            "text/html": [
              "<style type=\"text/css\">\n",
              "#T_cccd1_row0_col0, #T_cccd1_row0_col1, #T_cccd1_row0_col2, #T_cccd1_row0_col3, #T_cccd1_row1_col4, #T_cccd1_row3_col5 {\n",
              "  background-color: #f7fbff;\n",
              "  color: #000000;\n",
              "}\n",
              "#T_cccd1_row0_col4 {\n",
              "  background-color: #b3d3e8;\n",
              "  color: #000000;\n",
              "}\n",
              "#T_cccd1_row0_col5, #T_cccd1_row3_col0, #T_cccd1_row3_col1, #T_cccd1_row3_col2, #T_cccd1_row3_col3, #T_cccd1_row3_col4 {\n",
              "  background-color: #08306b;\n",
              "  color: #f1f1f1;\n",
              "}\n",
              "#T_cccd1_row1_col0 {\n",
              "  background-color: #1d6cb1;\n",
              "  color: #f1f1f1;\n",
              "}\n",
              "#T_cccd1_row1_col1 {\n",
              "  background-color: #2272b6;\n",
              "  color: #f1f1f1;\n",
              "}\n",
              "#T_cccd1_row1_col2 {\n",
              "  background-color: #56a0ce;\n",
              "  color: #f1f1f1;\n",
              "}\n",
              "#T_cccd1_row1_col3 {\n",
              "  background-color: #549fcd;\n",
              "  color: #f1f1f1;\n",
              "}\n",
              "#T_cccd1_row1_col5 {\n",
              "  background-color: #caddf0;\n",
              "  color: #000000;\n",
              "}\n",
              "#T_cccd1_row2_col0 {\n",
              "  background-color: #083d7f;\n",
              "  color: #f1f1f1;\n",
              "}\n",
              "#T_cccd1_row2_col1 {\n",
              "  background-color: #084184;\n",
              "  color: #f1f1f1;\n",
              "}\n",
              "#T_cccd1_row2_col2 {\n",
              "  background-color: #1764ab;\n",
              "  color: #f1f1f1;\n",
              "}\n",
              "#T_cccd1_row2_col3 {\n",
              "  background-color: #1663aa;\n",
              "  color: #f1f1f1;\n",
              "}\n",
              "#T_cccd1_row2_col4 {\n",
              "  background-color: #7db8da;\n",
              "  color: #000000;\n",
              "}\n",
              "#T_cccd1_row2_col5 {\n",
              "  background-color: #edf4fc;\n",
              "  color: #000000;\n",
              "}\n",
              "</style>\n",
              "<table id=\"T_cccd1_\" class=\"dataframe\">\n",
              "  <thead>\n",
              "    <tr>\n",
              "      <th class=\"blank level0\" >&nbsp;</th>\n",
              "      <th class=\"col_heading level0 col0\" >mse</th>\n",
              "      <th class=\"col_heading level0 col1\" >rmse</th>\n",
              "      <th class=\"col_heading level0 col2\" >mae</th>\n",
              "      <th class=\"col_heading level0 col3\" >nmae</th>\n",
              "      <th class=\"col_heading level0 col4\" >mape</th>\n",
              "      <th class=\"col_heading level0 col5\" >r2</th>\n",
              "    </tr>\n",
              "  </thead>\n",
              "  <tbody>\n",
              "    <tr>\n",
              "      <th id=\"T_cccd1_level0_row0\" class=\"row_heading level0 row0\" >linear</th>\n",
              "      <td id=\"T_cccd1_row0_col0\" class=\"data row0 col0\" >0.463000</td>\n",
              "      <td id=\"T_cccd1_row0_col1\" class=\"data row0 col1\" >0.680000</td>\n",
              "      <td id=\"T_cccd1_row0_col2\" class=\"data row0 col2\" >0.501000</td>\n",
              "      <td id=\"T_cccd1_row0_col3\" class=\"data row0 col3\" >0.721000</td>\n",
              "      <td id=\"T_cccd1_row0_col4\" class=\"data row0 col4\" >671.832000</td>\n",
              "      <td id=\"T_cccd1_row0_col5\" class=\"data row0 col5\" >0.537000</td>\n",
              "    </tr>\n",
              "    <tr>\n",
              "      <th id=\"T_cccd1_level0_row1\" class=\"row_heading level0 row1\" >quadratic</th>\n",
              "      <td id=\"T_cccd1_row1_col0\" class=\"data row1 col0\" >0.343000</td>\n",
              "      <td id=\"T_cccd1_row1_col1\" class=\"data row1 col1\" >0.586000</td>\n",
              "      <td id=\"T_cccd1_row1_col2\" class=\"data row1 col2\" >0.445000</td>\n",
              "      <td id=\"T_cccd1_row1_col3\" class=\"data row1 col3\" >0.640000</td>\n",
              "      <td id=\"T_cccd1_row1_col4\" class=\"data row1 col4\" >713.233000</td>\n",
              "      <td id=\"T_cccd1_row1_col5\" class=\"data row1 col5\" >0.657000</td>\n",
              "    </tr>\n",
              "    <tr>\n",
              "      <th id=\"T_cccd1_level0_row2\" class=\"row_heading level0 row2\" >cubic</th>\n",
              "      <td id=\"T_cccd1_row2_col0\" class=\"data row2 col0\" >0.315000</td>\n",
              "      <td id=\"T_cccd1_row2_col1\" class=\"data row2 col1\" >0.562000</td>\n",
              "      <td id=\"T_cccd1_row2_col2\" class=\"data row2 col2\" >0.422000</td>\n",
              "      <td id=\"T_cccd1_row2_col3\" class=\"data row2 col3\" >0.606000</td>\n",
              "      <td id=\"T_cccd1_row2_col4\" class=\"data row2 col4\" >652.893000</td>\n",
              "      <td id=\"T_cccd1_row2_col5\" class=\"data row2 col5\" >0.685000</td>\n",
              "    </tr>\n",
              "    <tr>\n",
              "      <th id=\"T_cccd1_level0_row3\" class=\"row_heading level0 row3\" >tree</th>\n",
              "      <td id=\"T_cccd1_row3_col0\" class=\"data row3 col0\" >0.307000</td>\n",
              "      <td id=\"T_cccd1_row3_col1\" class=\"data row3 col1\" >0.554000</td>\n",
              "      <td id=\"T_cccd1_row3_col2\" class=\"data row3 col2\" >0.402000</td>\n",
              "      <td id=\"T_cccd1_row3_col3\" class=\"data row3 col3\" >0.578000</td>\n",
              "      <td id=\"T_cccd1_row3_col4\" class=\"data row3 col4\" >580.727000</td>\n",
              "      <td id=\"T_cccd1_row3_col5\" class=\"data row3 col5\" >0.693000</td>\n",
              "    </tr>\n",
              "  </tbody>\n",
              "</table>\n"
            ]
          },
          "metadata": {},
          "execution_count": 22
        }
      ]
    },
    {
      "cell_type": "markdown",
      "source": [
        "#### **그래프 시각화**"
      ],
      "metadata": {
        "id": "J1EfnMS-Eb0T"
      }
    },
    {
      "cell_type": "code",
      "source": [
        "draw_data()\n",
        "plt.plot(X_every, tree.predict(X_every), lw = 3)\n",
        "plt.show()"
      ],
      "metadata": {
        "id": "wefFK6Ivatq5",
        "colab": {
          "base_uri": "https://localhost:8080/",
          "height": 279
        },
        "outputId": "cc9760c3-91a1-420f-b344-a47824871421"
      },
      "execution_count": null,
      "outputs": [
        {
          "output_type": "display_data",
          "data": {
            "text/plain": [
              "<Figure size 432x288 with 1 Axes>"
            ],
            "image/png": "[encoded data removed]"
          },
          "metadata": {
            "needs_background": "light"
          }
        }
      ]
    },
    {
      "cell_type": "markdown",
      "source": [
        "### **| 랜덤 포레스트 회귀 (Random Forest Regressor)**"
      ],
      "metadata": {
        "id": "l1XVbkXFD7Rm"
      }
    },
    {
      "cell_type": "markdown",
      "source": [
        "#### **모델 학습**"
      ],
      "metadata": {
        "id": "vPA4opI3EAza"
      }
    },
    {
      "cell_type": "code",
      "source": [
        "from sklearn.ensemble import RandomForestRegressor\n",
        "\n",
        "forest = RandomForestRegressor(random_state = 1)\n",
        "forest.fit(X_train, y_train)"
      ],
      "metadata": {
        "id": "M_wdfRw0bQhp",
        "colab": {
          "base_uri": "https://localhost:8080/"
        },
        "outputId": "c5ad4d36-5035-4497-e524-b9bf7a8d924a"
      },
      "execution_count": null,
      "outputs": [
        {
          "output_type": "execute_result",
          "data": {
            "text/plain": [
              "RandomForestRegressor(random_state=1)"
            ]
          },
          "metadata": {},
          "execution_count": 24
        }
      ]
    },
    {
      "cell_type": "markdown",
      "source": [
        "#### **테스트셋 성능 비교**"
      ],
      "metadata": {
        "id": "uLPJ4OV6EFyT"
      }
    },
    {
      "cell_type": "code",
      "source": [
        "y_pred = forest.predict(X_test)\n",
        "score = regression_scores(y_test, y_pred)\n",
        "df_scores.loc['forest'] = score\n",
        "df_scores.style.background_gradient(cmap = 'Blues_r')"
      ],
      "metadata": {
        "id": "thihkhhg91d0",
        "colab": {
          "base_uri": "https://localhost:8080/",
          "height": 206
        },
        "outputId": "4c64cb2f-e8ac-4471-9f95-8ec8489e77d9"
      },
      "execution_count": null,
      "outputs": [
        {
          "output_type": "execute_result",
          "data": {
            "text/plain": [
              "<pandas.io.formats.style.Styler at 0x7f764e352590>"
            ],
            "text/html": [
              "<style type=\"text/css\">\n",
              "#T_06333_row0_col0, #T_06333_row0_col1, #T_06333_row0_col2, #T_06333_row0_col3, #T_06333_row1_col4, #T_06333_row3_col5 {\n",
              "  background-color: #f7fbff;\n",
              "  color: #000000;\n",
              "}\n",
              "#T_06333_row0_col4 {\n",
              "  background-color: #d4e4f4;\n",
              "  color: #000000;\n",
              "}\n",
              "#T_06333_row0_col5, #T_06333_row3_col0, #T_06333_row3_col1, #T_06333_row3_col2, #T_06333_row3_col3, #T_06333_row4_col4 {\n",
              "  background-color: #08306b;\n",
              "  color: #f1f1f1;\n",
              "}\n",
              "#T_06333_row1_col0 {\n",
              "  background-color: #1d6cb1;\n",
              "  color: #f1f1f1;\n",
              "}\n",
              "#T_06333_row1_col1 {\n",
              "  background-color: #2272b6;\n",
              "  color: #f1f1f1;\n",
              "}\n",
              "#T_06333_row1_col2, #T_06333_row3_col4 {\n",
              "  background-color: #56a0ce;\n",
              "  color: #f1f1f1;\n",
              "}\n",
              "#T_06333_row1_col3 {\n",
              "  background-color: #549fcd;\n",
              "  color: #f1f1f1;\n",
              "}\n",
              "#T_06333_row1_col5 {\n",
              "  background-color: #caddf0;\n",
              "  color: #000000;\n",
              "}\n",
              "#T_06333_row2_col0 {\n",
              "  background-color: #083d7f;\n",
              "  color: #f1f1f1;\n",
              "}\n",
              "#T_06333_row2_col1 {\n",
              "  background-color: #084184;\n",
              "  color: #f1f1f1;\n",
              "}\n",
              "#T_06333_row2_col2 {\n",
              "  background-color: #1764ab;\n",
              "  color: #f1f1f1;\n",
              "}\n",
              "#T_06333_row2_col3 {\n",
              "  background-color: #1663aa;\n",
              "  color: #f1f1f1;\n",
              "}\n",
              "#T_06333_row2_col4 {\n",
              "  background-color: #c4daee;\n",
              "  color: #000000;\n",
              "}\n",
              "#T_06333_row2_col5 {\n",
              "  background-color: #edf4fc;\n",
              "  color: #000000;\n",
              "}\n",
              "#T_06333_row4_col0 {\n",
              "  background-color: #d9e7f5;\n",
              "  color: #000000;\n",
              "}\n",
              "#T_06333_row4_col1 {\n",
              "  background-color: #dceaf6;\n",
              "  color: #000000;\n",
              "}\n",
              "#T_06333_row4_col2, #T_06333_row4_col3 {\n",
              "  background-color: #c6dbef;\n",
              "  color: #000000;\n",
              "}\n",
              "#T_06333_row4_col5 {\n",
              "  background-color: #0e58a2;\n",
              "  color: #f1f1f1;\n",
              "}\n",
              "</style>\n",
              "<table id=\"T_06333_\" class=\"dataframe\">\n",
              "  <thead>\n",
              "    <tr>\n",
              "      <th class=\"blank level0\" >&nbsp;</th>\n",
              "      <th class=\"col_heading level0 col0\" >mse</th>\n",
              "      <th class=\"col_heading level0 col1\" >rmse</th>\n",
              "      <th class=\"col_heading level0 col2\" >mae</th>\n",
              "      <th class=\"col_heading level0 col3\" >nmae</th>\n",
              "      <th class=\"col_heading level0 col4\" >mape</th>\n",
              "      <th class=\"col_heading level0 col5\" >r2</th>\n",
              "    </tr>\n",
              "  </thead>\n",
              "  <tbody>\n",
              "    <tr>\n",
              "      <th id=\"T_06333_level0_row0\" class=\"row_heading level0 row0\" >linear</th>\n",
              "      <td id=\"T_06333_row0_col0\" class=\"data row0 col0\" >0.463000</td>\n",
              "      <td id=\"T_06333_row0_col1\" class=\"data row0 col1\" >0.680000</td>\n",
              "      <td id=\"T_06333_row0_col2\" class=\"data row0 col2\" >0.501000</td>\n",
              "      <td id=\"T_06333_row0_col3\" class=\"data row0 col3\" >0.721000</td>\n",
              "      <td id=\"T_06333_row0_col4\" class=\"data row0 col4\" >671.832000</td>\n",
              "      <td id=\"T_06333_row0_col5\" class=\"data row0 col5\" >0.537000</td>\n",
              "    </tr>\n",
              "    <tr>\n",
              "      <th id=\"T_06333_level0_row1\" class=\"row_heading level0 row1\" >quadratic</th>\n",
              "      <td id=\"T_06333_row1_col0\" class=\"data row1 col0\" >0.343000</td>\n",
              "      <td id=\"T_06333_row1_col1\" class=\"data row1 col1\" >0.586000</td>\n",
              "      <td id=\"T_06333_row1_col2\" class=\"data row1 col2\" >0.445000</td>\n",
              "      <td id=\"T_06333_row1_col3\" class=\"data row1 col3\" >0.640000</td>\n",
              "      <td id=\"T_06333_row1_col4\" class=\"data row1 col4\" >713.233000</td>\n",
              "      <td id=\"T_06333_row1_col5\" class=\"data row1 col5\" >0.657000</td>\n",
              "    </tr>\n",
              "    <tr>\n",
              "      <th id=\"T_06333_level0_row2\" class=\"row_heading level0 row2\" >cubic</th>\n",
              "      <td id=\"T_06333_row2_col0\" class=\"data row2 col0\" >0.315000</td>\n",
              "      <td id=\"T_06333_row2_col1\" class=\"data row2 col1\" >0.562000</td>\n",
              "      <td id=\"T_06333_row2_col2\" class=\"data row2 col2\" >0.422000</td>\n",
              "      <td id=\"T_06333_row2_col3\" class=\"data row2 col3\" >0.606000</td>\n",
              "      <td id=\"T_06333_row2_col4\" class=\"data row2 col4\" >652.893000</td>\n",
              "      <td id=\"T_06333_row2_col5\" class=\"data row2 col5\" >0.685000</td>\n",
              "    </tr>\n",
              "    <tr>\n",
              "      <th id=\"T_06333_level0_row3\" class=\"row_heading level0 row3\" >tree</th>\n",
              "      <td id=\"T_06333_row3_col0\" class=\"data row3 col0\" >0.307000</td>\n",
              "      <td id=\"T_06333_row3_col1\" class=\"data row3 col1\" >0.554000</td>\n",
              "      <td id=\"T_06333_row3_col2\" class=\"data row3 col2\" >0.402000</td>\n",
              "      <td id=\"T_06333_row3_col3\" class=\"data row3 col3\" >0.578000</td>\n",
              "      <td id=\"T_06333_row3_col4\" class=\"data row3 col4\" >580.727000</td>\n",
              "      <td id=\"T_06333_row3_col5\" class=\"data row3 col5\" >0.693000</td>\n",
              "    </tr>\n",
              "    <tr>\n",
              "      <th id=\"T_06333_level0_row4\" class=\"row_heading level0 row4\" >forest</th>\n",
              "      <td id=\"T_06333_row4_col0\" class=\"data row4 col0\" >0.439000</td>\n",
              "      <td id=\"T_06333_row4_col1\" class=\"data row4 col1\" >0.663000</td>\n",
              "      <td id=\"T_06333_row4_col2\" class=\"data row4 col2\" >0.476000</td>\n",
              "      <td id=\"T_06333_row4_col3\" class=\"data row4 col3\" >0.685000</td>\n",
              "      <td id=\"T_06333_row4_col4\" class=\"data row4 col4\" >478.131000</td>\n",
              "      <td id=\"T_06333_row4_col5\" class=\"data row4 col5\" >0.561000</td>\n",
              "    </tr>\n",
              "  </tbody>\n",
              "</table>\n"
            ]
          },
          "metadata": {},
          "execution_count": 25
        }
      ]
    },
    {
      "cell_type": "markdown",
      "source": [
        "#### **그래프 시각화**"
      ],
      "metadata": {
        "id": "9yj-SJ85ESGc"
      }
    },
    {
      "cell_type": "code",
      "source": [
        "draw_data()\n",
        "plt.plot(X_every, forest.predict(X_every))\n",
        "plt.show()"
      ],
      "metadata": {
        "id": "Zipzp2MBf400",
        "colab": {
          "base_uri": "https://localhost:8080/",
          "height": 279
        },
        "outputId": "23439bf5-3c3f-4fde-9241-f435140bd199"
      },
      "execution_count": null,
      "outputs": [
        {
          "output_type": "display_data",
          "data": {
            "text/plain": [
              "<Figure size 432x288 with 1 Axes>"
            ],
            "image/png": "[encoded data removed]"
          },
          "metadata": {
            "needs_background": "light"
          }
        }
      ]
    },
    {
      "cell_type": "markdown",
      "source": [
        "### **| 엑스트라 트리 (Extra Tree Regressor)**"
      ],
      "metadata": {
        "id": "J6xmuPP6LZjz"
      }
    },
    {
      "cell_type": "markdown",
      "source": [
        "#### **모델 학습**"
      ],
      "metadata": {
        "id": "hC2KVu-XLZj5"
      }
    },
    {
      "cell_type": "code",
      "source": [
        "from sklearn.ensemble import ExtraTreesRegressor\n",
        "\n",
        "et = ExtraTreesRegressor(random_state = 1)\n",
        "et.fit(X_train, y_train)"
      ],
      "metadata": {
        "id": "w63LEOBVLZj5",
        "colab": {
          "base_uri": "https://localhost:8080/"
        },
        "outputId": "ac90457d-8ec2-4dfc-c616-436e0cb5286a"
      },
      "execution_count": null,
      "outputs": [
        {
          "output_type": "execute_result",
          "data": {
            "text/plain": [
              "ExtraTreesRegressor(random_state=1)"
            ]
          },
          "metadata": {},
          "execution_count": 27
        }
      ]
    },
    {
      "cell_type": "markdown",
      "source": [
        "#### **테스트셋 성능 비교**"
      ],
      "metadata": {
        "id": "exSV_oihLZj5"
      }
    },
    {
      "cell_type": "code",
      "source": [
        "y_pred = et.predict(X_test)\n",
        "score = regression_scores(y_test, y_pred)\n",
        "df_scores.loc['extra tree'] = score\n",
        "df_scores.style.background_gradient(cmap = 'Blues_r')"
      ],
      "metadata": {
        "id": "iF7cDoxQLZj5",
        "colab": {
          "base_uri": "https://localhost:8080/",
          "height": 237
        },
        "outputId": "8c9dd7c8-de4f-45c5-c523-b4bae474edbe"
      },
      "execution_count": null,
      "outputs": [
        {
          "output_type": "execute_result",
          "data": {
            "text/plain": [
              "<pandas.io.formats.style.Styler at 0x7f764e172d10>"
            ],
            "text/html": [
              "<style type=\"text/css\">\n",
              "#T_c02a7_row0_col0, #T_c02a7_row0_col1, #T_c02a7_row0_col2, #T_c02a7_row0_col3, #T_c02a7_row1_col4, #T_c02a7_row3_col5 {\n",
              "  background-color: #f7fbff;\n",
              "  color: #000000;\n",
              "}\n",
              "#T_c02a7_row0_col4 {\n",
              "  background-color: #dce9f6;\n",
              "  color: #000000;\n",
              "}\n",
              "#T_c02a7_row0_col5, #T_c02a7_row3_col0, #T_c02a7_row3_col1, #T_c02a7_row3_col2, #T_c02a7_row3_col3, #T_c02a7_row5_col4 {\n",
              "  background-color: #08306b;\n",
              "  color: #f1f1f1;\n",
              "}\n",
              "#T_c02a7_row1_col0 {\n",
              "  background-color: #1d6cb1;\n",
              "  color: #f1f1f1;\n",
              "}\n",
              "#T_c02a7_row1_col1 {\n",
              "  background-color: #2272b6;\n",
              "  color: #f1f1f1;\n",
              "}\n",
              "#T_c02a7_row1_col2 {\n",
              "  background-color: #56a0ce;\n",
              "  color: #f1f1f1;\n",
              "}\n",
              "#T_c02a7_row1_col3 {\n",
              "  background-color: #549fcd;\n",
              "  color: #f1f1f1;\n",
              "}\n",
              "#T_c02a7_row1_col5 {\n",
              "  background-color: #caddf0;\n",
              "  color: #000000;\n",
              "}\n",
              "#T_c02a7_row2_col0 {\n",
              "  background-color: #083d7f;\n",
              "  color: #f1f1f1;\n",
              "}\n",
              "#T_c02a7_row2_col1 {\n",
              "  background-color: #084184;\n",
              "  color: #f1f1f1;\n",
              "}\n",
              "#T_c02a7_row2_col2 {\n",
              "  background-color: #1764ab;\n",
              "  color: #f1f1f1;\n",
              "}\n",
              "#T_c02a7_row2_col3 {\n",
              "  background-color: #1663aa;\n",
              "  color: #f1f1f1;\n",
              "}\n",
              "#T_c02a7_row2_col4 {\n",
              "  background-color: #cfe1f2;\n",
              "  color: #000000;\n",
              "}\n",
              "#T_c02a7_row2_col5 {\n",
              "  background-color: #edf4fc;\n",
              "  color: #000000;\n",
              "}\n",
              "#T_c02a7_row3_col4 {\n",
              "  background-color: #81badb;\n",
              "  color: #000000;\n",
              "}\n",
              "#T_c02a7_row4_col0 {\n",
              "  background-color: #d9e7f5;\n",
              "  color: #000000;\n",
              "}\n",
              "#T_c02a7_row4_col1 {\n",
              "  background-color: #dceaf6;\n",
              "  color: #000000;\n",
              "}\n",
              "#T_c02a7_row4_col2, #T_c02a7_row4_col3 {\n",
              "  background-color: #c6dbef;\n",
              "  color: #000000;\n",
              "}\n",
              "#T_c02a7_row4_col4 {\n",
              "  background-color: #1865ac;\n",
              "  color: #f1f1f1;\n",
              "}\n",
              "#T_c02a7_row4_col5 {\n",
              "  background-color: #0e58a2;\n",
              "  color: #f1f1f1;\n",
              "}\n",
              "#T_c02a7_row5_col0 {\n",
              "  background-color: #d7e6f5;\n",
              "  color: #000000;\n",
              "}\n",
              "#T_c02a7_row5_col1 {\n",
              "  background-color: #dbe9f6;\n",
              "  color: #000000;\n",
              "}\n",
              "#T_c02a7_row5_col2, #T_c02a7_row5_col3 {\n",
              "  background-color: #c7dcef;\n",
              "  color: #000000;\n",
              "}\n",
              "#T_c02a7_row5_col5 {\n",
              "  background-color: #0f5aa3;\n",
              "  color: #f1f1f1;\n",
              "}\n",
              "</style>\n",
              "<table id=\"T_c02a7_\" class=\"dataframe\">\n",
              "  <thead>\n",
              "    <tr>\n",
              "      <th class=\"blank level0\" >&nbsp;</th>\n",
              "      <th class=\"col_heading level0 col0\" >mse</th>\n",
              "      <th class=\"col_heading level0 col1\" >rmse</th>\n",
              "      <th class=\"col_heading level0 col2\" >mae</th>\n",
              "      <th class=\"col_heading level0 col3\" >nmae</th>\n",
              "      <th class=\"col_heading level0 col4\" >mape</th>\n",
              "      <th class=\"col_heading level0 col5\" >r2</th>\n",
              "    </tr>\n",
              "  </thead>\n",
              "  <tbody>\n",
              "    <tr>\n",
              "      <th id=\"T_c02a7_level0_row0\" class=\"row_heading level0 row0\" >linear</th>\n",
              "      <td id=\"T_c02a7_row0_col0\" class=\"data row0 col0\" >0.463000</td>\n",
              "      <td id=\"T_c02a7_row0_col1\" class=\"data row0 col1\" >0.680000</td>\n",
              "      <td id=\"T_c02a7_row0_col2\" class=\"data row0 col2\" >0.501000</td>\n",
              "      <td id=\"T_c02a7_row0_col3\" class=\"data row0 col3\" >0.721000</td>\n",
              "      <td id=\"T_c02a7_row0_col4\" class=\"data row0 col4\" >671.832000</td>\n",
              "      <td id=\"T_c02a7_row0_col5\" class=\"data row0 col5\" >0.537000</td>\n",
              "    </tr>\n",
              "    <tr>\n",
              "      <th id=\"T_c02a7_level0_row1\" class=\"row_heading level0 row1\" >quadratic</th>\n",
              "      <td id=\"T_c02a7_row1_col0\" class=\"data row1 col0\" >0.343000</td>\n",
              "      <td id=\"T_c02a7_row1_col1\" class=\"data row1 col1\" >0.586000</td>\n",
              "      <td id=\"T_c02a7_row1_col2\" class=\"data row1 col2\" >0.445000</td>\n",
              "      <td id=\"T_c02a7_row1_col3\" class=\"data row1 col3\" >0.640000</td>\n",
              "      <td id=\"T_c02a7_row1_col4\" class=\"data row1 col4\" >713.233000</td>\n",
              "      <td id=\"T_c02a7_row1_col5\" class=\"data row1 col5\" >0.657000</td>\n",
              "    </tr>\n",
              "    <tr>\n",
              "      <th id=\"T_c02a7_level0_row2\" class=\"row_heading level0 row2\" >cubic</th>\n",
              "      <td id=\"T_c02a7_row2_col0\" class=\"data row2 col0\" >0.315000</td>\n",
              "      <td id=\"T_c02a7_row2_col1\" class=\"data row2 col1\" >0.562000</td>\n",
              "      <td id=\"T_c02a7_row2_col2\" class=\"data row2 col2\" >0.422000</td>\n",
              "      <td id=\"T_c02a7_row2_col3\" class=\"data row2 col3\" >0.606000</td>\n",
              "      <td id=\"T_c02a7_row2_col4\" class=\"data row2 col4\" >652.893000</td>\n",
              "      <td id=\"T_c02a7_row2_col5\" class=\"data row2 col5\" >0.685000</td>\n",
              "    </tr>\n",
              "    <tr>\n",
              "      <th id=\"T_c02a7_level0_row3\" class=\"row_heading level0 row3\" >tree</th>\n",
              "      <td id=\"T_c02a7_row3_col0\" class=\"data row3 col0\" >0.307000</td>\n",
              "      <td id=\"T_c02a7_row3_col1\" class=\"data row3 col1\" >0.554000</td>\n",
              "      <td id=\"T_c02a7_row3_col2\" class=\"data row3 col2\" >0.402000</td>\n",
              "      <td id=\"T_c02a7_row3_col3\" class=\"data row3 col3\" >0.578000</td>\n",
              "      <td id=\"T_c02a7_row3_col4\" class=\"data row3 col4\" >580.727000</td>\n",
              "      <td id=\"T_c02a7_row3_col5\" class=\"data row3 col5\" >0.693000</td>\n",
              "    </tr>\n",
              "    <tr>\n",
              "      <th id=\"T_c02a7_level0_row4\" class=\"row_heading level0 row4\" >forest</th>\n",
              "      <td id=\"T_c02a7_row4_col0\" class=\"data row4 col0\" >0.439000</td>\n",
              "      <td id=\"T_c02a7_row4_col1\" class=\"data row4 col1\" >0.663000</td>\n",
              "      <td id=\"T_c02a7_row4_col2\" class=\"data row4 col2\" >0.476000</td>\n",
              "      <td id=\"T_c02a7_row4_col3\" class=\"data row4 col3\" >0.685000</td>\n",
              "      <td id=\"T_c02a7_row4_col4\" class=\"data row4 col4\" >478.131000</td>\n",
              "      <td id=\"T_c02a7_row4_col5\" class=\"data row4 col5\" >0.561000</td>\n",
              "    </tr>\n",
              "    <tr>\n",
              "      <th id=\"T_c02a7_level0_row5\" class=\"row_heading level0 row5\" >extra tree</th>\n",
              "      <td id=\"T_c02a7_row5_col0\" class=\"data row5 col0\" >0.438000</td>\n",
              "      <td id=\"T_c02a7_row5_col1\" class=\"data row5 col1\" >0.662000</td>\n",
              "      <td id=\"T_c02a7_row5_col2\" class=\"data row5 col2\" >0.477000</td>\n",
              "      <td id=\"T_c02a7_row5_col3\" class=\"data row5 col3\" >0.686000</td>\n",
              "      <td id=\"T_c02a7_row5_col4\" class=\"data row5 col4\" >417.761000</td>\n",
              "      <td id=\"T_c02a7_row5_col5\" class=\"data row5 col5\" >0.562000</td>\n",
              "    </tr>\n",
              "  </tbody>\n",
              "</table>\n"
            ]
          },
          "metadata": {},
          "execution_count": 28
        }
      ]
    },
    {
      "cell_type": "markdown",
      "source": [
        "#### **그래프 시각화**"
      ],
      "metadata": {
        "id": "RWMOqMszLZj5"
      }
    },
    {
      "cell_type": "code",
      "source": [
        "draw_data()\n",
        "plt.plot(X_every, et.predict(X_every))\n",
        "plt.show()"
      ],
      "metadata": {
        "id": "SAm2hvuYLZj5",
        "colab": {
          "base_uri": "https://localhost:8080/",
          "height": 279
        },
        "outputId": "2e1373a7-7e79-49cf-b44c-6457949d6c46"
      },
      "execution_count": null,
      "outputs": [
        {
          "output_type": "display_data",
          "data": {
            "text/plain": [
              "<Figure size 432x288 with 1 Axes>"
            ],
            "image/png": "[encoded data removed]"
          },
          "metadata": {
            "needs_background": "light"
          }
        }
      ]
    },
    {
      "cell_type": "markdown",
      "source": [
        "### **| Gradient Boosting Regressor**"
      ],
      "metadata": {
        "id": "k8XiGE3NMED_"
      }
    },
    {
      "cell_type": "markdown",
      "source": [
        "#### **모델 학습**"
      ],
      "metadata": {
        "id": "OuQDDlYoMEEE"
      }
    },
    {
      "cell_type": "code",
      "source": [
        "from sklearn.ensemble import GradientBoostingRegressor\n",
        "\n",
        "gb = GradientBoostingRegressor(random_state = 1)\n",
        "gb.fit(X_train, y_train)"
      ],
      "metadata": {
        "id": "JuqxOkcjMEEF",
        "colab": {
          "base_uri": "https://localhost:8080/"
        },
        "outputId": "4c4a42f6-7ce6-4f12-daaa-3bdf6c1d1311"
      },
      "execution_count": null,
      "outputs": [
        {
          "output_type": "execute_result",
          "data": {
            "text/plain": [
              "GradientBoostingRegressor(random_state=1)"
            ]
          },
          "metadata": {},
          "execution_count": 30
        }
      ]
    },
    {
      "cell_type": "markdown",
      "source": [
        "#### **테스트셋 성능 비교**"
      ],
      "metadata": {
        "id": "gCjS_nhuMEEF"
      }
    },
    {
      "cell_type": "code",
      "source": [
        "y_pred = gb.predict(X_test)\n",
        "score = regression_scores(y_test, y_pred)\n",
        "df_scores.loc['gradient boosting'] = score\n",
        "df_scores.style.background_gradient(cmap = 'Blues_r')"
      ],
      "metadata": {
        "id": "m2EaO6yuMEEF",
        "colab": {
          "base_uri": "https://localhost:8080/",
          "height": 269
        },
        "outputId": "c17e97f2-8f90-4f86-a32b-7ea105fb465f"
      },
      "execution_count": null,
      "outputs": [
        {
          "output_type": "execute_result",
          "data": {
            "text/plain": [
              "<pandas.io.formats.style.Styler at 0x7f764e0ae690>"
            ],
            "text/html": [
              "<style type=\"text/css\">\n",
              "#T_7a450_row0_col0, #T_7a450_row0_col1, #T_7a450_row0_col2, #T_7a450_row0_col3, #T_7a450_row1_col4, #T_7a450_row3_col5 {\n",
              "  background-color: #f7fbff;\n",
              "  color: #000000;\n",
              "}\n",
              "#T_7a450_row0_col4, #T_7a450_row4_col1 {\n",
              "  background-color: #dceaf6;\n",
              "  color: #000000;\n",
              "}\n",
              "#T_7a450_row0_col5, #T_7a450_row3_col0, #T_7a450_row3_col1, #T_7a450_row3_col2, #T_7a450_row3_col3, #T_7a450_row6_col4 {\n",
              "  background-color: #08306b;\n",
              "  color: #f1f1f1;\n",
              "}\n",
              "#T_7a450_row1_col0 {\n",
              "  background-color: #1d6cb1;\n",
              "  color: #f1f1f1;\n",
              "}\n",
              "#T_7a450_row1_col1 {\n",
              "  background-color: #2272b6;\n",
              "  color: #f1f1f1;\n",
              "}\n",
              "#T_7a450_row1_col2 {\n",
              "  background-color: #56a0ce;\n",
              "  color: #f1f1f1;\n",
              "}\n",
              "#T_7a450_row1_col3 {\n",
              "  background-color: #549fcd;\n",
              "  color: #f1f1f1;\n",
              "}\n",
              "#T_7a450_row1_col5 {\n",
              "  background-color: #caddf0;\n",
              "  color: #000000;\n",
              "}\n",
              "#T_7a450_row2_col0 {\n",
              "  background-color: #083d7f;\n",
              "  color: #f1f1f1;\n",
              "}\n",
              "#T_7a450_row2_col1 {\n",
              "  background-color: #084184;\n",
              "  color: #f1f1f1;\n",
              "}\n",
              "#T_7a450_row2_col2 {\n",
              "  background-color: #1764ab;\n",
              "  color: #f1f1f1;\n",
              "}\n",
              "#T_7a450_row2_col3 {\n",
              "  background-color: #1663aa;\n",
              "  color: #f1f1f1;\n",
              "}\n",
              "#T_7a450_row2_col4 {\n",
              "  background-color: #d0e2f2;\n",
              "  color: #000000;\n",
              "}\n",
              "#T_7a450_row2_col5 {\n",
              "  background-color: #edf4fc;\n",
              "  color: #000000;\n",
              "}\n",
              "#T_7a450_row3_col4 {\n",
              "  background-color: #85bcdc;\n",
              "  color: #000000;\n",
              "}\n",
              "#T_7a450_row4_col0 {\n",
              "  background-color: #d9e7f5;\n",
              "  color: #000000;\n",
              "}\n",
              "#T_7a450_row4_col2, #T_7a450_row4_col3 {\n",
              "  background-color: #c6dbef;\n",
              "  color: #000000;\n",
              "}\n",
              "#T_7a450_row4_col4 {\n",
              "  background-color: #1c6ab0;\n",
              "  color: #f1f1f1;\n",
              "}\n",
              "#T_7a450_row4_col5 {\n",
              "  background-color: #0e58a2;\n",
              "  color: #f1f1f1;\n",
              "}\n",
              "#T_7a450_row5_col0 {\n",
              "  background-color: #d7e6f5;\n",
              "  color: #000000;\n",
              "}\n",
              "#T_7a450_row5_col1 {\n",
              "  background-color: #dbe9f6;\n",
              "  color: #000000;\n",
              "}\n",
              "#T_7a450_row5_col2, #T_7a450_row5_col3 {\n",
              "  background-color: #c7dcef;\n",
              "  color: #000000;\n",
              "}\n",
              "#T_7a450_row5_col4 {\n",
              "  background-color: #083674;\n",
              "  color: #f1f1f1;\n",
              "}\n",
              "#T_7a450_row5_col5 {\n",
              "  background-color: #0f5aa3;\n",
              "  color: #f1f1f1;\n",
              "}\n",
              "#T_7a450_row6_col0 {\n",
              "  background-color: #1460a8;\n",
              "  color: #f1f1f1;\n",
              "}\n",
              "#T_7a450_row6_col1 {\n",
              "  background-color: #1865ac;\n",
              "  color: #f1f1f1;\n",
              "}\n",
              "#T_7a450_row6_col2 {\n",
              "  background-color: #084387;\n",
              "  color: #f1f1f1;\n",
              "}\n",
              "#T_7a450_row6_col3 {\n",
              "  background-color: #084285;\n",
              "  color: #f1f1f1;\n",
              "}\n",
              "#T_7a450_row6_col5 {\n",
              "  background-color: #d3e3f3;\n",
              "  color: #000000;\n",
              "}\n",
              "</style>\n",
              "<table id=\"T_7a450_\" class=\"dataframe\">\n",
              "  <thead>\n",
              "    <tr>\n",
              "      <th class=\"blank level0\" >&nbsp;</th>\n",
              "      <th class=\"col_heading level0 col0\" >mse</th>\n",
              "      <th class=\"col_heading level0 col1\" >rmse</th>\n",
              "      <th class=\"col_heading level0 col2\" >mae</th>\n",
              "      <th class=\"col_heading level0 col3\" >nmae</th>\n",
              "      <th class=\"col_heading level0 col4\" >mape</th>\n",
              "      <th class=\"col_heading level0 col5\" >r2</th>\n",
              "    </tr>\n",
              "  </thead>\n",
              "  <tbody>\n",
              "    <tr>\n",
              "      <th id=\"T_7a450_level0_row0\" class=\"row_heading level0 row0\" >linear</th>\n",
              "      <td id=\"T_7a450_row0_col0\" class=\"data row0 col0\" >0.463000</td>\n",
              "      <td id=\"T_7a450_row0_col1\" class=\"data row0 col1\" >0.680000</td>\n",
              "      <td id=\"T_7a450_row0_col2\" class=\"data row0 col2\" >0.501000</td>\n",
              "      <td id=\"T_7a450_row0_col3\" class=\"data row0 col3\" >0.721000</td>\n",
              "      <td id=\"T_7a450_row0_col4\" class=\"data row0 col4\" >671.832000</td>\n",
              "      <td id=\"T_7a450_row0_col5\" class=\"data row0 col5\" >0.537000</td>\n",
              "    </tr>\n",
              "    <tr>\n",
              "      <th id=\"T_7a450_level0_row1\" class=\"row_heading level0 row1\" >quadratic</th>\n",
              "      <td id=\"T_7a450_row1_col0\" class=\"data row1 col0\" >0.343000</td>\n",
              "      <td id=\"T_7a450_row1_col1\" class=\"data row1 col1\" >0.586000</td>\n",
              "      <td id=\"T_7a450_row1_col2\" class=\"data row1 col2\" >0.445000</td>\n",
              "      <td id=\"T_7a450_row1_col3\" class=\"data row1 col3\" >0.640000</td>\n",
              "      <td id=\"T_7a450_row1_col4\" class=\"data row1 col4\" >713.233000</td>\n",
              "      <td id=\"T_7a450_row1_col5\" class=\"data row1 col5\" >0.657000</td>\n",
              "    </tr>\n",
              "    <tr>\n",
              "      <th id=\"T_7a450_level0_row2\" class=\"row_heading level0 row2\" >cubic</th>\n",
              "      <td id=\"T_7a450_row2_col0\" class=\"data row2 col0\" >0.315000</td>\n",
              "      <td id=\"T_7a450_row2_col1\" class=\"data row2 col1\" >0.562000</td>\n",
              "      <td id=\"T_7a450_row2_col2\" class=\"data row2 col2\" >0.422000</td>\n",
              "      <td id=\"T_7a450_row2_col3\" class=\"data row2 col3\" >0.606000</td>\n",
              "      <td id=\"T_7a450_row2_col4\" class=\"data row2 col4\" >652.893000</td>\n",
              "      <td id=\"T_7a450_row2_col5\" class=\"data row2 col5\" >0.685000</td>\n",
              "    </tr>\n",
              "    <tr>\n",
              "      <th id=\"T_7a450_level0_row3\" class=\"row_heading level0 row3\" >tree</th>\n",
              "      <td id=\"T_7a450_row3_col0\" class=\"data row3 col0\" >0.307000</td>\n",
              "      <td id=\"T_7a450_row3_col1\" class=\"data row3 col1\" >0.554000</td>\n",
              "      <td id=\"T_7a450_row3_col2\" class=\"data row3 col2\" >0.402000</td>\n",
              "      <td id=\"T_7a450_row3_col3\" class=\"data row3 col3\" >0.578000</td>\n",
              "      <td id=\"T_7a450_row3_col4\" class=\"data row3 col4\" >580.727000</td>\n",
              "      <td id=\"T_7a450_row3_col5\" class=\"data row3 col5\" >0.693000</td>\n",
              "    </tr>\n",
              "    <tr>\n",
              "      <th id=\"T_7a450_level0_row4\" class=\"row_heading level0 row4\" >forest</th>\n",
              "      <td id=\"T_7a450_row4_col0\" class=\"data row4 col0\" >0.439000</td>\n",
              "      <td id=\"T_7a450_row4_col1\" class=\"data row4 col1\" >0.663000</td>\n",
              "      <td id=\"T_7a450_row4_col2\" class=\"data row4 col2\" >0.476000</td>\n",
              "      <td id=\"T_7a450_row4_col3\" class=\"data row4 col3\" >0.685000</td>\n",
              "      <td id=\"T_7a450_row4_col4\" class=\"data row4 col4\" >478.131000</td>\n",
              "      <td id=\"T_7a450_row4_col5\" class=\"data row4 col5\" >0.561000</td>\n",
              "    </tr>\n",
              "    <tr>\n",
              "      <th id=\"T_7a450_level0_row5\" class=\"row_heading level0 row5\" >extra tree</th>\n",
              "      <td id=\"T_7a450_row5_col0\" class=\"data row5 col0\" >0.438000</td>\n",
              "      <td id=\"T_7a450_row5_col1\" class=\"data row5 col1\" >0.662000</td>\n",
              "      <td id=\"T_7a450_row5_col2\" class=\"data row5 col2\" >0.477000</td>\n",
              "      <td id=\"T_7a450_row5_col3\" class=\"data row5 col3\" >0.686000</td>\n",
              "      <td id=\"T_7a450_row5_col4\" class=\"data row5 col4\" >417.761000</td>\n",
              "      <td id=\"T_7a450_row5_col5\" class=\"data row5 col5\" >0.562000</td>\n",
              "    </tr>\n",
              "    <tr>\n",
              "      <th id=\"T_7a450_level0_row6\" class=\"row_heading level0 row6\" >gradient boosting</th>\n",
              "      <td id=\"T_7a450_row6_col0\" class=\"data row6 col0\" >0.336000</td>\n",
              "      <td id=\"T_7a450_row6_col1\" class=\"data row6 col1\" >0.580000</td>\n",
              "      <td id=\"T_7a450_row6_col2\" class=\"data row6 col2\" >0.409000</td>\n",
              "      <td id=\"T_7a450_row6_col3\" class=\"data row6 col3\" >0.588000</td>\n",
              "      <td id=\"T_7a450_row6_col4\" class=\"data row6 col4\" >410.178000</td>\n",
              "      <td id=\"T_7a450_row6_col5\" class=\"data row6 col5\" >0.664000</td>\n",
              "    </tr>\n",
              "  </tbody>\n",
              "</table>\n"
            ]
          },
          "metadata": {},
          "execution_count": 31
        }
      ]
    },
    {
      "cell_type": "markdown",
      "source": [
        "#### **그래프 시각화**"
      ],
      "metadata": {
        "id": "VizJqzEyMEEF"
      }
    },
    {
      "cell_type": "code",
      "source": [
        "draw_data()\n",
        "plt.plot(X_every, gb.predict(X_every))\n",
        "plt.show()"
      ],
      "metadata": {
        "id": "HT2r-hT9MEEF",
        "colab": {
          "base_uri": "https://localhost:8080/",
          "height": 279
        },
        "outputId": "0d8bcc65-0d10-4948-fed2-b05335067e66"
      },
      "execution_count": null,
      "outputs": [
        {
          "output_type": "display_data",
          "data": {
            "text/plain": [
              "<Figure size 432x288 with 1 Axes>"
            ],
            "image/png": "[encoded data removed]"
          },
          "metadata": {
            "needs_background": "light"
          }
        }
      ]
    },
    {
      "cell_type": "markdown",
      "source": [
        "### **| XGBoost Regressor**"
      ],
      "metadata": {
        "id": "kNc2FzbdMbBX"
      }
    },
    {
      "cell_type": "code",
      "source": [
        "from xgboost import XGBRegressor"
      ],
      "metadata": {
        "id": "NNLThe1rVPFp"
      },
      "execution_count": null,
      "outputs": []
    },
    {
      "cell_type": "markdown",
      "source": [
        "#### **모델 학습**"
      ],
      "metadata": {
        "id": "o4GP5G89MbBX"
      }
    },
    {
      "cell_type": "code",
      "source": [
        "xgb = XGBRegressor(random_state = 1)\n",
        "xgb.fit(X_train, y_train)"
      ],
      "metadata": {
        "id": "e-Z4OxoFMbBX",
        "colab": {
          "base_uri": "https://localhost:8080/"
        },
        "outputId": "c795c26b-0fbb-44a9-92a5-1eac4741358d"
      },
      "execution_count": null,
      "outputs": [
        {
          "output_type": "stream",
          "name": "stdout",
          "text": [
            "[08:33:00] WARNING: /workspace/src/objective/regression_obj.cu:152: reg:linear is now deprecated in favor of reg:squarederror.\n"
          ]
        },
        {
          "output_type": "execute_result",
          "data": {
            "text/plain": [
              "XGBRegressor(random_state=1)"
            ]
          },
          "metadata": {},
          "execution_count": 34
        }
      ]
    },
    {
      "cell_type": "markdown",
      "source": [
        "#### **테스트셋 성능 비교**"
      ],
      "metadata": {
        "id": "JlCj1bdxMbBY"
      }
    },
    {
      "cell_type": "code",
      "source": [
        "y_pred = xgb.predict(X_test)\n",
        "score = regression_scores(y_test, y_pred)\n",
        "df_scores.loc['xgboost'] = score\n",
        "df_scores.style.background_gradient(cmap = 'Blues_r')"
      ],
      "metadata": {
        "id": "dJDy8n18MbBY",
        "colab": {
          "base_uri": "https://localhost:8080/",
          "height": 300
        },
        "outputId": "005e328d-184a-484c-dff7-c543d23cedc0"
      },
      "execution_count": null,
      "outputs": [
        {
          "output_type": "execute_result",
          "data": {
            "text/plain": [
              "<pandas.io.formats.style.Styler at 0x7f764e039c10>"
            ],
            "text/html": [
              "<style type=\"text/css\">\n",
              "#T_3c650_row0_col0, #T_3c650_row0_col1, #T_3c650_row0_col2, #T_3c650_row0_col3, #T_3c650_row1_col4, #T_3c650_row3_col5 {\n",
              "  background-color: #f7fbff;\n",
              "  color: #000000;\n",
              "}\n",
              "#T_3c650_row0_col4 {\n",
              "  background-color: #ddeaf7;\n",
              "  color: #000000;\n",
              "}\n",
              "#T_3c650_row0_col5, #T_3c650_row3_col0, #T_3c650_row3_col1, #T_3c650_row7_col2, #T_3c650_row7_col3, #T_3c650_row7_col4 {\n",
              "  background-color: #08306b;\n",
              "  color: #f1f1f1;\n",
              "}\n",
              "#T_3c650_row1_col0 {\n",
              "  background-color: #1d6cb1;\n",
              "  color: #f1f1f1;\n",
              "}\n",
              "#T_3c650_row1_col1 {\n",
              "  background-color: #2272b6;\n",
              "  color: #f1f1f1;\n",
              "}\n",
              "#T_3c650_row1_col2, #T_3c650_row1_col3 {\n",
              "  background-color: #5aa2cf;\n",
              "  color: #f1f1f1;\n",
              "}\n",
              "#T_3c650_row1_col5 {\n",
              "  background-color: #caddf0;\n",
              "  color: #000000;\n",
              "}\n",
              "#T_3c650_row2_col0 {\n",
              "  background-color: #083d7f;\n",
              "  color: #f1f1f1;\n",
              "}\n",
              "#T_3c650_row2_col1 {\n",
              "  background-color: #084184;\n",
              "  color: #f1f1f1;\n",
              "}\n",
              "#T_3c650_row2_col2, #T_3c650_row2_col3 {\n",
              "  background-color: #1a68ae;\n",
              "  color: #f1f1f1;\n",
              "}\n",
              "#T_3c650_row2_col4 {\n",
              "  background-color: #d1e2f3;\n",
              "  color: #000000;\n",
              "}\n",
              "#T_3c650_row2_col5 {\n",
              "  background-color: #edf4fc;\n",
              "  color: #000000;\n",
              "}\n",
              "#T_3c650_row3_col2 {\n",
              "  background-color: #083573;\n",
              "  color: #f1f1f1;\n",
              "}\n",
              "#T_3c650_row3_col3 {\n",
              "  background-color: #083674;\n",
              "  color: #f1f1f1;\n",
              "}\n",
              "#T_3c650_row3_col4 {\n",
              "  background-color: #8abfdd;\n",
              "  color: #000000;\n",
              "}\n",
              "#T_3c650_row4_col0 {\n",
              "  background-color: #d9e7f5;\n",
              "  color: #000000;\n",
              "}\n",
              "#T_3c650_row4_col1 {\n",
              "  background-color: #dceaf6;\n",
              "  color: #000000;\n",
              "}\n",
              "#T_3c650_row4_col2 {\n",
              "  background-color: #c7dbef;\n",
              "  color: #000000;\n",
              "}\n",
              "#T_3c650_row4_col3 {\n",
              "  background-color: #c7dcef;\n",
              "  color: #000000;\n",
              "}\n",
              "#T_3c650_row4_col4 {\n",
              "  background-color: #2070b4;\n",
              "  color: #f1f1f1;\n",
              "}\n",
              "#T_3c650_row4_col5 {\n",
              "  background-color: #0e58a2;\n",
              "  color: #f1f1f1;\n",
              "}\n",
              "#T_3c650_row5_col0 {\n",
              "  background-color: #d7e6f5;\n",
              "  color: #000000;\n",
              "}\n",
              "#T_3c650_row5_col1 {\n",
              "  background-color: #dbe9f6;\n",
              "  color: #000000;\n",
              "}\n",
              "#T_3c650_row5_col2, #T_3c650_row5_col3 {\n",
              "  background-color: #c9ddf0;\n",
              "  color: #000000;\n",
              "}\n",
              "#T_3c650_row5_col4 {\n",
              "  background-color: #083e81;\n",
              "  color: #f1f1f1;\n",
              "}\n",
              "#T_3c650_row5_col5 {\n",
              "  background-color: #0f5aa3;\n",
              "  color: #f1f1f1;\n",
              "}\n",
              "#T_3c650_row6_col0 {\n",
              "  background-color: #1460a8;\n",
              "  color: #f1f1f1;\n",
              "}\n",
              "#T_3c650_row6_col1 {\n",
              "  background-color: #1865ac;\n",
              "  color: #f1f1f1;\n",
              "}\n",
              "#T_3c650_row6_col2 {\n",
              "  background-color: #08478d;\n",
              "  color: #f1f1f1;\n",
              "}\n",
              "#T_3c650_row6_col3, #T_3c650_row7_col0 {\n",
              "  background-color: #084990;\n",
              "  color: #f1f1f1;\n",
              "}\n",
              "#T_3c650_row6_col4 {\n",
              "  background-color: #083877;\n",
              "  color: #f1f1f1;\n",
              "}\n",
              "#T_3c650_row6_col5 {\n",
              "  background-color: #d3e3f3;\n",
              "  color: #000000;\n",
              "}\n",
              "#T_3c650_row7_col1 {\n",
              "  background-color: #084b93;\n",
              "  color: #f1f1f1;\n",
              "}\n",
              "#T_3c650_row7_col5 {\n",
              "  background-color: #e4eff9;\n",
              "  color: #000000;\n",
              "}\n",
              "</style>\n",
              "<table id=\"T_3c650_\" class=\"dataframe\">\n",
              "  <thead>\n",
              "    <tr>\n",
              "      <th class=\"blank level0\" >&nbsp;</th>\n",
              "      <th class=\"col_heading level0 col0\" >mse</th>\n",
              "      <th class=\"col_heading level0 col1\" >rmse</th>\n",
              "      <th class=\"col_heading level0 col2\" >mae</th>\n",
              "      <th class=\"col_heading level0 col3\" >nmae</th>\n",
              "      <th class=\"col_heading level0 col4\" >mape</th>\n",
              "      <th class=\"col_heading level0 col5\" >r2</th>\n",
              "    </tr>\n",
              "  </thead>\n",
              "  <tbody>\n",
              "    <tr>\n",
              "      <th id=\"T_3c650_level0_row0\" class=\"row_heading level0 row0\" >linear</th>\n",
              "      <td id=\"T_3c650_row0_col0\" class=\"data row0 col0\" >0.463000</td>\n",
              "      <td id=\"T_3c650_row0_col1\" class=\"data row0 col1\" >0.680000</td>\n",
              "      <td id=\"T_3c650_row0_col2\" class=\"data row0 col2\" >0.501000</td>\n",
              "      <td id=\"T_3c650_row0_col3\" class=\"data row0 col3\" >0.721000</td>\n",
              "      <td id=\"T_3c650_row0_col4\" class=\"data row0 col4\" >671.832000</td>\n",
              "      <td id=\"T_3c650_row0_col5\" class=\"data row0 col5\" >0.537000</td>\n",
              "    </tr>\n",
              "    <tr>\n",
              "      <th id=\"T_3c650_level0_row1\" class=\"row_heading level0 row1\" >quadratic</th>\n",
              "      <td id=\"T_3c650_row1_col0\" class=\"data row1 col0\" >0.343000</td>\n",
              "      <td id=\"T_3c650_row1_col1\" class=\"data row1 col1\" >0.586000</td>\n",
              "      <td id=\"T_3c650_row1_col2\" class=\"data row1 col2\" >0.445000</td>\n",
              "      <td id=\"T_3c650_row1_col3\" class=\"data row1 col3\" >0.640000</td>\n",
              "      <td id=\"T_3c650_row1_col4\" class=\"data row1 col4\" >713.233000</td>\n",
              "      <td id=\"T_3c650_row1_col5\" class=\"data row1 col5\" >0.657000</td>\n",
              "    </tr>\n",
              "    <tr>\n",
              "      <th id=\"T_3c650_level0_row2\" class=\"row_heading level0 row2\" >cubic</th>\n",
              "      <td id=\"T_3c650_row2_col0\" class=\"data row2 col0\" >0.315000</td>\n",
              "      <td id=\"T_3c650_row2_col1\" class=\"data row2 col1\" >0.562000</td>\n",
              "      <td id=\"T_3c650_row2_col2\" class=\"data row2 col2\" >0.422000</td>\n",
              "      <td id=\"T_3c650_row2_col3\" class=\"data row2 col3\" >0.606000</td>\n",
              "      <td id=\"T_3c650_row2_col4\" class=\"data row2 col4\" >652.893000</td>\n",
              "      <td id=\"T_3c650_row2_col5\" class=\"data row2 col5\" >0.685000</td>\n",
              "    </tr>\n",
              "    <tr>\n",
              "      <th id=\"T_3c650_level0_row3\" class=\"row_heading level0 row3\" >tree</th>\n",
              "      <td id=\"T_3c650_row3_col0\" class=\"data row3 col0\" >0.307000</td>\n",
              "      <td id=\"T_3c650_row3_col1\" class=\"data row3 col1\" >0.554000</td>\n",
              "      <td id=\"T_3c650_row3_col2\" class=\"data row3 col2\" >0.402000</td>\n",
              "      <td id=\"T_3c650_row3_col3\" class=\"data row3 col3\" >0.578000</td>\n",
              "      <td id=\"T_3c650_row3_col4\" class=\"data row3 col4\" >580.727000</td>\n",
              "      <td id=\"T_3c650_row3_col5\" class=\"data row3 col5\" >0.693000</td>\n",
              "    </tr>\n",
              "    <tr>\n",
              "      <th id=\"T_3c650_level0_row4\" class=\"row_heading level0 row4\" >forest</th>\n",
              "      <td id=\"T_3c650_row4_col0\" class=\"data row4 col0\" >0.439000</td>\n",
              "      <td id=\"T_3c650_row4_col1\" class=\"data row4 col1\" >0.663000</td>\n",
              "      <td id=\"T_3c650_row4_col2\" class=\"data row4 col2\" >0.476000</td>\n",
              "      <td id=\"T_3c650_row4_col3\" class=\"data row4 col3\" >0.685000</td>\n",
              "      <td id=\"T_3c650_row4_col4\" class=\"data row4 col4\" >478.131000</td>\n",
              "      <td id=\"T_3c650_row4_col5\" class=\"data row4 col5\" >0.561000</td>\n",
              "    </tr>\n",
              "    <tr>\n",
              "      <th id=\"T_3c650_level0_row5\" class=\"row_heading level0 row5\" >extra tree</th>\n",
              "      <td id=\"T_3c650_row5_col0\" class=\"data row5 col0\" >0.438000</td>\n",
              "      <td id=\"T_3c650_row5_col1\" class=\"data row5 col1\" >0.662000</td>\n",
              "      <td id=\"T_3c650_row5_col2\" class=\"data row5 col2\" >0.477000</td>\n",
              "      <td id=\"T_3c650_row5_col3\" class=\"data row5 col3\" >0.686000</td>\n",
              "      <td id=\"T_3c650_row5_col4\" class=\"data row5 col4\" >417.761000</td>\n",
              "      <td id=\"T_3c650_row5_col5\" class=\"data row5 col5\" >0.562000</td>\n",
              "    </tr>\n",
              "    <tr>\n",
              "      <th id=\"T_3c650_level0_row6\" class=\"row_heading level0 row6\" >gradient boosting</th>\n",
              "      <td id=\"T_3c650_row6_col0\" class=\"data row6 col0\" >0.336000</td>\n",
              "      <td id=\"T_3c650_row6_col1\" class=\"data row6 col1\" >0.580000</td>\n",
              "      <td id=\"T_3c650_row6_col2\" class=\"data row6 col2\" >0.409000</td>\n",
              "      <td id=\"T_3c650_row6_col3\" class=\"data row6 col3\" >0.588000</td>\n",
              "      <td id=\"T_3c650_row6_col4\" class=\"data row6 col4\" >410.178000</td>\n",
              "      <td id=\"T_3c650_row6_col5\" class=\"data row6 col5\" >0.664000</td>\n",
              "    </tr>\n",
              "    <tr>\n",
              "      <th id=\"T_3c650_level0_row7\" class=\"row_heading level0 row7\" >xgboost</th>\n",
              "      <td id=\"T_3c650_row7_col0\" class=\"data row7 col0\" >0.322000</td>\n",
              "      <td id=\"T_3c650_row7_col1\" class=\"data row7 col1\" >0.567000</td>\n",
              "      <td id=\"T_3c650_row7_col2\" class=\"data row7 col2\" >0.400000</td>\n",
              "      <td id=\"T_3c650_row7_col3\" class=\"data row7 col3\" >0.574000</td>\n",
              "      <td id=\"T_3c650_row7_col4\" class=\"data row7 col4\" >400.252000</td>\n",
              "      <td id=\"T_3c650_row7_col5\" class=\"data row7 col5\" >0.678000</td>\n",
              "    </tr>\n",
              "  </tbody>\n",
              "</table>\n"
            ]
          },
          "metadata": {},
          "execution_count": 35
        }
      ]
    },
    {
      "cell_type": "markdown",
      "source": [
        "#### **그래프 시각화**"
      ],
      "metadata": {
        "id": "YFFUEVtXMbBY"
      }
    },
    {
      "cell_type": "code",
      "source": [
        "draw_data()\n",
        "plt.plot(X_every, xgb.predict(X_every))\n",
        "plt.show()"
      ],
      "metadata": {
        "id": "ChvPJh-nMbBY",
        "colab": {
          "base_uri": "https://localhost:8080/",
          "height": 279
        },
        "outputId": "7d6a80ee-3c80-4adc-8e17-d7ef3a56fef6"
      },
      "execution_count": null,
      "outputs": [
        {
          "output_type": "display_data",
          "data": {
            "text/plain": [
              "<Figure size 432x288 with 1 Axes>"
            ],
            "image/png": "[encoded data removed]"
          },
          "metadata": {
            "needs_background": "light"
          }
        }
      ]
    },
    {
      "cell_type": "markdown",
      "source": [
        "## **과제1: 주택 데이터셋 다중 회귀 분석**\n",
        "---\n",
        "\n",
        "* 주택 데이터셋의 X의 모든 속성을 이용해 y를 예측합니다.\n",
        "* 지난시간과 이번시간에 배운 회귀 분석 모델을 모두 사용해보고, 성능을 비교해 봅니다.\n",
        "* 단, 다항회귀는 사용하지 마세요.\n",
        "* 사용 모델 : \n",
        "```\n",
        "'linear', 'ridge', 'lasso', 'elastic', 'bayes_ridge', 'tree', 'forest', 'et', 'gb', 'xgb'\n",
        "```"
      ],
      "metadata": {
        "id": "5JWTBCG-EkR1"
      }
    },
    {
      "cell_type": "markdown",
      "source": [
        "#### **데이터 불러오기**"
      ],
      "metadata": {
        "id": "hc-YysUvFJWS"
      }
    },
    {
      "cell_type": "code",
      "source": [
        "X_train, X_test, y_train, y_test = housing_loader()\n",
        "X_train.shape, X_test.shape, y_train.shape, y_test.shape"
      ],
      "metadata": {
        "id": "qpeyED8xf9gT",
        "colab": {
          "base_uri": "https://localhost:8080/"
        },
        "outputId": "b865927a-58ba-4129-b583-5b29f5ce4d9b"
      },
      "execution_count": null,
      "outputs": [
        {
          "output_type": "stream",
          "name": "stdout",
          "text": [
            "(506, 14)\n"
          ]
        },
        {
          "output_type": "execute_result",
          "data": {
            "text/plain": [
              "((404, 13), (102, 13), (404,), (102,))"
            ]
          },
          "metadata": {},
          "execution_count": 37
        }
      ]
    },
    {
      "cell_type": "markdown",
      "source": [
        "#### 분석"
      ],
      "metadata": {
        "id": "bOGoI8O3GieY"
      }
    },
    {
      "cell_type": "code",
      "source": [
        "from sklearn.linear_model import * \n",
        "\n",
        "# linear\n",
        "linear = LinearRegression()\n",
        "linear.fit(X_train, y_train)"
      ],
      "metadata": {
        "colab": {
          "base_uri": "https://localhost:8080/"
        },
        "id": "pdjcTv4ddtIw",
        "outputId": "e72e86a9-1ea0-4a81-f4b6-ea05d2595cd2"
      },
      "execution_count": null,
      "outputs": [
        {
          "output_type": "execute_result",
          "data": {
            "text/plain": [
              "LinearRegression()"
            ]
          },
          "metadata": {},
          "execution_count": 38
        }
      ]
    },
    {
      "cell_type": "code",
      "source": [
        "# ridge\n",
        "for a in [0.001, 0.01, 0.1, 1, 10, 100]:\n",
        "    ridge = Ridge(alpha = a, random_state = 1)\n",
        "    ridge.fit(X_train, y_train)\n",
        "    y_pred = ridge.predict(X_test)\n",
        "    print('--- a = {} ---'.format(a))\n",
        "    print('성능 평가:{}'.format(regression_scores(y_test, y_pred)))"
      ],
      "metadata": {
        "colab": {
          "base_uri": "https://localhost:8080/"
        },
        "id": "YqgjO-t1fwWy",
        "outputId": "2640dfff-532d-47b5-8de9-537f082558d1"
      },
      "execution_count": null,
      "outputs": [
        {
          "output_type": "stream",
          "name": "stdout",
          "text": [
            "--- a = 0.001 ---\n",
            "성능 평가:{'mse': 0.222, 'rmse': 0.471, 'mae': 0.362, 'nmae': 0.521, 'mape': 579.148, 'r2': 0.778}\n",
            "--- a = 0.01 ---\n",
            "성능 평가:{'mse': 0.222, 'rmse': 0.471, 'mae': 0.362, 'nmae': 0.521, 'mape': 579.172, 'r2': 0.778}\n",
            "--- a = 0.1 ---\n",
            "성능 평가:{'mse': 0.222, 'rmse': 0.471, 'mae': 0.362, 'nmae': 0.52, 'mape': 579.405, 'r2': 0.778}\n",
            "--- a = 1 ---\n",
            "성능 평가:{'mse': 0.221, 'rmse': 0.47, 'mae': 0.361, 'nmae': 0.519, 'mape': 581.614, 'r2': 0.779}\n",
            "--- a = 10 ---\n",
            "성능 평가:{'mse': 0.22, 'rmse': 0.469, 'mae': 0.358, 'nmae': 0.515, 'mape': 594.648, 'r2': 0.78}\n",
            "--- a = 100 ---\n",
            "성능 평가:{'mse': 0.249, 'rmse': 0.499, 'mae': 0.375, 'nmae': 0.539, 'mape': 595.514, 'r2': 0.751}\n"
          ]
        }
      ]
    },
    {
      "cell_type": "code",
      "source": [
        "ridge = Ridge(alpha = 10, random_state = 1)\n",
        "ridge.fit(X_train, y_train)"
      ],
      "metadata": {
        "colab": {
          "base_uri": "https://localhost:8080/"
        },
        "id": "HLtqjVQ3ieDp",
        "outputId": "a3b3fb1e-cfe9-40f6-ec55-57e10e8d8afa"
      },
      "execution_count": null,
      "outputs": [
        {
          "output_type": "execute_result",
          "data": {
            "text/plain": [
              "Ridge(alpha=10, random_state=1)"
            ]
          },
          "metadata": {},
          "execution_count": 40
        }
      ]
    },
    {
      "cell_type": "code",
      "source": [
        " # lasso\n",
        "for a in [0.001, 0.01, 0.1, 1, 10, 100]:\n",
        "    lasso = Lasso(alpha = a, random_state = 1)\n",
        "    lasso.fit(X_train, y_train)\n",
        "    y_pred = lasso.predict(X_test)\n",
        "    print('--- a = {} ---'.format(a))\n",
        "    print('성능 평가:{}'.format(regression_scores(y_test, y_pred)))"
      ],
      "metadata": {
        "colab": {
          "base_uri": "https://localhost:8080/"
        },
        "id": "TjrkjzlWlFzo",
        "outputId": "28642e8d-f750-4dc8-fe13-2201f42a12ad"
      },
      "execution_count": null,
      "outputs": [
        {
          "output_type": "stream",
          "name": "stdout",
          "text": [
            "--- a = 0.001 ---\n",
            "성능 평가:{'mse': 0.221, 'rmse': 0.47, 'mae': 0.361, 'nmae': 0.519, 'mape': 587.754, 'r2': 0.779}\n",
            "--- a = 0.01 ---\n",
            "성능 평가:{'mse': 0.225, 'rmse': 0.475, 'mae': 0.362, 'nmae': 0.52, 'mape': 615.014, 'r2': 0.775}\n",
            "--- a = 0.1 ---\n",
            "성능 평가:{'mse': 0.315, 'rmse': 0.561, 'mae': 0.421, 'nmae': 0.606, 'mape': 549.237, 'r2': 0.685}\n",
            "--- a = 1 ---\n",
            "성능 평가:{'mse': 1.0, 'rmse': 1.0, 'mae': 0.696, 'nmae': 1.0, 'mape': 100.0, 'r2': 0.0}\n",
            "--- a = 10 ---\n",
            "성능 평가:{'mse': 1.0, 'rmse': 1.0, 'mae': 0.696, 'nmae': 1.0, 'mape': 100.0, 'r2': 0.0}\n",
            "--- a = 100 ---\n",
            "성능 평가:{'mse': 1.0, 'rmse': 1.0, 'mae': 0.696, 'nmae': 1.0, 'mape': 100.0, 'r2': 0.0}\n"
          ]
        }
      ]
    },
    {
      "cell_type": "code",
      "source": [
        "lasso = Lasso(alpha = 0.001, random_state = 1)\n",
        "lasso.fit(X_train, y_train)"
      ],
      "metadata": {
        "colab": {
          "base_uri": "https://localhost:8080/"
        },
        "id": "5khJBMbmmTYQ",
        "outputId": "4d58d7ef-0b07-437f-a4bb-2c9fa4dbf5c6"
      },
      "execution_count": null,
      "outputs": [
        {
          "output_type": "execute_result",
          "data": {
            "text/plain": [
              "Lasso(alpha=0.001, random_state=1)"
            ]
          },
          "metadata": {},
          "execution_count": 42
        }
      ]
    },
    {
      "cell_type": "code",
      "source": [
        "# elastic \n",
        "for a in [0.001, 0.01, 0.1, 1, 10, 100]:\n",
        "    elastic = ElasticNet(alpha = a, random_state = 1)\n",
        "    elastic.fit(X_train, y_train)\n",
        "    y_pred = elastic.predict(X_test)\n",
        "    print('--- a = {} ---'.format(a))\n",
        "    print('성능 평가:{}'.format(regression_scores(y_test, y_pred)))"
      ],
      "metadata": {
        "colab": {
          "base_uri": "https://localhost:8080/"
        },
        "id": "d3PlN5HImmwh",
        "outputId": "83a03feb-cbd4-42ad-a7b5-1f5182fff5e2"
      },
      "execution_count": null,
      "outputs": [
        {
          "output_type": "stream",
          "name": "stdout",
          "text": [
            "--- a = 0.001 ---\n",
            "성능 평가:{'mse': 0.221, 'rmse': 0.47, 'mae': 0.361, 'nmae': 0.52, 'mape': 583.946, 'r2': 0.779}\n",
            "--- a = 0.01 ---\n",
            "성능 평가:{'mse': 0.221, 'rmse': 0.47, 'mae': 0.36, 'nmae': 0.517, 'mape': 601.713, 'r2': 0.779}\n",
            "--- a = 0.1 ---\n",
            "성능 평가:{'mse': 0.28, 'rmse': 0.529, 'mae': 0.399, 'nmae': 0.573, 'mape': 583.659, 'r2': 0.72}\n",
            "--- a = 1 ---\n",
            "성능 평가:{'mse': 0.741, 'rmse': 0.861, 'mae': 0.596, 'nmae': 0.857, 'mape': 184.115, 'r2': 0.259}\n",
            "--- a = 10 ---\n",
            "성능 평가:{'mse': 1.0, 'rmse': 1.0, 'mae': 0.696, 'nmae': 1.0, 'mape': 100.0, 'r2': 0.0}\n",
            "--- a = 100 ---\n",
            "성능 평가:{'mse': 1.0, 'rmse': 1.0, 'mae': 0.696, 'nmae': 1.0, 'mape': 100.0, 'r2': 0.0}\n"
          ]
        }
      ]
    },
    {
      "cell_type": "code",
      "source": [
        "elastic = ElasticNet(alpha = 0.01, random_state = 1)\n",
        "elastic.fit(X_train, y_train)"
      ],
      "metadata": {
        "id": "_0V433CJmvq_",
        "colab": {
          "base_uri": "https://localhost:8080/"
        },
        "outputId": "18574a48-dc8d-422c-aa65-a9d5f6416f82"
      },
      "execution_count": null,
      "outputs": [
        {
          "output_type": "execute_result",
          "data": {
            "text/plain": [
              "ElasticNet(alpha=0.01, random_state=1)"
            ]
          },
          "metadata": {},
          "execution_count": 44
        }
      ]
    },
    {
      "cell_type": "code",
      "source": [
        "# bayes_ridge\n",
        "bayes_ridge = BayesianRidge()\n",
        "bayes_ridge.fit(X_train, y_train) "
      ],
      "metadata": {
        "id": "lMqOHdQfmwRg",
        "colab": {
          "base_uri": "https://localhost:8080/"
        },
        "outputId": "ea49b1d0-5b60-42e4-b991-3ff9cdc8ea48"
      },
      "execution_count": null,
      "outputs": [
        {
          "output_type": "execute_result",
          "data": {
            "text/plain": [
              "BayesianRidge()"
            ]
          },
          "metadata": {},
          "execution_count": 45
        }
      ]
    },
    {
      "cell_type": "code",
      "source": [
        "# tree (결정트리 회귀)\n",
        "from sklearn.tree import DecisionTreeRegressor\n",
        "\n",
        "tree = DecisionTreeRegressor(random_state = 1, max_depth = 3)\n",
        "tree.fit(X_train, y_train)"
      ],
      "metadata": {
        "colab": {
          "base_uri": "https://localhost:8080/"
        },
        "id": "deklGr1YQEMw",
        "outputId": "7f096d35-4db0-44e7-c0b1-83aab2e062dc"
      },
      "execution_count": null,
      "outputs": [
        {
          "output_type": "execute_result",
          "data": {
            "text/plain": [
              "DecisionTreeRegressor(max_depth=3, random_state=1)"
            ]
          },
          "metadata": {},
          "execution_count": 46
        }
      ]
    },
    {
      "cell_type": "code",
      "source": [
        "# forest (Random Forest Regressor)\n",
        "from sklearn.ensemble import RandomForestRegressor\n",
        "\n",
        "forest = RandomForestRegressor(random_state = 1)\n",
        "forest.fit(X_train, y_train)"
      ],
      "metadata": {
        "colab": {
          "base_uri": "https://localhost:8080/"
        },
        "id": "Q1dR871zQEV5",
        "outputId": "490d7121-ec57-4ef6-8d9c-a0a5d25f53c5"
      },
      "execution_count": null,
      "outputs": [
        {
          "output_type": "execute_result",
          "data": {
            "text/plain": [
              "RandomForestRegressor(random_state=1)"
            ]
          },
          "metadata": {},
          "execution_count": 47
        }
      ]
    },
    {
      "cell_type": "code",
      "source": [
        "# et (Extra Tree Regressor)\n",
        "from sklearn.ensemble import ExtraTreesRegressor\n",
        "\n",
        "et = ExtraTreesRegressor(random_state = 1)\n",
        "et.fit(X_train, y_train)"
      ],
      "metadata": {
        "colab": {
          "base_uri": "https://localhost:8080/"
        },
        "id": "kohKKVxqQEan",
        "outputId": "c0e248f1-fe09-45ff-923c-42ab7e8f35ee"
      },
      "execution_count": null,
      "outputs": [
        {
          "output_type": "execute_result",
          "data": {
            "text/plain": [
              "ExtraTreesRegressor(random_state=1)"
            ]
          },
          "metadata": {},
          "execution_count": 48
        }
      ]
    },
    {
      "cell_type": "code",
      "source": [
        "# gb (Gradient Boosting Regressor)\n",
        "from sklearn.ensemble import GradientBoostingRegressor\n",
        "\n",
        "gb = GradientBoostingRegressor(random_state = 1)\n",
        "gb.fit(X_train, y_train)"
      ],
      "metadata": {
        "colab": {
          "base_uri": "https://localhost:8080/"
        },
        "id": "e_k2zGCnQEe-",
        "outputId": "ec4f28c4-9210-4394-9850-db47cb5dab3c"
      },
      "execution_count": null,
      "outputs": [
        {
          "output_type": "execute_result",
          "data": {
            "text/plain": [
              "GradientBoostingRegressor(random_state=1)"
            ]
          },
          "metadata": {},
          "execution_count": 49
        }
      ]
    },
    {
      "cell_type": "code",
      "source": [
        " # xgb (XGBoost Regressor)\n",
        "from xgboost import XGBRegressor\n",
        "xgb = XGBRegressor(random_state = 1)\n",
        "xgb.fit(X_train, y_train)"
      ],
      "metadata": {
        "colab": {
          "base_uri": "https://localhost:8080/"
        },
        "id": "tE0hY2-_QKRd",
        "outputId": "e0bfc651-0eb6-40e0-8fb8-019ed0ee2ac0"
      },
      "execution_count": null,
      "outputs": [
        {
          "output_type": "stream",
          "name": "stdout",
          "text": [
            "[08:33:03] WARNING: /workspace/src/objective/regression_obj.cu:152: reg:linear is now deprecated in favor of reg:squarederror.\n"
          ]
        },
        {
          "output_type": "execute_result",
          "data": {
            "text/plain": [
              "XGBRegressor(random_state=1)"
            ]
          },
          "metadata": {},
          "execution_count": 50
        }
      ]
    },
    {
      "cell_type": "code",
      "source": [
        "df_score = pd.DataFrame()\n",
        "plt.figure(figsize = (20,9))\n",
        "for idx, model in enumerate(['linear', 'ridge', 'lasso', 'elastic', \n",
        "                             'bayes_ridge', 'tree', 'forest', 'et', 'gb', 'xgb']):\n",
        "    y_pred = eval(model).predict(X_test)\n",
        "    df_score = pd.concat([df_score, pd.DataFrame(regression_scores(y_test, y_pred) ,index=[model]) ])\n",
        "\n",
        "    plt.subplot(2,5, idx + 1)\n",
        "    plt.title(model)\n",
        "    plt.scatter(y_test, y_pred, marker = '.')\n",
        "    plt.plot([-2,3], [-2,3], c = 'r')\n",
        "    plt.xlabel('y_true')\n",
        "    plt.ylabel('y_pred')\n",
        "plt.show()\n",
        "df_score.style.background_gradient(cmap='Greens_r')"
      ],
      "metadata": {
        "colab": {
          "base_uri": "https://localhost:8080/",
          "height": 659
        },
        "id": "yPEobsyYT2nz",
        "outputId": "c90a7840-fba1-4a6b-f394-6b06fd7d8116"
      },
      "execution_count": null,
      "outputs": [
        {
          "output_type": "display_data",
          "data": {
            "text/plain": [
              "<Figure size 1440x648 with 10 Axes>"
            ],
            "image/png": "[encoded data removed]"
          },
          "metadata": {
            "needs_background": "light"
          }
        },
        {
          "output_type": "execute_result",
          "data": {
            "text/plain": [
              "<pandas.io.formats.style.Styler at 0x7f76451ec290>"
            ],
            "text/html": [
              "<style type=\"text/css\">\n",
              "#T_08fb7_row0_col0, #T_08fb7_row0_col1, #T_08fb7_row5_col2, #T_08fb7_row5_col3, #T_08fb7_row5_col4, #T_08fb7_row7_col5 {\n",
              "  background-color: #f7fcf5;\n",
              "  color: #000000;\n",
              "}\n",
              "#T_08fb7_row0_col2 {\n",
              "  background-color: #eaf7e6;\n",
              "  color: #000000;\n",
              "}\n",
              "#T_08fb7_row0_col3, #T_08fb7_row9_col5 {\n",
              "  background-color: #ebf7e7;\n",
              "  color: #000000;\n",
              "}\n",
              "#T_08fb7_row0_col4 {\n",
              "  background-color: #daf0d4;\n",
              "  color: #000000;\n",
              "}\n",
              "#T_08fb7_row0_col5, #T_08fb7_row7_col0, #T_08fb7_row7_col1, #T_08fb7_row7_col2, #T_08fb7_row7_col3, #T_08fb7_row8_col4 {\n",
              "  background-color: #00441b;\n",
              "  color: #f1f1f1;\n",
              "}\n",
              "#T_08fb7_row1_col0, #T_08fb7_row4_col0 {\n",
              "  background-color: #f5fbf3;\n",
              "  color: #000000;\n",
              "}\n",
              "#T_08fb7_row1_col1, #T_08fb7_row2_col0, #T_08fb7_row2_col1, #T_08fb7_row3_col0, #T_08fb7_row3_col1, #T_08fb7_row4_col1 {\n",
              "  background-color: #f6fcf4;\n",
              "  color: #000000;\n",
              "}\n",
              "#T_08fb7_row1_col2, #T_08fb7_row1_col3 {\n",
              "  background-color: #e7f6e2;\n",
              "  color: #000000;\n",
              "}\n",
              "#T_08fb7_row1_col4 {\n",
              "  background-color: #e2f4dd;\n",
              "  color: #000000;\n",
              "}\n",
              "#T_08fb7_row1_col5, #T_08fb7_row4_col5 {\n",
              "  background-color: #00481d;\n",
              "  color: #f1f1f1;\n",
              "}\n",
              "#T_08fb7_row2_col2, #T_08fb7_row2_col3 {\n",
              "  background-color: #e9f7e5;\n",
              "  color: #000000;\n",
              "}\n",
              "#T_08fb7_row2_col4 {\n",
              "  background-color: #def2d9;\n",
              "  color: #000000;\n",
              "}\n",
              "#T_08fb7_row2_col5, #T_08fb7_row3_col5 {\n",
              "  background-color: #00451c;\n",
              "  color: #f1f1f1;\n",
              "}\n",
              "#T_08fb7_row3_col2 {\n",
              "  background-color: #e8f6e4;\n",
              "  color: #000000;\n",
              "}\n",
              "#T_08fb7_row3_col3 {\n",
              "  background-color: #e8f6e3;\n",
              "  color: #000000;\n",
              "}\n",
              "#T_08fb7_row3_col4 {\n",
              "  background-color: #e5f5e1;\n",
              "  color: #000000;\n",
              "}\n",
              "#T_08fb7_row4_col2, #T_08fb7_row4_col3, #T_08fb7_row6_col5 {\n",
              "  background-color: #e7f6e3;\n",
              "  color: #000000;\n",
              "}\n",
              "#T_08fb7_row4_col4 {\n",
              "  background-color: #e0f3db;\n",
              "  color: #000000;\n",
              "}\n",
              "#T_08fb7_row5_col0 {\n",
              "  background-color: #f3faf0;\n",
              "  color: #000000;\n",
              "}\n",
              "#T_08fb7_row5_col1 {\n",
              "  background-color: #f4fbf2;\n",
              "  color: #000000;\n",
              "}\n",
              "#T_08fb7_row5_col5 {\n",
              "  background-color: #004d1f;\n",
              "  color: #f1f1f1;\n",
              "}\n",
              "#T_08fb7_row6_col0 {\n",
              "  background-color: #00682a;\n",
              "  color: #f1f1f1;\n",
              "}\n",
              "#T_08fb7_row6_col1 {\n",
              "  background-color: #03702e;\n",
              "  color: #f1f1f1;\n",
              "}\n",
              "#T_08fb7_row6_col2 {\n",
              "  background-color: #0a7633;\n",
              "  color: #f1f1f1;\n",
              "}\n",
              "#T_08fb7_row6_col3 {\n",
              "  background-color: #097532;\n",
              "  color: #f1f1f1;\n",
              "}\n",
              "#T_08fb7_row6_col4, #T_08fb7_row8_col0 {\n",
              "  background-color: #107a37;\n",
              "  color: #f1f1f1;\n",
              "}\n",
              "#T_08fb7_row7_col4, #T_08fb7_row9_col0 {\n",
              "  background-color: #005f26;\n",
              "  color: #f1f1f1;\n",
              "}\n",
              "#T_08fb7_row8_col1 {\n",
              "  background-color: #1a843f;\n",
              "  color: #f1f1f1;\n",
              "}\n",
              "#T_08fb7_row8_col2 {\n",
              "  background-color: #1e8741;\n",
              "  color: #f1f1f1;\n",
              "}\n",
              "#T_08fb7_row8_col3 {\n",
              "  background-color: #1d8640;\n",
              "  color: #f1f1f1;\n",
              "}\n",
              "#T_08fb7_row8_col5 {\n",
              "  background-color: #d8f0d2;\n",
              "  color: #000000;\n",
              "}\n",
              "#T_08fb7_row9_col1 {\n",
              "  background-color: #006428;\n",
              "  color: #f1f1f1;\n",
              "}\n",
              "#T_08fb7_row9_col2 {\n",
              "  background-color: #0d7836;\n",
              "  color: #f1f1f1;\n",
              "}\n",
              "#T_08fb7_row9_col3 {\n",
              "  background-color: #0c7735;\n",
              "  color: #f1f1f1;\n",
              "}\n",
              "#T_08fb7_row9_col4 {\n",
              "  background-color: #228a44;\n",
              "  color: #f1f1f1;\n",
              "}\n",
              "</style>\n",
              "<table id=\"T_08fb7_\" class=\"dataframe\">\n",
              "  <thead>\n",
              "    <tr>\n",
              "      <th class=\"blank level0\" >&nbsp;</th>\n",
              "      <th class=\"col_heading level0 col0\" >mse</th>\n",
              "      <th class=\"col_heading level0 col1\" >rmse</th>\n",
              "      <th class=\"col_heading level0 col2\" >mae</th>\n",
              "      <th class=\"col_heading level0 col3\" >nmae</th>\n",
              "      <th class=\"col_heading level0 col4\" >mape</th>\n",
              "      <th class=\"col_heading level0 col5\" >r2</th>\n",
              "    </tr>\n",
              "  </thead>\n",
              "  <tbody>\n",
              "    <tr>\n",
              "      <th id=\"T_08fb7_level0_row0\" class=\"row_heading level0 row0\" >linear</th>\n",
              "      <td id=\"T_08fb7_row0_col0\" class=\"data row0 col0\" >0.222000</td>\n",
              "      <td id=\"T_08fb7_row0_col1\" class=\"data row0 col1\" >0.471000</td>\n",
              "      <td id=\"T_08fb7_row0_col2\" class=\"data row0 col2\" >0.362000</td>\n",
              "      <td id=\"T_08fb7_row0_col3\" class=\"data row0 col3\" >0.521000</td>\n",
              "      <td id=\"T_08fb7_row0_col4\" class=\"data row0 col4\" >579.145000</td>\n",
              "      <td id=\"T_08fb7_row0_col5\" class=\"data row0 col5\" >0.778000</td>\n",
              "    </tr>\n",
              "    <tr>\n",
              "      <th id=\"T_08fb7_level0_row1\" class=\"row_heading level0 row1\" >ridge</th>\n",
              "      <td id=\"T_08fb7_row1_col0\" class=\"data row1 col0\" >0.220000</td>\n",
              "      <td id=\"T_08fb7_row1_col1\" class=\"data row1 col1\" >0.469000</td>\n",
              "      <td id=\"T_08fb7_row1_col2\" class=\"data row1 col2\" >0.358000</td>\n",
              "      <td id=\"T_08fb7_row1_col3\" class=\"data row1 col3\" >0.515000</td>\n",
              "      <td id=\"T_08fb7_row1_col4\" class=\"data row1 col4\" >594.648000</td>\n",
              "      <td id=\"T_08fb7_row1_col5\" class=\"data row1 col5\" >0.780000</td>\n",
              "    </tr>\n",
              "    <tr>\n",
              "      <th id=\"T_08fb7_level0_row2\" class=\"row_heading level0 row2\" >lasso</th>\n",
              "      <td id=\"T_08fb7_row2_col0\" class=\"data row2 col0\" >0.221000</td>\n",
              "      <td id=\"T_08fb7_row2_col1\" class=\"data row2 col1\" >0.470000</td>\n",
              "      <td id=\"T_08fb7_row2_col2\" class=\"data row2 col2\" >0.361000</td>\n",
              "      <td id=\"T_08fb7_row2_col3\" class=\"data row2 col3\" >0.519000</td>\n",
              "      <td id=\"T_08fb7_row2_col4\" class=\"data row2 col4\" >587.754000</td>\n",
              "      <td id=\"T_08fb7_row2_col5\" class=\"data row2 col5\" >0.779000</td>\n",
              "    </tr>\n",
              "    <tr>\n",
              "      <th id=\"T_08fb7_level0_row3\" class=\"row_heading level0 row3\" >elastic</th>\n",
              "      <td id=\"T_08fb7_row3_col0\" class=\"data row3 col0\" >0.221000</td>\n",
              "      <td id=\"T_08fb7_row3_col1\" class=\"data row3 col1\" >0.470000</td>\n",
              "      <td id=\"T_08fb7_row3_col2\" class=\"data row3 col2\" >0.360000</td>\n",
              "      <td id=\"T_08fb7_row3_col3\" class=\"data row3 col3\" >0.517000</td>\n",
              "      <td id=\"T_08fb7_row3_col4\" class=\"data row3 col4\" >601.713000</td>\n",
              "      <td id=\"T_08fb7_row3_col5\" class=\"data row3 col5\" >0.779000</td>\n",
              "    </tr>\n",
              "    <tr>\n",
              "      <th id=\"T_08fb7_level0_row4\" class=\"row_heading level0 row4\" >bayes_ridge</th>\n",
              "      <td id=\"T_08fb7_row4_col0\" class=\"data row4 col0\" >0.220000</td>\n",
              "      <td id=\"T_08fb7_row4_col1\" class=\"data row4 col1\" >0.469000</td>\n",
              "      <td id=\"T_08fb7_row4_col2\" class=\"data row4 col2\" >0.359000</td>\n",
              "      <td id=\"T_08fb7_row4_col3\" class=\"data row4 col3\" >0.516000</td>\n",
              "      <td id=\"T_08fb7_row4_col4\" class=\"data row4 col4\" >590.402000</td>\n",
              "      <td id=\"T_08fb7_row4_col5\" class=\"data row4 col5\" >0.780000</td>\n",
              "    </tr>\n",
              "    <tr>\n",
              "      <th id=\"T_08fb7_level0_row5\" class=\"row_heading level0 row5\" >tree</th>\n",
              "      <td id=\"T_08fb7_row5_col0\" class=\"data row5 col0\" >0.218000</td>\n",
              "      <td id=\"T_08fb7_row5_col1\" class=\"data row5 col1\" >0.467000</td>\n",
              "      <td id=\"T_08fb7_row5_col2\" class=\"data row5 col2\" >0.378000</td>\n",
              "      <td id=\"T_08fb7_row5_col3\" class=\"data row5 col3\" >0.543000</td>\n",
              "      <td id=\"T_08fb7_row5_col4\" class=\"data row5 col4\" >658.168000</td>\n",
              "      <td id=\"T_08fb7_row5_col5\" class=\"data row5 col5\" >0.782000</td>\n",
              "    </tr>\n",
              "    <tr>\n",
              "      <th id=\"T_08fb7_level0_row6\" class=\"row_heading level0 row6\" >forest</th>\n",
              "      <td id=\"T_08fb7_row6_col0\" class=\"data row6 col0\" >0.095000</td>\n",
              "      <td id=\"T_08fb7_row6_col1\" class=\"data row6 col1\" >0.308000</td>\n",
              "      <td id=\"T_08fb7_row6_col2\" class=\"data row6 col2\" >0.234000</td>\n",
              "      <td id=\"T_08fb7_row6_col3\" class=\"data row6 col3\" >0.336000</td>\n",
              "      <td id=\"T_08fb7_row6_col4\" class=\"data row6 col4\" >283.617000</td>\n",
              "      <td id=\"T_08fb7_row6_col5\" class=\"data row6 col5\" >0.905000</td>\n",
              "    </tr>\n",
              "    <tr>\n",
              "      <th id=\"T_08fb7_level0_row7\" class=\"row_heading level0 row7\" >et</th>\n",
              "      <td id=\"T_08fb7_row7_col0\" class=\"data row7 col0\" >0.079000</td>\n",
              "      <td id=\"T_08fb7_row7_col1\" class=\"data row7 col1\" >0.282000</td>\n",
              "      <td id=\"T_08fb7_row7_col2\" class=\"data row7 col2\" >0.206000</td>\n",
              "      <td id=\"T_08fb7_row7_col3\" class=\"data row7 col3\" >0.297000</td>\n",
              "      <td id=\"T_08fb7_row7_col4\" class=\"data row7 col4\" >238.864000</td>\n",
              "      <td id=\"T_08fb7_row7_col5\" class=\"data row7 col5\" >0.921000</td>\n",
              "    </tr>\n",
              "    <tr>\n",
              "      <th id=\"T_08fb7_level0_row8\" class=\"row_heading level0 row8\" >gb</th>\n",
              "      <td id=\"T_08fb7_row8_col0\" class=\"data row8 col0\" >0.105000</td>\n",
              "      <td id=\"T_08fb7_row8_col1\" class=\"data row8 col1\" >0.324000</td>\n",
              "      <td id=\"T_08fb7_row8_col2\" class=\"data row8 col2\" >0.246000</td>\n",
              "      <td id=\"T_08fb7_row8_col3\" class=\"data row8 col3\" >0.353000</td>\n",
              "      <td id=\"T_08fb7_row8_col4\" class=\"data row8 col4\" >201.166000</td>\n",
              "      <td id=\"T_08fb7_row8_col5\" class=\"data row8 col5\" >0.895000</td>\n",
              "    </tr>\n",
              "    <tr>\n",
              "      <th id=\"T_08fb7_level0_row9\" class=\"row_heading level0 row9\" >xgb</th>\n",
              "      <td id=\"T_08fb7_row9_col0\" class=\"data row9 col0\" >0.091000</td>\n",
              "      <td id=\"T_08fb7_row9_col1\" class=\"data row9 col1\" >0.301000</td>\n",
              "      <td id=\"T_08fb7_row9_col2\" class=\"data row9 col2\" >0.236000</td>\n",
              "      <td id=\"T_08fb7_row9_col3\" class=\"data row9 col3\" >0.339000</td>\n",
              "      <td id=\"T_08fb7_row9_col4\" class=\"data row9 col4\" >314.087000</td>\n",
              "      <td id=\"T_08fb7_row9_col5\" class=\"data row9 col5\" >0.909000</td>\n",
              "    </tr>\n",
              "  </tbody>\n",
              "</table>\n"
            ]
          },
          "metadata": {},
          "execution_count": 51
        }
      ]
    },
    {
      "cell_type": "markdown",
      "source": [
        "## **과제2: 해외 축구 선수 이적료 예측 미션**\n",
        "---\n",
        "\n",
        "* https://dacon.io/competitions/open/235538/overview/description\n",
        "* 수업 시간에 배운 내용들을 적용하여 이적료 예측을 진행하고 리더보드에 결과를 제출합니다."
      ],
      "metadata": {
        "id": "ZFUD38WPFP4Y"
      }
    },
    {
      "cell_type": "code",
      "source": [
        "import numpy as np\n",
        "import pandas as pd\n",
        "import seaborn as sns\n",
        "import matplotlib.pyplot as plt"
      ],
      "metadata": {
        "id": "KKEbLngkFdwk"
      },
      "execution_count": null,
      "outputs": []
    },
    {
      "cell_type": "code",
      "source": [
        "df_test = pd.read_csv('/content/FIFA_test.csv')"
      ],
      "metadata": {
        "id": "kwoYc8qZiGVs"
      },
      "execution_count": null,
      "outputs": []
    },
    {
      "cell_type": "code",
      "source": [
        "df = pd.read_csv('/content/FIFA_train.csv')\n",
        "print(df.shape)\n",
        "df.head()\n",
        "# 'value'  = y"
      ],
      "metadata": {
        "colab": {
          "base_uri": "https://localhost:8080/",
          "height": 375
        },
        "id": "7TKkqdjjeTFM",
        "outputId": "ded545f5-8ca8-4ce3-99fc-c35211a78238"
      },
      "execution_count": null,
      "outputs": [
        {
          "output_type": "stream",
          "name": "stdout",
          "text": [
            "(8932, 12)\n"
          ]
        },
        {
          "output_type": "execute_result",
          "data": {
            "text/plain": [
              "   id          name  age      continent contract_until position prefer_foot  \\\n",
              "0   0      L. Messi   31  south america           2021       ST        left   \n",
              "1   3        De Gea   27         europe           2020       GK       right   \n",
              "2   7     L. Suárez   31  south america           2021       ST       right   \n",
              "3   8  Sergio Ramos   32         europe           2020       DF       right   \n",
              "4   9      J. Oblak   25         europe           2021       GK       right   \n",
              "\n",
              "   reputation  stat_overall  stat_potential  stat_skill_moves        value  \n",
              "0         5.0            94              94               4.0  110500000.0  \n",
              "1         4.0            91              93               1.0   72000000.0  \n",
              "2         5.0            91              91               3.0   80000000.0  \n",
              "3         4.0            91              91               3.0   51000000.0  \n",
              "4         3.0            90              93               1.0   68000000.0  "
            ],
            "text/html": [
              "\n",
              "  <div id=\"df-8e591b7c-1bf2-49ae-95d0-e31cba52613e\">\n",
              "    <div class=\"colab-df-container\">\n",
              "      <div>\n",
              "<style scoped>\n",
              "    .dataframe tbody tr th:only-of-type {\n",
              "        vertical-align: middle;\n",
              "    }\n",
              "\n",
              "    .dataframe tbody tr th {\n",
              "        vertical-align: top;\n",
              "    }\n",
              "\n",
              "    .dataframe thead th {\n",
              "        text-align: right;\n",
              "    }\n",
              "</style>\n",
              "<table border=\"1\" class=\"dataframe\">\n",
              "  <thead>\n",
              "    <tr style=\"text-align: right;\">\n",
              "      <th></th>\n",
              "      <th>id</th>\n",
              "      <th>name</th>\n",
              "      <th>age</th>\n",
              "      <th>continent</th>\n",
              "      <th>contract_until</th>\n",
              "      <th>position</th>\n",
              "      <th>prefer_foot</th>\n",
              "      <th>reputation</th>\n",
              "      <th>stat_overall</th>\n",
              "      <th>stat_potential</th>\n",
              "      <th>stat_skill_moves</th>\n",
              "      <th>value</th>\n",
              "    </tr>\n",
              "  </thead>\n",
              "  <tbody>\n",
              "    <tr>\n",
              "      <th>0</th>\n",
              "      <td>0</td>\n",
              "      <td>L. Messi</td>\n",
              "      <td>31</td>\n",
              "      <td>south america</td>\n",
              "      <td>2021</td>\n",
              "      <td>ST</td>\n",
              "      <td>left</td>\n",
              "      <td>5.0</td>\n",
              "      <td>94</td>\n",
              "      <td>94</td>\n",
              "      <td>4.0</td>\n",
              "      <td>110500000.0</td>\n",
              "    </tr>\n",
              "    <tr>\n",
              "      <th>1</th>\n",
              "      <td>3</td>\n",
              "      <td>De Gea</td>\n",
              "      <td>27</td>\n",
              "      <td>europe</td>\n",
              "      <td>2020</td>\n",
              "      <td>GK</td>\n",
              "      <td>right</td>\n",
              "      <td>4.0</td>\n",
              "      <td>91</td>\n",
              "      <td>93</td>\n",
              "      <td>1.0</td>\n",
              "      <td>72000000.0</td>\n",
              "    </tr>\n",
              "    <tr>\n",
              "      <th>2</th>\n",
              "      <td>7</td>\n",
              "      <td>L. Suárez</td>\n",
              "      <td>31</td>\n",
              "      <td>south america</td>\n",
              "      <td>2021</td>\n",
              "      <td>ST</td>\n",
              "      <td>right</td>\n",
              "      <td>5.0</td>\n",
              "      <td>91</td>\n",
              "      <td>91</td>\n",
              "      <td>3.0</td>\n",
              "      <td>80000000.0</td>\n",
              "    </tr>\n",
              "    <tr>\n",
              "      <th>3</th>\n",
              "      <td>8</td>\n",
              "      <td>Sergio Ramos</td>\n",
              "      <td>32</td>\n",
              "      <td>europe</td>\n",
              "      <td>2020</td>\n",
              "      <td>DF</td>\n",
              "      <td>right</td>\n",
              "      <td>4.0</td>\n",
              "      <td>91</td>\n",
              "      <td>91</td>\n",
              "      <td>3.0</td>\n",
              "      <td>51000000.0</td>\n",
              "    </tr>\n",
              "    <tr>\n",
              "      <th>4</th>\n",
              "      <td>9</td>\n",
              "      <td>J. Oblak</td>\n",
              "      <td>25</td>\n",
              "      <td>europe</td>\n",
              "      <td>2021</td>\n",
              "      <td>GK</td>\n",
              "      <td>right</td>\n",
              "      <td>3.0</td>\n",
              "      <td>90</td>\n",
              "      <td>93</td>\n",
              "      <td>1.0</td>\n",
              "      <td>68000000.0</td>\n",
              "    </tr>\n",
              "  </tbody>\n",
              "</table>\n",
              "</div>\n",
              "      <button class=\"colab-df-convert\" onclick=\"convertToInteractive('df-8e591b7c-1bf2-49ae-95d0-e31cba52613e')\"\n",
              "              title=\"Convert this dataframe to an interactive table.\"\n",
              "              style=\"display:none;\">\n",
              "        \n",
              "  <svg xmlns=\"http://www.w3.org/2000/svg\" height=\"24px\"viewBox=\"0 0 24 24\"\n",
              "       width=\"24px\">\n",
              "    <path d=\"M0 0h24v24H0V0z\" fill=\"none\"/>\n",
              "    <path d=\"M18.56 5.44l.94 2.06.94-2.06 2.06-.94-2.06-.94-.94-2.06-.94 2.06-2.06.94zm-11 1L8.5 8.5l.94-2.06 2.06-.94-2.06-.94L8.5 2.5l-.94 2.06-2.06.94zm10 10l.94 2.06.94-2.06 2.06-.94-2.06-.94-.94-2.06-.94 2.06-2.06.94z\"/><path d=\"M17.41 7.96l-1.37-1.37c-.4-.4-.92-.59-1.43-.59-.52 0-1.04.2-1.43.59L10.3 9.45l-7.72 7.72c-.78.78-.78 2.05 0 2.83L4 21.41c.39.39.9.59 1.41.59.51 0 1.02-.2 1.41-.59l7.78-7.78 2.81-2.81c.8-.78.8-2.07 0-2.86zM5.41 20L4 18.59l7.72-7.72 1.47 1.35L5.41 20z\"/>\n",
              "  </svg>\n",
              "      </button>\n",
              "      \n",
              "  <style>\n",
              "    .colab-df-container {\n",
              "      display:flex;\n",
              "      flex-wrap:wrap;\n",
              "      gap: 12px;\n",
              "    }\n",
              "\n",
              "    .colab-df-convert {\n",
              "      background-color: #E8F0FE;\n",
              "      border: none;\n",
              "      border-radius: 50%;\n",
              "      cursor: pointer;\n",
              "      display: none;\n",
              "      fill: #1967D2;\n",
              "      height: 32px;\n",
              "      padding: 0 0 0 0;\n",
              "      width: 32px;\n",
              "    }\n",
              "\n",
              "    .colab-df-convert:hover {\n",
              "      background-color: #E2EBFA;\n",
              "      box-shadow: 0px 1px 2px rgba(60, 64, 67, 0.3), 0px 1px 3px 1px rgba(60, 64, 67, 0.15);\n",
              "      fill: #174EA6;\n",
              "    }\n",
              "\n",
              "    [theme=dark] .colab-df-convert {\n",
              "      background-color: #3B4455;\n",
              "      fill: #D2E3FC;\n",
              "    }\n",
              "\n",
              "    [theme=dark] .colab-df-convert:hover {\n",
              "      background-color: #434B5C;\n",
              "      box-shadow: 0px 1px 3px 1px rgba(0, 0, 0, 0.15);\n",
              "      filter: drop-shadow(0px 1px 2px rgba(0, 0, 0, 0.3));\n",
              "      fill: #FFFFFF;\n",
              "    }\n",
              "  </style>\n",
              "\n",
              "      <script>\n",
              "        const buttonEl =\n",
              "          document.querySelector('#df-8e591b7c-1bf2-49ae-95d0-e31cba52613e button.colab-df-convert');\n",
              "        buttonEl.style.display =\n",
              "          google.colab.kernel.accessAllowed ? 'block' : 'none';\n",
              "\n",
              "        async function convertToInteractive(key) {\n",
              "          const element = document.querySelector('#df-8e591b7c-1bf2-49ae-95d0-e31cba52613e');\n",
              "          const dataTable =\n",
              "            await google.colab.kernel.invokeFunction('convertToInteractive',\n",
              "                                                     [key], {});\n",
              "          if (!dataTable) return;\n",
              "\n",
              "          const docLinkHtml = 'Like what you see? Visit the ' +\n",
              "            '<a target=\"_blank\" href=https://colab.research.google.com/notebooks/data_table.ipynb>data table notebook</a>'\n",
              "            + ' to learn more about interactive tables.';\n",
              "          element.innerHTML = '';\n",
              "          dataTable['output_type'] = 'display_data';\n",
              "          await google.colab.output.renderOutput(dataTable, element);\n",
              "          const docLink = document.createElement('div');\n",
              "          docLink.innerHTML = docLinkHtml;\n",
              "          element.appendChild(docLink);\n",
              "        }\n",
              "      </script>\n",
              "    </div>\n",
              "  </div>\n",
              "  "
            ]
          },
          "metadata": {},
          "execution_count": 54
        }
      ]
    },
    {
      "cell_type": "code",
      "source": [
        "# 간단한 전처리\n",
        "df.drop(['id', 'name'], axis = 1, inplace = True)\n",
        "df_test.drop(['id', 'name'], axis = 1, inplace = True)"
      ],
      "metadata": {
        "id": "3HIDtFYLkixd"
      },
      "execution_count": null,
      "outputs": []
    },
    {
      "cell_type": "code",
      "source": [
        "for col in df.columns:\n",
        "    n_unique = len(df[col].unique())\n",
        "    print(col, n_unique)"
      ],
      "metadata": {
        "colab": {
          "base_uri": "https://localhost:8080/"
        },
        "id": "cTibPLsXfwQC",
        "outputId": "a98cdbd9-a3bd-46e6-f466-cb7f974a041c"
      },
      "execution_count": null,
      "outputs": [
        {
          "output_type": "stream",
          "name": "stdout",
          "text": [
            "age 25\n",
            "continent 5\n",
            "contract_until 17\n",
            "position 4\n",
            "prefer_foot 2\n",
            "reputation 5\n",
            "stat_overall 46\n",
            "stat_potential 45\n",
            "stat_skill_moves 5\n",
            "value 198\n"
          ]
        }
      ]
    },
    {
      "cell_type": "code",
      "source": [
        "df.describe(include = 'object')"
      ],
      "metadata": {
        "colab": {
          "base_uri": "https://localhost:8080/",
          "height": 175
        },
        "id": "8Ivq_5lcrwXA",
        "outputId": "32a2460e-6222-4ec7-f79c-e808b0f4bd5c"
      },
      "execution_count": null,
      "outputs": [
        {
          "output_type": "execute_result",
          "data": {
            "text/plain": [
              "       continent contract_until position prefer_foot\n",
              "count       8932           8932     8932        8932\n",
              "unique         5             17        4           2\n",
              "top       europe           2019       MF       right\n",
              "freq        5322           2366     3428        6837"
            ],
            "text/html": [
              "\n",
              "  <div id=\"df-ed5e7799-14b8-48aa-9815-1b5766d46186\">\n",
              "    <div class=\"colab-df-container\">\n",
              "      <div>\n",
              "<style scoped>\n",
              "    .dataframe tbody tr th:only-of-type {\n",
              "        vertical-align: middle;\n",
              "    }\n",
              "\n",
              "    .dataframe tbody tr th {\n",
              "        vertical-align: top;\n",
              "    }\n",
              "\n",
              "    .dataframe thead th {\n",
              "        text-align: right;\n",
              "    }\n",
              "</style>\n",
              "<table border=\"1\" class=\"dataframe\">\n",
              "  <thead>\n",
              "    <tr style=\"text-align: right;\">\n",
              "      <th></th>\n",
              "      <th>continent</th>\n",
              "      <th>contract_until</th>\n",
              "      <th>position</th>\n",
              "      <th>prefer_foot</th>\n",
              "    </tr>\n",
              "  </thead>\n",
              "  <tbody>\n",
              "    <tr>\n",
              "      <th>count</th>\n",
              "      <td>8932</td>\n",
              "      <td>8932</td>\n",
              "      <td>8932</td>\n",
              "      <td>8932</td>\n",
              "    </tr>\n",
              "    <tr>\n",
              "      <th>unique</th>\n",
              "      <td>5</td>\n",
              "      <td>17</td>\n",
              "      <td>4</td>\n",
              "      <td>2</td>\n",
              "    </tr>\n",
              "    <tr>\n",
              "      <th>top</th>\n",
              "      <td>europe</td>\n",
              "      <td>2019</td>\n",
              "      <td>MF</td>\n",
              "      <td>right</td>\n",
              "    </tr>\n",
              "    <tr>\n",
              "      <th>freq</th>\n",
              "      <td>5322</td>\n",
              "      <td>2366</td>\n",
              "      <td>3428</td>\n",
              "      <td>6837</td>\n",
              "    </tr>\n",
              "  </tbody>\n",
              "</table>\n",
              "</div>\n",
              "      <button class=\"colab-df-convert\" onclick=\"convertToInteractive('df-ed5e7799-14b8-48aa-9815-1b5766d46186')\"\n",
              "              title=\"Convert this dataframe to an interactive table.\"\n",
              "              style=\"display:none;\">\n",
              "        \n",
              "  <svg xmlns=\"http://www.w3.org/2000/svg\" height=\"24px\"viewBox=\"0 0 24 24\"\n",
              "       width=\"24px\">\n",
              "    <path d=\"M0 0h24v24H0V0z\" fill=\"none\"/>\n",
              "    <path d=\"M18.56 5.44l.94 2.06.94-2.06 2.06-.94-2.06-.94-.94-2.06-.94 2.06-2.06.94zm-11 1L8.5 8.5l.94-2.06 2.06-.94-2.06-.94L8.5 2.5l-.94 2.06-2.06.94zm10 10l.94 2.06.94-2.06 2.06-.94-2.06-.94-.94-2.06-.94 2.06-2.06.94z\"/><path d=\"M17.41 7.96l-1.37-1.37c-.4-.4-.92-.59-1.43-.59-.52 0-1.04.2-1.43.59L10.3 9.45l-7.72 7.72c-.78.78-.78 2.05 0 2.83L4 21.41c.39.39.9.59 1.41.59.51 0 1.02-.2 1.41-.59l7.78-7.78 2.81-2.81c.8-.78.8-2.07 0-2.86zM5.41 20L4 18.59l7.72-7.72 1.47 1.35L5.41 20z\"/>\n",
              "  </svg>\n",
              "      </button>\n",
              "      \n",
              "  <style>\n",
              "    .colab-df-container {\n",
              "      display:flex;\n",
              "      flex-wrap:wrap;\n",
              "      gap: 12px;\n",
              "    }\n",
              "\n",
              "    .colab-df-convert {\n",
              "      background-color: #E8F0FE;\n",
              "      border: none;\n",
              "      border-radius: 50%;\n",
              "      cursor: pointer;\n",
              "      display: none;\n",
              "      fill: #1967D2;\n",
              "      height: 32px;\n",
              "      padding: 0 0 0 0;\n",
              "      width: 32px;\n",
              "    }\n",
              "\n",
              "    .colab-df-convert:hover {\n",
              "      background-color: #E2EBFA;\n",
              "      box-shadow: 0px 1px 2px rgba(60, 64, 67, 0.3), 0px 1px 3px 1px rgba(60, 64, 67, 0.15);\n",
              "      fill: #174EA6;\n",
              "    }\n",
              "\n",
              "    [theme=dark] .colab-df-convert {\n",
              "      background-color: #3B4455;\n",
              "      fill: #D2E3FC;\n",
              "    }\n",
              "\n",
              "    [theme=dark] .colab-df-convert:hover {\n",
              "      background-color: #434B5C;\n",
              "      box-shadow: 0px 1px 3px 1px rgba(0, 0, 0, 0.15);\n",
              "      filter: drop-shadow(0px 1px 2px rgba(0, 0, 0, 0.3));\n",
              "      fill: #FFFFFF;\n",
              "    }\n",
              "  </style>\n",
              "\n",
              "      <script>\n",
              "        const buttonEl =\n",
              "          document.querySelector('#df-ed5e7799-14b8-48aa-9815-1b5766d46186 button.colab-df-convert');\n",
              "        buttonEl.style.display =\n",
              "          google.colab.kernel.accessAllowed ? 'block' : 'none';\n",
              "\n",
              "        async function convertToInteractive(key) {\n",
              "          const element = document.querySelector('#df-ed5e7799-14b8-48aa-9815-1b5766d46186');\n",
              "          const dataTable =\n",
              "            await google.colab.kernel.invokeFunction('convertToInteractive',\n",
              "                                                     [key], {});\n",
              "          if (!dataTable) return;\n",
              "\n",
              "          const docLinkHtml = 'Like what you see? Visit the ' +\n",
              "            '<a target=\"_blank\" href=https://colab.research.google.com/notebooks/data_table.ipynb>data table notebook</a>'\n",
              "            + ' to learn more about interactive tables.';\n",
              "          element.innerHTML = '';\n",
              "          dataTable['output_type'] = 'display_data';\n",
              "          await google.colab.output.renderOutput(dataTable, element);\n",
              "          const docLink = document.createElement('div');\n",
              "          docLink.innerHTML = docLinkHtml;\n",
              "          element.appendChild(docLink);\n",
              "        }\n",
              "      </script>\n",
              "    </div>\n",
              "  </div>\n",
              "  "
            ]
          },
          "metadata": {},
          "execution_count": 57
        }
      ]
    },
    {
      "cell_type": "code",
      "source": [
        "# fig, axes = plt.subplots(2,5, figsize = (20,6))\n",
        "# axes = axes.flatten()\n",
        "# for col, ax in zip(df.columns, axes):\n",
        "#     sns.histplot(data = df, x = col, ax = ax)\n",
        "# plt.show()"
      ],
      "metadata": {
        "id": "0561qaqvgGmK"
      },
      "execution_count": null,
      "outputs": []
    },
    {
      "cell_type": "code",
      "source": [
        "plt.figure(figsize = (6,4))\n",
        "sns.heatmap(df.corr(), cmap = 'coolwarm', annot = True, vmax = 1, vmin = -1)"
      ],
      "metadata": {
        "colab": {
          "base_uri": "https://localhost:8080/",
          "height": 359
        },
        "id": "5KOC2slcgeVN",
        "outputId": "f1bb90d7-dfc3-4acb-bead-64a08db11c41"
      },
      "execution_count": null,
      "outputs": [
        {
          "output_type": "execute_result",
          "data": {
            "text/plain": [
              "<matplotlib.axes._subplots.AxesSubplot at 0x7f7645183f90>"
            ]
          },
          "metadata": {},
          "execution_count": 59
        },
        {
          "output_type": "display_data",
          "data": {
            "text/plain": [
              "<Figure size 432x288 with 2 Axes>"
            ],
            "image/png": "[encoded data removed]"
          },
          "metadata": {
            "needs_background": "light"
          }
        }
      ]
    },
    {
      "cell_type": "markdown",
      "source": [
        "#### 데이터 전처리"
      ],
      "metadata": {
        "id": "6LVtKm4_hbXl"
      }
    },
    {
      "cell_type": "code",
      "source": [
        "# contract_until 전처리\n",
        "df['contract_until'].unique()"
      ],
      "metadata": {
        "colab": {
          "base_uri": "https://localhost:8080/"
        },
        "id": "8EPvKCXqhG8M",
        "outputId": "259ed844-8e48-4e00-cdcd-c6ef4f8b79c6"
      },
      "execution_count": null,
      "outputs": [
        {
          "output_type": "execute_result",
          "data": {
            "text/plain": [
              "array(['2021', '2020', '2019', '2023', '2022', '2024', 'Jun 30, 2019',\n",
              "       '2026', 'Dec 31, 2018', '2018', '2025', 'Jun 30, 2020',\n",
              "       'May 31, 2020', 'May 31, 2019', 'Jan 31, 2019', 'Jan 1, 2019',\n",
              "       'Jan 12, 2019'], dtype=object)"
            ]
          },
          "metadata": {},
          "execution_count": 60
        }
      ]
    },
    {
      "cell_type": "code",
      "source": [
        "df_test['contract_until'].unique()"
      ],
      "metadata": {
        "colab": {
          "base_uri": "https://localhost:8080/"
        },
        "id": "hT5UE9uY_J10",
        "outputId": "5981e1b9-1622-487f-9e7e-2a9f49e03332"
      },
      "execution_count": null,
      "outputs": [
        {
          "output_type": "execute_result",
          "data": {
            "text/plain": [
              "array(['2022', '2023', '2020', '2021', 'Jun 30, 2019', '2019', '2025',\n",
              "       '2024', '2018', 'May 31, 2020', 'Jun 30, 2020', 'May 31, 2019',\n",
              "       'Dec 31, 2019', 'Dec 31, 2018', 'Jun 1, 2019', 'Jan 1, 2019',\n",
              "       'Jan 31, 2019', '2026'], dtype=object)"
            ]
          },
          "metadata": {},
          "execution_count": 61
        }
      ]
    },
    {
      "cell_type": "code",
      "source": [
        "df['contract_until'][df['contract_until'].str.contains('2018')] = '2018' \n",
        "df['contract_until'][df['contract_until'].str.contains('2019')] = '2019' \n",
        "df['contract_until'][df['contract_until'].str.contains('2020')] = '2020' "
      ],
      "metadata": {
        "colab": {
          "base_uri": "https://localhost:8080/"
        },
        "id": "b1Aum7rpug3e",
        "outputId": "5c262cf2-a15a-4306-cb3d-f691e23b41ba"
      },
      "execution_count": null,
      "outputs": [
        {
          "output_type": "stream",
          "name": "stderr",
          "text": [
            "/usr/local/lib/python3.7/dist-packages/ipykernel_launcher.py:1: SettingWithCopyWarning: \n",
            "A value is trying to be set on a copy of a slice from a DataFrame\n",
            "\n",
            "See the caveats in the documentation: https://pandas.pydata.org/pandas-docs/stable/user_guide/indexing.html#returning-a-view-versus-a-copy\n",
            "  \"\"\"Entry point for launching an IPython kernel.\n",
            "/usr/local/lib/python3.7/dist-packages/ipykernel_launcher.py:2: SettingWithCopyWarning: \n",
            "A value is trying to be set on a copy of a slice from a DataFrame\n",
            "\n",
            "See the caveats in the documentation: https://pandas.pydata.org/pandas-docs/stable/user_guide/indexing.html#returning-a-view-versus-a-copy\n",
            "  \n",
            "/usr/local/lib/python3.7/dist-packages/ipykernel_launcher.py:3: SettingWithCopyWarning: \n",
            "A value is trying to be set on a copy of a slice from a DataFrame\n",
            "\n",
            "See the caveats in the documentation: https://pandas.pydata.org/pandas-docs/stable/user_guide/indexing.html#returning-a-view-versus-a-copy\n",
            "  This is separate from the ipykernel package so we can avoid doing imports until\n"
          ]
        }
      ]
    },
    {
      "cell_type": "code",
      "source": [
        "df_test['contract_until'][df_test['contract_until'].str.contains('2018')] = '2018' \n",
        "df_test['contract_until'][df_test['contract_until'].str.contains('2019')] = '2019' \n",
        "df_test['contract_until'][df_test['contract_until'].str.contains('2020')] = '2020' "
      ],
      "metadata": {
        "colab": {
          "base_uri": "https://localhost:8080/"
        },
        "id": "KuZDq7Cq_Phc",
        "outputId": "43544477-8a49-462d-cbd2-85ae86110096"
      },
      "execution_count": null,
      "outputs": [
        {
          "output_type": "stream",
          "name": "stderr",
          "text": [
            "/usr/local/lib/python3.7/dist-packages/ipykernel_launcher.py:1: SettingWithCopyWarning: \n",
            "A value is trying to be set on a copy of a slice from a DataFrame\n",
            "\n",
            "See the caveats in the documentation: https://pandas.pydata.org/pandas-docs/stable/user_guide/indexing.html#returning-a-view-versus-a-copy\n",
            "  \"\"\"Entry point for launching an IPython kernel.\n",
            "/usr/local/lib/python3.7/dist-packages/ipykernel_launcher.py:2: SettingWithCopyWarning: \n",
            "A value is trying to be set on a copy of a slice from a DataFrame\n",
            "\n",
            "See the caveats in the documentation: https://pandas.pydata.org/pandas-docs/stable/user_guide/indexing.html#returning-a-view-versus-a-copy\n",
            "  \n",
            "/usr/local/lib/python3.7/dist-packages/ipykernel_launcher.py:3: SettingWithCopyWarning: \n",
            "A value is trying to be set on a copy of a slice from a DataFrame\n",
            "\n",
            "See the caveats in the documentation: https://pandas.pydata.org/pandas-docs/stable/user_guide/indexing.html#returning-a-view-versus-a-copy\n",
            "  This is separate from the ipykernel package so we can avoid doing imports until\n"
          ]
        }
      ]
    },
    {
      "cell_type": "code",
      "source": [
        "df['contract_until'] = df['contract_until'].astype('int64')\n",
        "df['contract_until'] = df['contract_until'] - 2018\n",
        "df.rename(columns = {'contract_until':'contract_left'}, inplace = True)"
      ],
      "metadata": {
        "id": "k-OntBLvoZMK"
      },
      "execution_count": null,
      "outputs": []
    },
    {
      "cell_type": "code",
      "source": [
        "df_test['contract_until'] = df_test['contract_until'].astype('int64')\n",
        "df_test['contract_until'] = df_test['contract_until'] - 2018\n",
        "df_test.rename(columns = {'contract_until':'contract_left'}, inplace = True)"
      ],
      "metadata": {
        "id": "jkWlEV9p_dCP"
      },
      "execution_count": null,
      "outputs": []
    },
    {
      "cell_type": "code",
      "source": [
        "# 'continent','position','prefer_foot' encoding\n",
        "df = pd.get_dummies(data = df, columns = ['continent','position','prefer_foot'])\n",
        "df_test = pd.get_dummies(data = df_test, columns = ['continent','position','prefer_foot'])"
      ],
      "metadata": {
        "id": "RRQznC4g1_G1"
      },
      "execution_count": null,
      "outputs": []
    },
    {
      "cell_type": "markdown",
      "source": [
        "##### 데이터 분할"
      ],
      "metadata": {
        "id": "NJPkRgkk4aJk"
      }
    },
    {
      "cell_type": "code",
      "source": [
        "# # 넘파이 변환\n",
        "# X = train.iloc[:, :-1].values\n",
        "# y = train.iloc[:, -1].values\n",
        "\n",
        "# # 데이터 분할\n",
        "# X_train, X_valid, y_train, y_valid = train_test_split(X,y, test_size=0.2, \n",
        "#                                                     random_state=1)\n",
        "\n",
        "# 넘파이 변환(df_test)\n",
        "# X = df_test.values"
      ],
      "metadata": {
        "id": "vpFWzy0MnWHx"
      },
      "execution_count": null,
      "outputs": []
    },
    {
      "cell_type": "code",
      "source": [
        "from sklearn.model_selection import train_test_split\n",
        "\n",
        "X = df.drop('value', axis = 1)\n",
        "y = df['value']\n",
        "X_train, X_test, y_train, y_test = train_test_split(X, y, test_size = 0.2)\n",
        "X_train.shape, X_test.shape, y_train.shape, y_test.shape"
      ],
      "metadata": {
        "colab": {
          "base_uri": "https://localhost:8080/"
        },
        "id": "XfzKtIMX0UsC",
        "outputId": "18ba9fef-d041-4d00-d0bb-3dddbf24b195"
      },
      "execution_count": null,
      "outputs": [
        {
          "output_type": "execute_result",
          "data": {
            "text/plain": [
              "((7145, 17), (1787, 17), (7145,), (1787,))"
            ]
          },
          "metadata": {},
          "execution_count": 68
        }
      ]
    },
    {
      "cell_type": "markdown",
      "source": [
        "##### 스케일링 "
      ],
      "metadata": {
        "id": "sJRuO1Y-4hoa"
      }
    },
    {
      "cell_type": "code",
      "source": [
        "from sklearn.preprocessing import StandardScaler\n",
        "\n",
        "# 스케일링\n",
        "sc_x = StandardScaler() \n",
        "X_train = sc_x.fit_transform(X_train) \n",
        "X_test = sc_x.transform(X_test)\n",
        "\n",
        "# sc_y = StandardScaler()\n",
        "# y_train = sc_y.fit_transform(y_train[:, np.newaxis]).flatten()\n",
        "# y_test = sc_y.fit_transform(y_test[:, np.newaxis]).flatten()\n",
        "\n",
        "# df_test 스케일링 \n",
        "df_test = sc_x.transform(df_test) # 위 넘파이로 변형했으면 X_test = sc_x.transform(X)"
      ],
      "metadata": {
        "id": "S-3NltSQ3Nl6"
      },
      "execution_count": null,
      "outputs": []
    },
    {
      "cell_type": "code",
      "source": [
        "# 스케일링 (로그)\n",
        "#sc_y = StandardScaler()\n",
        "#y_train = sc_y.fit_transform( np.expand_dims(y_train, 1) ).flatten()\n",
        "#y_valid = sc_y.transform( np.expand_dims(y_valid, 1) ).flatten()\n",
        "\n",
        "y_train = np.log10(y_train)\n",
        "y_test = np.log10(y_test)"
      ],
      "metadata": {
        "id": "pailkMhkrPFV"
      },
      "execution_count": null,
      "outputs": []
    },
    {
      "cell_type": "markdown",
      "source": [
        "#### 모델링"
      ],
      "metadata": {
        "id": "FVJq9L8j4oE7"
      }
    },
    {
      "cell_type": "code",
      "source": [
        "import numpy as np\n",
        "from sklearn.metrics import mean_squared_error, mean_absolute_error, r2_score\n",
        "\n",
        "def mean_absolute_percentage_error(y_true, y_pred):\n",
        "  return np.mean(np.abs( (y_true-y_pred) / y_true) ) * 100\n",
        "\n",
        "def norm_mean_absolute_error(y_true, y_pred):\n",
        "  return mean_absolute_error(y_true, y_pred)/np.mean(np.abs(y_true))\n",
        "\n",
        "def regression_scores(y_true,y_pred):\n",
        "  mse = mean_squared_error(y_true, y_pred)\n",
        "  rmse = np.sqrt(mean_squared_error(y_true, y_pred))\n",
        "  mae = mean_absolute_error(y_true, y_pred)\n",
        "  nmae = norm_mean_absolute_error(y_true, y_pred)\n",
        "  mape = mean_absolute_percentage_error(y_true, y_pred)\n",
        "  r2 = r2_score(y_true, y_pred)\n",
        "  return {'mse':np.round(mse,3), 'rmse':np.round(rmse,3), 'mae':np.round(mae,3), 'nmae':np.round(nmae,3), 'mape':np.round(mape,3), 'r2':np.round(r2,3) }"
      ],
      "metadata": {
        "id": "4m90lDRk6nJy"
      },
      "execution_count": null,
      "outputs": []
    },
    {
      "cell_type": "code",
      "source": [
        "from sklearn.linear_model import * \n",
        "\n",
        "# linear\n",
        "linear = LinearRegression()\n",
        "linear.fit(X_train, y_train)\n",
        "\n",
        "# ridge\n",
        "ridge = Ridge(alpha = 0.1,  random_state = 1)\n",
        "ridge.fit(X_train, y_train)\n",
        "\n",
        " # lasso\n",
        "lasso = Lasso(alpha = 0.1, random_state = 1)\n",
        "lasso.fit(X_train, y_train)\n",
        "\n",
        "# elastic \n",
        "elastic = ElasticNet(alpha = 0.1,  random_state = 1)\n",
        "elastic.fit(X_train, y_train)\n",
        "\n",
        "# bayes_ridge\n",
        "bayes_ridge = BayesianRidge()\n",
        "bayes_ridge.fit(X_train, y_train)"
      ],
      "metadata": {
        "colab": {
          "base_uri": "https://localhost:8080/"
        },
        "outputId": "9069ea7c-656e-447e-e42b-bb12303d3388",
        "id": "eu4i2gaN5AQO"
      },
      "execution_count": null,
      "outputs": [
        {
          "output_type": "execute_result",
          "data": {
            "text/plain": [
              "BayesianRidge()"
            ]
          },
          "metadata": {},
          "execution_count": 72
        }
      ]
    },
    {
      "cell_type": "code",
      "source": [
        "# tree (결정트리 회귀)\n",
        "from sklearn.tree import DecisionTreeRegressor\n",
        "tree = DecisionTreeRegressor(random_state = 1, max_depth = 3)\n",
        "tree.fit(X_train, y_train)\n",
        "\n",
        "# forest (Random Forest Regressor)\n",
        "from sklearn.ensemble import *\n",
        "forest = RandomForestRegressor(random_state = 1)\n",
        "forest.fit(X_train, y_train)\n",
        "\n",
        "# et (Extra Tree Regressor)\n",
        "et = ExtraTreesRegressor(random_state = 1)\n",
        "et.fit(X_train, y_train)\n",
        "\n",
        "# gb (Gradient Boosting Regressor)\n",
        "gb = GradientBoostingRegressor(random_state = 1)\n",
        "gb.fit(X_train, y_train)\n",
        "\n",
        " # xgb (XGBoost Regressor)\n",
        "from xgboost import XGBRegressor\n",
        "xgb = XGBRegressor(random_state = 1)\n",
        "xgb.fit(X_train, y_train)"
      ],
      "metadata": {
        "colab": {
          "base_uri": "https://localhost:8080/"
        },
        "outputId": "c6d5662d-4b25-411d-ad92-65ff2e51d8ec",
        "id": "_TC6Y5WF5AQQ"
      },
      "execution_count": null,
      "outputs": [
        {
          "output_type": "stream",
          "name": "stdout",
          "text": [
            "[08:33:10] WARNING: /workspace/src/objective/regression_obj.cu:152: reg:linear is now deprecated in favor of reg:squarederror.\n"
          ]
        },
        {
          "output_type": "execute_result",
          "data": {
            "text/plain": [
              "XGBRegressor(random_state=1)"
            ]
          },
          "metadata": {},
          "execution_count": 73
        }
      ]
    },
    {
      "cell_type": "code",
      "source": [
        "df_score = pd.DataFrame()\n",
        "plt.figure(figsize = (20, 9))\n",
        "for idx, model in enumerate(['linear', 'ridge', 'lasso', 'elastic', 'bayes_ridge', \n",
        "                             'tree', 'forest', 'et', 'gb', 'xgb']):\n",
        " # 모델별 학습 및 예측\n",
        "#  eval(model).fit(X_train, y_train)\n",
        "  y_pred = eval(model).predict(X_test)\n",
        "  \n",
        "  # 실제-예측 산점도\n",
        "  plt.subplot(2,5,idx+1)\n",
        "  plt.title(model)\n",
        "  plt.scatter(y_test, y_pred, marker='.')\n",
        "  plt.plot([3,8],[3,8], c='r')\n",
        "  plt.xlabel('y_true')\n",
        "  plt.ylabel('y_pred')\n",
        "  \n",
        "  # 성능 평가\n",
        "  df_score = pd.concat([df_score, pd.DataFrame(regression_scores(y_test, y_pred) ,index=[model]) ])\n",
        "\n",
        "plt.show()\n",
        "df_score.style.background_gradient(cmap='Greens_r')"
      ],
      "metadata": {
        "colab": {
          "base_uri": "https://localhost:8080/",
          "height": 662
        },
        "outputId": "a3704e76-6d88-4da8-93f3-9b851166ed24",
        "id": "36f-Vrcs5AQT"
      },
      "execution_count": null,
      "outputs": [
        {
          "output_type": "display_data",
          "data": {
            "text/plain": [
              "<Figure size 1440x648 with 10 Axes>"
            ],
            "image/png": "[encoded data removed]"
          },
          "metadata": {
            "needs_background": "light"
          }
        },
        {
          "output_type": "execute_result",
          "data": {
            "text/plain": [
              "<pandas.io.formats.style.Styler at 0x7f7640b617d0>"
            ],
            "text/html": [
              "<style type=\"text/css\">\n",
              "#T_19ff0_row0_col0, #T_19ff0_row1_col0, #T_19ff0_row4_col0 {\n",
              "  background-color: #289049;\n",
              "  color: #f1f1f1;\n",
              "}\n",
              "#T_19ff0_row0_col1, #T_19ff0_row0_col3, #T_19ff0_row1_col1, #T_19ff0_row1_col3, #T_19ff0_row4_col1, #T_19ff0_row4_col3 {\n",
              "  background-color: #5ab769;\n",
              "  color: #f1f1f1;\n",
              "}\n",
              "#T_19ff0_row0_col2, #T_19ff0_row0_col4, #T_19ff0_row1_col2, #T_19ff0_row1_col4, #T_19ff0_row4_col2, #T_19ff0_row4_col4 {\n",
              "  background-color: #5db96b;\n",
              "  color: #f1f1f1;\n",
              "}\n",
              "#T_19ff0_row0_col5, #T_19ff0_row1_col5, #T_19ff0_row4_col5 {\n",
              "  background-color: #c4e8bd;\n",
              "  color: #000000;\n",
              "}\n",
              "#T_19ff0_row2_col0 {\n",
              "  background-color: #e3f4de;\n",
              "  color: #000000;\n",
              "}\n",
              "#T_19ff0_row2_col1 {\n",
              "  background-color: #edf8ea;\n",
              "  color: #000000;\n",
              "}\n",
              "#T_19ff0_row2_col2 {\n",
              "  background-color: #d8f0d2;\n",
              "  color: #000000;\n",
              "}\n",
              "#T_19ff0_row2_col3 {\n",
              "  background-color: #daf0d4;\n",
              "  color: #000000;\n",
              "}\n",
              "#T_19ff0_row2_col4 {\n",
              "  background-color: #d5efcf;\n",
              "  color: #000000;\n",
              "}\n",
              "#T_19ff0_row2_col5 {\n",
              "  background-color: #00692a;\n",
              "  color: #f1f1f1;\n",
              "}\n",
              "#T_19ff0_row3_col0 {\n",
              "  background-color: #abdda5;\n",
              "  color: #000000;\n",
              "}\n",
              "#T_19ff0_row3_col1 {\n",
              "  background-color: #d2edcc;\n",
              "  color: #000000;\n",
              "}\n",
              "#T_19ff0_row3_col2 {\n",
              "  background-color: #b5e1ae;\n",
              "  color: #000000;\n",
              "}\n",
              "#T_19ff0_row3_col3 {\n",
              "  background-color: #b7e2b1;\n",
              "  color: #000000;\n",
              "}\n",
              "#T_19ff0_row3_col4 {\n",
              "  background-color: #b0dfaa;\n",
              "  color: #000000;\n",
              "}\n",
              "#T_19ff0_row3_col5 {\n",
              "  background-color: #359e53;\n",
              "  color: #f1f1f1;\n",
              "}\n",
              "#T_19ff0_row5_col0, #T_19ff0_row5_col1, #T_19ff0_row5_col2, #T_19ff0_row5_col3, #T_19ff0_row5_col4, #T_19ff0_row6_col5, #T_19ff0_row7_col5, #T_19ff0_row8_col5 {\n",
              "  background-color: #f7fcf5;\n",
              "  color: #000000;\n",
              "}\n",
              "#T_19ff0_row5_col5, #T_19ff0_row6_col0, #T_19ff0_row6_col1, #T_19ff0_row6_col3, #T_19ff0_row7_col0, #T_19ff0_row7_col1, #T_19ff0_row7_col2, #T_19ff0_row7_col3, #T_19ff0_row7_col4, #T_19ff0_row8_col0 {\n",
              "  background-color: #00441b;\n",
              "  color: #f1f1f1;\n",
              "}\n",
              "#T_19ff0_row6_col2 {\n",
              "  background-color: #00481d;\n",
              "  color: #f1f1f1;\n",
              "}\n",
              "#T_19ff0_row6_col4, #T_19ff0_row8_col1 {\n",
              "  background-color: #00471c;\n",
              "  color: #f1f1f1;\n",
              "}\n",
              "#T_19ff0_row8_col2, #T_19ff0_row8_col4 {\n",
              "  background-color: #005622;\n",
              "  color: #f1f1f1;\n",
              "}\n",
              "#T_19ff0_row8_col3, #T_19ff0_row9_col3 {\n",
              "  background-color: #006027;\n",
              "  color: #f1f1f1;\n",
              "}\n",
              "#T_19ff0_row9_col0 {\n",
              "  background-color: #004a1e;\n",
              "  color: #f1f1f1;\n",
              "}\n",
              "#T_19ff0_row9_col1 {\n",
              "  background-color: #004d1f;\n",
              "  color: #f1f1f1;\n",
              "}\n",
              "#T_19ff0_row9_col2 {\n",
              "  background-color: #005b25;\n",
              "  color: #f1f1f1;\n",
              "}\n",
              "#T_19ff0_row9_col4 {\n",
              "  background-color: #005c25;\n",
              "  color: #f1f1f1;\n",
              "}\n",
              "#T_19ff0_row9_col5 {\n",
              "  background-color: #f6fcf4;\n",
              "  color: #000000;\n",
              "}\n",
              "</style>\n",
              "<table id=\"T_19ff0_\" class=\"dataframe\">\n",
              "  <thead>\n",
              "    <tr>\n",
              "      <th class=\"blank level0\" >&nbsp;</th>\n",
              "      <th class=\"col_heading level0 col0\" >mse</th>\n",
              "      <th class=\"col_heading level0 col1\" >rmse</th>\n",
              "      <th class=\"col_heading level0 col2\" >mae</th>\n",
              "      <th class=\"col_heading level0 col3\" >nmae</th>\n",
              "      <th class=\"col_heading level0 col4\" >mape</th>\n",
              "      <th class=\"col_heading level0 col5\" >r2</th>\n",
              "    </tr>\n",
              "  </thead>\n",
              "  <tbody>\n",
              "    <tr>\n",
              "      <th id=\"T_19ff0_level0_row0\" class=\"row_heading level0 row0\" >linear</th>\n",
              "      <td id=\"T_19ff0_row0_col0\" class=\"data row0 col0\" >0.013000</td>\n",
              "      <td id=\"T_19ff0_row0_col1\" class=\"data row0 col1\" >0.112000</td>\n",
              "      <td id=\"T_19ff0_row0_col2\" class=\"data row0 col2\" >0.080000</td>\n",
              "      <td id=\"T_19ff0_row0_col3\" class=\"data row0 col3\" >0.013000</td>\n",
              "      <td id=\"T_19ff0_row0_col4\" class=\"data row0 col4\" >1.364000</td>\n",
              "      <td id=\"T_19ff0_row0_col5\" class=\"data row0 col5\" >0.965000</td>\n",
              "    </tr>\n",
              "    <tr>\n",
              "      <th id=\"T_19ff0_level0_row1\" class=\"row_heading level0 row1\" >ridge</th>\n",
              "      <td id=\"T_19ff0_row1_col0\" class=\"data row1 col0\" >0.013000</td>\n",
              "      <td id=\"T_19ff0_row1_col1\" class=\"data row1 col1\" >0.112000</td>\n",
              "      <td id=\"T_19ff0_row1_col2\" class=\"data row1 col2\" >0.080000</td>\n",
              "      <td id=\"T_19ff0_row1_col3\" class=\"data row1 col3\" >0.013000</td>\n",
              "      <td id=\"T_19ff0_row1_col4\" class=\"data row1 col4\" >1.363000</td>\n",
              "      <td id=\"T_19ff0_row1_col5\" class=\"data row1 col5\" >0.965000</td>\n",
              "    </tr>\n",
              "    <tr>\n",
              "      <th id=\"T_19ff0_level0_row2\" class=\"row_heading level0 row2\" >lasso</th>\n",
              "      <td id=\"T_19ff0_row2_col0\" class=\"data row2 col0\" >0.039000</td>\n",
              "      <td id=\"T_19ff0_row2_col1\" class=\"data row2 col1\" >0.199000</td>\n",
              "      <td id=\"T_19ff0_row2_col2\" class=\"data row2 col2\" >0.132000</td>\n",
              "      <td id=\"T_19ff0_row2_col3\" class=\"data row2 col3\" >0.022000</td>\n",
              "      <td id=\"T_19ff0_row2_col4\" class=\"data row2 col4\" >2.221000</td>\n",
              "      <td id=\"T_19ff0_row2_col5\" class=\"data row2 col5\" >0.890000</td>\n",
              "    </tr>\n",
              "    <tr>\n",
              "      <th id=\"T_19ff0_level0_row3\" class=\"row_heading level0 row3\" >elastic</th>\n",
              "      <td id=\"T_19ff0_row3_col0\" class=\"data row3 col0\" >0.030000</td>\n",
              "      <td id=\"T_19ff0_row3_col1\" class=\"data row3 col1\" >0.175000</td>\n",
              "      <td id=\"T_19ff0_row3_col2\" class=\"data row3 col2\" >0.114000</td>\n",
              "      <td id=\"T_19ff0_row3_col3\" class=\"data row3 col3\" >0.019000</td>\n",
              "      <td id=\"T_19ff0_row3_col4\" class=\"data row3 col4\" >1.910000</td>\n",
              "      <td id=\"T_19ff0_row3_col5\" class=\"data row3 col5\" >0.915000</td>\n",
              "    </tr>\n",
              "    <tr>\n",
              "      <th id=\"T_19ff0_level0_row4\" class=\"row_heading level0 row4\" >bayes_ridge</th>\n",
              "      <td id=\"T_19ff0_row4_col0\" class=\"data row4 col0\" >0.013000</td>\n",
              "      <td id=\"T_19ff0_row4_col1\" class=\"data row4 col1\" >0.112000</td>\n",
              "      <td id=\"T_19ff0_row4_col2\" class=\"data row4 col2\" >0.080000</td>\n",
              "      <td id=\"T_19ff0_row4_col3\" class=\"data row4 col3\" >0.013000</td>\n",
              "      <td id=\"T_19ff0_row4_col4\" class=\"data row4 col4\" >1.363000</td>\n",
              "      <td id=\"T_19ff0_row4_col5\" class=\"data row4 col5\" >0.965000</td>\n",
              "    </tr>\n",
              "    <tr>\n",
              "      <th id=\"T_19ff0_level0_row5\" class=\"row_heading level0 row5\" >tree</th>\n",
              "      <td id=\"T_19ff0_row5_col0\" class=\"data row5 col0\" >0.045000</td>\n",
              "      <td id=\"T_19ff0_row5_col1\" class=\"data row5 col1\" >0.211000</td>\n",
              "      <td id=\"T_19ff0_row5_col2\" class=\"data row5 col2\" >0.157000</td>\n",
              "      <td id=\"T_19ff0_row5_col3\" class=\"data row5 col3\" >0.026000</td>\n",
              "      <td id=\"T_19ff0_row5_col4\" class=\"data row5 col4\" >2.672000</td>\n",
              "      <td id=\"T_19ff0_row5_col5\" class=\"data row5 col5\" >0.876000</td>\n",
              "    </tr>\n",
              "    <tr>\n",
              "      <th id=\"T_19ff0_level0_row6\" class=\"row_heading level0 row6\" >forest</th>\n",
              "      <td id=\"T_19ff0_row6_col0\" class=\"data row6 col0\" >0.001000</td>\n",
              "      <td id=\"T_19ff0_row6_col1\" class=\"data row6 col1\" >0.036000</td>\n",
              "      <td id=\"T_19ff0_row6_col2\" class=\"data row6 col2\" >0.021000</td>\n",
              "      <td id=\"T_19ff0_row6_col3\" class=\"data row6 col3\" >0.003000</td>\n",
              "      <td id=\"T_19ff0_row6_col4\" class=\"data row6 col4\" >0.351000</td>\n",
              "      <td id=\"T_19ff0_row6_col5\" class=\"data row6 col5\" >0.996000</td>\n",
              "    </tr>\n",
              "    <tr>\n",
              "      <th id=\"T_19ff0_level0_row7\" class=\"row_heading level0 row7\" >et</th>\n",
              "      <td id=\"T_19ff0_row7_col0\" class=\"data row7 col0\" >0.001000</td>\n",
              "      <td id=\"T_19ff0_row7_col1\" class=\"data row7 col1\" >0.036000</td>\n",
              "      <td id=\"T_19ff0_row7_col2\" class=\"data row7 col2\" >0.019000</td>\n",
              "      <td id=\"T_19ff0_row7_col3\" class=\"data row7 col3\" >0.003000</td>\n",
              "      <td id=\"T_19ff0_row7_col4\" class=\"data row7 col4\" >0.325000</td>\n",
              "      <td id=\"T_19ff0_row7_col5\" class=\"data row7 col5\" >0.996000</td>\n",
              "    </tr>\n",
              "    <tr>\n",
              "      <th id=\"T_19ff0_level0_row8\" class=\"row_heading level0 row8\" >gb</th>\n",
              "      <td id=\"T_19ff0_row8_col0\" class=\"data row8 col0\" >0.001000</td>\n",
              "      <td id=\"T_19ff0_row8_col1\" class=\"data row8 col1\" >0.038000</td>\n",
              "      <td id=\"T_19ff0_row8_col2\" class=\"data row8 col2\" >0.027000</td>\n",
              "      <td id=\"T_19ff0_row8_col3\" class=\"data row8 col3\" >0.005000</td>\n",
              "      <td id=\"T_19ff0_row8_col4\" class=\"data row8 col4\" >0.462000</td>\n",
              "      <td id=\"T_19ff0_row8_col5\" class=\"data row8 col5\" >0.996000</td>\n",
              "    </tr>\n",
              "    <tr>\n",
              "      <th id=\"T_19ff0_level0_row9\" class=\"row_heading level0 row9\" >xgb</th>\n",
              "      <td id=\"T_19ff0_row9_col0\" class=\"data row9 col0\" >0.002000</td>\n",
              "      <td id=\"T_19ff0_row9_col1\" class=\"data row9 col1\" >0.041000</td>\n",
              "      <td id=\"T_19ff0_row9_col2\" class=\"data row9 col2\" >0.029000</td>\n",
              "      <td id=\"T_19ff0_row9_col3\" class=\"data row9 col3\" >0.005000</td>\n",
              "      <td id=\"T_19ff0_row9_col4\" class=\"data row9 col4\" >0.501000</td>\n",
              "      <td id=\"T_19ff0_row9_col5\" class=\"data row9 col5\" >0.995000</td>\n",
              "    </tr>\n",
              "  </tbody>\n",
              "</table>\n"
            ]
          },
          "metadata": {},
          "execution_count": 74
        }
      ]
    },
    {
      "cell_type": "code",
      "source": [
        "# rmse를 기준으로 gb (Gradient Boosting Regressor)가 가장 좋은 성능을 보였음.\n",
        "\n",
        "from sklearn.ensemble import GradientBoostingRegressor\n",
        "gb = GradientBoostingRegressor(random_state = 1)\n",
        "gb.fit(X_train, y_train)"
      ],
      "metadata": {
        "colab": {
          "base_uri": "https://localhost:8080/"
        },
        "id": "WAdq1Cgy75Zo",
        "outputId": "b37fb798-9302-4028-b4db-8f8d056f30f4"
      },
      "execution_count": null,
      "outputs": [
        {
          "output_type": "execute_result",
          "data": {
            "text/plain": [
              "GradientBoostingRegressor(random_state=1)"
            ]
          },
          "metadata": {},
          "execution_count": 75
        }
      ]
    },
    {
      "cell_type": "markdown",
      "source": [
        "#### 테스트셋 적용"
      ],
      "metadata": {
        "id": "ybelW_IpLO-k"
      }
    },
    {
      "cell_type": "code",
      "source": [
        "y_pred = gb.predict(df_test)"
      ],
      "metadata": {
        "id": "WoJ73jt0LMpZ"
      },
      "execution_count": null,
      "outputs": []
    },
    {
      "cell_type": "code",
      "source": [
        "for y in ['y_train','y_test','y_pred']:\n",
        "    plt.hist(eval(y), bins = 50)\n",
        "    plt.title(y)\n",
        "    plt.show()"
      ],
      "metadata": {
        "colab": {
          "base_uri": "https://localhost:8080/",
          "height": 809
        },
        "id": "LtKeZxmvLm7V",
        "outputId": "814bd1ce-fc36-40ad-f6f5-0ce961c047f2"
      },
      "execution_count": null,
      "outputs": [
        {
          "output_type": "display_data",
          "data": {
            "text/plain": [
              "<Figure size 432x288 with 1 Axes>"
            ],
            "image/png": "[encoded data removed]"
          },
          "metadata": {
            "needs_background": "light"
          }
        },
        {
          "output_type": "display_data",
          "data": {
            "text/plain": [
              "<Figure size 432x288 with 1 Axes>"
            ],
            "image/png": "[encoded data removed]"
          },
          "metadata": {
            "needs_background": "light"
          }
        },
        {
          "output_type": "display_data",
          "data": {
            "text/plain": [
              "<Figure size 432x288 with 1 Axes>"
            ],
            "image/png": "[encoded data removed]"
          },
          "metadata": {
            "needs_background": "light"
          }
        }
      ]
    },
    {
      "cell_type": "code",
      "source": [
        "# y_final = sc_y.inverse_transform(y_pred.reshape(-1,1))\n",
        "y_final = 10**(y_pred)"
      ],
      "metadata": {
        "id": "krNtnyqFGEvj"
      },
      "execution_count": null,
      "outputs": []
    },
    {
      "cell_type": "code",
      "source": [
        "_ = plt.hist(y_final, bins = 50)"
      ],
      "metadata": {
        "colab": {
          "base_uri": "https://localhost:8080/",
          "height": 278
        },
        "id": "nZ8MPsKJMNbi",
        "outputId": "c5c3e3a3-fe6a-439f-cfd6-d2a8e096de00"
      },
      "execution_count": null,
      "outputs": [
        {
          "output_type": "display_data",
          "data": {
            "text/plain": [
              "<Figure size 432x288 with 1 Axes>"
            ],
            "image/png": "[encoded data removed]"
          },
          "metadata": {
            "needs_background": "light"
          }
        }
      ]
    },
    {
      "cell_type": "code",
      "source": [
        "y_final"
      ],
      "metadata": {
        "colab": {
          "base_uri": "https://localhost:8080/"
        },
        "id": "kbyJkn95GM-d",
        "outputId": "5468cb7a-71e6-426e-d5a7-cf4cab692c80"
      },
      "execution_count": null,
      "outputs": [
        {
          "output_type": "execute_result",
          "data": {
            "text/plain": [
              "array([5.40572426e+07, 8.43357257e+07, 7.45589305e+07, ...,\n",
              "       6.02662017e+04, 5.35392028e+04, 5.33988862e+04])"
            ]
          },
          "metadata": {},
          "execution_count": 80
        }
      ]
    },
    {
      "cell_type": "code",
      "source": [
        "sub = pd.read_csv('/content/submission.csv')\n",
        "sub.head()"
      ],
      "metadata": {
        "colab": {
          "base_uri": "https://localhost:8080/",
          "height": 206
        },
        "id": "HCeU5TZZBupN",
        "outputId": "1a3f2e4a-2d72-4770-e233-1c714ee03ceb"
      },
      "execution_count": null,
      "outputs": [
        {
          "output_type": "execute_result",
          "data": {
            "text/plain": [
              "   id  value\n",
              "0   1      0\n",
              "1   2      0\n",
              "2   4      0\n",
              "3   5      0\n",
              "4   6      0"
            ],
            "text/html": [
              "\n",
              "  <div id=\"df-dab4f9e5-aa6d-4d3d-bba4-2f64ad9d4fa4\">\n",
              "    <div class=\"colab-df-container\">\n",
              "      <div>\n",
              "<style scoped>\n",
              "    .dataframe tbody tr th:only-of-type {\n",
              "        vertical-align: middle;\n",
              "    }\n",
              "\n",
              "    .dataframe tbody tr th {\n",
              "        vertical-align: top;\n",
              "    }\n",
              "\n",
              "    .dataframe thead th {\n",
              "        text-align: right;\n",
              "    }\n",
              "</style>\n",
              "<table border=\"1\" class=\"dataframe\">\n",
              "  <thead>\n",
              "    <tr style=\"text-align: right;\">\n",
              "      <th></th>\n",
              "      <th>id</th>\n",
              "      <th>value</th>\n",
              "    </tr>\n",
              "  </thead>\n",
              "  <tbody>\n",
              "    <tr>\n",
              "      <th>0</th>\n",
              "      <td>1</td>\n",
              "      <td>0</td>\n",
              "    </tr>\n",
              "    <tr>\n",
              "      <th>1</th>\n",
              "      <td>2</td>\n",
              "      <td>0</td>\n",
              "    </tr>\n",
              "    <tr>\n",
              "      <th>2</th>\n",
              "      <td>4</td>\n",
              "      <td>0</td>\n",
              "    </tr>\n",
              "    <tr>\n",
              "      <th>3</th>\n",
              "      <td>5</td>\n",
              "      <td>0</td>\n",
              "    </tr>\n",
              "    <tr>\n",
              "      <th>4</th>\n",
              "      <td>6</td>\n",
              "      <td>0</td>\n",
              "    </tr>\n",
              "  </tbody>\n",
              "</table>\n",
              "</div>\n",
              "      <button class=\"colab-df-convert\" onclick=\"convertToInteractive('df-dab4f9e5-aa6d-4d3d-bba4-2f64ad9d4fa4')\"\n",
              "              title=\"Convert this dataframe to an interactive table.\"\n",
              "              style=\"display:none;\">\n",
              "        \n",
              "  <svg xmlns=\"http://www.w3.org/2000/svg\" height=\"24px\"viewBox=\"0 0 24 24\"\n",
              "       width=\"24px\">\n",
              "    <path d=\"M0 0h24v24H0V0z\" fill=\"none\"/>\n",
              "    <path d=\"M18.56 5.44l.94 2.06.94-2.06 2.06-.94-2.06-.94-.94-2.06-.94 2.06-2.06.94zm-11 1L8.5 8.5l.94-2.06 2.06-.94-2.06-.94L8.5 2.5l-.94 2.06-2.06.94zm10 10l.94 2.06.94-2.06 2.06-.94-2.06-.94-.94-2.06-.94 2.06-2.06.94z\"/><path d=\"M17.41 7.96l-1.37-1.37c-.4-.4-.92-.59-1.43-.59-.52 0-1.04.2-1.43.59L10.3 9.45l-7.72 7.72c-.78.78-.78 2.05 0 2.83L4 21.41c.39.39.9.59 1.41.59.51 0 1.02-.2 1.41-.59l7.78-7.78 2.81-2.81c.8-.78.8-2.07 0-2.86zM5.41 20L4 18.59l7.72-7.72 1.47 1.35L5.41 20z\"/>\n",
              "  </svg>\n",
              "      </button>\n",
              "      \n",
              "  <style>\n",
              "    .colab-df-container {\n",
              "      display:flex;\n",
              "      flex-wrap:wrap;\n",
              "      gap: 12px;\n",
              "    }\n",
              "\n",
              "    .colab-df-convert {\n",
              "      background-color: #E8F0FE;\n",
              "      border: none;\n",
              "      border-radius: 50%;\n",
              "      cursor: pointer;\n",
              "      display: none;\n",
              "      fill: #1967D2;\n",
              "      height: 32px;\n",
              "      padding: 0 0 0 0;\n",
              "      width: 32px;\n",
              "    }\n",
              "\n",
              "    .colab-df-convert:hover {\n",
              "      background-color: #E2EBFA;\n",
              "      box-shadow: 0px 1px 2px rgba(60, 64, 67, 0.3), 0px 1px 3px 1px rgba(60, 64, 67, 0.15);\n",
              "      fill: #174EA6;\n",
              "    }\n",
              "\n",
              "    [theme=dark] .colab-df-convert {\n",
              "      background-color: #3B4455;\n",
              "      fill: #D2E3FC;\n",
              "    }\n",
              "\n",
              "    [theme=dark] .colab-df-convert:hover {\n",
              "      background-color: #434B5C;\n",
              "      box-shadow: 0px 1px 3px 1px rgba(0, 0, 0, 0.15);\n",
              "      filter: drop-shadow(0px 1px 2px rgba(0, 0, 0, 0.3));\n",
              "      fill: #FFFFFF;\n",
              "    }\n",
              "  </style>\n",
              "\n",
              "      <script>\n",
              "        const buttonEl =\n",
              "          document.querySelector('#df-dab4f9e5-aa6d-4d3d-bba4-2f64ad9d4fa4 button.colab-df-convert');\n",
              "        buttonEl.style.display =\n",
              "          google.colab.kernel.accessAllowed ? 'block' : 'none';\n",
              "\n",
              "        async function convertToInteractive(key) {\n",
              "          const element = document.querySelector('#df-dab4f9e5-aa6d-4d3d-bba4-2f64ad9d4fa4');\n",
              "          const dataTable =\n",
              "            await google.colab.kernel.invokeFunction('convertToInteractive',\n",
              "                                                     [key], {});\n",
              "          if (!dataTable) return;\n",
              "\n",
              "          const docLinkHtml = 'Like what you see? Visit the ' +\n",
              "            '<a target=\"_blank\" href=https://colab.research.google.com/notebooks/data_table.ipynb>data table notebook</a>'\n",
              "            + ' to learn more about interactive tables.';\n",
              "          element.innerHTML = '';\n",
              "          dataTable['output_type'] = 'display_data';\n",
              "          await google.colab.output.renderOutput(dataTable, element);\n",
              "          const docLink = document.createElement('div');\n",
              "          docLink.innerHTML = docLinkHtml;\n",
              "          element.appendChild(docLink);\n",
              "        }\n",
              "      </script>\n",
              "    </div>\n",
              "  </div>\n",
              "  "
            ]
          },
          "metadata": {},
          "execution_count": 81
        }
      ]
    },
    {
      "cell_type": "code",
      "source": [
        "sub['value'] = y_final"
      ],
      "metadata": {
        "id": "oBbrzZdxICUx"
      },
      "execution_count": null,
      "outputs": []
    },
    {
      "cell_type": "code",
      "source": [
        "sub.head()"
      ],
      "metadata": {
        "colab": {
          "base_uri": "https://localhost:8080/",
          "height": 206
        },
        "id": "kDkcD8wqJWas",
        "outputId": "76f4cc6d-c896-4519-8ee7-d574edd9fea9"
      },
      "execution_count": null,
      "outputs": [
        {
          "output_type": "execute_result",
          "data": {
            "text/plain": [
              "   id         value\n",
              "0   1  5.405724e+07\n",
              "1   2  8.433573e+07\n",
              "2   4  7.455893e+07\n",
              "3   5  8.433573e+07\n",
              "4   6  5.136377e+07"
            ],
            "text/html": [
              "\n",
              "  <div id=\"df-cb3c8ed6-f5f1-4b90-9746-a0bb607eab3c\">\n",
              "    <div class=\"colab-df-container\">\n",
              "      <div>\n",
              "<style scoped>\n",
              "    .dataframe tbody tr th:only-of-type {\n",
              "        vertical-align: middle;\n",
              "    }\n",
              "\n",
              "    .dataframe tbody tr th {\n",
              "        vertical-align: top;\n",
              "    }\n",
              "\n",
              "    .dataframe thead th {\n",
              "        text-align: right;\n",
              "    }\n",
              "</style>\n",
              "<table border=\"1\" class=\"dataframe\">\n",
              "  <thead>\n",
              "    <tr style=\"text-align: right;\">\n",
              "      <th></th>\n",
              "      <th>id</th>\n",
              "      <th>value</th>\n",
              "    </tr>\n",
              "  </thead>\n",
              "  <tbody>\n",
              "    <tr>\n",
              "      <th>0</th>\n",
              "      <td>1</td>\n",
              "      <td>5.405724e+07</td>\n",
              "    </tr>\n",
              "    <tr>\n",
              "      <th>1</th>\n",
              "      <td>2</td>\n",
              "      <td>8.433573e+07</td>\n",
              "    </tr>\n",
              "    <tr>\n",
              "      <th>2</th>\n",
              "      <td>4</td>\n",
              "      <td>7.455893e+07</td>\n",
              "    </tr>\n",
              "    <tr>\n",
              "      <th>3</th>\n",
              "      <td>5</td>\n",
              "      <td>8.433573e+07</td>\n",
              "    </tr>\n",
              "    <tr>\n",
              "      <th>4</th>\n",
              "      <td>6</td>\n",
              "      <td>5.136377e+07</td>\n",
              "    </tr>\n",
              "  </tbody>\n",
              "</table>\n",
              "</div>\n",
              "      <button class=\"colab-df-convert\" onclick=\"convertToInteractive('df-cb3c8ed6-f5f1-4b90-9746-a0bb607eab3c')\"\n",
              "              title=\"Convert this dataframe to an interactive table.\"\n",
              "              style=\"display:none;\">\n",
              "        \n",
              "  <svg xmlns=\"http://www.w3.org/2000/svg\" height=\"24px\"viewBox=\"0 0 24 24\"\n",
              "       width=\"24px\">\n",
              "    <path d=\"M0 0h24v24H0V0z\" fill=\"none\"/>\n",
              "    <path d=\"M18.56 5.44l.94 2.06.94-2.06 2.06-.94-2.06-.94-.94-2.06-.94 2.06-2.06.94zm-11 1L8.5 8.5l.94-2.06 2.06-.94-2.06-.94L8.5 2.5l-.94 2.06-2.06.94zm10 10l.94 2.06.94-2.06 2.06-.94-2.06-.94-.94-2.06-.94 2.06-2.06.94z\"/><path d=\"M17.41 7.96l-1.37-1.37c-.4-.4-.92-.59-1.43-.59-.52 0-1.04.2-1.43.59L10.3 9.45l-7.72 7.72c-.78.78-.78 2.05 0 2.83L4 21.41c.39.39.9.59 1.41.59.51 0 1.02-.2 1.41-.59l7.78-7.78 2.81-2.81c.8-.78.8-2.07 0-2.86zM5.41 20L4 18.59l7.72-7.72 1.47 1.35L5.41 20z\"/>\n",
              "  </svg>\n",
              "      </button>\n",
              "      \n",
              "  <style>\n",
              "    .colab-df-container {\n",
              "      display:flex;\n",
              "      flex-wrap:wrap;\n",
              "      gap: 12px;\n",
              "    }\n",
              "\n",
              "    .colab-df-convert {\n",
              "      background-color: #E8F0FE;\n",
              "      border: none;\n",
              "      border-radius: 50%;\n",
              "      cursor: pointer;\n",
              "      display: none;\n",
              "      fill: #1967D2;\n",
              "      height: 32px;\n",
              "      padding: 0 0 0 0;\n",
              "      width: 32px;\n",
              "    }\n",
              "\n",
              "    .colab-df-convert:hover {\n",
              "      background-color: #E2EBFA;\n",
              "      box-shadow: 0px 1px 2px rgba(60, 64, 67, 0.3), 0px 1px 3px 1px rgba(60, 64, 67, 0.15);\n",
              "      fill: #174EA6;\n",
              "    }\n",
              "\n",
              "    [theme=dark] .colab-df-convert {\n",
              "      background-color: #3B4455;\n",
              "      fill: #D2E3FC;\n",
              "    }\n",
              "\n",
              "    [theme=dark] .colab-df-convert:hover {\n",
              "      background-color: #434B5C;\n",
              "      box-shadow: 0px 1px 3px 1px rgba(0, 0, 0, 0.15);\n",
              "      filter: drop-shadow(0px 1px 2px rgba(0, 0, 0, 0.3));\n",
              "      fill: #FFFFFF;\n",
              "    }\n",
              "  </style>\n",
              "\n",
              "      <script>\n",
              "        const buttonEl =\n",
              "          document.querySelector('#df-cb3c8ed6-f5f1-4b90-9746-a0bb607eab3c button.colab-df-convert');\n",
              "        buttonEl.style.display =\n",
              "          google.colab.kernel.accessAllowed ? 'block' : 'none';\n",
              "\n",
              "        async function convertToInteractive(key) {\n",
              "          const element = document.querySelector('#df-cb3c8ed6-f5f1-4b90-9746-a0bb607eab3c');\n",
              "          const dataTable =\n",
              "            await google.colab.kernel.invokeFunction('convertToInteractive',\n",
              "                                                     [key], {});\n",
              "          if (!dataTable) return;\n",
              "\n",
              "          const docLinkHtml = 'Like what you see? Visit the ' +\n",
              "            '<a target=\"_blank\" href=https://colab.research.google.com/notebooks/data_table.ipynb>data table notebook</a>'\n",
              "            + ' to learn more about interactive tables.';\n",
              "          element.innerHTML = '';\n",
              "          dataTable['output_type'] = 'display_data';\n",
              "          await google.colab.output.renderOutput(dataTable, element);\n",
              "          const docLink = document.createElement('div');\n",
              "          docLink.innerHTML = docLinkHtml;\n",
              "          element.appendChild(docLink);\n",
              "        }\n",
              "      </script>\n",
              "    </div>\n",
              "  </div>\n",
              "  "
            ]
          },
          "metadata": {},
          "execution_count": 83
        }
      ]
    },
    {
      "cell_type": "code",
      "source": [
        "sub.to_csv('/content/sample_data/subforfun.csv', index = False)"
      ],
      "metadata": {
        "id": "OMb7hO2_JXXx"
      },
      "execution_count": null,
      "outputs": []
    }
  ]
}