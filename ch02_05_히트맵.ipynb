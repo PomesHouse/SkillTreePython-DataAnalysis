{
  "nbformat": 4,
  "nbformat_minor": 0,
  "metadata": {
    "colab": {
      "name": "ch02_05_히트맵.ipynb",
      "provenance": [],
      "collapsed_sections": [],
      "toc_visible": true,
      "include_colab_link": true
    },
    "kernelspec": {
      "name": "python3",
      "display_name": "Python 3"
    },
    "language_info": {
      "name": "python"
    }
  },
  "cells": [
    {
      "cell_type": "markdown",
      "metadata": {
        "id": "view-in-github",
        "colab_type": "text"
      },
      "source": [
        "<a href=\"https://colab.research.google.com/github/PomesHouse/SkillTreePython-DataAnalysis/blob/main/ch02_05_%ED%9E%88%ED%8A%B8%EB%A7%B5.ipynb\" target=\"_parent\"><img src=\"https://colab.research.google.com/assets/colab-badge.svg\" alt=\"Open In Colab\"/></a>"
      ]
    },
    {
      "cell_type": "markdown",
      "source": [
        "# Ch02.05. 히트맵\n",
        "\n",
        "---\n",
        "* 날짜:\n",
        "* 이름:\n",
        "\n",
        "```\n",
        "import numpy as np\n",
        "import pandas as pd\n",
        "import matplotlib.pyplot as plt\n",
        "import seaborn as sns\n",
        "\n",
        "plt.rcParams['figure.figsize'] = [6, 4]\n",
        "plt.style.use('seaborn-white')\n",
        "sns.set_style('white')\n",
        "\n",
        "```"
      ],
      "metadata": {
        "id": "ylXjSLUxXHxm"
      }
    },
    {
      "cell_type": "code",
      "execution_count": 1,
      "metadata": {
        "id": "TyVLPbux1Yu7"
      },
      "outputs": [],
      "source": [
        "import numpy as np\n",
        "import pandas as pd\n",
        "import matplotlib.pyplot as plt\n",
        "import seaborn as sns\n",
        "\n",
        "plt.rcParams['figure.figsize'] = [6, 4]\n",
        "plt.style.use('seaborn-white')\n",
        "sns.set_style('white')"
      ]
    },
    {
      "cell_type": "markdown",
      "source": [
        "\n",
        "## **개념정리**\n",
        "---\n",
        "\n",
        "\n"
      ],
      "metadata": {
        "id": "PZjdmAqMd7KW"
      }
    },
    {
      "cell_type": "markdown",
      "source": [
        "### (1) Matplotlib 으로 그리기\n"
      ],
      "metadata": {
        "id": "QzMXKYm0F-CE"
      }
    },
    {
      "cell_type": "markdown",
      "source": [
        "#### | 기본사용\n",
        "\n",
        "```\n",
        "x = [[1,2,3],\n",
        "     [4,1,6],\n",
        "     [7,8,1]]\n",
        "plt.matshow(x, cmap='rainbow')\n",
        "plt.show()\n",
        "```"
      ],
      "metadata": {
        "id": "vgyHZoxzzMUd"
      }
    },
    {
      "cell_type": "code",
      "source": [
        "x = [[1,2,3],\n",
        "     [4,1,6],\n",
        "     [7,8,1]]\n",
        "plt.matshow(x, cmap='Blues')\n",
        "plt.show()"
      ],
      "metadata": {
        "id": "mpzm43NH5XOw",
        "colab": {
          "base_uri": "https://localhost:8080/",
          "height": 268
        },
        "outputId": "1a6482ea-8960-4098-849b-68a8307ce700"
      },
      "execution_count": 3,
      "outputs": [
        {
          "output_type": "display_data",
          "data": {
            "text/plain": [
              "<Figure size 288x288 with 1 Axes>"
            ],
            "image/png": "[encoded data removed]"
          },
          "metadata": {
            "needs_background": "light"
          }
        }
      ]
    },
    {
      "cell_type": "markdown",
      "source": [
        "#### | 컬러바\n",
        "\n",
        "```\n",
        "plt.colorbar(ax, \n",
        "             cmap=None, # 컬러맵\n",
        "             alpha=None, # 투명도\n",
        "             orientation='vertical', # 위치 {'vertical', 'horizontal'}\n",
        "             extend=None,  # 초과값 {'neither', 'both', 'min', 'max'}\n",
        "             shrink = None # 길이 축소\n",
        "             aspect = None # 세로, 가로 비\n",
        "             label=''# 라벨)\n",
        "```"
      ],
      "metadata": {
        "id": "yBIU5OT2owwY"
      }
    },
    {
      "cell_type": "code",
      "source": [
        "plt.matshow(x, cmap='Blues')\n",
        "plt.colorbar(orientation = 'horizontal',shrink = 0.8, label = 'value')\n",
        "plt.show()"
      ],
      "metadata": {
        "id": "fjkWi3cgo6WP",
        "colab": {
          "base_uri": "https://localhost:8080/",
          "height": 271
        },
        "outputId": "3575af6d-0c9f-4db0-b9d4-9b1bb8134280"
      },
      "execution_count": 10,
      "outputs": [
        {
          "output_type": "display_data",
          "data": {
            "text/plain": [
              "<Figure size 288x288 with 2 Axes>"
            ],
            "image/png": "[encoded data removed]"
          },
          "metadata": {
            "needs_background": "light"
          }
        }
      ]
    },
    {
      "cell_type": "markdown",
      "source": [
        "### (2) Seaborn 으로 그리기\n",
        "---\n",
        "\n"
      ],
      "metadata": {
        "id": "ijsJi_WpeCK4"
      }
    },
    {
      "cell_type": "markdown",
      "source": [
        "#### | 기본사용\n",
        "\n",
        "```\n",
        "sns.heatmap(x)\n",
        "```"
      ],
      "metadata": {
        "id": "du0MMPK9zp5J"
      }
    },
    {
      "cell_type": "code",
      "source": [
        "sns.heatmap(x)\n",
        "plt.show()"
      ],
      "metadata": {
        "id": "9bzyhc4x8gJ4",
        "colab": {
          "base_uri": "https://localhost:8080/",
          "height": 266
        },
        "outputId": "a4055b6a-8929-43d5-8ed9-861b09f52310"
      },
      "execution_count": 12,
      "outputs": [
        {
          "output_type": "display_data",
          "data": {
            "text/plain": [
              "<Figure size 432x288 with 2 Axes>"
            ],
            "image/png": "[encoded data removed]"
          },
          "metadata": {
            "needs_background": "light"
          }
        }
      ]
    },
    {
      "cell_type": "markdown",
      "source": [
        "#### | 옵션\n",
        "\n",
        "```\n",
        "seaborn.heatmap(data,\n",
        "                cmap=None, # 컬러맵\n",
        "                annot=None, # 값 표기\n",
        "                fmt='.2g', # 데이터 타입\n",
        "                linewidths=0, # 선 굵기\n",
        "                linecolor='white', # 선 색\n",
        "                cbar=True, # 컬러맵 표기\n",
        "                square=False, # 사이즈 정사각\n",
        "                xticklabels='auto', # x 눈금 라벨 \n",
        "                yticklabels='auto', # y 눈금 라벨\n",
        "                vmin = # 최소값\n",
        "                vmax = # 최대값\n",
        "                ax=None, **kwargs)\n",
        "```"
      ],
      "metadata": {
        "id": "SworMcXl83Uw"
      }
    },
    {
      "cell_type": "code",
      "source": [
        "sns.heatmap(x, annot = True,\n",
        "            cmap = 'Blues',\n",
        "            fmt = 'd',\n",
        "            # linecolor = 'blue', # 선 색깔 \n",
        "            linewidth = 4, #선 굵기\n",
        "            cbar = False,\n",
        "            square = True,\n",
        "            xticklabels = ['a','b','c'],\n",
        "            yticklabels = ['00','01','02']) #컬러바 유무\n",
        "plt.show()"
      ],
      "metadata": {
        "id": "4hBKbxFC832o",
        "colab": {
          "base_uri": "https://localhost:8080/",
          "height": 262
        },
        "outputId": "0f26cb80-bc3b-4626-99f0-639f3e52cdb9"
      },
      "execution_count": 25,
      "outputs": [
        {
          "output_type": "display_data",
          "data": {
            "text/plain": [
              "<Figure size 432x288 with 1 Axes>"
            ],
            "image/png": "[encoded data removed]"
          },
          "metadata": {
            "needs_background": "light"
          }
        }
      ]
    },
    {
      "cell_type": "markdown",
      "source": [
        "#### | DataFrame 사용\n",
        "---\n",
        "\n"
      ],
      "metadata": {
        "id": "GCPmXaIIyLcr"
      }
    },
    {
      "cell_type": "markdown",
      "source": [
        "* 데이터 프레임을 만들어 줍니다.\n"
      ],
      "metadata": {
        "id": "3cKlgwTJOzBJ"
      }
    },
    {
      "cell_type": "code",
      "source": [
        "df = pd.DataFrame(x)\n",
        "\n",
        "df"
      ],
      "metadata": {
        "id": "lsCVYrrx-k2G",
        "colab": {
          "base_uri": "https://localhost:8080/",
          "height": 143
        },
        "outputId": "f77a8669-729a-4a68-c3fe-2120a5a623d3"
      },
      "execution_count": 26,
      "outputs": [
        {
          "output_type": "execute_result",
          "data": {
            "text/plain": [
              "   0  1  2\n",
              "0  1  2  3\n",
              "1  4  1  6\n",
              "2  7  8  1"
            ],
            "text/html": [
              "\n",
              "  <div id=\"df-4ba68627-6869-4c21-8e9c-426ba3e0f126\">\n",
              "    <div class=\"colab-df-container\">\n",
              "      <div>\n",
              "<style scoped>\n",
              "    .dataframe tbody tr th:only-of-type {\n",
              "        vertical-align: middle;\n",
              "    }\n",
              "\n",
              "    .dataframe tbody tr th {\n",
              "        vertical-align: top;\n",
              "    }\n",
              "\n",
              "    .dataframe thead th {\n",
              "        text-align: right;\n",
              "    }\n",
              "</style>\n",
              "<table border=\"1\" class=\"dataframe\">\n",
              "  <thead>\n",
              "    <tr style=\"text-align: right;\">\n",
              "      <th></th>\n",
              "      <th>0</th>\n",
              "      <th>1</th>\n",
              "      <th>2</th>\n",
              "    </tr>\n",
              "  </thead>\n",
              "  <tbody>\n",
              "    <tr>\n",
              "      <th>0</th>\n",
              "      <td>1</td>\n",
              "      <td>2</td>\n",
              "      <td>3</td>\n",
              "    </tr>\n",
              "    <tr>\n",
              "      <th>1</th>\n",
              "      <td>4</td>\n",
              "      <td>1</td>\n",
              "      <td>6</td>\n",
              "    </tr>\n",
              "    <tr>\n",
              "      <th>2</th>\n",
              "      <td>7</td>\n",
              "      <td>8</td>\n",
              "      <td>1</td>\n",
              "    </tr>\n",
              "  </tbody>\n",
              "</table>\n",
              "</div>\n",
              "      <button class=\"colab-df-convert\" onclick=\"convertToInteractive('df-4ba68627-6869-4c21-8e9c-426ba3e0f126')\"\n",
              "              title=\"Convert this dataframe to an interactive table.\"\n",
              "              style=\"display:none;\">\n",
              "        \n",
              "  <svg xmlns=\"http://www.w3.org/2000/svg\" height=\"24px\"viewBox=\"0 0 24 24\"\n",
              "       width=\"24px\">\n",
              "    <path d=\"M0 0h24v24H0V0z\" fill=\"none\"/>\n",
              "    <path d=\"M18.56 5.44l.94 2.06.94-2.06 2.06-.94-2.06-.94-.94-2.06-.94 2.06-2.06.94zm-11 1L8.5 8.5l.94-2.06 2.06-.94-2.06-.94L8.5 2.5l-.94 2.06-2.06.94zm10 10l.94 2.06.94-2.06 2.06-.94-2.06-.94-.94-2.06-.94 2.06-2.06.94z\"/><path d=\"M17.41 7.96l-1.37-1.37c-.4-.4-.92-.59-1.43-.59-.52 0-1.04.2-1.43.59L10.3 9.45l-7.72 7.72c-.78.78-.78 2.05 0 2.83L4 21.41c.39.39.9.59 1.41.59.51 0 1.02-.2 1.41-.59l7.78-7.78 2.81-2.81c.8-.78.8-2.07 0-2.86zM5.41 20L4 18.59l7.72-7.72 1.47 1.35L5.41 20z\"/>\n",
              "  </svg>\n",
              "      </button>\n",
              "      \n",
              "  <style>\n",
              "    .colab-df-container {\n",
              "      display:flex;\n",
              "      flex-wrap:wrap;\n",
              "      gap: 12px;\n",
              "    }\n",
              "\n",
              "    .colab-df-convert {\n",
              "      background-color: #E8F0FE;\n",
              "      border: none;\n",
              "      border-radius: 50%;\n",
              "      cursor: pointer;\n",
              "      display: none;\n",
              "      fill: #1967D2;\n",
              "      height: 32px;\n",
              "      padding: 0 0 0 0;\n",
              "      width: 32px;\n",
              "    }\n",
              "\n",
              "    .colab-df-convert:hover {\n",
              "      background-color: #E2EBFA;\n",
              "      box-shadow: 0px 1px 2px rgba(60, 64, 67, 0.3), 0px 1px 3px 1px rgba(60, 64, 67, 0.15);\n",
              "      fill: #174EA6;\n",
              "    }\n",
              "\n",
              "    [theme=dark] .colab-df-convert {\n",
              "      background-color: #3B4455;\n",
              "      fill: #D2E3FC;\n",
              "    }\n",
              "\n",
              "    [theme=dark] .colab-df-convert:hover {\n",
              "      background-color: #434B5C;\n",
              "      box-shadow: 0px 1px 3px 1px rgba(0, 0, 0, 0.15);\n",
              "      filter: drop-shadow(0px 1px 2px rgba(0, 0, 0, 0.3));\n",
              "      fill: #FFFFFF;\n",
              "    }\n",
              "  </style>\n",
              "\n",
              "      <script>\n",
              "        const buttonEl =\n",
              "          document.querySelector('#df-4ba68627-6869-4c21-8e9c-426ba3e0f126 button.colab-df-convert');\n",
              "        buttonEl.style.display =\n",
              "          google.colab.kernel.accessAllowed ? 'block' : 'none';\n",
              "\n",
              "        async function convertToInteractive(key) {\n",
              "          const element = document.querySelector('#df-4ba68627-6869-4c21-8e9c-426ba3e0f126');\n",
              "          const dataTable =\n",
              "            await google.colab.kernel.invokeFunction('convertToInteractive',\n",
              "                                                     [key], {});\n",
              "          if (!dataTable) return;\n",
              "\n",
              "          const docLinkHtml = 'Like what you see? Visit the ' +\n",
              "            '<a target=\"_blank\" href=https://colab.research.google.com/notebooks/data_table.ipynb>data table notebook</a>'\n",
              "            + ' to learn more about interactive tables.';\n",
              "          element.innerHTML = '';\n",
              "          dataTable['output_type'] = 'display_data';\n",
              "          await google.colab.output.renderOutput(dataTable, element);\n",
              "          const docLink = document.createElement('div');\n",
              "          docLink.innerHTML = docLinkHtml;\n",
              "          element.appendChild(docLink);\n",
              "        }\n",
              "      </script>\n",
              "    </div>\n",
              "  </div>\n",
              "  "
            ]
          },
          "metadata": {},
          "execution_count": 26
        }
      ]
    },
    {
      "cell_type": "markdown",
      "source": [
        "\n",
        "* 데이터프레임에서 기본적으로 플롯을 제공합니다.\n",
        "\n",
        "```\n",
        "df.style.background_gradient()\n",
        "```\n"
      ],
      "metadata": {
        "id": "vbYPvUDd1cee"
      }
    },
    {
      "cell_type": "code",
      "source": [
        "df.style.background_gradient()"
      ],
      "metadata": {
        "id": "g04BF7mq-9xQ",
        "colab": {
          "base_uri": "https://localhost:8080/",
          "height": 143
        },
        "outputId": "09557d8e-7e7a-4d77-fe3c-1f5e122048a5"
      },
      "execution_count": 28,
      "outputs": [
        {
          "output_type": "execute_result",
          "data": {
            "text/plain": [
              "<pandas.io.formats.style.Styler at 0x7f57d1d1ae50>"
            ],
            "text/html": [
              "<style type=\"text/css\">\n",
              "#T_668aa_row0_col0, #T_668aa_row1_col1, #T_668aa_row2_col2 {\n",
              "  background-color: #fff7fb;\n",
              "  color: #000000;\n",
              "}\n",
              "#T_668aa_row0_col1 {\n",
              "  background-color: #e8e4f0;\n",
              "  color: #000000;\n",
              "}\n",
              "#T_668aa_row0_col2 {\n",
              "  background-color: #9cb9d9;\n",
              "  color: #000000;\n",
              "}\n",
              "#T_668aa_row1_col0 {\n",
              "  background-color: #73a9cf;\n",
              "  color: #f1f1f1;\n",
              "}\n",
              "#T_668aa_row1_col2, #T_668aa_row2_col0, #T_668aa_row2_col1 {\n",
              "  background-color: #023858;\n",
              "  color: #f1f1f1;\n",
              "}\n",
              "</style>\n",
              "<table id=\"T_668aa_\" class=\"dataframe\">\n",
              "  <thead>\n",
              "    <tr>\n",
              "      <th class=\"blank level0\" >&nbsp;</th>\n",
              "      <th class=\"col_heading level0 col0\" >0</th>\n",
              "      <th class=\"col_heading level0 col1\" >1</th>\n",
              "      <th class=\"col_heading level0 col2\" >2</th>\n",
              "    </tr>\n",
              "  </thead>\n",
              "  <tbody>\n",
              "    <tr>\n",
              "      <th id=\"T_668aa_level0_row0\" class=\"row_heading level0 row0\" >0</th>\n",
              "      <td id=\"T_668aa_row0_col0\" class=\"data row0 col0\" >1</td>\n",
              "      <td id=\"T_668aa_row0_col1\" class=\"data row0 col1\" >2</td>\n",
              "      <td id=\"T_668aa_row0_col2\" class=\"data row0 col2\" >3</td>\n",
              "    </tr>\n",
              "    <tr>\n",
              "      <th id=\"T_668aa_level0_row1\" class=\"row_heading level0 row1\" >1</th>\n",
              "      <td id=\"T_668aa_row1_col0\" class=\"data row1 col0\" >4</td>\n",
              "      <td id=\"T_668aa_row1_col1\" class=\"data row1 col1\" >1</td>\n",
              "      <td id=\"T_668aa_row1_col2\" class=\"data row1 col2\" >6</td>\n",
              "    </tr>\n",
              "    <tr>\n",
              "      <th id=\"T_668aa_level0_row2\" class=\"row_heading level0 row2\" >2</th>\n",
              "      <td id=\"T_668aa_row2_col0\" class=\"data row2 col0\" >7</td>\n",
              "      <td id=\"T_668aa_row2_col1\" class=\"data row2 col1\" >8</td>\n",
              "      <td id=\"T_668aa_row2_col2\" class=\"data row2 col2\" >1</td>\n",
              "    </tr>\n",
              "  </tbody>\n",
              "</table>\n"
            ]
          },
          "metadata": {},
          "execution_count": 28
        }
      ]
    },
    {
      "cell_type": "markdown",
      "source": [
        "* 데이터프레임 기반으로 seaborn을 사용합니다.\n",
        "\n",
        "\n",
        "```\n",
        "sns.heatmap(data=df)\n",
        "```\n"
      ],
      "metadata": {
        "id": "ycx-4x4Ag94u"
      }
    },
    {
      "cell_type": "code",
      "source": [
        "sns.heatmap(data = df, annot = True)"
      ],
      "metadata": {
        "id": "B8MgiEHyyjUt",
        "colab": {
          "base_uri": "https://localhost:8080/",
          "height": 284
        },
        "outputId": "8eba4d56-410c-4705-b089-16f45ef68a35"
      },
      "execution_count": 30,
      "outputs": [
        {
          "output_type": "execute_result",
          "data": {
            "text/plain": [
              "<matplotlib.axes._subplots.AxesSubplot at 0x7f57d1beab10>"
            ]
          },
          "metadata": {},
          "execution_count": 30
        },
        {
          "output_type": "display_data",
          "data": {
            "text/plain": [
              "<Figure size 432x288 with 2 Axes>"
            ],
            "image/png": "[encoded data removed]"
          },
          "metadata": {
            "needs_background": "light"
          }
        }
      ]
    },
    {
      "cell_type": "markdown",
      "source": [
        "\n",
        "##  **실습** \n",
        "---\n",
        "\n"
      ],
      "metadata": {
        "id": "qZ8F_TdAeIRB"
      }
    },
    {
      "cell_type": "markdown",
      "source": [
        "### (1) pivot 테이블 이용한 시계열 데이터 시각화\n",
        "\n",
        "\n",
        "```\n",
        "np.random.seed(42)\n",
        "t = ['오전','오후','저녁']*5\n",
        "day=[f'2020/01/0{i+1}' for i in range(5) for j in range(3)]\n",
        "vals = np.random.randint(100,500, len(t))\n",
        "\n",
        "```"
      ],
      "metadata": {
        "id": "YFCwKN6HLieQ"
      }
    },
    {
      "cell_type": "code",
      "source": [
        "np.random.seed(42)\n",
        "t = ['오전','오후','저녁']*5\n",
        "day=[f'2020/01/0{i+1}' for i in range(5) for j in range(3)]\n",
        "vals = np.random.randint(100,500, len(t))\n",
        "\n",
        "df = pd.DataFrame([day, t]).T\n",
        "df.columns = ['day', 'time']\n",
        "df['count'] = vals\n",
        "df.head()"
      ],
      "metadata": {
        "id": "04EGKFOoF2cK",
        "colab": {
          "base_uri": "https://localhost:8080/",
          "height": 206
        },
        "outputId": "7b9f3e85-ec47-46e7-cb31-214807e6b13a"
      },
      "execution_count": 40,
      "outputs": [
        {
          "output_type": "execute_result",
          "data": {
            "text/plain": [
              "          day time  count\n",
              "0  2020/01/01   오전    202\n",
              "1  2020/01/01   오후    448\n",
              "2  2020/01/01   저녁    370\n",
              "3  2020/01/02   오전    206\n",
              "4  2020/01/02   오후    171"
            ],
            "text/html": [
              "\n",
              "  <div id=\"df-19afded4-1cad-45dd-ba2f-1d6d7503691b\">\n",
              "    <div class=\"colab-df-container\">\n",
              "      <div>\n",
              "<style scoped>\n",
              "    .dataframe tbody tr th:only-of-type {\n",
              "        vertical-align: middle;\n",
              "    }\n",
              "\n",
              "    .dataframe tbody tr th {\n",
              "        vertical-align: top;\n",
              "    }\n",
              "\n",
              "    .dataframe thead th {\n",
              "        text-align: right;\n",
              "    }\n",
              "</style>\n",
              "<table border=\"1\" class=\"dataframe\">\n",
              "  <thead>\n",
              "    <tr style=\"text-align: right;\">\n",
              "      <th></th>\n",
              "      <th>day</th>\n",
              "      <th>time</th>\n",
              "      <th>count</th>\n",
              "    </tr>\n",
              "  </thead>\n",
              "  <tbody>\n",
              "    <tr>\n",
              "      <th>0</th>\n",
              "      <td>2020/01/01</td>\n",
              "      <td>오전</td>\n",
              "      <td>202</td>\n",
              "    </tr>\n",
              "    <tr>\n",
              "      <th>1</th>\n",
              "      <td>2020/01/01</td>\n",
              "      <td>오후</td>\n",
              "      <td>448</td>\n",
              "    </tr>\n",
              "    <tr>\n",
              "      <th>2</th>\n",
              "      <td>2020/01/01</td>\n",
              "      <td>저녁</td>\n",
              "      <td>370</td>\n",
              "    </tr>\n",
              "    <tr>\n",
              "      <th>3</th>\n",
              "      <td>2020/01/02</td>\n",
              "      <td>오전</td>\n",
              "      <td>206</td>\n",
              "    </tr>\n",
              "    <tr>\n",
              "      <th>4</th>\n",
              "      <td>2020/01/02</td>\n",
              "      <td>오후</td>\n",
              "      <td>171</td>\n",
              "    </tr>\n",
              "  </tbody>\n",
              "</table>\n",
              "</div>\n",
              "      <button class=\"colab-df-convert\" onclick=\"convertToInteractive('df-19afded4-1cad-45dd-ba2f-1d6d7503691b')\"\n",
              "              title=\"Convert this dataframe to an interactive table.\"\n",
              "              style=\"display:none;\">\n",
              "        \n",
              "  <svg xmlns=\"http://www.w3.org/2000/svg\" height=\"24px\"viewBox=\"0 0 24 24\"\n",
              "       width=\"24px\">\n",
              "    <path d=\"M0 0h24v24H0V0z\" fill=\"none\"/>\n",
              "    <path d=\"M18.56 5.44l.94 2.06.94-2.06 2.06-.94-2.06-.94-.94-2.06-.94 2.06-2.06.94zm-11 1L8.5 8.5l.94-2.06 2.06-.94-2.06-.94L8.5 2.5l-.94 2.06-2.06.94zm10 10l.94 2.06.94-2.06 2.06-.94-2.06-.94-.94-2.06-.94 2.06-2.06.94z\"/><path d=\"M17.41 7.96l-1.37-1.37c-.4-.4-.92-.59-1.43-.59-.52 0-1.04.2-1.43.59L10.3 9.45l-7.72 7.72c-.78.78-.78 2.05 0 2.83L4 21.41c.39.39.9.59 1.41.59.51 0 1.02-.2 1.41-.59l7.78-7.78 2.81-2.81c.8-.78.8-2.07 0-2.86zM5.41 20L4 18.59l7.72-7.72 1.47 1.35L5.41 20z\"/>\n",
              "  </svg>\n",
              "      </button>\n",
              "      \n",
              "  <style>\n",
              "    .colab-df-container {\n",
              "      display:flex;\n",
              "      flex-wrap:wrap;\n",
              "      gap: 12px;\n",
              "    }\n",
              "\n",
              "    .colab-df-convert {\n",
              "      background-color: #E8F0FE;\n",
              "      border: none;\n",
              "      border-radius: 50%;\n",
              "      cursor: pointer;\n",
              "      display: none;\n",
              "      fill: #1967D2;\n",
              "      height: 32px;\n",
              "      padding: 0 0 0 0;\n",
              "      width: 32px;\n",
              "    }\n",
              "\n",
              "    .colab-df-convert:hover {\n",
              "      background-color: #E2EBFA;\n",
              "      box-shadow: 0px 1px 2px rgba(60, 64, 67, 0.3), 0px 1px 3px 1px rgba(60, 64, 67, 0.15);\n",
              "      fill: #174EA6;\n",
              "    }\n",
              "\n",
              "    [theme=dark] .colab-df-convert {\n",
              "      background-color: #3B4455;\n",
              "      fill: #D2E3FC;\n",
              "    }\n",
              "\n",
              "    [theme=dark] .colab-df-convert:hover {\n",
              "      background-color: #434B5C;\n",
              "      box-shadow: 0px 1px 3px 1px rgba(0, 0, 0, 0.15);\n",
              "      filter: drop-shadow(0px 1px 2px rgba(0, 0, 0, 0.3));\n",
              "      fill: #FFFFFF;\n",
              "    }\n",
              "  </style>\n",
              "\n",
              "      <script>\n",
              "        const buttonEl =\n",
              "          document.querySelector('#df-19afded4-1cad-45dd-ba2f-1d6d7503691b button.colab-df-convert');\n",
              "        buttonEl.style.display =\n",
              "          google.colab.kernel.accessAllowed ? 'block' : 'none';\n",
              "\n",
              "        async function convertToInteractive(key) {\n",
              "          const element = document.querySelector('#df-19afded4-1cad-45dd-ba2f-1d6d7503691b');\n",
              "          const dataTable =\n",
              "            await google.colab.kernel.invokeFunction('convertToInteractive',\n",
              "                                                     [key], {});\n",
              "          if (!dataTable) return;\n",
              "\n",
              "          const docLinkHtml = 'Like what you see? Visit the ' +\n",
              "            '<a target=\"_blank\" href=https://colab.research.google.com/notebooks/data_table.ipynb>data table notebook</a>'\n",
              "            + ' to learn more about interactive tables.';\n",
              "          element.innerHTML = '';\n",
              "          dataTable['output_type'] = 'display_data';\n",
              "          await google.colab.output.renderOutput(dataTable, element);\n",
              "          const docLink = document.createElement('div');\n",
              "          docLink.innerHTML = docLinkHtml;\n",
              "          element.appendChild(docLink);\n",
              "        }\n",
              "      </script>\n",
              "    </div>\n",
              "  </div>\n",
              "  "
            ]
          },
          "metadata": {},
          "execution_count": 40
        }
      ]
    },
    {
      "cell_type": "code",
      "source": [
        "# 행 / 열/ 값\n",
        "df.pivot('day','time', 'count').style.background_gradient()"
      ],
      "metadata": {
        "colab": {
          "base_uri": "https://localhost:8080/",
          "height": 238
        },
        "id": "twRW5tQ3VFl5",
        "outputId": "bb65fd4a-e971-43f5-f1e1-f9d8d48c808a"
      },
      "execution_count": 42,
      "outputs": [
        {
          "output_type": "execute_result",
          "data": {
            "text/plain": [
              "<pandas.io.formats.style.Styler at 0x7f57d1b10610>"
            ],
            "text/html": [
              "<style type=\"text/css\">\n",
              "#T_fa780_row0_col0 {\n",
              "  background-color: #d4d4e8;\n",
              "  color: #000000;\n",
              "}\n",
              "#T_fa780_row0_col1, #T_fa780_row4_col0, #T_fa780_row4_col2 {\n",
              "  background-color: #023858;\n",
              "  color: #f1f1f1;\n",
              "}\n",
              "#T_fa780_row0_col2 {\n",
              "  background-color: #2383ba;\n",
              "  color: #f1f1f1;\n",
              "}\n",
              "#T_fa780_row1_col0 {\n",
              "  background-color: #d2d2e7;\n",
              "  color: #000000;\n",
              "}\n",
              "#T_fa780_row1_col1, #T_fa780_row2_col0, #T_fa780_row3_col2 {\n",
              "  background-color: #fff7fb;\n",
              "  color: #000000;\n",
              "}\n",
              "#T_fa780_row1_col2 {\n",
              "  background-color: #a7bddb;\n",
              "  color: #000000;\n",
              "}\n",
              "#T_fa780_row2_col1 {\n",
              "  background-color: #eee9f3;\n",
              "  color: #000000;\n",
              "}\n",
              "#T_fa780_row2_col2 {\n",
              "  background-color: #ece7f2;\n",
              "  color: #000000;\n",
              "}\n",
              "#T_fa780_row3_col0 {\n",
              "  background-color: #5a9ec9;\n",
              "  color: #f1f1f1;\n",
              "}\n",
              "#T_fa780_row3_col1 {\n",
              "  background-color: #034973;\n",
              "  color: #f1f1f1;\n",
              "}\n",
              "#T_fa780_row4_col1 {\n",
              "  background-color: #f0eaf4;\n",
              "  color: #000000;\n",
              "}\n",
              "</style>\n",
              "<table id=\"T_fa780_\" class=\"dataframe\">\n",
              "  <thead>\n",
              "    <tr>\n",
              "      <th class=\"index_name level0\" >time</th>\n",
              "      <th class=\"col_heading level0 col0\" >오전</th>\n",
              "      <th class=\"col_heading level0 col1\" >오후</th>\n",
              "      <th class=\"col_heading level0 col2\" >저녁</th>\n",
              "    </tr>\n",
              "    <tr>\n",
              "      <th class=\"index_name level0\" >day</th>\n",
              "      <th class=\"blank col0\" >&nbsp;</th>\n",
              "      <th class=\"blank col1\" >&nbsp;</th>\n",
              "      <th class=\"blank col2\" >&nbsp;</th>\n",
              "    </tr>\n",
              "  </thead>\n",
              "  <tbody>\n",
              "    <tr>\n",
              "      <th id=\"T_fa780_level0_row0\" class=\"row_heading level0 row0\" >2020/01/01</th>\n",
              "      <td id=\"T_fa780_row0_col0\" class=\"data row0 col0\" >202</td>\n",
              "      <td id=\"T_fa780_row0_col1\" class=\"data row0 col1\" >448</td>\n",
              "      <td id=\"T_fa780_row0_col2\" class=\"data row0 col2\" >370</td>\n",
              "    </tr>\n",
              "    <tr>\n",
              "      <th id=\"T_fa780_level0_row1\" class=\"row_heading level0 row1\" >2020/01/02</th>\n",
              "      <td id=\"T_fa780_row1_col0\" class=\"data row1 col0\" >206</td>\n",
              "      <td id=\"T_fa780_row1_col1\" class=\"data row1 col1\" >171</td>\n",
              "      <td id=\"T_fa780_row1_col2\" class=\"data row1 col2\" >288</td>\n",
              "    </tr>\n",
              "    <tr>\n",
              "      <th id=\"T_fa780_level0_row2\" class=\"row_heading level0 row2\" >2020/01/03</th>\n",
              "      <td id=\"T_fa780_row2_col0\" class=\"data row2 col0\" >120</td>\n",
              "      <td id=\"T_fa780_row2_col1\" class=\"data row2 col1\" >202</td>\n",
              "      <td id=\"T_fa780_row2_col2\" class=\"data row2 col2\" >221</td>\n",
              "    </tr>\n",
              "    <tr>\n",
              "      <th id=\"T_fa780_level0_row3\" class=\"row_heading level0 row3\" >2020/01/04</th>\n",
              "      <td id=\"T_fa780_row3_col0\" class=\"data row3 col0\" >314</td>\n",
              "      <td id=\"T_fa780_row3_col1\" class=\"data row3 col1\" >430</td>\n",
              "      <td id=\"T_fa780_row3_col2\" class=\"data row3 col2\" >187</td>\n",
              "    </tr>\n",
              "    <tr>\n",
              "      <th id=\"T_fa780_level0_row4\" class=\"row_heading level0 row4\" >2020/01/05</th>\n",
              "      <td id=\"T_fa780_row4_col0\" class=\"data row4 col0\" >472</td>\n",
              "      <td id=\"T_fa780_row4_col1\" class=\"data row4 col1\" >199</td>\n",
              "      <td id=\"T_fa780_row4_col2\" class=\"data row4 col2\" >459</td>\n",
              "    </tr>\n",
              "  </tbody>\n",
              "</table>\n"
            ]
          },
          "metadata": {},
          "execution_count": 42
        }
      ]
    },
    {
      "cell_type": "markdown",
      "source": [
        "### (2) Iris 데이터 변수별 상관관계 분석\n",
        "\n",
        "\n",
        "```\n",
        "           꽃받침 길이   꽃받침 너비   꽃의 길이  꽃의 너비\n",
        " 샘플1      \n",
        " 샘플2 \n",
        " ...\n",
        " 샘플150\n",
        "```\n",
        "\n",
        "\n",
        "```\n",
        "from sklearn.datasets import load_iris\n",
        "iris = load_iris()\n",
        "```\n",
        "\n",
        "\n",
        "* `.feature_names` : 변수 이름\n",
        "* `.target_names` : 타겟 이름\n",
        "* `.data` : 데이터 \n",
        "* `.target` : 타겟\n"
      ],
      "metadata": {
        "id": "QGviht0yPmHr"
      }
    },
    {
      "cell_type": "code",
      "source": [
        "from sklearn.datasets import load_iris\n",
        "iris = load_iris()\n",
        "\n",
        "x_names = iris.feature_names\n",
        "y_names = iris.target_names\n",
        "x_data = iris.data\n",
        "y_data = iris.target\n",
        "\n",
        "df = pd.DataFrame(x_data)\n",
        "df.columns = x_names\n",
        "df['label']= y_data\n",
        "df.head()\n"
      ],
      "metadata": {
        "id": "dNLpcUxfgzyZ",
        "colab": {
          "base_uri": "https://localhost:8080/",
          "height": 206
        },
        "outputId": "0583ab1f-6387-49cd-d231-a1a3a1078b30"
      },
      "execution_count": 95,
      "outputs": [
        {
          "output_type": "execute_result",
          "data": {
            "text/plain": [
              "   sepal length (cm)  sepal width (cm)  petal length (cm)  petal width (cm)  \\\n",
              "0                5.1               3.5                1.4               0.2   \n",
              "1                4.9               3.0                1.4               0.2   \n",
              "2                4.7               3.2                1.3               0.2   \n",
              "3                4.6               3.1                1.5               0.2   \n",
              "4                5.0               3.6                1.4               0.2   \n",
              "\n",
              "   label  \n",
              "0      0  \n",
              "1      0  \n",
              "2      0  \n",
              "3      0  \n",
              "4      0  "
            ],
            "text/html": [
              "\n",
              "  <div id=\"df-6708d300-5326-4d72-8943-830ea9e41c7e\">\n",
              "    <div class=\"colab-df-container\">\n",
              "      <div>\n",
              "<style scoped>\n",
              "    .dataframe tbody tr th:only-of-type {\n",
              "        vertical-align: middle;\n",
              "    }\n",
              "\n",
              "    .dataframe tbody tr th {\n",
              "        vertical-align: top;\n",
              "    }\n",
              "\n",
              "    .dataframe thead th {\n",
              "        text-align: right;\n",
              "    }\n",
              "</style>\n",
              "<table border=\"1\" class=\"dataframe\">\n",
              "  <thead>\n",
              "    <tr style=\"text-align: right;\">\n",
              "      <th></th>\n",
              "      <th>sepal length (cm)</th>\n",
              "      <th>sepal width (cm)</th>\n",
              "      <th>petal length (cm)</th>\n",
              "      <th>petal width (cm)</th>\n",
              "      <th>label</th>\n",
              "    </tr>\n",
              "  </thead>\n",
              "  <tbody>\n",
              "    <tr>\n",
              "      <th>0</th>\n",
              "      <td>5.1</td>\n",
              "      <td>3.5</td>\n",
              "      <td>1.4</td>\n",
              "      <td>0.2</td>\n",
              "      <td>0</td>\n",
              "    </tr>\n",
              "    <tr>\n",
              "      <th>1</th>\n",
              "      <td>4.9</td>\n",
              "      <td>3.0</td>\n",
              "      <td>1.4</td>\n",
              "      <td>0.2</td>\n",
              "      <td>0</td>\n",
              "    </tr>\n",
              "    <tr>\n",
              "      <th>2</th>\n",
              "      <td>4.7</td>\n",
              "      <td>3.2</td>\n",
              "      <td>1.3</td>\n",
              "      <td>0.2</td>\n",
              "      <td>0</td>\n",
              "    </tr>\n",
              "    <tr>\n",
              "      <th>3</th>\n",
              "      <td>4.6</td>\n",
              "      <td>3.1</td>\n",
              "      <td>1.5</td>\n",
              "      <td>0.2</td>\n",
              "      <td>0</td>\n",
              "    </tr>\n",
              "    <tr>\n",
              "      <th>4</th>\n",
              "      <td>5.0</td>\n",
              "      <td>3.6</td>\n",
              "      <td>1.4</td>\n",
              "      <td>0.2</td>\n",
              "      <td>0</td>\n",
              "    </tr>\n",
              "  </tbody>\n",
              "</table>\n",
              "</div>\n",
              "      <button class=\"colab-df-convert\" onclick=\"convertToInteractive('df-6708d300-5326-4d72-8943-830ea9e41c7e')\"\n",
              "              title=\"Convert this dataframe to an interactive table.\"\n",
              "              style=\"display:none;\">\n",
              "        \n",
              "  <svg xmlns=\"http://www.w3.org/2000/svg\" height=\"24px\"viewBox=\"0 0 24 24\"\n",
              "       width=\"24px\">\n",
              "    <path d=\"M0 0h24v24H0V0z\" fill=\"none\"/>\n",
              "    <path d=\"M18.56 5.44l.94 2.06.94-2.06 2.06-.94-2.06-.94-.94-2.06-.94 2.06-2.06.94zm-11 1L8.5 8.5l.94-2.06 2.06-.94-2.06-.94L8.5 2.5l-.94 2.06-2.06.94zm10 10l.94 2.06.94-2.06 2.06-.94-2.06-.94-.94-2.06-.94 2.06-2.06.94z\"/><path d=\"M17.41 7.96l-1.37-1.37c-.4-.4-.92-.59-1.43-.59-.52 0-1.04.2-1.43.59L10.3 9.45l-7.72 7.72c-.78.78-.78 2.05 0 2.83L4 21.41c.39.39.9.59 1.41.59.51 0 1.02-.2 1.41-.59l7.78-7.78 2.81-2.81c.8-.78.8-2.07 0-2.86zM5.41 20L4 18.59l7.72-7.72 1.47 1.35L5.41 20z\"/>\n",
              "  </svg>\n",
              "      </button>\n",
              "      \n",
              "  <style>\n",
              "    .colab-df-container {\n",
              "      display:flex;\n",
              "      flex-wrap:wrap;\n",
              "      gap: 12px;\n",
              "    }\n",
              "\n",
              "    .colab-df-convert {\n",
              "      background-color: #E8F0FE;\n",
              "      border: none;\n",
              "      border-radius: 50%;\n",
              "      cursor: pointer;\n",
              "      display: none;\n",
              "      fill: #1967D2;\n",
              "      height: 32px;\n",
              "      padding: 0 0 0 0;\n",
              "      width: 32px;\n",
              "    }\n",
              "\n",
              "    .colab-df-convert:hover {\n",
              "      background-color: #E2EBFA;\n",
              "      box-shadow: 0px 1px 2px rgba(60, 64, 67, 0.3), 0px 1px 3px 1px rgba(60, 64, 67, 0.15);\n",
              "      fill: #174EA6;\n",
              "    }\n",
              "\n",
              "    [theme=dark] .colab-df-convert {\n",
              "      background-color: #3B4455;\n",
              "      fill: #D2E3FC;\n",
              "    }\n",
              "\n",
              "    [theme=dark] .colab-df-convert:hover {\n",
              "      background-color: #434B5C;\n",
              "      box-shadow: 0px 1px 3px 1px rgba(0, 0, 0, 0.15);\n",
              "      filter: drop-shadow(0px 1px 2px rgba(0, 0, 0, 0.3));\n",
              "      fill: #FFFFFF;\n",
              "    }\n",
              "  </style>\n",
              "\n",
              "      <script>\n",
              "        const buttonEl =\n",
              "          document.querySelector('#df-6708d300-5326-4d72-8943-830ea9e41c7e button.colab-df-convert');\n",
              "        buttonEl.style.display =\n",
              "          google.colab.kernel.accessAllowed ? 'block' : 'none';\n",
              "\n",
              "        async function convertToInteractive(key) {\n",
              "          const element = document.querySelector('#df-6708d300-5326-4d72-8943-830ea9e41c7e');\n",
              "          const dataTable =\n",
              "            await google.colab.kernel.invokeFunction('convertToInteractive',\n",
              "                                                     [key], {});\n",
              "          if (!dataTable) return;\n",
              "\n",
              "          const docLinkHtml = 'Like what you see? Visit the ' +\n",
              "            '<a target=\"_blank\" href=https://colab.research.google.com/notebooks/data_table.ipynb>data table notebook</a>'\n",
              "            + ' to learn more about interactive tables.';\n",
              "          element.innerHTML = '';\n",
              "          dataTable['output_type'] = 'display_data';\n",
              "          await google.colab.output.renderOutput(dataTable, element);\n",
              "          const docLink = document.createElement('div');\n",
              "          docLink.innerHTML = docLinkHtml;\n",
              "          element.appendChild(docLink);\n",
              "        }\n",
              "      </script>\n",
              "    </div>\n",
              "  </div>\n",
              "  "
            ]
          },
          "metadata": {},
          "execution_count": 95
        }
      ]
    },
    {
      "cell_type": "code",
      "source": [
        "df.corr().style.background_gradient()"
      ],
      "metadata": {
        "colab": {
          "base_uri": "https://localhost:8080/",
          "height": 206
        },
        "id": "g8Ijercvb7lh",
        "outputId": "4656a069-4483-410b-edf5-8bc0f68c38a7"
      },
      "execution_count": 57,
      "outputs": [
        {
          "output_type": "execute_result",
          "data": {
            "text/plain": [
              "<pandas.io.formats.style.Styler at 0x7f57d0b7a5d0>"
            ],
            "text/html": [
              "<style type=\"text/css\">\n",
              "#T_686fd_row0_col0, #T_686fd_row1_col1, #T_686fd_row2_col2, #T_686fd_row3_col3, #T_686fd_row4_col4 {\n",
              "  background-color: #023858;\n",
              "  color: #f1f1f1;\n",
              "}\n",
              "#T_686fd_row0_col1 {\n",
              "  background-color: #d8d7e9;\n",
              "  color: #000000;\n",
              "}\n",
              "#T_686fd_row0_col2 {\n",
              "  background-color: #034f7d;\n",
              "  color: #f1f1f1;\n",
              "}\n",
              "#T_686fd_row0_col3 {\n",
              "  background-color: #045b8f;\n",
              "  color: #f1f1f1;\n",
              "}\n",
              "#T_686fd_row0_col4 {\n",
              "  background-color: #045f95;\n",
              "  color: #f1f1f1;\n",
              "}\n",
              "#T_686fd_row1_col0, #T_686fd_row1_col2, #T_686fd_row1_col3, #T_686fd_row1_col4, #T_686fd_row2_col1, #T_686fd_row4_col1 {\n",
              "  background-color: #fff7fb;\n",
              "  color: #000000;\n",
              "}\n",
              "#T_686fd_row2_col0 {\n",
              "  background-color: #045788;\n",
              "  color: #f1f1f1;\n",
              "}\n",
              "#T_686fd_row2_col3, #T_686fd_row3_col2 {\n",
              "  background-color: #023e62;\n",
              "  color: #f1f1f1;\n",
              "}\n",
              "#T_686fd_row2_col4, #T_686fd_row4_col2 {\n",
              "  background-color: #034267;\n",
              "  color: #f1f1f1;\n",
              "}\n",
              "#T_686fd_row3_col0 {\n",
              "  background-color: #046097;\n",
              "  color: #f1f1f1;\n",
              "}\n",
              "#T_686fd_row3_col1 {\n",
              "  background-color: #f8f1f8;\n",
              "  color: #000000;\n",
              "}\n",
              "#T_686fd_row3_col4 {\n",
              "  background-color: #023f64;\n",
              "  color: #f1f1f1;\n",
              "}\n",
              "#T_686fd_row4_col0 {\n",
              "  background-color: #0566a0;\n",
              "  color: #f1f1f1;\n",
              "}\n",
              "#T_686fd_row4_col3 {\n",
              "  background-color: #034165;\n",
              "  color: #f1f1f1;\n",
              "}\n",
              "</style>\n",
              "<table id=\"T_686fd_\" class=\"dataframe\">\n",
              "  <thead>\n",
              "    <tr>\n",
              "      <th class=\"blank level0\" >&nbsp;</th>\n",
              "      <th class=\"col_heading level0 col0\" >sepal length (cm)</th>\n",
              "      <th class=\"col_heading level0 col1\" >sepal width (cm)</th>\n",
              "      <th class=\"col_heading level0 col2\" >petal length (cm)</th>\n",
              "      <th class=\"col_heading level0 col3\" >petal width (cm)</th>\n",
              "      <th class=\"col_heading level0 col4\" >label</th>\n",
              "    </tr>\n",
              "  </thead>\n",
              "  <tbody>\n",
              "    <tr>\n",
              "      <th id=\"T_686fd_level0_row0\" class=\"row_heading level0 row0\" >sepal length (cm)</th>\n",
              "      <td id=\"T_686fd_row0_col0\" class=\"data row0 col0\" >1.000000</td>\n",
              "      <td id=\"T_686fd_row0_col1\" class=\"data row0 col1\" >-0.117570</td>\n",
              "      <td id=\"T_686fd_row0_col2\" class=\"data row0 col2\" >0.871754</td>\n",
              "      <td id=\"T_686fd_row0_col3\" class=\"data row0 col3\" >0.817941</td>\n",
              "      <td id=\"T_686fd_row0_col4\" class=\"data row0 col4\" >0.782561</td>\n",
              "    </tr>\n",
              "    <tr>\n",
              "      <th id=\"T_686fd_level0_row1\" class=\"row_heading level0 row1\" >sepal width (cm)</th>\n",
              "      <td id=\"T_686fd_row1_col0\" class=\"data row1 col0\" >-0.117570</td>\n",
              "      <td id=\"T_686fd_row1_col1\" class=\"data row1 col1\" >1.000000</td>\n",
              "      <td id=\"T_686fd_row1_col2\" class=\"data row1 col2\" >-0.428440</td>\n",
              "      <td id=\"T_686fd_row1_col3\" class=\"data row1 col3\" >-0.366126</td>\n",
              "      <td id=\"T_686fd_row1_col4\" class=\"data row1 col4\" >-0.426658</td>\n",
              "    </tr>\n",
              "    <tr>\n",
              "      <th id=\"T_686fd_level0_row2\" class=\"row_heading level0 row2\" >petal length (cm)</th>\n",
              "      <td id=\"T_686fd_row2_col0\" class=\"data row2 col0\" >0.871754</td>\n",
              "      <td id=\"T_686fd_row2_col1\" class=\"data row2 col1\" >-0.428440</td>\n",
              "      <td id=\"T_686fd_row2_col2\" class=\"data row2 col2\" >1.000000</td>\n",
              "      <td id=\"T_686fd_row2_col3\" class=\"data row2 col3\" >0.962865</td>\n",
              "      <td id=\"T_686fd_row2_col4\" class=\"data row2 col4\" >0.949035</td>\n",
              "    </tr>\n",
              "    <tr>\n",
              "      <th id=\"T_686fd_level0_row3\" class=\"row_heading level0 row3\" >petal width (cm)</th>\n",
              "      <td id=\"T_686fd_row3_col0\" class=\"data row3 col0\" >0.817941</td>\n",
              "      <td id=\"T_686fd_row3_col1\" class=\"data row3 col1\" >-0.366126</td>\n",
              "      <td id=\"T_686fd_row3_col2\" class=\"data row3 col2\" >0.962865</td>\n",
              "      <td id=\"T_686fd_row3_col3\" class=\"data row3 col3\" >1.000000</td>\n",
              "      <td id=\"T_686fd_row3_col4\" class=\"data row3 col4\" >0.956547</td>\n",
              "    </tr>\n",
              "    <tr>\n",
              "      <th id=\"T_686fd_level0_row4\" class=\"row_heading level0 row4\" >label</th>\n",
              "      <td id=\"T_686fd_row4_col0\" class=\"data row4 col0\" >0.782561</td>\n",
              "      <td id=\"T_686fd_row4_col1\" class=\"data row4 col1\" >-0.426658</td>\n",
              "      <td id=\"T_686fd_row4_col2\" class=\"data row4 col2\" >0.949035</td>\n",
              "      <td id=\"T_686fd_row4_col3\" class=\"data row4 col3\" >0.956547</td>\n",
              "      <td id=\"T_686fd_row4_col4\" class=\"data row4 col4\" >1.000000</td>\n",
              "    </tr>\n",
              "  </tbody>\n",
              "</table>\n"
            ]
          },
          "metadata": {},
          "execution_count": 57
        }
      ]
    },
    {
      "cell_type": "code",
      "source": [
        "cor = df.corr()\n",
        "sns.heatmap(cor, cmap = \"Spectral\", annot = True,\n",
        "            vmin= -1, vmax = 1, linewidth = 1)"
      ],
      "metadata": {
        "colab": {
          "base_uri": "https://localhost:8080/",
          "height": 362
        },
        "id": "3BpZDaHecrn5",
        "outputId": "f0eccc34-3e02-4c43-a3a4-66c61d5f1ba1"
      },
      "execution_count": 127,
      "outputs": [
        {
          "output_type": "execute_result",
          "data": {
            "text/plain": [
              "<matplotlib.axes._subplots.AxesSubplot at 0x7f57cca0bf90>"
            ]
          },
          "metadata": {},
          "execution_count": 127
        },
        {
          "output_type": "display_data",
          "data": {
            "text/plain": [
              "<Figure size 432x288 with 2 Axes>"
            ],
            "image/png": "[encoded data removed]"
          },
          "metadata": {
            "needs_background": "light"
          }
        }
      ]
    },
    {
      "cell_type": "markdown",
      "source": [
        "### (3) Iris 데이터 종류별 크기 분석\n",
        "\n"
      ],
      "metadata": {
        "id": "yC_WoKqD0n1H"
      }
    },
    {
      "cell_type": "code",
      "source": [
        "# 라벨이 0 / 1 / 2 각각의 평균\n",
        "df.groupby('label').mean().style.background_gradient()"
      ],
      "metadata": {
        "id": "3bhK6Y9Wg0at",
        "colab": {
          "base_uri": "https://localhost:8080/",
          "height": 175
        },
        "outputId": "f6f694b4-37a6-49f1-cc7b-d7da5618d024"
      },
      "execution_count": 102,
      "outputs": [
        {
          "output_type": "execute_result",
          "data": {
            "text/plain": [
              "<pandas.io.formats.style.Styler at 0x7f57cd2af910>"
            ],
            "text/html": [
              "<style type=\"text/css\">\n",
              "#T_6923e_row0_col0, #T_6923e_row0_col2, #T_6923e_row0_col3, #T_6923e_row1_col1 {\n",
              "  background-color: #fff7fb;\n",
              "  color: #000000;\n",
              "}\n",
              "#T_6923e_row0_col1, #T_6923e_row2_col0, #T_6923e_row2_col2, #T_6923e_row2_col3 {\n",
              "  background-color: #023858;\n",
              "  color: #f1f1f1;\n",
              "}\n",
              "#T_6923e_row1_col0 {\n",
              "  background-color: #4897c4;\n",
              "  color: #f1f1f1;\n",
              "}\n",
              "#T_6923e_row1_col2 {\n",
              "  background-color: #1e80b8;\n",
              "  color: #f1f1f1;\n",
              "}\n",
              "#T_6923e_row1_col3 {\n",
              "  background-color: #3f93c2;\n",
              "  color: #f1f1f1;\n",
              "}\n",
              "#T_6923e_row2_col1 {\n",
              "  background-color: #bcc7e1;\n",
              "  color: #000000;\n",
              "}\n",
              "</style>\n",
              "<table id=\"T_6923e_\" class=\"dataframe\">\n",
              "  <thead>\n",
              "    <tr>\n",
              "      <th class=\"blank level0\" >&nbsp;</th>\n",
              "      <th class=\"col_heading level0 col0\" >sepal length (cm)</th>\n",
              "      <th class=\"col_heading level0 col1\" >sepal width (cm)</th>\n",
              "      <th class=\"col_heading level0 col2\" >petal length (cm)</th>\n",
              "      <th class=\"col_heading level0 col3\" >petal width (cm)</th>\n",
              "    </tr>\n",
              "    <tr>\n",
              "      <th class=\"index_name level0\" >label</th>\n",
              "      <th class=\"blank col0\" >&nbsp;</th>\n",
              "      <th class=\"blank col1\" >&nbsp;</th>\n",
              "      <th class=\"blank col2\" >&nbsp;</th>\n",
              "      <th class=\"blank col3\" >&nbsp;</th>\n",
              "    </tr>\n",
              "  </thead>\n",
              "  <tbody>\n",
              "    <tr>\n",
              "      <th id=\"T_6923e_level0_row0\" class=\"row_heading level0 row0\" >0</th>\n",
              "      <td id=\"T_6923e_row0_col0\" class=\"data row0 col0\" >5.006000</td>\n",
              "      <td id=\"T_6923e_row0_col1\" class=\"data row0 col1\" >3.428000</td>\n",
              "      <td id=\"T_6923e_row0_col2\" class=\"data row0 col2\" >1.462000</td>\n",
              "      <td id=\"T_6923e_row0_col3\" class=\"data row0 col3\" >0.246000</td>\n",
              "    </tr>\n",
              "    <tr>\n",
              "      <th id=\"T_6923e_level0_row1\" class=\"row_heading level0 row1\" >1</th>\n",
              "      <td id=\"T_6923e_row1_col0\" class=\"data row1 col0\" >5.936000</td>\n",
              "      <td id=\"T_6923e_row1_col1\" class=\"data row1 col1\" >2.770000</td>\n",
              "      <td id=\"T_6923e_row1_col2\" class=\"data row1 col2\" >4.260000</td>\n",
              "      <td id=\"T_6923e_row1_col3\" class=\"data row1 col3\" >1.326000</td>\n",
              "    </tr>\n",
              "    <tr>\n",
              "      <th id=\"T_6923e_level0_row2\" class=\"row_heading level0 row2\" >2</th>\n",
              "      <td id=\"T_6923e_row2_col0\" class=\"data row2 col0\" >6.588000</td>\n",
              "      <td id=\"T_6923e_row2_col1\" class=\"data row2 col1\" >2.974000</td>\n",
              "      <td id=\"T_6923e_row2_col2\" class=\"data row2 col2\" >5.552000</td>\n",
              "      <td id=\"T_6923e_row2_col3\" class=\"data row2 col3\" >2.026000</td>\n",
              "    </tr>\n",
              "  </tbody>\n",
              "</table>\n"
            ]
          },
          "metadata": {},
          "execution_count": 102
        }
      ]
    },
    {
      "cell_type": "code",
      "source": [
        "dfg = df.groupby('label').mean()\n",
        "\n",
        "sns.heatmap(dfg, cmap = 'crest', annot = True,\n",
        "            linewidth = 1)"
      ],
      "metadata": {
        "colab": {
          "base_uri": "https://localhost:8080/",
          "height": 358
        },
        "id": "GTuML-Kdhyhi",
        "outputId": "fc058108-3a0b-4e1e-fbba-e5e8f5291bc5"
      },
      "execution_count": 126,
      "outputs": [
        {
          "output_type": "execute_result",
          "data": {
            "text/plain": [
              "<matplotlib.axes._subplots.AxesSubplot at 0x7f57ccace990>"
            ]
          },
          "metadata": {},
          "execution_count": 126
        },
        {
          "output_type": "display_data",
          "data": {
            "text/plain": [
              "<Figure size 432x288 with 2 Axes>"
            ],
            "image/png": "[encoded data removed]"
          },
          "metadata": {
            "needs_background": "light"
          }
        }
      ]
    },
    {
      "cell_type": "markdown",
      "source": [
        "\n",
        "##  **과제** \n",
        "---\n"
      ],
      "metadata": {
        "id": "l-oYQdjZxNDI"
      }
    },
    {
      "cell_type": "markdown",
      "source": [
        "\n",
        "### (1) 히트맵을 이용한 flight 데이터 시각화\n",
        "\n",
        "\n",
        "```\n",
        "df=sns.load_dataset('flights')\n",
        "```\n",
        "\n",
        "* `seaborn`의 `load_dataset`을 이용해 `flights` 데이터를 불러오세요.\n",
        "* `year`를 세로축, `month`를 가로축으로 하는 피벗 테이블을 그리고 히트맵으로 시각화 하세요.\n",
        "\n"
      ],
      "metadata": {
        "id": "l0C63YdjQIhk"
      }
    },
    {
      "cell_type": "code",
      "source": [
        "dff=sns.load_dataset('flights')\n",
        "dff_p = dff.pivot('month', 'year','passengers')\n",
        "plt.figure(figsize = (11,6))\n",
        "sns.heatmap(dff_p, cmap = 'Blues')"
      ],
      "metadata": {
        "id": "PNj5NT9Ng2by",
        "colab": {
          "base_uri": "https://localhost:8080/",
          "height": 403
        },
        "outputId": "be7c55f5-2292-497e-ac4d-cbeaa3750c99"
      },
      "execution_count": 137,
      "outputs": [
        {
          "output_type": "execute_result",
          "data": {
            "text/plain": [
              "<matplotlib.axes._subplots.AxesSubplot at 0x7f57cc1b3f90>"
            ]
          },
          "metadata": {},
          "execution_count": 137
        },
        {
          "output_type": "display_data",
          "data": {
            "text/plain": [
              "<Figure size 792x432 with 2 Axes>"
            ],
            "image/png": "[encoded data removed]"
          },
          "metadata": {
            "needs_background": "light"
          }
        }
      ]
    },
    {
      "cell_type": "markdown",
      "source": [
        "\n",
        "### (2) 캘리포니아 집값 데이터 변수별 상관관계 분석\n",
        "\n",
        "* /content/sample_data/california_housing_test.csv을 불러오세요.\n",
        "* 변수별 상관관계를 나타내는 히트맵을 `seaborn`을 이용해  그리세요.\n",
        "* 상관관계 높은 변수를 찾고, 정리해보세요."
      ],
      "metadata": {
        "id": "LDMD8SaczBGQ"
      }
    },
    {
      "cell_type": "code",
      "source": [
        "dfc = pd.read_csv('/content/sample_data/california_housing_test.csv')\n",
        "\n",
        "dfc_cor = dfc.corr()\n",
        "dfc_cor.head()"
      ],
      "metadata": {
        "id": "q6J1sL1QM4DP",
        "colab": {
          "base_uri": "https://localhost:8080/",
          "height": 206
        },
        "outputId": "242d98fa-0092-451f-99d4-aeef4e98cdd4"
      },
      "execution_count": 115,
      "outputs": [
        {
          "output_type": "execute_result",
          "data": {
            "text/plain": [
              "                    longitude  latitude  housing_median_age  total_rooms  \\\n",
              "longitude            1.000000 -0.925017           -0.064203     0.049865   \n",
              "latitude            -0.925017  1.000000           -0.025143    -0.039632   \n",
              "housing_median_age  -0.064203 -0.025143            1.000000    -0.367850   \n",
              "total_rooms          0.049865 -0.039632           -0.367850     1.000000   \n",
              "total_bedrooms       0.070869 -0.068245           -0.323154     0.937749   \n",
              "\n",
              "                    total_bedrooms  population  households  median_income  \\\n",
              "longitude                 0.070869    0.111572    0.051062      -0.018701   \n",
              "latitude                 -0.068245   -0.117318   -0.068296      -0.072363   \n",
              "housing_median_age       -0.323154   -0.299888   -0.305171      -0.144315   \n",
              "total_rooms               0.937749    0.838867    0.914116       0.221249   \n",
              "total_bedrooms            1.000000    0.856387    0.970758       0.024025   \n",
              "\n",
              "                    median_house_value  \n",
              "longitude                    -0.050662  \n",
              "latitude                     -0.138428  \n",
              "housing_median_age            0.091409  \n",
              "total_rooms                   0.160427  \n",
              "total_bedrooms                0.082279  "
            ],
            "text/html": [
              "\n",
              "  <div id=\"df-80b0536e-d9e7-4541-a1c5-828b9e2d4642\">\n",
              "    <div class=\"colab-df-container\">\n",
              "      <div>\n",
              "<style scoped>\n",
              "    .dataframe tbody tr th:only-of-type {\n",
              "        vertical-align: middle;\n",
              "    }\n",
              "\n",
              "    .dataframe tbody tr th {\n",
              "        vertical-align: top;\n",
              "    }\n",
              "\n",
              "    .dataframe thead th {\n",
              "        text-align: right;\n",
              "    }\n",
              "</style>\n",
              "<table border=\"1\" class=\"dataframe\">\n",
              "  <thead>\n",
              "    <tr style=\"text-align: right;\">\n",
              "      <th></th>\n",
              "      <th>longitude</th>\n",
              "      <th>latitude</th>\n",
              "      <th>housing_median_age</th>\n",
              "      <th>total_rooms</th>\n",
              "      <th>total_bedrooms</th>\n",
              "      <th>population</th>\n",
              "      <th>households</th>\n",
              "      <th>median_income</th>\n",
              "      <th>median_house_value</th>\n",
              "    </tr>\n",
              "  </thead>\n",
              "  <tbody>\n",
              "    <tr>\n",
              "      <th>longitude</th>\n",
              "      <td>1.000000</td>\n",
              "      <td>-0.925017</td>\n",
              "      <td>-0.064203</td>\n",
              "      <td>0.049865</td>\n",
              "      <td>0.070869</td>\n",
              "      <td>0.111572</td>\n",
              "      <td>0.051062</td>\n",
              "      <td>-0.018701</td>\n",
              "      <td>-0.050662</td>\n",
              "    </tr>\n",
              "    <tr>\n",
              "      <th>latitude</th>\n",
              "      <td>-0.925017</td>\n",
              "      <td>1.000000</td>\n",
              "      <td>-0.025143</td>\n",
              "      <td>-0.039632</td>\n",
              "      <td>-0.068245</td>\n",
              "      <td>-0.117318</td>\n",
              "      <td>-0.068296</td>\n",
              "      <td>-0.072363</td>\n",
              "      <td>-0.138428</td>\n",
              "    </tr>\n",
              "    <tr>\n",
              "      <th>housing_median_age</th>\n",
              "      <td>-0.064203</td>\n",
              "      <td>-0.025143</td>\n",
              "      <td>1.000000</td>\n",
              "      <td>-0.367850</td>\n",
              "      <td>-0.323154</td>\n",
              "      <td>-0.299888</td>\n",
              "      <td>-0.305171</td>\n",
              "      <td>-0.144315</td>\n",
              "      <td>0.091409</td>\n",
              "    </tr>\n",
              "    <tr>\n",
              "      <th>total_rooms</th>\n",
              "      <td>0.049865</td>\n",
              "      <td>-0.039632</td>\n",
              "      <td>-0.367850</td>\n",
              "      <td>1.000000</td>\n",
              "      <td>0.937749</td>\n",
              "      <td>0.838867</td>\n",
              "      <td>0.914116</td>\n",
              "      <td>0.221249</td>\n",
              "      <td>0.160427</td>\n",
              "    </tr>\n",
              "    <tr>\n",
              "      <th>total_bedrooms</th>\n",
              "      <td>0.070869</td>\n",
              "      <td>-0.068245</td>\n",
              "      <td>-0.323154</td>\n",
              "      <td>0.937749</td>\n",
              "      <td>1.000000</td>\n",
              "      <td>0.856387</td>\n",
              "      <td>0.970758</td>\n",
              "      <td>0.024025</td>\n",
              "      <td>0.082279</td>\n",
              "    </tr>\n",
              "  </tbody>\n",
              "</table>\n",
              "</div>\n",
              "      <button class=\"colab-df-convert\" onclick=\"convertToInteractive('df-80b0536e-d9e7-4541-a1c5-828b9e2d4642')\"\n",
              "              title=\"Convert this dataframe to an interactive table.\"\n",
              "              style=\"display:none;\">\n",
              "        \n",
              "  <svg xmlns=\"http://www.w3.org/2000/svg\" height=\"24px\"viewBox=\"0 0 24 24\"\n",
              "       width=\"24px\">\n",
              "    <path d=\"M0 0h24v24H0V0z\" fill=\"none\"/>\n",
              "    <path d=\"M18.56 5.44l.94 2.06.94-2.06 2.06-.94-2.06-.94-.94-2.06-.94 2.06-2.06.94zm-11 1L8.5 8.5l.94-2.06 2.06-.94-2.06-.94L8.5 2.5l-.94 2.06-2.06.94zm10 10l.94 2.06.94-2.06 2.06-.94-2.06-.94-.94-2.06-.94 2.06-2.06.94z\"/><path d=\"M17.41 7.96l-1.37-1.37c-.4-.4-.92-.59-1.43-.59-.52 0-1.04.2-1.43.59L10.3 9.45l-7.72 7.72c-.78.78-.78 2.05 0 2.83L4 21.41c.39.39.9.59 1.41.59.51 0 1.02-.2 1.41-.59l7.78-7.78 2.81-2.81c.8-.78.8-2.07 0-2.86zM5.41 20L4 18.59l7.72-7.72 1.47 1.35L5.41 20z\"/>\n",
              "  </svg>\n",
              "      </button>\n",
              "      \n",
              "  <style>\n",
              "    .colab-df-container {\n",
              "      display:flex;\n",
              "      flex-wrap:wrap;\n",
              "      gap: 12px;\n",
              "    }\n",
              "\n",
              "    .colab-df-convert {\n",
              "      background-color: #E8F0FE;\n",
              "      border: none;\n",
              "      border-radius: 50%;\n",
              "      cursor: pointer;\n",
              "      display: none;\n",
              "      fill: #1967D2;\n",
              "      height: 32px;\n",
              "      padding: 0 0 0 0;\n",
              "      width: 32px;\n",
              "    }\n",
              "\n",
              "    .colab-df-convert:hover {\n",
              "      background-color: #E2EBFA;\n",
              "      box-shadow: 0px 1px 2px rgba(60, 64, 67, 0.3), 0px 1px 3px 1px rgba(60, 64, 67, 0.15);\n",
              "      fill: #174EA6;\n",
              "    }\n",
              "\n",
              "    [theme=dark] .colab-df-convert {\n",
              "      background-color: #3B4455;\n",
              "      fill: #D2E3FC;\n",
              "    }\n",
              "\n",
              "    [theme=dark] .colab-df-convert:hover {\n",
              "      background-color: #434B5C;\n",
              "      box-shadow: 0px 1px 3px 1px rgba(0, 0, 0, 0.15);\n",
              "      filter: drop-shadow(0px 1px 2px rgba(0, 0, 0, 0.3));\n",
              "      fill: #FFFFFF;\n",
              "    }\n",
              "  </style>\n",
              "\n",
              "      <script>\n",
              "        const buttonEl =\n",
              "          document.querySelector('#df-80b0536e-d9e7-4541-a1c5-828b9e2d4642 button.colab-df-convert');\n",
              "        buttonEl.style.display =\n",
              "          google.colab.kernel.accessAllowed ? 'block' : 'none';\n",
              "\n",
              "        async function convertToInteractive(key) {\n",
              "          const element = document.querySelector('#df-80b0536e-d9e7-4541-a1c5-828b9e2d4642');\n",
              "          const dataTable =\n",
              "            await google.colab.kernel.invokeFunction('convertToInteractive',\n",
              "                                                     [key], {});\n",
              "          if (!dataTable) return;\n",
              "\n",
              "          const docLinkHtml = 'Like what you see? Visit the ' +\n",
              "            '<a target=\"_blank\" href=https://colab.research.google.com/notebooks/data_table.ipynb>data table notebook</a>'\n",
              "            + ' to learn more about interactive tables.';\n",
              "          element.innerHTML = '';\n",
              "          dataTable['output_type'] = 'display_data';\n",
              "          await google.colab.output.renderOutput(dataTable, element);\n",
              "          const docLink = document.createElement('div');\n",
              "          docLink.innerHTML = docLinkHtml;\n",
              "          element.appendChild(docLink);\n",
              "        }\n",
              "      </script>\n",
              "    </div>\n",
              "  </div>\n",
              "  "
            ]
          },
          "metadata": {},
          "execution_count": 115
        }
      ]
    },
    {
      "cell_type": "code",
      "source": [
        "plt.figure(figsize = (10,5))\n",
        "sns.heatmap(dfc_cor, cmap  = 'vlag', vmin = -1, vmax = 1, annot = True)\n",
        "\n",
        "\n"
      ],
      "metadata": {
        "colab": {
          "base_uri": "https://localhost:8080/",
          "height": 434
        },
        "id": "FPHDCo-jiw3I",
        "outputId": "d082facc-54f5-4998-d0f7-e6cdb42c0d9b"
      },
      "execution_count": 129,
      "outputs": [
        {
          "output_type": "execute_result",
          "data": {
            "text/plain": [
              "<matplotlib.axes._subplots.AxesSubplot at 0x7f57cc898550>"
            ]
          },
          "metadata": {},
          "execution_count": 129
        },
        {
          "output_type": "display_data",
          "data": {
            "text/plain": [
              "<Figure size 720x360 with 2 Axes>"
            ],
            "image/png": "[encoded data removed]"
          },
          "metadata": {
            "needs_background": "light"
          }
        }
      ]
    }
  ]
}