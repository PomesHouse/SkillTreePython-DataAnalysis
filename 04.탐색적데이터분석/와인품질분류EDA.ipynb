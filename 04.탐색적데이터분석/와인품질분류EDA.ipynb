{
  "nbformat": 4,
  "nbformat_minor": 0,
  "metadata": {
    "colab": {
      "name": "와인품질분류EDA.ipynb",
      "private_outputs": true,
      "provenance": [],
      "authorship_tag": "ABX9TyPLUxqu29t2dkPJvmQw0IeO",
      "include_colab_link": true
    },
    "kernelspec": {
      "name": "python3",
      "display_name": "Python 3"
    },
    "language_info": {
      "name": "python"
    }
  },
  "cells": [
    {
      "cell_type": "markdown",
      "metadata": {
        "id": "view-in-github",
        "colab_type": "text"
      },
      "source": [
        "<a href=\"https://colab.research.google.com/github/PomesHouse/SkillTreePython-DataAnalysis/blob/main/04.%ED%83%90%EC%83%89%EC%A0%81%EB%8D%B0%EC%9D%B4%ED%84%B0%EB%B6%84%EC%84%9D/%EC%99%80%EC%9D%B8%ED%92%88%EC%A7%88%EB%B6%84%EB%A5%98EDA.ipynb\" target=\"_parent\"><img src=\"https://colab.research.google.com/assets/colab-badge.svg\" alt=\"Open In Colab\"/></a>"
      ]
    },
    {
      "cell_type": "markdown",
      "source": [
        "# 와인 품질 분류 EDA\n",
        "---"
      ],
      "metadata": {
        "id": "iY3iC-3udKCA"
      }
    },
    {
      "cell_type": "markdown",
      "source": [
        "## 라이브러리 및 데이터 로드"
      ],
      "metadata": {
        "id": "17AcOaqJdOcO"
      }
    },
    {
      "cell_type": "code",
      "execution_count": null,
      "metadata": {
        "id": "7oyEMZ9sa_5I"
      },
      "outputs": [],
      "source": [
        "import numpy as np\n",
        "import pandas as pd\n",
        "import matplotlib.pyplot as plt\n",
        "import seaborn as sns\n",
        "\n",
        "plt.style.use('seaborn-muted')"
      ]
    },
    {
      "cell_type": "code",
      "source": [
        "train = pd.read_csv('/content/train.csv')\n",
        "train.shape"
      ],
      "metadata": {
        "id": "w5eYS6ZKc-nW"
      },
      "execution_count": null,
      "outputs": []
    },
    {
      "cell_type": "code",
      "source": [
        "train.head()"
      ],
      "metadata": {
        "id": "fN36i6Sad-2O"
      },
      "execution_count": null,
      "outputs": []
    },
    {
      "cell_type": "markdown",
      "source": [
        "## 데이터 기본 확인"
      ],
      "metadata": {
        "id": "qo1UHfW5fyWH"
      }
    },
    {
      "cell_type": "markdown",
      "source": [
        "#### 결측치 확인"
      ],
      "metadata": {
        "id": "VP0B1czEhMaA"
      }
    },
    {
      "cell_type": "code",
      "source": [
        "print(train.isnull().sum()) # 결측치 없음"
      ],
      "metadata": {
        "id": "j5bQc760epKn"
      },
      "execution_count": null,
      "outputs": []
    },
    {
      "cell_type": "markdown",
      "source": [
        "#### 기술통계"
      ],
      "metadata": {
        "id": "2ms7IRRHhQm2"
      }
    },
    {
      "cell_type": "code",
      "source": [
        "del train['index'] # 'Index' column은 따로 필요하지 않기에 제거 \n",
        "train.info() # type을 제외한 모든 변수가 수치형 데이터"
      ],
      "metadata": {
        "id": "3jiXNCCyeHCF"
      },
      "execution_count": null,
      "outputs": []
    },
    {
      "cell_type": "code",
      "source": [
        "train.describe()"
      ],
      "metadata": {
        "id": "oYGOzJF1eoCV"
      },
      "execution_count": null,
      "outputs": []
    },
    {
      "cell_type": "code",
      "source": [
        "train.describe(include = 'object')"
      ],
      "metadata": {
        "id": "62tMBeDZgLwF"
      },
      "execution_count": null,
      "outputs": []
    },
    {
      "cell_type": "code",
      "source": [
        "train['type'].value_counts()"
      ],
      "metadata": {
        "id": "o_6FVALOgyMV"
      },
      "execution_count": null,
      "outputs": []
    },
    {
      "cell_type": "markdown",
      "source": [
        "#### 변수 요약 "
      ],
      "metadata": {
        "id": "uH4JWdPuhVx2"
      }
    },
    {
      "cell_type": "code",
      "source": [
        "fig, axes = plt.subplots(3, 5, figsize = (18, 10))\n",
        "axes = axes.flatten()\n",
        "\n",
        "for col, ax in zip(train.columns, axes):\n",
        "    sns.histplot(data = train, x = col, ax = ax)\n",
        "plt.show()"
      ],
      "metadata": {
        "id": "ToWDJgwYhIoO"
      },
      "execution_count": null,
      "outputs": []
    },
    {
      "cell_type": "code",
      "source": [
        "nums = ['fixed acidity', 'volatile acidity', 'citric acid',\n",
        "       'residual sugar', 'chlorides', 'free sulfur dioxide',\n",
        "       'total sulfur dioxide', 'density', 'pH', 'sulphates', 'alcohol'] # 연속형\n",
        "noms = ['type'] # 이산형 \n",
        "y = 'quality' # 예측값"
      ],
      "metadata": {
        "id": "0tt8QEcNij8W"
      },
      "execution_count": null,
      "outputs": []
    },
    {
      "cell_type": "markdown",
      "source": [
        "* 데이터 정리\n",
        "    * 데이터 소개: 와인 성분 데이터\n",
        "    * 자료형 소개\n",
        "     * 범주 자료형\n",
        "        * type: 와인 종류\n",
        "     * 이산 자료형 \n",
        "        * quality: 품질 (예측해야할 값)\n",
        "     * 연속 자료형 \n",
        "        * fixed acidity: 산도\n",
        "        * volatile acidity: 휘발성산\n",
        "        * citric acid: 시트르산\n",
        "        * residual sugar: 잔당(발효 후 와인 속에 남아있는 당)\n",
        "        * chlorides: 염화물\n",
        "        * free sulfur dioxide: 독립 이산화황\n",
        "        * total sulfur dioxide: 총 이산화황\n",
        "        * density: 밀도\n",
        "        * pH: 수소이온농도\n",
        "        * sulphates: 황산염\n",
        "        * alcohol: 도수\n",
        "\n"
      ],
      "metadata": {
        "id": "9iSmHCoUli5X"
      }
    },
    {
      "cell_type": "markdown",
      "source": [
        "## 데이터 분포"
      ],
      "metadata": {
        "id": "1ENLzNiznAFy"
      }
    },
    {
      "cell_type": "markdown",
      "source": [
        "#### 데이터 분포 시각화"
      ],
      "metadata": {
        "id": "TdgCeODHnJDg"
      }
    },
    {
      "cell_type": "code",
      "source": [
        "# 연속 자료형 분포 \n",
        "\n",
        "fig, axes = plt.subplots(3, 4, figsize = (18, 10))\n",
        "axes = axes.flatten()\n",
        "\n",
        "for col, ax in zip(nums, axes):\n",
        "    sns.histplot(data = train, x = col, ax = ax)\n",
        "plt.show()"
      ],
      "metadata": {
        "id": "DhSVjQbjlfcB"
      },
      "execution_count": null,
      "outputs": []
    },
    {
      "cell_type": "code",
      "source": [
        "# 이산 자료형 분포\n",
        "\n",
        "sns.histplot(data = train, x = 'type')"
      ],
      "metadata": {
        "id": "dKhciIn6obgZ"
      },
      "execution_count": null,
      "outputs": []
    },
    {
      "cell_type": "markdown",
      "source": [
        "#### 기술 통계량 시각화"
      ],
      "metadata": {
        "id": "NRiaRPR4oogI"
      }
    },
    {
      "cell_type": "code",
      "source": [
        "# 기술 통계량 확인\n",
        "train.describe()"
      ],
      "metadata": {
        "id": "vnNROun1nnSP"
      },
      "execution_count": null,
      "outputs": []
    },
    {
      "cell_type": "code",
      "source": [
        "# boxplot으로 연속 자료형 기술 통계 시각화  \n",
        "\n",
        "fig, axes = plt.subplots(3, 4, figsize = (18, 15))\n",
        "axes = axes.flatten()\n",
        "\n",
        "for col, ax in zip(nums, axes):\n",
        "    sns.boxplot(data = train, x = 'quality', y = col, ax = ax)\n",
        "    ax.set_title(f'skew = {np.round(train[col].skew(),2)}   kurtosis = {np.round(train[col].kurt(),2)}')\n",
        "plt.show()"
      ],
      "metadata": {
        "id": "CcIQ-nbkowZH"
      },
      "execution_count": null,
      "outputs": []
    },
    {
      "cell_type": "markdown",
      "source": [
        "#### 예측값에 대한 추가 시각화"
      ],
      "metadata": {
        "id": "epwKp-J4pTFi"
      }
    },
    {
      "cell_type": "code",
      "source": [
        "sns.countplot(data = train, x = 'quality')\n",
        "plt.show()"
      ],
      "metadata": {
        "id": "TzKPDUh8pQXA"
      },
      "execution_count": null,
      "outputs": []
    },
    {
      "cell_type": "code",
      "source": [
        "sns.countplot(data = train, x = 'quality', hue = 'type')\n",
        "plt.show()"
      ],
      "metadata": {
        "id": "V_0bI4AVpgsA"
      },
      "execution_count": null,
      "outputs": []
    },
    {
      "cell_type": "markdown",
      "source": [
        "## 속성간 관계 파악 "
      ],
      "metadata": {
        "id": "N1dqyKpsp11j"
      }
    },
    {
      "cell_type": "markdown",
      "source": [
        "#### 상관분석"
      ],
      "metadata": {
        "id": "zq10R5_op5Ix"
      }
    },
    {
      "cell_type": "code",
      "source": [
        "plt.figure(figsize = (10, 5))\n",
        "sns.heatmap(data = train.corr(), annot = True, vmax = 1, vmin = -1, cmap = 'coolwarm')\n",
        "plt.xticks(rotation = 45)\n",
        "plt.show()"
      ],
      "metadata": {
        "id": "PoicmzLEp9HY"
      },
      "execution_count": null,
      "outputs": []
    },
    {
      "cell_type": "markdown",
      "source": [
        "quality와 상관관계가 abs(0.1) 이상인 속성\n",
        "* volatile acidity (음의 상관관계)\n",
        "* chlorides (음의 상관관계)\n",
        "* density (음의 상관관계)\n",
        "* alcohol (양의 상관관계)\n",
        " * 이 중에서 alcohol과의 상관관계가 가장 크다.\n",
        "\n",
        "quality와는 별개로 상관관계가 abs(0.5) 이상인 속성\n",
        "* total sulfur dioxide vs. free sulfur dioxide (양의 상관관계)\n",
        "* density vs. residual sugar (양의 상관관계)\n",
        "* alcohol vs. density (음의 상관관계)\n"
      ],
      "metadata": {
        "id": "WX9RS3Prqzl5"
      }
    },
    {
      "cell_type": "code",
      "source": [
        "# 비교적 quality와의 상관관계가 높았던 속성\n",
        "hi = ['volatile acidity','chlorides', 'density', 'alcohol']"
      ],
      "metadata": {
        "id": "1vtj1Yghw4Ob"
      },
      "execution_count": null,
      "outputs": []
    },
    {
      "cell_type": "markdown",
      "source": [
        "#### 속성간 관계 시각화 "
      ],
      "metadata": {
        "id": "oPk3Cux_q8Cx"
      }
    },
    {
      "cell_type": "code",
      "source": [
        "sns.pairplot(data = train[['quality'] + hi + ['type']].sample(200), hue = 'quality')\n",
        "plt.show()"
      ],
      "metadata": {
        "id": "5_mxivKwqLSQ"
      },
      "execution_count": null,
      "outputs": []
    },
    {
      "cell_type": "code",
      "source": [
        "for col in hi:\n",
        "    sns.displot(data = train, x = col, kind = 'kde', hue = 'quality', col = 'type')"
      ],
      "metadata": {
        "id": "MrfRGXAdtwwI"
      },
      "execution_count": null,
      "outputs": []
    },
    {
      "cell_type": "markdown",
      "source": [
        "* 육안으로 그래프를 보았을 때, 그나마 상관관계가 높았던 속성으로도 quality 구분은 힘들어보인다. \n",
        "* 레드와인과 화이트와인으로 구분해 각 속성의 분포를 보아도 크게 눈에 띄는 패턴을 보이지 않는다. \n",
        "* 와인의 품질은 한 속성의 극단성에 의해서 결정되는 것이 아니라, 여러 속성들의 전체적인 밸런스에 의해 좌우되어서 일 수 있다. "
      ],
      "metadata": {
        "id": "lIi_OsVU9g_9"
      }
    },
    {
      "cell_type": "code",
      "source": [
        "plt.subplot(131)\n",
        "sns.scatterplot(data = train, x = 'alcohol', y = 'volatile acidity', hue = 'quality')\n",
        "plt.subplot(132)\n",
        "sns.scatterplot(data = train, x = 'alcohol', y = 'chlorides', hue = 'quality')\n",
        "plt.subplot(133)\n",
        "sns.scatterplot(data = train, x = 'alcohol', y = 'density', hue = 'quality')\n",
        "plt.show()"
      ],
      "metadata": {
        "id": "ASyuCzJux_XS"
      },
      "execution_count": null,
      "outputs": []
    },
    {
      "cell_type": "code",
      "source": [
        "sns.lmplot(data = train, x = 'alcohol', y = 'volatile acidity', hue = 'quality', col ='quality')\n",
        "sns.lmplot(data = train, x = 'alcohol', y = 'chlorides', hue = 'quality', col = 'quality')\n",
        "sns.lmplot(data = train, x = 'alcohol', y = 'density', hue = 'quality', col = 'quality')\n",
        "plt.show()"
      ],
      "metadata": {
        "id": "fpgD1yZryqSA"
      },
      "execution_count": null,
      "outputs": []
    },
    {
      "cell_type": "markdown",
      "source": [
        "* 위 그래프에서도 여전히 품질별로 뚜렷한 구분을 하기가 어렵다."
      ],
      "metadata": {
        "id": "acLs0HgG-pkW"
      }
    },
    {
      "cell_type": "code",
      "source": [
        "_ = sns.histplot(data = train, x = 'quality', y = 'type')"
      ],
      "metadata": {
        "id": "UYzvjgZSzDfa"
      },
      "execution_count": null,
      "outputs": []
    },
    {
      "cell_type": "markdown",
      "source": [
        "* 품질이 6이었을 경우 화이트와인일 확률이 높다. "
      ],
      "metadata": {
        "id": "MxxfTkL5_Wst"
      }
    },
    {
      "cell_type": "markdown",
      "source": [
        "## 결론\n"
      ],
      "metadata": {
        "id": "3d-ahs4wAH1d"
      }
    },
    {
      "cell_type": "markdown",
      "source": [
        "*  Data visualization으로 quality와 특정 속성의 관계를 파악하는데는 한계가 있다. \n",
        " * 연속 자료형 속성의 경우 quality와 alcohol의 상관관계가 가장 높았으나, 그마저도 quality의 구분을 하기에 가시적인 정보를 주지 않았다. \n",
        " * 범주 자료형 속성인 type의 경우 quality == 6인 경우 화이트와인인 경우가 많았으나, quality가 높아지거나 낮아질 수록 type에 상관 없는 모습을 보인다.  \n",
        "* 이는 위에서 언급했듯이, 와인의 품질이라는 것이 한 화학적 속성의 극단성으로만 결정되지 않기 때문일 것이라 추측된다. \n",
        "* 후에 진행될 모델링과 훈련의 역할이 클 것이므로, 머신러닝의 용이함을 위해 데이터 전처리 과정에서 모든 수치 자료형에게 min-max scaling 또는 standard(z-score) scaling을 해준다.  \n",
        "* 와인 등급의 경우 0,1,2... 의 숫자로 스케일링 해준다. \n",
        "* 와인 type의 경우 0,1로 바꾸어준다. "
      ],
      "metadata": {
        "id": "smAxP05VALIt"
      }
    }
  ]
}