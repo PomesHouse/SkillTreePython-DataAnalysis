{
  "nbformat": 4,
  "nbformat_minor": 0,
  "metadata": {
    "colab": {
      "name": "11_전처리실습-킥보드.ipynb",
      "private_outputs": true,
      "provenance": [],
      "toc_visible": true,
      "authorship_tag": "ABX9TyNRA5W3xL4lttAsUhMsnkeA",
      "include_colab_link": true
    },
    "kernelspec": {
      "name": "python3",
      "display_name": "Python 3"
    },
    "language_info": {
      "name": "python"
    }
  },
  "cells": [
    {
      "cell_type": "markdown",
      "metadata": {
        "id": "view-in-github",
        "colab_type": "text"
      },
      "source": [
        "<a href=\"https://colab.research.google.com/github/PomesHouse/SkillTreePython-DataAnalysis/blob/main/01.%EB%8D%B0%EC%9D%B4%ED%84%B0%EB%B6%84%EC%84%9D%EA%B8%B0%EC%B4%88/11_%EC%A0%84%EC%B2%98%EB%A6%AC%EC%8B%A4%EC%8A%B5_%ED%82%A5%EB%B3%B4%EB%93%9C.ipynb\" target=\"_parent\"><img src=\"https://colab.research.google.com/assets/colab-badge.svg\" alt=\"Open In Colab\"/></a>"
      ]
    },
    {
      "cell_type": "markdown",
      "source": [
        " # Ch11. 전처리 실습 - 킥보드 대여 데이터 처리 및 분석 의뢰\n",
        "---\n",
        "* 날짜:\n",
        "* 이름:\n"
      ],
      "metadata": {
        "id": "WUH1TI2E3hg2"
      }
    },
    {
      "cell_type": "markdown",
      "source": [
        "## 데이터 전처리\n",
        "---"
      ],
      "metadata": {
        "id": "umMVg5aS3xwX"
      }
    },
    {
      "cell_type": "code",
      "execution_count": null,
      "metadata": {
        "id": "WFMlz3xY3PHz"
      },
      "outputs": [],
      "source": [
        "import numpy as np\n",
        "import pandas as pd"
      ]
    },
    {
      "cell_type": "markdown",
      "source": [
        "#### 01. csv 파일을 데이터프레임으로 읽기"
      ],
      "metadata": {
        "id": "-DdPTeG_EV4E"
      }
    },
    {
      "cell_type": "code",
      "source": [
        "df1 = pd.read_csv('/content/2020_rental_dataset_1.csv', index_col = 0)\n",
        "df2 = pd.read_csv('/content/2020_rental_dataset_2.csv', index_col = 0)\n",
        "df3 = pd.read_csv('/content/2020_rental_dataset_3.csv', index_col = 0)\n",
        "df4 = pd.read_csv('/content/2020_rental_dataset_4.csv', index_col = 0)\n",
        "df5 = pd.read_csv('/content/2020_rental_dataset_5.csv', index_col = 0)"
      ],
      "metadata": {
        "id": "zle9HcU1D4Pt"
      },
      "execution_count": null,
      "outputs": []
    },
    {
      "cell_type": "markdown",
      "source": [
        "#### 02. 변수이름 확인 및 변경 "
      ],
      "metadata": {
        "id": "UUT8r4bhFkFU"
      }
    },
    {
      "cell_type": "code",
      "source": [
        "df1 = df1.rename({'y':'year', 'wheather':'weather'}, axis = 1)\n",
        "df1.head(2)"
      ],
      "metadata": {
        "id": "B-tP6zBnETym"
      },
      "execution_count": null,
      "outputs": []
    },
    {
      "cell_type": "code",
      "source": [
        "df2.head(1)\n",
        "df2 = df2.rename({'y':'year', 'm,d':'m/d', 't':'time','wheather':'weather'}, axis = 1)\n",
        "df2.head(2)"
      ],
      "metadata": {
        "id": "HYrgivdkEf9d"
      },
      "execution_count": null,
      "outputs": []
    },
    {
      "cell_type": "code",
      "source": [
        "df3.head(1)\n",
        "df3 = df3.rename({'m  d':'m/d', 't':'time', 'count':'counts','wheather':'weather'}, axis = 1)\n",
        "df3.head(2)"
      ],
      "metadata": {
        "id": "BB8wa47fEml9"
      },
      "execution_count": null,
      "outputs": []
    },
    {
      "cell_type": "code",
      "source": [
        "df4.head(1)\n",
        "df4 = df4.rename({'count':'counts', 'wheather':'weather'}, axis = 1)\n",
        "df4.head(2)"
      ],
      "metadata": {
        "id": "BYalP0dQEnxM"
      },
      "execution_count": null,
      "outputs": []
    },
    {
      "cell_type": "code",
      "source": [
        "df5.head(1)\n",
        "df5 = df5.rename({'yer':'year','count':'counts','wheather':'weather'}, axis = 1)\n",
        "df5.head(1)"
      ],
      "metadata": {
        "id": "IhfbfHFfEphs"
      },
      "execution_count": null,
      "outputs": []
    },
    {
      "cell_type": "markdown",
      "source": [
        "#### 03. 요일, 시간, 날씨의 값을 문자열(영문) 으로"
      ],
      "metadata": {
        "id": "qXtDH05uJswM"
      }
    },
    {
      "cell_type": "markdown",
      "source": [
        "요일, 시간, 날씨 기준\n",
        "```\n",
        "day = ['Sun','Mon','Tue','Wed','Thu','Fri','Sat']\n",
        "time = ['morning', 'noon', 'evening' ]\n",
        "weather = ['sunny','cloudy','rainy' ]\n",
        "```"
      ],
      "metadata": {
        "id": "D8Mb9g8RMPfL"
      }
    },
    {
      "cell_type": "code",
      "source": [
        "# df1: 요일, 시간, 날씨의 값을 문자열(영문) 으로\n",
        "day = ['Sun','Mon','Tue','Wed','Thu','Fri','Sat']\n",
        "weather = { 0: 'sunny', 1: 'cloudy', 2: 'rainy' }\n",
        "\n",
        "# df1 시간 철자 고치기\n",
        "mask = df1['time'] == 'monring'\n",
        "df1.loc[mask, 'time' ] = 'morning'\n",
        "\n",
        "# df1 요일 바꾸기\n",
        "day = ['Sun','Mon','Tue','Wed','Thu','Fri','Sat']\n",
        "for i in range(7):\n",
        "    df1['day'].replace(i, day[i], inplace = True)\n",
        "\n",
        "# df1 날씨 값 바꾸기 \n",
        "weather = ['sunny','cloudy','rainy' ]\n",
        "for i in range(3):\n",
        "    df1['weather'].replace(i, weather[i], inplace = True)\n",
        "df1.head(2)"
      ],
      "metadata": {
        "id": "T2cNBrKrXTtu"
      },
      "execution_count": null,
      "outputs": []
    },
    {
      "cell_type": "code",
      "source": [
        "# df2: 요일, 시간, 날씨의 값을 문자열(영문) 으로\n",
        "\n",
        "# df2 요일 바꾸기\n",
        "day = ['Sun','Mon','Tue','Wed','Thu','Fri','Sat']\n",
        "for i in range(7):\n",
        "    df2['day'].replace(i, day[i], inplace = True)\n",
        "\n",
        "# df2 시간 바꾸기 \n",
        "time = ['morning', 'noon', 'evening' ]\n",
        "for i in range(3):\n",
        "    df2['time'].replace(i, time[i], inplace = True)\n",
        "    \n",
        "# df2 날씨 값 바꾸기 \n",
        "weather = ['sunny','cloudy','rainy' ]\n",
        "for i in range(3):\n",
        "    df2['weather'].replace(i, weather[i], inplace = True)\n"
      ],
      "metadata": {
        "id": "cV_pyHLVgUjU"
      },
      "execution_count": null,
      "outputs": []
    },
    {
      "cell_type": "code",
      "source": [
        "# df3: 요일, 시간, 날씨의 값을 문자열(영문) 으로\n",
        "\n",
        "# df3 요일 바꾸기\n",
        "day = ['Sun','Mon','Tue','Wed','Thu','Fri','Sat']\n",
        "for i in range(7):\n",
        "    df3['day'].replace(i, day[i], inplace = True)\n",
        "\n",
        "# df3 시간 바꾸기 \n",
        "time = ['morning', 'noon', 'evening' ]\n",
        "for i in range(3):\n",
        "    df3['time'].replace(i, time[i], inplace = True)\n",
        "    \n",
        "# df3 날씨 값 바꾸기 \n",
        "weather = ['sunny','cloudy','rainy' ]\n",
        "for i in range(3):\n",
        "    df3['weather'].replace(i, weather[i], inplace = True)\n"
      ],
      "metadata": {
        "id": "yLATY0-1gUp8"
      },
      "execution_count": null,
      "outputs": []
    },
    {
      "cell_type": "code",
      "source": [
        "# df4: 요일, 시간, 날씨의 값을 문자열(영문) 으로\n",
        "\n",
        "# df4 시간 철자 고치기\n",
        "mask = df4['time'] == 'monring'\n",
        "df4.loc[mask, 'time' ] = 'morning'\n",
        "\n",
        "# df4 요일 바꾸기\n",
        "day = ['Sun','Mon','Tue','Wed','Thu','Fri','Sat']\n",
        "for i in range(7):\n",
        "    df4['day'].replace(i, day[i], inplace = True)\n",
        "\n",
        "# df4 날씨 값 바꾸기 \n",
        "weather = ['sunny','cloudy','rainy' ]\n",
        "for i in range(3):\n",
        "    df4['weather'].replace(i, weather[i], inplace = True)"
      ],
      "metadata": {
        "id": "OZtOnhuRhp0s"
      },
      "execution_count": null,
      "outputs": []
    },
    {
      "cell_type": "code",
      "source": [
        "# df5: 요일, 시간, 날씨의 값을 문자열(영문) 으로\n",
        "\n",
        "# df5 요일 바꾸기\n",
        "day = ['Sun','Mon','Tue','Wed','Thu','Fri','Sat']\n",
        "for i in range(7):\n",
        "    df5['day'].replace(i, day[i], inplace = True)\n",
        "\n",
        "# df5 시간 바꾸기 \n",
        "time = ['morning', 'noon', 'evening' ]\n",
        "for i in range(3):\n",
        "    df5['time'].replace(i, time[i], inplace = True)\n",
        "    \n",
        "# df5 날씨 값 바꾸기 \n",
        "weather = ['sunny','cloudy','rainy' ]\n",
        "for i in range(3):\n",
        "    df5['weather'].replace(i, weather[i], inplace = True)\n"
      ],
      "metadata": {
        "id": "bN3I5GF0hp7l"
      },
      "execution_count": null,
      "outputs": []
    },
    {
      "cell_type": "markdown",
      "source": [
        "#### 04. 월과 일 분리"
      ],
      "metadata": {
        "id": "_2NrWuFhikEE"
      }
    },
    {
      "cell_type": "code",
      "source": [
        "new1 = df1['m/d'].str.split(' ', expand = True)\n",
        "df1 = pd.concat([df1, new1], axis = 1)\n",
        "df1 = df1.drop(['m/d'], axis = 1)\n",
        "df1.rename(columns = {0:'월',1 :'일'}, inplace = True)"
      ],
      "metadata": {
        "id": "aSqHKamAiuN8"
      },
      "execution_count": null,
      "outputs": []
    },
    {
      "cell_type": "code",
      "source": [
        "new2 = df2['m/d'].str.split(' ', expand = True)\n",
        "df2 = pd.concat([df2, new2], axis = 1)\n",
        "df2 = df2.drop(['m/d'], axis = 1)\n",
        "df2.rename(columns = {0:'월',1 :'일'}, inplace = True)"
      ],
      "metadata": {
        "id": "EJy3tCD1iuQU"
      },
      "execution_count": null,
      "outputs": []
    },
    {
      "cell_type": "code",
      "source": [
        "new3 = df3['m/d'].str.split(' ', expand = True)\n",
        "df3 = pd.concat([df3, new3], axis = 1)\n",
        "df3 = df3.drop(['m/d'], axis = 1)\n",
        "df3.rename(columns = {0:'월',1 :'일'}, inplace = True)\n"
      ],
      "metadata": {
        "id": "kSEJ05ZdkfNm"
      },
      "execution_count": null,
      "outputs": []
    },
    {
      "cell_type": "code",
      "source": [
        "new4 = df4['m/d'].str.split(' ', expand = True)\n",
        "df4 = pd.concat([df4, new4], axis = 1)\n",
        "df4 = df4.drop(['m/d'], axis = 1)\n",
        "df4.rename(columns = {0:'월',1 :'일'}, inplace = True)"
      ],
      "metadata": {
        "id": "TW1xyEymkfT7"
      },
      "execution_count": null,
      "outputs": []
    },
    {
      "cell_type": "code",
      "source": [
        "new5 = df5['m/d'].str.split(' ', expand = True)\n",
        "df5 = pd.concat([df5, new5], axis = 1)\n",
        "df5 = df5.drop(['m/d'], axis = 1)\n",
        "df5.rename(columns = {0:'월',1 :'일'}, inplace = True)"
      ],
      "metadata": {
        "id": "H0Wx700KkfXc"
      },
      "execution_count": null,
      "outputs": []
    },
    {
      "cell_type": "markdown",
      "source": [
        "#### 05. 연도 삭제"
      ],
      "metadata": {
        "id": "A9zx_fnxlTkT"
      }
    },
    {
      "cell_type": "code",
      "source": [
        "df1 = df1.drop(['year'], axis = 1)\n",
        "df2 = df2.drop(['year'], axis = 1)\n",
        "df3 = df3.drop(['year'], axis = 1)\n",
        "df4 = df4.drop(['year'], axis = 1)\n",
        "df5 = df5.drop(['year'], axis = 1)"
      ],
      "metadata": {
        "id": "HpeOWO9DiuUM"
      },
      "execution_count": null,
      "outputs": []
    },
    {
      "cell_type": "markdown",
      "source": [
        "#### 06. 결측값 삭제"
      ],
      "metadata": {
        "id": "UTZd-Ld8l3mU"
      }
    },
    {
      "cell_type": "code",
      "source": [
        "df1 = df1.dropna()\n",
        "df2 = df2.dropna() # 결측값 5개 \n",
        "df3 = df3.dropna()\n",
        "df4 = df4.dropna() # 결측값 4개 \n",
        "df5 = df5.dropna()"
      ],
      "metadata": {
        "id": "MObj22DMiuZF"
      },
      "execution_count": null,
      "outputs": []
    },
    {
      "cell_type": "markdown",
      "source": [
        "#### 07. 대여 횟수 dtype 정수로 변환  "
      ],
      "metadata": {
        "id": "asNduQLrm8GM"
      }
    },
    {
      "cell_type": "code",
      "source": [
        "df1['counts'] = df1['counts'].astype('int16')\n",
        "df2['counts'] = df2['counts'].astype('int16')\n",
        "df3['counts'] = df3['counts'].astype('int16')\n",
        "df4['counts'] = df4['counts'].astype('int16')\n",
        "df5['counts'] = df5['counts'].astype('int16')"
      ],
      "metadata": {
        "id": "rsDakIapKW_k"
      },
      "execution_count": null,
      "outputs": []
    },
    {
      "cell_type": "markdown",
      "source": [
        "#### 08. 데이터 통합 및 저장  "
      ],
      "metadata": {
        "id": "8c-ojownovR8"
      }
    },
    {
      "cell_type": "code",
      "source": [
        "df = pd.concat([df1, df2, df3, df4, df5],ignore_index = True, axis = 0)"
      ],
      "metadata": {
        "id": "pfhGobVgozVi"
      },
      "execution_count": null,
      "outputs": []
    },
    {
      "cell_type": "code",
      "source": [
        "df = df[['월','일','day','time','weather','counts']]\n",
        "df = df.rename(columns = {'월':'Month', '일':'Date', 'day':'DayOfWeek', 'time':'Time','weather':'Weather','counts':'Counts'})"
      ],
      "metadata": {
        "id": "j6SpLalwpT5i"
      },
      "execution_count": null,
      "outputs": []
    },
    {
      "cell_type": "code",
      "source": [
        "df.to_csv('2021_rental_ds_all.csv')"
      ],
      "metadata": {
        "id": "y4pEI4b5qU66"
      },
      "execution_count": null,
      "outputs": []
    },
    {
      "cell_type": "markdown",
      "source": [
        "## 데이터 집계 및 설명\n",
        "---"
      ],
      "metadata": {
        "id": "u8sTI6EpsEZr"
      }
    },
    {
      "cell_type": "markdown",
      "source": [
        "#### 01. 대여횟수 및 다른 변수들에 대한 기본적인 통계 분석"
      ],
      "metadata": {
        "id": "Grsk0sLht7oh"
      }
    },
    {
      "cell_type": "code",
      "source": [
        "print(df.describe())\n",
        "print(df['Counts'].median())\n",
        "\n",
        "# 대여횟수의 기본 통계정보를 보면 \n",
        "# 시간대별 평균이 377.6회\n",
        "# 중간값이 341회 이며,\n",
        "# min 값이 0인것을 보아 한번도 대여되지 않는 시간대도 있음을 알 수 있다. \n",
        "# 가장 많이 대여된 시간대의 경우 대여횟수가 1112회 이다. "
      ],
      "metadata": {
        "id": "GS99CTcLsJQK"
      },
      "execution_count": null,
      "outputs": []
    },
    {
      "cell_type": "code",
      "source": [
        "# Month, Date, DayofWeek, Time 필드의 경우 값들이 주기적이기 때문에 \n",
        "# 따로는 굳이 통계 분석을 할 필요가 없다. \n",
        "\n",
        "# 예측 불가능한 컬럼은 'Weather'필드이다. \n",
        "df['Weather'].value_counts()\n",
        "\n",
        "# 맑은날이 573일, 흐린날이 302일, 비가 내린날이 211일이 있음을 알수 있다. "
      ],
      "metadata": {
        "id": "G7id47DBwBVM"
      },
      "execution_count": null,
      "outputs": []
    },
    {
      "cell_type": "markdown",
      "source": [
        "#### 02. 대여수에대한 변수들의 영향 분석"
      ],
      "metadata": {
        "id": "78om_iQZuFYj"
      }
    },
    {
      "cell_type": "code",
      "source": [
        "df.groupby('Month')['Counts'].sum().sort_values(ascending = False)\n",
        "\n",
        "# 가장 대여횟수가 많은 달은 11월이었다.\n",
        "# 가장 대여횟수가 적은 달은 2월이었는데,\n",
        "# 이 점은 2월의 적은 일수로 설명이 가능하다.\n",
        "\n",
        "# 비교적 더운 7월과 8월의 대여횟수가 적지만, 날이 좋은 4월과, 8월의 대여횟수가 비슷하다.\n",
        "# 그렇기에 7월과 8월의 낮은 대여횟수를 더운날씨 탓으로 돌리기엔 아직 정보가 부족하다. \n"
      ],
      "metadata": {
        "id": "iJSXfEsDsSVS"
      },
      "execution_count": null,
      "outputs": []
    },
    {
      "cell_type": "code",
      "source": [
        "df.groupby('Date')['Counts'].sum().sort_values(ascending = False)\n",
        "# 이 정보의 경우 혼자만으로는 유의미한 인사이트를 도출할 수는 없어보인다. "
      ],
      "metadata": {
        "id": "9nim_h_xtq0C"
      },
      "execution_count": null,
      "outputs": []
    },
    {
      "cell_type": "code",
      "source": [
        "dof = df.groupby('DayOfWeek')['Counts'].sum().sort_values(ascending = False)\n",
        "# 일요일날 가장 대여횟수가 많았고 그 다음이 토요일이다. \n",
        "# 세번째로 대여횟수가 많은 목요일의 경우 토요일 대여횟수의 반에도 못 미친다. \n",
        "print(dof)\n",
        "weekends_percent = (dof['Sun':'Sat'].sum())/dof[:].sum()\n",
        "print(f'주말 대여율 : {weekends_percent * 100: .2f} %')\n",
        "\n",
        "# 추가적으로 계산해보면 주말 대여율이 48.66% 임을 알 수 있다. \n",
        "# 즉, 주말의 대여횟수가 전체 대여횟수의 반을 차지한다. "
      ],
      "metadata": {
        "id": "gZ64NB92xwt0"
      },
      "execution_count": null,
      "outputs": []
    },
    {
      "cell_type": "code",
      "source": [
        "df.groupby('Time')['Counts'].sum().sort_values(ascending = False)\n",
        "# 저녁과 아침 시간의 대여횟수는 비슷하나, 점심 시간대의 대여횟수가 적다. "
      ],
      "metadata": {
        "id": "OmRlEGHLxwwi"
      },
      "execution_count": null,
      "outputs": []
    },
    {
      "cell_type": "code",
      "source": [
        "weather_counts = df.groupby('Weather')['Counts'].sum().sort_values(ascending = False)\n",
        "# 날씨가 맑은 시간대 대여횟수가 295473회 였고, 흐린 시간대는 맑은 시간대의 3분의 1정도인 108331회, 비올 때의 대여횟수는 6287회 밖에 되지 않았다. \n",
        "# 하지만 우리가 위에서 확인한 바 \n",
        "# 맑은 시간대가 573일로 가장 많았고 흐린 시간대는 302일 비오는 시간대는 211일이었다. \n",
        "\n",
        "# 더 정확한 분석을 위해 날씨별 총 대여횟수를 총 날씨 횟수로 나눠볼 수 있다.\n",
        "weather_days = df['Weather'].value_counts()\n",
        "print(weather_counts/weather_days)\n",
        "\n",
        "# 그 결과, 맑은 시간 515.66, 흐린 시간 358.7, 비온 시간의 경우 28 정도이다. \n",
        "# 이 수치를 보면 \n",
        "# 맑은 시간대의 대여율을 1이라고 두었을 때, \n",
        "# 흐린 시간대는 이의 70% 정도이고, 비오는 시간대의 경우 5% 정도 밖에 되지 않을 정도로 사람들이 대여하지 않음을 알 수 있다. "
      ],
      "metadata": {
        "id": "C_45J-4Xxw1K"
      },
      "execution_count": null,
      "outputs": []
    },
    {
      "cell_type": "markdown",
      "source": [
        "#### 03. 대여수가 많은 날, 적은 날의 특징 분석 및 인사이트"
      ],
      "metadata": {
        "id": "5zPW-YaluLXy"
      }
    },
    {
      "cell_type": "code",
      "source": [
        "df.head()"
      ],
      "metadata": {
        "id": "L-KT4row7EvB"
      },
      "execution_count": null,
      "outputs": []
    },
    {
      "cell_type": "code",
      "source": [
        "# 위의 일련의 분석을 통하여 가장 눈에 띄었던 점은 날씨에 따른 대여율이였다. \n",
        "# 다시 한 번 그 결과를 보자. 맑은 시간의 대여율이 1이라면, 흐린시간은 0.7, 비오시간은 0.05 이다.\n",
        "# 그럼 다시 한번 'Month' 필드로 돌아가보자. \n",
        "# 2월 다음으로 대여횟수가 적었던 7월과 8월의 날씨와 가장 대여횟수가 많았던 11월의 날씨를 확인해 볼 수 있다. \n",
        "\n",
        "mmask7 = df['Month'] == '7'\n",
        "mmask8 = df['Month'] == '8'\n",
        "mmask11 = df['Month'] =='11'\n",
        "july_df = df[mmask7]\n",
        "august_df = df[mmask8]\n",
        "nov_df = df[mmask11]\n",
        "print(july_df['Weather'].value_counts())\n",
        "print(august_df['Weather'].value_counts())\n",
        "print(nov_df['Weather'].value_counts())\n",
        "\n",
        "# 그 결과 11월에 비해서 유독 7월과 8월, 특히 2월 다음으로 가장 대여횟수가 적었던 7월달에 비가 많이 왔음을 알 수 있다. \n",
        "# 7월의 비온 횟수는 23번으로 11월의 9번의 두배가 넘는 빈도를 보인다. \n",
        "# 8월의 비온 횟수 또한 18번으로 11월의 두배가 된다. \n",
        "\n",
        "# 위에, 날이 더워서 7,8월의 대여횟수가 적지 않았을까라고 언급했지만 \n",
        "# 이 결과를보면 대여횟수에 가장 큰 영향을 미쳤던 요소는 날씨였음에 의심이 없다. "
      ],
      "metadata": {
        "id": "j60awc_iuTvx"
      },
      "execution_count": null,
      "outputs": []
    },
    {
      "cell_type": "code",
      "source": [
        "df"
      ],
      "metadata": {
        "id": "QDhZbsbAANcq"
      },
      "execution_count": null,
      "outputs": []
    },
    {
      "cell_type": "code",
      "source": [
        "#  날씨 이외 대여횟수에 영향을 미친 변수는 주말인지의 여부였다. \n",
        "#  위의 분석 결과값을 다시 언급해보자면 주말 대여율이 48.66% 었다. \n",
        "\n",
        "# 또한 아침과 저녁시간대 각각의 대여횟수가 점심때의 대여횟수보다 3/2 정도 더 많았다.\n",
        "\n",
        "# Date별 대여횟수의 경우,\n",
        "# 위의 유의미한 변수들의 조합으로 인한 결과값이지 않을까 한다."
      ],
      "metadata": {
        "id": "zFs8p8yM7JpH"
      },
      "execution_count": null,
      "outputs": []
    },
    {
      "cell_type": "code",
      "source": [
        "# 이제껏 결과를 통틀었을 때,\n",
        "\n",
        "# 사람들이 킥보드를 이용할 확률이 가장 높은 때는, \n",
        "# 날씨가 맑으며, 주말인데다가, 아침이나 저녁시간인 때라고 할 수 있으며,  \n",
        "\n",
        "# 반면 사람들이 킥보드를 이용할 확률이 가장 낮은 때는, \n",
        "# 비가 오며, 주 중인데다가, 점심시간인 때라고 결론 내릴 수 있다. \n"
      ],
      "metadata": {
        "id": "8L_m3pvcAtOf"
      },
      "execution_count": null,
      "outputs": []
    }
  ]
}