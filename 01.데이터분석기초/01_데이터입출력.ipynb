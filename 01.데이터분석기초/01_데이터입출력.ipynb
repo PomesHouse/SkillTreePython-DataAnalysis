{
  "nbformat": 4,
  "nbformat_minor": 0,
  "metadata": {
    "colab": {
      "name": "01_데이터입출력.ipynb",
      "provenance": [],
      "collapsed_sections": [],
      "include_colab_link": true
    },
    "kernelspec": {
      "name": "python3",
      "display_name": "Python 3"
    },
    "language_info": {
      "name": "python"
    }
  },
  "cells": [
    {
      "cell_type": "markdown",
      "metadata": {
        "id": "view-in-github",
        "colab_type": "text"
      },
      "source": [
        "<a href=\"https://colab.research.google.com/github/PomesHouse/SkillTreePython-DataAnalysis/blob/main/01.%EB%8D%B0%EC%9D%B4%ED%84%B0%EB%B6%84%EC%84%9D%EA%B8%B0%EC%B4%88/01_%EB%8D%B0%EC%9D%B4%ED%84%B0%EC%9E%85%EC%B6%9C%EB%A0%A5.ipynb\" target=\"_parent\"><img src=\"https://colab.research.google.com/assets/colab-badge.svg\" alt=\"Open In Colab\"/></a>"
      ]
    },
    {
      "cell_type": "markdown",
      "metadata": {
        "id": "jgFAOz-Tw1VI"
      },
      "source": [
        "# CH01.데이터 입출력\n",
        "---\n",
        "* 날짜:\n",
        "* 이름:\n"
      ]
    },
    {
      "cell_type": "markdown",
      "source": [
        "## 개념정리"
      ],
      "metadata": {
        "id": "i1Rco0Orob6Z"
      }
    },
    {
      "cell_type": "markdown",
      "source": [
        "---\n",
        "### **(1) 데이터 경로 다루기**\n",
        "---\n",
        "\n",
        "데이터를 다루기 위한 첫번째 단계는 데이터가 어디있는지 경로를 확보하는 것입니다. 현재 내가 스크립트를 작성하는 경로와 데이터가 존재하는 경로를 각각 이해 하여야 그에 맞게 데이터를 가져오고, 저장 할 수 있습니다. 데이터 경로를 확인하는 몇가지 방법을 배워보도록 하겠습니다. \n"
      ],
      "metadata": {
        "id": "Y2tOvkYAAVNt"
      }
    },
    {
      "cell_type": "markdown",
      "source": [
        "#### **| 콘솔창 이용하기**\n",
        "\n",
        "코랩에서 코드창을 콘솔창처럼 쓰고 싶을 때 느낌표 '!' 를 이용하면 됩니다. \n",
        "\n",
        "* `pwd` : 현재 위치한 경로를 출력합니다.\n",
        "\n",
        "```\n",
        "! pwd\n",
        "```"
      ],
      "metadata": {
        "id": "B6wqha4OBu1T"
      }
    },
    {
      "cell_type": "code",
      "source": [
        "!pwd"
      ],
      "metadata": {
        "id": "HN5AG9WgBtyL",
        "colab": {
          "base_uri": "https://localhost:8080/"
        },
        "outputId": "4967461c-1d8f-4b65-8dfd-699852a42bbe"
      },
      "execution_count": null,
      "outputs": [
        {
          "output_type": "stream",
          "name": "stdout",
          "text": [
            "/content\n"
          ]
        }
      ]
    },
    {
      "cell_type": "markdown",
      "source": [
        "* `ls` : 현재 위치의 파일이나 폴더를 보여줍니다.\n",
        "\n",
        "```\n",
        "! ls\n",
        "```"
      ],
      "metadata": {
        "id": "wGYqJelgBsrr"
      }
    },
    {
      "cell_type": "code",
      "source": [
        "!ls"
      ],
      "metadata": {
        "id": "yuWqpKlACbBf",
        "colab": {
          "base_uri": "https://localhost:8080/"
        },
        "outputId": "69ef826f-1c52-4bc3-f4b1-1908d694b861"
      },
      "execution_count": null,
      "outputs": [
        {
          "output_type": "stream",
          "name": "stdout",
          "text": [
            "sample_data\n"
          ]
        }
      ]
    },
    {
      "cell_type": "markdown",
      "source": [
        "#### **| `os` 라이브러리 이용하기**\n",
        "\n",
        "\n",
        "```\n",
        "import os\n",
        "```\n"
      ],
      "metadata": {
        "id": "f9Vhn7MRD_gA"
      }
    },
    {
      "cell_type": "code",
      "source": [
        "import os"
      ],
      "metadata": {
        "id": "VdTio7ThAkg1"
      },
      "execution_count": null,
      "outputs": []
    },
    {
      "cell_type": "markdown",
      "source": [
        "* `os.getcwd()` : 현재 위치한 경로를 출력합니다.\n",
        "\n",
        "```\n",
        "os.getcwd()\n",
        "```"
      ],
      "metadata": {
        "id": "z64fqZohAlwH"
      }
    },
    {
      "cell_type": "code",
      "execution_count": null,
      "metadata": {
        "id": "rDz3mQqBAVNu",
        "colab": {
          "base_uri": "https://localhost:8080/"
        },
        "outputId": "14c8e22c-29f2-4474-d61d-a0b79b8a5230"
      },
      "outputs": [
        {
          "output_type": "execute_result",
          "data": {
            "text/plain": [
              "'/content'"
            ],
            "application/vnd.google.colaboratory.intrinsic+json": {
              "type": "string"
            }
          },
          "metadata": {},
          "execution_count": 95
        }
      ],
      "source": [
        "os.getcwd()"
      ]
    },
    {
      "cell_type": "markdown",
      "source": [
        "* `os.listdir()`: 현재 위치의 파일이나 폴더를 리스트로 반환합니다.\n",
        "\n",
        "```\n",
        "os.listdir()\n",
        "```"
      ],
      "metadata": {
        "id": "NOr6KLM2EnB3"
      }
    },
    {
      "cell_type": "code",
      "source": [
        "os.listdir()"
      ],
      "metadata": {
        "id": "nM74Br7EES9b",
        "colab": {
          "base_uri": "https://localhost:8080/"
        },
        "outputId": "086b04fa-380d-464a-f4fc-c24a0c3056ac"
      },
      "execution_count": null,
      "outputs": [
        {
          "output_type": "execute_result",
          "data": {
            "text/plain": [
              "['.config', 'sample_data']"
            ]
          },
          "metadata": {},
          "execution_count": 96
        }
      ]
    },
    {
      "cell_type": "markdown",
      "source": [
        "* `os.listdir(path)` : `path` 위치의 파일이나 폴더를 리스트로 반환합니다.\n",
        "\n",
        "```\n",
        "os.listdir('/content/sample_data')\n",
        "```"
      ],
      "metadata": {
        "id": "0oaPrldnIFf8"
      }
    },
    {
      "cell_type": "code",
      "source": [
        "os.listdir('/content/sample_data')"
      ],
      "metadata": {
        "id": "dkXWyVviITMD",
        "colab": {
          "base_uri": "https://localhost:8080/"
        },
        "outputId": "cce7d9e8-8cd1-4c32-e654-f7eae6c17ec7"
      },
      "execution_count": null,
      "outputs": [
        {
          "output_type": "execute_result",
          "data": {
            "text/plain": [
              "['README.md',\n",
              " 'anscombe.json',\n",
              " 'california_housing_test.csv',\n",
              " 'california_housing_train.csv',\n",
              " 'mnist_train_small.csv',\n",
              " 'mnist_test.csv']"
            ]
          },
          "metadata": {},
          "execution_count": 97
        }
      ]
    },
    {
      "cell_type": "markdown",
      "source": [
        "* `os.chdir(path)` : `path` 로 이동합니다. \n",
        "\n",
        "```\n",
        "os.chdir('/content/sample_data')\n",
        "print('현재위치:', os.getcwd())\n",
        "os.listdir()\n",
        "```"
      ],
      "metadata": {
        "id": "uiVOhdtUAoBa"
      }
    },
    {
      "cell_type": "code",
      "execution_count": null,
      "metadata": {
        "id": "-fU4jSgI1cjn",
        "colab": {
          "base_uri": "https://localhost:8080/"
        },
        "outputId": "22ea8a3c-8de9-4274-a5dc-e0d250faba4d"
      },
      "outputs": [
        {
          "output_type": "stream",
          "name": "stdout",
          "text": [
            "현재위치: /content/sample_data\n"
          ]
        },
        {
          "output_type": "execute_result",
          "data": {
            "text/plain": [
              "['README.md',\n",
              " 'anscombe.json',\n",
              " 'california_housing_test.csv',\n",
              " 'california_housing_train.csv',\n",
              " 'mnist_train_small.csv',\n",
              " 'mnist_test.csv']"
            ]
          },
          "metadata": {},
          "execution_count": 98
        }
      ],
      "source": [
        "os.chdir('/content/sample_data')\n",
        "print('현재위치:', os.getcwd())\n",
        "os.listdir()"
      ]
    },
    {
      "cell_type": "markdown",
      "source": [
        "* `/` : 최상위 폴더\n",
        "* `.` : 현재 경로를 나타냅니다.\n",
        "* `..` : 상위 폴더의 경로를 나타냅니다.\n",
        "\n",
        "```\n",
        "os.chdir('..')\n",
        "print('현재위치:', os.getcwd())\n",
        "os.listdir()\n",
        "```"
      ],
      "metadata": {
        "id": "LnjFzKGuE0iR"
      }
    },
    {
      "cell_type": "code",
      "execution_count": null,
      "metadata": {
        "id": "LbpNhNFv1cjo",
        "colab": {
          "base_uri": "https://localhost:8080/"
        },
        "outputId": "ea79973d-8c56-4570-a1c1-70b0c7fdef93"
      },
      "outputs": [
        {
          "output_type": "stream",
          "name": "stdout",
          "text": [
            "현재위치: /content\n"
          ]
        },
        {
          "output_type": "execute_result",
          "data": {
            "text/plain": [
              "['.config', 'sample_data']"
            ]
          },
          "metadata": {},
          "execution_count": 99
        }
      ],
      "source": [
        "os.chdir('..')\n",
        "print('현재위치:' ,os.getcwd())\n",
        "os.listdir()"
      ]
    },
    {
      "cell_type": "markdown",
      "source": [
        "#### **| glob** 라이브러리 이용하기\n",
        "\n",
        "\n",
        "```\n",
        "import glob\n",
        "```"
      ],
      "metadata": {
        "id": "b9-uHyseGHzY"
      }
    },
    {
      "cell_type": "code",
      "source": [
        "import glob "
      ],
      "metadata": {
        "id": "k-AdAJ1XGn-5"
      },
      "execution_count": null,
      "outputs": []
    },
    {
      "cell_type": "markdown",
      "source": [
        "* `glob.glob(path)` : `path` 에 `해당하는` 폴더와 파일들의 `절대` 경로를 리스트로 반환합니다.\n",
        "\n",
        "```\n",
        "glob.glob('/content/sample_data/*')\n",
        "```"
      ],
      "metadata": {
        "id": "EalTfNfRGiFT"
      }
    },
    {
      "cell_type": "code",
      "source": [
        "list_os = os.listdir('/content/sample_data')\n",
        "list_glob = glob.glob('/content/sample_data/*')  # /* 적어주어야 한다. ( * 전부다 )\n",
        "\n",
        "print(list_os)\n",
        "print(list_glob) # 나중에 파일 불러올 때 절대 경로가 필요한 경우가 많기에 이걸 더 자주 쓴다. "
      ],
      "metadata": {
        "id": "D0dlfvgWGjqZ",
        "colab": {
          "base_uri": "https://localhost:8080/"
        },
        "outputId": "c4a494f3-bf9c-49fb-99c1-808fdd42cf1d"
      },
      "execution_count": null,
      "outputs": [
        {
          "output_type": "stream",
          "name": "stdout",
          "text": [
            "['README.md', 'anscombe.json', 'california_housing_test.csv', 'california_housing_train.csv', 'mnist_train_small.csv', 'mnist_test.csv']\n",
            "['/content/sample_data/README.md', '/content/sample_data/anscombe.json', '/content/sample_data/california_housing_test.csv', '/content/sample_data/california_housing_train.csv', '/content/sample_data/mnist_train_small.csv', '/content/sample_data/mnist_test.csv']\n"
          ]
        }
      ]
    },
    {
      "cell_type": "markdown",
      "source": [
        "다음과 같이 `csv` 파일만 불러 올 수도 있습니다.\n",
        "```\n",
        "glob.glob('/content/sample_data/*csv')\n",
        "```"
      ],
      "metadata": {
        "id": "Yi2u428IIdjP"
      }
    },
    {
      "cell_type": "code",
      "source": [
        "glob.glob('/content/sample_data/*.csv') # 끝이 .csv 로 끝나는 아무거나\n"
      ],
      "metadata": {
        "id": "zrwry8cUHpo5",
        "colab": {
          "base_uri": "https://localhost:8080/"
        },
        "outputId": "397be3b5-7b6a-4816-f512-a3118b860646"
      },
      "execution_count": null,
      "outputs": [
        {
          "output_type": "execute_result",
          "data": {
            "text/plain": [
              "['/content/sample_data/california_housing_test.csv',\n",
              " '/content/sample_data/california_housing_train.csv',\n",
              " '/content/sample_data/mnist_train_small.csv',\n",
              " '/content/sample_data/mnist_test.csv']"
            ]
          },
          "metadata": {},
          "execution_count": 102
        }
      ]
    },
    {
      "cell_type": "markdown",
      "source": [
        "---\n",
        "### (2) 파일 읽기\n",
        "---\n",
        "\n",
        "파이썬 내장함수 중에는 파일을 여는 함수가 존재합니다. 또한 이렇게 가져온 파일을 열어서 읽고 닫는 메서드도 있습니다. 이를 사용해 보도록 합니다.\n",
        "\n",
        "우선 오늘 사용할 파일은 `smaple_data` 폴더에 있는 `california_housing_test.csv` 입니다. 이 파일의 경로를 미리 지정해 놓읍시다..\n",
        "\n",
        "```\n",
        "file_path = '/content/sample_data/california_housing_test.csv'\n",
        "```\n",
        "\n"
      ],
      "metadata": {
        "id": "ApqU4CXDoza5"
      }
    },
    {
      "cell_type": "code",
      "source": [
        "file_path = '/content/sample_data/california_housing_test.csv'"
      ],
      "metadata": {
        "id": "s9XSsxO1u6qJ"
      },
      "execution_count": null,
      "outputs": []
    },
    {
      "cell_type": "markdown",
      "source": [
        "\n",
        "* `open(file_path)` : 해당 `file`을 엽니다.\n",
        "  * `'r'` : 읽기 모드로 엽니다.\n",
        "  * `'w'` : 쓰기 모드로 엽니다.\n",
        "* `.close()`: 파일을 닫습니다.\n",
        "\n",
        "```\n",
        "f = open(file_path, \"r\") # 읽기모드로 열기\n",
        "f.close()\n",
        "```"
      ],
      "metadata": {
        "id": "yyndUntlu6xB"
      }
    },
    {
      "cell_type": "code",
      "execution_count": null,
      "metadata": {
        "id": "T0b9pix31cjo"
      },
      "outputs": [],
      "source": [
        "f = open(file_path, \"r\")\n",
        "f.close()"
      ]
    },
    {
      "cell_type": "markdown",
      "source": [
        "#### **| 데이터 한번에 읽기**\n",
        "\n",
        "* `.read()`: 파일을 읽어 문자열로 반환합니다.\n",
        "\n",
        "```\n",
        "f = open(file_path, \"r\") # 읽기모드로 열기\n",
        "contents = f.read() \n",
        "f.close()\n",
        "\n",
        "print(type(contents))\n",
        "contents\n",
        "```"
      ],
      "metadata": {
        "id": "EPUY-fB0lNpZ"
      }
    },
    {
      "cell_type": "code",
      "source": [
        "f = open(file_path, \"r\") # 읽기모드로 열기\n",
        "contents = f.read() \n",
        "f.close()\n",
        "\n",
        "print(type(contents)) # string type (하나의 문자이다)\n",
        "contents"
      ],
      "metadata": {
        "id": "oBVXfZYLlPAI"
      },
      "execution_count": null,
      "outputs": []
    },
    {
      "cell_type": "markdown",
      "source": [
        "#### **| 데이터 리스트로 읽기**\n",
        "\n",
        "가장 많이 사용되는 메서드는 `readlines()` 입니다.  이 메서드는 한줄씩 리스트로 반환해 줍니다.\n",
        "\n",
        "* `.readlines()`: 파일을 읽어 리스트로 반환합니다.\n",
        "\n",
        "```\n",
        "f = open(file_path, \"r\")\n",
        "lines = f.readlines() \n",
        "f.close()\n",
        "\n",
        "print(type(lines))\n",
        "lines\n",
        "```"
      ],
      "metadata": {
        "id": "X_CmRz3BvaeJ"
      }
    },
    {
      "cell_type": "code",
      "source": [
        "f = open(file_path, 'r')\n",
        "contents = f.readlines()\n",
        "f.close()\n",
        "\n",
        "print(type(contents), len(contents)) # list type \n",
        "contents[:2]"
      ],
      "metadata": {
        "id": "TJfTBQdXuquR",
        "colab": {
          "base_uri": "https://localhost:8080/"
        },
        "outputId": "3286957a-e344-4e99-8ebb-b4bf643bfd14"
      },
      "execution_count": null,
      "outputs": [
        {
          "output_type": "stream",
          "name": "stdout",
          "text": [
            "<class 'list'> 3001\n"
          ]
        },
        {
          "output_type": "execute_result",
          "data": {
            "text/plain": [
              "['\"longitude\",\"latitude\",\"housing_median_age\",\"total_rooms\",\"total_bedrooms\",\"population\",\"households\",\"median_income\",\"median_house_value\"\\n',\n",
              " '-122.050000,37.370000,27.000000,3885.000000,661.000000,1537.000000,606.000000,6.608500,344700.000000\\n']"
            ]
          },
          "metadata": {},
          "execution_count": 4
        }
      ]
    },
    {
      "cell_type": "markdown",
      "source": [
        "이 메서드가 가장 자주 사용되는 이유는 리스트를 아래와 같이 for문을 이용해 데이터를 처리하기가 편하기 때문입니다. \n",
        "\n",
        "```\n",
        "f = open(file_path, \"r\")\n",
        "lines = f.readlines() \n",
        "for line in lines:\n",
        "  print(type(line), line)\n",
        "\n",
        "f.close()\n",
        "```"
      ],
      "metadata": {
        "id": "TBSkrG5pzTDg"
      }
    },
    {
      "cell_type": "code",
      "source": [
        "f = open(file_path, 'r')\n",
        "lines = f.readlines()\n",
        "for line in lines:\n",
        "    print(type(line), line) #string type \n",
        "\n",
        "f.close()"
      ],
      "metadata": {
        "id": "L2xu_T3AzJDY"
      },
      "execution_count": null,
      "outputs": []
    },
    {
      "cell_type": "markdown",
      "source": [
        "#### **| 데이터 한줄씩 읽기**\n",
        "\n",
        "* `readline()`: 한줄씩 파일을 읽어 문자열로 반환합니다.\n",
        "\n",
        "```\n",
        "f = open(file_path, \"r\") \n",
        "\n",
        "line = f.readline()\n",
        "print(type(line), line)\n",
        "line = f.readline()\n",
        "print(type(line), line)\n",
        "line = f.readline()\n",
        "print(type(line), line)\n",
        "\n",
        "\n",
        "f.close()\n",
        "```\n",
        "\n"
      ],
      "metadata": {
        "id": "Rb0hO9iHKa2_"
      }
    },
    {
      "cell_type": "code",
      "source": [
        "f = open(file_path, 'r')\n",
        "line = f.readline()\n",
        "print(type(line), line)\n",
        "line = f.readline()\n",
        "print(type(line), line)\n",
        "line = f.readline()\n",
        "print(type(line), line) #전체가 하나의 string "
      ],
      "metadata": {
        "id": "4PTUnJ9RJwBT",
        "colab": {
          "base_uri": "https://localhost:8080/"
        },
        "outputId": "5631fba8-38ed-446c-fbc1-f02c0f89ca22"
      },
      "execution_count": null,
      "outputs": [
        {
          "output_type": "stream",
          "name": "stdout",
          "text": [
            "<class 'str'> \"longitude\",\"latitude\",\"housing_median_age\",\"total_rooms\",\"total_bedrooms\",\"population\",\"households\",\"median_income\",\"median_house_value\"\n",
            "\n",
            "<class 'str'> -122.050000,37.370000,27.000000,3885.000000,661.000000,1537.000000,606.000000,6.608500,344700.000000\n",
            "\n",
            "<class 'str'> -118.300000,34.260000,43.000000,1510.000000,310.000000,809.000000,277.000000,3.599000,176500.000000\n",
            "\n"
          ]
        }
      ]
    },
    {
      "cell_type": "markdown",
      "source": [
        "#### **| 연습문제**\n",
        "\n",
        "한번 실행 할 때마다 차례대로 한줄씩 문자열을 반환하는 `.readline()`을 이용해 데이터를 처리해 보도록 하겠습니다. \n",
        "\n"
      ],
      "metadata": {
        "id": "NQ_GbYiXLN2i"
      }
    },
    {
      "cell_type": "markdown",
      "source": [
        "**연습 01**\n",
        "\n",
        "첫번째 줄은 각 열에 대한 정보가 됩니다. 이를 `headers`라는 리스트로 담아 보도록 합시다. \n",
        "\n",
        "```\n",
        "f = open(file_path, \"r\") \n",
        "headers = f.readline()\n",
        "# 코드작성\n",
        "\n",
        "print(type(headers))\n",
        "headers\n",
        "```\n",
        "\n",
        "* 코드 결과\n",
        "\n",
        "```\n",
        "<class 'str'>\n",
        "\"longitude\",\"latitude\",\"housing_median_age\",\"total_rooms\",\"total_bedrooms\",\"population\",\"households\",\"median_income\",\"median_house_value\"\\n\n",
        "```\n",
        "\n",
        "* 변환 결과\n",
        "\n",
        "```\n",
        "<class 'list'>\n",
        "['longitude',\n",
        " 'latitude',\n",
        " 'housing_median_age',\n",
        " 'total_rooms',\n",
        " 'total_bedrooms',\n",
        " 'population',\n",
        " 'households',\n",
        " 'median_income',\n",
        " 'median_house_value']\n",
        "```"
      ],
      "metadata": {
        "id": "ey_R7ZgXnHdp"
      }
    },
    {
      "cell_type": "code",
      "source": [
        "with open(file_path, 'r') as f: \n",
        "    headers = f.readline()\n",
        "    headers = (headers.strip()).split(\",\")\n",
        "    print(headers)\n",
        "    headers = list(map(lambda x: x.strip('\"'), headers))\n",
        "headers"
      ],
      "metadata": {
        "colab": {
          "base_uri": "https://localhost:8080/"
        },
        "id": "j09kRaqlrPNH",
        "outputId": "ba3dd217-d3e2-4fe7-ae03-9a366a327730"
      },
      "execution_count": null,
      "outputs": [
        {
          "output_type": "stream",
          "name": "stdout",
          "text": [
            "['\"longitude\"', '\"latitude\"', '\"housing_median_age\"', '\"total_rooms\"', '\"total_bedrooms\"', '\"population\"', '\"households\"', '\"median_income\"', '\"median_house_value\"']\n"
          ]
        },
        {
          "output_type": "execute_result",
          "data": {
            "text/plain": [
              "['longitude',\n",
              " 'latitude',\n",
              " 'housing_median_age',\n",
              " 'total_rooms',\n",
              " 'total_bedrooms',\n",
              " 'population',\n",
              " 'households',\n",
              " 'median_income',\n",
              " 'median_house_value']"
            ]
          },
          "metadata": {},
          "execution_count": 16
        }
      ]
    },
    {
      "cell_type": "code",
      "source": [
        "# 여러가지 방법이 있으나 이게 정석\n",
        "f = open(file_path, \"r\") \n",
        "headers = f.readline()\n",
        "l = []\n",
        "headers = headers[:-1] # 이스케이프 문자제거 \n",
        "headers = headers.replace('\"', '')\n",
        "headers = headers.split(',')\n",
        "\n",
        "headers\n",
        "#print(type(headers))\n"
      ],
      "metadata": {
        "id": "O7zikq2uiNOw",
        "colab": {
          "base_uri": "https://localhost:8080/"
        },
        "outputId": "09fc79ca-9ee1-43b4-baac-9ca572707040"
      },
      "execution_count": null,
      "outputs": [
        {
          "output_type": "execute_result",
          "data": {
            "text/plain": [
              "['longitude',\n",
              " 'latitude',\n",
              " 'housing_median_age',\n",
              " 'total_rooms',\n",
              " 'total_bedrooms',\n",
              " 'population',\n",
              " 'households',\n",
              " 'median_income',\n",
              " 'median_house_value']"
            ]
          },
          "metadata": {},
          "execution_count": 109
        }
      ]
    },
    {
      "cell_type": "code",
      "source": [
        "f = open(file_path, \"r\") \n",
        "headers = f.readline()\n",
        "l = []\n",
        "headers = headers[:-1] # 이스케이프 문자제거 \n",
        "headers = headers.split(',')\n",
        "l = []\n",
        "for i in headers:\n",
        "    i = i.strip('\"')\n",
        "    l.append(i)\n",
        "headers = l\n",
        "print(headers)"
      ],
      "metadata": {
        "colab": {
          "base_uri": "https://localhost:8080/"
        },
        "id": "Z1Q9CHTRtVOx",
        "outputId": "070a73dd-7267-48e1-f2dd-f94f2983dbae"
      },
      "execution_count": null,
      "outputs": [
        {
          "output_type": "stream",
          "name": "stdout",
          "text": [
            "['longitude', 'latitude', 'housing_median_age', 'total_rooms', 'total_bedrooms', 'population', 'households', 'median_income', 'median_house_value']\n"
          ]
        }
      ]
    },
    {
      "cell_type": "markdown",
      "source": [
        "**연습 02**\n",
        "\n",
        "이번엔 두번째 줄 이후부터를 처리해 봅시다. 두번째 줄 부터는 각 header에 대한 수치값들이 들어 있습니다. \n",
        "\n",
        "\n",
        "```\n",
        "line = f.readline()\n",
        "# 코드 작성\n",
        "\n",
        "print(type(line))\n",
        "line\n",
        "```\n",
        "\n",
        "* 결과\n",
        "\n",
        "```\n",
        "<class 'str'>\n",
        "-120.650000,35.480000,19.000000,2310.000000,471.000000,1341.000000,441.000000,3.225000,166900.000000\\n\n",
        "```\n",
        "\n",
        "* 변환 결과\n",
        "\n",
        "```\n",
        "<class 'list'>\n",
        "[-121.43, 38.63, 43.0, 1009.0, 225.0, 604.0, 218.0, 1.6641, 67000.0]\n",
        "```"
      ],
      "metadata": {
        "id": "xjNUbzmwkQS5"
      }
    },
    {
      "cell_type": "code",
      "source": [
        "f = open(file_path, 'r')\n",
        "line = f.readline()\n",
        "line"
      ],
      "metadata": {
        "colab": {
          "base_uri": "https://localhost:8080/",
          "height": 53
        },
        "id": "MlA_p54zvhL4",
        "outputId": "eb6ee6ce-b6fe-4ee3-f3e3-6369277f22f2"
      },
      "execution_count": null,
      "outputs": [
        {
          "output_type": "execute_result",
          "data": {
            "text/plain": [
              "'\"longitude\",\"latitude\",\"housing_median_age\",\"total_rooms\",\"total_bedrooms\",\"population\",\"households\",\"median_income\",\"median_house_value\"\\n'"
            ],
            "application/vnd.google.colaboratory.intrinsic+json": {
              "type": "string"
            }
          },
          "metadata": {},
          "execution_count": 27
        }
      ]
    },
    {
      "cell_type": "code",
      "source": [
        "f = open(file_path, 'r')\n",
        "line = f.readline()\n",
        "line = f.readline()\n",
        "line = list(map(float, list(map(lambda x: x.strip('\"'), (line.strip()).split(',')))))\n",
        "line"
      ],
      "metadata": {
        "colab": {
          "base_uri": "https://localhost:8080/"
        },
        "id": "y-zSpODHusgF",
        "outputId": "c83f4df0-d1e4-417a-86f1-25af344faa44"
      },
      "execution_count": null,
      "outputs": [
        {
          "output_type": "execute_result",
          "data": {
            "text/plain": [
              "[-122.05, 37.37, 27.0, 3885.0, 661.0, 1537.0, 606.0, 6.6085, 344700.0]"
            ]
          },
          "metadata": {},
          "execution_count": 28
        }
      ]
    },
    {
      "cell_type": "code",
      "source": [
        "line = f.readline()\n",
        "\n",
        "line = line.strip().split(',')  # 다시 오픈을 하면 다시 처음부터 나온다. \n",
        "line = list(map(float, line))\n",
        "print(type(line))\n",
        "line"
      ],
      "metadata": {
        "id": "EutQPz_DLe8t",
        "colab": {
          "base_uri": "https://localhost:8080/"
        },
        "outputId": "87dacd1a-95be-4ba9-8191-ee6bf06a5b82"
      },
      "execution_count": null,
      "outputs": [
        {
          "output_type": "stream",
          "name": "stdout",
          "text": [
            "<class 'list'>\n"
          ]
        },
        {
          "output_type": "execute_result",
          "data": {
            "text/plain": [
              "[-119.67, 36.33, 19.0, 1241.0, 244.0, 850.0, 237.0, 2.9375, 81700.0]"
            ]
          },
          "metadata": {},
          "execution_count": 22
        }
      ]
    },
    {
      "cell_type": "code",
      "source": [
        "line = f.readline()\n",
        "line = line[:-1]#이스케이프 문자 지우기 \n",
        "line = line.split(',')# , 기준으로 나누기 \n",
        "line = list(map(lambda x : float(x), line))\n",
        "print(type(line))\n",
        "line"
      ],
      "metadata": {
        "colab": {
          "base_uri": "https://localhost:8080/"
        },
        "id": "6vhBh3kpvr0q",
        "outputId": "21a06d19-c1ae-41f0-f2a8-11cf76daec93"
      },
      "execution_count": null,
      "outputs": [
        {
          "output_type": "stream",
          "name": "stdout",
          "text": [
            "<class 'list'>\n"
          ]
        },
        {
          "output_type": "execute_result",
          "data": {
            "text/plain": [
              "[-118.3, 34.26, 43.0, 1510.0, 310.0, 809.0, 277.0, 3.599, 176500.0]"
            ]
          },
          "metadata": {},
          "execution_count": 112
        }
      ]
    },
    {
      "cell_type": "markdown",
      "source": [
        "**연습 03**\n",
        "\n",
        "이제 반복문을 이용해 `line` 을 `lines`리스트에 넣어보도록 하겠습니다.\n",
        "그런데 우리는 `.readline()`를 통해 나오는 데이터가 몇줄까지 있는지 모르는 상태죠. 이럴 때는 `while`문을 사용해서 처리해 줍시다. \n",
        "\n"
      ],
      "metadata": {
        "id": "aZn3xeJAn2Y5"
      }
    },
    {
      "cell_type": "code",
      "source": [
        "\n",
        "lines = []\n",
        "\n",
        "while True : \n",
        "    line = f.readline()\n",
        "    if not line : break \n",
        "    line = list(map(float,list(map(lambda x: x.strip('\"'), (line.strip()).split(',')  ))))\n",
        "    lines.append(line)\n",
        "lines"
      ],
      "metadata": {
        "id": "uVdvbBlpwZn6"
      },
      "execution_count": null,
      "outputs": []
    },
    {
      "cell_type": "code",
      "source": [
        "lines = []\n",
        "\n",
        "while True: \n",
        "    line = f.readline()\n",
        "    if not line: break\n",
        "    line = line.strip().split(',')  \n",
        "    line = list(map(float, line))\n",
        "    lines.append(line)\n",
        "\n",
        "print(type(lines), len(lines))\n",
        "lines[:2]"
      ],
      "metadata": {
        "id": "HmotMPotii95",
        "colab": {
          "base_uri": "https://localhost:8080/"
        },
        "outputId": "d08f10c4-21e2-4e8f-8865-a019a13a5903"
      },
      "execution_count": null,
      "outputs": [
        {
          "output_type": "stream",
          "name": "stdout",
          "text": [
            "<class 'list'> 0\n"
          ]
        },
        {
          "output_type": "execute_result",
          "data": {
            "text/plain": [
              "[]"
            ]
          },
          "metadata": {},
          "execution_count": 26
        }
      ]
    },
    {
      "cell_type": "markdown",
      "source": [
        "파일을 모두 읽고 처리를 했으면 파일을 닫아주는 것을 잊지마세요\n",
        "```\n",
        "f.close()\n",
        "```"
      ],
      "metadata": {
        "id": "1Lmc1st0rF_4"
      }
    },
    {
      "cell_type": "code",
      "source": [
        "f.close()"
      ],
      "metadata": {
        "id": "MQsVafZGm60Q"
      },
      "execution_count": null,
      "outputs": []
    },
    {
      "cell_type": "markdown",
      "source": [
        "**연습 04**\n",
        "\n",
        "전체 데이터 처리 코드를 정리합시다."
      ],
      "metadata": {
        "id": "sbxRlP8Eyo9Y"
      }
    },
    {
      "cell_type": "code",
      "source": [
        "#f = open(file_path, \"r\") \n",
        "with open(file_path, 'r') as f:\n",
        "    headers = f.readline()\n",
        "    headers = headers[:-1] # 이스케이프 문자제거 \n",
        "    headers = headers.replace('\"', '')\n",
        "    headers = headers.split(',')\n",
        "    print(headers)\n",
        "\n",
        "    lines = []\n",
        "    while True: \n",
        "        line = f.readline()\n",
        "        if not line: break\n",
        "        line = line.strip().split(',')  \n",
        "        line = list(map(float, line))\n",
        "        lines.append(line)\n",
        "\n",
        "#f.close()\n",
        "print(f\"Number of columns: {len(headers)}\\nNumber of Data :{len(lines)}\")\n"
      ],
      "metadata": {
        "id": "_Jma0_G0uE4r",
        "colab": {
          "base_uri": "https://localhost:8080/"
        },
        "outputId": "b6066baa-4212-43c9-a1ed-c7a174e72627"
      },
      "execution_count": null,
      "outputs": [
        {
          "output_type": "stream",
          "name": "stdout",
          "text": [
            "['longitude', 'latitude', 'housing_median_age', 'total_rooms', 'total_bedrooms', 'population', 'households', 'median_income', 'median_house_value']\n",
            "Number of columns: 9\n",
            "Number of Data :3000\n"
          ]
        }
      ]
    },
    {
      "cell_type": "markdown",
      "source": [
        "`header`와 `linese`를 이용해 데이터의 컬럼이 총 몇개인지, 데이터의 개수는 총 몇개인지 알아보세요.\n",
        "\n",
        "* 컬럼의 개수:\n",
        "* 데이터의 개수: "
      ],
      "metadata": {
        "id": "XTyxly3irkgB"
      }
    },
    {
      "cell_type": "code",
      "source": [
        ""
      ],
      "metadata": {
        "id": "_tFJhRaNpcsn"
      },
      "execution_count": null,
      "outputs": []
    },
    {
      "cell_type": "markdown",
      "source": [
        "---\n",
        "### (3) 파일 쓰기\n",
        "---\n",
        "\n"
      ],
      "metadata": {
        "id": "4mgbs3-trWdg"
      }
    },
    {
      "cell_type": "markdown",
      "source": [
        "#### **| 파일 만들기**\n",
        "\n",
        "파일 읽기와 마찬가지로 파일 쓰기도 `open()` 함수를 사용합니다. 모드는 쓰기 모드인 `'w'`을 사용합니다. 기존에 있는 파일을 쓰기 모드로 열면 기존 파일의 데이터가 모두 날아가게 되니 주의하셔야 합니다.  \n",
        "\n",
        "\n",
        "```\n",
        "save_path = 'smaple_data/test1.txt'\n",
        "f = open(save_path, 'w')\n",
        "f.close()\n",
        "````\n",
        "`save_path`를 지정 할 때는 파일을 저장할 폴더와 파일명을 함께 써줍니다.\n"
      ],
      "metadata": {
        "id": "HCy4QIBs02_A"
      }
    },
    {
      "cell_type": "code",
      "source": [
        "save_path = 'results/test1.txt'\n",
        "f = open(save_path, 'w')\n",
        "f.close()"
      ],
      "metadata": {
        "id": "yZ98pahX0NSq"
      },
      "execution_count": null,
      "outputs": []
    },
    {
      "cell_type": "code",
      "source": [
        "save_path = 'results/test1.txt'\n",
        "with open(save_path, 'w') as f:\n",
        "    pass\n"
      ],
      "metadata": {
        "id": "ag33xhgH-OBo"
      },
      "execution_count": null,
      "outputs": []
    },
    {
      "cell_type": "markdown",
      "source": [
        "#### | 데이터 작성하기\n",
        "\n",
        "위에서 만든 파일을 열어보면 아무것도 적혀 있지 않은 빈 파일임을 볼 수 있습니다. 이제 이 파일에 글을 작성해 보도록 하겠습니다. \n",
        "\n",
        "* `.write(str)`: 파일에 문자열을 입력합니다. \n",
        "\n",
        "```\n",
        "f = open(save_path, 'w')\n",
        "w = '안녕하세요'\n",
        "f.write(w)\n",
        "f.close()\n",
        "```"
      ],
      "metadata": {
        "id": "V4r3xLmi0vh5"
      }
    },
    {
      "cell_type": "code",
      "source": [
        "save_path = 'results/test1.txt'\n",
        "with open(save_path, 'w') as f:\n",
        "    f.write(\"안녕하세요\")\n",
        "    w ='저는 뽀식이 입니다.'\n",
        "    f.write(w)\n"
      ],
      "metadata": {
        "id": "wXbHnWez0WqQ"
      },
      "execution_count": null,
      "outputs": []
    },
    {
      "cell_type": "markdown",
      "source": [
        "아래와 같이 for문을 이용해 여러줄을 입력할 수 있습니다.\n",
        "\n",
        "```\n",
        "f = open(save_path, 'w')\n",
        "for i in range(10):\n",
        "  w = f'{i}. 안녕하세요\\n'\n",
        "  f.write(w)\n",
        "f.close()\n",
        "```"
      ],
      "metadata": {
        "id": "fnXXYKUr1XKg"
      }
    },
    {
      "cell_type": "code",
      "source": [
        "save_path = 'results/test1.txt'\n",
        "with open(save_path, 'w') as f:\n",
        "    for i in range(10):\n",
        "        w = f'{i}: 안녕하세요' # 가로로 계속 써졌다. \n",
        "        f.write(w) #write 는 줄바꿈 기능이 없다. 문자열 자체에 줄바꿈을 해주어야한다. \n"
      ],
      "metadata": {
        "id": "EDwqn3e91iVB"
      },
      "execution_count": null,
      "outputs": []
    },
    {
      "cell_type": "code",
      "source": [
        "save_path = 'results/test1.txt'\n",
        "with open(save_path, 'w') as f:\n",
        "    for i in range(10):\n",
        "        w = f'{i}: 안녕하세요\\n' \n",
        "        f.write(w) \n"
      ],
      "metadata": {
        "id": "hzs6Macn_I_x"
      },
      "execution_count": null,
      "outputs": []
    },
    {
      "cell_type": "markdown",
      "source": [
        "#### | 기존 파일에 데이터 작성하기\n",
        "\n",
        "`'w'` 모드를 사용하면 불러오는 파일의 데이터가 모두 날아가게 된다고 하였습니다. 따라서 기존 파일에 데이터를 추가로 입력할 때는 모드 `'a'` 를 이용해 파일을 열어줍니다.\n",
        "\n",
        "```\n",
        "f = open(save_path, 'a')\n",
        "for i in range(10):\n",
        "  w = f'{i}. 안녕하세요\\n'\n",
        "  f.write(w)\n",
        "f.close()\n",
        "```"
      ],
      "metadata": {
        "id": "kwjbk2mk15EI"
      }
    },
    {
      "cell_type": "code",
      "source": [
        "save_path = 'results/test1.txt'\n",
        "with open(save_path, 'a') as f:\n",
        "    for i in range(10,15):\n",
        "        w = f'{i}: 안녕하세요\\n'\n",
        "        f.write(w) \n"
      ],
      "metadata": {
        "id": "SrYOEOZw2N4A"
      },
      "execution_count": null,
      "outputs": []
    },
    {
      "cell_type": "code",
      "source": [
        "save_path = 'results/test2.txt'\n",
        "with open(save_path, 'a') as f:\n",
        "    for i in range(10,15):\n",
        "        w = f'{i}: 안녕하세요\\n'\n",
        "        f.write(w) "
      ],
      "metadata": {
        "id": "jgKIuEZzAFJb"
      },
      "execution_count": null,
      "outputs": []
    },
    {
      "cell_type": "markdown",
      "source": [
        "## 문제풀이\n",
        "---\n",
        "\n"
      ],
      "metadata": {
        "id": "jKvwT4LbkHNv"
      }
    },
    {
      "cell_type": "markdown",
      "source": [
        "**예제 01**\n",
        "\n",
        "현재 경로를 문자열 `this_dir` 로 지정하세요\n"
      ],
      "metadata": {
        "id": "TtahL9hvkJNg"
      }
    },
    {
      "cell_type": "code",
      "source": [
        ""
      ],
      "metadata": {
        "id": "iBD3uSC0F8Rn"
      },
      "execution_count": null,
      "outputs": []
    },
    {
      "cell_type": "code",
      "source": [
        "import os\n",
        "this_dir = os.getcwd() #이거 경로 나오는거 문자열\n",
        "this_dir\n"
      ],
      "metadata": {
        "id": "VI7b0SUM6i_Z",
        "colab": {
          "base_uri": "https://localhost:8080/"
        },
        "outputId": "40d554b0-3bf3-45b3-911c-3b9cf2d8f6af"
      },
      "execution_count": null,
      "outputs": [
        {
          "output_type": "execute_result",
          "data": {
            "text/plain": [
              "'/content'"
            ],
            "application/vnd.google.colaboratory.intrinsic+json": {
              "type": "string"
            }
          },
          "metadata": {},
          "execution_count": 116
        }
      ]
    },
    {
      "cell_type": "markdown",
      "source": [
        "**예제 02**\n",
        "\n",
        "데이터가 있는 폴더 `/content/sample_data` 를 `ds_dir`로 지정하세요\n"
      ],
      "metadata": {
        "id": "5IFfmiZx8-cw"
      }
    },
    {
      "cell_type": "code",
      "source": [
        ""
      ],
      "metadata": {
        "id": "nNVn4KVSGzNM"
      },
      "execution_count": null,
      "outputs": []
    },
    {
      "cell_type": "code",
      "source": [
        "ds_dir = '/content/sample_data'"
      ],
      "metadata": {
        "id": "kg7hhOxs8-cw"
      },
      "execution_count": null,
      "outputs": []
    },
    {
      "cell_type": "markdown",
      "source": [
        "**예제 03**\n",
        "\n",
        "`ds_dir`에 있는 파일들을 모두 출력하세요.\n"
      ],
      "metadata": {
        "id": "vOup0fDy94Uw"
      }
    },
    {
      "cell_type": "code",
      "source": [
        "os.listdir(ds_dir)"
      ],
      "metadata": {
        "id": "_WGnm-MX94Uw",
        "colab": {
          "base_uri": "https://localhost:8080/"
        },
        "outputId": "2b858bef-ed66-44c1-f514-b888a417ae2d"
      },
      "execution_count": null,
      "outputs": [
        {
          "output_type": "execute_result",
          "data": {
            "text/plain": [
              "['README.md',\n",
              " 'anscombe.json',\n",
              " 'california_housing_test.csv',\n",
              " 'california_housing_train.csv',\n",
              " 'mnist_train_small.csv',\n",
              " 'mnist_test.csv']"
            ]
          },
          "metadata": {},
          "execution_count": 118
        }
      ]
    },
    {
      "cell_type": "markdown",
      "source": [
        "**예제 04**\n",
        "\n",
        "`ds_dir`에 있는 파일들 중 `california`로 시작하는 파일만 `ds_paths`로 바인딩하세요. \n"
      ],
      "metadata": {
        "id": "chSVvX55-Coo"
      }
    },
    {
      "cell_type": "code",
      "source": [
        "import glob \n",
        "ds_paths = glob.glob(ds_dir+'/california*')\n",
        "ds_paths\n",
        "\n",
        "ds_paths = glob.glob(ds_dir + '/*test*')\n",
        "ds_paths"
      ],
      "metadata": {
        "id": "CUwbqdpy-Coo",
        "colab": {
          "base_uri": "https://localhost:8080/"
        },
        "outputId": "14760a67-9338-4ba3-80b7-e75e19f7d0b0"
      },
      "execution_count": null,
      "outputs": [
        {
          "output_type": "execute_result",
          "data": {
            "text/plain": [
              "['/content/sample_data/california_housing_test.csv',\n",
              " '/content/sample_data/mnist_test.csv']"
            ]
          },
          "metadata": {},
          "execution_count": 125
        }
      ]
    },
    {
      "cell_type": "markdown",
      "source": [
        "**예제 05**\n",
        "\n",
        "`ds_paths`에 해당하는 파일들의 경로를 for문을 이용해 하나씩 출력하세요."
      ],
      "metadata": {
        "id": "Il7QIp2W-u-I"
      }
    },
    {
      "cell_type": "code",
      "source": [
        "for i in ds_paths:\n",
        "    print(i)"
      ],
      "metadata": {
        "id": "tl-amHy9-u-M",
        "colab": {
          "base_uri": "https://localhost:8080/"
        },
        "outputId": "6bce854d-ce5d-46a2-82b8-62b76656d7e5"
      },
      "execution_count": null,
      "outputs": [
        {
          "output_type": "stream",
          "name": "stdout",
          "text": [
            "/content/sample_data/california_housing_test.csv\n",
            "/content/sample_data/california_housing_train.csv\n"
          ]
        }
      ]
    },
    {
      "cell_type": "markdown",
      "source": [
        "**예제 06**\n",
        "\n",
        "`ds_paths`에 해당하는 파일들을 for문을 이용해 하나씩 열고 각 파일의 첫번재 줄만 출력하세요."
      ],
      "metadata": {
        "id": "Cy0SxfiE-_yZ"
      }
    },
    {
      "cell_type": "code",
      "source": [
        "for i in ds_paths:\n",
        "    with open(i, 'r') as f:\n",
        "        line = f.readline()\n",
        "        print(line)\n"
      ],
      "metadata": {
        "id": "b4WTJROP-_ya",
        "colab": {
          "base_uri": "https://localhost:8080/"
        },
        "outputId": "2879a6df-24fb-4a65-bff5-0f81dd0c0e7e"
      },
      "execution_count": null,
      "outputs": [
        {
          "output_type": "stream",
          "name": "stdout",
          "text": [
            "\"longitude\",\"latitude\",\"housing_median_age\",\"total_rooms\",\"total_bedrooms\",\"population\",\"households\",\"median_income\",\"median_house_value\"\n",
            "\n",
            "\"longitude\",\"latitude\",\"housing_median_age\",\"total_rooms\",\"total_bedrooms\",\"population\",\"households\",\"median_income\",\"median_house_value\"\n",
            "\n"
          ]
        }
      ]
    },
    {
      "cell_type": "markdown",
      "source": [
        "**예제 07**\n",
        "\n",
        "`연습문제 04` 의 코드를 함수 `preprocess1()`로 바꿉니다. 이 함수의 인풋은 데이터의 경로 `path` 이고 아웃풋은 `header`와 `lines` 입니다. \n",
        "\n",
        "```\n",
        "header, lines = preprocess1('/content/sample_data/california_housing_test.csv')\n",
        "```\n"
      ],
      "metadata": {
        "id": "Pc5n2Ks2_v5X"
      }
    },
    {
      "cell_type": "code",
      "source": [
        "def preprocess1(path):\n",
        "    with open(path, 'r') as f:\n",
        "        header = f.readline()\n",
        "        header = (header.strip()).split(',')\n",
        "        header = list(map(lambda x: x.strip('\"'), header))\n",
        "        lines = []\n",
        "        while True:\n",
        "            line = f.readline()\n",
        "            if not line :break\n",
        "            line = list(map(float, (line.strip()).split(',')))\n",
        "            lines.append(line)\n",
        "    return header, lines \n",
        "\n",
        "header, lines = preprocess1('/content/sample_data/california_housing_test.csv')\n",
        "print(len(header), len(lines))\n",
        "print(header)\n",
        "print(lines[:2])"
      ],
      "metadata": {
        "colab": {
          "base_uri": "https://localhost:8080/"
        },
        "id": "idCb1jH8wIRL",
        "outputId": "81fbe16f-6942-4414-ac99-0804dc34fa1a"
      },
      "execution_count": null,
      "outputs": [
        {
          "output_type": "stream",
          "name": "stdout",
          "text": [
            "9 3000\n",
            "['longitude', 'latitude', 'housing_median_age', 'total_rooms', 'total_bedrooms', 'population', 'households', 'median_income', 'median_house_value']\n",
            "[[-122.05, 37.37, 27.0, 3885.0, 661.0, 1537.0, 606.0, 6.6085, 344700.0], [-118.3, 34.26, 43.0, 1510.0, 310.0, 809.0, 277.0, 3.599, 176500.0]]\n"
          ]
        }
      ]
    },
    {
      "cell_type": "code",
      "source": [
        "def preprocess1(path):\n",
        "    with open(path, 'r') as f:\n",
        "        header = f.readline()\n",
        "        header = header[:-1]  \n",
        "        header = header.replace('\"', '')\n",
        "        header = header.split(',')\n",
        "\n",
        "        lines = []\n",
        "        while True: \n",
        "            line = f.readline()\n",
        "            if not line: break\n",
        "            line = line.strip().split(',')  \n",
        "            line = list(map(float, line))\n",
        "            lines.append(line)\n",
        "        return header, lines\n",
        "\n",
        "header, line = preprocess1('/content/sample_data/california_housing_test.csv')\n",
        "print(header)\n",
        "print('_________________')\n",
        "print(line[:2])"
      ],
      "metadata": {
        "id": "ImqjXN3L_v5X",
        "colab": {
          "base_uri": "https://localhost:8080/"
        },
        "outputId": "b14a9ef9-73a3-45f3-ba1c-3175a573cfe6"
      },
      "execution_count": null,
      "outputs": [
        {
          "output_type": "stream",
          "name": "stdout",
          "text": [
            "['longitude', 'latitude', 'housing_median_age', 'total_rooms', 'total_bedrooms', 'population', 'households', 'median_income', 'median_house_value']\n",
            "_________________\n",
            "[[-122.05, 37.37, 27.0, 3885.0, 661.0, 1537.0, 606.0, 6.6085, 344700.0], [-118.3, 34.26, 43.0, 1510.0, 310.0, 809.0, 277.0, 3.599, 176500.0]]\n"
          ]
        }
      ]
    },
    {
      "cell_type": "markdown",
      "source": [
        "**예제 08**\n",
        "\n",
        "함수 `preprocess2()`를 만들어보세요. `preprocess1()`과 똑같은 기능을 합니다. \n",
        "다만 함수 내에서 데이터를 가져올 때 `.readline()` 메서드가 아닌 `.readlines()`를 사용하여 데이터를 처리해 주세요.\n",
        "\n",
        "```\n",
        "header, lines = preprocess2('/content/sample_data/california_housing_test.csv')\n",
        "```\n"
      ],
      "metadata": {
        "id": "yqkm6FzrAgf3"
      }
    },
    {
      "cell_type": "code",
      "source": [
        "## 불가능 \n",
        "def preprocess2(path):\n",
        "    with open(path, 'r') as f:\n",
        "        contents = []\n",
        "        header = f.readlines()[0]\n",
        "        header = (header.strip()).split(',')\n",
        "        header = list(map(lambda x: x.strip(), header))\n",
        "\n",
        "        lines = f.readlines()[1:] \n",
        "        # ** readlines는 위에서 슬라이싱을 했더라도 한 번 쓰면 나머지는 empty list로 리턴 \n",
        "        print(lines)\n",
        "        for line in lines:\n",
        "            line = line.strip().split(',')\n",
        "            line = list(map(float, line))\n",
        "            contents.append(line)\n",
        "    return contents\n",
        "\n",
        "contents = preprocess2('/content/sample_data/california_housing_test.csv')\n",
        "print(contents)\n",
        "\n"
      ],
      "metadata": {
        "colab": {
          "base_uri": "https://localhost:8080/"
        },
        "id": "jzfFcKtIyiEt",
        "outputId": "c9ad7320-2c57-4d18-e3a9-dd8ccb089bac"
      },
      "execution_count": null,
      "outputs": [
        {
          "output_type": "stream",
          "name": "stdout",
          "text": [
            "[]\n",
            "[]\n"
          ]
        }
      ]
    },
    {
      "cell_type": "code",
      "source": [
        "def preprocess2(path):\n",
        "    with open(path, 'r') as f:\n",
        "        lines = f.readlines()\n",
        "        header = (lines[0].strip()).split(',')\n",
        "        header = list(map(lambda x: x.strip('\"'), header))\n",
        "\n",
        "        lines = lines[1:]\n",
        "        contents = []\n",
        "        for line in lines:\n",
        "            line = line.strip().split(',')\n",
        "            line = list(map(float, line))\n",
        "            contents.append(line)\n",
        "    return header, contents\n",
        "\n",
        "header, contents = preprocess2('/content/sample_data/california_housing_test.csv')\n",
        "print(header)\n",
        "print(contents[:1])\n"
      ],
      "metadata": {
        "colab": {
          "base_uri": "https://localhost:8080/"
        },
        "id": "s0y81cWE10ho",
        "outputId": "d0aa604f-3fd3-444a-dbb0-dbbf0d3b1a36"
      },
      "execution_count": null,
      "outputs": [
        {
          "output_type": "stream",
          "name": "stdout",
          "text": [
            "['longitude', 'latitude', 'housing_median_age', 'total_rooms', 'total_bedrooms', 'population', 'households', 'median_income', 'median_house_value']\n",
            "[[-122.05, 37.37, 27.0, 3885.0, 661.0, 1537.0, 606.0, 6.6085, 344700.0]]\n"
          ]
        }
      ]
    },
    {
      "cell_type": "markdown",
      "source": [
        "**예제 09**\n",
        "\n",
        "먼저 텍스트 파일을 저장할 폴더 `results`를 만들어주세요. \n",
        "\n",
        "아래와 같이 구구단 2단부터 9단까지 적힌 텍스트파일 `01_gugudan.txt`를 작성하세요. \n",
        "\n",
        "이때 `01_gugudan.txt` 파일은 `results`폴더에 저장되어야 합니다. \n",
        "\n",
        "* `01_gugudan.txt`\n",
        "\n",
        "```\n",
        "---2단---\n",
        "2 x 1 = 2\n",
        "2 x 2 = 4\n",
        "2 x 3 = 6\n",
        "2 x 4 = 8\n",
        "2 x 5 = 10\n",
        "2 x 6 = 12\n",
        "2 x 7 = 14\n",
        "2 x 8 = 16\n",
        "2 x 9 = 18\n",
        "---3단---\n",
        "3 x 1 = 3\n",
        "3 x 2 = 6\n",
        "3 x 3 = 9\n",
        "...\n",
        "\n",
        "```\n"
      ],
      "metadata": {
        "id": "2F-LUVbNA7-I"
      }
    },
    {
      "cell_type": "code",
      "source": [
        "with open('results/01_gugudan.txt', 'w') as f:\n",
        "    for i in range (2,10):\n",
        "        f.write(f'---{i}단---\\n')\n",
        "        for j in range (1, 10):\n",
        "            f.write(f\"{i} x {j} = {i * j}\\n\")\n",
        "\n",
        "            "
      ],
      "metadata": {
        "id": "O3zUdbcPA7-J"
      },
      "execution_count": null,
      "outputs": []
    },
    {
      "cell_type": "markdown",
      "source": [
        "**예제 10**\n",
        "\n",
        "위에서 작성한 `01_gugudan.txt`에 구구단 12단을 이어서 작성해 주세요. \n",
        "\n",
        "작성이 끝난 후에는 `results`폴더를 다운받아 깃허브 레포지토리에 업로드 해주세요.\n"
      ],
      "metadata": {
        "id": "wTCLvsjBBemU"
      }
    },
    {
      "cell_type": "code",
      "source": [
        "with open('results/01_gugudan.txt', 'a') as f:\n",
        "    for i in range(10,13):\n",
        "        f.write(f'---{i}단---\\n')\n",
        "        for j in range(1,10):\n",
        "            f.write(f'{i} x {j} = {i*j}\\n')"
      ],
      "metadata": {
        "id": "qCQHAhFMBemU"
      },
      "execution_count": null,
      "outputs": []
    }
  ]
}