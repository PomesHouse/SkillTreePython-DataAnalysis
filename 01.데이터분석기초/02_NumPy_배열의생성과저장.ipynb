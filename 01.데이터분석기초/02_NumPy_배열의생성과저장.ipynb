{
  "nbformat": 4,
  "nbformat_minor": 0,
  "metadata": {
    "colab": {
      "name": "02_NumPy-배열의생성과저장.ipynb",
      "provenance": [],
      "collapsed_sections": [],
      "include_colab_link": true
    },
    "kernelspec": {
      "name": "python3",
      "display_name": "Python 3"
    },
    "language_info": {
      "name": "python"
    }
  },
  "cells": [
    {
      "cell_type": "markdown",
      "metadata": {
        "id": "view-in-github",
        "colab_type": "text"
      },
      "source": [
        "<a href=\"https://colab.research.google.com/github/PomesHouse/SkillTreePython-DataAnalysis/blob/main/01.%EB%8D%B0%EC%9D%B4%ED%84%B0%EB%B6%84%EC%84%9D%EA%B8%B0%EC%B4%88/02_NumPy_%EB%B0%B0%EC%97%B4%EC%9D%98%EC%83%9D%EC%84%B1%EA%B3%BC%EC%A0%80%EC%9E%A5.ipynb\" target=\"_parent\"><img src=\"https://colab.research.google.com/assets/colab-badge.svg\" alt=\"Open In Colab\"/></a>"
      ]
    },
    {
      "cell_type": "markdown",
      "metadata": {
        "id": "jgFAOz-Tw1VI"
      },
      "source": [
        "# CH02. Numpy  - 배열의 생성과 저장\n",
        "\n",
        "---\n",
        "* 날짜:\n",
        "* 이름:\n"
      ]
    },
    {
      "cell_type": "markdown",
      "source": [
        "## 개념정리\n",
        "\n",
        "`Numpy`(Numerical Python)는 포괄적인 함수, 난수생성, 선형대수학 등 고성능 수학 및 과학 계산에 효울적인 파이썬 라이브러리 입니다. 계산의 편리를 위한 배열(array)를 제공하며 이 배열은 파이썬의 list와 비슷하지만 다차원 데이터를 처리할 수 있고 더 효과적인 다차원 연산이 가능합니다. `Numpy`는 데이터과학의 핵심이라 할 수 있습니다.\n",
        "\n",
        "\n",
        "> [NumPy Hompage](https://numpy.org/)\n",
        "\n",
        "\n",
        "\n",
        "```\n",
        "import numpy as np\n",
        "```\n"
      ],
      "metadata": {
        "id": "i1Rco0Orob6Z"
      }
    },
    {
      "cell_type": "code",
      "source": [
        "import numpy as np"
      ],
      "metadata": {
        "id": "3IDspyuAtqd7"
      },
      "execution_count": null,
      "outputs": []
    },
    {
      "cell_type": "markdown",
      "metadata": {
        "id": "HjPXsM8C5ULZ"
      },
      "source": [
        "---\n",
        "### **(1) 리스트와 배열**\n",
        "---\n",
        "\n",
        "넘파이의 배열은 파이썬 리스트와 잘 호환 됩니다. 리스트를 생성해 봅시다. \n",
        "\n",
        "```\n",
        "l = [1,2,3,4,5]\n",
        "```\n"
      ]
    },
    {
      "cell_type": "code",
      "source": [
        "l = [1,2,3,4,5]"
      ],
      "metadata": {
        "id": "NHAp3qbStddi"
      },
      "execution_count": null,
      "outputs": []
    },
    {
      "cell_type": "code",
      "source": [
        "l = [[1,2],[3,4]] #list를 사용했을 때 얻을 수 있는 정보는 len밖에 없기에 numpy 배열을 사용한다. "
      ],
      "metadata": {
        "id": "jbqLJrviT6IO"
      },
      "execution_count": null,
      "outputs": []
    },
    {
      "cell_type": "markdown",
      "source": [
        "* `np.array(l)` : 리스트 `l`을 넘파이 배열로 변환합니다. \n",
        "\n",
        "이제 이 리스트를 넘파이 배열로 변환해 봅시다. \n",
        "\n",
        "```\n",
        "a = np.array(l)\n",
        "```"
      ],
      "metadata": {
        "id": "_uucUoA4fcgT"
      }
    },
    {
      "cell_type": "code",
      "metadata": {
        "id": "9pxx7Zy53xFz",
        "colab": {
          "base_uri": "https://localhost:8080/"
        },
        "outputId": "e87485f8-c760-4c35-da94-8bd6955aa4d0"
      },
      "source": [
        "a = np.array(l)\n",
        "print(a)"
      ],
      "execution_count": null,
      "outputs": [
        {
          "output_type": "stream",
          "name": "stdout",
          "text": [
            "[1 2 3 4 5]\n"
          ]
        }
      ]
    },
    {
      "cell_type": "markdown",
      "source": [
        "데이터 분석에서 중요한 것은 데이터의 형태 `shape` 입니다. 항상 데이터의 `shape`를 중간중간 확인하는 것을 잊지 마세요. 넘파이 배열에서는 형태를 `.shape`를 써서 확인합니다. \n",
        "\n",
        "* `.shape` : 넘파이 배열의 형태 (shape)를 반환합니다.\n",
        "\n",
        "```\n",
        "a.shape\n",
        "```"
      ],
      "metadata": {
        "id": "LA9jo1F0fe2S"
      }
    },
    {
      "cell_type": "code",
      "source": [
        "a, a.shape"
      ],
      "metadata": {
        "id": "iT9T5BGTfDJG",
        "colab": {
          "base_uri": "https://localhost:8080/"
        },
        "outputId": "3634e98b-f9fb-4186-d0bd-0e51af4ddb22"
      },
      "execution_count": null,
      "outputs": [
        {
          "output_type": "execute_result",
          "data": {
            "text/plain": [
              "(array([1, 2, 3, 4, 5]), (5,))"
            ]
          },
          "metadata": {},
          "execution_count": 6
        }
      ]
    },
    {
      "cell_type": "markdown",
      "source": [
        "#### **| 연습문제**\n",
        "\n",
        "\n"
      ],
      "metadata": {
        "id": "NQ_GbYiXLN2i"
      }
    },
    {
      "cell_type": "markdown",
      "source": [
        "**연습 01**\n",
        "\n",
        "아래 그림과 같은 1차원 배열을 생성하고 `shape`를 확인해 보세요.\n",
        "\n",
        "<p align='center'>\n",
        "<img src=https://github.com/yebiny/SkillTreePython-DataAnalysis/blob/main/imgs/ch0102-01.png?raw=trueA width=240>\n",
        "</p>"
      ],
      "metadata": {
        "id": "ey_R7ZgXnHdp"
      }
    },
    {
      "cell_type": "code",
      "source": [
        "a1 = [1,4,1,0,1,2]\n",
        "a1 = np.array(a1)\n",
        "a1, a1.shape"
      ],
      "metadata": {
        "id": "XUKKRTSJAsMa",
        "colab": {
          "base_uri": "https://localhost:8080/"
        },
        "outputId": "9ca0339d-93b5-48db-c8c5-c06f6ae85842"
      },
      "execution_count": null,
      "outputs": [
        {
          "output_type": "execute_result",
          "data": {
            "text/plain": [
              "(array([1, 4, 1, 0, 1, 2]), (6,))"
            ]
          },
          "metadata": {},
          "execution_count": 7
        }
      ]
    },
    {
      "cell_type": "markdown",
      "source": [
        "**연습 02**\n",
        "\n",
        "아래 그림과 같은 2차원 배열을 생성하고 `shape`를 확인해 보세요. `shape`는 `(5,2)` 가 되게 하세요.\n",
        "\n",
        "<p align='center'>\n",
        "<img src=https://github.com/yebiny/SkillTreePython-DataAnalysis/blob/main/imgs/ch0102-02.png?raw=trueA width=80>\n",
        "</p>"
      ],
      "metadata": {
        "id": "INo5QbOMAsrz"
      }
    },
    {
      "cell_type": "code",
      "source": [
        "a2 = np.array([[1,4],[1,0],[1,3],[2,2],[0,2]])\n",
        "a2, a2.shape\n"
      ],
      "metadata": {
        "id": "UexbNikAAsrz",
        "colab": {
          "base_uri": "https://localhost:8080/"
        },
        "outputId": "ddc7ac47-6f40-48be-c610-ab46e3d1d953"
      },
      "execution_count": null,
      "outputs": [
        {
          "output_type": "execute_result",
          "data": {
            "text/plain": [
              "(array([[1, 4],\n",
              "        [1, 0],\n",
              "        [1, 3],\n",
              "        [2, 2],\n",
              "        [0, 2]]), (5, 2))"
            ]
          },
          "metadata": {},
          "execution_count": 8
        }
      ]
    },
    {
      "cell_type": "markdown",
      "source": [
        "**연습 03**\n",
        "\n",
        "아래 그림과 같은 2차원 배열을 생성하고 `shape`를 확인해 보세요. `shape`는 `(2,3)` 가 되게 하세요.\n",
        "\n",
        "<p align='center'>\n",
        "<img src=https://github.com/yebiny/SkillTreePython-DataAnalysis/blob/main/imgs/ch0102-03.png?raw=trueA width=120>\n",
        "</p>"
      ],
      "metadata": {
        "id": "HJjDfShsAtvU"
      }
    },
    {
      "cell_type": "code",
      "source": [
        "a2 = np.array([[1,4,1],[1,0,0]])\n",
        "a2, a2.shape"
      ],
      "metadata": {
        "id": "uas_Ih4NAtvU",
        "colab": {
          "base_uri": "https://localhost:8080/"
        },
        "outputId": "cd30a049-96ff-4248-8675-31d585f4aca2"
      },
      "execution_count": null,
      "outputs": [
        {
          "output_type": "execute_result",
          "data": {
            "text/plain": [
              "(array([[1, 4, 1],\n",
              "        [1, 0, 0]]), (2, 3))"
            ]
          },
          "metadata": {},
          "execution_count": 9
        }
      ]
    },
    {
      "cell_type": "markdown",
      "source": [
        "**연습 04**\n",
        "\n",
        "위에서 만든 배열을 겹쳐서 3차원으로 확장해 보았습니다. 아래 그림과 같은 3차원 배열을 생성하고 `shape`를 확인해 보세요.\n",
        "\n",
        "<p align='center'>\n",
        "<img src=https://github.com/yebiny/SkillTreePython-DataAnalysis/blob/main/imgs/ch0102-04.png?raw=trueA width=120>\n",
        "</p>"
      ],
      "metadata": {
        "id": "UKEOKblMAt-c"
      }
    },
    {
      "cell_type": "code",
      "source": [
        "#(2,2,3) 앞에 2는 2차원이 두개이다.  앞으로 데이터의 갯수가 (가장앞에 있는 것) 될 것.\n",
        "a3 =np.array([ \n",
        "     [[1,4,1],[1,0,0]],\n",
        "     [[1,4,1],[1,0,0]],\n",
        "    ])\n",
        "a3, a3.shape"
      ],
      "metadata": {
        "id": "0mrII1a3At-c",
        "colab": {
          "base_uri": "https://localhost:8080/"
        },
        "outputId": "f5b7cb7b-1324-4835-9512-065c2c2182a6"
      },
      "execution_count": null,
      "outputs": [
        {
          "output_type": "execute_result",
          "data": {
            "text/plain": [
              "(array([[[1, 4, 1],\n",
              "         [1, 0, 0]],\n",
              " \n",
              "        [[1, 4, 1],\n",
              "         [1, 0, 0]]]), (2, 2, 3))"
            ]
          },
          "metadata": {},
          "execution_count": 12
        }
      ]
    },
    {
      "cell_type": "markdown",
      "metadata": {
        "id": "4_c_ih5uuesx"
      },
      "source": [
        "---\n",
        "### **(2) 기본 배열 생성**\n",
        "---\n",
        "\n",
        "\n",
        "* `np.empty(shape)` : `shape` 형태를 가진 빈 배열을 생성합니다. \n",
        "\n",
        "\n",
        "넘파이에서 배열을 생성하기 위해서는 기본적으로 생성할 배열에 대한 형태(shape)를 알고, 이를 기입해야 합니다. \n",
        "\n",
        "우선 위에서 만들었던 리스트와 같이 길이 5의 빈 배열을 만들어 봅시다. \n",
        "\n",
        "\n",
        "이렇게 생성된 배열에는 예상하지 못한 임의의 값이 들어있습니다. \n",
        "\n",
        "```\n",
        "a = np.empty(5)\n",
        "print(a)\n",
        "```\n"
      ]
    },
    {
      "cell_type": "code",
      "source": [
        "a = np.empty((3,5))\n",
        "print(a)"
      ],
      "metadata": {
        "id": "iPTHwWQEuesz",
        "colab": {
          "base_uri": "https://localhost:8080/"
        },
        "outputId": "0af86916-3ce3-4edc-c566-69b54e4dc28e"
      },
      "execution_count": null,
      "outputs": [
        {
          "output_type": "stream",
          "name": "stdout",
          "text": [
            "[[4.64142954e-310 1.06099790e-312 1.01855798e-312 9.54898106e-313\n",
            "  1.03977794e-312]\n",
            " [1.01855798e-312 1.23075756e-312 1.08221785e-312 1.01855798e-312\n",
            "  9.76118064e-313]\n",
            " [1.18831764e-312 1.08221785e-312 1.16709769e-312 5.28758761e+180\n",
            "  1.23637330e+243]]\n"
          ]
        }
      ]
    },
    {
      "cell_type": "markdown",
      "source": [
        "#### **| 초기값 정하기**\n",
        "\n",
        "특정 형태의 배열을 만들고 초기값을 바로 세팅하고 싶다면 다음 함수를 사용합니다. \n",
        "\n",
        "* `np.zeros(shape)` : `shape` 형태를 가지고 모든 값이 `0`인 배열을 생성합니다. \n",
        "* `np.ones(shape)` : `shape` 형태를 가지고 모든 값이 `1`인 배열을 생성합니다.\n",
        "* `np.full(shape, n)` : `shape` 형태를 가지고 모든 값이 `n`인 배열을 생성합니다.\n",
        "* `np.eye(n)` : `n x n` 의 단위행렬(identity matrix)를 생성합니다. \n",
        "\n",
        "\n",
        "단위행렬이란 주대각선의 원소가 모두 1이고 나머지 원소는 모두 0인 정사각 행렬입니다. \n",
        "\n",
        "`np.eye`를 이용해 `3x3` 단위행렬을 만들고 어떻게 생겼는지 확인해 봅시다. \n",
        "\n",
        "```\n",
        "np.eye(3)\n",
        "```\n",
        "\n",
        "\n",
        "\n"
      ],
      "metadata": {
        "id": "1tfrhr8r1_zo"
      }
    },
    {
      "cell_type": "code",
      "source": [
        "#요약 n차 정사각행렬에서 주대각선(主對角線)의 원소가 모두 1이고, 다른 원소는 모두 0인 행렬이다. \n",
        "#단위행렬 E를 임의의 행렬 A와 곱하면 행렬 A가 얻어진다.\n",
        "np.eye(4)"
      ],
      "metadata": {
        "id": "qbCFXw__3d6h",
        "colab": {
          "base_uri": "https://localhost:8080/"
        },
        "outputId": "eeb70584-364d-4b29-b67f-5c1c3609d016"
      },
      "execution_count": null,
      "outputs": [
        {
          "output_type": "execute_result",
          "data": {
            "text/plain": [
              "array([[1., 0., 0., 0.],\n",
              "       [0., 1., 0., 0.],\n",
              "       [0., 0., 1., 0.],\n",
              "       [0., 0., 0., 1.]])"
            ]
          },
          "metadata": {},
          "execution_count": 17
        }
      ]
    },
    {
      "cell_type": "markdown",
      "source": [
        "길이가 `10`이고 모든 값이 `2` 로 이루어진 배열을 생성해 봅시다. \n",
        "\n",
        "```\n",
        "np.full(10, 2)\n",
        "\n",
        "```"
      ],
      "metadata": {
        "id": "FUPRtWGL3d-0"
      }
    },
    {
      "cell_type": "code",
      "source": [
        "np.full((5,5),5)"
      ],
      "metadata": {
        "id": "si97tNl7vSST",
        "colab": {
          "base_uri": "https://localhost:8080/"
        },
        "outputId": "d007a78a-6d9d-4353-e865-89d532b9d4e6"
      },
      "execution_count": null,
      "outputs": [
        {
          "output_type": "execute_result",
          "data": {
            "text/plain": [
              "array([[5, 5, 5, 5, 5],\n",
              "       [5, 5, 5, 5, 5],\n",
              "       [5, 5, 5, 5, 5],\n",
              "       [5, 5, 5, 5, 5],\n",
              "       [5, 5, 5, 5, 5]])"
            ]
          },
          "metadata": {},
          "execution_count": 19
        }
      ]
    },
    {
      "cell_type": "markdown",
      "source": [
        "#### **| 값 범위 정하기**\n",
        "\n",
        "파이썬의 `range`와 마찬가지로 넘파이에도 값의 범위를 정해주는 함수들이 있습니다. \n",
        "\n",
        "* `np.arrange(start, end, step)` : 파이썬의 `range` 와 알고리즘이 똑같으며 값의 시작, 끝, 스텝을 지정할 수 있습니다. \n",
        "\n",
        "* `np.linspace(start, end, bins)` : 값의 시작, 끝, 그리고 이 사이를 몇개로 나눌 것인지 정합니다. \n",
        "\n",
        "* `np.logspace(start, end, bins)` : `np.linspace()`와 논리가 같으나 이를 로그 스케일로 생성합니다. \n",
        "\n",
        "\n",
        "```\n",
        "np.arange(0,100,10)\n",
        "```\n",
        "\n",
        "\n",
        "\n"
      ],
      "metadata": {
        "id": "sb9wEPV131Ex"
      }
    },
    {
      "cell_type": "code",
      "source": [
        "np.arange(0,100,10)"
      ],
      "metadata": {
        "id": "0dCf2s6l31E4",
        "colab": {
          "base_uri": "https://localhost:8080/"
        },
        "outputId": "404d11ed-ac04-4ad2-c750-ece786b99940"
      },
      "execution_count": null,
      "outputs": [
        {
          "output_type": "execute_result",
          "data": {
            "text/plain": [
              "array([ 0, 10, 20, 30, 40, 50, 60, 70, 80, 90])"
            ]
          },
          "metadata": {},
          "execution_count": 20
        }
      ]
    },
    {
      "cell_type": "markdown",
      "source": [
        "위와 똑같은 결과를 `linspace`를 이용해 얻기 위해서는 처음값 위 배열의 처음 값 `0`, 끝값`90`, 배열의 총 길이 `10`을 적어줘야 합니다.  \n",
        "\n",
        "```\n",
        "np.linspace(0,90,10)\n",
        "```"
      ],
      "metadata": {
        "id": "GJA-3R-U43eq"
      }
    },
    {
      "cell_type": "code",
      "source": [
        "np.linspace(0,90,10)"
      ],
      "metadata": {
        "id": "Fyg_F14p4sOv",
        "colab": {
          "base_uri": "https://localhost:8080/"
        },
        "outputId": "2632c986-32d6-4f66-9bed-389c774bdb3b"
      },
      "execution_count": null,
      "outputs": [
        {
          "output_type": "execute_result",
          "data": {
            "text/plain": [
              "array([ 0., 10., 20., 30., 40., 50., 60., 70., 80., 90.])"
            ]
          },
          "metadata": {},
          "execution_count": 21
        }
      ]
    },
    {
      "cell_type": "markdown",
      "metadata": {
        "id": "fZH9KG0L5dE4"
      },
      "source": [
        "\n",
        "#### **| 형태 복사하기**\n",
        "\n",
        "\n",
        "이미 생성되어 있는 배열과 똑같은 `shape`를 쉽게 만들기 위해서는 `_like` 함수를 사용합니다.\n",
        "\n",
        "* `np.empty_like(a)` :배열 `a`와 같은 형태를 가진 빈 배열을 생성합니다. \n",
        "* `np.zeros_like(a)` : 배열 `a`와 같은 형태를 가지고 모든 값이 `0`인 배열을 생성합니다.  \n",
        "* `np.ones_like(a)` : 배열 `a`와 같은 형태를 가지고 모든 값이 `1`인 배열을 생성합니다.  \n",
        "* `np.full_like(a, n)` : 배열 `a`와 같은 형태를 가지고 모든 값이 `n`인 배열을 생성합니다.  \n",
        "\n",
        "\n",
        "\n",
        "배열 `a`가 다음과 같이 정의 되어 있고 앞서 배운 `ones`를 이용해 `a`와 형태가 같지만 값이 모두 `1`인 배열 `b`를 만들어 봅시다. \n",
        "\n",
        "```\n",
        "a = np.array([1,2,3,4,5,6])\n",
        "b = np.ones(6)\n",
        "print(b)\n",
        "```\n"
      ]
    },
    {
      "cell_type": "code",
      "source": [
        "a = np.array([1,2,3,4,5,6])\n",
        "b = np.ones(6)\n",
        "print(b)"
      ],
      "metadata": {
        "id": "qTPBGFPT5dE5",
        "colab": {
          "base_uri": "https://localhost:8080/"
        },
        "outputId": "656e5c0c-0dae-4f5e-a815-80ecd336c07d"
      },
      "execution_count": null,
      "outputs": [
        {
          "output_type": "stream",
          "name": "stdout",
          "text": [
            "[1. 1. 1. 1. 1. 1.]\n"
          ]
        }
      ]
    },
    {
      "cell_type": "markdown",
      "source": [
        "이를 `np.oens_like`를 이용하면 아래와 같이 작성하면 됩니다.\n",
        "\n",
        "보통 모방하는 배열 `a`의 정확한 형태를 모르거나, `a` 가 변수처럼 상황마다 달라 정확한 `shape`를 얻기 힘들때 유용하게 사용됩니다.\n",
        "\n",
        "```\n",
        "b = np.ones_like(a)\n",
        "b\n",
        "```"
      ],
      "metadata": {
        "id": "rkIjU2Ls2zwb"
      }
    },
    {
      "cell_type": "code",
      "source": [
        "a = np.array([1,2,3,4,5,6])\n",
        "b = np.ones_like(a)\n",
        "print(b)"
      ],
      "metadata": {
        "id": "_h47FbmY8sYR",
        "colab": {
          "base_uri": "https://localhost:8080/"
        },
        "outputId": "c10d0e6b-53a3-410f-b9d3-5a9871871047"
      },
      "execution_count": null,
      "outputs": [
        {
          "output_type": "stream",
          "name": "stdout",
          "text": [
            "[1 1 1 1 1 1]\n"
          ]
        }
      ]
    },
    {
      "cell_type": "markdown",
      "metadata": {
        "id": "aA1w3P11_Hum"
      },
      "source": [
        "---\n",
        "### **(3) 랜덤 배열 생성**\n",
        "---\n",
        "\n",
        "\n",
        "| 함수 | 설명 |\n",
        "|--|--|\n",
        "| `seed` | 난수 발생시 시드 지정|\n",
        "| `permutation` | 임의의 순열 반환|\n",
        "| `shuffle` | 배열의 순서 섞기 |\n",
        "| `randint` | 특정 범위의 표본(정수) 추출 |\n",
        "| `random` | 균등분포를 따르는 0~1 사이 표본 추출|\n",
        "| `rand` | 균등분포를 따르는 0~1 사이 표본 추출|\n",
        "| `randn` | 표준정규분포를 따르는 표본 추출 |\n",
        "| `normal` | 정규분포를 따르는 표본 추출 |\n",
        "| `beta` | 베타분포를 따르는 표본 추출 |\n",
        "| `chisquare` | 카이제곱분포를 따르는 표본 추출 |\n",
        "| `gamma` | 감마분포를 따르는 표본 추출 |\n",
        "\n",
        "파이썬 라이브러리 `random`과 비슷하게 넘파이에도 랜덤값을 얻는 다양한 함수를 제공합니다. \n",
        "\n",
        "각종 분포에 대한 자세한 설명은 이후 데이터분석 수업에서 알아보도록 하고, 지금은 다양한 분포에 대한 표본을 넘파이를 통해 추출할 수 있다는 것만 알고 계시면 됩니다.\n",
        "\n",
        "이번 시간에는 간단한 함수 몇가지만 사용해 보도록 하겠습니다."
      ]
    },
    {
      "cell_type": "markdown",
      "source": [
        "* `np.random.randint(i1,i2, shape)` `i1` 이상 `i2` 미만 랜덤값을 지니는 `shape` 형태의 배열을 생성합니다.\n",
        "\n",
        "```\n",
        "np.random.randint(0,10, (2,3))\n",
        "```\n"
      ],
      "metadata": {
        "id": "mP4AQHPZKuHy"
      }
    },
    {
      "cell_type": "code",
      "source": [
        "import numpy as np\n",
        "np.random.randint(0,10, (3,3)) # 이 함수의 경우에도 end값은 포함하지 않는다. \n",
        "np.random.randint(2,10,(5)) # 수 하나만 뽑을 것 아니면 starting point 적어야한다. "
      ],
      "metadata": {
        "id": "ht0iRhxs___x",
        "colab": {
          "base_uri": "https://localhost:8080/"
        },
        "outputId": "e87ed9e6-8aab-4eed-879b-a410a20de490"
      },
      "execution_count": null,
      "outputs": [
        {
          "output_type": "execute_result",
          "data": {
            "text/plain": [
              "array([7, 9, 3, 2, 5])"
            ]
          },
          "metadata": {},
          "execution_count": 24
        }
      ]
    },
    {
      "cell_type": "markdown",
      "source": [
        "* `np.random.seed(n)` : 랜덤값 생성 규칙을 정합니다. (`n`은 자연수)정합니다. \n",
        "\n",
        "\n",
        "같은 `seed`에서 코드를 실행하면 똑같은 랜덤 값이 나오게 됩니다. 주로 코드를 실행하여 결과를 재현할 수 있도록 하기 위해 사용됩니다. \n",
        "\n",
        "```\n",
        "np.random.seed(42)\n",
        "np.random.randint(0,10, (2,3))\n",
        "```"
      ],
      "metadata": {
        "id": "lvLkyh0_LIUR"
      }
    },
    {
      "cell_type": "code",
      "source": [
        "np.random.seed(42)\n",
        "np.random.randint(0,10, (2,3))"
      ],
      "metadata": {
        "id": "42lpSwpCEczR",
        "colab": {
          "base_uri": "https://localhost:8080/"
        },
        "outputId": "46ca2c99-f061-475c-cca7-c48b1d06c2e0"
      },
      "execution_count": null,
      "outputs": [
        {
          "output_type": "execute_result",
          "data": {
            "text/plain": [
              "array([[6, 3, 7],\n",
              "       [4, 6, 9]])"
            ]
          },
          "metadata": {},
          "execution_count": 175
        }
      ]
    },
    {
      "cell_type": "code",
      "source": [
        "np.random.randint(0,10, (2,3))"
      ],
      "metadata": {
        "id": "1KWQB3MREvGz",
        "outputId": "d8098062-66f3-4d99-e256-585124477028",
        "colab": {
          "base_uri": "https://localhost:8080/"
        }
      },
      "execution_count": null,
      "outputs": [
        {
          "output_type": "execute_result",
          "data": {
            "text/plain": [
              "array([[2, 6, 7],\n",
              "       [4, 3, 7]])"
            ]
          },
          "metadata": {},
          "execution_count": 176
        }
      ]
    },
    {
      "cell_type": "code",
      "source": [
        "np.random.seed(42)\n",
        "np.random.randint(0,10, (2,3))"
      ],
      "metadata": {
        "id": "awsGv4MMExeb",
        "outputId": "b9568a68-f2e3-4fc8-d3f3-f6d05d72a255",
        "colab": {
          "base_uri": "https://localhost:8080/"
        }
      },
      "execution_count": null,
      "outputs": [
        {
          "output_type": "execute_result",
          "data": {
            "text/plain": [
              "array([[6, 3, 7],\n",
              "       [4, 6, 9]])"
            ]
          },
          "metadata": {},
          "execution_count": 177
        }
      ]
    },
    {
      "cell_type": "markdown",
      "source": [
        "#### **| 균등 분포**\n",
        "\n",
        "균등 분포란 모든 곳에서의 확률이 일정한 분포를 말합니다. \n",
        "\n",
        "<p align='center'>\n",
        "<img src=https://github.com/yebiny/SkillTreePython-DataAnalysis/blob/main/imgs/ch0102-05.PNG?raw=trueA width=300>\n",
        "</p>\n",
        "\n",
        "\n",
        "* `np.random.random((shape))` : `0~1` 사이 균등분포를 가지는  `shape` 형태의 배열을 생성합니다.\n",
        "\n",
        "* `np.random.rand(shape)` : `0~1` 사이 균등분포를 가지는  `shape` 형태의 배열을 생성합니다.\n",
        "\n",
        "\n",
        "```\n",
        "print(np.random.random((3,2)))\n",
        "print(np.random.rand(3,2))\n",
        "```\n",
        "`random.random`과 `random.rand` 둘다 똑같이 균등분포를 가지는 랜덤값을 출력합니다. 차이점은 `shape`를 `random.random`은 괄호 안에 넣어주어야 한다는 것입니다."
      ],
      "metadata": {
        "id": "GZSCgAtUKTZU"
      }
    },
    {
      "cell_type": "code",
      "source": [
        "print(np.random.random((3,2)))\n",
        "print(np.random.rand(3,2))"
      ],
      "metadata": {
        "id": "bifOlRS8_Hus",
        "colab": {
          "base_uri": "https://localhost:8080/"
        },
        "outputId": "3495964e-30d0-43fa-c5a9-42254fa3074c"
      },
      "execution_count": null,
      "outputs": [
        {
          "output_type": "stream",
          "name": "stdout",
          "text": [
            "[[0.15599452 0.05808361]\n",
            " [0.86617615 0.60111501]\n",
            " [0.70807258 0.02058449]]\n",
            "[[0.96990985 0.83244264]\n",
            " [0.21233911 0.18182497]\n",
            " [0.18340451 0.30424224]]\n"
          ]
        }
      ]
    },
    {
      "cell_type": "markdown",
      "source": [
        "#### **| 표준정규분포**\n",
        "\n",
        "표준정규분포는 평균이 `0`이고 편차가 `1`인 가우스(정규) 분포를 뜻합니다. \n",
        "\n",
        "<p align='center'>\n",
        "<img src=https://github.com/yebiny/SkillTreePython-DataAnalysis/blob/main/imgs/ch0102-06.PNG?raw=trueA width=300>\n",
        "</p>\n",
        "\n",
        "* `np.random.randn(shape)` : 표준정규분포를 따르는 `shape` 형태의 배열을 생성합니다.\n",
        "\n",
        "\n",
        "```\n",
        "np.random.randn(3,2)\n",
        "```\n"
      ],
      "metadata": {
        "id": "5m2ywtWHUSeT"
      }
    },
    {
      "cell_type": "code",
      "source": [
        "np.random.randn(3,2)"
      ],
      "metadata": {
        "id": "_Vp0mD7GUSea",
        "colab": {
          "base_uri": "https://localhost:8080/"
        },
        "outputId": "957c25f3-1def-4437-8079-8160f47fa5bb"
      },
      "execution_count": null,
      "outputs": [
        {
          "output_type": "execute_result",
          "data": {
            "text/plain": [
              "array([[-2.61254901,  0.95036968],\n",
              "       [ 0.81644508, -1.523876  ],\n",
              "       [-0.42804606, -0.74240684]])"
            ]
          },
          "metadata": {},
          "execution_count": 29
        }
      ]
    },
    {
      "cell_type": "markdown",
      "metadata": {
        "id": "-J3bxEmza3Ai"
      },
      "source": [
        "---\n",
        "### **(4) 데이터 타입**\n",
        "---\n",
        "\n",
        "배열을 만들 때 어떤 값으로 채워져 있는지 이해해야 합니다. \n",
        "\n",
        "아래와 같이 배열 `a`,`b`,`c`를 생성합니다.\n",
        "\n",
        "```\n",
        "a = np.array([1,2,3,4])\n",
        "b = np.zeros(4)\n",
        "c = np.zeros_like(a)\n",
        "print(a)\n",
        "print(b)\n",
        "print(c)\n",
        "```"
      ]
    },
    {
      "cell_type": "code",
      "source": [
        "a = np.array([1,2,3,4])\n",
        "b = np.zeros(4)\n",
        "c = np.zeros_like(a)\n",
        "print(a)\n",
        "print(b)\n",
        "print(c)"
      ],
      "metadata": {
        "id": "5oYeNlrJcD7I",
        "colab": {
          "base_uri": "https://localhost:8080/"
        },
        "outputId": "c9e51056-0052-4156-fd79-8cbe3143673e"
      },
      "execution_count": null,
      "outputs": [
        {
          "output_type": "stream",
          "name": "stdout",
          "text": [
            "[1 2 3 4]\n",
            "[0. 0. 0. 0.]\n",
            "[0 0 0 0]\n"
          ]
        }
      ]
    },
    {
      "cell_type": "markdown",
      "source": [
        "`b`와 `c`는 `0`으로만 이루어져 있고 형태도 똑같습니다. 하지만 각 요소들은 다른 데이터 타입을 가지고 있습니다. 확인해 봅시다.\n",
        "\n",
        "```\n",
        "[type(x) for x in b], [type(x) for x in c]\n",
        "```"
      ],
      "metadata": {
        "id": "CQJuviOrc70N"
      }
    },
    {
      "cell_type": "code",
      "source": [
        "[type(x) for x in b], [type(x) for x in c]"
      ],
      "metadata": {
        "id": "t7tIdf3_ce34",
        "colab": {
          "base_uri": "https://localhost:8080/"
        },
        "outputId": "0567b376-7420-4c14-b685-758594452368"
      },
      "execution_count": null,
      "outputs": [
        {
          "output_type": "execute_result",
          "data": {
            "text/plain": [
              "([numpy.float64, numpy.float64, numpy.float64, numpy.float64],\n",
              " [numpy.int64, numpy.int64, numpy.int64, numpy.int64])"
            ]
          },
          "metadata": {},
          "execution_count": 31
        }
      ]
    },
    {
      "cell_type": "markdown",
      "source": [
        "#### **| 여러가지 타입**\n",
        "\n",
        "| 함수 | 설명 |\n",
        "|--|--|\n",
        "| `bool_` | 불리언(Boolean)|\n",
        "| `int8(,16,32,64)` | 정수(-128 ~ 127)|\n",
        "| `uint8(,16,32,64)` | 부호없는 정수 (0~ 255) |\n",
        "| `int_` | =`int64`|\n",
        "| `float16(,32,64)` | 소수점|\n",
        "| `float_` | =`float64` |\n",
        "| `complex64(,128)` | 복소수|\n",
        "| `complex_` | =`complex128` |\n",
        "\n",
        "\n",
        "\n",
        "* `np.---(dtype=type)` : 배열 생성시 `type`을 지정해 줍니다.\n",
        "\n",
        "배열 `b`를 생성할 때 `int8` 타입으로 생성해 봅시다.\n",
        "\n",
        "```\n",
        "b = np.zeros(4, dtype='int8')\n",
        "b, [type(x) for x in b]\n",
        "```\n"
      ],
      "metadata": {
        "id": "dhGOzS6ddNuM"
      }
    },
    {
      "cell_type": "code",
      "source": [
        "b = np.zeros(4, dtype = 'int8')\n",
        "[type(x) for x in b]\n"
      ],
      "metadata": {
        "id": "qCkSjHDzdzDN",
        "colab": {
          "base_uri": "https://localhost:8080/"
        },
        "outputId": "057bfc05-5bc4-4692-d732-e5b44a46e91f"
      },
      "execution_count": null,
      "outputs": [
        {
          "output_type": "stream",
          "name": "stdout",
          "text": [
            "[0 0 0 0]\n"
          ]
        }
      ]
    },
    {
      "cell_type": "markdown",
      "metadata": {
        "id": "ecqdIs3QAoz1"
      },
      "source": [
        "### **(5) 배열 입출력**\n",
        "\n"
      ]
    },
    {
      "cell_type": "markdown",
      "source": [
        "#### **| 저장**\n",
        "\n",
        "* `np.save(save_path, a)` : 배열 `a` 한개를 경로 `save_path`에 저장합니다. \n",
        "\n",
        "```\n",
        "np.save('test1', a)\n",
        "```"
      ],
      "metadata": {
        "id": "u_Ai8eSHAoz3"
      }
    },
    {
      "cell_type": "code",
      "source": [
        "np.save('test1', a) #현재 폴더와 같은 경로에 test1.npy 로 저장이 되었다. "
      ],
      "metadata": {
        "id": "KmZx6DXd0Mpd"
      },
      "execution_count": null,
      "outputs": []
    },
    {
      "cell_type": "markdown",
      "source": [
        "* `np.savez(save_path, a1, a2, ...)` : 배열  여러개를 경로 `save_path`에 저장합니다. \n",
        "\n",
        "```\n",
        "np.savez('test2', a, a)\n",
        "```"
      ],
      "metadata": {
        "id": "1MRSrKkZAy0s"
      }
    },
    {
      "cell_type": "code",
      "source": [
        "a = [1,2,3]\n",
        "b = [4,5,6]\n",
        "np.savez('test2',a,b)"
      ],
      "metadata": {
        "id": "TNFkSBXQ0NpA"
      },
      "execution_count": 2,
      "outputs": []
    },
    {
      "cell_type": "markdown",
      "source": [
        "저장 시 각 배열에 대한 이름을 지정해 줄수 있습니다.\n",
        "```\n",
        "np.savez('test3', a1=a, a2=a)\n",
        "```"
      ],
      "metadata": {
        "id": "jd6R6eB0lYqq"
      }
    },
    {
      "cell_type": "code",
      "source": [
        "np.savez('test3', a = a, b = b)"
      ],
      "metadata": {
        "id": "xobc2d4xlnZd"
      },
      "execution_count": null,
      "outputs": []
    },
    {
      "cell_type": "markdown",
      "source": [
        "#### **| 불러오기**\n",
        "\n",
        "* `np.load(file_path)` : 넘파이 배열이 저장된 파일로부터 객체를 불러옵니다. \n",
        "\n",
        "\n",
        "```\n",
        "a_npy = np.load('test.npy')\n",
        "```"
      ],
      "metadata": {
        "id": "bC04-YDYA2Cw"
      }
    },
    {
      "cell_type": "code",
      "source": [
        "a_npy = np.load('test1.npy')\n",
        "a_npy"
      ],
      "metadata": {
        "id": "n71fHGpN0OkE",
        "colab": {
          "base_uri": "https://localhost:8080/"
        },
        "outputId": "b2f1c651-7453-4a5b-8ea9-1efecec9056a"
      },
      "execution_count": null,
      "outputs": [
        {
          "output_type": "execute_result",
          "data": {
            "text/plain": [
              "array([1, 2, 3, 4])"
            ]
          },
          "metadata": {},
          "execution_count": 43
        }
      ]
    },
    {
      "cell_type": "markdown",
      "source": [
        "배열이 여러개 들어간 `npz` 파일을 불러올 때는 어떤 이름으로 각 배열이 저장되어 있는지 확인해 볼 필요가 있습니다.\n",
        "\n",
        "```\n",
        "a_npz = np.load('test3.npz')\n",
        "for a in a_npz:\n",
        "  print(a)\n",
        "```"
      ],
      "metadata": {
        "id": "DO3ddZJtku78"
      }
    },
    {
      "cell_type": "code",
      "source": [
        "import numpy as np\n",
        "a_npz = np.load('test2.npz')\n",
        "for a in a_npz:\n",
        "    print(a)"
      ],
      "metadata": {
        "id": "0w8C5GAskxhS",
        "colab": {
          "base_uri": "https://localhost:8080/"
        },
        "outputId": "76a2fd4c-cbce-4848-b397-d780ee06ba63"
      },
      "execution_count": 3,
      "outputs": [
        {
          "output_type": "stream",
          "name": "stdout",
          "text": [
            "arr_0\n",
            "arr_1\n"
          ]
        }
      ]
    },
    {
      "cell_type": "markdown",
      "source": [
        "이름 확인 후 인덱싱을 통해 각 배열에 접근 할 수 있습니다.\n",
        "\n",
        "```\n",
        "print(a_npz['a1'], a_npz['a2'])\n",
        "```"
      ],
      "metadata": {
        "id": "iPCDsC7SmGl7"
      }
    },
    {
      "cell_type": "code",
      "source": [
        "print(a_npz['a'], a_npz['b'])\n",
        "a = a_npz['a']\n",
        "a"
      ],
      "metadata": {
        "id": "Q0QcJ87smH2G",
        "colab": {
          "base_uri": "https://localhost:8080/"
        },
        "outputId": "445ca012-0959-4661-ae23-07ae728930d5"
      },
      "execution_count": null,
      "outputs": [
        {
          "output_type": "stream",
          "name": "stdout",
          "text": [
            "[1 2 3 4] [0 0 0 0]\n"
          ]
        },
        {
          "output_type": "execute_result",
          "data": {
            "text/plain": [
              "array([1, 2, 3, 4])"
            ]
          },
          "metadata": {},
          "execution_count": 49
        }
      ]
    },
    {
      "cell_type": "markdown",
      "source": [
        "## 문제풀이\n",
        "---\n"
      ],
      "metadata": {
        "id": "1Zo86GIRD8iE"
      }
    },
    {
      "cell_type": "markdown",
      "metadata": {
        "id": "d9o7kBXoNlE3"
      },
      "source": [
        "**예제 01**\n",
        "\n",
        "아래그림과 같이 `shape`가 `(4)` 인 배열을 생성하고 `a1`로 바인딩 하세요.\n",
        "\n",
        "<p align='center'>\n",
        "<img src=https://github.com/yebiny/SkillTreePython-DataAnalysis/blob/main/imgs/ch0102-07.png?raw=trueA width=180>\n",
        "</p>"
      ]
    },
    {
      "cell_type": "code",
      "source": [
        "a1 = np.array([2,4,1,3])\n",
        "a1, a1.shape"
      ],
      "metadata": {
        "colab": {
          "base_uri": "https://localhost:8080/"
        },
        "id": "64NzhRsN0vRq",
        "outputId": "c48f51a2-7e15-421c-a7fa-f34cc7867707"
      },
      "execution_count": 12,
      "outputs": [
        {
          "output_type": "execute_result",
          "data": {
            "text/plain": [
              "(array([2, 4, 1, 3]), (4,))"
            ]
          },
          "metadata": {},
          "execution_count": 12
        }
      ]
    },
    {
      "cell_type": "markdown",
      "metadata": {
        "id": "VGBXSucnmUvV"
      },
      "source": [
        "**예제 02**\n",
        "\n",
        "`a1`와 `shape`가 똑같고 모든 값이 `1`인 배열을 생성하세요."
      ]
    },
    {
      "cell_type": "code",
      "metadata": {
        "id": "nbG4Fj4emUvW",
        "colab": {
          "base_uri": "https://localhost:8080/"
        },
        "outputId": "19705f9a-4ee7-42e3-9259-390917e140b6"
      },
      "source": [
        "a1_like = np.ones_like(a1)\n",
        "a1_like, a1_like.shape"
      ],
      "execution_count": null,
      "outputs": [
        {
          "output_type": "execute_result",
          "data": {
            "text/plain": [
              "(array([1, 1, 1, 1]), (4,))"
            ]
          },
          "metadata": {},
          "execution_count": 51
        }
      ]
    },
    {
      "cell_type": "markdown",
      "source": [
        "**예제 03**\n",
        "\n",
        "`a1`와 모든 값이 같지만 `shape`가 `(1,4)`인 배열을 생성하세요."
      ],
      "metadata": {
        "id": "LWA987CQNayh"
      }
    },
    {
      "cell_type": "code",
      "metadata": {
        "id": "Gwir0bafNlE9",
        "colab": {
          "base_uri": "https://localhost:8080/"
        },
        "outputId": "3106a01a-d3da-4826-f50e-6a72bc39ad4e"
      },
      "source": [
        "a1_copy = np.array([a1])\n",
        "a1_copy, a1_copy.shape"
      ],
      "execution_count": 16,
      "outputs": [
        {
          "output_type": "execute_result",
          "data": {
            "text/plain": [
              "(array([[2, 4, 1, 3]]), (1, 4))"
            ]
          },
          "metadata": {},
          "execution_count": 16
        }
      ]
    },
    {
      "cell_type": "markdown",
      "metadata": {
        "id": "2jlL6dLjYcFZ"
      },
      "source": [
        "**예제 04**\n",
        "\n",
        "아래그림과 같이 `shape`가 `(4,2)`인 배열을 생성하고 `a2`로 바인딩 하세요.\n",
        "\n",
        "\n",
        "<p align='center'>\n",
        "<img src=https://github.com/yebiny/SkillTreePython-DataAnalysis/blob/main/imgs/ch0102-08.png?raw=trueA width=80>\n",
        "</p>\n"
      ]
    },
    {
      "cell_type": "code",
      "source": [
        "a2 = np.array([\n",
        "            [1,0],\n",
        "            [1,0],\n",
        "            [3,2],\n",
        "            [1,1]\n",
        "            ])\n",
        "a2, a2.shape"
      ],
      "metadata": {
        "id": "1GDlXW0kYcFg",
        "colab": {
          "base_uri": "https://localhost:8080/"
        },
        "outputId": "c60a3df1-93bc-4e9a-adfb-ddaaf391e899"
      },
      "execution_count": 18,
      "outputs": [
        {
          "output_type": "execute_result",
          "data": {
            "text/plain": [
              "(array([[1, 0],\n",
              "        [1, 0],\n",
              "        [3, 2],\n",
              "        [1, 1]]), (4, 2))"
            ]
          },
          "metadata": {},
          "execution_count": 18
        }
      ]
    },
    {
      "cell_type": "markdown",
      "metadata": {
        "id": "bWhgW8HPNsKV"
      },
      "source": [
        "**예제 05**\n",
        "\n",
        "`a2`와 `shape`가 똑같고 모든 값이 `0`인 배열을 생성하세요."
      ]
    },
    {
      "cell_type": "code",
      "metadata": {
        "id": "kl547eOiNsKW",
        "colab": {
          "base_uri": "https://localhost:8080/"
        },
        "outputId": "622a1423-3271-461b-f39f-bf999f62ecac"
      },
      "source": [
        "a2_zeros = np.zeros_like(a2)\n",
        "a2_zeros, a2_zeros.shape  "
      ],
      "execution_count": null,
      "outputs": [
        {
          "output_type": "execute_result",
          "data": {
            "text/plain": [
              "(array([[0, 0],\n",
              "        [0, 0],\n",
              "        [0, 0],\n",
              "        [0, 0]]), (4, 2))"
            ]
          },
          "metadata": {},
          "execution_count": 58
        }
      ]
    },
    {
      "cell_type": "markdown",
      "source": [
        "**예제 06**\n",
        "\n",
        "`a2`와 모든 값이 같지만 `shape`가 `(4,1,2)`인 배열을 생성하세요."
      ],
      "metadata": {
        "id": "SfamwcIMYgKh"
      }
    },
    {
      "cell_type": "code",
      "source": [
        "a2to3 = np.array([\n",
        "                 [[1,0]],\n",
        "                 [[1,0]],\n",
        "                 [[3,2]],\n",
        "                 [[1,1]]\n",
        "                ])\n",
        "a2to3, a2to3.shape\n"
      ],
      "metadata": {
        "colab": {
          "base_uri": "https://localhost:8080/"
        },
        "id": "fBb1Ztrf2TbH",
        "outputId": "6d8c843e-4ac6-4bfb-8d62-61d16eb01652"
      },
      "execution_count": 21,
      "outputs": [
        {
          "output_type": "execute_result",
          "data": {
            "text/plain": [
              "(array([[[1, 0]],\n",
              " \n",
              "        [[1, 0]],\n",
              " \n",
              "        [[3, 2]],\n",
              " \n",
              "        [[1, 1]]]), (4, 1, 2))"
            ]
          },
          "metadata": {},
          "execution_count": 21
        }
      ]
    },
    {
      "cell_type": "markdown",
      "metadata": {
        "id": "ELhN6-RuNufU"
      },
      "source": [
        "**예제 07**\n",
        "\n",
        "`a2`와 모든 값이 같지만 아래와 같이 전치된 배열을 생성하세요.\n",
        "\n",
        "\n",
        "<p align='center'>\n",
        "<img src=https://github.com/yebiny/SkillTreePython-DataAnalysis/blob/main/imgs/ch0102-09.png?raw=trueA width=180>\n",
        "</p>"
      ]
    },
    {
      "cell_type": "code",
      "metadata": {
        "id": "Hb-2MyUeNufU",
        "colab": {
          "base_uri": "https://localhost:8080/"
        },
        "outputId": "b8953dd5-f384-4b9e-aa19-a420448669a1"
      },
      "source": [
        "# a.T \n",
        "# np.transpose(a) method / a.transpose()\n",
        "# np.swapaxes(a, 0, 1) method / a.swapaxes(0,1)\n",
        "\n",
        "a2_T =a2.T\n",
        "print(a2_T, a2_T.shape)\n",
        "a2_TT = np.transpose(a2)\n",
        "print(a2_TT, a2_TT.shape)"
      ],
      "execution_count": 24,
      "outputs": [
        {
          "output_type": "stream",
          "name": "stdout",
          "text": [
            "[[1 1 3 1]\n",
            " [0 0 2 1]] (2, 4)\n",
            "[[1 1 3 1]\n",
            " [0 0 2 1]] (2, 4)\n"
          ]
        }
      ]
    },
    {
      "cell_type": "markdown",
      "metadata": {
        "id": "rreOszCZN9MN"
      },
      "source": [
        "**예제 08**\n",
        "\n",
        "모든 값이 `3`이고 `shape`가 `(5,1,2)`인 3차원 배열을 생성 후 `shape`를 확인하세요."
      ]
    },
    {
      "cell_type": "code",
      "metadata": {
        "id": "2dSGS_JGN9MN",
        "colab": {
          "base_uri": "https://localhost:8080/"
        },
        "outputId": "d077f5de-fe81-4fb4-ce65-4e75df38fd2b"
      },
      "source": [
        "threes = np.full((5,1,2), 3)\n",
        "threes, threes.shape"
      ],
      "execution_count": null,
      "outputs": [
        {
          "output_type": "execute_result",
          "data": {
            "text/plain": [
              "(array([[[3, 3]],\n",
              " \n",
              "        [[3, 3]],\n",
              " \n",
              "        [[3, 3]],\n",
              " \n",
              "        [[3, 3]],\n",
              " \n",
              "        [[3, 3]]]), (5, 1, 2))"
            ]
          },
          "metadata": {},
          "execution_count": 64
        }
      ]
    },
    {
      "cell_type": "markdown",
      "metadata": {
        "id": "hoHUjY84N-9e"
      },
      "source": [
        "**예제 09**\n",
        "\n",
        "모든 값이 `3`이고 `shape`가 `(1,2,5)`인 3차원 배열을 생성 후 `shape`를 확인하세요."
      ]
    },
    {
      "cell_type": "code",
      "metadata": {
        "id": "zCT5tTr9N-9e",
        "colab": {
          "base_uri": "https://localhost:8080/"
        },
        "outputId": "2d357ed6-1ae9-41e2-e3c5-79682e28bf1f"
      },
      "source": [
        "threes = np.full((1,2,5),3)\n",
        "threes, threes.shape"
      ],
      "execution_count": null,
      "outputs": [
        {
          "output_type": "execute_result",
          "data": {
            "text/plain": [
              "(array([[[3, 3, 3, 3, 3],\n",
              "         [3, 3, 3, 3, 3]]]), (1, 2, 5))"
            ]
          },
          "metadata": {},
          "execution_count": 65
        }
      ]
    },
    {
      "cell_type": "markdown",
      "metadata": {
        "id": "pae3A4KzmmX-"
      },
      "source": [
        "**예제 10**\n",
        "\n",
        "모든 값이 3이고 shape가 `(2,1,3)`인 3차원 배열을 리스트를 이용해 직접 만들고 `shape`를 확인하세요."
      ]
    },
    {
      "cell_type": "code",
      "metadata": {
        "id": "auOb2ffPmmX-",
        "colab": {
          "base_uri": "https://localhost:8080/"
        },
        "outputId": "b307102b-3dab-4950-f8a1-f587c703fed9"
      },
      "source": [
        "threes_hand = np.array([\n",
        "                        [[3,3,3]],\n",
        "                        [[3,3,3]]\n",
        "                        ])\n",
        "threes_hand, threes_hand.shape"
      ],
      "execution_count": null,
      "outputs": [
        {
          "output_type": "execute_result",
          "data": {
            "text/plain": [
              "(array([[[3, 3, 3]],\n",
              " \n",
              "        [[3, 3, 3]]]), (2, 1, 3))"
            ]
          },
          "metadata": {},
          "execution_count": 67
        }
      ]
    },
    {
      "cell_type": "markdown",
      "metadata": {
        "id": "e-kN0jFgoZMA"
      },
      "source": [
        "**예제 11**\n",
        "\n",
        "1에서 100까지 홀수값만을 가지는 배열을 `np.arange`를 이용해 생성하세요.\n"
      ]
    },
    {
      "cell_type": "code",
      "metadata": {
        "id": "_muP8BzQoZMA",
        "colab": {
          "base_uri": "https://localhost:8080/"
        },
        "outputId": "290683fc-732f-4547-a09a-0dacef38842f"
      },
      "source": [
        "odd = np.arange(1,100,2)\n",
        "odd, odd.shape"
      ],
      "execution_count": null,
      "outputs": [
        {
          "output_type": "execute_result",
          "data": {
            "text/plain": [
              "(array([ 1,  3,  5,  7,  9, 11, 13, 15, 17, 19, 21, 23, 25, 27, 29, 31, 33,\n",
              "        35, 37, 39, 41, 43, 45, 47, 49, 51, 53, 55, 57, 59, 61, 63, 65, 67,\n",
              "        69, 71, 73, 75, 77, 79, 81, 83, 85, 87, 89, 91, 93, 95, 97, 99]),\n",
              " (50,))"
            ]
          },
          "metadata": {},
          "execution_count": 69
        }
      ]
    },
    {
      "cell_type": "markdown",
      "metadata": {
        "id": "ZqsMlzO8opjT"
      },
      "source": [
        "**예제 12**\n",
        "\n",
        "1에서 100까지 홀수값만을 가지는 배열을 `np.linspace`를 이용해 생성하세요."
      ]
    },
    {
      "cell_type": "code",
      "metadata": {
        "id": "a2nn99BvopjT",
        "colab": {
          "base_uri": "https://localhost:8080/"
        },
        "outputId": "27854a70-4dac-4c0e-a35a-515ac7897977"
      },
      "source": [
        "odd = np.linspace(1,99,50, dtype = 'int8')\n",
        "odd, odd.shape"
      ],
      "execution_count": null,
      "outputs": [
        {
          "output_type": "execute_result",
          "data": {
            "text/plain": [
              "(array([ 1,  3,  5,  7,  9, 11, 13, 15, 17, 19, 21, 23, 25, 27, 29, 31, 33,\n",
              "        35, 37, 39, 41, 43, 45, 47, 49, 51, 53, 55, 57, 59, 61, 63, 65, 67,\n",
              "        69, 71, 73, 75, 77, 79, 81, 83, 85, 87, 89, 91, 93, 95, 97, 99],\n",
              "       dtype=int8), (50,))"
            ]
          },
          "metadata": {},
          "execution_count": 72
        }
      ]
    },
    {
      "cell_type": "markdown",
      "metadata": {
        "id": "mr5GzUWQnEHl"
      },
      "source": [
        "**예제 13**\n",
        "\n",
        "`shape`가 `(5,5)`인 단위행렬(Identity matrix)를 생성하세요.\n"
      ]
    },
    {
      "cell_type": "code",
      "metadata": {
        "id": "tGu1fVwMnEHt",
        "colab": {
          "base_uri": "https://localhost:8080/"
        },
        "outputId": "03fc5f8d-0a18-4e61-d130-cda35ed61b64"
      },
      "source": [
        "eye = np.eye(5)\n",
        "eye, eye.shape"
      ],
      "execution_count": null,
      "outputs": [
        {
          "output_type": "execute_result",
          "data": {
            "text/plain": [
              "(array([[1., 0., 0., 0., 0.],\n",
              "        [0., 1., 0., 0., 0.],\n",
              "        [0., 0., 1., 0., 0.],\n",
              "        [0., 0., 0., 1., 0.],\n",
              "        [0., 0., 0., 0., 1.]]), (5, 5))"
            ]
          },
          "metadata": {},
          "execution_count": 74
        }
      ]
    },
    {
      "cell_type": "markdown",
      "metadata": {
        "id": "esX8x6evnohw"
      },
      "source": [
        "**예제 14**\n",
        "\n",
        "`shape`가 `(10,5)`이고 균등분포를 따르는 배열을 생성하세요. 랜덤시드를 `42`로 정해주세요.\n"
      ]
    },
    {
      "cell_type": "code",
      "metadata": {
        "id": "s6YjEalLnohy",
        "colab": {
          "base_uri": "https://localhost:8080/"
        },
        "outputId": "a27a42be-cf26-482a-e45a-937e40b1318f"
      },
      "source": [
        "np.random.seed(42)\n",
        "np_seed = np.random.random((10,5))\n",
        "print(np_seed, np_seed.shape)\n"
      ],
      "execution_count": null,
      "outputs": [
        {
          "output_type": "stream",
          "name": "stdout",
          "text": [
            "[[0.37454012 0.95071431 0.73199394 0.59865848 0.15601864]\n",
            " [0.15599452 0.05808361 0.86617615 0.60111501 0.70807258]\n",
            " [0.02058449 0.96990985 0.83244264 0.21233911 0.18182497]\n",
            " [0.18340451 0.30424224 0.52475643 0.43194502 0.29122914]\n",
            " [0.61185289 0.13949386 0.29214465 0.36636184 0.45606998]\n",
            " [0.78517596 0.19967378 0.51423444 0.59241457 0.04645041]\n",
            " [0.60754485 0.17052412 0.06505159 0.94888554 0.96563203]\n",
            " [0.80839735 0.30461377 0.09767211 0.68423303 0.44015249]\n",
            " [0.12203823 0.49517691 0.03438852 0.9093204  0.25877998]\n",
            " [0.66252228 0.31171108 0.52006802 0.54671028 0.18485446]] (10, 5)\n"
          ]
        }
      ]
    },
    {
      "cell_type": "markdown",
      "metadata": {
        "id": "VsBSmv3PZx2a"
      },
      "source": [
        "**예제 15**\n",
        "\n",
        "`shape`가 `(10,5)`이고 표준정규분포를 따르는 배열을 생성하세요. 랜덤시드를 `42`로 정해주세요.\n"
      ]
    },
    {
      "cell_type": "code",
      "metadata": {
        "id": "_QAt1iGIZx2b",
        "colab": {
          "base_uri": "https://localhost:8080/"
        },
        "outputId": "6beeb665-7c53-41d7-d0d5-fcd8e7057945"
      },
      "source": [
        "np.random.seed(42)\n",
        "rand_n = np.random.randn(10,5)\n",
        "print(rand_n, rand_n.shape)\n"
      ],
      "execution_count": null,
      "outputs": [
        {
          "output_type": "stream",
          "name": "stdout",
          "text": [
            "[[ 0.49671415 -0.1382643   0.64768854  1.52302986 -0.23415337]\n",
            " [-0.23413696  1.57921282  0.76743473 -0.46947439  0.54256004]\n",
            " [-0.46341769 -0.46572975  0.24196227 -1.91328024 -1.72491783]\n",
            " [-0.56228753 -1.01283112  0.31424733 -0.90802408 -1.4123037 ]\n",
            " [ 1.46564877 -0.2257763   0.0675282  -1.42474819 -0.54438272]\n",
            " [ 0.11092259 -1.15099358  0.37569802 -0.60063869 -0.29169375]\n",
            " [-0.60170661  1.85227818 -0.01349722 -1.05771093  0.82254491]\n",
            " [-1.22084365  0.2088636  -1.95967012 -1.32818605  0.19686124]\n",
            " [ 0.73846658  0.17136828 -0.11564828 -0.3011037  -1.47852199]\n",
            " [-0.71984421 -0.46063877  1.05712223  0.34361829 -1.76304016]] (10, 5)\n"
          ]
        }
      ]
    },
    {
      "cell_type": "markdown",
      "metadata": {
        "id": "sh0m2tMqo5zj"
      },
      "source": [
        "**예제 16**\n",
        "\n",
        "`a1`의 `shape`와 데이터 `type`을 확인하세요. 모든 값을 `int64`로 변경하고 타입을 확인하세요."
      ]
    },
    {
      "cell_type": "code",
      "metadata": {
        "id": "8-2I_n6So5zj",
        "colab": {
          "base_uri": "https://localhost:8080/"
        },
        "outputId": "5ff932f9-acd5-4edf-bc3e-763d074dd022"
      },
      "source": [
        "print(a1.shape, [type(x) for x in a1])"
      ],
      "execution_count": null,
      "outputs": [
        {
          "output_type": "stream",
          "name": "stdout",
          "text": [
            "(4,) [<class 'numpy.int64'>, <class 'numpy.int64'>, <class 'numpy.int64'>, <class 'numpy.int64'>]\n"
          ]
        }
      ]
    },
    {
      "cell_type": "markdown",
      "metadata": {
        "id": "e4F4JeTRaOHB"
      },
      "source": [
        "**예제 17**\n",
        "\n",
        "`a2`의 `shape`와 데이터 `type`을 확인하세요. 모든 값을 `float64`로 변경하고 타입을 확인하세요."
      ]
    },
    {
      "cell_type": "code",
      "source": [
        "print(a2.shape, [type(j) for i in a2 for j in i])"
      ],
      "metadata": {
        "colab": {
          "base_uri": "https://localhost:8080/"
        },
        "id": "507Kfmyb6Q7m",
        "outputId": "92ca10c1-38a2-4b0a-e9c4-eba1718f4c2b"
      },
      "execution_count": 39,
      "outputs": [
        {
          "output_type": "stream",
          "name": "stdout",
          "text": [
            "(4, 2) [<class 'numpy.int64'>, <class 'numpy.int64'>, <class 'numpy.int64'>, <class 'numpy.int64'>, <class 'numpy.int64'>, <class 'numpy.int64'>, <class 'numpy.int64'>, <class 'numpy.int64'>]\n"
          ]
        }
      ]
    },
    {
      "cell_type": "code",
      "source": [
        "a2 = np.array(a2, dtype = 'float64')\n",
        "print(a2.shape, [type(j) for i in a2 for j in i])"
      ],
      "metadata": {
        "colab": {
          "base_uri": "https://localhost:8080/"
        },
        "id": "lohFXBxQ6-0Z",
        "outputId": "c8d85486-2488-46cc-a82f-576618f336c5"
      },
      "execution_count": 41,
      "outputs": [
        {
          "output_type": "stream",
          "name": "stdout",
          "text": [
            "(4, 2) [<class 'numpy.float64'>, <class 'numpy.float64'>, <class 'numpy.float64'>, <class 'numpy.float64'>, <class 'numpy.float64'>, <class 'numpy.float64'>, <class 'numpy.float64'>, <class 'numpy.float64'>]\n"
          ]
        }
      ]
    },
    {
      "cell_type": "markdown",
      "metadata": {
        "id": "gPc8HSQ7mxLt"
      },
      "source": [
        "**예제 18**\n",
        "\n",
        "`a1`을 `.npy`파일로 저장하세요. 경로는 `02_quest18.npy` 입니다."
      ]
    },
    {
      "cell_type": "code",
      "metadata": {
        "id": "gpSqudjHmxLu"
      },
      "source": [
        "np.save('02_quest18.npy', a1)"
      ],
      "execution_count": null,
      "outputs": []
    },
    {
      "cell_type": "markdown",
      "metadata": {
        "id": "KDC4PphcmXW8"
      },
      "source": [
        "**예제 18**\n",
        "\n",
        "`a1`과 `a2`를 `npz`파일로 저장하세요. 경로는 `02_quest19.npz` 입니다."
      ]
    },
    {
      "cell_type": "code",
      "source": [
        "np.savez('02_quest19', a1, a2)"
      ],
      "metadata": {
        "id": "HwEFFMKl8WEf"
      },
      "execution_count": 44,
      "outputs": []
    },
    {
      "cell_type": "markdown",
      "metadata": {
        "id": "E2pIiC6HmhMm"
      },
      "source": [
        "**예제 20**\n",
        "\n",
        "위에서 저장한 파일을 모두 불러오고 저장된 배열들을 출력하세요."
      ]
    },
    {
      "cell_type": "code",
      "source": [
        "np.load('02_quest18.npy')"
      ],
      "metadata": {
        "colab": {
          "base_uri": "https://localhost:8080/"
        },
        "id": "z2D6iZdx8gcO",
        "outputId": "7c231d79-ea2a-4da0-e3af-fc4d0b253a92"
      },
      "execution_count": 45,
      "outputs": [
        {
          "output_type": "execute_result",
          "data": {
            "text/plain": [
              "array([2, 4, 1, 3])"
            ]
          },
          "metadata": {},
          "execution_count": 45
        }
      ]
    },
    {
      "cell_type": "code",
      "source": [
        "load = np.load('02_quest19.npz')\n",
        "for ar in load:\n",
        "    print(ar)\n",
        "print(load['arr_0'],load['arr_1'] )"
      ],
      "metadata": {
        "colab": {
          "base_uri": "https://localhost:8080/"
        },
        "id": "3QeaCZwD8mH-",
        "outputId": "06371bf7-01c4-487f-c71e-f5bea42dc328"
      },
      "execution_count": 48,
      "outputs": [
        {
          "output_type": "stream",
          "name": "stdout",
          "text": [
            "arr_0\n",
            "arr_1\n",
            "[2 4 1 3] [[1. 0.]\n",
            " [1. 0.]\n",
            " [3. 2.]\n",
            " [1. 1.]]\n"
          ]
        }
      ]
    },
    {
      "cell_type": "markdown",
      "source": [
        "**예제 21**\n",
        "\n",
        "`ch02_quest18.npy`와 `ch02_quest19.npy` 를 깃허브 `results`폴더에 추가해 주세요."
      ],
      "metadata": {
        "id": "6-xtu1pBXTsB"
      }
    },
    {
      "cell_type": "code",
      "source": [
        "# 선생님께서 만들어둔 results폴더에 있습니다."
      ],
      "metadata": {
        "id": "6vvCEgzCXw4t"
      },
      "execution_count": null,
      "outputs": []
    }
  ]
}