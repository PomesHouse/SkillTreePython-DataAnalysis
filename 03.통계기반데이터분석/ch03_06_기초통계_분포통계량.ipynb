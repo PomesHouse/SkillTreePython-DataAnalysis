{
  "nbformat": 4,
  "nbformat_minor": 0,
  "metadata": {
    "colab": {
      "name": "ch03_06_기초통계-분포통계량.ipynb",
      "provenance": [],
      "collapsed_sections": [],
      "include_colab_link": true
    },
    "kernelspec": {
      "name": "python3",
      "display_name": "Python 3"
    },
    "language_info": {
      "name": "python"
    }
  },
  "cells": [
    {
      "cell_type": "markdown",
      "metadata": {
        "id": "view-in-github",
        "colab_type": "text"
      },
      "source": [
        "<a href=\"https://colab.research.google.com/github/PomesHouse/SkillTreePython-DataAnalysis/blob/main/03.%ED%86%B5%EA%B3%84%EA%B8%B0%EB%B0%98%EB%8D%B0%EC%9D%B4%ED%84%B0%EB%B6%84%EC%84%9D/ch03_06_%EA%B8%B0%EC%B4%88%ED%86%B5%EA%B3%84_%EB%B6%84%ED%8F%AC%ED%86%B5%EA%B3%84%EB%9F%89.ipynb\" target=\"_parent\"><img src=\"https://colab.research.google.com/assets/colab-badge.svg\" alt=\"Open In Colab\"/></a>"
      ]
    },
    {
      "cell_type": "markdown",
      "source": [
        "# ch03.06. 기초통계 - 분포통계량\n",
        "---\n",
        "* 날짜:\n",
        "* 이름:\n",
        "\n",
        "## 학습내용\n",
        "    - 백분위수, 사분위수\n",
        "    - 왜도\n",
        "    - 첨도"
      ],
      "metadata": {
        "id": "wWpXZc2fi39U"
      }
    },
    {
      "cell_type": "code",
      "source": [
        "import numpy as np\n",
        "import matplotlib.pyplot as plt\n",
        "import pandas as pd\n",
        "import seaborn as sns"
      ],
      "metadata": {
        "id": "uYLRSgCqw4YZ"
      },
      "execution_count": 1,
      "outputs": []
    },
    {
      "cell_type": "markdown",
      "source": [
        "##  분포 통계\n",
        "---\n",
        "\n",
        "* 분포통계는 데이터의 위치나 모양을 확인"
      ],
      "metadata": {
        "id": "rx3G1AI_nCTw"
      }
    },
    {
      "cell_type": "markdown",
      "source": [
        "### **| 데이터 생성**\n",
        "\n",
        "```\n",
        "# 아래의 함수는 정규분포를 따르는 랜덤한 실수를 반환합니다.\n",
        "np.random.normal(loc, scale, size)\n",
        "# loc = 평균\n",
        "# scale = 표준편차\n",
        "# size = 추출할 데이터(표본)의 크기\n",
        "```"
      ],
      "metadata": {
        "id": "Qamnn6ffuxFL"
      }
    },
    {
      "cell_type": "markdown",
      "source": [
        "* 평균 0, 표준편차 1인 정규분포 데이터 1000개를 생성하기"
      ],
      "metadata": {
        "id": "T8BAXON4vIxO"
      }
    },
    {
      "cell_type": "code",
      "source": [
        "# 넘파이 랜덤 시드 0으로 설정\n",
        "np.random.seed(0)\n",
        "# 넘파이 배열 `a`로 바인딩\n",
        "a = np.random.normal(0, 1, 1000)"
      ],
      "metadata": {
        "id": "QGUgicvFFpBp"
      },
      "execution_count": 2,
      "outputs": []
    },
    {
      "cell_type": "markdown",
      "source": [
        "* `a` 분포 그리기"
      ],
      "metadata": {
        "id": "tiM7-w9kvR7W"
      }
    },
    {
      "cell_type": "code",
      "source": [
        "sns.histplot(a)\n",
        "plt.show()"
      ],
      "metadata": {
        "id": "gz9cjV1FwGQH",
        "colab": {
          "base_uri": "https://localhost:8080/",
          "height": 265
        },
        "outputId": "991c1a0e-3a30-4c63-af16-c8556f5e9148"
      },
      "execution_count": 3,
      "outputs": [
        {
          "output_type": "display_data",
          "data": {
            "text/plain": [
              "<Figure size 432x288 with 1 Axes>"
            ],
            "image/png": "[encoded data removed]"
          },
          "metadata": {
            "needs_background": "light"
          }
        }
      ]
    },
    {
      "cell_type": "markdown",
      "source": [
        "### **| 백분위수와 사분위수**\n",
        "\n",
        "<p align='center'>\n",
        "<img src=https://github.com/yebiny/SkillTreePython-DataAnalysis/blob/main/imgs/ch0306-03.png?raw=true width=800>\n",
        "</p>\n",
        "\n",
        "```\n",
        "np.percentile(x,  percent)\n",
        "np.quantile(x, percent_ratio)\n",
        "```"
      ],
      "metadata": {
        "id": "WGyw7XqJF1x_"
      }
    },
    {
      "cell_type": "markdown",
      "source": [
        "* 하위 10% 에 위치한 값 확인"
      ],
      "metadata": {
        "id": "AG9r8NEgJrk6"
      }
    },
    {
      "cell_type": "code",
      "execution_count": 4,
      "metadata": {
        "id": "bfHNqDlAFtt3",
        "colab": {
          "base_uri": "https://localhost:8080/"
        },
        "outputId": "56065d62-b3da-431e-f8d1-9ce2bb7e25f1"
      },
      "outputs": [
        {
          "output_type": "stream",
          "name": "stdout",
          "text": [
            "-1.2991423253580128\n",
            "-1.2991423253580128\n"
          ]
        }
      ],
      "source": [
        "# percentile 사용\n",
        "print(np.percentile(a, 10))\n",
        "# quantile 사용\n",
        "print(np.quantile(a, 0.1))"
      ]
    },
    {
      "cell_type": "markdown",
      "source": [
        "* 하위 80% 에 위치한 값 확인"
      ],
      "metadata": {
        "id": "3L-oTyFpJzeV"
      }
    },
    {
      "cell_type": "code",
      "execution_count": 5,
      "metadata": {
        "id": "12js6oJuFtt4",
        "colab": {
          "base_uri": "https://localhost:8080/"
        },
        "outputId": "6e63bc7f-3c0e-4f27-d423-2203a13a0020"
      },
      "outputs": [
        {
          "output_type": "stream",
          "name": "stdout",
          "text": [
            "0.7883967913601156\n",
            "0.7883967913601156\n"
          ]
        }
      ],
      "source": [
        "# percentile 사용\n",
        "print(np.percentile(a, 80))\n",
        "# quantile 사용\n",
        "print(np.quantile(a, 0.8))"
      ]
    },
    {
      "cell_type": "markdown",
      "metadata": {
        "id": "nc2SspMDFtt5"
      },
      "source": [
        "### **| 왜도 (skew)**\n",
        "\n",
        "<p align='center'>\n",
        "<img src=https://github.com/yebiny/SkillTreePython-DataAnalysis/blob/main/imgs/ch0306-01.png?raw=true width=800>\n",
        "</p>\n",
        "\n",
        "\n",
        "\n",
        "\\begin{align}\n",
        "\\text{skew} = \n",
        "\\frac{\\tfrac{1}{N} \\sum_{i=1}^N (x_i-\\overline{x})^3}{ \\sqrt{\\tfrac{1}{N-1} \\sum_{i=1}^N (x_i-\\overline{x})^2}^{\\,3}}\n",
        "\\end{align}\n",
        "\n",
        "```\n",
        "from scipy.stats import skew\n",
        "skew(a)\n",
        "```"
      ]
    },
    {
      "cell_type": "markdown",
      "source": [
        "* `a`의 왜도 구하기"
      ],
      "metadata": {
        "id": "JC81wNfOLdPz"
      }
    },
    {
      "cell_type": "code",
      "source": [
        "from scipy.stats import skew\n",
        "skew(a)"
      ],
      "metadata": {
        "id": "woGfKcmlLUAw",
        "colab": {
          "base_uri": "https://localhost:8080/"
        },
        "outputId": "54c160c0-2db2-4ef3-b1b3-1d43c3cfe6b5"
      },
      "execution_count": 6,
      "outputs": [
        {
          "output_type": "execute_result",
          "data": {
            "text/plain": [
              "0.03385895323565712"
            ]
          },
          "metadata": {},
          "execution_count": 6
        }
      ]
    },
    {
      "cell_type": "markdown",
      "source": [
        "* 세개의 데이터의 분포를 그리고 각각의 왜도도 구해봅니다.\n",
        "\n",
        "```\n",
        "x1 = [1,2,3,4,5,2,3,4]\n",
        "x2 = [1,2,3,4,5,1,2]\n",
        "x3 = [1,2,3,4,5,4,5]\n",
        "```"
      ],
      "metadata": {
        "id": "y3fMGZC_WYJA"
      }
    },
    {
      "cell_type": "code",
      "source": [
        "x1 = [1,2,3,4,5,2,3,4]\n",
        "x2 = [1,2,3,4,5,1,2]\n",
        "x3 = [1,2,3,4,5,4,5]\n",
        "\n",
        "print('x1 skewness : ', skew(x1))\n",
        "print('x2 skewness : ', skew(x2))\n",
        "print('x3 skewness : ', skew(x3))"
      ],
      "metadata": {
        "id": "7cM1_Zg-WaYi",
        "colab": {
          "base_uri": "https://localhost:8080/"
        },
        "outputId": "712d2718-e244-4feb-8d9a-021c0ac090c6"
      },
      "execution_count": 7,
      "outputs": [
        {
          "output_type": "stream",
          "name": "stdout",
          "text": [
            "x1 skewness :  0.0\n",
            "x2 skewness :  0.478415965387339\n",
            "x3 skewness :  -0.4784159653873392\n"
          ]
        }
      ]
    },
    {
      "cell_type": "code",
      "source": [
        "plt.figure(figsize = (12,4))\n",
        "for i, x in enumerate([x1, x2, x3]):\n",
        "    plt.subplot(1, 3, i + 1)\n",
        "    sns.histplot(x, bins = 5)\n",
        "    plt.title(f'skew: {np.round(skew(x), 2)}')\n",
        "plt.show()"
      ],
      "metadata": {
        "colab": {
          "base_uri": "https://localhost:8080/",
          "height": 281
        },
        "id": "Ul7XEdIZWqnm",
        "outputId": "8e90662d-18c5-4281-97b0-bd4afa346a6d"
      },
      "execution_count": 9,
      "outputs": [
        {
          "output_type": "display_data",
          "data": {
            "text/plain": [
              "<Figure size 864x288 with 3 Axes>"
            ],
            "image/png": "[encoded data removed]"
          },
          "metadata": {
            "needs_background": "light"
          }
        }
      ]
    },
    {
      "cell_type": "markdown",
      "metadata": {
        "id": "6hJXW79CFtt8"
      },
      "source": [
        "### **| 첨도(kurtosis)**\n",
        "\n",
        "\n",
        "<p align='center'>\n",
        "<img src=https://github.com/yebiny/SkillTreePython-DataAnalysis/blob/main/imgs/ch0306-02.png?raw=true width=300>\n",
        "</p>\n",
        "\n",
        "\n",
        "\\begin{align}\n",
        "\\text{kurtosis} = \n",
        "\\frac{\\tfrac{1}{N} \\sum_{i=1}^N (x_i - \\overline{x})^4}{\\left(\\tfrac{1}{N} \\sum_{i=1}^N (x_i - \\overline{x})^2\\right)^2} - 3\n",
        "\\end{align}\n",
        "\n",
        "```\n",
        "from scipy.stats import kurtosis\n",
        "kurtosis(a)\n",
        "```"
      ]
    },
    {
      "cell_type": "code",
      "source": [
        "from scipy.stats import kurtosis\n",
        "kurtosis(a)"
      ],
      "metadata": {
        "id": "Pod4__SoM3yd",
        "colab": {
          "base_uri": "https://localhost:8080/"
        },
        "outputId": "e518de2a-ce4e-4824-dd0a-a1d50625c8e4"
      },
      "execution_count": 10,
      "outputs": [
        {
          "output_type": "execute_result",
          "data": {
            "text/plain": [
              "-0.0467663244783294"
            ]
          },
          "metadata": {},
          "execution_count": 10
        }
      ]
    },
    {
      "cell_type": "markdown",
      "source": [
        "* 세개의 데이터의 분포를 그리고 각각의 첨도도 구해봅니다.\n",
        "\n",
        "```\n",
        "x1 = [1,2,3,4,5,]\n",
        "x2 = [1,2,3,4,5,1]\n",
        "x3 = [1,2,3,4,5,1,1,1]\n",
        "```"
      ],
      "metadata": {
        "id": "QtKwSOfDX3GI"
      }
    },
    {
      "cell_type": "code",
      "source": [
        "x1 = [1,2,3,4,5,]\n",
        "x2 = [1,2,3,4,5,1]\n",
        "x3 = [1,2,3,4,5,1,1,1]\n",
        "\n",
        "print('x1 kurtosis : ', kurtosis(x1))\n",
        "print('x2 kurtosis : ', kurtosis(x2))\n",
        "print('x3 kurtosis : ', kurtosis(x3))"
      ],
      "metadata": {
        "id": "cvwL-aAQX3GN",
        "colab": {
          "base_uri": "https://localhost:8080/"
        },
        "outputId": "b5e4a727-2165-47db-d51f-a1a474a3a1d6"
      },
      "execution_count": 12,
      "outputs": [
        {
          "output_type": "stream",
          "name": "stdout",
          "text": [
            "x1 kurtosis :  -1.3\n",
            "x2 kurtosis :  -1.3650000000000002\n",
            "x3 kurtosis :  -0.9975510204081632\n"
          ]
        }
      ]
    },
    {
      "cell_type": "code",
      "source": [
        "plt.figure(figsize = (12,4))\n",
        "\n",
        "for i, x in enumerate([x1, x2, x3]):\n",
        "    plt.subplot(1, 3, i + 1)\n",
        "    sns.histplot(x, bins = 5 )\n",
        "    plt.title(f'kurtosis: {np.round(kurtosis(x), 2)}')\n",
        "plt.show()"
      ],
      "metadata": {
        "colab": {
          "base_uri": "https://localhost:8080/",
          "height": 281
        },
        "id": "Ng3l-rMsXXSf",
        "outputId": "59f14e7e-009e-408d-96f2-eca306fa79e3"
      },
      "execution_count": 13,
      "outputs": [
        {
          "output_type": "display_data",
          "data": {
            "text/plain": [
              "<Figure size 864x288 with 3 Axes>"
            ],
            "image/png": "[encoded data removed]"
          },
          "metadata": {
            "needs_background": "light"
          }
        }
      ]
    },
    {
      "cell_type": "markdown",
      "source": [
        "## 예제\n",
        "---"
      ],
      "metadata": {
        "id": "z6JYAMB_4Xq7"
      }
    },
    {
      "cell_type": "markdown",
      "source": [
        "#### **예제 01**\n",
        "\n",
        "1. 지난 시간에 배운 scipy 라이브러리의 gamma 함수를 사용합니다. \n",
        "\n",
        "2. a값이 4인 감마함수로 부터 표본을 1000개 추출하고 `x3`로 바인딩합니다.\n",
        "\n",
        "4. a값이 12인 감마함수로 부터 표본을 1000개 추출하고 `x4`로 바인딩합니다.\n",
        "\n",
        "6. `x3`의 모든 요소에 -1을 곱한 후 `x2`로 바인딩합니다.\n",
        "\n",
        "6. `x4`의 모든 요소에 -1을 곱한 후 `x1`로 바인딩합니다.\n",
        "\n",
        "7. `x1, x2, x3, x4`의 분포를 각각 그립니다.\n",
        "\n",
        "7. `x1, x2, x3, x4`의 왜도를 각각 구합니다.\n",
        "\n",
        "7. `x1, x2, x3, x4`의 첨도를 각각 구합니다.\n"
      ],
      "metadata": {
        "id": "zrSXtss0NZZB"
      }
    },
    {
      "cell_type": "code",
      "source": [
        "import scipy as sp\n",
        "from scipy.stats import gamma\n",
        "\n",
        "def get_x(a, n = 1000):\n",
        "    g = gamma(a)\n",
        "    np.random.seed(0)\n",
        "    rvs = g.rvs(n)\n",
        "    return rvs\n",
        "\n",
        "x3 = get_x(4)\n",
        "x4 = get_x(12)\n",
        "\n",
        "x2 = x3 * -1\n",
        "x1 = x4 * -1"
      ],
      "metadata": {
        "id": "QoPSm3Y8Yhmk"
      },
      "execution_count": 23,
      "outputs": []
    },
    {
      "cell_type": "code",
      "source": [
        "fig, axes = plt.subplots(4,1, figsize = (5,10), sharex = True)\n",
        "\n",
        "for i, j in enumerate([x1, x2, x3, x4]):\n",
        "    axes[i].hist(j, alpha = 0.5)\n",
        "    axes[i].set_title(f'x{i + 1} skewness: {skew(j)}\\nkurtosis: {kurtosis(j)}')\n",
        "    fig.tight_layout()\n"
      ],
      "metadata": {
        "id": "AnLfGPNqGDBt",
        "colab": {
          "base_uri": "https://localhost:8080/",
          "height": 729
        },
        "outputId": "5444415e-20ff-4c1c-e898-e758b279fdcb"
      },
      "execution_count": 30,
      "outputs": [
        {
          "output_type": "display_data",
          "data": {
            "text/plain": [
              "<Figure size 360x720 with 4 Axes>"
            ],
            "image/png": "[encoded data removed]"
          },
          "metadata": {
            "needs_background": "light"
          }
        }
      ]
    },
    {
      "cell_type": "code",
      "source": [
        "fig = plt.figure(figsize=(8,4))\n",
        "xs = ['x1','x2','x3','x4']\n",
        "for x in xs:\n",
        "  sns.kdeplot(eval(x))\n",
        "plt.legend(xs)\n",
        "plt.show()"
      ],
      "metadata": {
        "colab": {
          "base_uri": "https://localhost:8080/",
          "height": 265
        },
        "id": "GvPf0ShIZY2o",
        "outputId": "ba413224-e84e-458b-fd53-4fcde2c551c4"
      },
      "execution_count": 27,
      "outputs": [
        {
          "output_type": "display_data",
          "data": {
            "text/plain": [
              "<Figure size 576x288 with 1 Axes>"
            ],
            "image/png": "[encoded data removed]"
          },
          "metadata": {
            "needs_background": "light"
          }
        }
      ]
    },
    {
      "cell_type": "code",
      "source": [
        "fig = plt.figure(figsize=(8,4))\n",
        "xs = ['x1', 'x2', 'x3', 'x4']\n",
        "for x in xs:\n",
        "  sns.kdeplot(eval(x))\n",
        "plt.legend()\n",
        "plt.show()"
      ],
      "metadata": {
        "colab": {
          "base_uri": "https://localhost:8080/",
          "height": 283
        },
        "id": "NHtK-267b4Mn",
        "outputId": "dcfca347-6b1e-4df8-e0d1-b2dc28738ede"
      },
      "execution_count": 33,
      "outputs": [
        {
          "output_type": "stream",
          "name": "stderr",
          "text": [
            "No handles with labels found to put in legend.\n"
          ]
        },
        {
          "output_type": "display_data",
          "data": {
            "text/plain": [
              "<Figure size 576x288 with 1 Axes>"
            ],
            "image/png": "[encoded data removed]"
          },
          "metadata": {
            "needs_background": "light"
          }
        }
      ]
    },
    {
      "cell_type": "code",
      "source": [
        "print('x1 skewness : ', np.round(skew(x1),2), 'kurtosis : ', np.round(kurtosis(x1),2))\n",
        "print('x2 skewness : ', skew(x2), 'kurtosis : ', kurtosis(x2))\n",
        "print('x3 skewness : ', skew(x3), 'kurtosis : ', kurtosis(x3))\n",
        "print('x4 skewness : ', skew(x4), 'kurtosis : ', kurtosis(x4))"
      ],
      "metadata": {
        "id": "-4D8rxL9SbY0",
        "colab": {
          "base_uri": "https://localhost:8080/"
        },
        "outputId": "3b70d8f6-a7d0-408f-8534-806207541a0d"
      },
      "execution_count": 31,
      "outputs": [
        {
          "output_type": "stream",
          "name": "stdout",
          "text": [
            "x1 skewness :  -0.56 kurtosis :  0.33\n",
            "x2 skewness :  -0.9516556121881175 kurtosis :  1.1274746719479598\n",
            "x3 skewness :  0.9516556121881175 kurtosis :  1.1274746719479598\n",
            "x4 skewness :  0.5583272638164047 kurtosis :  0.32776590429672847\n"
          ]
        }
      ]
    },
    {
      "cell_type": "markdown",
      "source": [
        "#### **예제 02**\n",
        "\n",
        "타이타닉 데이터셋을 가져오고, 수치자료형 변수들의 **산포통계**와 **분포통계**를 정리하세요."
      ],
      "metadata": {
        "id": "vC9QE_7R5njn"
      }
    },
    {
      "cell_type": "code",
      "source": [
        "df = pd.read_csv('/content/train.csv')\n",
        "df.info() \n",
        "# 수치자료형 (PassengerId, Survivied, Pclass, Age, SibSp, Parch, Fare)"
      ],
      "metadata": {
        "id": "mOw2b43-51ZF",
        "colab": {
          "base_uri": "https://localhost:8080/"
        },
        "outputId": "f6c4337f-7c77-451b-b333-e417b038513f"
      },
      "execution_count": null,
      "outputs": [
        {
          "output_type": "stream",
          "name": "stdout",
          "text": [
            "<class 'pandas.core.frame.DataFrame'>\n",
            "RangeIndex: 891 entries, 0 to 890\n",
            "Data columns (total 12 columns):\n",
            " #   Column       Non-Null Count  Dtype  \n",
            "---  ------       --------------  -----  \n",
            " 0   PassengerId  891 non-null    int64  \n",
            " 1   Survived     891 non-null    int64  \n",
            " 2   Pclass       891 non-null    int64  \n",
            " 3   Name         891 non-null    object \n",
            " 4   Sex          891 non-null    object \n",
            " 5   Age          714 non-null    float64\n",
            " 6   SibSp        891 non-null    int64  \n",
            " 7   Parch        891 non-null    int64  \n",
            " 8   Ticket       891 non-null    object \n",
            " 9   Fare         891 non-null    float64\n",
            " 10  Cabin        204 non-null    object \n",
            " 11  Embarked     889 non-null    object \n",
            "dtypes: float64(2), int64(5), object(5)\n",
            "memory usage: 83.7+ KB\n"
          ]
        }
      ]
    },
    {
      "cell_type": "markdown",
      "source": [
        "PassengerId"
      ],
      "metadata": {
        "id": "HN3jHpnaXAHj"
      }
    },
    {
      "cell_type": "code",
      "source": [
        "def minmax(x):\n",
        "    return (x - np.min(x)) / (np.max(x) - np.min(x))\n",
        "\n",
        "def standard(x):\n",
        "    return  (x - np.mean(x)) / np.std(x, ddof = 1)"
      ],
      "metadata": {
        "id": "-2ARUj2FY8Tr"
      },
      "execution_count": null,
      "outputs": []
    },
    {
      "cell_type": "code",
      "source": [
        "# 산포 통계(분산, 표준편차, 변동계수, 스케일링, 범위와 사분위 범위)\n",
        "Id = df['PassengerId']\n",
        "print('분산 : ', np.var(Id, ddof = 1))\n",
        "print('표준편차 : ', np.std(Id, ddof = 1))\n",
        "print('minmax 스케일링 : ', minmax(Id))\n",
        "print('standard(z-score) 스케일링 : ', standard(Id))\n",
        "print('범위 : ', np.ptp(Id) )\n",
        "print('사분위 범위 : ', np.quantile(Id, 0.75) - np.quantile(Id, 0.25))\n",
        "\n",
        "# 분포 통계(백분위수, 사분위수, 왜도, 첨도)\n",
        "print('백분위수(50%) : ', np.percentile(Id, 50))\n",
        "print('사분위수(2Q, 중위수) : ', np.quantile(Id, 0.5))\n",
        "print('skewness : ', skew(Id))\n",
        "print('kurtosis : ', kurtosis(Id))"
      ],
      "metadata": {
        "id": "Gx3sM2gdXWwC"
      },
      "execution_count": null,
      "outputs": []
    },
    {
      "cell_type": "markdown",
      "source": [
        "Survivied"
      ],
      "metadata": {
        "id": "TSOggYDjXAad"
      }
    },
    {
      "cell_type": "code",
      "source": [
        "# 산포 통계(분산, 표준편차, 변동계수, 스케일링, 범위와 사분위 범위)\n",
        "sur = df['Survived']\n",
        "print('분산 : ', np.var(sur, ddof = 1))\n",
        "print('표준편차 : ', np.std(sur, ddof = 1))\n",
        "\n",
        "plt.subplot(2,1,1)\n",
        "ax1 = sns.histplot(minmax(sur))\n",
        "ax1.set_title('minmax scaling')\n",
        "plt.subplot(2,1,2)\n",
        "ax2 = sns.histplot(standard(sur))\n",
        "ax2.set_title('standard(z-score) scaling')\n",
        "plt.tight_layout()\n",
        "plt.show()\n",
        "\n",
        "print('범위 : ', np.ptp(sur) )\n",
        "print('사분위 범위 : ', np.quantile(sur, 0.75) - np.quantile(sur, 0.25))\n",
        "\n",
        "# 분포 통계(백분위수, 사분위수, 왜도, 첨도)\n",
        "print('백분위수(50%) : ', np.percentile(sur, 50))\n",
        "print('사분위수(2Q, 중위수) : ', np.quantile(sur, 0.5))\n",
        "print('skewness : ', skew(sur))\n",
        "print('kurtosis : ', kurtosis(sur))"
      ],
      "metadata": {
        "id": "CVTyHE1CbHz8"
      },
      "execution_count": null,
      "outputs": []
    },
    {
      "cell_type": "markdown",
      "source": [
        "Pclass"
      ],
      "metadata": {
        "id": "GP2VhMwfXAh6"
      }
    },
    {
      "cell_type": "code",
      "source": [
        "# 산포 통계(분산, 표준편차, 변동계수, 스케일링, 범위와 사분위 범위)\n",
        "pc = df['Pclass']\n",
        "print('분산 : ', np.var(pc, ddof = 1))\n",
        "print('표준편차 : ', np.std(pc, ddof = 1))\n",
        "\n",
        "plt.subplot(2,1,1)\n",
        "ax1 = sns.histplot(minmax(pc))\n",
        "ax1.set_title('minmax scaling')\n",
        "plt.subplot(2,1,2)\n",
        "ax2 = sns.histplot(standard(pc))\n",
        "ax2.set_title('standard(z-score) scaling')\n",
        "plt.tight_layout()\n",
        "plt.show()\n",
        "\n",
        "print('범위 : ', np.ptp(pc) )\n",
        "print('사분위 범위 : ', np.quantile(pc, 0.75) - np.quantile(pc, 0.25))\n",
        "\n",
        "# 분포 통계(백분위수, 사분위수, 왜도, 첨도)\n",
        "print('백분위수(50%) : ', np.percentile(pc, 50))\n",
        "print('사분위수(2Q, 중위수) : ', np.quantile(pc, 0.5))\n",
        "print('skewness : ', skew(pc))\n",
        "print('kurtosis : ', kurtosis(pc))"
      ],
      "metadata": {
        "colab": {
          "base_uri": "https://localhost:8080/",
          "height": 444
        },
        "id": "TnUNsPg5cM-7",
        "outputId": "759b22e2-1575-4c8d-caac-864257866368"
      },
      "execution_count": null,
      "outputs": [
        {
          "output_type": "stream",
          "name": "stdout",
          "text": [
            "분산 :  0.6990151199889065\n",
            "표준편차 :  0.8360712409770513\n"
          ]
        },
        {
          "output_type": "display_data",
          "data": {
            "text/plain": [
              "<Figure size 432x288 with 2 Axes>"
            ],
            "image/png": "[encoded data removed]"
          },
          "metadata": {
            "needs_background": "light"
          }
        },
        {
          "output_type": "stream",
          "name": "stdout",
          "text": [
            "범위 :  2\n",
            "사분위 범위 :  1.0\n",
            "백분위수(50%) :  3.0\n",
            "사분위수(2Q, 중위수) :  3.0\n",
            "skewness :  -0.6294858816096934\n",
            "kurtosis :  -1.2795696818700388\n"
          ]
        }
      ]
    },
    {
      "cell_type": "markdown",
      "source": [
        "Age"
      ],
      "metadata": {
        "id": "IjZIz3HkXAlq"
      }
    },
    {
      "cell_type": "code",
      "source": [
        "# 산포 통계(분산, 표준편차, 변동계수, 스케일링, 범위와 사분위 범위)\n",
        "ag = df['Age'].dropna()\n",
        "print('분산 : ', np.var(ag, ddof = 1))\n",
        "print('표준편차 : ', np.std(ag, ddof = 1))\n",
        "\n",
        "plt.subplot(2,1,1)\n",
        "ax1 = sns.histplot(minmax(ag))\n",
        "ax1.set_title('minmax scaling')\n",
        "plt.subplot(2,1,2)\n",
        "ax2 = sns.histplot(standard(ag))\n",
        "ax2.set_title('standard(z-score) scaling')\n",
        "plt.tight_layout()\n",
        "plt.show()\n",
        "\n",
        "print('범위 : ', np.ptp(ag) )\n",
        "print('사분위 범위 : ', np.quantile(ag, 0.75) - np.quantile(ag, 0.25))\n",
        "\n",
        "# 분포 통계(백분위수, 사분위수, 왜도, 첨도)\n",
        "print('백분위수(50%) : ', np.percentile(ag, 50))\n",
        "print('사분위수(2Q, 중위수) : ', np.quantile(ag, 0.5))\n",
        "print('skewness : ', skew(ag))\n",
        "print('kurtosis : ', kurtosis(ag))"
      ],
      "metadata": {
        "colab": {
          "base_uri": "https://localhost:8080/",
          "height": 444
        },
        "id": "YFcGR_kJdsp9",
        "outputId": "1ca8b920-f533-464f-83a5-a3c82ed38c5c"
      },
      "execution_count": null,
      "outputs": [
        {
          "output_type": "stream",
          "name": "stdout",
          "text": [
            "분산 :  211.0191247463081\n",
            "표준편차 :  14.526497332334044\n"
          ]
        },
        {
          "output_type": "display_data",
          "data": {
            "text/plain": [
              "<Figure size 432x288 with 2 Axes>"
            ],
            "image/png": "[encoded data removed]"
          },
          "metadata": {
            "needs_background": "light"
          }
        },
        {
          "output_type": "stream",
          "name": "stdout",
          "text": [
            "범위 :  79.58\n",
            "사분위 범위 :  17.875\n",
            "백분위수(50%) :  28.0\n",
            "사분위수(2Q, 중위수) :  28.0\n",
            "skewness :  0.3882898514698657\n",
            "kurtosis :  0.16863657224286044\n"
          ]
        }
      ]
    },
    {
      "cell_type": "markdown",
      "source": [
        "SibSp"
      ],
      "metadata": {
        "id": "c38Do5MIXAoZ"
      }
    },
    {
      "cell_type": "code",
      "source": [
        "# 산포 통계(분산, 표준편차, 변동계수, 스케일링, 범위와 사분위 범위)\n",
        "ss = df['SibSp'].dropna()\n",
        "print('분산 : ', np.var(ss, ddof = 1))\n",
        "print('표준편차 : ', np.std(ss, ddof = 1))\n",
        "\n",
        "plt.subplot(2,1,1)\n",
        "ax1 = sns.histplot(minmax(ss))\n",
        "ax1.set_title('minmax scaling')\n",
        "plt.subplot(2,1,2)\n",
        "ax2 = sns.histplot(standard(ss))\n",
        "ax2.set_title('standard(z-score) scaling')\n",
        "plt.tight_layout()\n",
        "plt.show()\n",
        "\n",
        "print('범위 : ', np.ptp(ss) )\n",
        "print('사분위 범위 : ', np.quantile(ss, 0.75) - np.quantile(ss, 0.25))\n",
        "\n",
        "# 분포 통계(백분위수, 사분위수, 왜도, 첨도)\n",
        "print('백분위수(50%) : ', np.percentile(ss, 50))\n",
        "print('사분위수(2Q, 중위수) : ', np.quantile(ss, 0.5))\n",
        "print('skewness : ', skew(ss))\n",
        "print('kurtosis : ', kurtosis(ss))"
      ],
      "metadata": {
        "colab": {
          "base_uri": "https://localhost:8080/",
          "height": 444
        },
        "id": "qPCu-7v9eDd1",
        "outputId": "525bd3bb-fb2b-4d83-9adb-f23403ac103d"
      },
      "execution_count": null,
      "outputs": [
        {
          "output_type": "stream",
          "name": "stdout",
          "text": [
            "분산 :  1.2160430774662894\n",
            "표준편차 :  1.1027434322934275\n"
          ]
        },
        {
          "output_type": "display_data",
          "data": {
            "text/plain": [
              "<Figure size 432x288 with 2 Axes>"
            ],
            "image/png": "[encoded data removed]"
          },
          "metadata": {
            "needs_background": "light"
          }
        },
        {
          "output_type": "stream",
          "name": "stdout",
          "text": [
            "범위 :  8\n",
            "사분위 범위 :  1.0\n",
            "백분위수(50%) :  0.0\n",
            "사분위수(2Q, 중위수) :  0.0\n",
            "skewness :  3.6891276847759507\n",
            "kurtosis :  17.77351174692092\n"
          ]
        }
      ]
    },
    {
      "cell_type": "markdown",
      "source": [
        "Parch"
      ],
      "metadata": {
        "id": "pSnMnIS9XArK"
      }
    },
    {
      "cell_type": "code",
      "source": [
        "# 산포 통계(분산, 표준편차, 변동계수, 스케일링, 범위와 사분위 범위)\n",
        "par = df['Parch'].dropna()\n",
        "print('분산 : ', np.var(par, ddof = 1))\n",
        "print('표준편차 : ', np.std(par, ddof = 1))\n",
        "\n",
        "plt.subplot(2,1,1)\n",
        "ax1 = sns.histplot(minmax(par))\n",
        "ax1.set_title('minmax scaling')\n",
        "plt.subplot(2,1,2)\n",
        "ax2 = sns.histplot(standard(par))\n",
        "ax2.set_title('standard(z-score) scaling')\n",
        "plt.tight_layout()\n",
        "plt.show()\n",
        "\n",
        "print('범위 : ', np.ptp(par) )\n",
        "print('사분위 범위 : ', np.quantile(par, 0.75) - np.quantile(par, 0.25))\n",
        "\n",
        "# 분포 통계(백분위수, 사분위수, 왜도, 첨도)\n",
        "print('백분위수(50%) : ', np.percentile(par, 50))\n",
        "print('사분위수(2Q, 중위수) : ', np.quantile(par, 0.5))\n",
        "print('skewness : ', skew(par))\n",
        "print('kurtosis : ', kurtosis(par))"
      ],
      "metadata": {
        "colab": {
          "base_uri": "https://localhost:8080/",
          "height": 444
        },
        "id": "tL5Kxv2_eRbM",
        "outputId": "34ce3989-4582-44cd-876a-1007f143d6f3"
      },
      "execution_count": null,
      "outputs": [
        {
          "output_type": "stream",
          "name": "stdout",
          "text": [
            "분산 :  0.6497282437357467\n",
            "표준편차 :  0.8060572211299559\n"
          ]
        },
        {
          "output_type": "display_data",
          "data": {
            "text/plain": [
              "<Figure size 432x288 with 2 Axes>"
            ],
            "image/png": "[encoded data removed]"
          },
          "metadata": {
            "needs_background": "light"
          }
        },
        {
          "output_type": "stream",
          "name": "stdout",
          "text": [
            "범위 :  6\n",
            "사분위 범위 :  0.0\n",
            "백분위수(50%) :  0.0\n",
            "사분위수(2Q, 중위수) :  0.0\n",
            "skewness :  2.7444867379203735\n",
            "kurtosis :  9.716613236667277\n"
          ]
        }
      ]
    },
    {
      "cell_type": "markdown",
      "source": [
        "Fare"
      ],
      "metadata": {
        "id": "o6VS4dB3XAtn"
      }
    },
    {
      "cell_type": "code",
      "source": [
        "# 산포 통계(분산, 표준편차, 변동계수, 스케일링, 범위와 사분위 범위)\n",
        "fare = df['Fare'].dropna()\n",
        "print('분산 : ', np.var(fare, ddof = 1))\n",
        "print('표준편차 : ', np.std(fare, ddof = 1))\n",
        "\n",
        "plt.subplot(2,1,1)\n",
        "ax1 = sns.histplot(minmax(fare))\n",
        "ax1.set_title('minmax scaling')\n",
        "plt.subplot(2,1,2)\n",
        "ax2 = sns.histplot(standard(fare))\n",
        "ax2.set_title('standard(z-score) scaling')\n",
        "plt.tight_layout()\n",
        "plt.show()\n",
        "\n",
        "print('범위 : ', np.ptp(fare) )\n",
        "print('사분위 범위 : ', np.quantile(fare, 0.75) - np.quantile(fare, 0.25))\n",
        "\n",
        "# 분포 통계(백분위수, 사분위수, 왜도, 첨도)\n",
        "print('백분위수(50%) : ', np.percentile(fare, 50))\n",
        "print('사분위수(2Q, 중위수) : ', np.quantile(fare, 0.5))\n",
        "print('skewness : ', skew(fare))\n",
        "print('kurtosis : ', kurtosis(fare))"
      ],
      "metadata": {
        "colab": {
          "base_uri": "https://localhost:8080/",
          "height": 444
        },
        "id": "HTAWxsePWgzx",
        "outputId": "1b47c4fb-6899-48f0-d63c-d8e7214d5442"
      },
      "execution_count": null,
      "outputs": [
        {
          "output_type": "stream",
          "name": "stdout",
          "text": [
            "분산 :  2469.436845743117\n",
            "표준편차 :  49.693428597180905\n"
          ]
        },
        {
          "output_type": "display_data",
          "data": {
            "text/plain": [
              "<Figure size 432x288 with 2 Axes>"
            ],
            "image/png": "[encoded data removed]"
          },
          "metadata": {
            "needs_background": "light"
          }
        },
        {
          "output_type": "stream",
          "name": "stdout",
          "text": [
            "범위 :  512.3292\n",
            "사분위 범위 :  23.0896\n",
            "백분위수(50%) :  14.4542\n",
            "사분위수(2Q, 중위수) :  14.4542\n",
            "skewness :  4.7792532923723545\n",
            "kurtosis :  33.20428925264474\n"
          ]
        }
      ]
    }
  ]
}