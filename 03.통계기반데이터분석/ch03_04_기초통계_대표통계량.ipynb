{
  "nbformat": 4,
  "nbformat_minor": 0,
  "metadata": {
    "colab": {
      "name": "ch03_04_기초통계-대표통계량.ipynb",
      "provenance": [],
      "collapsed_sections": [],
      "include_colab_link": true
    },
    "kernelspec": {
      "name": "python3",
      "display_name": "Python 3"
    },
    "language_info": {
      "name": "python"
    }
  },
  "cells": [
    {
      "cell_type": "markdown",
      "metadata": {
        "id": "view-in-github",
        "colab_type": "text"
      },
      "source": [
        "<a href=\"https://colab.research.google.com/github/PomesHouse/SkillTreePython-DataAnalysis/blob/main/03.%ED%86%B5%EA%B3%84%EA%B8%B0%EB%B0%98%EB%8D%B0%EC%9D%B4%ED%84%B0%EB%B6%84%EC%84%9D/ch03_04_%EA%B8%B0%EC%B4%88%ED%86%B5%EA%B3%84_%EB%8C%80%ED%91%9C%ED%86%B5%EA%B3%84%EB%9F%89.ipynb\" target=\"_parent\"><img src=\"https://colab.research.google.com/assets/colab-badge.svg\" alt=\"Open In Colab\"/></a>"
      ]
    },
    {
      "cell_type": "markdown",
      "source": [
        "# ch03.04. 기초통계 - 대표통계량\n",
        "---\n",
        "* 날짜:\n",
        "* 이름:\n",
        "\n",
        "## 학습내용\n",
        "    - 최빈값\n",
        "    - 중앙값\n",
        "    - 산술 평균\n",
        "    - 조화 평균\n",
        "    - 절사 평균\n"
      ],
      "metadata": {
        "id": "wWpXZc2fi39U"
      }
    },
    {
      "cell_type": "code",
      "source": [
        "import numpy as np\n",
        "import pandas as pd\n",
        "import matplotlib.pyplot as plt\n",
        "import seaborn as sns"
      ],
      "metadata": {
        "id": "uYLRSgCqw4YZ"
      },
      "execution_count": null,
      "outputs": []
    },
    {
      "cell_type": "markdown",
      "source": [
        "## 대표 통계 - 수치자료형\n",
        "---"
      ],
      "metadata": {
        "id": "HFfrNCQzwC8p"
      }
    },
    {
      "cell_type": "markdown",
      "source": [
        "### **| 데이터 생성**\n",
        "\n",
        "```\n",
        "# 아래 함수는 랜덤한 정수를 반환합니다.\n",
        "np.random.randint(low, hight, shape)\n",
        "# low = 최소값\n",
        "# hight = 최대값\n",
        "# shape = 추출할 데이터의 크기\n",
        "```"
      ],
      "metadata": {
        "id": "FyMW-z9A5Dym"
      }
    },
    {
      "cell_type": "markdown",
      "source": [
        "* 최소값 1, 최대값 100인 데이터 1000개 생성하기"
      ],
      "metadata": {
        "id": "C61Z7FkB5dhN"
      }
    },
    {
      "cell_type": "code",
      "source": [
        "# 넘파이 랜덤 시드 0으로 설정\n",
        "np.random.seed(0)\n",
        "# 넘파이 배열 `a`로 바인딩\n",
        "a = np.random.randint(1, 101, 1000) # Return random integers from low (inclusive) to high (exclusive).\n",
        "# 판다스 시리즈 `s`로 바인딩\n",
        "s = pd.Series(a)"
      ],
      "metadata": {
        "id": "QGUgicvFFpBp"
      },
      "execution_count": null,
      "outputs": []
    },
    {
      "cell_type": "markdown",
      "source": [
        "* 데이터 분포 그리기"
      ],
      "metadata": {
        "id": "MNH_qxNE7ihh"
      }
    },
    {
      "cell_type": "code",
      "source": [
        "plt.hist(a)\n",
        "plt.show()\n",
        "sns.histplot(s)\n",
        "plt.show()"
      ],
      "metadata": {
        "id": "gz9cjV1FwGQH",
        "colab": {
          "base_uri": "https://localhost:8080/",
          "height": 513
        },
        "outputId": "ceba1f60-d8dc-4795-c806-394214bdd1d9"
      },
      "execution_count": null,
      "outputs": [
        {
          "output_type": "display_data",
          "data": {
            "text/plain": [
              "<Figure size 432x288 with 1 Axes>"
            ],
            "image/png": "[encoded data removed]"
          },
          "metadata": {
            "needs_background": "light"
          }
        },
        {
          "output_type": "display_data",
          "data": {
            "text/plain": [
              "<Figure size 432x288 with 1 Axes>"
            ],
            "image/png": "[encoded data removed]"
          },
          "metadata": {
            "needs_background": "light"
          }
        }
      ]
    },
    {
      "cell_type": "markdown",
      "source": [
        "### **| 중앙값**\n",
        "```\n",
        "np.median(a)\n",
        "s.median()\n",
        "```"
      ],
      "metadata": {
        "id": "B7iX0zzqFl7P"
      }
    },
    {
      "cell_type": "markdown",
      "source": [
        "* 중앙값 계산"
      ],
      "metadata": {
        "id": "qp29xCkV72Xv"
      }
    },
    {
      "cell_type": "code",
      "source": [
        "print(np.median(a))\n",
        "print(s.median())"
      ],
      "metadata": {
        "id": "4axJO9zWFpEm",
        "colab": {
          "base_uri": "https://localhost:8080/"
        },
        "outputId": "33d7c41c-c070-49fa-9b0c-9b36576a7cc8"
      },
      "execution_count": null,
      "outputs": [
        {
          "output_type": "stream",
          "name": "stdout",
          "text": [
            "50.0\n",
            "51.0\n"
          ]
        }
      ]
    },
    {
      "cell_type": "markdown",
      "source": [
        "### **| 산술평균**\n",
        "\n",
        "가장 보편적으로 사용되는 평균\n",
        "\n",
        "\\begin{align}\n",
        "\\mu = \\frac{\\sum^n_{i=1}x_i}{n}\n",
        "\\end{align}\n",
        "\n",
        "\\begin{align}\n",
        " & \\\\\n",
        " & x_i :? \\\\\n",
        " & n : ?\\\\ \n",
        "\\end{align}\n",
        "\n",
        "```\n",
        "np.mean(a)\n",
        "s.mean()\n",
        "```"
      ],
      "metadata": {
        "id": "DgEXAIV-Dezx"
      }
    },
    {
      "cell_type": "markdown",
      "source": [
        "* 평균 계산"
      ],
      "metadata": {
        "id": "Eyj9kkzd8Yve"
      }
    },
    {
      "cell_type": "code",
      "source": [
        "print(np.mean(a))\n",
        "print(s.mean())"
      ],
      "metadata": {
        "id": "JOkkVco_Dj7Q",
        "colab": {
          "base_uri": "https://localhost:8080/"
        },
        "outputId": "6e1b3286-3007-461c-f522-7d98475fc86a"
      },
      "execution_count": null,
      "outputs": [
        {
          "output_type": "stream",
          "name": "stdout",
          "text": [
            "50.397\n",
            "50.882\n"
          ]
        }
      ]
    },
    {
      "cell_type": "markdown",
      "metadata": {
        "id": "3sVibZeXD7XB"
      },
      "source": [
        "### **| 조화 평균**\n",
        "\n",
        "비율 및 변화율에 등에 대한 평균을 계산할 때 사용\n",
        "\n",
        "\\begin{align}\n",
        "\\mu_{harmonic} = \\frac{n}{\\sum^n_{i=1}\\frac{1}{x_i}}\n",
        "\\end{align}\n",
        "\n",
        "\\begin{align}\n",
        " & \\\\\n",
        " & x_i :? \\\\\n",
        " & n : ?\\\\ \n",
        "\\end{align}"
      ]
    },
    {
      "cell_type": "markdown",
      "source": [
        "* 함수 `harmonic` 생성"
      ],
      "metadata": {
        "id": "I_bo0Xpn8lvJ"
      }
    },
    {
      "cell_type": "code",
      "execution_count": null,
      "metadata": {
        "id": "bbvOee7xD7XB"
      },
      "outputs": [],
      "source": [
        "def harmonic(x): # x는 ndarray\n",
        "    return len(x) / sum(1/x) # np.sum 이나 sum이나 같음"
      ]
    },
    {
      "cell_type": "markdown",
      "source": [
        "* 조화 평균 계산"
      ],
      "metadata": {
        "id": "98ULxx_-8xJL"
      }
    },
    {
      "cell_type": "code",
      "source": [
        "print(harmonic(a))\n",
        "print(harmonic(s))"
      ],
      "metadata": {
        "id": "e2eFFgrY8ylD",
        "colab": {
          "base_uri": "https://localhost:8080/"
        },
        "outputId": "6ab7a984-e7fc-41e4-d55d-a2a6e2f86624"
      },
      "execution_count": null,
      "outputs": [
        {
          "output_type": "stream",
          "name": "stdout",
          "text": [
            "17.083487839894236\n",
            "17.083487839894236\n"
          ]
        }
      ]
    },
    {
      "cell_type": "markdown",
      "source": [
        "### **| 절사 평균**\n",
        "\n",
        "데이터에서 $\\alpha$ 개를 제거한 후 평균을 내는 방법\n",
        "\n",
        "\\begin{align}\n",
        "\\mu_{cut}=\\frac{\\sum^{|n(1-\\alpha)|}_{i=|n\\alpha|} x_i}{ |n(1-\\alpha)|-|n\\alpha| }\n",
        "\\end{align}\n",
        "\n",
        "\\begin{align}\n",
        " & \\\\\n",
        " & x_i :? \\\\\n",
        " & n : ?\\\\ \n",
        " & \\alpha : ?\n",
        "\\end{align}\n",
        "\n",
        "```\n",
        "from scipy.stats import trim_mean\n",
        "trim_mean(x, alpha) \n",
        "```\n"
      ],
      "metadata": {
        "id": "pfvnB5ljFiPP"
      }
    },
    {
      "cell_type": "markdown",
      "source": [
        "* alpha 비율 0.1일 때 절사 평균 계산"
      ],
      "metadata": {
        "id": "HJvDmFFs88l1"
      }
    },
    {
      "cell_type": "code",
      "source": [
        "from scipy.stats import trim_mean\n",
        "print(trim_mean(a,0.1))"
      ],
      "metadata": {
        "id": "byF7axwMyb1J",
        "colab": {
          "base_uri": "https://localhost:8080/"
        },
        "outputId": "f2b9ac2d-6f51-4852-9925-fc109c0521d9"
      },
      "execution_count": null,
      "outputs": [
        {
          "output_type": "stream",
          "name": "stdout",
          "text": [
            "50.5025\n"
          ]
        }
      ]
    },
    {
      "cell_type": "markdown",
      "source": [
        "## 대표 통계 - 범주자료형\n",
        "---"
      ],
      "metadata": {
        "id": "JPdOBwZwwkcF"
      }
    },
    {
      "cell_type": "markdown",
      "source": [
        "### **| 데이터 생성**\n",
        "\n",
        "```\n",
        "# 아래 함수는 리스트 안의 요소를 랜덤하게 반환합니다.\n",
        "np.random.choice(list, shape)\n",
        "# list = 카테고리가 들어있는 리스트\n",
        "# shape = 추출할 데이터의 크기\n",
        "```"
      ],
      "metadata": {
        "id": "ns3PTnjU9WXN"
      }
    },
    {
      "cell_type": "markdown",
      "source": [
        "* `A, B, C` 세개의 카테고리에서 데이터 1000개 생성하기"
      ],
      "metadata": {
        "id": "s-N5kc3F9WXT"
      }
    },
    {
      "cell_type": "code",
      "execution_count": null,
      "metadata": {
        "id": "KmNsIamiD7XG"
      },
      "outputs": [],
      "source": [
        "# 넘파이 랜덤 시드 0으로 설정\n",
        "np.random.seed(0)\n",
        "# 넘파이 배열 `a`로 바인딩\n",
        "a = np.random.choice(['A', 'B', 'C'], 1000)\n",
        "# 판다스 시리즈 `s`로 바인딩\n",
        "s = pd.Series(a)"
      ]
    },
    {
      "cell_type": "markdown",
      "source": [
        "* 데이터 분포 그리기"
      ],
      "metadata": {
        "id": "VNsc3MM0GTpR"
      }
    },
    {
      "cell_type": "code",
      "source": [
        "sns.histplot(a)\n",
        "plt.show()\n",
        "plt.hist(s)\n",
        "plt.show()"
      ],
      "metadata": {
        "id": "ZKn5mFBdwPfr",
        "colab": {
          "base_uri": "https://localhost:8080/",
          "height": 517
        },
        "outputId": "83fed493-296e-4977-def0-546b2f7edf55"
      },
      "execution_count": null,
      "outputs": [
        {
          "output_type": "display_data",
          "data": {
            "text/plain": [
              "<Figure size 432x288 with 1 Axes>"
            ],
            "image/png": "[encoded data removed]"
          },
          "metadata": {
            "needs_background": "light"
          }
        },
        {
          "output_type": "display_data",
          "data": {
            "text/plain": [
              "<Figure size 432x288 with 1 Axes>"
            ],
            "image/png": "[encoded data removed]"
          },
          "metadata": {
            "needs_background": "light"
          }
        }
      ]
    },
    {
      "cell_type": "markdown",
      "metadata": {
        "id": "6xsxy1RoD7XG"
      },
      "source": [
        "### **| 최빈값**\n",
        "\n",
        "```\n",
        "s.value_counts()\n",
        "\n",
        "from scipy.stats import mode\n",
        "mode(a)\n",
        "```"
      ]
    },
    {
      "cell_type": "markdown",
      "source": [
        "* `value_counts()` 사용하기"
      ],
      "metadata": {
        "id": "OV3eC4UtGl38"
      }
    },
    {
      "cell_type": "code",
      "execution_count": null,
      "metadata": {
        "id": "Ilz_bakbD7XH",
        "colab": {
          "base_uri": "https://localhost:8080/"
        },
        "outputId": "615d5326-c785-452e-db24-6afa19efaec6"
      },
      "outputs": [
        {
          "output_type": "stream",
          "name": "stdout",
          "text": [
            "A    337\n",
            "B    335\n",
            "C    328\n",
            "dtype: int64\n"
          ]
        }
      ],
      "source": [
        "print(s.value_counts())"
      ]
    },
    {
      "cell_type": "markdown",
      "source": [
        "* 사이파이 함수 `mode` 사용하기"
      ],
      "metadata": {
        "id": "nxipy7_cGqAn"
      }
    },
    {
      "cell_type": "code",
      "source": [
        "from scipy.stats import mode\n",
        "print('mode from scipy :', mode(a))"
      ],
      "metadata": {
        "id": "F3JjvNqAtcUk",
        "colab": {
          "base_uri": "https://localhost:8080/"
        },
        "outputId": "73c5a0ad-953a-4483-ff27-d766ac147c3c"
      },
      "execution_count": null,
      "outputs": [
        {
          "output_type": "stream",
          "name": "stdout",
          "text": [
            "mode from scipy : ModeResult(mode=array(['A'], dtype='<U1'), count=array([337]))\n"
          ]
        }
      ]
    },
    {
      "cell_type": "markdown",
      "source": [
        "## 예제\n",
        "---"
      ],
      "metadata": {
        "id": "z6JYAMB_4Xq7"
      }
    },
    {
      "cell_type": "markdown",
      "source": [
        "#### **예제 01**\n",
        "\n",
        "1. 평균이 200만원이고 표준편차가 50만원인 정규분포를 따르는 데이터를 아래 넘파이 함수를 이용해 100개 생성하세요.\n",
        "```\n",
        "np.random.normal(mu, std, n)\n",
        "```\n",
        "\n",
        "2. 위에서 생성한 데이터의 히스토그램을 그리세요\n",
        "\n",
        "3. 10억원의 소득을 가지는 데이터 한개를 위 데이터에 추가하세요.\n",
        "\n",
        "4. 데이터의 히스토그램을 그리세요\n",
        "\n",
        "5. 10억원의 소득을 추가하기 전과 후의 데이터의 산술평균을 비교하세요.\n",
        "\n",
        "5. 10억원의 소득을 추가하기 전과 후의 데이터의 절사평균(alpha=0.1)을 비교하세요."
      ],
      "metadata": {
        "id": "S0gYqvK22tij"
      }
    },
    {
      "cell_type": "code",
      "execution_count": null,
      "metadata": {
        "id": "to3bS7CBD7XD",
        "colab": {
          "base_uri": "https://localhost:8080/",
          "height": 357
        },
        "outputId": "d0720aca-b6cf-40d6-c31b-1e344dfd5cb2"
      },
      "outputs": [
        {
          "output_type": "execute_result",
          "data": {
            "text/plain": [
              "(array([ 3.,  1.,  6.,  9., 22., 17., 23., 13.,  4.,  2.]),\n",
              " array([ 50.26935699,  77.49856989, 104.72778278, 131.95699568,\n",
              "        159.18620857, 186.41542147, 213.64463437, 240.87384726,\n",
              "        268.10306016, 295.33227306, 322.56148595]),\n",
              " <a list of 10 Patch objects>)"
            ]
          },
          "metadata": {},
          "execution_count": 42
        },
        {
          "output_type": "display_data",
          "data": {
            "text/plain": [
              "<Figure size 432x288 with 1 Axes>"
            ],
            "image/png": "[encoded data removed]"
          },
          "metadata": {
            "needs_background": "light"
          }
        }
      ],
      "source": [
        "a = np.random.normal(200, 50, 100)\n",
        "plt.hist(a)"
      ]
    },
    {
      "cell_type": "code",
      "source": [
        "a_new = np.append(a,100000)"
      ],
      "metadata": {
        "id": "qCUpEc9YY5QA"
      },
      "execution_count": null,
      "outputs": []
    },
    {
      "cell_type": "code",
      "source": [
        "plt.hist(a_new)"
      ],
      "metadata": {
        "colab": {
          "base_uri": "https://localhost:8080/",
          "height": 357
        },
        "id": "5jO69rRvZSbw",
        "outputId": "eb1ca8b0-90fc-4bf7-d8ad-f18d5437c414"
      },
      "execution_count": null,
      "outputs": [
        {
          "output_type": "execute_result",
          "data": {
            "text/plain": [
              "(array([100.,   0.,   0.,   0.,   0.,   0.,   0.,   0.,   0.,   1.]),\n",
              " array([5.02693570e+01, 1.00452424e+04, 2.00402155e+04, 3.00351885e+04,\n",
              "        4.00301616e+04, 5.00251347e+04, 6.00201077e+04, 7.00150808e+04,\n",
              "        8.00100539e+04, 9.00050269e+04, 1.00000000e+05]),\n",
              " <a list of 10 Patch objects>)"
            ]
          },
          "metadata": {},
          "execution_count": 44
        },
        {
          "output_type": "display_data",
          "data": {
            "text/plain": [
              "<Figure size 432x288 with 1 Axes>"
            ],
            "image/png": "[encoded data removed]"
          },
          "metadata": {
            "needs_background": "light"
          }
        }
      ]
    },
    {
      "cell_type": "code",
      "source": [
        "# 10억원의 소득을 추가하기 전과 후의 데이터의 산술평균을 비교하세요.\n",
        "print('a의 산술평균 :', np.mean(a))\n",
        "print('a_new의 산술평균 :', np.mean(a_new))"
      ],
      "metadata": {
        "colab": {
          "base_uri": "https://localhost:8080/"
        },
        "id": "g1SAd_FeZbpY",
        "outputId": "68e3d786-a034-4f52-bc85-633496ed8ee0"
      },
      "execution_count": null,
      "outputs": [
        {
          "output_type": "stream",
          "name": "stdout",
          "text": [
            "a의 산술평균 : 198.83283361024925\n",
            "a_new의 산술평균 : 1186.9632015943062\n"
          ]
        }
      ]
    },
    {
      "cell_type": "code",
      "source": [
        "# 10억원의 소득을 추가하기 전과 후의 데이터의 절사평균(alpha=0.1)을 비교하세요.\n",
        "from scipy.stats import trim_mean\n",
        "print('a의 절사평균(alpha = 0.1) : ', trim_mean(a, 0.1))\n",
        "print('a_new의 절사평균(alpha = 0.1) : ', trim_mean(a_new, 0.1))"
      ],
      "metadata": {
        "colab": {
          "base_uri": "https://localhost:8080/"
        },
        "id": "nUOAyl1XZuOi",
        "outputId": "f529f1c9-f134-4395-96b1-888338e0f0df"
      },
      "execution_count": null,
      "outputs": [
        {
          "output_type": "stream",
          "name": "stdout",
          "text": [
            "a의 절사평균(alpha = 0.1) :  200.69686333007067\n",
            "a_new의 절사평균(alpha = 0.1) :  201.33207340911076\n"
          ]
        }
      ]
    },
    {
      "cell_type": "markdown",
      "source": [
        "#### **예제 02**\n",
        "\n",
        "타이타닉 데이터셋을 가져오고, 각 변수들의 대표값을 정리하세요."
      ],
      "metadata": {
        "id": "vC9QE_7R5njn"
      }
    },
    {
      "cell_type": "code",
      "source": [
        "tdf = pd.read_csv('/content/train.csv')\n",
        "tdf.head()"
      ],
      "metadata": {
        "id": "mOw2b43-51ZF",
        "colab": {
          "base_uri": "https://localhost:8080/",
          "height": 389
        },
        "outputId": "28eb9705-d6a2-41ea-e682-5140e12684b1"
      },
      "execution_count": null,
      "outputs": [
        {
          "output_type": "execute_result",
          "data": {
            "text/plain": [
              "   PassengerId  Survived  Pclass  \\\n",
              "0            1         0       3   \n",
              "1            2         1       1   \n",
              "2            3         1       3   \n",
              "3            4         1       1   \n",
              "4            5         0       3   \n",
              "\n",
              "                                                Name     Sex   Age  SibSp  \\\n",
              "0                            Braund, Mr. Owen Harris    male  22.0      1   \n",
              "1  Cumings, Mrs. John Bradley (Florence Briggs Th...  female  38.0      1   \n",
              "2                             Heikkinen, Miss. Laina  female  26.0      0   \n",
              "3       Futrelle, Mrs. Jacques Heath (Lily May Peel)  female  35.0      1   \n",
              "4                           Allen, Mr. William Henry    male  35.0      0   \n",
              "\n",
              "   Parch            Ticket     Fare Cabin Embarked  \n",
              "0      0         A/5 21171   7.2500   NaN        S  \n",
              "1      0          PC 17599  71.2833   C85        C  \n",
              "2      0  STON/O2. 3101282   7.9250   NaN        S  \n",
              "3      0            113803  53.1000  C123        S  \n",
              "4      0            373450   8.0500   NaN        S  "
            ],
            "text/html": [
              "\n",
              "  <div id=\"df-1955f25b-a1ee-4f57-8e68-a2687031852d\">\n",
              "    <div class=\"colab-df-container\">\n",
              "      <div>\n",
              "<style scoped>\n",
              "    .dataframe tbody tr th:only-of-type {\n",
              "        vertical-align: middle;\n",
              "    }\n",
              "\n",
              "    .dataframe tbody tr th {\n",
              "        vertical-align: top;\n",
              "    }\n",
              "\n",
              "    .dataframe thead th {\n",
              "        text-align: right;\n",
              "    }\n",
              "</style>\n",
              "<table border=\"1\" class=\"dataframe\">\n",
              "  <thead>\n",
              "    <tr style=\"text-align: right;\">\n",
              "      <th></th>\n",
              "      <th>PassengerId</th>\n",
              "      <th>Survived</th>\n",
              "      <th>Pclass</th>\n",
              "      <th>Name</th>\n",
              "      <th>Sex</th>\n",
              "      <th>Age</th>\n",
              "      <th>SibSp</th>\n",
              "      <th>Parch</th>\n",
              "      <th>Ticket</th>\n",
              "      <th>Fare</th>\n",
              "      <th>Cabin</th>\n",
              "      <th>Embarked</th>\n",
              "    </tr>\n",
              "  </thead>\n",
              "  <tbody>\n",
              "    <tr>\n",
              "      <th>0</th>\n",
              "      <td>1</td>\n",
              "      <td>0</td>\n",
              "      <td>3</td>\n",
              "      <td>Braund, Mr. Owen Harris</td>\n",
              "      <td>male</td>\n",
              "      <td>22.0</td>\n",
              "      <td>1</td>\n",
              "      <td>0</td>\n",
              "      <td>A/5 21171</td>\n",
              "      <td>7.2500</td>\n",
              "      <td>NaN</td>\n",
              "      <td>S</td>\n",
              "    </tr>\n",
              "    <tr>\n",
              "      <th>1</th>\n",
              "      <td>2</td>\n",
              "      <td>1</td>\n",
              "      <td>1</td>\n",
              "      <td>Cumings, Mrs. John Bradley (Florence Briggs Th...</td>\n",
              "      <td>female</td>\n",
              "      <td>38.0</td>\n",
              "      <td>1</td>\n",
              "      <td>0</td>\n",
              "      <td>PC 17599</td>\n",
              "      <td>71.2833</td>\n",
              "      <td>C85</td>\n",
              "      <td>C</td>\n",
              "    </tr>\n",
              "    <tr>\n",
              "      <th>2</th>\n",
              "      <td>3</td>\n",
              "      <td>1</td>\n",
              "      <td>3</td>\n",
              "      <td>Heikkinen, Miss. Laina</td>\n",
              "      <td>female</td>\n",
              "      <td>26.0</td>\n",
              "      <td>0</td>\n",
              "      <td>0</td>\n",
              "      <td>STON/O2. 3101282</td>\n",
              "      <td>7.9250</td>\n",
              "      <td>NaN</td>\n",
              "      <td>S</td>\n",
              "    </tr>\n",
              "    <tr>\n",
              "      <th>3</th>\n",
              "      <td>4</td>\n",
              "      <td>1</td>\n",
              "      <td>1</td>\n",
              "      <td>Futrelle, Mrs. Jacques Heath (Lily May Peel)</td>\n",
              "      <td>female</td>\n",
              "      <td>35.0</td>\n",
              "      <td>1</td>\n",
              "      <td>0</td>\n",
              "      <td>113803</td>\n",
              "      <td>53.1000</td>\n",
              "      <td>C123</td>\n",
              "      <td>S</td>\n",
              "    </tr>\n",
              "    <tr>\n",
              "      <th>4</th>\n",
              "      <td>5</td>\n",
              "      <td>0</td>\n",
              "      <td>3</td>\n",
              "      <td>Allen, Mr. William Henry</td>\n",
              "      <td>male</td>\n",
              "      <td>35.0</td>\n",
              "      <td>0</td>\n",
              "      <td>0</td>\n",
              "      <td>373450</td>\n",
              "      <td>8.0500</td>\n",
              "      <td>NaN</td>\n",
              "      <td>S</td>\n",
              "    </tr>\n",
              "  </tbody>\n",
              "</table>\n",
              "</div>\n",
              "      <button class=\"colab-df-convert\" onclick=\"convertToInteractive('df-1955f25b-a1ee-4f57-8e68-a2687031852d')\"\n",
              "              title=\"Convert this dataframe to an interactive table.\"\n",
              "              style=\"display:none;\">\n",
              "        \n",
              "  <svg xmlns=\"http://www.w3.org/2000/svg\" height=\"24px\"viewBox=\"0 0 24 24\"\n",
              "       width=\"24px\">\n",
              "    <path d=\"M0 0h24v24H0V0z\" fill=\"none\"/>\n",
              "    <path d=\"M18.56 5.44l.94 2.06.94-2.06 2.06-.94-2.06-.94-.94-2.06-.94 2.06-2.06.94zm-11 1L8.5 8.5l.94-2.06 2.06-.94-2.06-.94L8.5 2.5l-.94 2.06-2.06.94zm10 10l.94 2.06.94-2.06 2.06-.94-2.06-.94-.94-2.06-.94 2.06-2.06.94z\"/><path d=\"M17.41 7.96l-1.37-1.37c-.4-.4-.92-.59-1.43-.59-.52 0-1.04.2-1.43.59L10.3 9.45l-7.72 7.72c-.78.78-.78 2.05 0 2.83L4 21.41c.39.39.9.59 1.41.59.51 0 1.02-.2 1.41-.59l7.78-7.78 2.81-2.81c.8-.78.8-2.07 0-2.86zM5.41 20L4 18.59l7.72-7.72 1.47 1.35L5.41 20z\"/>\n",
              "  </svg>\n",
              "      </button>\n",
              "      \n",
              "  <style>\n",
              "    .colab-df-container {\n",
              "      display:flex;\n",
              "      flex-wrap:wrap;\n",
              "      gap: 12px;\n",
              "    }\n",
              "\n",
              "    .colab-df-convert {\n",
              "      background-color: #E8F0FE;\n",
              "      border: none;\n",
              "      border-radius: 50%;\n",
              "      cursor: pointer;\n",
              "      display: none;\n",
              "      fill: #1967D2;\n",
              "      height: 32px;\n",
              "      padding: 0 0 0 0;\n",
              "      width: 32px;\n",
              "    }\n",
              "\n",
              "    .colab-df-convert:hover {\n",
              "      background-color: #E2EBFA;\n",
              "      box-shadow: 0px 1px 2px rgba(60, 64, 67, 0.3), 0px 1px 3px 1px rgba(60, 64, 67, 0.15);\n",
              "      fill: #174EA6;\n",
              "    }\n",
              "\n",
              "    [theme=dark] .colab-df-convert {\n",
              "      background-color: #3B4455;\n",
              "      fill: #D2E3FC;\n",
              "    }\n",
              "\n",
              "    [theme=dark] .colab-df-convert:hover {\n",
              "      background-color: #434B5C;\n",
              "      box-shadow: 0px 1px 3px 1px rgba(0, 0, 0, 0.15);\n",
              "      filter: drop-shadow(0px 1px 2px rgba(0, 0, 0, 0.3));\n",
              "      fill: #FFFFFF;\n",
              "    }\n",
              "  </style>\n",
              "\n",
              "      <script>\n",
              "        const buttonEl =\n",
              "          document.querySelector('#df-1955f25b-a1ee-4f57-8e68-a2687031852d button.colab-df-convert');\n",
              "        buttonEl.style.display =\n",
              "          google.colab.kernel.accessAllowed ? 'block' : 'none';\n",
              "\n",
              "        async function convertToInteractive(key) {\n",
              "          const element = document.querySelector('#df-1955f25b-a1ee-4f57-8e68-a2687031852d');\n",
              "          const dataTable =\n",
              "            await google.colab.kernel.invokeFunction('convertToInteractive',\n",
              "                                                     [key], {});\n",
              "          if (!dataTable) return;\n",
              "\n",
              "          const docLinkHtml = 'Like what you see? Visit the ' +\n",
              "            '<a target=\"_blank\" href=https://colab.research.google.com/notebooks/data_table.ipynb>data table notebook</a>'\n",
              "            + ' to learn more about interactive tables.';\n",
              "          element.innerHTML = '';\n",
              "          dataTable['output_type'] = 'display_data';\n",
              "          await google.colab.output.renderOutput(dataTable, element);\n",
              "          const docLink = document.createElement('div');\n",
              "          docLink.innerHTML = docLinkHtml;\n",
              "          element.appendChild(docLink);\n",
              "        }\n",
              "      </script>\n",
              "    </div>\n",
              "  </div>\n",
              "  "
            ]
          },
          "metadata": {},
          "execution_count": 48
        }
      ]
    },
    {
      "cell_type": "markdown",
      "source": [
        "#### PassengerId"
      ],
      "metadata": {
        "id": "04e9LD2ubCIh"
      }
    },
    {
      "cell_type": "code",
      "source": [
        "print('중앙값 : ', tdf['PassengerId'].median())\n",
        "print('최빈값 : ', mode(tdf['PassengerId']))\n",
        "print('산술평균 : ', tdf['PassengerId'].mean())\n",
        "print('조화평균 : ', harmonic(tdf['PassengerId']))\n",
        "print('절사평균 : ', trim_mean(tdf['PassengerId'], 0.1))"
      ],
      "metadata": {
        "colab": {
          "base_uri": "https://localhost:8080/"
        },
        "id": "JHcbOVHba38e",
        "outputId": "1d59bb45-6f14-4398-914e-243828130fa3"
      },
      "execution_count": null,
      "outputs": [
        {
          "output_type": "stream",
          "name": "stdout",
          "text": [
            "중앙값 :  446.0\n",
            "최빈값 :  ModeResult(mode=array([1]), count=array([1]))\n",
            "산술평균 :  446.0\n",
            "조화평균 :  120.89353503234959\n",
            "절사평균 :  446.0\n"
          ]
        }
      ]
    },
    {
      "cell_type": "markdown",
      "source": [
        "#### Survived"
      ],
      "metadata": {
        "id": "y3JKIc8xbKVg"
      }
    },
    {
      "cell_type": "code",
      "source": [
        "print('중앙값 : ', tdf['Survived'].median())\n",
        "print('최빈값 : ', mode(tdf['Survived']))\n",
        "print('산술평균 : ', tdf['Survived'].mean())\n",
        "print('조화평균 : ', harmonic(tdf['Survived']))\n",
        "print('절사평균 : ', trim_mean(tdf['Survived'], 0.1))"
      ],
      "metadata": {
        "colab": {
          "base_uri": "https://localhost:8080/"
        },
        "id": "cdOF4a3IbLW2",
        "outputId": "493ccdc0-e993-452b-e03a-cfca4690e8e0"
      },
      "execution_count": null,
      "outputs": [
        {
          "output_type": "stream",
          "name": "stdout",
          "text": [
            "중앙값 :  0.0\n",
            "최빈값 :  ModeResult(mode=array([0]), count=array([549]))\n",
            "산술평균 :  0.3838383838383838\n",
            "조화평균 :  0.0\n",
            "절사평균 :  0.3548387096774194\n"
          ]
        }
      ]
    },
    {
      "cell_type": "markdown",
      "source": [
        "#### Pclass"
      ],
      "metadata": {
        "id": "vYTW_VI4bMR4"
      }
    },
    {
      "cell_type": "code",
      "source": [
        "print('중앙값 : ', tdf['Pclass'].median())\n",
        "print('최빈값 : ', mode(tdf['Pclass']))\n",
        "print('산술평균 : ', tdf['Pclass'].mean())\n",
        "print('조화평균 : ', harmonic(tdf['Pclass']))\n",
        "print('절사평균 : ', trim_mean(tdf['Pclass'], 0.1))"
      ],
      "metadata": {
        "colab": {
          "base_uri": "https://localhost:8080/"
        },
        "id": "iOtdRimpdJKZ",
        "outputId": "22dc479b-8edc-4623-bdce-fd91f6943aa6"
      },
      "execution_count": null,
      "outputs": [
        {
          "output_type": "stream",
          "name": "stdout",
          "text": [
            "중앙값 :  3.0\n",
            "최빈값 :  ModeResult(mode=array([3]), count=array([491]))\n",
            "산술평균 :  2.308641975308642\n",
            "조화평균 :  1.8890459363957726\n",
            "절사평균 :  2.3856942496493687\n"
          ]
        }
      ]
    },
    {
      "cell_type": "markdown",
      "source": [
        "#### Name"
      ],
      "metadata": {
        "id": "qa9ouAZLbSVo"
      }
    },
    {
      "cell_type": "code",
      "source": [
        "print('최빈값 : ', mode(tdf['Name']))"
      ],
      "metadata": {
        "colab": {
          "base_uri": "https://localhost:8080/"
        },
        "id": "JyY4sGmPbRow",
        "outputId": "9b08fb01-316f-4052-ad59-8a284ee14ece"
      },
      "execution_count": null,
      "outputs": [
        {
          "output_type": "stream",
          "name": "stdout",
          "text": [
            "최빈값 :  ModeResult(mode=array(['Abbing, Mr. Anthony'], dtype=object), count=array([1]))\n"
          ]
        }
      ]
    },
    {
      "cell_type": "markdown",
      "source": [
        "#### Sex"
      ],
      "metadata": {
        "id": "CsXopfBsbT2w"
      }
    },
    {
      "cell_type": "code",
      "source": [
        "print('최빈값 : ', mode(tdf['Sex']))"
      ],
      "metadata": {
        "colab": {
          "base_uri": "https://localhost:8080/"
        },
        "id": "MWZ3LhS8bOYG",
        "outputId": "753c59ae-07bb-4bc1-e25d-aacb5550aa96"
      },
      "execution_count": null,
      "outputs": [
        {
          "output_type": "stream",
          "name": "stdout",
          "text": [
            "최빈값 :  ModeResult(mode=array(['male'], dtype=object), count=array([577]))\n"
          ]
        }
      ]
    },
    {
      "cell_type": "markdown",
      "source": [
        "#### Age"
      ],
      "metadata": {
        "id": "osEIS-VDbWb6"
      }
    },
    {
      "cell_type": "code",
      "source": [
        "print('중앙값 : ', tdf['Age'].dropna().median())\n",
        "print('최빈값 : ', mode(tdf['Age'].dropna()))\n",
        "print('산술평균 : ', tdf['Age'].dropna().mean())\n",
        "print('조화평균 : ', harmonic(tdf['Age'].dropna()))\n",
        "print('절사평균 : ', trim_mean(tdf['Age'].dropna(), 0.1))"
      ],
      "metadata": {
        "colab": {
          "base_uri": "https://localhost:8080/"
        },
        "id": "X33sKHfUbXV2",
        "outputId": "5455958b-66c0-4dfa-b596-7e7f3c66b99d"
      },
      "execution_count": null,
      "outputs": [
        {
          "output_type": "stream",
          "name": "stdout",
          "text": [
            "중앙값 :  28.0\n",
            "최빈값 :  ModeResult(mode=array([24.]), count=array([30]))\n",
            "산술평균 :  29.69911764705882\n",
            "조화평균 :  13.408573953437948\n",
            "절사평균 :  29.26923076923077\n"
          ]
        }
      ]
    },
    {
      "cell_type": "markdown",
      "source": [
        "#### SibSp"
      ],
      "metadata": {
        "id": "kw7HveXfbZbA"
      }
    },
    {
      "cell_type": "code",
      "source": [
        "print('중앙값 : ', tdf['SibSp'].median())\n",
        "print('최빈값 : ', mode(tdf['SibSp']))\n",
        "print('산술평균 : ', tdf['SibSp'].mean())\n",
        "print('조화평균 : ', harmonic(tdf['SibSp']))\n",
        "print('절사평균 : ', trim_mean(tdf['SibSp'], 0.1))"
      ],
      "metadata": {
        "colab": {
          "base_uri": "https://localhost:8080/"
        },
        "id": "q7Yp9enybcdn",
        "outputId": "aff3a79a-764e-42f4-827b-0c0e71c65459"
      },
      "execution_count": null,
      "outputs": [
        {
          "output_type": "stream",
          "name": "stdout",
          "text": [
            "중앙값 :  0.0\n",
            "최빈값 :  ModeResult(mode=array([0]), count=array([608]))\n",
            "산술평균 :  0.5230078563411896\n",
            "조화평균 :  0.0\n",
            "절사평균 :  0.2720897615708275\n"
          ]
        }
      ]
    },
    {
      "cell_type": "markdown",
      "source": [
        "#### Parch"
      ],
      "metadata": {
        "id": "DJqXofWIbc24"
      }
    },
    {
      "cell_type": "code",
      "source": [
        "print('중앙값 : ', tdf['Parch'].median())\n",
        "print('최빈값 : ', mode(tdf['Parch']))\n",
        "print('산술평균 : ', tdf['Parch'].mean())\n",
        "print('조화평균 : ', harmonic(tdf['Parch']))\n",
        "print('절사평균 : ', trim_mean(tdf['Parch'], 0.1))"
      ],
      "metadata": {
        "colab": {
          "base_uri": "https://localhost:8080/"
        },
        "id": "AKokBtuue3qr",
        "outputId": "9a5af4a2-08ef-419a-d898-d34b9430216c"
      },
      "execution_count": null,
      "outputs": [
        {
          "output_type": "stream",
          "name": "stdout",
          "text": [
            "중앙값 :  0.0\n",
            "최빈값 :  ModeResult(mode=array([0]), count=array([678]))\n",
            "산술평균 :  0.38159371492704824\n",
            "조화평균 :  0.0\n",
            "절사평균 :  0.182328190743338\n"
          ]
        }
      ]
    },
    {
      "cell_type": "markdown",
      "source": [
        "####  Ticket "
      ],
      "metadata": {
        "id": "T-1J2xLrbhXZ"
      }
    },
    {
      "cell_type": "code",
      "source": [
        "print('최빈값 : ', mode(tdf['Ticket']))"
      ],
      "metadata": {
        "colab": {
          "base_uri": "https://localhost:8080/"
        },
        "id": "9p0Or_1SbfgP",
        "outputId": "5e270871-5eab-4714-8fdd-02f9733cced3"
      },
      "execution_count": null,
      "outputs": [
        {
          "output_type": "stream",
          "name": "stdout",
          "text": [
            "최빈값 :  ModeResult(mode=array(['1601'], dtype=object), count=array([7]))\n"
          ]
        }
      ]
    },
    {
      "cell_type": "markdown",
      "source": [
        "#### Fare "
      ],
      "metadata": {
        "id": "szMui3MNbnFg"
      }
    },
    {
      "cell_type": "code",
      "source": [
        "print('중앙값 : ', tdf['Fare'].median())\n",
        "print('최빈값 : ', mode(tdf['Fare']))\n",
        "print('산술평균 : ', tdf['Fare'].mean())\n",
        "print('조화평균 : ', harmonic(tdf['Fare']))\n",
        "print('절사평균 : ', trim_mean(tdf['Fare'], 0.1))"
      ],
      "metadata": {
        "colab": {
          "base_uri": "https://localhost:8080/"
        },
        "id": "6ZwPtjbZbqmW",
        "outputId": "7816259e-ed34-436b-95cb-1764c35663f1"
      },
      "execution_count": null,
      "outputs": [
        {
          "output_type": "stream",
          "name": "stdout",
          "text": [
            "중앙값 :  14.4542\n",
            "최빈값 :  ModeResult(mode=array([8.05]), count=array([43]))\n",
            "산술평균 :  32.2042079685746\n",
            "조화평균 :  0.0\n",
            "절사평균 :  21.37871556802244\n"
          ]
        }
      ]
    },
    {
      "cell_type": "markdown",
      "source": [
        "#### Cabin "
      ],
      "metadata": {
        "id": "h98qRw_VbrDQ"
      }
    },
    {
      "cell_type": "code",
      "source": [
        "print('최빈값 : ', mode(tdf['Cabin'].dropna()))"
      ],
      "metadata": {
        "colab": {
          "base_uri": "https://localhost:8080/"
        },
        "id": "TkeFxpwybtCm",
        "outputId": "8e0a02f0-ea5c-4d6a-ab73-ccfb20b36e1f"
      },
      "execution_count": null,
      "outputs": [
        {
          "output_type": "stream",
          "name": "stdout",
          "text": [
            "최빈값 :  ModeResult(mode=array(['B96 B98'], dtype=object), count=array([4]))\n"
          ]
        }
      ]
    },
    {
      "cell_type": "markdown",
      "source": [
        "#### Embarked"
      ],
      "metadata": {
        "id": "AfkGOKVAbt-w"
      }
    },
    {
      "cell_type": "code",
      "source": [
        "print('최빈값 : ', mode(tdf['Embarked'].dropna()))"
      ],
      "metadata": {
        "colab": {
          "base_uri": "https://localhost:8080/"
        },
        "id": "UV1541Tcbu5u",
        "outputId": "892a06f9-7855-4e77-cf33-b3bd43ebde11"
      },
      "execution_count": null,
      "outputs": [
        {
          "output_type": "stream",
          "name": "stdout",
          "text": [
            "최빈값 :  ModeResult(mode=array(['S'], dtype=object), count=array([644]))\n"
          ]
        }
      ]
    }
  ]
}