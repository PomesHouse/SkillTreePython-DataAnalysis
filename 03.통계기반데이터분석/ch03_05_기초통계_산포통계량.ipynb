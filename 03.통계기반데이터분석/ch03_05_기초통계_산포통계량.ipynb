{
  "nbformat": 4,
  "nbformat_minor": 0,
  "metadata": {
    "colab": {
      "name": "ch03_05_기초통계-산포통계량.ipynb",
      "provenance": [],
      "collapsed_sections": [],
      "include_colab_link": true
    },
    "kernelspec": {
      "name": "python3",
      "display_name": "Python 3"
    },
    "language_info": {
      "name": "python"
    }
  },
  "cells": [
    {
      "cell_type": "markdown",
      "metadata": {
        "id": "view-in-github",
        "colab_type": "text"
      },
      "source": [
        "<a href=\"https://colab.research.google.com/github/PomesHouse/SkillTreePython-DataAnalysis/blob/main/03.%ED%86%B5%EA%B3%84%EA%B8%B0%EB%B0%98%EB%8D%B0%EC%9D%B4%ED%84%B0%EB%B6%84%EC%84%9D/ch03_05_%EA%B8%B0%EC%B4%88%ED%86%B5%EA%B3%84_%EC%82%B0%ED%8F%AC%ED%86%B5%EA%B3%84%EB%9F%89.ipynb\" target=\"_parent\"><img src=\"https://colab.research.google.com/assets/colab-badge.svg\" alt=\"Open In Colab\"/></a>"
      ]
    },
    {
      "cell_type": "markdown",
      "source": [
        "# ch03.05. 기초통계 - 산포통계량\n",
        "---\n",
        "* 날짜:\n",
        "* 이름:\n",
        "\n",
        "## 학습내용\n",
        "    * 산포 통계량\n",
        "      - 분산\n",
        "      - 표준편차\n",
        "      - 변동계수\n",
        "      - 스케일링\n",
        "      - 범위와 사분위 범위"
      ],
      "metadata": {
        "id": "wWpXZc2fi39U"
      }
    },
    {
      "cell_type": "code",
      "source": [
        "import numpy as np\n",
        "import matplotlib.pyplot as plt\n",
        "import pandas as pd\n",
        "import seaborn as sns"
      ],
      "metadata": {
        "id": "uYLRSgCqw4YZ"
      },
      "execution_count": 1,
      "outputs": []
    },
    {
      "cell_type": "markdown",
      "source": [
        "##  산포 통계\n",
        "---\n",
        "\n",
        "* 산포란 데이터가 얼마나 퍼져있는지를 의미\n",
        "\n",
        "* 따라서 산포 통계량이란 데이터의 산포를 나타내는 통계량이라 할 수 있다."
      ],
      "metadata": {
        "id": "rx3G1AI_nCTw"
      }
    },
    {
      "cell_type": "markdown",
      "source": [
        "### **| 데이터 생성**\n",
        "\n",
        "```\n",
        "# 아래의 함수는 정규분포를 따르는 랜덤한 실수를 반환합니다.\n",
        "np.random.normal(loc, scale, size)\n",
        "# loc = 평균\n",
        "# scale = 표준편차\n",
        "# size = 추출할 데이터(표본)의 크기\n",
        "```\n"
      ],
      "metadata": {
        "id": "Qamnn6ffuxFL"
      }
    },
    {
      "cell_type": "markdown",
      "source": [
        "* 평균 0, 표준편차 1인 정규분포 데이터 1000개를 생성하기"
      ],
      "metadata": {
        "id": "T8BAXON4vIxO"
      }
    },
    {
      "cell_type": "code",
      "source": [
        "# 넘파이 랜덤 시드 0으로 설정\n",
        "np.random.seed(0)\n",
        "# 넘파이 배열 `a1`로 바인딩\n",
        "a1 = np.random.normal(0, 1, 1000)\n",
        "# 판다스 시리즈 `s1`로 바인딩\n",
        "s1 = pd.Series(a1)"
      ],
      "metadata": {
        "id": "QGUgicvFFpBp"
      },
      "execution_count": 2,
      "outputs": []
    },
    {
      "cell_type": "markdown",
      "source": [
        "* 평균 0, 표준편차 3인 정규분포 데이터 1000개를 생성하기"
      ],
      "metadata": {
        "id": "AS6fAssFvJdi"
      }
    },
    {
      "cell_type": "code",
      "source": [
        "# 넘파이 랜덤 시드 0으로 설정\n",
        "np.random.seed(0)\n",
        "# 넘파이 배열 `a3`로 바인딩\n",
        "a3 = np.random.normal(0, 3, 1000)\n",
        "# 판다스 시리즈 `s3`로 바인딩\n",
        "s3 = pd.Series(a3)"
      ],
      "metadata": {
        "id": "4L4smlIDvPA5"
      },
      "execution_count": 3,
      "outputs": []
    },
    {
      "cell_type": "markdown",
      "source": [
        "* `a1`와 `a3`의 분포 그리기"
      ],
      "metadata": {
        "id": "tiM7-w9kvR7W"
      }
    },
    {
      "cell_type": "code",
      "source": [
        "sns.histplot(a1, alpha = 0.5, color = 'navy')\n",
        "sns.histplot(a3, alpha = 0.5, color = 'dodgerblue')\n",
        "plt.show()"
      ],
      "metadata": {
        "id": "gz9cjV1FwGQH",
        "colab": {
          "base_uri": "https://localhost:8080/",
          "height": 265
        },
        "outputId": "c498dc5d-5641-47c4-a57a-58904bf460e8"
      },
      "execution_count": 16,
      "outputs": [
        {
          "output_type": "display_data",
          "data": {
            "text/plain": [
              "<Figure size 432x288 with 1 Axes>"
            ],
            "image/png": "[encoded data removed]"
          },
          "metadata": {
            "needs_background": "light"
          }
        }
      ]
    },
    {
      "cell_type": "markdown",
      "metadata": {
        "id": "YUHtaUMySASi"
      },
      "source": [
        "### **| 분산**\n",
        "\n",
        "\\begin{align}\n",
        "var(x) = \\frac{\\sum^{n}_{i=1}(x_i-\\mu)^2}{n-1} \n",
        "\\end{align}\n",
        "\\begin{align}\n",
        " & \\\\\n",
        " & x_i :? \\\\\n",
        " & \\mu : ?\\\\\n",
        " & n : ?\\\\ \n",
        "\\end{align}\n",
        "\n",
        "\n",
        "```\n",
        "np.var(a, ddof) \n",
        "a.var(ddof)\n",
        "s.var(ddof)\n",
        "```"
      ]
    },
    {
      "cell_type": "markdown",
      "source": [
        "* `a1`과 `a3`의 분산을 계산"
      ],
      "metadata": {
        "id": "XsFgISoBwYFX"
      }
    },
    {
      "cell_type": "code",
      "execution_count": 9,
      "metadata": {
        "id": "SXfmaEFfSASj",
        "colab": {
          "base_uri": "https://localhost:8080/"
        },
        "outputId": "f5c01143-df55-458a-f0d5-86e52be93cb2"
      },
      "outputs": [
        {
          "output_type": "stream",
          "name": "stdout",
          "text": [
            "0.9752096659781323\n",
            "8.776886993803192\n"
          ]
        }
      ],
      "source": [
        "print(np.var(a1, ddof = 1))\n",
        "print(np.var(a3, ddof = 1))"
      ]
    },
    {
      "cell_type": "markdown",
      "metadata": {
        "id": "Nx5x3UnTSASk"
      },
      "source": [
        "### **| 표준편차**\n",
        "\n",
        "\n",
        "\\begin{align}\n",
        "std(x)= \\sqrt{var(x)} = \n",
        "\\sqrt{\\frac{\\sum^{n}_{i=1}(x_i-\\mu)^2}{n-1}} \n",
        "\\end{align}\n",
        "\\begin{align}\n",
        " & \\\\\n",
        " & x_i : ? \\\\\n",
        " & \\mu : ?\\\\\n",
        " & n : ?\\\\ \n",
        "\\end{align}\n",
        "\n",
        "\n",
        "```\n",
        "np.std(a, ddof) \n",
        "a.std(ddof)\n",
        "s.std(ddof)\n",
        "```"
      ]
    },
    {
      "cell_type": "markdown",
      "source": [
        "* `a1`과 `a3`의 표준편차 계산"
      ],
      "metadata": {
        "id": "JS7Nh7HIwx3l"
      }
    },
    {
      "cell_type": "code",
      "execution_count": 10,
      "metadata": {
        "id": "dXnFgMtnwx3m",
        "colab": {
          "base_uri": "https://localhost:8080/"
        },
        "outputId": "a8c1bcda-26aa-44e9-9e3a-33471f7cc61b"
      },
      "outputs": [
        {
          "output_type": "stream",
          "name": "stdout",
          "text": [
            "0.9875270456945128\n",
            "2.9625811370835384\n"
          ]
        }
      ],
      "source": [
        "print(np.std(a1, ddof = 1))\n",
        "print(np.std(a3, ddof = 1))"
      ]
    },
    {
      "cell_type": "markdown",
      "source": [
        "* `a1`의 분산과 `a1`의 표준편차제곱을 비교"
      ],
      "metadata": {
        "id": "KTIXQnIkw9iQ"
      }
    },
    {
      "cell_type": "code",
      "source": [
        "print('a1 분산 : ', np.var(a1, ddof = 1))\n",
        "print('a1 표준편차제곱 : ', (np.std(a1, ddof = 1))**2)"
      ],
      "metadata": {
        "id": "R7gkCYF1xC06",
        "colab": {
          "base_uri": "https://localhost:8080/"
        },
        "outputId": "deedbee6-c0a3-4b43-df11-f737430a8029"
      },
      "execution_count": 11,
      "outputs": [
        {
          "output_type": "stream",
          "name": "stdout",
          "text": [
            "a1 분산 :  0.9752096659781323\n",
            "a1 표준편차제곱 :  0.9752096659781323\n"
          ]
        }
      ]
    },
    {
      "cell_type": "markdown",
      "source": [
        "### **| 변동계수**\n",
        "\n",
        "분산 혹은 표준편차를 스케일에 영향을 받지 않도록 데이터를 스케일링 한 후 분산 혹은 표준편차를 계산\n",
        "\n",
        "\n",
        "\\begin{align}\n",
        "변동계수 = \\frac{var(x) \\ or \\ std(x) }{Scale(x)} \n",
        "\\end{align}\n"
      ],
      "metadata": {
        "id": "G6ilAY14xkFc"
      }
    },
    {
      "cell_type": "markdown",
      "metadata": {
        "id": "KY2wlX1ASASl"
      },
      "source": [
        "#### **변동계수의 필요성**"
      ]
    },
    {
      "cell_type": "markdown",
      "source": [
        "* `a1`의 모든 요소에 10을 곱한 배열 `a10`을 생성"
      ],
      "metadata": {
        "id": "QFH6d7L9xSK9"
      }
    },
    {
      "cell_type": "code",
      "execution_count": 17,
      "metadata": {
        "scrolled": true,
        "id": "m5lYDjtESASm"
      },
      "outputs": [],
      "source": [
        "a10 = a1 * 10"
      ]
    },
    {
      "cell_type": "markdown",
      "source": [
        "* `a1`과 `a10`의 분산 계산"
      ],
      "metadata": {
        "id": "2MWKjJX0xki1"
      }
    },
    {
      "cell_type": "code",
      "source": [
        "print('a1 분산 : ', np.var(a1, ddof = 1))\n",
        "print('a10 분산 : ', np.var(a10, ddof = 1))"
      ],
      "metadata": {
        "id": "sgoJOUH3xopo",
        "colab": {
          "base_uri": "https://localhost:8080/"
        },
        "outputId": "e4134622-c75a-4ac0-9fe9-9fb92b0ec98a"
      },
      "execution_count": 18,
      "outputs": [
        {
          "output_type": "stream",
          "name": "stdout",
          "text": [
            "a1 분산 :  0.9752096659781323\n",
            "a10 분산 :  97.52096659781323\n"
          ]
        }
      ]
    },
    {
      "cell_type": "markdown",
      "metadata": {
        "id": "MdTQTl-ZSASo"
      },
      "source": [
        "#### **스케일링: min-max**\n",
        "\n",
        "**min-max scaling** : 최대값을 1로, 최소값을 0으로 스켕일링 하는  기법.\n",
        "\n",
        "\\begin{align}\n",
        "minmax(x)=\\frac{x-min(x)}{max(x)-min(x)}\n",
        "\\end{align}\n",
        "\n",
        "\\begin{align}\n",
        " & \\\\\n",
        " & x : ? \\\\\n",
        " & min(x) : ?\\\\\n",
        " & max(x) : ?\\\\ \n",
        "\\end{align}\n",
        "\n"
      ]
    },
    {
      "cell_type": "markdown",
      "source": [
        "* min-max 함수 생성"
      ],
      "metadata": {
        "id": "ZtfohRLysjzk"
      }
    },
    {
      "cell_type": "code",
      "source": [
        "def minmax(x):\n",
        "    return (x - np.min(x)) / (np.max(x) - np.min(x))"
      ],
      "metadata": {
        "id": "59mzhjd5r4j2"
      },
      "execution_count": 19,
      "outputs": []
    },
    {
      "cell_type": "markdown",
      "source": [
        "* `a1`을 min-max scaling 하여 `a1_minmax` 로 바인딩"
      ],
      "metadata": {
        "id": "y2-9KhEksc2A"
      }
    },
    {
      "cell_type": "code",
      "execution_count": 21,
      "metadata": {
        "id": "xTMzYDPHSASo"
      },
      "outputs": [],
      "source": [
        "a1_minmax = minmax(a1)"
      ]
    },
    {
      "cell_type": "markdown",
      "source": [
        "* `a10`을 min-max scaling 하여 `a10_minmax` 로 바인딩"
      ],
      "metadata": {
        "id": "k_Ci-tvAyC1W"
      }
    },
    {
      "cell_type": "code",
      "execution_count": 22,
      "metadata": {
        "id": "ceA7GBikyC1W"
      },
      "outputs": [],
      "source": [
        "a10_minmax = minmax(a10)"
      ]
    },
    {
      "cell_type": "markdown",
      "source": [
        "* `a1`과 `a1_minmax`의 분포를 (1x2) 플롯에 그려 비교하기"
      ],
      "metadata": {
        "id": "hpHAqKBZyIee"
      }
    },
    {
      "cell_type": "code",
      "source": [
        "plt.subplot(1,2,1)\n",
        "sns.histplot(a1)\n",
        "plt.subplot(1,2,2)\n",
        "sns.histplot(a1_minmax)\n",
        "plt.show()"
      ],
      "metadata": {
        "id": "ZHJYrPCSyO4a",
        "colab": {
          "base_uri": "https://localhost:8080/",
          "height": 265
        },
        "outputId": "299df214-d827-4ab9-d88a-d2992af0a8fb"
      },
      "execution_count": 23,
      "outputs": [
        {
          "output_type": "display_data",
          "data": {
            "text/plain": [
              "<Figure size 432x288 with 2 Axes>"
            ],
            "image/png": "[encoded data removed]"
          },
          "metadata": {
            "needs_background": "light"
          }
        }
      ]
    },
    {
      "cell_type": "markdown",
      "source": [
        "* `a10`과 `a10_minmax`의 분포를 (1x2) 플롯에 그려 비교하기"
      ],
      "metadata": {
        "id": "ZfJ52b-iysv1"
      }
    },
    {
      "cell_type": "code",
      "source": [
        "plt.subplot(1,2,1)\n",
        "sns.histplot(a10)\n",
        "plt.subplot(1,2,2)\n",
        "sns.histplot(a10_minmax)"
      ],
      "metadata": {
        "id": "vrBzYymhysv1",
        "colab": {
          "base_uri": "https://localhost:8080/",
          "height": 283
        },
        "outputId": "02ef4141-8f4e-4812-92e3-18639e88be71"
      },
      "execution_count": 24,
      "outputs": [
        {
          "output_type": "execute_result",
          "data": {
            "text/plain": [
              "<matplotlib.axes._subplots.AxesSubplot at 0x7fa8c1c35650>"
            ]
          },
          "metadata": {},
          "execution_count": 24
        },
        {
          "output_type": "display_data",
          "data": {
            "text/plain": [
              "<Figure size 432x288 with 2 Axes>"
            ],
            "image/png": "[encoded data removed]"
          },
          "metadata": {
            "needs_background": "light"
          }
        }
      ]
    },
    {
      "cell_type": "markdown",
      "source": [
        "* `a1`과 `a10` 두 데이터의 스케일링 전, 후 데이터가 가지는 값의 범위를 요약하기"
      ],
      "metadata": {
        "id": "GxWolaowzd7X"
      }
    },
    {
      "cell_type": "code",
      "source": [
        "# 스케일링 전에는 a10의 데이터가 가지는 값의 범위가 a1의 10배였으나, 스케일링 후 동일해졌다. "
      ],
      "metadata": {
        "id": "dLdhab_DznRS"
      },
      "execution_count": null,
      "outputs": []
    },
    {
      "cell_type": "markdown",
      "source": [
        "* 스케일링 후 `a1_minmax`, `a10_minmax`의 분산 구하기"
      ],
      "metadata": {
        "id": "hBPs1JzyzuM9"
      }
    },
    {
      "cell_type": "code",
      "source": [
        "print('a1_minmax 분산 : ', np.var(a1_minmax, ddof = 1))\n",
        "print('a10_minmax 분산 : ', np.var(a10_minmax, ddof = 1))"
      ],
      "metadata": {
        "id": "11gRv_kUzztl",
        "colab": {
          "base_uri": "https://localhost:8080/"
        },
        "outputId": "f84a28b4-8f17-4083-8e3e-e8b46bbe529e"
      },
      "execution_count": 25,
      "outputs": [
        {
          "output_type": "stream",
          "name": "stdout",
          "text": [
            "a1_minmax 분산 :  0.028934701900306115\n",
            "a10_minmax 분산 :  0.02893470190030611\n"
          ]
        }
      ]
    },
    {
      "cell_type": "markdown",
      "metadata": {
        "id": "URGjKjGdsoqV"
      },
      "source": [
        "#### **스케일링: z-score**\n",
        "\n",
        "**standard(z-socre) scaling** : 최대값을 1로, 최소값을 0으로 스켕일링 하는  기법.\n",
        "\n",
        "\\begin{align}\n",
        "\\\\\n",
        "standard(x)=\\frac{x-\\mu}{\\sigma}\n",
        "\\end{align}\n",
        "\\begin{align}\n",
        " & \\\\\n",
        " & x : ? \\\\\n",
        " & \\mu : ?\\\\\n",
        " & \\sigma : ?\\\\ \n",
        "\\end{align}\n"
      ]
    },
    {
      "cell_type": "markdown",
      "source": [
        "* standard 함수 생성"
      ],
      "metadata": {
        "id": "-m5HGk_QsoqV"
      }
    },
    {
      "cell_type": "code",
      "source": [
        "def standard(x):\n",
        "    return  (x - np.mean(x))/ np.std(x, ddof =1 )"
      ],
      "metadata": {
        "id": "jLIfy5MYsoqW"
      },
      "execution_count": 26,
      "outputs": []
    },
    {
      "cell_type": "markdown",
      "source": [
        "* `a1`을 standard 하여 `a1_standard` 로 바인딩"
      ],
      "metadata": {
        "id": "MLhSVJcJz_Ie"
      }
    },
    {
      "cell_type": "code",
      "execution_count": 27,
      "metadata": {
        "id": "phcra2xpz_If"
      },
      "outputs": [],
      "source": [
        "a1_standard = standard(a1)"
      ]
    },
    {
      "cell_type": "markdown",
      "source": [
        "* `a10`을 standard 하여 `a10_standard` 로 바인딩"
      ],
      "metadata": {
        "id": "CXVTHP-2z_If"
      }
    },
    {
      "cell_type": "code",
      "execution_count": 28,
      "metadata": {
        "id": "7xBnlZmIz_If"
      },
      "outputs": [],
      "source": [
        "a10_standard = standard(a10)"
      ]
    },
    {
      "cell_type": "markdown",
      "source": [
        "* `a1`과 `a1_standard`의 분포를 (1x2) 플롯에 그려 비교하기"
      ],
      "metadata": {
        "id": "G-zv1Y9Wz_If"
      }
    },
    {
      "cell_type": "code",
      "source": [
        "fig, axes = plt.subplots(1,2)\n",
        "axes[0].hist(a1, alpha = 0.5 )\n",
        "axes[1].hist(a1_standard, alpha = 0.5)\n",
        "plt.show()"
      ],
      "metadata": {
        "id": "vl70HGvqz_If",
        "colab": {
          "base_uri": "https://localhost:8080/",
          "height": 269
        },
        "outputId": "ea60debc-5662-4f0d-9b8c-a4bb3ef3d41b"
      },
      "execution_count": 36,
      "outputs": [
        {
          "output_type": "display_data",
          "data": {
            "text/plain": [
              "<Figure size 432x288 with 2 Axes>"
            ],
            "image/png": "[encoded data removed]"
          },
          "metadata": {
            "needs_background": "light"
          }
        }
      ]
    },
    {
      "cell_type": "markdown",
      "source": [
        "* `a10`과 `a10_standard`의 분포를 (1x2) 플롯에 그려 비교하기"
      ],
      "metadata": {
        "id": "PE9kVQfkz_If"
      }
    },
    {
      "cell_type": "code",
      "source": [
        "fig, axes = plt.subplots(1,2)\n",
        "axes[0].hist(a10)\n",
        "axes[1].hist(a10_standard)\n",
        "plt.show()"
      ],
      "metadata": {
        "id": "t5G7ewP2z_Ig",
        "colab": {
          "base_uri": "https://localhost:8080/",
          "height": 269
        },
        "outputId": "c11b0337-8e11-4d11-dd32-a90e3bbe3f1b"
      },
      "execution_count": 38,
      "outputs": [
        {
          "output_type": "display_data",
          "data": {
            "text/plain": [
              "<Figure size 432x288 with 2 Axes>"
            ],
            "image/png": "[encoded data removed]"
          },
          "metadata": {
            "needs_background": "light"
          }
        }
      ]
    },
    {
      "cell_type": "markdown",
      "source": [
        "* `a1`과 `a10` 두 데이터의 스케일링 전, 후 데이터가 가지는 값의 범위를 요약하기"
      ],
      "metadata": {
        "id": "UhZ-Wploz_Ig"
      }
    },
    {
      "cell_type": "code",
      "source": [
        "# 스케일링 전, a10가 가진 값의 범위가 a1의 두배 였으나 스케일링 후 둘의 범위가 동일해졌다. "
      ],
      "metadata": {
        "id": "wHVML9Zpz_Ig"
      },
      "execution_count": null,
      "outputs": []
    },
    {
      "cell_type": "markdown",
      "source": [
        "* 스케일링 후 `a1_standard`, `a10_standard`의 분산 구하기"
      ],
      "metadata": {
        "id": "Za5xe-lDz_Ig"
      }
    },
    {
      "cell_type": "code",
      "source": [
        "print('a1_standard 분산 : ', np.var(a1_standard, ddof = 1))\n",
        "print('a10_standard 분산 : ', np.var(a10_standard, ddof = 1))"
      ],
      "metadata": {
        "id": "xjgMc74tz_Ig",
        "colab": {
          "base_uri": "https://localhost:8080/"
        },
        "outputId": "fd2acea7-aff1-48e9-ffe1-39dcd1c98639"
      },
      "execution_count": 39,
      "outputs": [
        {
          "output_type": "stream",
          "name": "stdout",
          "text": [
            "a1_standard 분산 :  1.0\n",
            "a10_standard 분산 :  1.0000000000000002\n"
          ]
        }
      ]
    },
    {
      "cell_type": "markdown",
      "metadata": {
        "id": "Af9cq1EnSASr"
      },
      "source": [
        "### **| 범위와 사분위 범위**\n",
        "\n",
        "<p align='center'>\n",
        "<img src=https://github.com/yebiny/SkillTreePython-DataAnalysis/blob/main/imgs/ch0305-01.png?raw=true?raw=true width=800>\n",
        "</p>\n"
      ]
    },
    {
      "cell_type": "markdown",
      "source": [
        "* `a10` 의 분포 그리기"
      ],
      "metadata": {
        "id": "h-PX4Us32keF"
      }
    },
    {
      "cell_type": "code",
      "execution_count": 41,
      "metadata": {
        "id": "zwnSE67dSASr",
        "colab": {
          "base_uri": "https://localhost:8080/",
          "height": 265
        },
        "outputId": "ed2a897d-914b-4944-9cfa-d3740ca69291"
      },
      "outputs": [
        {
          "output_type": "display_data",
          "data": {
            "text/plain": [
              "<Figure size 432x288 with 1 Axes>"
            ],
            "image/png": "[encoded data removed]"
          },
          "metadata": {
            "needs_background": "light"
          }
        }
      ],
      "source": [
        "sns.histplot(a10)\n",
        "plt.show()"
      ]
    },
    {
      "cell_type": "markdown",
      "source": [
        "#### **범위**\n",
        "\n",
        "\\begin{align}\n",
        "\\\\\n",
        "범위 = max(x)-min(x)\n",
        "\\end{align}\n",
        "\n",
        "```\n",
        "np.ptp(x)\n",
        "```"
      ],
      "metadata": {
        "id": "_RZq1F5xzdbT"
      }
    },
    {
      "cell_type": "markdown",
      "source": [
        "* `a10`의 범위 구하기"
      ],
      "metadata": {
        "id": "E21v3wDg3nZy"
      }
    },
    {
      "cell_type": "code",
      "execution_count": 42,
      "metadata": {
        "id": "XC2V_offSASr",
        "colab": {
          "base_uri": "https://localhost:8080/"
        },
        "outputId": "25b9f406-89a6-4bbf-8207-0ccb1094af5b"
      },
      "outputs": [
        {
          "output_type": "stream",
          "name": "stdout",
          "text": [
            "58.05498168821509\n",
            "58.05498168821509\n"
          ]
        }
      ],
      "source": [
        "# np.ptp 사용\n",
        "print(np.ptp(a10))\n",
        "# max-min 사용\n",
        "print(np.max(a10) - np.min(a10))"
      ]
    },
    {
      "cell_type": "markdown",
      "source": [
        "\n",
        "#### **사분위 범위**\n",
        "\n",
        "\\begin{align}\n",
        "\\\\\n",
        "사분위 범위 = 3사분위수 - 1사분위수 = 하위 75 \\% 수 - 하위 25\\% 수\n",
        "\\end{align}\n",
        "\n",
        "```\n",
        "np.quntile(x, percent)\n",
        "```"
      ],
      "metadata": {
        "id": "LgpC0EN1zjmc"
      }
    },
    {
      "cell_type": "markdown",
      "source": [
        "* `a10`의 사분위 범위 구하기"
      ],
      "metadata": {
        "id": "x3nqHdR54ILX"
      }
    },
    {
      "cell_type": "code",
      "execution_count": 44,
      "metadata": {
        "id": "Y857hyZ3SASr",
        "colab": {
          "base_uri": "https://localhost:8080/"
        },
        "outputId": "9aaf3f4e-167d-4aff-8fe6-2cba4c9ac5e8"
      },
      "outputs": [
        {
          "output_type": "execute_result",
          "data": {
            "text/plain": [
              "13.053706612482689"
            ]
          },
          "metadata": {},
          "execution_count": 44
        }
      ],
      "source": [
        "np.quantile(a10, 0.75) - np.quantile(a10, 0.25)"
      ]
    }
  ]
}