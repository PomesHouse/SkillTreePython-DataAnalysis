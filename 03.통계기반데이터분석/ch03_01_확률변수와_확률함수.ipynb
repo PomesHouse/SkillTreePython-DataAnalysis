{
  "nbformat": 4,
  "nbformat_minor": 0,
  "metadata": {
    "colab": {
      "name": "ch03_01_확률변수와_확률함수.ipynb",
      "provenance": [],
      "collapsed_sections": [],
      "include_colab_link": true
    },
    "kernelspec": {
      "name": "python3",
      "display_name": "Python 3"
    },
    "language_info": {
      "name": "python"
    }
  },
  "cells": [
    {
      "cell_type": "markdown",
      "metadata": {
        "id": "view-in-github",
        "colab_type": "text"
      },
      "source": [
        "<a href=\"https://colab.research.google.com/github/PomesHouse/SkillTreePython-DataAnalysis/blob/main/03.%ED%86%B5%EA%B3%84%EA%B8%B0%EB%B0%98%EB%8D%B0%EC%9D%B4%ED%84%B0%EB%B6%84%EC%84%9D/ch03_01_%ED%99%95%EB%A5%A0%EB%B3%80%EC%88%98%EC%99%80_%ED%99%95%EB%A5%A0%ED%95%A8%EC%88%98.ipynb\" target=\"_parent\"><img src=\"https://colab.research.google.com/assets/colab-badge.svg\" alt=\"Open In Colab\"/></a>"
      ]
    },
    {
      "cell_type": "markdown",
      "source": [
        "# ch03.01. 확률 변수와 확률 함수\n",
        "---\n",
        "* 날짜:\n",
        "* 이름:\n",
        "\n",
        "## 학습내용\n",
        "    - 실험 (Experiment) : 데이터셋을 생성하는 모든 프로세스 \n",
        "    - 표본 공간 (Sample space): 실험에서 도출되는 모든 결과를 포함하는 공간\n",
        "    - 사건 (Event) : 표본 공간 S의 부분집합\n",
        "    - 확률 변수 (Random variable) : 표본공간의 모든 요소를 실수로 매핑하는 함수\n",
        "    - 확률 함수 (Probability function) : 확률을 매핑하는 함수"
      ],
      "metadata": {
        "id": "wWpXZc2fi39U"
      }
    },
    {
      "cell_type": "code",
      "execution_count": null,
      "metadata": {
        "id": "ASwbQ96XXSib"
      },
      "outputs": [],
      "source": [
        "import numpy as np\n",
        "import matplotlib.pyplot as plt"
      ]
    },
    {
      "cell_type": "code",
      "source": [
        "def get_font_family():\n",
        "    \n",
        "    # 시스템 환경에 따른 기본 폰트명을 반환하는 함수\n",
        "    \n",
        "    import platform\n",
        "    system_name = platform.system()\n",
        "\n",
        "    if system_name == \"Darwin\" :\n",
        "        font_family = \"AppleGothic\"\n",
        "    elif system_name == \"Windows\":\n",
        "        font_family = \"Malgun Gothic\"\n",
        "    else:\n",
        "        # Linux(colab)\n",
        "        ! apt-get install fonts-nanum -qq  > /dev/null\n",
        "        ! fc-cache -fv\n",
        "\n",
        "        import matplotlib as mpl\n",
        "        mpl.font_manager._rebuild()\n",
        "        findfont = mpl.font_manager.fontManager.findfont\n",
        "        mpl.font_manager.findfont = findfont\n",
        "        mpl.backends.backend_agg.findfont = findfont\n",
        "        \n",
        "        font_family = \"NanumBarunGothic\"\n",
        "    return font_family\n",
        "\n",
        "plt.rc(\"font\", family=get_font_family())"
      ],
      "metadata": {
        "id": "KzzEponNx2Mk"
      },
      "execution_count": null,
      "outputs": []
    },
    {
      "cell_type": "code",
      "source": [
        "plt.rcParams['font.family'] = 'NanumGothic' "
      ],
      "metadata": {
        "id": "tbNkB1FGx9Hj"
      },
      "execution_count": null,
      "outputs": []
    },
    {
      "cell_type": "markdown",
      "source": [
        "#### **예제 01. 공정한 주사위**\n",
        "\n"
      ],
      "metadata": {
        "id": "82a3GtBCNjto"
      }
    },
    {
      "cell_type": "markdown",
      "source": [
        "* 확률변수가 '주사위를 굴려 나온 눈의 값' 일 때, 확률변수 $X$를 정의하세요."
      ],
      "metadata": {
        "id": "1ACJgMN1N3Jn"
      }
    },
    {
      "cell_type": "code",
      "source": [
        "X = np.array([1,2,3,4,5,6]) # 벡터 = {}, ()"
      ],
      "metadata": {
        "id": "i0hS4O76OIFP"
      },
      "execution_count": null,
      "outputs": []
    },
    {
      "cell_type": "markdown",
      "source": [
        "* 주사위의 모든 면이 '공정' 할 때, 확률 질량 함수 $P$를 정의하세요."
      ],
      "metadata": {
        "id": "uP4JqP4lOMnW"
      }
    },
    {
      "cell_type": "code",
      "source": [
        "def P(x): # 함수\n",
        "    if 1 <= x <=6: return 1/6\n",
        "    else: return 0\n",
        "P_X = list(map(P, X))\n",
        "print(P_X)"
      ],
      "metadata": {
        "id": "pWiNfRAoi2oU",
        "colab": {
          "base_uri": "https://localhost:8080/"
        },
        "outputId": "107cab90-5a7f-4581-a782-4967c8e03995"
      },
      "execution_count": null,
      "outputs": [
        {
          "output_type": "stream",
          "name": "stdout",
          "text": [
            "[0.16666666666666666, 0.16666666666666666, 0.16666666666666666, 0.16666666666666666, 0.16666666666666666, 0.16666666666666666]\n"
          ]
        }
      ]
    },
    {
      "cell_type": "markdown",
      "source": [
        "* 확률 분포를 그리세요."
      ],
      "metadata": {
        "id": "YT_NwyHEOZpQ"
      }
    },
    {
      "cell_type": "code",
      "source": [
        "plt.bar(X, P_X)\n",
        "plt.title('p.m.f');"
      ],
      "metadata": {
        "id": "PPNa5Kpim7Bx",
        "colab": {
          "base_uri": "https://localhost:8080/",
          "height": 281
        },
        "outputId": "9e8b3866-4563-496e-e8ee-54e33aa78faa"
      },
      "execution_count": null,
      "outputs": [
        {
          "output_type": "display_data",
          "data": {
            "text/plain": [
              "<Figure size 432x288 with 1 Axes>"
            ],
            "image/png": "[encoded data removed]"
          },
          "metadata": {
            "needs_background": "light"
          }
        }
      ]
    },
    {
      "cell_type": "markdown",
      "source": [
        "* 누적 확률 분포를 그리세요."
      ],
      "metadata": {
        "id": "u5_TJcvKOmjn"
      }
    },
    {
      "cell_type": "code",
      "source": [
        "F_X = np.cumsum(P_X)\n",
        "plt.bar(X, F_X)\n",
        "plt.title('c.d.f'); # 누적 밀도 함수 -> 연속형 분포 (여기선 연습삼아 그려보는 것)\n",
        "# 누적 밀도 함수는 보통 선으로 그린다. \n",
        "plt.plot(X, F_X, 'o', color = 'navy') # 이산형이니 점으로"
      ],
      "metadata": {
        "id": "JjzXLhk9rpyv",
        "colab": {
          "base_uri": "https://localhost:8080/",
          "height": 299
        },
        "outputId": "4cdd2ea9-ce0c-4464-bcaf-9b4b0e674a22"
      },
      "execution_count": null,
      "outputs": [
        {
          "output_type": "execute_result",
          "data": {
            "text/plain": [
              "[<matplotlib.lines.Line2D at 0x7f15c1618990>]"
            ]
          },
          "metadata": {},
          "execution_count": 29
        },
        {
          "output_type": "display_data",
          "data": {
            "text/plain": [
              "<Figure size 432x288 with 1 Axes>"
            ],
            "image/png": "[encoded data removed]"
          },
          "metadata": {
            "needs_background": "light"
          }
        }
      ]
    },
    {
      "cell_type": "markdown",
      "source": [
        "#### **예제 02. 동전 두번 던지기**\n"
      ],
      "metadata": {
        "id": "aaiN5uQHVCe7"
      }
    },
    {
      "cell_type": "markdown",
      "source": [
        "* 확률변수가 '앞면이 나온 횟수' 일 때, 확률변수 $X$를 정의하세요."
      ],
      "metadata": {
        "id": "EmhyKeQ1VCe8"
      }
    },
    {
      "cell_type": "code",
      "source": [
        "X = np.array([0,1,2])"
      ],
      "metadata": {
        "id": "scnOXxGQVCe8"
      },
      "execution_count": null,
      "outputs": []
    },
    {
      "cell_type": "markdown",
      "source": [
        "* 확률 질량 함수를 정의하세요."
      ],
      "metadata": {
        "id": "0DKjpoFLVCe8"
      }
    },
    {
      "cell_type": "code",
      "source": [
        "def P(x):\n",
        "    if x == 1: return 1/2\n",
        "    elif x == 2 or x == 0: return 1/4\n",
        "    else: return 0\n",
        "P_X = list(map(P,X))"
      ],
      "metadata": {
        "id": "oqqQDpWsVCe8"
      },
      "execution_count": null,
      "outputs": []
    },
    {
      "cell_type": "markdown",
      "source": [
        "* 확률 분포를 그리세요."
      ],
      "metadata": {
        "id": "9R9x4M08VCe9"
      }
    },
    {
      "cell_type": "code",
      "source": [
        "plt.bar(X, P_X)\n",
        "plt.title('p.m.f')"
      ],
      "metadata": {
        "id": "1WUTddGpVCe9",
        "colab": {
          "base_uri": "https://localhost:8080/",
          "height": 352
        },
        "outputId": "67702300-dee5-48ca-b471-1107790e3f52"
      },
      "execution_count": null,
      "outputs": [
        {
          "output_type": "execute_result",
          "data": {
            "text/plain": [
              "Text(0.5, 1.0, 'p.m.f')"
            ]
          },
          "metadata": {},
          "execution_count": 171
        },
        {
          "output_type": "stream",
          "name": "stderr",
          "text": [
            "/usr/local/lib/python3.7/dist-packages/matplotlib/backends/backend_agg.py:214: RuntimeWarning: Glyph 8722 missing from current font.\n",
            "  font.set_text(s, 0.0, flags=flags)\n",
            "/usr/local/lib/python3.7/dist-packages/matplotlib/backends/backend_agg.py:183: RuntimeWarning: Glyph 8722 missing from current font.\n",
            "  font.set_text(s, 0, flags=flags)\n"
          ]
        },
        {
          "output_type": "display_data",
          "data": {
            "text/plain": [
              "<Figure size 432x288 with 1 Axes>"
            ],
            "image/png": "[encoded data removed]"
          },
          "metadata": {
            "needs_background": "light"
          }
        }
      ]
    },
    {
      "cell_type": "markdown",
      "source": [
        "* 누적 확률 분포를 그리세요."
      ],
      "metadata": {
        "id": "uWoDJPIlVCe9"
      }
    },
    {
      "cell_type": "code",
      "source": [
        "F_X = np.cumsum(P_X)\n",
        "plt.plot(X, F_X, 'o')\n",
        "plt.title('c.d.f')"
      ],
      "metadata": {
        "id": "kkEvt6eNrlnX",
        "colab": {
          "base_uri": "https://localhost:8080/",
          "height": 297
        },
        "outputId": "a3909a8c-4079-4bbf-c31e-ab1c3830a9fe"
      },
      "execution_count": null,
      "outputs": [
        {
          "output_type": "execute_result",
          "data": {
            "text/plain": [
              "Text(0.5, 1.0, 'c.d.f')"
            ]
          },
          "metadata": {},
          "execution_count": 172
        },
        {
          "output_type": "display_data",
          "data": {
            "text/plain": [
              "<Figure size 432x288 with 1 Axes>"
            ],
            "image/png": "[encoded data removed]"
          },
          "metadata": {
            "needs_background": "light"
          }
        }
      ]
    },
    {
      "cell_type": "markdown",
      "source": [
        "#### **예제 03. 화재 발생**\n"
      ],
      "metadata": {
        "id": "csb8tewGVmvb"
      }
    },
    {
      "cell_type": "markdown",
      "source": [
        "*  확률변수가 '1년간 발생한 화재건수' 일 때 $X$를 정의하세요."
      ],
      "metadata": {
        "id": "fFwyEMxkVmvh"
      }
    },
    {
      "cell_type": "code",
      "source": [
        "# N = 10으로 정의\n",
        "X = np.array([i for i in range(11)])\n",
        "X"
      ],
      "metadata": {
        "id": "o-ZY6qYBVmvh",
        "colab": {
          "base_uri": "https://localhost:8080/"
        },
        "outputId": "960c120a-0d99-4f0b-efb1-ebd548eb8896"
      },
      "execution_count": null,
      "outputs": [
        {
          "output_type": "execute_result",
          "data": {
            "text/plain": [
              "array([ 0,  1,  2,  3,  4,  5,  6,  7,  8,  9, 10])"
            ]
          },
          "metadata": {},
          "execution_count": 30
        }
      ]
    },
    {
      "cell_type": "markdown",
      "source": [
        "* 화재발생 확률이 다음과 같이 주어졌을 때 함수 $f$ 를 정의하세요.\n",
        "\n",
        "\\begin{align}\n",
        "f(X=x)=\\frac{1}{2^{(x+1)}}\n",
        "\\end{align}"
      ],
      "metadata": {
        "id": "YQa-1CopVmvh"
      }
    },
    {
      "cell_type": "code",
      "source": [
        "def P(x):\n",
        "    return 1/(2**(x + 1))\n",
        "P_X = P(X) # np.array를 쓰면 브로드캐스팅 덕에 mapping을 할 필요가 없다. / list의 경우 mapping을 해주어야함. \n",
        "print(P_X)"
      ],
      "metadata": {
        "id": "Ez1kBPTTVmvh",
        "colab": {
          "base_uri": "https://localhost:8080/"
        },
        "outputId": "3db9a4ba-a912-4fc5-890e-fcc626dbceb7"
      },
      "execution_count": null,
      "outputs": [
        {
          "output_type": "stream",
          "name": "stdout",
          "text": [
            "[5.0000000e-01 2.5000000e-01 1.2500000e-01 6.2500000e-02 3.1250000e-02\n",
            " 1.5625000e-02 7.8125000e-03 3.9062500e-03 1.9531250e-03 9.7656250e-04\n",
            " 4.8828125e-04]\n"
          ]
        }
      ]
    },
    {
      "cell_type": "markdown",
      "source": [
        "* 확률 분포를 그리세요."
      ],
      "metadata": {
        "id": "9HAIHU1HVmvh"
      }
    },
    {
      "cell_type": "code",
      "source": [
        "plt.bar(X, P_X)\n",
        "plt.title('확률 분포(p.m.f)')"
      ],
      "metadata": {
        "id": "NcO2LheUVmvi",
        "colab": {
          "base_uri": "https://localhost:8080/",
          "height": 297
        },
        "outputId": "2787c85c-feee-49ae-c724-6979614ddaa1"
      },
      "execution_count": null,
      "outputs": [
        {
          "output_type": "execute_result",
          "data": {
            "text/plain": [
              "Text(0.5, 1.0, '확률 분포(p.m.f)')"
            ]
          },
          "metadata": {},
          "execution_count": 52
        },
        {
          "output_type": "display_data",
          "data": {
            "text/plain": [
              "<Figure size 432x288 with 1 Axes>"
            ],
            "image/png": "[encoded data removed]"
          },
          "metadata": {
            "needs_background": "light"
          }
        }
      ]
    },
    {
      "cell_type": "markdown",
      "source": [
        "* 누적 확률 분포를 그리세요."
      ],
      "metadata": {
        "id": "deIDtmURVmvi"
      }
    },
    {
      "cell_type": "code",
      "source": [
        "F_X = np.cumsum(P_X)\n",
        "plt.plot(X, F_X, 'o')\n",
        "plt.title('누적 확률 분포 (c.d.f)')"
      ],
      "metadata": {
        "id": "L1lhlFfNVmvi",
        "colab": {
          "base_uri": "https://localhost:8080/",
          "height": 297
        },
        "outputId": "e088e4e7-ce68-404b-be70-1950dccca338"
      },
      "execution_count": null,
      "outputs": [
        {
          "output_type": "execute_result",
          "data": {
            "text/plain": [
              "Text(0.5, 1.0, '누적 확률 분포 (c.d.f)')"
            ]
          },
          "metadata": {},
          "execution_count": 53
        },
        {
          "output_type": "display_data",
          "data": {
            "text/plain": [
              "<Figure size 432x288 with 1 Axes>"
            ],
            "image/png": "[encoded data removed]"
          },
          "metadata": {
            "needs_background": "light"
          }
        }
      ]
    },
    {
      "cell_type": "markdown",
      "source": [
        "#### **예제 04. 공정하지 않은 주사위**\n"
      ],
      "metadata": {
        "id": "JbMCXAgaOrw_"
      }
    },
    {
      "cell_type": "markdown",
      "source": [
        "* 확률변수가 '주사위를 굴려 나온 눈의 값' 일 때, 확률변수 $X$를 정의하세요."
      ],
      "metadata": {
        "id": "TFXEpuObOrxA"
      }
    },
    {
      "cell_type": "code",
      "source": [
        "X = np.array([1, 2, 3, 4, 5, 6])"
      ],
      "metadata": {
        "id": "k0267EHiOrxA"
      },
      "execution_count": null,
      "outputs": []
    },
    {
      "cell_type": "markdown",
      "source": [
        "* 주사위의 짝수 면이 나올 확률이 홀수 면이 나올 확률의 2배일 때, 확률 질량 함수 $P$를 정의하세요."
      ],
      "metadata": {
        "id": "TWicXFFdOrxA"
      }
    },
    {
      "cell_type": "code",
      "source": [
        "def P(x):\n",
        "    if 1<= x <= 6:\n",
        "        if x%2 == 0:\n",
        "            return 2/9\n",
        "        elif x%2 == 1:\n",
        "            return 1/9\n",
        "    else: return 0\n",
        "\n",
        "P_X = list(map(P, X))\n",
        "print(P_X)"
      ],
      "metadata": {
        "id": "ir4IqIO9OrxA",
        "colab": {
          "base_uri": "https://localhost:8080/"
        },
        "outputId": "ff06aea1-7eb3-4bbd-cf00-314bf9ae3efc"
      },
      "execution_count": null,
      "outputs": [
        {
          "output_type": "stream",
          "name": "stdout",
          "text": [
            "[0.1111111111111111, 0.2222222222222222, 0.1111111111111111, 0.2222222222222222, 0.1111111111111111, 0.2222222222222222]\n"
          ]
        }
      ]
    },
    {
      "cell_type": "markdown",
      "source": [
        "* 확률분포 를 그리세요."
      ],
      "metadata": {
        "id": "JOWFqozBOrxA"
      }
    },
    {
      "cell_type": "code",
      "source": [
        "plt.bar(X, P_X)\n",
        "plt.title('p.m.f')"
      ],
      "metadata": {
        "id": "WfgOLsxbOrxA",
        "colab": {
          "base_uri": "https://localhost:8080/",
          "height": 297
        },
        "outputId": "f942c821-1995-42fb-ed20-d94ff88a0b44"
      },
      "execution_count": null,
      "outputs": [
        {
          "output_type": "execute_result",
          "data": {
            "text/plain": [
              "Text(0.5, 1.0, 'p.m.f')"
            ]
          },
          "metadata": {},
          "execution_count": 59
        },
        {
          "output_type": "display_data",
          "data": {
            "text/plain": [
              "<Figure size 432x288 with 1 Axes>"
            ],
            "image/png": "[encoded data removed]"
          },
          "metadata": {
            "needs_background": "light"
          }
        }
      ]
    },
    {
      "cell_type": "markdown",
      "source": [
        "* 누적 확률 분포를 그리세요."
      ],
      "metadata": {
        "id": "DivVdhyrOrxB"
      }
    },
    {
      "cell_type": "code",
      "source": [
        "F_X = np.cumsum(P_X)\n",
        "plt.plot(X, F_X, 'o')\n",
        "plt.title('c.d.f')"
      ],
      "metadata": {
        "id": "KHe2uMwmOrxB",
        "colab": {
          "base_uri": "https://localhost:8080/",
          "height": 297
        },
        "outputId": "45ed27dd-5fb8-4de9-b370-edc87dcbb09c"
      },
      "execution_count": null,
      "outputs": [
        {
          "output_type": "execute_result",
          "data": {
            "text/plain": [
              "Text(0.5, 1.0, 'c.d.f')"
            ]
          },
          "metadata": {},
          "execution_count": 60
        },
        {
          "output_type": "display_data",
          "data": {
            "text/plain": [
              "<Figure size 432x288 with 1 Axes>"
            ],
            "image/png": "[encoded data removed]"
          },
          "metadata": {
            "needs_background": "light"
          }
        }
      ]
    },
    {
      "cell_type": "markdown",
      "source": [
        "#### **예제 05. 주사위 두번 굴리기**\n"
      ],
      "metadata": {
        "id": "MkZcbqe2Xhmh"
      }
    },
    {
      "cell_type": "markdown",
      "source": [
        "* 확률변수가 '주사위를 두번 굴려 나온 눈의 합' 일 때, 확률변수 $X$를 정의하세요."
      ],
      "metadata": {
        "id": "D_JC-aFkXhmi"
      }
    },
    {
      "cell_type": "code",
      "source": [
        "S = list()\n",
        "for i in range(1,7):\n",
        "    for j in range(1,7):\n",
        "        S.append((i,j))\n",
        "print(S)\n",
        "\n",
        "X=set()\n",
        "for s in S:\n",
        "  X.add(sum(s))\n",
        "X = list(X)\n",
        "print(X)"
      ],
      "metadata": {
        "colab": {
          "base_uri": "https://localhost:8080/"
        },
        "id": "3RkxdkINbPf0",
        "outputId": "793c187b-d081-4e06-f993-523ae191e681"
      },
      "execution_count": null,
      "outputs": [
        {
          "output_type": "stream",
          "name": "stdout",
          "text": [
            "[(1, 1), (1, 2), (1, 3), (1, 4), (1, 5), (1, 6), (2, 1), (2, 2), (2, 3), (2, 4), (2, 5), (2, 6), (3, 1), (3, 2), (3, 3), (3, 4), (3, 5), (3, 6), (4, 1), (4, 2), (4, 3), (4, 4), (4, 5), (4, 6), (5, 1), (5, 2), (5, 3), (5, 4), (5, 5), (5, 6), (6, 1), (6, 2), (6, 3), (6, 4), (6, 5), (6, 6)]\n",
            "[2, 3, 4, 5, 6, 7, 8, 9, 10, 11, 12]\n"
          ]
        }
      ]
    },
    {
      "cell_type": "markdown",
      "source": [
        "*  확률 질량 함수 $P$ 를 정의하세요."
      ],
      "metadata": {
        "id": "9vdwsNYgXhmi"
      }
    },
    {
      "cell_type": "code",
      "source": [
        "P=dict()\n",
        "for s in S:\n",
        "  if sum(s) in P: P[sum(s)]+=1/36\n",
        "  else: P[sum(s)]=1/36\n",
        "print(P)"
      ],
      "metadata": {
        "id": "9tpLJZBUbpyq",
        "outputId": "95eb3930-0fa4-4622-deca-a027c5fea574",
        "colab": {
          "base_uri": "https://localhost:8080/"
        }
      },
      "execution_count": null,
      "outputs": [
        {
          "output_type": "stream",
          "name": "stdout",
          "text": [
            "{2: 0.027777777777777776, 3: 0.05555555555555555, 4: 0.08333333333333333, 5: 0.1111111111111111, 6: 0.1388888888888889, 7: 0.16666666666666669, 8: 0.1388888888888889, 9: 0.1111111111111111, 10: 0.08333333333333333, 11: 0.05555555555555555, 12: 0.027777777777777776}\n"
          ]
        }
      ]
    },
    {
      "cell_type": "code",
      "source": [
        "def P(x):\n",
        "    if x  == 2 or x ==12:\n",
        "        return 1/36\n",
        "    if x == 3 or x == 11:\n",
        "        return 2/36\n",
        "    if x == 4 or x == 10:\n",
        "        return 3/36\n",
        "    if x == 5 or x == 9:\n",
        "        return 4/36\n",
        "    if x == 6 or x == 8:\n",
        "        return 5/36\n",
        "    if x == 7:\n",
        "        return 6/36\n",
        "    else: return 0\n",
        "\n",
        "P_X = list(map(P, X))\n",
        "print(P_X)"
      ],
      "metadata": {
        "id": "QbV0gd4tXhmi",
        "colab": {
          "base_uri": "https://localhost:8080/"
        },
        "outputId": "9283b924-5aa5-498d-d104-9ee56193cb64"
      },
      "execution_count": null,
      "outputs": [
        {
          "output_type": "stream",
          "name": "stdout",
          "text": [
            "[0.027777777777777776, 0.05555555555555555, 0.08333333333333333, 0.1111111111111111, 0.1388888888888889, 0.16666666666666666, 0.1388888888888889, 0.1111111111111111, 0.08333333333333333, 0.05555555555555555, 0.027777777777777776]\n"
          ]
        }
      ]
    },
    {
      "cell_type": "markdown",
      "source": [
        "* 확률 분포를 그리세요."
      ],
      "metadata": {
        "id": "dENmsSwIXhmi"
      }
    },
    {
      "cell_type": "code",
      "source": [
        "_ = plt.bar(X, P_X)\n",
        "plt.title('p.m.f')"
      ],
      "metadata": {
        "id": "Y91VYdLFXhmi",
        "colab": {
          "base_uri": "https://localhost:8080/",
          "height": 297
        },
        "outputId": "cb7cc339-83b6-4ccb-a75d-638a878cbed9"
      },
      "execution_count": null,
      "outputs": [
        {
          "output_type": "execute_result",
          "data": {
            "text/plain": [
              "Text(0.5, 1.0, 'p.m.f')"
            ]
          },
          "metadata": {},
          "execution_count": 182
        },
        {
          "output_type": "display_data",
          "data": {
            "text/plain": [
              "<Figure size 432x288 with 1 Axes>"
            ],
            "image/png": "[encoded data removed]"
          },
          "metadata": {
            "needs_background": "light"
          }
        }
      ]
    },
    {
      "cell_type": "markdown",
      "source": [
        "* 누적 확률 분포를 그리세요."
      ],
      "metadata": {
        "id": "VWD3Q1jRXhmi"
      }
    },
    {
      "cell_type": "code",
      "source": [
        "F_X = np.cumsum(P_X)\n",
        "plt.plot(X, F_X, 'o')\n",
        "plt.title('c.d.f')"
      ],
      "metadata": {
        "id": "4zuqckh3Xhmj",
        "colab": {
          "base_uri": "https://localhost:8080/",
          "height": 297
        },
        "outputId": "df243ec1-6485-4b34-c0e1-5fcf26a35005"
      },
      "execution_count": null,
      "outputs": [
        {
          "output_type": "execute_result",
          "data": {
            "text/plain": [
              "Text(0.5, 1.0, 'c.d.f')"
            ]
          },
          "metadata": {},
          "execution_count": 91
        },
        {
          "output_type": "display_data",
          "data": {
            "text/plain": [
              "<Figure size 432x288 with 1 Axes>"
            ],
            "image/png": "[encoded data removed]"
          },
          "metadata": {
            "needs_background": "light"
          }
        }
      ]
    },
    {
      "cell_type": "markdown",
      "source": [
        "#### **예제 06. 손의 길이**\n"
      ],
      "metadata": {
        "id": "PkwoNqyoiQ8i"
      }
    },
    {
      "cell_type": "markdown",
      "source": [
        "* 확률변수가 '성인의 손 길이(cm)' 입니다. $X$를 10부터 20까지 1000개의 값으로 정의하세요."
      ],
      "metadata": {
        "id": "ZOyUQpNtiQ8o"
      }
    },
    {
      "cell_type": "code",
      "source": [
        "X = np.linspace(10,20,1000)"
      ],
      "metadata": {
        "id": "NIdnQlEaiQ8o"
      },
      "execution_count": null,
      "outputs": []
    },
    {
      "cell_type": "markdown",
      "source": [
        "* 손 길이에 대한 확률이 다음과 같이 주어졌을 때 함수 $f$ 를 정의하세요. ($\\sigma$ = 1)\n",
        "\n",
        "\n",
        "\n",
        "\\begin{align}\n",
        " f(x)=\\frac{1}{\\sqrt{2\\pi}\\sigma}\\exp^{-\\frac{(x-15.2)^2}{2*\\sigma^2}}\n",
        "\\end{align}"
      ],
      "metadata": {
        "id": "gj2dFgBJiQ8o"
      }
    },
    {
      "cell_type": "code",
      "source": [
        "def P(x, s= 1):\n",
        "    return ( 1/(np.sqrt(2*np.pi)*s) ) * np.exp( -  (x-15.2)**2 / (2*(s**2)) )\n",
        "\n",
        "P_X = P(X)"
      ],
      "metadata": {
        "id": "P4ytpN5giQ8o"
      },
      "execution_count": null,
      "outputs": []
    },
    {
      "cell_type": "markdown",
      "source": [
        "* 확률 분포를 그리세요."
      ],
      "metadata": {
        "id": "y-d1Q_EdiQ8o"
      }
    },
    {
      "cell_type": "code",
      "source": [
        "plt.plot(X, P_X)\n",
        "plt.title('p.d.f')"
      ],
      "metadata": {
        "id": "F6y785cJiQ8o",
        "colab": {
          "base_uri": "https://localhost:8080/",
          "height": 297
        },
        "outputId": "e62ddedb-325e-4fab-b8fc-d53472ddb4f3"
      },
      "execution_count": null,
      "outputs": [
        {
          "output_type": "execute_result",
          "data": {
            "text/plain": [
              "Text(0.5, 1.0, 'p.d.f')"
            ]
          },
          "metadata": {},
          "execution_count": 149
        },
        {
          "output_type": "display_data",
          "data": {
            "text/plain": [
              "<Figure size 432x288 with 1 Axes>"
            ],
            "image/png": "[encoded data removed]"
          },
          "metadata": {
            "needs_background": "light"
          }
        }
      ]
    },
    {
      "cell_type": "markdown",
      "source": [
        "* 누적 확률 분포를 그리세요."
      ],
      "metadata": {
        "id": "TKCRdDB4iQ8p"
      }
    },
    {
      "cell_type": "code",
      "source": [
        "F_X = np.cumsum(P_X)\n",
        "plt.plot(X, F_X)\n",
        "plt.title('c.d.f')"
      ],
      "metadata": {
        "id": "vOPgzT8SiQ8p",
        "colab": {
          "base_uri": "https://localhost:8080/",
          "height": 297
        },
        "outputId": "8917cfe2-0fd1-417b-87b5-225a30ae304f"
      },
      "execution_count": null,
      "outputs": [
        {
          "output_type": "execute_result",
          "data": {
            "text/plain": [
              "Text(0.5, 1.0, 'c.d.f')"
            ]
          },
          "metadata": {},
          "execution_count": 150
        },
        {
          "output_type": "display_data",
          "data": {
            "text/plain": [
              "<Figure size 432x288 with 1 Axes>"
            ],
            "image/png": "[encoded data removed]"
          },
          "metadata": {
            "needs_background": "light"
          }
        }
      ]
    },
    {
      "cell_type": "markdown",
      "source": [
        "#### **예제 07. 파라미터 변경**\n",
        "\n",
        "예제 06 에서 정의한 함수 $f$의 파라미터 $\\sigma$를 각각 `0.5, 1, 2, 4`로 정의한 후 확률분포와 누적확률 분포를 그리세요.\n",
        "\n",
        "\\begin{align}\n",
        " f(x)=\\frac{1}{\\sqrt{2\\pi}\\sigma}\\exp^{-\\frac{(x-15.2)^2}{2*\\sigma^2}}\n",
        "\\end{align}"
      ],
      "metadata": {
        "id": "fIC9ftgHuQdj"
      }
    },
    {
      "cell_type": "code",
      "source": [
        "def P(x,s):\n",
        "    return  ( 1/(np.sqrt(2*np.pi)*s) ) * np.exp( -  (x-15.2)**2 / (2*(s**2)) )\n",
        "\n",
        "P_X1 = P(X,0.5)\n",
        "P_X2 = P(X,1)\n",
        "P_X3 = P(X,2)\n",
        "P_X4 = P(X,4)"
      ],
      "metadata": {
        "id": "DbFc1_8BtM5i"
      },
      "execution_count": null,
      "outputs": []
    },
    {
      "cell_type": "code",
      "source": [
        "import seaborn as sns\n",
        "sns.set_palette('rainbow')\n",
        "plt.plot(X, P_X1,  label = 's = 0.5')\n",
        "plt.plot(X, P_X2,  label = 's = 1')\n",
        "plt.plot(X, P_X3,  label = 's = 2')\n",
        "plt.plot(X, P_X4,  label = 's = 4')\n",
        "plt.legend()\n",
        "plt.title('p.d.f')"
      ],
      "metadata": {
        "colab": {
          "base_uri": "https://localhost:8080/",
          "height": 297
        },
        "id": "pYbOeL3O9eMW",
        "outputId": "96e811bd-c378-444b-b961-1d0efc4d353a"
      },
      "execution_count": null,
      "outputs": [
        {
          "output_type": "execute_result",
          "data": {
            "text/plain": [
              "Text(0.5, 1.0, 'p.d.f')"
            ]
          },
          "metadata": {},
          "execution_count": 152
        },
        {
          "output_type": "display_data",
          "data": {
            "text/plain": [
              "<Figure size 432x288 with 1 Axes>"
            ],
            "image/png": "[encoded data removed]"
          },
          "metadata": {
            "needs_background": "light"
          }
        }
      ]
    },
    {
      "cell_type": "code",
      "source": [
        "F_X1 = np.cumsum(P_X1)\n",
        "F_X2 = np.cumsum(P_X2)\n",
        "F_X3 = np.cumsum(P_X3)\n",
        "F_X4 = np.cumsum(P_X4)\n",
        "\n",
        "plt.plot(X, F_X1, label = 's = 0.5')\n",
        "plt.plot(X, F_X2, label = 's = 1')\n",
        "plt.plot(X, F_X3, label = 's = 2')\n",
        "plt.plot(X, F_X4, label = 's = 4')\n",
        "plt.legend()\n",
        "plt.title('c.d.f')"
      ],
      "metadata": {
        "colab": {
          "base_uri": "https://localhost:8080/",
          "height": 297
        },
        "id": "24iNgoye9178",
        "outputId": "40bbf2f5-8e8d-4758-efed-acff96339f51"
      },
      "execution_count": null,
      "outputs": [
        {
          "output_type": "execute_result",
          "data": {
            "text/plain": [
              "Text(0.5, 1.0, 'c.d.f')"
            ]
          },
          "metadata": {},
          "execution_count": 153
        },
        {
          "output_type": "display_data",
          "data": {
            "text/plain": [
              "<Figure size 432x288 with 1 Axes>"
            ],
            "image/png": "[encoded data removed]"
          },
          "metadata": {
            "needs_background": "light"
          }
        }
      ]
    },
    {
      "cell_type": "code",
      "source": [
        "# fig, axes = plt.subplots(2,4, figsize = (14, 8))\n",
        "# axes = axes.flatten()\n",
        "# for i,s in enumerate([0.5, 1, 2, 4]):\n",
        "#     axes[i].plot(X, P(X,s))\n",
        "#     axes[i].set_title(f's = {s}')\n",
        "#     axes[i + 4].plot(X,np.cumsum(P(X,s)))\n",
        "\n",
        "fig, axes = plt.subplots(2,4, figsize = (12, 6))\n",
        "\n",
        "for i,s in enumerate([0.5, 1, 2, 4]):\n",
        "    axes[0][i].plot(X, P(X,s))\n",
        "    axes[0][i].set_title(f's = {s}')\n",
        "    axes[1][i].plot(np.cumsum(P(X,s))) # X 안 넣어주어도 된다."
      ],
      "metadata": {
        "colab": {
          "base_uri": "https://localhost:8080/",
          "height": 388
        },
        "id": "CQOKAtd0DdmN",
        "outputId": "d42b8d5b-569b-48ef-ee6e-f67f0a8bb668"
      },
      "execution_count": null,
      "outputs": [
        {
          "output_type": "display_data",
          "data": {
            "text/plain": [
              "<Figure size 864x432 with 8 Axes>"
            ],
            "image/png": "[encoded data removed]"
          },
          "metadata": {
            "needs_background": "light"
          }
        }
      ]
    }
  ]
}