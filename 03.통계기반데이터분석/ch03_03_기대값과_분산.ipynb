{
  "nbformat": 4,
  "nbformat_minor": 0,
  "metadata": {
    "colab": {
      "name": "ch03_03_기대값과_분산.ipynb",
      "provenance": [],
      "collapsed_sections": [],
      "include_colab_link": true
    },
    "kernelspec": {
      "name": "python3",
      "display_name": "Python 3"
    },
    "language_info": {
      "name": "python"
    }
  },
  "cells": [
    {
      "cell_type": "markdown",
      "metadata": {
        "id": "view-in-github",
        "colab_type": "text"
      },
      "source": [
        "<a href=\"https://colab.research.google.com/github/PomesHouse/SkillTreePython-DataAnalysis/blob/main/03.%ED%86%B5%EA%B3%84%EA%B8%B0%EB%B0%98%EB%8D%B0%EC%9D%B4%ED%84%B0%EB%B6%84%EC%84%9D/ch03_03_%EA%B8%B0%EB%8C%80%EA%B0%92%EA%B3%BC_%EB%B6%84%EC%82%B0.ipynb\" target=\"_parent\"><img src=\"https://colab.research.google.com/assets/colab-badge.svg\" alt=\"Open In Colab\"/></a>"
      ]
    },
    {
      "cell_type": "markdown",
      "source": [
        "# ch04.03. 기대값과 분산\n",
        "---\n",
        "* 날짜:\n",
        "* 이름:\n",
        "\n",
        "## 학습내용\n",
        "    - 기대값\n",
        "    - 분산\n",
        "    - 공분산\n",
        "    - 상관계수"
      ],
      "metadata": {
        "id": "wWpXZc2fi39U"
      }
    },
    {
      "cell_type": "code",
      "source": [
        "import numpy as np\n",
        "import matplotlib.pyplot as plt\n",
        "import pandas as pd"
      ],
      "metadata": {
        "id": "uYLRSgCqw4YZ"
      },
      "execution_count": null,
      "outputs": []
    },
    {
      "cell_type": "markdown",
      "source": [
        "### **| 기댓값**\n",
        "\n",
        "\\begin{align}\n",
        "\\mu_X = \\text{E}[X] = \\sum_{x_i \\in \\Omega} x_ip(x_i) \n",
        "\\end{align}\n"
      ],
      "metadata": {
        "id": "PHt4dICKZZhS"
      }
    },
    {
      "cell_type": "code",
      "source": [
        "def E(X, P = []): # X, P는 넘파이 배열 \n",
        "    # P를 따로 정의해 주지 않으면 가중치를 1/n\n",
        "    if not len(P):\n",
        "        P = np.array([1/len(X)])\n",
        "    return np.sum(X*P)\n",
        "    #넘파이 배열을 쓰면 브로드캐스팅으로 곱셈가능 "
      ],
      "metadata": {
        "id": "y0hVzVL1ZeBh"
      },
      "execution_count": null,
      "outputs": []
    },
    {
      "cell_type": "code",
      "source": [
        "X = np.array([1, 2])\n",
        "E(X)"
      ],
      "metadata": {
        "id": "RQXXbHF7od0n",
        "colab": {
          "base_uri": "https://localhost:8080/"
        },
        "outputId": "9c00d25a-2d32-4a34-d6d3-000d818f52ff"
      },
      "execution_count": null,
      "outputs": [
        {
          "output_type": "stream",
          "name": "stdout",
          "text": [
            "[0.5]\n"
          ]
        },
        {
          "output_type": "execute_result",
          "data": {
            "text/plain": [
              "1.5"
            ]
          },
          "metadata": {},
          "execution_count": 10
        }
      ]
    },
    {
      "cell_type": "markdown",
      "source": [
        "#### **예제 01. 공정한 주사위**\n",
        "\n"
      ],
      "metadata": {
        "id": "82a3GtBCNjto"
      }
    },
    {
      "cell_type": "code",
      "source": [
        "X = np.arange(1,7)\n",
        "E(X)"
      ],
      "metadata": {
        "id": "i0hS4O76OIFP",
        "colab": {
          "base_uri": "https://localhost:8080/"
        },
        "outputId": "8e2579c7-9be8-42fc-9e49-1eb94627b99a"
      },
      "execution_count": null,
      "outputs": [
        {
          "output_type": "stream",
          "name": "stdout",
          "text": [
            "[0.16666667]\n"
          ]
        },
        {
          "output_type": "execute_result",
          "data": {
            "text/plain": [
              "3.5"
            ]
          },
          "metadata": {},
          "execution_count": 11
        }
      ]
    },
    {
      "cell_type": "markdown",
      "source": [
        "#### **예제 02. 공정하지 않은 주사위**\n",
        "\n",
        "짝수가 나올 확률이 홀수가 나올 확률의 두배인 주사위의 기대값을 구하세요."
      ],
      "metadata": {
        "id": "PhvhttZg2JyB"
      }
    },
    {
      "cell_type": "code",
      "source": [
        "X = np.arange(1,7)\n",
        "P = [1/9, 2/9, 1/9, 2/9, 1/9, 2/9]\n",
        "\n",
        "E(X, P)"
      ],
      "metadata": {
        "id": "tdyZ-8JGaCVY",
        "colab": {
          "base_uri": "https://localhost:8080/"
        },
        "outputId": "e90ce182-f155-4b81-c1dd-c3e486de4c7e"
      },
      "execution_count": null,
      "outputs": [
        {
          "output_type": "execute_result",
          "data": {
            "text/plain": [
              "3.666666666666666"
            ]
          },
          "metadata": {},
          "execution_count": 20
        }
      ]
    },
    {
      "cell_type": "markdown",
      "source": [
        "#### **예제 03. 기대값의 성질**\n",
        "\n",
        "X, Y, c 가 아래와 같이 주어졌을 때,\n",
        "```\n",
        "X = np.array([1,2,3,4])\n",
        "Y = np.array([10,20,30,40])\n",
        "c = np.array([4])\n",
        "```\n",
        "\n",
        "다음을 구하세요\n",
        "```\n",
        "E(X)\n",
        "E(Y)\n",
        "E(c)\n",
        "E(X+Y)\n",
        "E(X)+E(Y)\n",
        "E(4X+3)\n",
        "4E(X)+3\n",
        "```"
      ],
      "metadata": {
        "id": "2EgD8eUs5A9g"
      }
    },
    {
      "cell_type": "code",
      "source": [
        "X = np.array([1,2,3,4])\n",
        "Y = np.array([10,20,30,40])\n",
        "c = np.array([4])\n",
        "\n",
        "# E(X)\n",
        "print(E(X))\n",
        "\n",
        "#E(Y)\n",
        "print(E(Y))\n",
        "\n",
        "#E(c) == 4\n",
        "print(E(c))"
      ],
      "metadata": {
        "id": "mnLuZkE_5Jln",
        "colab": {
          "base_uri": "https://localhost:8080/"
        },
        "outputId": "1844d47b-b590-4659-ddb4-647bb10ccd26"
      },
      "execution_count": null,
      "outputs": [
        {
          "output_type": "stream",
          "name": "stdout",
          "text": [
            "2.5\n",
            "25.0\n",
            "4.0\n"
          ]
        }
      ]
    },
    {
      "cell_type": "code",
      "source": [
        "# E(X+Y)\n",
        "print(E(X+Y))\n",
        "\n",
        "# E(X) + E(Y)  == E(X+Y)\n",
        "print(E(X) + E(Y))"
      ],
      "metadata": {
        "colab": {
          "base_uri": "https://localhost:8080/"
        },
        "id": "LQ9O_yDJw_tq",
        "outputId": "ba24ec3a-73f7-42d1-ca2b-c6cd240776f8"
      },
      "execution_count": null,
      "outputs": [
        {
          "output_type": "stream",
          "name": "stdout",
          "text": [
            "27.5\n",
            "27.5\n"
          ]
        }
      ]
    },
    {
      "cell_type": "code",
      "source": [
        "#E(4X+3)\n",
        "print(E(4*X+3))\n",
        "\n",
        "#4E(X)+3  == E(4X + 3)\n",
        "print(4*E(X)+3)"
      ],
      "metadata": {
        "colab": {
          "base_uri": "https://localhost:8080/"
        },
        "id": "q93wag5QxaRD",
        "outputId": "f6e8e666-bdd7-4b79-b4fe-b680bfb9cf7e"
      },
      "execution_count": null,
      "outputs": [
        {
          "output_type": "stream",
          "name": "stdout",
          "text": [
            "13.0\n",
            "13.0\n"
          ]
        }
      ]
    },
    {
      "cell_type": "markdown",
      "source": [
        "#### **예제 04. 시험 성적**\n",
        "\n",
        "학생 네명의 시험 성적이 다음과 같을 때 총합점수의 평균(국어+수학) 을 두가지 방법으로 구하세요.\n",
        "\n",
        "```\n",
        "X_국어 = np.array([60,70,90,100])\n",
        "X_수학 = np.array([70,30,50,50])\n",
        "```"
      ],
      "metadata": {
        "id": "T7VzCEPR6nGn"
      }
    },
    {
      "cell_type": "code",
      "source": [
        "# 1\n",
        "X_Korean= np.array([60,70,90,100])\n",
        "X_Math = np.array([70,30,50,50])\n",
        "\n",
        "E(X_Korean + X_Math)"
      ],
      "metadata": {
        "id": "GNTcSS3x6nGs",
        "colab": {
          "base_uri": "https://localhost:8080/"
        },
        "outputId": "787acee9-2635-462b-9551-a0da22e68a2b"
      },
      "execution_count": null,
      "outputs": [
        {
          "output_type": "execute_result",
          "data": {
            "text/plain": [
              "130.0"
            ]
          },
          "metadata": {},
          "execution_count": 28
        }
      ]
    },
    {
      "cell_type": "code",
      "source": [
        "E(X_Korean) + E(X_Math)"
      ],
      "metadata": {
        "colab": {
          "base_uri": "https://localhost:8080/"
        },
        "id": "krjpeKuIx_Ur",
        "outputId": "d1881f8e-5d79-4a18-ef63-7de6adea7d0e"
      },
      "execution_count": null,
      "outputs": [
        {
          "output_type": "execute_result",
          "data": {
            "text/plain": [
              "130.0"
            ]
          },
          "metadata": {},
          "execution_count": 29
        }
      ]
    },
    {
      "cell_type": "markdown",
      "source": [
        "### **| 분산**\n",
        "\n",
        "\\begin{align}\n",
        "V(X) = E[(X-E[X])^2]\n",
        "\\end{align}\n"
      ],
      "metadata": {
        "id": "NGufv-OobGkx"
      }
    },
    {
      "cell_type": "code",
      "source": [
        "def E(X, P = []): \n",
        "    if not len(P):\n",
        "        P = np.array([1/len(X)])\n",
        "    return np.sum(X*P)\n",
        "\n",
        "def V(X, P=[]):\n",
        "    if not len(P):\n",
        "        P = np.array([1/len(X)]*len(X))\n",
        "    return E(( X - E(X, P) )**2)"
      ],
      "metadata": {
        "id": "IbFnU_2xbGky"
      },
      "execution_count": null,
      "outputs": []
    },
    {
      "cell_type": "code",
      "source": [
        "##################################################\n",
        "def E(X, P = []): \n",
        "    if not len(P):\n",
        "        P = np.array([1/len(X)])\n",
        "    return np.sum(X*P)\n",
        "\n",
        "def V(X,P = []):\n",
        "    return E(( X - E(X, P) )**2)\n",
        "X = np.array([1,2,3])\n",
        "P = np.array([0.1, 0.1, 0.8])\n",
        "print(E(X), V(X)) # P가 똑같은 확률일 때\n",
        "print(E(X, P), V(X,P)) # P가 다른 확률일 때"
      ],
      "metadata": {
        "colab": {
          "base_uri": "https://localhost:8080/"
        },
        "id": "79oh7o653hmd",
        "outputId": "0d0036a2-95b9-4869-ccd2-91a1eaf5d8bf"
      },
      "execution_count": null,
      "outputs": [
        {
          "output_type": "stream",
          "name": "stdout",
          "text": [
            "2.0 0.6666666666666666\n",
            "2.7 1.156666666666667\n"
          ]
        }
      ]
    },
    {
      "cell_type": "code",
      "source": [
        "X = np.array([1,2,3])\n",
        "P = np.array([0.1, 0.1, 0.8])\n",
        "print(E(X), V(X)) # P가 똑같은 확률일 때\n",
        "print(E(X, P), V(X,P)) # P가 다른 확률일 때"
      ],
      "metadata": {
        "id": "XWKrxRrn27Tf",
        "colab": {
          "base_uri": "https://localhost:8080/"
        },
        "outputId": "9a218fc6-c386-470a-ecf3-edcbc3295a85"
      },
      "execution_count": null,
      "outputs": [
        {
          "output_type": "stream",
          "name": "stdout",
          "text": [
            "2.0 0.6666666666666666\n",
            "2.7 1.156666666666667\n"
          ]
        }
      ]
    },
    {
      "cell_type": "code",
      "source": [
        "X = np.array([10,20,30,40])\n",
        "P = np.array([1/10, 2/10, 3/10, 4/10])\n",
        "E(X), E(X,P), V(X), V(X,P)"
      ],
      "metadata": {
        "colab": {
          "base_uri": "https://localhost:8080/"
        },
        "id": "sRFe6DxfHV_e",
        "outputId": "1b0a4905-970f-4767-cd5f-cef0c645d350"
      },
      "execution_count": null,
      "outputs": [
        {
          "output_type": "execute_result",
          "data": {
            "text/plain": [
              "(25.0, 30.0, 125.0, 150.0)"
            ]
          },
          "metadata": {},
          "execution_count": 111
        }
      ]
    },
    {
      "cell_type": "markdown",
      "source": [
        "#### **예제 01. 동전 던지기**\n",
        "\n",
        "두개의 동전을 던졌을 때 앞면이 나온 횟수를 확률 변수 X라 정의합니다.\n",
        "\n",
        "다음을 구하세요.\n",
        "\n",
        "```\n",
        "X\n",
        "P\n",
        "E(X)\n",
        "V(X)\n",
        "```\n"
      ],
      "metadata": {
        "id": "bJgbzis26zAO"
      }
    },
    {
      "cell_type": "code",
      "source": [
        "X = np.array([0,1,2])\n",
        "P= np.array([1/4,1/2,1/4])\n",
        "print(E(X, P))\n",
        "print(V(X, P))"
      ],
      "metadata": {
        "id": "LS31msHr6zAO",
        "colab": {
          "base_uri": "https://localhost:8080/"
        },
        "outputId": "f52090b5-6ab1-42d8-dd1a-1333c5064bfe"
      },
      "execution_count": null,
      "outputs": [
        {
          "output_type": "stream",
          "name": "stdout",
          "text": [
            "1.0\n",
            "0.6666666666666666\n"
          ]
        }
      ]
    },
    {
      "cell_type": "markdown",
      "source": [
        "#### **예제 02. 분산의 성질**\n",
        "\n",
        "\n",
        "X,Y 가 아래와 같이 주어졌을 때\n",
        "\n",
        "```\n",
        "X = np.array([1,2,3,4,5,6,7,8,9])\n",
        "c = np.array([10])\n",
        "```\n",
        "\n",
        "다음을 구하세요.\n",
        "\n",
        "```\n",
        "V(X)\n",
        "V(c)\n",
        "V(2X)\n",
        "V(2X-2)\n",
        "4 x V(X)\n",
        "```"
      ],
      "metadata": {
        "id": "JRcCsinm-aiD"
      }
    },
    {
      "cell_type": "code",
      "source": [
        "X = np.array([1,2,3,4,5,6,7,8,9])\n",
        "c = np.array([10])\n",
        "\n",
        "print(V(X)) # V(X)\n",
        "\n",
        "print(V(c)) # V(c) == 0\n",
        "\n",
        "print(V(2*X)) # V(2X) \n",
        "print(4*V(X)) \n",
        "\n",
        "print(V(2*X - 2)) # V(2X -2)\n",
        "print(V(2*X))\n",
        "\n",
        "print(4 * V(X)) # 4 x V(X)\n",
        "print(V(2*X))"
      ],
      "metadata": {
        "id": "FFP0aEUY-aiI",
        "colab": {
          "base_uri": "https://localhost:8080/"
        },
        "outputId": "48a34d21-fd8b-487d-85d0-328eefb1cb17"
      },
      "execution_count": null,
      "outputs": [
        {
          "output_type": "stream",
          "name": "stdout",
          "text": [
            "6.666666666666666\n",
            "0.0\n",
            "26.666666666666664\n",
            "26.666666666666664\n",
            "26.666666666666664\n",
            "26.666666666666664\n",
            "26.666666666666664\n",
            "26.666666666666664\n"
          ]
        }
      ]
    },
    {
      "cell_type": "markdown",
      "source": [
        "#### **예제 03. 시험 성적**\n",
        "\n",
        "학생 네명의 시험 성적이 다음과 같습니다.\n",
        "```\n",
        "X_국어 = np.array([60,70,90,100])\n",
        "X_수학 = np.array([70,30,50,50])\n",
        "```\n",
        "\n",
        "다음을 구하세요.\n",
        "```\n",
        "V(X_국어)\n",
        "V(X_수학)\n",
        "V(5*X_국어)\n",
        "5*5*V(X_국어)\n",
        "```\n"
      ],
      "metadata": {
        "id": "0VQG51pJ3Ega"
      }
    },
    {
      "cell_type": "code",
      "source": [
        "X_Korean = np.array([60,70,90,100])\n",
        "X_Math = np.array([70,30,50,50])\n",
        "print(V(X_Korean))\n",
        "print(V(X_Math))\n",
        "\n",
        "print(V(5*X_Korean))\n",
        "print(25*V(X_Korean))"
      ],
      "metadata": {
        "id": "Yjxcmy1B3Egb",
        "colab": {
          "base_uri": "https://localhost:8080/"
        },
        "outputId": "ffd2622e-da63-4434-eac8-99ea879dd6c0"
      },
      "execution_count": null,
      "outputs": [
        {
          "output_type": "stream",
          "name": "stdout",
          "text": [
            "250.0\n",
            "200.0\n",
            "6250.0\n",
            "6250.0\n"
          ]
        }
      ]
    },
    {
      "cell_type": "markdown",
      "source": [
        "### **| 공분산**\n",
        "\n",
        "\n",
        "\\begin{align}\n",
        "\\text{Cov}(X, Y) = \\text{E}[(X - \\text{E}[X])(Y - \\text{E}[Y])]\n",
        "\\tag{7.5.3}\n",
        "\\end{align}"
      ],
      "metadata": {
        "id": "uu3r4i3_fs62"
      }
    },
    {
      "cell_type": "code",
      "source": [
        "def E(X, P = []): \n",
        "    if not len(P):\n",
        "        P = np.array([1/len(X)])\n",
        "    return np.sum(X*P)\n",
        "\n",
        "def V(X, P=[]):\n",
        "    if not len(P):\n",
        "        P = np.array([1/len(X)]*len(X))\n",
        "    return E(( X - E(X, P) )**2)\n",
        "\n",
        "def Cov(X, Y, P_X = [], P_Y = []):\n",
        "    return E(   (X - E(X, P_X)) * (Y - E(Y, P_Y))    )"
      ],
      "metadata": {
        "id": "3h694jZJfvGt"
      },
      "execution_count": null,
      "outputs": []
    },
    {
      "cell_type": "code",
      "source": [
        "# 함수 확인용\n",
        "X = np.array([10,20,30,40])\n",
        "Y = np.array([40,30,20,10])\n",
        "Z = np.array([10,20,10,20])\n",
        "Cov(X,Y), Cov(X,Z)"
      ],
      "metadata": {
        "colab": {
          "base_uri": "https://localhost:8080/"
        },
        "id": "NnVrbFoUH7QZ",
        "outputId": "d2f875a6-320c-4012-f7e4-9a08452901d2"
      },
      "execution_count": null,
      "outputs": [
        {
          "output_type": "execute_result",
          "data": {
            "text/plain": [
              "(-125.0, 25.0)"
            ]
          },
          "metadata": {},
          "execution_count": 114
        }
      ]
    },
    {
      "cell_type": "markdown",
      "source": [
        "### **| 상관계수**\n",
        "\n",
        "\n",
        "* 피어슨(Pearson) 상관계수\n",
        "\n",
        "\\begin{align}\n",
        "\\rho[X,Y] =  \\dfrac{\\text{Cov}[X, Y]}{\\sqrt{\\text{V}[X] \\cdot \\text{V}[Y]}}\n",
        "\\end{align}\n",
        "\n",
        "\\begin{align}\n",
        "-1 \\leq \\rho \\leq 1\n",
        "\\end{align}\n",
        "\n",
        "\n"
      ],
      "metadata": {
        "id": "Vn_-yEAmfwjD"
      }
    },
    {
      "cell_type": "code",
      "source": [
        "def Cor(X, Y, P_X = [], P_Y = []):\n",
        "    return Cov(X, Y, P_X, P_Y)  /  np.sqrt( V(X, P_X) * V(X, P_Y) )"
      ],
      "metadata": {
        "id": "cDkhhX-hjRVl"
      },
      "execution_count": null,
      "outputs": []
    },
    {
      "cell_type": "markdown",
      "source": [
        "#### **예제 01. 두 뽑기의 확률**\n",
        "\n",
        "두 뽑기 A, B에서 나오는 숫자들의 확률이 아래와 같을 때 X와Y의 공분산과 상관계수를 구하세요.\n",
        "```\n",
        "X = [0,1,2]\n",
        "P(X) = [1/5, 2/5, 2/5]\n",
        "Y - [0, 1, 2]\n",
        "P(Y) = [1/5, 3/5, 1/5]\n",
        "```"
      ],
      "metadata": {
        "id": "k2fH0nowszcq"
      }
    },
    {
      "cell_type": "code",
      "source": [
        "X = np.array([0,1,2])\n",
        "P_X = np.array([1/5, 2/5, 2/5])\n",
        "Y = np.array([0, 1, 2])\n",
        "P_Y = np.array([1/5, 3/5, 1/5])\n",
        "\n",
        "print(Cov(X, Y, P_X, P_Y))\n",
        "print(Cor(X, Y, P_X, P_Y))"
      ],
      "metadata": {
        "id": "eN3AX__Ru_4u",
        "colab": {
          "base_uri": "https://localhost:8080/"
        },
        "outputId": "698ada62-99f1-434c-d121-108cfe3b91dc"
      },
      "execution_count": null,
      "outputs": [
        {
          "output_type": "stream",
          "name": "stdout",
          "text": [
            "0.6666666666666666\n",
            "0.9712858623572641\n"
          ]
        }
      ]
    },
    {
      "cell_type": "markdown",
      "source": [
        "#### **예제 02. 표본 그리기 1**\n",
        "\n",
        "아래 코드는 표본을 10000개 추출 합니다.\n",
        "\n",
        "\n",
        "\n",
        "```\n",
        "x, y = np.random.multivariate_normal([0, 0], [[1, a], [a, 1]], 10000).T\n",
        "x.shape, y.shape\n",
        "```\n",
        "\n",
        "1. a 값이 `-1,0.7,0.3,0.01,-0.3,-0.7,-1` 일 때 x, y의 표본쌍 7개의 스캐터 플롯을 그리고, \n",
        "2. 각 경우에 x, y의 상관계수를 구하세요.\n"
      ],
      "metadata": {
        "id": "SzWRwbA2ob00"
      }
    },
    {
      "cell_type": "code",
      "source": [
        "fig, axes = plt.subplots(2,4, figsize = (10,7), sharex = True, sharey = True)\n",
        "axes = axes.flatten()\n",
        "for i, a in enumerate([1, 0.7, 0.3, 0.01, -0.3, -0.7, -1]):\n",
        "    x, y = np.random.multivariate_normal([0, 0], [[1, a], [a, 1]], 10000).T\n",
        "    axes[i].scatter(x, y, s = 1)\n",
        "    axes[i].set_title('Correlation = %0.2f' % Cor(x,y))\n",
        "plt.delaxes(axes[7])"
      ],
      "metadata": {
        "id": "G3rJmkC5n_Eo",
        "colab": {
          "base_uri": "https://localhost:8080/",
          "height": 444
        },
        "outputId": "733b367d-1797-4d6e-9265-c01d71d8a267"
      },
      "execution_count": null,
      "outputs": [
        {
          "output_type": "display_data",
          "data": {
            "text/plain": [
              "<Figure size 720x504 with 7 Axes>"
            ],
            "image/png": "[encoded data removed]"
          },
          "metadata": {
            "needs_background": "light"
          }
        }
      ]
    },
    {
      "cell_type": "markdown",
      "source": [
        "#### **예제 03. 표본 그리기 2**\n",
        "\n",
        "아래 코드는 표본을 10000개 추출 합니다.\n",
        "\n",
        "\n",
        "\n",
        "```\n",
        "x, y = np.random.multivariate_normal([0, 0], [[1, 1], [1, 1]], 10000).T\n",
        "x.shape, y.shape\n",
        "```\n",
        "\n",
        "\n",
        "1. x 표본은 그대로 두고, y 표본에 `1, 0.7, 0.3, 0.01, -0.3, -0.7, -1`을 각각 곱해서 각 표본쌍의 스캐터 플롯 7개를 그리세요.\n",
        "2. 7가지 경우에 대한 x, y 상관계수를 구하세요.\n"
      ],
      "metadata": {
        "id": "HsCNgtJzq2x6"
      }
    },
    {
      "cell_type": "code",
      "source": [
        "fig, axes = plt.subplots(2,4, figsize = (10, 7), sharex = True, sharey = True)\n",
        "\n",
        "axes = axes.flatten()\n",
        "for i, j in enumerate([1, 0.7, 0.3, 0.01, -0.3, -0.7, -1]):\n",
        "    x, y = np.random.multivariate_normal([0, 0], [[1, 1], [1, 1]], 10000).T\n",
        "    axes[i].scatter(x, y * j, s = 1)\n",
        "    axes[i].set_title('Correlation = %0.2f' % Cor(x,y))\n",
        "plt.delaxes(axes[7])\n"
      ],
      "metadata": {
        "id": "PhPtD0Nif3rF",
        "colab": {
          "base_uri": "https://localhost:8080/",
          "height": 444
        },
        "outputId": "202da508-5c89-4eea-f659-e0d5e02b64c0"
      },
      "execution_count": null,
      "outputs": [
        {
          "output_type": "display_data",
          "data": {
            "text/plain": [
              "<Figure size 720x504 with 7 Axes>"
            ],
            "image/png": "[encoded data removed]"
          },
          "metadata": {
            "needs_background": "light"
          }
        }
      ]
    },
    {
      "cell_type": "code",
      "source": [
        ""
      ],
      "metadata": {
        "id": "TOGqHMtVJNod"
      },
      "execution_count": null,
      "outputs": []
    }
  ]
}