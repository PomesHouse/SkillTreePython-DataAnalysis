{
  "nbformat": 4,
  "nbformat_minor": 0,
  "metadata": {
    "colab": {
      "name": "ch02_03_막대그래프.ipynb의 사본",
      "provenance": [],
      "collapsed_sections": [],
      "include_colab_link": true
    },
    "kernelspec": {
      "name": "python3",
      "display_name": "Python 3"
    },
    "language_info": {
      "name": "python"
    }
  },
  "cells": [
    {
      "cell_type": "markdown",
      "metadata": {
        "id": "view-in-github",
        "colab_type": "text"
      },
      "source": [
        "<a href=\"https://colab.research.google.com/github/PomesHouse/SkillTreePython-DataAnalysis/blob/main/ch02_03_%EB%A7%89%EB%8C%80%EA%B7%B8%EB%9E%98%ED%94%84.ipynb\" target=\"_parent\"><img src=\"https://colab.research.google.com/assets/colab-badge.svg\" alt=\"Open In Colab\"/></a>"
      ]
    },
    {
      "cell_type": "markdown",
      "source": [
        "# Ch02.03. 막대그래프\n",
        "\n",
        "---\n",
        "* 날짜:\n",
        "* 이름:\n",
        "\n",
        "```\n",
        "import numpy as np\n",
        "import pandas as pd\n",
        "import matplotlib.pyplot as plt\n",
        "import seaborn as sns\n",
        "\n",
        "plt.rcParams['figure.figsize'] = [6, 4]\n",
        "plt.style.use('seaborn-white')\n",
        "sns.set_style('white')\n",
        "```\n"
      ],
      "metadata": {
        "id": "ylXjSLUxXHxm"
      }
    },
    {
      "cell_type": "code",
      "execution_count": null,
      "metadata": {
        "id": "TyVLPbux1Yu7"
      },
      "outputs": [],
      "source": [
        "import numpy as np\n",
        "import pandas as pd\n",
        "import matplotlib.pyplot as plt\n",
        "import seaborn as sns\n",
        "\n",
        "plt.rcParams['figure.figsize'] = [6, 4]\n",
        "plt.style.use('seaborn-white')\n",
        "sns.set_style('white')"
      ]
    },
    {
      "cell_type": "markdown",
      "source": [
        "\n",
        "## **개념정리**\n",
        "---\n",
        "\n",
        "\n"
      ],
      "metadata": {
        "id": "Ldw0qcLPfPTx"
      }
    },
    {
      "cell_type": "markdown",
      "source": [
        "### (1) Matplotlib 으로 그리기\n"
      ],
      "metadata": {
        "id": "xeLdvlaAfPTx"
      }
    },
    {
      "cell_type": "markdown",
      "source": [
        "#### **| 기본사용**\n",
        "\n",
        "```\n",
        "xs = ['Jan', 'Fab', 'Mar', 'Apr', 'May', 'Jun']\n",
        "nums = [35, 40, 35, 40, 55, 45]\n",
        "plt.bar(xs, nums)\n",
        "plt.show()\n",
        "```"
      ],
      "metadata": {
        "id": "etnS7PCoF-CE"
      }
    },
    {
      "cell_type": "code",
      "source": [
        "xs = ['Jan', 'Fab', 'Mar', 'Apr', 'May', 'Jun']\n",
        "nums = [35, 40, 35, 40, 55, 45]\n",
        "plt.plot(xs, nums)\n",
        "plt.bar(xs, nums, color = 'c') # bar 같은 경우는 xs (x-axis)를 주어야한다. \n",
        "plt.show()"
      ],
      "metadata": {
        "id": "9VND05j315g8",
        "outputId": "c0d13590-4f9e-48a2-ed3a-5e7a9297f997",
        "colab": {
          "base_uri": "https://localhost:8080/",
          "height": 262
        }
      },
      "execution_count": null,
      "outputs": [
        {
          "output_type": "display_data",
          "data": {
            "text/plain": [
              "<Figure size 432x288 with 1 Axes>"
            ],
            "image/png": "[encoded data removed]"
          },
          "metadata": {}
        }
      ]
    },
    {
      "cell_type": "markdown",
      "source": [
        "#### **| 옵션**\n",
        "\n",
        "```\n",
        "plt.bar(xs, nums, \n",
        "        color = '색깔'\n",
        "        edgecolor='테두리색'\n",
        "        width/ height=바의 너비/높이\n",
        "        linewidth=테두리두께\n",
        "        align=눈금위치('center'/'edge'), \n",
        "        tick_label=[])\n",
        "```"
      ],
      "metadata": {
        "id": "_tsJqPsZcSU3"
      }
    },
    {
      "cell_type": "code",
      "source": [
        "plt.bar(xs, nums, \n",
        "        color = 'dodgerblue',\n",
        "        edgecolor= 'navy',\n",
        "        alpha =  0.6,\n",
        "        width= 0.5,\n",
        "        linewidth= 2,\n",
        "        align='center')"
      ],
      "metadata": {
        "id": "PgrriT6kayt2",
        "outputId": "174c5cbf-0ceb-46fe-990f-c53c641047a4",
        "colab": {
          "base_uri": "https://localhost:8080/",
          "height": 280
        }
      },
      "execution_count": null,
      "outputs": [
        {
          "output_type": "execute_result",
          "data": {
            "text/plain": [
              "<BarContainer object of 6 artists>"
            ]
          },
          "metadata": {},
          "execution_count": 12
        },
        {
          "output_type": "display_data",
          "data": {
            "text/plain": [
              "<Figure size 432x288 with 1 Axes>"
            ],
            "image/png": "[encoded data removed]"
          },
          "metadata": {
            "needs_background": "light"
          }
        }
      ]
    },
    {
      "cell_type": "markdown",
      "source": [
        "#### **| 수평 막대그래프**\n"
      ],
      "metadata": {
        "id": "k2kKU7ucc1Ev"
      }
    },
    {
      "cell_type": "markdown",
      "source": [
        "```\n",
        "plt.barh(xs, nums)\n",
        "```"
      ],
      "metadata": {
        "id": "mdudOY6cc1Ev"
      }
    },
    {
      "cell_type": "code",
      "source": [
        "plt.barh(xs, nums, \n",
        "        color = 'dodgerblue',\n",
        "        edgecolor= 'navy',\n",
        "        alpha =  0.8,\n",
        "        #width= 0.5,  barh에는 width 없음\n",
        "        linewidth= 2,\n",
        "        align='center')"
      ],
      "metadata": {
        "id": "XbSAmW-cc1Ev",
        "outputId": "52de1e6b-1445-42ab-9ce1-6692e6db59df",
        "colab": {
          "base_uri": "https://localhost:8080/",
          "height": 280
        }
      },
      "execution_count": null,
      "outputs": [
        {
          "output_type": "execute_result",
          "data": {
            "text/plain": [
              "<BarContainer object of 6 artists>"
            ]
          },
          "metadata": {},
          "execution_count": 16
        },
        {
          "output_type": "display_data",
          "data": {
            "text/plain": [
              "<Figure size 432x288 with 1 Axes>"
            ],
            "image/png": "[encoded data removed]"
          },
          "metadata": {
            "needs_background": "light"
          }
        }
      ]
    },
    {
      "cell_type": "markdown",
      "source": [
        "### (2) Seaborn 으로 그리기\n",
        "\n",
        "\n"
      ],
      "metadata": {
        "id": "ggjMd8im8gJx"
      }
    },
    {
      "cell_type": "markdown",
      "source": [
        "#### **| 기본사용**\n",
        "\n",
        "```\n",
        "sns.barplot(x=xs, y=nums)\n",
        "```"
      ],
      "metadata": {
        "id": "WCVykkIPXTmq"
      }
    },
    {
      "cell_type": "code",
      "source": [
        "sns.barplot(x  = xs, y = nums)"
      ],
      "metadata": {
        "id": "caplckbRZt0Q",
        "outputId": "e83a4a13-f322-442c-dd23-265880f11121",
        "colab": {
          "base_uri": "https://localhost:8080/",
          "height": 280
        }
      },
      "execution_count": null,
      "outputs": [
        {
          "output_type": "execute_result",
          "data": {
            "text/plain": [
              "<matplotlib.axes._subplots.AxesSubplot at 0x7f9048f69090>"
            ]
          },
          "metadata": {},
          "execution_count": 17
        },
        {
          "output_type": "display_data",
          "data": {
            "text/plain": [
              "<Figure size 432x288 with 1 Axes>"
            ],
            "image/png": "[encoded data removed]"
          },
          "metadata": {
            "needs_background": "light"
          }
        }
      ]
    },
    {
      "cell_type": "markdown",
      "source": [
        "#### **| 옵션**\n",
        "\n",
        "```\n",
        "seaborn.barplot(x=None, y=None, \n",
        "                color=None, \n",
        "                palette=None, # 컬러맵\n",
        "                saturation=0.75, # 밝기\n",
        "                )\n",
        "```"
      ],
      "metadata": {
        "id": "kwbkAOvYI7kH"
      }
    },
    {
      "cell_type": "code",
      "source": [
        "sns.barplot(x = xs, y = nums,\n",
        "            palette = 'gnuplot2_r')"
      ],
      "metadata": {
        "id": "HV1wyyrqI7kH",
        "outputId": "c808c753-0551-4484-8a0c-a93391f4da3d",
        "colab": {
          "base_uri": "https://localhost:8080/",
          "height": 280
        }
      },
      "execution_count": null,
      "outputs": [
        {
          "output_type": "execute_result",
          "data": {
            "text/plain": [
              "<matplotlib.axes._subplots.AxesSubplot at 0x7ff12b9402d0>"
            ]
          },
          "metadata": {},
          "execution_count": 15
        },
        {
          "output_type": "display_data",
          "data": {
            "text/plain": [
              "<Figure size 432x288 with 1 Axes>"
            ],
            "image/png": "[encoded data removed]"
          },
          "metadata": {}
        }
      ]
    },
    {
      "cell_type": "markdown",
      "source": [
        "#### **| 수평 막대그래프**\n"
      ],
      "metadata": {
        "id": "7RhgMjm3H17N"
      }
    },
    {
      "cell_type": "markdown",
      "source": [
        "```\n",
        "sns.barplot(x=nums, y=xs)\n",
        "```"
      ],
      "metadata": {
        "id": "KLPJpZ79H17O"
      }
    },
    {
      "cell_type": "code",
      "source": [
        "sns.barplot(x = nums, y = xs)"
      ],
      "metadata": {
        "id": "FxAMCcz2H17O",
        "outputId": "5856512a-ca5c-46f1-de08-e6636cf5cc2b",
        "colab": {
          "base_uri": "https://localhost:8080/",
          "height": 280
        }
      },
      "execution_count": null,
      "outputs": [
        {
          "output_type": "execute_result",
          "data": {
            "text/plain": [
              "<matplotlib.axes._subplots.AxesSubplot at 0x7f9048f83810>"
            ]
          },
          "metadata": {},
          "execution_count": 22
        },
        {
          "output_type": "display_data",
          "data": {
            "text/plain": [
              "<Figure size 432x288 with 1 Axes>"
            ],
            "image/png": "[encoded data removed]"
          },
          "metadata": {
            "needs_background": "light"
          }
        }
      ]
    },
    {
      "cell_type": "markdown",
      "source": [
        "#### **| DataFrame 사용**\n",
        "\n"
      ],
      "metadata": {
        "id": "GCPmXaIIyLcr"
      }
    },
    {
      "cell_type": "markdown",
      "source": [
        "* 데이터 프레임을 만들어 줍니다.\n",
        "\n"
      ],
      "metadata": {
        "id": "3cKlgwTJOzBJ"
      }
    },
    {
      "cell_type": "code",
      "source": [
        "df = pd.DataFrame([xs, nums]).T\n",
        "df.columns = ['Month','Count']\n",
        "df"
      ],
      "metadata": {
        "id": "so1ANfnzO4Jh",
        "outputId": "814f73cf-2acc-4878-dad4-663ca8c6f3be",
        "colab": {
          "base_uri": "https://localhost:8080/",
          "height": 238
        }
      },
      "execution_count": null,
      "outputs": [
        {
          "output_type": "execute_result",
          "data": {
            "text/plain": [
              "  Month Count\n",
              "0   Jan    35\n",
              "1   Fab    40\n",
              "2   Mar    35\n",
              "3   Apr    40\n",
              "4   May    55\n",
              "5   Jun    45"
            ],
            "text/html": [
              "\n",
              "  <div id=\"df-5f587206-ff23-4863-9824-669baf186c4a\">\n",
              "    <div class=\"colab-df-container\">\n",
              "      <div>\n",
              "<style scoped>\n",
              "    .dataframe tbody tr th:only-of-type {\n",
              "        vertical-align: middle;\n",
              "    }\n",
              "\n",
              "    .dataframe tbody tr th {\n",
              "        vertical-align: top;\n",
              "    }\n",
              "\n",
              "    .dataframe thead th {\n",
              "        text-align: right;\n",
              "    }\n",
              "</style>\n",
              "<table border=\"1\" class=\"dataframe\">\n",
              "  <thead>\n",
              "    <tr style=\"text-align: right;\">\n",
              "      <th></th>\n",
              "      <th>Month</th>\n",
              "      <th>Count</th>\n",
              "    </tr>\n",
              "  </thead>\n",
              "  <tbody>\n",
              "    <tr>\n",
              "      <th>0</th>\n",
              "      <td>Jan</td>\n",
              "      <td>35</td>\n",
              "    </tr>\n",
              "    <tr>\n",
              "      <th>1</th>\n",
              "      <td>Fab</td>\n",
              "      <td>40</td>\n",
              "    </tr>\n",
              "    <tr>\n",
              "      <th>2</th>\n",
              "      <td>Mar</td>\n",
              "      <td>35</td>\n",
              "    </tr>\n",
              "    <tr>\n",
              "      <th>3</th>\n",
              "      <td>Apr</td>\n",
              "      <td>40</td>\n",
              "    </tr>\n",
              "    <tr>\n",
              "      <th>4</th>\n",
              "      <td>May</td>\n",
              "      <td>55</td>\n",
              "    </tr>\n",
              "    <tr>\n",
              "      <th>5</th>\n",
              "      <td>Jun</td>\n",
              "      <td>45</td>\n",
              "    </tr>\n",
              "  </tbody>\n",
              "</table>\n",
              "</div>\n",
              "      <button class=\"colab-df-convert\" onclick=\"convertToInteractive('df-5f587206-ff23-4863-9824-669baf186c4a')\"\n",
              "              title=\"Convert this dataframe to an interactive table.\"\n",
              "              style=\"display:none;\">\n",
              "        \n",
              "  <svg xmlns=\"http://www.w3.org/2000/svg\" height=\"24px\"viewBox=\"0 0 24 24\"\n",
              "       width=\"24px\">\n",
              "    <path d=\"M0 0h24v24H0V0z\" fill=\"none\"/>\n",
              "    <path d=\"M18.56 5.44l.94 2.06.94-2.06 2.06-.94-2.06-.94-.94-2.06-.94 2.06-2.06.94zm-11 1L8.5 8.5l.94-2.06 2.06-.94-2.06-.94L8.5 2.5l-.94 2.06-2.06.94zm10 10l.94 2.06.94-2.06 2.06-.94-2.06-.94-.94-2.06-.94 2.06-2.06.94z\"/><path d=\"M17.41 7.96l-1.37-1.37c-.4-.4-.92-.59-1.43-.59-.52 0-1.04.2-1.43.59L10.3 9.45l-7.72 7.72c-.78.78-.78 2.05 0 2.83L4 21.41c.39.39.9.59 1.41.59.51 0 1.02-.2 1.41-.59l7.78-7.78 2.81-2.81c.8-.78.8-2.07 0-2.86zM5.41 20L4 18.59l7.72-7.72 1.47 1.35L5.41 20z\"/>\n",
              "  </svg>\n",
              "      </button>\n",
              "      \n",
              "  <style>\n",
              "    .colab-df-container {\n",
              "      display:flex;\n",
              "      flex-wrap:wrap;\n",
              "      gap: 12px;\n",
              "    }\n",
              "\n",
              "    .colab-df-convert {\n",
              "      background-color: #E8F0FE;\n",
              "      border: none;\n",
              "      border-radius: 50%;\n",
              "      cursor: pointer;\n",
              "      display: none;\n",
              "      fill: #1967D2;\n",
              "      height: 32px;\n",
              "      padding: 0 0 0 0;\n",
              "      width: 32px;\n",
              "    }\n",
              "\n",
              "    .colab-df-convert:hover {\n",
              "      background-color: #E2EBFA;\n",
              "      box-shadow: 0px 1px 2px rgba(60, 64, 67, 0.3), 0px 1px 3px 1px rgba(60, 64, 67, 0.15);\n",
              "      fill: #174EA6;\n",
              "    }\n",
              "\n",
              "    [theme=dark] .colab-df-convert {\n",
              "      background-color: #3B4455;\n",
              "      fill: #D2E3FC;\n",
              "    }\n",
              "\n",
              "    [theme=dark] .colab-df-convert:hover {\n",
              "      background-color: #434B5C;\n",
              "      box-shadow: 0px 1px 3px 1px rgba(0, 0, 0, 0.15);\n",
              "      filter: drop-shadow(0px 1px 2px rgba(0, 0, 0, 0.3));\n",
              "      fill: #FFFFFF;\n",
              "    }\n",
              "  </style>\n",
              "\n",
              "      <script>\n",
              "        const buttonEl =\n",
              "          document.querySelector('#df-5f587206-ff23-4863-9824-669baf186c4a button.colab-df-convert');\n",
              "        buttonEl.style.display =\n",
              "          google.colab.kernel.accessAllowed ? 'block' : 'none';\n",
              "\n",
              "        async function convertToInteractive(key) {\n",
              "          const element = document.querySelector('#df-5f587206-ff23-4863-9824-669baf186c4a');\n",
              "          const dataTable =\n",
              "            await google.colab.kernel.invokeFunction('convertToInteractive',\n",
              "                                                     [key], {});\n",
              "          if (!dataTable) return;\n",
              "\n",
              "          const docLinkHtml = 'Like what you see? Visit the ' +\n",
              "            '<a target=\"_blank\" href=https://colab.research.google.com/notebooks/data_table.ipynb>data table notebook</a>'\n",
              "            + ' to learn more about interactive tables.';\n",
              "          element.innerHTML = '';\n",
              "          dataTable['output_type'] = 'display_data';\n",
              "          await google.colab.output.renderOutput(dataTable, element);\n",
              "          const docLink = document.createElement('div');\n",
              "          docLink.innerHTML = docLinkHtml;\n",
              "          element.appendChild(docLink);\n",
              "        }\n",
              "      </script>\n",
              "    </div>\n",
              "  </div>\n",
              "  "
            ]
          },
          "metadata": {},
          "execution_count": 29
        }
      ]
    },
    {
      "cell_type": "markdown",
      "source": [
        "* 데이터프레임에서 기본적으로 플롯을 제공합니다.\n",
        "\n",
        "\n",
        "```\n",
        "df.plot.bar(x=x,y=y)\n",
        "```\n",
        "\n",
        "\n"
      ],
      "metadata": {
        "id": "j5x-0qTTgqK2"
      }
    },
    {
      "cell_type": "code",
      "source": [
        "df.plot.bar(x = 'Month', y = 'Count')"
      ],
      "metadata": {
        "id": "v4RUwYz5yPRs",
        "outputId": "e21527cb-7871-4f92-8d04-a36b15a4e93a",
        "colab": {
          "base_uri": "https://localhost:8080/",
          "height": 304
        }
      },
      "execution_count": null,
      "outputs": [
        {
          "output_type": "execute_result",
          "data": {
            "text/plain": [
              "<matplotlib.axes._subplots.AxesSubplot at 0x7f9047715090>"
            ]
          },
          "metadata": {},
          "execution_count": 30
        },
        {
          "output_type": "display_data",
          "data": {
            "text/plain": [
              "<Figure size 432x288 with 1 Axes>"
            ],
            "image/png": "[encoded data removed]"
          },
          "metadata": {
            "needs_background": "light"
          }
        }
      ]
    },
    {
      "cell_type": "markdown",
      "source": [
        "* 데이터프레임 기반으로 seaborn을 사용합니다.\n",
        "\n",
        "\n",
        "```\n",
        "sns.barplot(data=df,x=x, y=y)\n",
        "```\n"
      ],
      "metadata": {
        "id": "ycx-4x4Ag94u"
      }
    },
    {
      "cell_type": "code",
      "source": [
        "sns.barplot(data = df, x ='Month', y = 'Count')"
      ],
      "metadata": {
        "id": "B8MgiEHyyjUt",
        "outputId": "2a8d9228-ca1f-43d0-ccc5-8a179eb15ee1",
        "colab": {
          "base_uri": "https://localhost:8080/",
          "height": 294
        }
      },
      "execution_count": null,
      "outputs": [
        {
          "output_type": "execute_result",
          "data": {
            "text/plain": [
              "<matplotlib.axes._subplots.AxesSubplot at 0x7f9046dca990>"
            ]
          },
          "metadata": {},
          "execution_count": 31
        },
        {
          "output_type": "display_data",
          "data": {
            "text/plain": [
              "<Figure size 432x288 with 1 Axes>"
            ],
            "image/png": "[encoded data removed]"
          },
          "metadata": {
            "needs_background": "light"
          }
        }
      ]
    },
    {
      "cell_type": "markdown",
      "source": [
        "\n",
        "## **실습**\n",
        "\n",
        "\n",
        "---\n",
        "\n",
        "\n"
      ],
      "metadata": {
        "id": "9BldG-nOgeoQ"
      }
    },
    {
      "cell_type": "markdown",
      "source": [
        "### (1) 과일 데이터 시각화\n",
        "\n",
        "\n",
        "```\n",
        "np.random.seed(42)\n",
        "fruits=['apple', 'banana','orange']\n",
        "fresh = np.random.randint(1,10,3)\n",
        "qual = np.random.randint(1,10,3)\n",
        "price = np.random.randint(1000,1500,3)\n",
        "sale = np.random.randint(700,1200,3)\n",
        "```"
      ],
      "metadata": {
        "id": "Sm_irK939Amm"
      }
    },
    {
      "cell_type": "code",
      "source": [
        "np.random.seed(42)\n",
        "fruits=['apple', 'banana','orange']\n",
        "fresh = np.random.randint(1,10,3)\n",
        "qual = np.random.randint(1,10,3)\n",
        "price = np.random.randint(1000,1500,3)\n",
        "sale = np.random.randint(700,1200,3)\n",
        "fresh, qual, price, sale"
      ],
      "metadata": {
        "id": "GHa1oGTdZuvO",
        "outputId": "95241c9b-89af-4918-dac6-2040d80f4560",
        "colab": {
          "base_uri": "https://localhost:8080/"
        }
      },
      "execution_count": null,
      "outputs": [
        {
          "output_type": "execute_result",
          "data": {
            "text/plain": [
              "(array([7, 4, 8]),\n",
              " array([5, 7, 3]),\n",
              " array([1214, 1330, 1458]),\n",
              " array([ 787, 1072,  799]))"
            ]
          },
          "metadata": {},
          "execution_count": 4
        }
      ]
    },
    {
      "cell_type": "code",
      "source": [
        "\n",
        "idx= np.arange(3)\n",
        "width = 0.2\n",
        "\n",
        "plt.subplot(2,1,1)\n",
        "plt.bar(idx, fresh, label = 'fresh', width = width )\n",
        "plt.bar(idx + width, qual, label = 'quality', width = width, color = 'slategray')\n",
        "plt.xticks(idx + (width/2), fruits) #눈금의 위치, 위치에 적을 이름 \n",
        "plt.legend()\n",
        "\n",
        "plt.subplot(2,1,2)\n",
        "plt.bar(idx, price, label = 'label', width = width)\n",
        "plt.bar(idx + width, sale, label = 'sale', width = width, color = 'slateblue')\n",
        "plt.xticks (idx + (width/2), fruits) \n",
        "plt.legend()\n",
        "plt.show()\n"
      ],
      "metadata": {
        "id": "Y4IYRxZqESHd",
        "outputId": "438dba04-e760-4004-a9a4-67e3068bfbfe",
        "colab": {
          "base_uri": "https://localhost:8080/",
          "height": 262
        }
      },
      "execution_count": null,
      "outputs": [
        {
          "output_type": "display_data",
          "data": {
            "text/plain": [
              "<Figure size 432x288 with 2 Axes>"
            ],
            "image/png": "[encoded data removed]"
          },
          "metadata": {}
        }
      ]
    },
    {
      "cell_type": "markdown",
      "source": [
        "### (2) **kwargs 이용한 옵션적용\n",
        "\n",
        "\n"
      ],
      "metadata": {
        "id": "rRP4A2x7UfBH"
      }
    },
    {
      "cell_type": "code",
      "source": [
        "plt.figure(figsize = (4,2))\n",
        "\n",
        "style = dict(width = width,\n",
        "             alpha = 0.5,\n",
        "             linewidth = 3, \n",
        "             edgecolor = 'k')\n",
        "plt.bar(idx, fresh, label = 'fresh', **style)\n",
        "plt.bar(idx + width, qual, label = 'quality', **style )\n",
        "plt.xticks(idx + (width/2), fruits) #눈금의 위치, 위치에 적을 이름 \n",
        "plt.legend()\n"
      ],
      "metadata": {
        "id": "ibAFGPka4OAF",
        "colab": {
          "base_uri": "https://localhost:8080/",
          "height": 171
        },
        "outputId": "df868fd5-bf4a-4781-db48-bb645f6c5739"
      },
      "execution_count": null,
      "outputs": [
        {
          "output_type": "execute_result",
          "data": {
            "text/plain": [
              "<matplotlib.legend.Legend at 0x7ff128b85690>"
            ]
          },
          "metadata": {},
          "execution_count": 49
        },
        {
          "output_type": "display_data",
          "data": {
            "text/plain": [
              "<Figure size 288x144 with 1 Axes>"
            ],
            "image/png": "[encoded data removed]"
          },
          "metadata": {}
        }
      ]
    },
    {
      "cell_type": "markdown",
      "source": [
        "\n",
        "## 과제\n"
      ],
      "metadata": {
        "id": "dWjmJj6NgznX"
      }
    },
    {
      "cell_type": "markdown",
      "source": [
        "### (1) 막대그래프를 이용한 flight 데이터 시각화\n",
        "\n",
        "```\n",
        "df=sns.load_dataset('flights')\n",
        "```\n",
        "\n",
        " `seaborn`의 `load_dataset`을 이용해 `flights` 데이터를 불러온 후 아래와 같은 플롯을 그리세요.\n",
        "\n",
        "![](https://github.com/yebiny/SkillTreePython-DataAnalysis/blob/main/imgs/ch0203-01.png?raw=true)\n",
        "\n",
        "\n",
        "\n"
      ],
      "metadata": {
        "id": "zYnrjxbfDyAt"
      }
    },
    {
      "cell_type": "code",
      "source": [
        "df=sns.load_dataset('flights')\n",
        "df.info()"
      ],
      "metadata": {
        "id": "aTj8nudQrJej",
        "colab": {
          "base_uri": "https://localhost:8080/"
        },
        "outputId": "7c4ca26a-8ce8-407e-8841-87ed8cb469eb"
      },
      "execution_count": null,
      "outputs": [
        {
          "output_type": "stream",
          "name": "stdout",
          "text": [
            "<class 'pandas.core.frame.DataFrame'>\n",
            "RangeIndex: 144 entries, 0 to 143\n",
            "Data columns (total 3 columns):\n",
            " #   Column      Non-Null Count  Dtype   \n",
            "---  ------      --------------  -----   \n",
            " 0   year        144 non-null    int64   \n",
            " 1   month       144 non-null    category\n",
            " 2   passengers  144 non-null    int64   \n",
            "dtypes: category(1), int64(2)\n",
            "memory usage: 2.9 KB\n"
          ]
        }
      ]
    },
    {
      "cell_type": "code",
      "source": [
        " df_1950 = pd.DataFrame(df[df['year'] == 1950].groupby('month')['passengers'].sum())\n",
        " df_1955 = pd.DataFrame(df[df['year'] == 1955].groupby('month')['passengers'].sum())\n",
        " df_1960 = pd.DataFrame(df[df['year'] == 1960].groupby('month')['passengers'].sum())\n",
        " df_mean = (df_1950 + df_1955 + df_1960)/3"
      ],
      "metadata": {
        "id": "NWL8pIMps5s0"
      },
      "execution_count": null,
      "outputs": []
    },
    {
      "cell_type": "code",
      "source": [
        "# df1 = df[df.year==1950]\n",
        "# df2 = df[df.year==1955]\n",
        "# df3 = df[df.year==1960]\n",
        "# df1\n",
        "\n",
        "# # 3년간 평균\n",
        "# x_mean = np.mean(np.array([df1.passengers, df2.passengers, df3.passengers]), axis=0)\n",
        "\n",
        "\n",
        "# width = 0.25\n",
        "# idx = np.arange(12)\n",
        "\n",
        "# plt.figure(figsize=(12,6))\n",
        "# # 막대그래프 작성\n",
        "# plt.bar(idx-width, df1.passengers , width=width, label='1950')\n",
        "# plt.bar(idx, df2.passengers , width=width, label='1955')\n",
        "# plt.bar(idx+width, df3.passengers , width=width, label='1960')\n",
        "# # 선그래프 작성\n",
        "# plt.plot(x_mean, marker='o', color='k', markerfacecolor='r', label='mean of each year(1950, 1955, 1960)')\n",
        "\n",
        "# # 기타 세팅\n",
        "# plt.xticks(idx, df1.month)\n",
        "# plt.legend(loc='upper left')\n",
        "# plt.title('Number of passengers each month')\n",
        "\n",
        "# plt.show()"
      ],
      "metadata": {
        "id": "6G_KPqMIcm-R"
      },
      "execution_count": null,
      "outputs": []
    },
    {
      "cell_type": "code",
      "source": [
        "plt.figure(figsize = (10,5))\n",
        "plt.bar(np.arange(12), df_1950['passengers'], label = 1950,\n",
        "        width = 0.3, color = 'darkslategrey')\n",
        "plt.bar(np.arange(12) + 0.3, df_1955['passengers'], label = 1955,\n",
        "        width = 0.3, color = 'palevioletred')\n",
        "plt.bar(np.arange(12) + 0.6, df_1960['passengers'], label = 1960,\n",
        "        width = 0.3, color = 'lightseagreen')\n",
        "plt.plot(np.arange(12) + 0.3, df_mean['passengers'], 'k', marker = 'o', markerfacecolor = 'crimson', label = 'mean of each year(1950, 1955, 1960)')\n",
        "plt.xticks(np.arange(12) + 0.3, df['month'])\n",
        "plt.legend(loc = 'upper left')\n",
        "plt.title('Number of passengers each month')\n",
        "plt.tight_layout()\n",
        "plt.show()"
      ],
      "metadata": {
        "id": "CJxn_yonK7Cz",
        "colab": {
          "base_uri": "https://localhost:8080/",
          "height": 369
        },
        "outputId": "83053da1-0ff9-4fff-81ef-9f5387e1ea55"
      },
      "execution_count": 125,
      "outputs": [
        {
          "output_type": "display_data",
          "data": {
            "text/plain": [
              "<Figure size 720x360 with 1 Axes>"
            ],
            "image/png": "[encoded data removed]"
          },
          "metadata": {}
        }
      ]
    },
    {
      "cell_type": "code",
      "source": [
        ""
      ],
      "metadata": {
        "id": "VAdT28slXPj2"
      },
      "execution_count": null,
      "outputs": []
    }
  ]
}