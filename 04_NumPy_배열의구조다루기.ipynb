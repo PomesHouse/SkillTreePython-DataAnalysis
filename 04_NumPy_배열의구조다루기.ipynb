{
  "nbformat": 4,
  "nbformat_minor": 0,
  "metadata": {
    "colab": {
      "name": "04_NumPy-배열의구조다루기.ipynb",
      "provenance": [],
      "collapsed_sections": [],
      "include_colab_link": true
    },
    "kernelspec": {
      "name": "python3",
      "display_name": "Python 3"
    },
    "language_info": {
      "name": "python"
    }
  },
  "cells": [
    {
      "cell_type": "markdown",
      "metadata": {
        "id": "view-in-github",
        "colab_type": "text"
      },
      "source": [
        "<a href=\"https://colab.research.google.com/github/PomesHouse/SkillTreePython-DataAnalysis/blob/main/04_NumPy_%EB%B0%B0%EC%97%B4%EC%9D%98%EA%B5%AC%EC%A1%B0%EB%8B%A4%EB%A3%A8%EA%B8%B0.ipynb\" target=\"_parent\"><img src=\"https://colab.research.google.com/assets/colab-badge.svg\" alt=\"Open In Colab\"/></a>"
      ]
    },
    {
      "cell_type": "markdown",
      "metadata": {
        "id": "jgFAOz-Tw1VI"
      },
      "source": [
        "# CH04 Numpy  - 배열의 구조 다루기\n",
        "\n",
        "---\n",
        "* 날짜:\n",
        "* 이름:\n"
      ]
    },
    {
      "cell_type": "markdown",
      "source": [
        "## 개념정리\n",
        "\n",
        "데이터 분석에 있어서 배열에 담긴 데이터만큼 중요한 것이 배열의 구조입니다. 특히 머신러닝, 딥러닝에서는 데이터의 선형변환이 주가 되기 때문에 이 과정에서 데이터의 형태 변형이 많이 이루어 집니다. 이번 시간에는 배열의 형태를 변경하고 연결하고, 분할 하는 여러 방법들을 알아보도록 합니다. \n",
        "\n",
        "```\n",
        "import numpy as np\n",
        "```\n",
        "\n",
        "\n"
      ],
      "metadata": {
        "id": "_3uSBF40BdCd"
      }
    },
    {
      "cell_type": "code",
      "source": [
        "import numpy as np"
      ],
      "metadata": {
        "id": "zPOE7GIhJcdU"
      },
      "execution_count": 2,
      "outputs": []
    },
    {
      "cell_type": "markdown",
      "metadata": {
        "id": "HjPXsM8C5ULZ"
      },
      "source": [
        "---\n",
        "### **(1) 형태 변경**\n",
        "---\n"
      ]
    },
    {
      "cell_type": "markdown",
      "source": [
        "#### **| 형태 직접 변경**\n",
        "\n",
        "* `a.reshape(shape)` : `shape` 형태로 변경한 배열을 반환합니다.\n",
        "* `a.resize(shape)` : 배열 `a`를 `shape` 형태로 변경합니다. 사이즈가 기존보다 크면 값을 0으로 채우고, 작으면 값이 삭제됩니다.\n",
        "\n",
        "`.reshape`는 기존 배열과 변경할 배열의 총 크기가 같아야 하지만 `.resize`는 같을 필요가 없습니다. 다만 `..resize`는 값이 임의로 변경되니 사용에 주의해야 합니다.\n",
        "\n",
        "또한 `reshape`는 기존배열을 보존하고 `resize`는 기존배열을 바로 변경합니다.\n",
        "\n",
        "```\n",
        "a = np.arange(10)\n",
        "a.resize((5,3))\n",
        "print(a)\n",
        "a1=a.reshape((3,5))\n",
        "print(a1)\n",
        "```"
      ],
      "metadata": {
        "id": "NQ_GbYiXLN2i"
      }
    },
    {
      "cell_type": "code",
      "source": [
        "a = np.arange(10)\n",
        "print(a)\n",
        "a.resize((3,5)) # resize: original array changes / resize 는 반환값이 없다. ( 그래서 a1 = a.resize((3,5 ))할 수 없다. )\n",
        "print(a)\n",
        "a1 = a.reshape((5,3)) # reshape: doesn't chnage the original array / 반환값이 있다. \n",
        "print(a)\n",
        "print(a1)\n"
      ],
      "metadata": {
        "id": "XzFGRGdoj7jD",
        "colab": {
          "base_uri": "https://localhost:8080/"
        },
        "outputId": "417ad86e-6972-4f66-b69c-2718bd5078e0"
      },
      "execution_count": 4,
      "outputs": [
        {
          "output_type": "stream",
          "name": "stdout",
          "text": [
            "[0 1 2 3 4 5 6 7 8 9]\n",
            "[[0 1 2 3 4]\n",
            " [5 6 7 8 9]\n",
            " [0 0 0 0 0]]\n",
            "[[0 1 2 3 4]\n",
            " [5 6 7 8 9]\n",
            " [0 0 0 0 0]]\n",
            "[[0 1 2]\n",
            " [3 4 5]\n",
            " [6 7 8]\n",
            " [9 0 0]\n",
            " [0 0 0]]\n"
          ]
        }
      ]
    },
    {
      "cell_type": "markdown",
      "source": [
        "#### **| 형태 간접 변경**\n",
        "\n",
        "* `np.swapaxes(a, axis1, axis2 )` : 배열 `a`의 두 축 (`axis1`, `axis2`)를 교환합니다.\n",
        "* `.T` : 배열의 차원을 전치(transpose) 합니다.\n"
      ],
      "metadata": {
        "id": "JskG776k15sC"
      }
    },
    {
      "cell_type": "markdown",
      "source": [
        "\n",
        "`swapaxes`로 데이터의 성질을 그대로 보존하면서 형태를 변경할 수 있습니다. \n",
        "\n",
        "```\n",
        "a = np.arange(24).reshape(2,3,4)\n",
        "print(a, a.shape)\n",
        "\n",
        "a=np.swapaxes(a, 0,1)\n",
        "print(a, a.shape)\n",
        "```"
      ],
      "metadata": {
        "id": "SiDTaaoh3nu9"
      }
    },
    {
      "cell_type": "code",
      "source": [
        "a = np.arange(24).reshape(2,3,4)\n",
        "print(a, a.shape)"
      ],
      "metadata": {
        "id": "29oYbC1S15sI",
        "colab": {
          "base_uri": "https://localhost:8080/"
        },
        "outputId": "2fea31c6-01af-4c4a-98fe-fd1c6327c49d"
      },
      "execution_count": null,
      "outputs": [
        {
          "output_type": "stream",
          "name": "stdout",
          "text": [
            "[[[ 0  1  2  3]\n",
            "  [ 4  5  6  7]\n",
            "  [ 8  9 10 11]]\n",
            "\n",
            " [[12 13 14 15]\n",
            "  [16 17 18 19]\n",
            "  [20 21 22 23]]] (2, 3, 4)\n"
          ]
        }
      ]
    },
    {
      "cell_type": "code",
      "source": [
        "a.T , a.T.shape # 3차원 transpose의 경우 0축과 2축이 swap"
      ],
      "metadata": {
        "colab": {
          "base_uri": "https://localhost:8080/"
        },
        "id": "VrPJMyO0JyER",
        "outputId": "25193e69-4c23-4e2d-de48-d78eff621348"
      },
      "execution_count": 7,
      "outputs": [
        {
          "output_type": "execute_result",
          "data": {
            "text/plain": [
              "(array([[[ 0, 12],\n",
              "         [ 4, 16],\n",
              "         [ 8, 20]],\n",
              " \n",
              "        [[ 1, 13],\n",
              "         [ 5, 17],\n",
              "         [ 9, 21]],\n",
              " \n",
              "        [[ 2, 14],\n",
              "         [ 6, 18],\n",
              "         [10, 22]],\n",
              " \n",
              "        [[ 3, 15],\n",
              "         [ 7, 19],\n",
              "         [11, 23]]]), (4, 3, 2))"
            ]
          },
          "metadata": {},
          "execution_count": 7
        }
      ]
    },
    {
      "cell_type": "code",
      "source": [
        "print(np.swapaxes(a, 0, 1))  "
      ],
      "metadata": {
        "colab": {
          "base_uri": "https://localhost:8080/"
        },
        "id": "E119q0B7T45h",
        "outputId": "65c40b7f-669a-4045-ebf1-e2c1c1a29261"
      },
      "execution_count": null,
      "outputs": [
        {
          "output_type": "stream",
          "name": "stdout",
          "text": [
            "[[[ 0  1  2  3]\n",
            "  [12 13 14 15]]\n",
            "\n",
            " [[ 4  5  6  7]\n",
            "  [16 17 18 19]]\n",
            "\n",
            " [[ 8  9 10 11]\n",
            "  [20 21 22 23]]]\n"
          ]
        }
      ]
    },
    {
      "cell_type": "code",
      "source": [
        "print(np.swapaxes(a, 0,2))"
      ],
      "metadata": {
        "colab": {
          "base_uri": "https://localhost:8080/"
        },
        "id": "sMSn0jEeT5Bl",
        "outputId": "efc7b1d2-cda7-48d2-b22b-d7081b0dd458"
      },
      "execution_count": null,
      "outputs": [
        {
          "output_type": "stream",
          "name": "stdout",
          "text": [
            "[[[ 0 12]\n",
            "  [ 4 16]\n",
            "  [ 8 20]]\n",
            "\n",
            " [[ 1 13]\n",
            "  [ 5 17]\n",
            "  [ 9 21]]\n",
            "\n",
            " [[ 2 14]\n",
            "  [ 6 18]\n",
            "  [10 22]]\n",
            "\n",
            " [[ 3 15]\n",
            "  [ 7 19]\n",
            "  [11 23]]]\n"
          ]
        }
      ]
    },
    {
      "cell_type": "code",
      "source": [
        "print(np.swapaxes(a, 1, 2))"
      ],
      "metadata": {
        "colab": {
          "base_uri": "https://localhost:8080/"
        },
        "id": "ooINJwZiT5JP",
        "outputId": "508388f7-36ad-4aa3-a741-8e9f780103d0"
      },
      "execution_count": null,
      "outputs": [
        {
          "output_type": "stream",
          "name": "stdout",
          "text": [
            "[[[ 0  4  8]\n",
            "  [ 1  5  9]\n",
            "  [ 2  6 10]\n",
            "  [ 3  7 11]]\n",
            "\n",
            " [[12 16 20]\n",
            "  [13 17 21]\n",
            "  [14 18 22]\n",
            "  [15 19 23]]]\n"
          ]
        }
      ]
    },
    {
      "cell_type": "markdown",
      "source": [
        "여기서 데이터의 성질을 보존한다는 것은 무엇을 뜻할까요? \n",
        "\n",
        "안과에 방문한 어린이들의 나이와 시력을 정리한 데이터가 아래와 같이 저장되어 있다고 합시다.\n",
        "\n",
        "\n",
        "<p align='center'>\n",
        "<img src=https://github.com/yebiny/SkillTreePython-DataAnalysis/blob/main/imgs/ch0104-01.png?raw=true width=200>\n",
        "</p>\n",
        "\n",
        "\n",
        "```\n",
        "ds = np.array([[10, 0.5],\n",
        "               [8, 0.8],\n",
        "               [12, 0.4],\n",
        "               [7, 0.7]])\n",
        "print(ds, ds.shape)\n",
        "```\n",
        "\n",
        "\n"
      ],
      "metadata": {
        "id": "MTxzssAI30Qc"
      }
    },
    {
      "cell_type": "code",
      "source": [
        "ds = np.array([[10, 0.5],[8, 0.8],[12, 0.4],[7, 0.7]])\n",
        "print(ds, ds.shape)"
      ],
      "metadata": {
        "id": "DBu3qV0f6qNy",
        "colab": {
          "base_uri": "https://localhost:8080/"
        },
        "outputId": "b6172b70-0013-4fc0-c61a-57b7cfad1110"
      },
      "execution_count": 9,
      "outputs": [
        {
          "output_type": "stream",
          "name": "stdout",
          "text": [
            "[[10.   0.5]\n",
            " [ 8.   0.8]\n",
            " [12.   0.4]\n",
            " [ 7.   0.7]] (4, 2)\n"
          ]
        }
      ]
    },
    {
      "cell_type": "markdown",
      "source": [
        "\n",
        "이 데이터의 형태를 데이터 성질을 유지하면서 변환하려면 아래와 같은 결과가 되어야 하겠지요\n",
        "\n",
        "<p align='center'>\n",
        "<img src=https://github.com/yebiny/SkillTreePython-DataAnalysis/blob/main/imgs/ch0104-02.png?raw=true width=320>\n",
        "</p>\n",
        "\n",
        "\n",
        "이를 `swapaxes`와 `reshape`로 번형하고 결과를 비교해 보겠습니다.\n",
        "\n",
        "```\n",
        "ds1 = np.reshape(ds, (2,4))\n",
        "print(ds1, ds1.shape)\n",
        "\n",
        "ds2 = np.swapaxes(ds, 0,1)\n",
        "print(ds2, ds2.shape)\n",
        "```"
      ],
      "metadata": {
        "id": "A4lHxurW6qq7"
      }
    },
    {
      "cell_type": "code",
      "source": [
        "ds_reshape = np.reshape(ds, (2,4))\n",
        "ds_reshape\n"
      ],
      "metadata": {
        "colab": {
          "base_uri": "https://localhost:8080/"
        },
        "id": "bINAG8LsKq6t",
        "outputId": "7cc2fe00-6102-42c8-afe9-f4e53ced88fd"
      },
      "execution_count": 10,
      "outputs": [
        {
          "output_type": "execute_result",
          "data": {
            "text/plain": [
              "array([[10. ,  0.5,  8. ,  0.8],\n",
              "       [12. ,  0.4,  7. ,  0.7]])"
            ]
          },
          "metadata": {},
          "execution_count": 10
        }
      ]
    },
    {
      "cell_type": "code",
      "source": [
        "ds_reshape = ds.reshape(2,4)  # original array doesn't change    \n",
        "print(ds_reshape, ds_reshape.shape)\n",
        "\n",
        "ds_swapaxes = np.swapaxes(ds, 0, 1) # original array doesn't change\n",
        "print(ds_swapaxes)\n",
        "\n",
        "ds_transpose = ds.T # original array doesn't change \n",
        "print(ds_transpose)"
      ],
      "metadata": {
        "id": "Yl0CbgAa30Qd",
        "colab": {
          "base_uri": "https://localhost:8080/"
        },
        "outputId": "9440b5c2-1c0a-475d-a749-bb95a5cc89c1"
      },
      "execution_count": null,
      "outputs": [
        {
          "output_type": "stream",
          "name": "stdout",
          "text": [
            "[[10.   0.5  8.   0.8]\n",
            " [12.   0.4  7.   0.7]] (2, 4)\n",
            "[[10.   8.  12.   7. ]\n",
            " [ 0.5  0.8  0.4  0.7]]\n",
            "[[10.   8.  12.   7. ]\n",
            " [ 0.5  0.8  0.4  0.7]]\n"
          ]
        }
      ]
    },
    {
      "cell_type": "markdown",
      "source": [
        "`reshape`를 사용한 결과는 데이터의 성질이 엉망이 되어버린 반면, `swapaxes`를 사용한 결과는 우리가 원하는대로 데이터의 성질이 잘 보존된 것을 볼 수 있습니다. \n",
        "\n",
        "2차원 배열에서는 전치(transpose)도 같은 결과가 나옵니다. \n",
        "\n",
        "```\n",
        "a.T, a.T.shape\n",
        "```"
      ],
      "metadata": {
        "id": "DT2Z0P377EHZ"
      }
    },
    {
      "cell_type": "code",
      "source": [
        "print(ds.T, ds.T.shape)\n",
        "print(ds)"
      ],
      "metadata": {
        "id": "_qw-3gFY4pHP",
        "colab": {
          "base_uri": "https://localhost:8080/"
        },
        "outputId": "94604316-e37f-44e5-e3e8-5a1e863ec95d"
      },
      "execution_count": null,
      "outputs": [
        {
          "output_type": "stream",
          "name": "stdout",
          "text": [
            "[[10.   8.  12.   7. ]\n",
            " [ 0.5  0.8  0.4  0.7]] (2, 4)\n",
            "[[10.   0.5]\n",
            " [ 8.   0.8]\n",
            " [12.   0.4]\n",
            " [ 7.   0.7]]\n"
          ]
        }
      ]
    },
    {
      "cell_type": "markdown",
      "source": [
        "이제 데이터의 성질을 보존한다는 것이 무엇인지 감이 오셨나요? 우리가 다루게 될 데이터는 각 차원에 따라 데이터의 값이 유의미하게 담겨져 있기 때문에 데이터 형태 변환 시 주의해서 때에 따라 적절한 함수를 사용해야 합니다. "
      ],
      "metadata": {
        "id": "7mr1oVEv789t"
      }
    },
    {
      "cell_type": "markdown",
      "source": [
        "* `np.expand_dims(a, axis)` : 축 axis에 차원을 추가합니다.\n",
        "\n",
        "데이터 분석에서 유용히 쓰이는 함수가 바로 `np.expand_dim` 입니다. 개수와 값이 똑같은 데이터라도 1차원, 2차원, 3차원까지 변경할 수 있습니다. \n",
        "\n",
        "```\n",
        "a = np.arange(5)\n",
        "print(a, a.shape)\n",
        "a = np.expand_dims(a,1) \n",
        "print(a, a.shape)\n",
        "a = np.expand_dims(a,2)\n",
        "print(a, a.shape)\n",
        "```"
      ],
      "metadata": {
        "id": "yoXcKhYAK6Yx"
      }
    },
    {
      "cell_type": "code",
      "source": [
        "a = np.arange(5)\n",
        "print(a)\n",
        "print(np.expand_dims(a,1))\n",
        "# print(np.expand_dims(a,2)) # AxisError: axis 2 is out of bounds for array of dimension 2\n",
        "print(a)"
      ],
      "metadata": {
        "colab": {
          "base_uri": "https://localhost:8080/"
        },
        "id": "al_5vC0VLpwC",
        "outputId": "c3b8d786-89c6-47fa-c72c-30875f655f09"
      },
      "execution_count": 16,
      "outputs": [
        {
          "output_type": "stream",
          "name": "stdout",
          "text": [
            "[0 1 2 3 4]\n",
            "[[0]\n",
            " [1]\n",
            " [2]\n",
            " [3]\n",
            " [4]]\n",
            "[0 1 2 3 4]\n"
          ]
        }
      ]
    },
    {
      "cell_type": "code",
      "source": [
        "a = np.arange(5) # 1D\n",
        "print(a, a.shape)\n",
        "a = np.expand_dims(a, 1) # 2D\n",
        "print(a, a.shape)\n",
        "a = np.expand_dims(a, 2) # # 3D\n",
        "print(a, a.shape)\n"
      ],
      "metadata": {
        "id": "fw50dt30LYCP",
        "colab": {
          "base_uri": "https://localhost:8080/"
        },
        "outputId": "48839eef-6448-48fc-d459-a67557fd7b93"
      },
      "execution_count": null,
      "outputs": [
        {
          "output_type": "stream",
          "name": "stdout",
          "text": [
            "[0 1 2 3 4] (5,)\n",
            "[[0]\n",
            " [1]\n",
            " [2]\n",
            " [3]\n",
            " [4]] (5, 1)\n",
            "[[[0]]\n",
            "\n",
            " [[1]]\n",
            "\n",
            " [[2]]\n",
            "\n",
            " [[3]]\n",
            "\n",
            " [[4]]] (5, 1, 1)\n"
          ]
        }
      ]
    },
    {
      "cell_type": "markdown",
      "metadata": {
        "id": "kPCJJesPK2kU"
      },
      "source": [
        "---\n",
        "### **(2) 배열 쌓기**\n",
        "---\n",
        "\n",
        "| 함수 | 설명 |\n",
        "|--|--|\n",
        "| `np.append(a1,a2)` | `a1`에 `a2`를 결합|\n",
        "| `np.concatenate([a1, a2, a3 ...])` | 배열 리스트를 모두 결합|\n",
        "| `np.stack([a1, a2, a3 ...])` | 배열을 쌓습니다. |\n",
        "| `np.hstack([a1, a2, a3 ...])` | 배열을 수평으로 쌓습니다. |\n",
        "| `np.vstack([a1, a2, a3 ...])` | 배열을 수직으로 쌓습니다. |\n",
        "| `np.dtack([a1, a2, a3 ...])` | 배열을 새로운 방향으로 쌓습니다. |\n",
        "\n",
        "배열과 배열을 결합하는 함수는 여러개가 있습니다. 사실 어떻게 사용하냐에 각 함수가 똑같은 결과를 도출할 수도 있습니다. 이번 수업에서는 `concatenate`를 사용해 배열을 쌓아보도록 하겠습니다.\n",
        "\n",
        "아래 그림을 보고 `concatenate` 코드를 작성해 봅시다.\n",
        "\n",
        "<p align='center'>\n",
        "<img src=https://github.com/yebiny/SkillTreePython-DataAnalysis/blob/main/imgs/ch0104-03.png?raw=true width=680>\n",
        "</p>\n",
        "\n",
        "```\n",
        "a = np.arange(1, 7).reshape(2,3)\n",
        "print(a,a.shape)\n",
        "a1 = np.concatenate([a,a], axis=0)\n",
        "print(a1,a1.shape)\n",
        "a2 = np.concatenate([a,a], axis=1)\n",
        "print(a2,a2.shape)\n",
        "```"
      ]
    },
    {
      "cell_type": "code",
      "source": [
        "a = np.arange(1,7).reshape(2,3)   # (2,3)\n",
        "print(a, a.shape)\n",
        "a1 = np.concatenate([a , a], axis = 0 ) # 밑으로 붙는다 (4,3)\n",
        "print(a1, a1.shape)\n",
        "a2 = np.concatenate([a , a], axis = 1)  # 옆으로 붙는다 (2,6)\n",
        "print(a2, a2.shape)"
      ],
      "metadata": {
        "id": "jhM_gLNyK2kU",
        "colab": {
          "base_uri": "https://localhost:8080/"
        },
        "outputId": "a72a6d05-2fa1-4f68-92af-176947180f7c"
      },
      "execution_count": null,
      "outputs": [
        {
          "output_type": "stream",
          "name": "stdout",
          "text": [
            "[[1 2 3]\n",
            " [4 5 6]] (2, 3)\n",
            "[[1 2 3]\n",
            " [4 5 6]\n",
            " [1 2 3]\n",
            " [4 5 6]] (4, 3)\n",
            "[[1 2 3 1 2 3]\n",
            " [4 5 6 4 5 6]] (2, 6)\n"
          ]
        }
      ]
    },
    {
      "cell_type": "markdown",
      "source": [
        "#### **| 연습문제**\n",
        "\n",
        "연습을 위해 아래와 같이 3차원 배열을 생성하세요 \n",
        "\n",
        "```\n",
        "a = np.arange(12).reshape(2,2,3)\n",
        "b = np.arange(100,106).reshape(1,2,3)\n",
        "print(a, a.shape)\n",
        "print(b, b.shape)\n",
        "```"
      ],
      "metadata": {
        "id": "hzWZ5G7mo2PR"
      }
    },
    {
      "cell_type": "code",
      "source": [
        "a  = np.arange(12).reshape(2,2,3)\n",
        "b  = np.arange(100,106).reshape(1,2,3)\n",
        "print(a, a.shape)\n",
        "print(b, b.shape)"
      ],
      "metadata": {
        "colab": {
          "base_uri": "https://localhost:8080/"
        },
        "id": "vFSxn-4lM_dB",
        "outputId": "2d64be57-ea3f-480e-b16c-376ecf335520"
      },
      "execution_count": 19,
      "outputs": [
        {
          "output_type": "stream",
          "name": "stdout",
          "text": [
            "[[[ 0  1  2]\n",
            "  [ 3  4  5]]\n",
            "\n",
            " [[ 6  7  8]\n",
            "  [ 9 10 11]]] (2, 2, 3)\n",
            "[[[100 101 102]\n",
            "  [103 104 105]]] (1, 2, 3)\n"
          ]
        }
      ]
    },
    {
      "cell_type": "markdown",
      "source": [
        "**연습 01**\n",
        "\n",
        "`concatenate`를 이용해 아래와 같은 배열을 출력하세요.\n",
        "\n",
        "```\n",
        "array([[[ 0,  1,  2,  0,  1,  2],\n",
        "        [ 3,  4,  5,  3,  4,  5]],\n",
        "\n",
        "       [[ 6,  7,  8,  6,  7,  8],\n",
        "        [ 9, 10, 11,  9, 10, 11]]])\n",
        "```"
      ],
      "metadata": {
        "id": "ey_R7ZgXnHdp"
      }
    },
    {
      "cell_type": "code",
      "source": [
        "print(a, a.shape)\n",
        "print(np.concatenate((a,a), axis = 2), np.concatenate((a,a), axis = 2).shape )"
      ],
      "metadata": {
        "colab": {
          "base_uri": "https://localhost:8080/"
        },
        "id": "OUWQ-JpvNWwb",
        "outputId": "7609b2b4-c45e-4dc5-fe83-fbdad5c7db53"
      },
      "execution_count": 41,
      "outputs": [
        {
          "output_type": "stream",
          "name": "stdout",
          "text": [
            "[[[ 0  1  2]\n",
            "  [ 3  4  5]]\n",
            "\n",
            " [[ 6  7  8]\n",
            "  [ 9 10 11]]] (2, 2, 3)\n",
            "[[[ 0  1  2  0  1  2]\n",
            "  [ 3  4  5  3  4  5]]\n",
            "\n",
            " [[ 6  7  8  6  7  8]\n",
            "  [ 9 10 11  9 10 11]]] (2, 2, 6)\n"
          ]
        }
      ]
    },
    {
      "cell_type": "markdown",
      "source": [
        "**연습 02**\n",
        "\n",
        "`concatenate`를 이용해 아래와 같은 배열을 출력하세요.\n",
        "\n",
        "```\n",
        "array([[[100, 101, 102],\n",
        "        [103, 104, 105],\n",
        "        [100, 101, 102],\n",
        "        [103, 104, 105]]])\n",
        "```"
      ],
      "metadata": {
        "id": "bAPBtnKmEhVb"
      }
    },
    {
      "cell_type": "code",
      "source": [
        "print(b, b.shape)\n",
        "print(np.concatenate((b,b), axis = 1), np.concatenate((b,b), axis = 1).shape)"
      ],
      "metadata": {
        "colab": {
          "base_uri": "https://localhost:8080/"
        },
        "id": "cbaR1hgHNntj",
        "outputId": "98a3cff0-24c0-42b0-ad16-89a76f9379fd"
      },
      "execution_count": 40,
      "outputs": [
        {
          "output_type": "stream",
          "name": "stdout",
          "text": [
            "[[[100 101 102]\n",
            "  [103 104 105]]] (1, 2, 3)\n",
            "[[[100 101 102]\n",
            "  [103 104 105]\n",
            "  [100 101 102]\n",
            "  [103 104 105]]] (1, 4, 3)\n"
          ]
        }
      ]
    },
    {
      "cell_type": "markdown",
      "source": [
        "**연습 03**\n",
        "\n",
        "`concatenate`를 이용해 아래와 같은 배열을 출력하세요.\n",
        "\n",
        "```\n",
        "array([[[100, 101, 102],\n",
        "        [103, 104, 105]],\n",
        "\n",
        "       [[  0,   1,   2],\n",
        "        [  3,   4,   5]],\n",
        "\n",
        "       [[  6,   7,   8],\n",
        "        [  9,  10,  11]],\n",
        "\n",
        "       [[100, 101, 102],\n",
        "        [103, 104, 105]]])\n",
        "```"
      ],
      "metadata": {
        "id": "ibj-2c6dE2XM"
      }
    },
    {
      "cell_type": "code",
      "source": [
        "print(a, a.shape)\n",
        "print(b, b.shape)\n",
        "print('==================')\n",
        "print(np.concatenate([b, a, b], axis = 0 ), np.concatenate([b, a, b], axis = 0 ).shape)"
      ],
      "metadata": {
        "id": "PsVk-FDYBuEK",
        "colab": {
          "base_uri": "https://localhost:8080/"
        },
        "outputId": "35fcbb41-e14f-41db-a353-4084e4dd93a0"
      },
      "execution_count": 39,
      "outputs": [
        {
          "output_type": "stream",
          "name": "stdout",
          "text": [
            "[[[ 0  1  2]\n",
            "  [ 3  4  5]]\n",
            "\n",
            " [[ 6  7  8]\n",
            "  [ 9 10 11]]] (2, 2, 3)\n",
            "[[[100 101 102]\n",
            "  [103 104 105]]] (1, 2, 3)\n",
            "==================\n",
            "[[[100 101 102]\n",
            "  [103 104 105]]\n",
            "\n",
            " [[  0   1   2]\n",
            "  [  3   4   5]]\n",
            "\n",
            " [[  6   7   8]\n",
            "  [  9  10  11]]\n",
            "\n",
            " [[100 101 102]\n",
            "  [103 104 105]]] (4, 2, 3)\n"
          ]
        }
      ]
    },
    {
      "cell_type": "markdown",
      "metadata": {
        "id": "aYhpkL3KLGkS"
      },
      "source": [
        "---\n",
        "### **(3) 배열 분할**\n",
        "---\n",
        "\n",
        "분할은 `split`함수를 이용합니다. `split`함수의 `axis`를 이용해서 어느 축으로 분할 할지 정의할 수 있습니다. 한쪽 방향으로만 분할하는 `vsplit`과 `hsplit`이 존재하며 상황에 따라 적절히 사용할 수 있습니다.\n",
        "\n",
        "* `np.split(a, [n1, n2, ...], axis=axis)` : `axis` 방향으로 배열 `a`를 `n1`.. 기점에서 분할 합니다 .\n",
        "\n",
        "* `np.vsplit(a, [n1, n2, ...])`: 수직 방향으로 배열 `a`를 `n1`.. 기점에서 분할 합니다 .\n",
        "\n",
        "* `np.split(a, [n1, n2, ...])` : 수평 방향으로 배열 `a`를 `n1`.. 기점에서 분할 합니다 .\n",
        "\n",
        "아래 그림을 보고 `split` 코드를 작성해 봅시다.\n",
        "\n",
        "<p align='center'>\n",
        "<img src=https://github.com/yebiny/SkillTreePython-DataAnalysis/blob/main/imgs/ch0104-04.png?raw=true width=380>\n",
        "</p>\n",
        "\n"
      ]
    },
    {
      "cell_type": "markdown",
      "source": [
        "* 배열 `a`를 생성합니다.\n",
        "\n",
        "```\n",
        "a =np.arange(1,13).reshape(4,3)\n",
        "a, a.shape\n",
        "```"
      ],
      "metadata": {
        "id": "0ERT5QnFJAY3"
      }
    },
    {
      "cell_type": "code",
      "source": [
        "a = np.arange(1,13).reshape(4,3)\n",
        "a, a.shape"
      ],
      "metadata": {
        "id": "LhaIghGQLGkT",
        "colab": {
          "base_uri": "https://localhost:8080/"
        },
        "outputId": "a9929285-fa95-44d9-8f14-f9d9446ef49c"
      },
      "execution_count": null,
      "outputs": [
        {
          "output_type": "execute_result",
          "data": {
            "text/plain": [
              "(array([[ 1,  2,  3],\n",
              "        [ 4,  5,  6],\n",
              "        [ 7,  8,  9],\n",
              "        [10, 11, 12]]), (4, 3))"
            ]
          },
          "metadata": {},
          "execution_count": 41
        }
      ]
    },
    {
      "cell_type": "markdown",
      "source": [
        "* 수직방향으로 분할해 봅니다.\n",
        "\n",
        "```\n",
        "a1, a2 = np.split(a, [1], axis=0)\n",
        "print(a1)\n",
        "print(a2)\n",
        "a1, a2 = np.vsplit(a, [1])\n",
        "print(a1)\n",
        "print(a2)\n",
        "```"
      ],
      "metadata": {
        "id": "3Up5CYbXGXMP"
      }
    },
    {
      "cell_type": "code",
      "source": [
        "a1, a2 = np.split(a, [1], axis = 0)\n",
        "print(a1)\n",
        "print(a2)"
      ],
      "metadata": {
        "id": "eYN6dZWJGBsb",
        "colab": {
          "base_uri": "https://localhost:8080/"
        },
        "outputId": "d84ae66f-65b3-4544-e57d-ab55aa61af2b"
      },
      "execution_count": null,
      "outputs": [
        {
          "output_type": "stream",
          "name": "stdout",
          "text": [
            "[[1 2 3]]\n",
            "[[ 4  5  6]\n",
            " [ 7  8  9]\n",
            " [10 11 12]]\n"
          ]
        }
      ]
    },
    {
      "cell_type": "code",
      "source": [
        "a1, a2 = np.vsplit(a, [1])\n",
        "print(a1)\n",
        "print(a2)"
      ],
      "metadata": {
        "colab": {
          "base_uri": "https://localhost:8080/"
        },
        "id": "TeRjQWkQhkoR",
        "outputId": "a4c94a0c-7701-4230-9bda-5d44681fa36e"
      },
      "execution_count": null,
      "outputs": [
        {
          "output_type": "stream",
          "name": "stdout",
          "text": [
            "[[1 2 3]]\n",
            "[[ 4  5  6]\n",
            " [ 7  8  9]\n",
            " [10 11 12]]\n"
          ]
        }
      ]
    },
    {
      "cell_type": "markdown",
      "source": [
        "* 수평 방향으로 분할해 봅니다.\n",
        "\n",
        "```\n",
        "a1, a2 = np.split(a, [2], axis=1)\n",
        "print(a1)\n",
        "print(a2)\n",
        "a1, a2 = np.hsplit(a, [2])\n",
        "print(a1)\n",
        "print(a2)\n",
        "```"
      ],
      "metadata": {
        "id": "GrsFQtvuJI7i"
      }
    },
    {
      "cell_type": "code",
      "source": [
        "a1, a2 = np.split(a, [2], axis = 1)\n",
        "print(a1)\n",
        "print(a2)"
      ],
      "metadata": {
        "colab": {
          "base_uri": "https://localhost:8080/"
        },
        "id": "aRkWzfoxhVk2",
        "outputId": "ca87f9ce-0075-40de-eeb4-0c7576d95526"
      },
      "execution_count": null,
      "outputs": [
        {
          "output_type": "stream",
          "name": "stdout",
          "text": [
            "[[ 1  2]\n",
            " [ 4  5]\n",
            " [ 7  8]\n",
            " [10 11]]\n",
            "[[ 3]\n",
            " [ 6]\n",
            " [ 9]\n",
            " [12]]\n"
          ]
        }
      ]
    },
    {
      "cell_type": "code",
      "source": [
        "a1, a2 = np.hsplit(a, [2])\n",
        "print(a1)\n",
        "print(a2)"
      ],
      "metadata": {
        "id": "OsMberzGGJUy",
        "colab": {
          "base_uri": "https://localhost:8080/"
        },
        "outputId": "f882c74b-1b22-48da-e3dc-bc8855bc6cff"
      },
      "execution_count": null,
      "outputs": [
        {
          "output_type": "stream",
          "name": "stdout",
          "text": [
            "[[ 1  2]\n",
            " [ 4  5]\n",
            " [ 7  8]\n",
            " [10 11]]\n",
            "[[ 3]\n",
            " [ 6]\n",
            " [ 9]\n",
            " [12]]\n"
          ]
        }
      ]
    },
    {
      "cell_type": "markdown",
      "source": [
        "## 문제풀이\n",
        "---\n"
      ],
      "metadata": {
        "id": "1Zo86GIRD8iE"
      }
    },
    {
      "cell_type": "markdown",
      "metadata": {
        "id": "d9o7kBXoNlE3"
      },
      "source": [
        "**예제 01**\n",
        "\n",
        "모든 요소가 1이고 `(3,3,2)`  `shape`를 가지는 3차원 배열을 생성하고 `a01`로 바인딩하세요. 이 배열과 배열의 형태를 출력하세요.\n",
        "\n"
      ]
    },
    {
      "cell_type": "code",
      "metadata": {
        "id": "Gwir0bafNlE9",
        "colab": {
          "base_uri": "https://localhost:8080/"
        },
        "outputId": "1f6752ce-b079-42af-b053-40b2e0003247"
      },
      "source": [
        "a01 = np.ones((3,3,2))\n",
        "print(a01, a01.shape)"
      ],
      "execution_count": 43,
      "outputs": [
        {
          "output_type": "stream",
          "name": "stdout",
          "text": [
            "[[[1. 1.]\n",
            "  [1. 1.]\n",
            "  [1. 1.]]\n",
            "\n",
            " [[1. 1.]\n",
            "  [1. 1.]\n",
            "  [1. 1.]]\n",
            "\n",
            " [[1. 1.]\n",
            "  [1. 1.]\n",
            "  [1. 1.]]] (3, 3, 2)\n"
          ]
        }
      ]
    },
    {
      "cell_type": "markdown",
      "source": [
        "**예제 02**\n",
        "\n",
        "`a01`을  `shape`가 `(3,6)`인 2차원 배열로 바꾸고 배열과 배열의  `shape`를 출력하세요."
      ],
      "metadata": {
        "id": "SACkvDRySMNc"
      }
    },
    {
      "cell_type": "code",
      "source": [
        "a01 = a01.reshape((3,6))\n",
        "print(a01, a01.shape)"
      ],
      "metadata": {
        "colab": {
          "base_uri": "https://localhost:8080/"
        },
        "id": "2yXZ9BGdlRyS",
        "outputId": "008178fc-ecf4-4281-f23b-a343b837a95e"
      },
      "execution_count": 44,
      "outputs": [
        {
          "output_type": "stream",
          "name": "stdout",
          "text": [
            "[[1. 1. 1. 1. 1. 1.]\n",
            " [1. 1. 1. 1. 1. 1.]\n",
            " [1. 1. 1. 1. 1. 1.]] (3, 6)\n"
          ]
        }
      ]
    },
    {
      "cell_type": "markdown",
      "source": [
        "**예제 03**\n",
        "\n",
        "`a01`을 transpose 하고 배열과 배열의  `shape`를 출력하세요."
      ],
      "metadata": {
        "id": "cTtCSNxFmxsL"
      }
    },
    {
      "cell_type": "code",
      "source": [
        "print(a01.T, a01.T.shape)"
      ],
      "metadata": {
        "colab": {
          "base_uri": "https://localhost:8080/"
        },
        "id": "5pwjy0tKlals",
        "outputId": "1e5d89f3-50e9-492e-db24-064f130e6e13"
      },
      "execution_count": 45,
      "outputs": [
        {
          "output_type": "stream",
          "name": "stdout",
          "text": [
            "[[1. 1. 1.]\n",
            " [1. 1. 1.]\n",
            " [1. 1. 1.]\n",
            " [1. 1. 1.]\n",
            " [1. 1. 1.]\n",
            " [1. 1. 1.]] (6, 3)\n"
          ]
        }
      ]
    },
    {
      "cell_type": "code",
      "source": [
        "a01 = np.swapaxes(a01, 0, 1)\n",
        "print(a01, a01.shape)"
      ],
      "metadata": {
        "colab": {
          "base_uri": "https://localhost:8080/"
        },
        "id": "1u5kCxvilnt6",
        "outputId": "28d969ab-772c-471e-f612-0ee7143e5ca5"
      },
      "execution_count": 47,
      "outputs": [
        {
          "output_type": "stream",
          "name": "stdout",
          "text": [
            "[[1. 1. 1.]\n",
            " [1. 1. 1.]\n",
            " [1. 1. 1.]\n",
            " [1. 1. 1.]\n",
            " [1. 1. 1.]\n",
            " [1. 1. 1.]] (6, 3)\n"
          ]
        }
      ]
    },
    {
      "cell_type": "markdown",
      "source": [
        "**예제 04**\n",
        "\n",
        "`a01`의 `shape`를 늘려 `(3,8)`인 2차원 배열로 변경하고 배열과 배열의  `shape`를 출력하세요. 어떤 일이 일어나는지 간단히 설명하세요."
      ],
      "metadata": {
        "id": "nKLke2__XUlc"
      }
    },
    {
      "cell_type": "code",
      "source": [
        "a01.resize(3,8) # ValueError: cannot resize this array: it does not own its data\n",
        "print(a01, a01.shape)"
      ],
      "metadata": {
        "colab": {
          "base_uri": "https://localhost:8080/",
          "height": 184
        },
        "id": "WWfHwrW0uaYT",
        "outputId": "af1108b1-8803-4889-e0f0-1243e2978234"
      },
      "execution_count": null,
      "outputs": [
        {
          "output_type": "error",
          "ename": "ValueError",
          "evalue": "ignored",
          "traceback": [
            "\u001b[0;31m---------------------------------------------------------------------------\u001b[0m",
            "\u001b[0;31mValueError\u001b[0m                                Traceback (most recent call last)",
            "\u001b[0;32m<ipython-input-60-eb907844b817>\u001b[0m in \u001b[0;36m<module>\u001b[0;34m()\u001b[0m\n\u001b[0;32m----> 1\u001b[0;31m \u001b[0ma01\u001b[0m\u001b[0;34m.\u001b[0m\u001b[0mresize\u001b[0m\u001b[0;34m(\u001b[0m\u001b[0;36m3\u001b[0m\u001b[0;34m,\u001b[0m\u001b[0;36m8\u001b[0m\u001b[0;34m)\u001b[0m\u001b[0;34m\u001b[0m\u001b[0;34m\u001b[0m\u001b[0m\n\u001b[0m\u001b[1;32m      2\u001b[0m \u001b[0mprint\u001b[0m\u001b[0;34m(\u001b[0m\u001b[0ma01\u001b[0m\u001b[0;34m,\u001b[0m \u001b[0ma01\u001b[0m\u001b[0;34m.\u001b[0m\u001b[0mshape\u001b[0m\u001b[0;34m)\u001b[0m\u001b[0;34m\u001b[0m\u001b[0;34m\u001b[0m\u001b[0m\n",
            "\u001b[0;31mValueError\u001b[0m: cannot resize this array: it does not own its data"
          ]
        }
      ]
    },
    {
      "cell_type": "code",
      "source": [
        "# 처음 생성된 original array에 대해서는 resize가 된다. \n",
        "test = np.ones((3,6))  \n",
        "test.resize(3,8)\n",
        "test"
      ],
      "metadata": {
        "colab": {
          "base_uri": "https://localhost:8080/"
        },
        "id": "5eKpr2YlvVSP",
        "outputId": "e6d0520f-2b83-4e03-e505-73f00660d2e6"
      },
      "execution_count": null,
      "outputs": [
        {
          "output_type": "execute_result",
          "data": {
            "text/plain": [
              "array([[1., 1., 1., 1., 1., 1., 1., 1.],\n",
              "       [1., 1., 1., 1., 1., 1., 1., 1.],\n",
              "       [1., 1., 0., 0., 0., 0., 0., 0.]])"
            ]
          },
          "metadata": {},
          "execution_count": 65
        }
      ]
    },
    {
      "cell_type": "code",
      "source": [
        "test = np.ones((3,6))  \n",
        "test = np.swapaxes(test, 0, 1)\n",
        "test.resize(3,8)\n",
        "test\n",
        "# 중간에 swapaxes나 reshape 등의 함수를 거쳤을경우 resize가 되지 않는다.  "
      ],
      "metadata": {
        "colab": {
          "base_uri": "https://localhost:8080/",
          "height": 229
        },
        "id": "mokWYa2tmsCh",
        "outputId": "c7a39504-f037-44bb-ecf9-87e8be94e9a6"
      },
      "execution_count": 50,
      "outputs": [
        {
          "output_type": "error",
          "ename": "ValueError",
          "evalue": "ignored",
          "traceback": [
            "\u001b[0;31m---------------------------------------------------------------------------\u001b[0m",
            "\u001b[0;31mValueError\u001b[0m                                Traceback (most recent call last)",
            "\u001b[0;32m<ipython-input-50-3ada81ec32c4>\u001b[0m in \u001b[0;36m<module>\u001b[0;34m()\u001b[0m\n\u001b[1;32m      1\u001b[0m \u001b[0mtest\u001b[0m \u001b[0;34m=\u001b[0m \u001b[0mnp\u001b[0m\u001b[0;34m.\u001b[0m\u001b[0mones\u001b[0m\u001b[0;34m(\u001b[0m\u001b[0;34m(\u001b[0m\u001b[0;36m3\u001b[0m\u001b[0;34m,\u001b[0m\u001b[0;36m6\u001b[0m\u001b[0;34m)\u001b[0m\u001b[0;34m)\u001b[0m\u001b[0;34m\u001b[0m\u001b[0;34m\u001b[0m\u001b[0m\n\u001b[1;32m      2\u001b[0m \u001b[0mtest\u001b[0m \u001b[0;34m=\u001b[0m \u001b[0mnp\u001b[0m\u001b[0;34m.\u001b[0m\u001b[0mswapaxes\u001b[0m\u001b[0;34m(\u001b[0m\u001b[0mtest\u001b[0m\u001b[0;34m,\u001b[0m \u001b[0;36m0\u001b[0m\u001b[0;34m,\u001b[0m \u001b[0;36m1\u001b[0m\u001b[0;34m)\u001b[0m\u001b[0;34m\u001b[0m\u001b[0;34m\u001b[0m\u001b[0m\n\u001b[0;32m----> 3\u001b[0;31m \u001b[0mtest\u001b[0m\u001b[0;34m.\u001b[0m\u001b[0mresize\u001b[0m\u001b[0;34m(\u001b[0m\u001b[0;36m3\u001b[0m\u001b[0;34m,\u001b[0m\u001b[0;36m8\u001b[0m\u001b[0;34m)\u001b[0m\u001b[0;34m\u001b[0m\u001b[0;34m\u001b[0m\u001b[0m\n\u001b[0m\u001b[1;32m      4\u001b[0m \u001b[0mtest\u001b[0m\u001b[0;34m\u001b[0m\u001b[0;34m\u001b[0m\u001b[0m\n",
            "\u001b[0;31mValueError\u001b[0m: cannot resize this array: it does not own its data"
          ]
        }
      ]
    },
    {
      "cell_type": "code",
      "source": [
        "test1 = np.ones((2,2,4))\n",
        "test1 = test1.reshape((4,4))\n",
        "# test1.resize((6,6)) \n",
        "# ValueError: cannot resize this array: it does not own its data\n",
        "\n",
        "# test1 reference the same data in memory that is referenced by upper test1. \n",
        "# The second test1 is merely viewing with a different shape. \n",
        "# Calling the resize function like ndarray.resize tries to change the array in place, \n",
        "# as test1 is just a view of the original test1, this is not permissible as from the resize definition.\n",
        "# : The purpose of the reference count check is to make sure you do not use this array as a buffer \n",
        "#   for another Python object and then reallocate the memory\n",
        "# To cercumvent your issue you can call resize from numpy (not as an attribute of a ndarray)\n",
        "# which will detect this issue and copy the data automatically.\n",
        "\n",
        "\n",
        "# np.resize and ndarray.resize add data in two different ways. \n",
        "# To reproduce expected behavior as ndarray.resize you would have to do the following\n",
        "# c = b.copy()\n",
        "# c.resize(4,2)\n",
        "\n",
        "print(np.resize(test1, (6,6))) # 다 1.0 으로 채워져 있음 "
      ],
      "metadata": {
        "colab": {
          "base_uri": "https://localhost:8080/"
        },
        "id": "TYA8r_GXvl_B",
        "outputId": "e5aa8029-4c9e-4d63-ccb5-2e518becffca"
      },
      "execution_count": null,
      "outputs": [
        {
          "output_type": "stream",
          "name": "stdout",
          "text": [
            "[[1. 1. 1. 1. 1. 1.]\n",
            " [1. 1. 1. 1. 1. 1.]\n",
            " [1. 1. 1. 1. 1. 1.]\n",
            " [1. 1. 1. 1. 1. 1.]\n",
            " [1. 1. 1. 1. 1. 1.]\n",
            " [1. 1. 1. 1. 1. 1.]]\n"
          ]
        }
      ]
    },
    {
      "cell_type": "code",
      "source": [
        "# 원래 직전 a01 모양\n",
        "a01 = [[1, 1, 1,],\n",
        " [1, 1, 1],\n",
        " [1, 1, 1],\n",
        " [1, 1, 1],\n",
        " [1, 1, 1],\n",
        " [1, 1, 1]]"
      ],
      "metadata": {
        "id": "rt0acTIYnoRE"
      },
      "execution_count": 71,
      "outputs": []
    },
    {
      "cell_type": "code",
      "source": [
        "# 이렇게 하면 되지만, ndarray.resize(shape) 과는 다름. \n",
        "print(np.resize(a01, (3,8)), np.resize(a01, (3,8)).shape)"
      ],
      "metadata": {
        "colab": {
          "base_uri": "https://localhost:8080/"
        },
        "id": "8-oZzwnovCnr",
        "outputId": "ec8d964d-3a29-482c-ea6e-f40f23f6054c"
      },
      "execution_count": 65,
      "outputs": [
        {
          "output_type": "stream",
          "name": "stdout",
          "text": [
            "[[1 1 1 1 1 1 1 1]\n",
            " [1 1 1 1 1 1 1 1]\n",
            " [1 1 1 1 1 1 1 1]] (3, 8)\n"
          ]
        }
      ]
    },
    {
      "cell_type": "code",
      "source": [
        "# ndarray.resize(3,8)랑 같은 결과를 만들고 싶으면\n",
        "a01 = np.copy(a01)\n",
        "a01.resize(3,8)\n",
        "a01"
      ],
      "metadata": {
        "colab": {
          "base_uri": "https://localhost:8080/"
        },
        "id": "VqAk2R2vyoXC",
        "outputId": "ee0c4465-593c-473a-dbf7-8d998d6103d2"
      },
      "execution_count": 72,
      "outputs": [
        {
          "output_type": "execute_result",
          "data": {
            "text/plain": [
              "array([[1, 1, 1, 1, 1, 1, 1, 1],\n",
              "       [1, 1, 1, 1, 1, 1, 1, 1],\n",
              "       [1, 1, 0, 0, 0, 0, 0, 0]])"
            ]
          },
          "metadata": {},
          "execution_count": 72
        }
      ]
    },
    {
      "cell_type": "markdown",
      "source": [
        "**예제 05**\n",
        "\n",
        "`a01`의 `shape`를 `expand_dims`를 이용해 `(1,3,8)`인 3차원 배열로 변경하고  배열과 배열의  `shape`를 출력하세요."
      ],
      "metadata": {
        "id": "R8o5gYtyXgNs"
      }
    },
    {
      "cell_type": "code",
      "source": [
        "print(a01)\n",
        "a01 = np.expand_dims(a01, axis = 0 )\n",
        "print(a01, a01.shape)"
      ],
      "metadata": {
        "colab": {
          "base_uri": "https://localhost:8080/"
        },
        "id": "VTDerj__ofVS",
        "outputId": "597597c6-cc21-4c72-ca4e-8c4b6e26a171"
      },
      "execution_count": 76,
      "outputs": [
        {
          "output_type": "stream",
          "name": "stdout",
          "text": [
            "[[1 1 1 1 1 1 1 1]\n",
            " [1 1 1 1 1 1 1 1]\n",
            " [1 1 0 0 0 0 0 0]]\n",
            "[[[1 1 1 1 1 1 1 1]\n",
            "  [1 1 1 1 1 1 1 1]\n",
            "  [1 1 0 0 0 0 0 0]]] (1, 3, 8)\n"
          ]
        }
      ]
    },
    {
      "cell_type": "code",
      "source": [
        "a01_test = np.array([[1, 1, 1, 1, 1, 1, 1, 1],\n",
        "       [1, 1, 1, 1, 1, 1, 1, 1],\n",
        "       [1, 1, 0, 0, 0, 0, 0, 0]])\n",
        "print(a01_test)\n",
        "print(np.expand_dims(a01_test, axis = 0), np.expand_dims(a01_test, axis = 0).shape)\n",
        "print(np.expand_dims(a01_test, axis = 1), np.expand_dims(a01_test, axis = 1).shape )\n",
        "print(np.expand_dims(a01_test, axis = 2), np.expand_dims(a01_test, axis = 2).shape)"
      ],
      "metadata": {
        "id": "3E5DjaJJXgNt",
        "colab": {
          "base_uri": "https://localhost:8080/"
        },
        "outputId": "5254fe5b-ab81-4111-b9ff-cbf9f1c0157b"
      },
      "execution_count": 75,
      "outputs": [
        {
          "output_type": "stream",
          "name": "stdout",
          "text": [
            "[[1 1 1 1 1 1 1 1]\n",
            " [1 1 1 1 1 1 1 1]\n",
            " [1 1 0 0 0 0 0 0]]\n",
            "[[[1 1 1 1 1 1 1 1]\n",
            "  [1 1 1 1 1 1 1 1]\n",
            "  [1 1 0 0 0 0 0 0]]] (1, 3, 8)\n",
            "[[[1 1 1 1 1 1 1 1]]\n",
            "\n",
            " [[1 1 1 1 1 1 1 1]]\n",
            "\n",
            " [[1 1 0 0 0 0 0 0]]] (3, 1, 8)\n",
            "[[[1]\n",
            "  [1]\n",
            "  [1]\n",
            "  [1]\n",
            "  [1]\n",
            "  [1]\n",
            "  [1]\n",
            "  [1]]\n",
            "\n",
            " [[1]\n",
            "  [1]\n",
            "  [1]\n",
            "  [1]\n",
            "  [1]\n",
            "  [1]\n",
            "  [1]\n",
            "  [1]]\n",
            "\n",
            " [[1]\n",
            "  [1]\n",
            "  [0]\n",
            "  [0]\n",
            "  [0]\n",
            "  [0]\n",
            "  [0]\n",
            "  [0]]] (3, 8, 1)\n"
          ]
        }
      ]
    },
    {
      "cell_type": "markdown",
      "metadata": {
        "id": "G7NVMtnXXl40"
      },
      "source": [
        "아래 그림과 같은 2차원 배열 `a`, `b`, `c`를  생성하세요\n",
        "\n",
        "<p align='center'>\n",
        "<img src=https://github.com/yebiny/SkillTreePython-DataAnalysis/blob/main/imgs/ch0104-05.png?raw=true width=360>\n",
        "</p>\n"
      ]
    },
    {
      "cell_type": "code",
      "metadata": {
        "id": "v5NNZzWHXl40",
        "colab": {
          "base_uri": "https://localhost:8080/"
        },
        "outputId": "9ea619b2-cc1e-4b6e-f310-f2b828091213"
      },
      "source": [
        "a = np.ones((3,2))\n",
        "b = np.full((3,1), 2)\n",
        "c = np.full((2,2), 3)\n",
        "print(a)\n",
        "print(b)\n",
        "print(c)"
      ],
      "execution_count": 77,
      "outputs": [
        {
          "output_type": "stream",
          "name": "stdout",
          "text": [
            "[[1. 1.]\n",
            " [1. 1.]\n",
            " [1. 1.]]\n",
            "[[2]\n",
            " [2]\n",
            " [2]]\n",
            "[[3 3]\n",
            " [3 3]]\n"
          ]
        }
      ]
    },
    {
      "cell_type": "markdown",
      "source": [
        "**예제 06**\n",
        "\n",
        "`a`와 `b`를 합쳐 `shape`가 `(3,3)`인 배열을 만드세요."
      ],
      "metadata": {
        "id": "6whR9VwAYZ4G"
      }
    },
    {
      "cell_type": "code",
      "source": [
        "np.append(a,b, axis = 1)"
      ],
      "metadata": {
        "colab": {
          "base_uri": "https://localhost:8080/"
        },
        "id": "FNszcnXIqVTj",
        "outputId": "83a737f8-1168-4cb7-f224-576aed8e3692"
      },
      "execution_count": 78,
      "outputs": [
        {
          "output_type": "execute_result",
          "data": {
            "text/plain": [
              "array([[1., 1., 2.],\n",
              "       [1., 1., 2.],\n",
              "       [1., 1., 2.]])"
            ]
          },
          "metadata": {},
          "execution_count": 78
        }
      ]
    },
    {
      "cell_type": "code",
      "source": [
        "np.concatenate([a,b], axis = 1)"
      ],
      "metadata": {
        "colab": {
          "base_uri": "https://localhost:8080/"
        },
        "id": "QXHNy_V_qVWK",
        "outputId": "73574488-b55c-4122-a22b-ae6268f8b280"
      },
      "execution_count": 79,
      "outputs": [
        {
          "output_type": "execute_result",
          "data": {
            "text/plain": [
              "array([[1., 1., 2.],\n",
              "       [1., 1., 2.],\n",
              "       [1., 1., 2.]])"
            ]
          },
          "metadata": {},
          "execution_count": 79
        }
      ]
    },
    {
      "cell_type": "code",
      "source": [
        "np.hstack([a,b])"
      ],
      "metadata": {
        "colab": {
          "base_uri": "https://localhost:8080/"
        },
        "id": "fDzN_NBgqVYj",
        "outputId": "4fc60e9c-916c-4984-b474-08400c49b0ad"
      },
      "execution_count": 81,
      "outputs": [
        {
          "output_type": "execute_result",
          "data": {
            "text/plain": [
              "array([[1., 1., 2.],\n",
              "       [1., 1., 2.],\n",
              "       [1., 1., 2.]])"
            ]
          },
          "metadata": {},
          "execution_count": 81
        }
      ]
    },
    {
      "cell_type": "code",
      "source": [
        "# np.stack([a,b], axis = 1) \n",
        "# ValueError: all input arrays must have the same shape"
      ],
      "metadata": {
        "id": "MeqGWsnVt0BC"
      },
      "execution_count": 91,
      "outputs": []
    },
    {
      "cell_type": "code",
      "source": [
        "# STACK Vs CONCATENATE\n",
        "# Concatenating joins a sequence of tensors along an existing axis, \n",
        "# and stacking joins a sequence of tensors along a new aixs.\n",
        "\n",
        "# np.stack(arrays, axis = 0) 함수는 concatenate 함수에 비해서 제약이 많다. \n",
        "# concatenate 함수는 합칠 axis를 제외한 shape값을 제외하고 일치하면 되지만 \n",
        "# stack 함수는 합치려는 배열들의 shape이 전부 동일해야한다.\n",
        "test_a = np.array([[1,2],[3,4]])\n",
        "test_b = np.array([[5,6],[7,8]])\n",
        "print(np.concatenate([test_a, test_b], axis = 0))\n",
        "print(np.stack([test_a, test_b], axis = 0))\n",
        "# 또 둘의 기능은 다른데\n",
        "# stack함수는 지정한 axis를 완전히 새로운 axis로 생각하게 된다. 그 다음에 합치는 것이라고 볼 수 있음\n",
        "# 실제로 stack 함수를 이용해서 합치게 되면 합치기 전 배열 a,b에는 없던 새로운 축 axis = 2가 생기는 것을 볼 수 있다. \n"
      ],
      "metadata": {
        "colab": {
          "base_uri": "https://localhost:8080/"
        },
        "id": "YtcBs-j85Zyb",
        "outputId": "8cb3d508-b5d4-413b-ad2a-fd38dec55c71"
      },
      "execution_count": 83,
      "outputs": [
        {
          "output_type": "stream",
          "name": "stdout",
          "text": [
            "[[1 2]\n",
            " [3 4]\n",
            " [5 6]\n",
            " [7 8]]\n",
            "[[[1 2]\n",
            "  [3 4]]\n",
            "\n",
            " [[5 6]\n",
            "  [7 8]]]\n"
          ]
        }
      ]
    },
    {
      "cell_type": "code",
      "source": [
        "print(np.stack([test_a, test_b], axis = 0), np.stack([test_a, test_b], axis = 0).shape )\n",
        "print(np.stack([test_a, test_b], axis = 1), np.stack([test_a, test_b], axis = 1).shape )\n",
        "print(np.stack([test_a, test_b], axis = 2), np.stack([test_a, test_b], axis = 2).shape )"
      ],
      "metadata": {
        "colab": {
          "base_uri": "https://localhost:8080/"
        },
        "id": "KKUvLMC6rZzl",
        "outputId": "6744b85c-831e-43f1-be77-37bb70b2df33"
      },
      "execution_count": 85,
      "outputs": [
        {
          "output_type": "stream",
          "name": "stdout",
          "text": [
            "[[[1 2]\n",
            "  [3 4]]\n",
            "\n",
            " [[5 6]\n",
            "  [7 8]]] (2, 2, 2)\n",
            "[[[1 2]\n",
            "  [5 6]]\n",
            "\n",
            " [[3 4]\n",
            "  [7 8]]] (2, 2, 2)\n",
            "[[[1 5]\n",
            "  [2 6]]\n",
            "\n",
            " [[3 7]\n",
            "  [4 8]]] (2, 2, 2)\n"
          ]
        }
      ]
    },
    {
      "cell_type": "code",
      "source": [
        "test1 = np.array([1,2,3])\n",
        "test2 = np.array([4,5,6])\n",
        "result0 = np.stack([test1, test2], axis = 0)\n",
        "result1 = np.stack([test1, test2], axis = 1)\n",
        "# result2 = np.stack([test1, test2], axis = 2) # AxisError: axis 2 is out of bounds for array of dimension 2\n",
        "print(result0, result0.shape)\n",
        "print(result1, result1.shape)\n",
        "# print(result2, result2.shape)"
      ],
      "metadata": {
        "colab": {
          "base_uri": "https://localhost:8080/"
        },
        "id": "T42T7Q3psGSs",
        "outputId": "8f59f0b6-e45f-4d00-8d09-47df3f95d7ad"
      },
      "execution_count": 88,
      "outputs": [
        {
          "output_type": "stream",
          "name": "stdout",
          "text": [
            "[[1 2 3]\n",
            " [4 5 6]] (2, 3)\n",
            "[[1 4]\n",
            " [2 5]\n",
            " [3 6]] (3, 2)\n"
          ]
        }
      ]
    },
    {
      "cell_type": "markdown",
      "source": [
        "**예제 07**\n",
        "\n",
        "\n",
        "`a`와 `c`를 합쳐 `shape`가 `(5,2)`인 배열을 만드세요."
      ],
      "metadata": {
        "id": "9u_P0i8VYmIg"
      }
    },
    {
      "cell_type": "code",
      "source": [
        "print(a, a.shape)\n",
        "print(c, c.shape)"
      ],
      "metadata": {
        "id": "l_kU8G1hYmIh",
        "colab": {
          "base_uri": "https://localhost:8080/"
        },
        "outputId": "7c9525f6-f8d5-496a-aaf7-9c00b2e49d3d"
      },
      "execution_count": 94,
      "outputs": [
        {
          "output_type": "stream",
          "name": "stdout",
          "text": [
            "[[1. 1.]\n",
            " [1. 1.]\n",
            " [1. 1.]] (3, 2)\n",
            "[[3 3]\n",
            " [3 3]] (2, 2)\n"
          ]
        }
      ]
    },
    {
      "cell_type": "code",
      "source": [
        "np.append(a, c, 0)"
      ],
      "metadata": {
        "colab": {
          "base_uri": "https://localhost:8080/"
        },
        "id": "ZY_3GiXBu_ks",
        "outputId": "7a083810-9ace-404e-efc2-193d98f51c7e"
      },
      "execution_count": 99,
      "outputs": [
        {
          "output_type": "execute_result",
          "data": {
            "text/plain": [
              "array([[1., 1.],\n",
              "       [1., 1.],\n",
              "       [1., 1.],\n",
              "       [3., 3.],\n",
              "       [3., 3.]])"
            ]
          },
          "metadata": {},
          "execution_count": 99
        }
      ]
    },
    {
      "cell_type": "code",
      "source": [
        "np.concatenate([a,c], axis = 0)"
      ],
      "metadata": {
        "colab": {
          "base_uri": "https://localhost:8080/"
        },
        "id": "nCLT81jP80-7",
        "outputId": "33242740-c438-4c32-8f95-a13ff5dfdb56"
      },
      "execution_count": 98,
      "outputs": [
        {
          "output_type": "execute_result",
          "data": {
            "text/plain": [
              "array([[1., 1.],\n",
              "       [1., 1.],\n",
              "       [1., 1.],\n",
              "       [3., 3.],\n",
              "       [3., 3.]])"
            ]
          },
          "metadata": {},
          "execution_count": 98
        }
      ]
    },
    {
      "cell_type": "code",
      "source": [
        "np.vstack([a,c])"
      ],
      "metadata": {
        "colab": {
          "base_uri": "https://localhost:8080/"
        },
        "id": "Eg7HR2lYvENa",
        "outputId": "82342790-bbc0-4632-9115-513e2df618d7"
      },
      "execution_count": 100,
      "outputs": [
        {
          "output_type": "execute_result",
          "data": {
            "text/plain": [
              "array([[1., 1.],\n",
              "       [1., 1.],\n",
              "       [1., 1.],\n",
              "       [3., 3.],\n",
              "       [3., 3.]])"
            ]
          },
          "metadata": {},
          "execution_count": 100
        }
      ]
    },
    {
      "cell_type": "markdown",
      "source": [
        "**예제 08**\n",
        "\n",
        "\n",
        "`a`,`b`, `a` 를 합쳐 `shape`가 `(3,5)`인 배열을 만들고 `a08`로 바인딩하세요."
      ],
      "metadata": {
        "id": "PAe1brWaMick"
      }
    },
    {
      "cell_type": "code",
      "source": [
        "print(a)\n",
        "print(b)"
      ],
      "metadata": {
        "colab": {
          "base_uri": "https://localhost:8080/"
        },
        "id": "i0q-xFF-vHgR",
        "outputId": "51db5605-a8fb-4c54-f16a-31cd6e04b9e1"
      },
      "execution_count": 102,
      "outputs": [
        {
          "output_type": "stream",
          "name": "stdout",
          "text": [
            "[[1. 1.]\n",
            " [1. 1.]\n",
            " [1. 1.]]\n",
            "[[2]\n",
            " [2]\n",
            " [2]]\n"
          ]
        }
      ]
    },
    {
      "cell_type": "code",
      "source": [
        "a08 = np.concatenate([a,b,a], axis = 1)\n",
        "print(a08, a08.shape)"
      ],
      "metadata": {
        "colab": {
          "base_uri": "https://localhost:8080/"
        },
        "id": "KsICXySpvLe0",
        "outputId": "6eff6239-fa09-4be6-c684-a02febd906c0"
      },
      "execution_count": 104,
      "outputs": [
        {
          "output_type": "stream",
          "name": "stdout",
          "text": [
            "[[1. 1. 2. 1. 1.]\n",
            " [1. 1. 2. 1. 1.]\n",
            " [1. 1. 2. 1. 1.]] (3, 5)\n"
          ]
        }
      ]
    },
    {
      "cell_type": "code",
      "source": [
        "a08 = np.hstack([a,b,a])\n",
        "print(a08, a08.shape)"
      ],
      "metadata": {
        "colab": {
          "base_uri": "https://localhost:8080/"
        },
        "id": "H-7PT451vjwD",
        "outputId": "ff202991-44fd-4e9b-d115-c97da3a1f873"
      },
      "execution_count": 105,
      "outputs": [
        {
          "output_type": "stream",
          "name": "stdout",
          "text": [
            "[[1. 1. 2. 1. 1.]\n",
            " [1. 1. 2. 1. 1.]\n",
            " [1. 1. 2. 1. 1.]] (3, 5)\n"
          ]
        }
      ]
    },
    {
      "cell_type": "markdown",
      "source": [
        "**예제 09**\n",
        "\n",
        "`a08`을 세개의 배열 `[1,1,2,1,1]`가 나오도록 분할하세요."
      ],
      "metadata": {
        "id": "eW1GNomvYyw8"
      }
    },
    {
      "cell_type": "code",
      "source": [
        "print(a08)"
      ],
      "metadata": {
        "colab": {
          "base_uri": "https://localhost:8080/"
        },
        "id": "-BrFnMAKvo8s",
        "outputId": "33cce0fe-521d-4207-8fb2-a8605676e708"
      },
      "execution_count": 106,
      "outputs": [
        {
          "output_type": "stream",
          "name": "stdout",
          "text": [
            "[[1. 1. 2. 1. 1.]\n",
            " [1. 1. 2. 1. 1.]\n",
            " [1. 1. 2. 1. 1.]]\n"
          ]
        }
      ]
    },
    {
      "cell_type": "code",
      "source": [
        "a081, a082, a083 = np.split(a08, [1,2], axis = 0)\n",
        "print(a081)\n",
        "print(a082)\n",
        "print(a083) "
      ],
      "metadata": {
        "colab": {
          "base_uri": "https://localhost:8080/"
        },
        "id": "R0ZdL8Flvsd8",
        "outputId": "41b55432-2c0b-486a-c449-5317953eef03"
      },
      "execution_count": 107,
      "outputs": [
        {
          "output_type": "stream",
          "name": "stdout",
          "text": [
            "[[1. 1. 2. 1. 1.]]\n",
            "[[1. 1. 2. 1. 1.]]\n",
            "[[1. 1. 2. 1. 1.]]\n"
          ]
        }
      ]
    },
    {
      "cell_type": "markdown",
      "source": [
        "**예제 10**\n",
        "\n",
        "아래 그림을 설명하는 코드를 차례대로 작성하세요.\n",
        "\n",
        "<p align='center'>\n",
        "<img src=https://github.com/yebiny/SkillTreePython-DataAnalysis/blob/main/imgs/ch0104-06.png?raw=true width=300>\n",
        "</p>\n"
      ],
      "metadata": {
        "id": "mtnrRAfiRSsZ"
      }
    },
    {
      "cell_type": "code",
      "source": [
        "x = np.arange(0,6).reshape(2,3)\n",
        "x"
      ],
      "metadata": {
        "colab": {
          "base_uri": "https://localhost:8080/"
        },
        "id": "x-iFI5KMwB_6",
        "outputId": "c96acdcd-fe71-4bde-e224-0c3cbf40a7e6"
      },
      "execution_count": 109,
      "outputs": [
        {
          "output_type": "execute_result",
          "data": {
            "text/plain": [
              "array([[0, 1, 2],\n",
              "       [3, 4, 5]])"
            ]
          },
          "metadata": {},
          "execution_count": 109
        }
      ]
    },
    {
      "cell_type": "code",
      "source": [
        "x.T"
      ],
      "metadata": {
        "colab": {
          "base_uri": "https://localhost:8080/"
        },
        "id": "BxMkr9a4wUES",
        "outputId": "572c9a51-b712-46df-be75-cc7d3fefc9b3"
      },
      "execution_count": 110,
      "outputs": [
        {
          "output_type": "execute_result",
          "data": {
            "text/plain": [
              "array([[0, 3],\n",
              "       [1, 4],\n",
              "       [2, 5]])"
            ]
          },
          "metadata": {},
          "execution_count": 110
        }
      ]
    },
    {
      "cell_type": "code",
      "source": [
        "np.swapaxes(x, 0, 1)"
      ],
      "metadata": {
        "colab": {
          "base_uri": "https://localhost:8080/"
        },
        "id": "VH-mCqLzwV6b",
        "outputId": "8ac5f286-ecdb-4437-b168-61845160da0b"
      },
      "execution_count": 111,
      "outputs": [
        {
          "output_type": "execute_result",
          "data": {
            "text/plain": [
              "array([[0, 3],\n",
              "       [1, 4],\n",
              "       [2, 5]])"
            ]
          },
          "metadata": {},
          "execution_count": 111
        }
      ]
    },
    {
      "cell_type": "markdown",
      "metadata": {
        "id": "y6MXM4bwQRHf"
      },
      "source": [
        "**예제 11**\n",
        "\n",
        "\n",
        "아래 그림을 설명하는 코드를 차례대로 작성하세요.\n",
        "\n",
        "<p align='center'>\n",
        "<img src=https://github.com/yebiny/SkillTreePython-DataAnalysis/blob/main/imgs/ch0104-07.png?raw=true width=300>\n",
        "</p>\n"
      ]
    },
    {
      "cell_type": "code",
      "source": [
        "y = np.arange(6,12).reshape(2,3)\n",
        "print(x)\n",
        "print(y)"
      ],
      "metadata": {
        "colab": {
          "base_uri": "https://localhost:8080/"
        },
        "id": "cS0BfMSLwfLE",
        "outputId": "4b39c855-cac0-4f12-98cf-71cb3f3ca448"
      },
      "execution_count": 113,
      "outputs": [
        {
          "output_type": "stream",
          "name": "stdout",
          "text": [
            "[[0 1 2]\n",
            " [3 4 5]]\n",
            "[[ 6  7  8]\n",
            " [ 9 10 11]]\n"
          ]
        }
      ]
    },
    {
      "cell_type": "code",
      "source": [
        "y1, y2 = np.split(y, [1], axis = 0)\n",
        "print(np.concatenate([x, y2, y1], axis = 0))"
      ],
      "metadata": {
        "colab": {
          "base_uri": "https://localhost:8080/"
        },
        "id": "QIzhysMmwqba",
        "outputId": "f4eb6ca7-c6d5-44fe-c0e1-80ea6b08c94f"
      },
      "execution_count": 114,
      "outputs": [
        {
          "output_type": "stream",
          "name": "stdout",
          "text": [
            "[[ 0  1  2]\n",
            " [ 3  4  5]\n",
            " [ 9 10 11]\n",
            " [ 6  7  8]]\n"
          ]
        }
      ]
    },
    {
      "cell_type": "code",
      "source": [
        "# 또 다른 방법 #################\n",
        "result = np.append(x, y, axis = 0)\n",
        "result[[2,3]] = result[[3,2]]  # ex1[[2,3], : ] = ex1[[3,2], : ] ########\n",
        "print(result)"
      ],
      "metadata": {
        "colab": {
          "base_uri": "https://localhost:8080/"
        },
        "id": "3D6UnhAfONv8",
        "outputId": "9673eca9-6f63-461c-ba1d-c835ed67d2de"
      },
      "execution_count": 115,
      "outputs": [
        {
          "output_type": "stream",
          "name": "stdout",
          "text": [
            "[[ 0  1  2]\n",
            " [ 3  4  5]\n",
            " [ 9 10 11]\n",
            " [ 6  7  8]]\n"
          ]
        }
      ]
    },
    {
      "cell_type": "markdown",
      "metadata": {
        "id": "7A3h9vPqRAuh"
      },
      "source": [
        "**예제 12**\n",
        "\n",
        "\n",
        "아래 그림을 설명하는 코드를 차례대로 작성하세요.\n",
        "\n",
        "<p align='center'>\n",
        "<img src=https://github.com/yebiny/SkillTreePython-DataAnalysis/blob/main/imgs/ch0104-08.png?raw=true width=560>\n",
        "</p>\n"
      ]
    },
    {
      "cell_type": "code",
      "source": [
        "print(np.concatenate([x,y], axis = 1))\n",
        "print(np.hstack([x,y]))"
      ],
      "metadata": {
        "colab": {
          "base_uri": "https://localhost:8080/"
        },
        "id": "XNrTxoGyxrm7",
        "outputId": "ed034401-2f76-4cdf-a3ad-15811c5a2fe1"
      },
      "execution_count": 116,
      "outputs": [
        {
          "output_type": "execute_result",
          "data": {
            "text/plain": [
              "array([[ 0,  1,  2,  6,  7,  8],\n",
              "       [ 3,  4,  5,  9, 10, 11]])"
            ]
          },
          "metadata": {},
          "execution_count": 116
        }
      ]
    },
    {
      "cell_type": "code",
      "source": [
        "print(np.append(x.T, y.T, axis = 1))\n",
        "print(np.hstack([x.T, y.T]))"
      ],
      "metadata": {
        "colab": {
          "base_uri": "https://localhost:8080/"
        },
        "id": "ydzA43uiBqJe",
        "outputId": "65a37c2b-f0af-469f-d050-c3bec2934dc2"
      },
      "execution_count": 120,
      "outputs": [
        {
          "output_type": "execute_result",
          "data": {
            "text/plain": [
              "array([[ 0,  3,  6,  9],\n",
              "       [ 1,  4,  7, 10],\n",
              "       [ 2,  5,  8, 11]])"
            ]
          },
          "metadata": {},
          "execution_count": 120
        }
      ]
    },
    {
      "cell_type": "code",
      "source": [
        "### stack behavior test\n",
        "print(np.stack([x,y], axis = 1))\n",
        "print(np.stack([x,y], axis = 2))"
      ],
      "metadata": {
        "colab": {
          "base_uri": "https://localhost:8080/"
        },
        "id": "3Uqr2Q334Fzk",
        "outputId": "4b549b54-7826-4d0d-9c6f-608b91f67741"
      },
      "execution_count": 140,
      "outputs": [
        {
          "output_type": "stream",
          "name": "stdout",
          "text": [
            "[[[ 0  1  2]\n",
            "  [ 6  7  8]]\n",
            "\n",
            " [[ 3  4  5]\n",
            "  [ 9 10 11]]]\n",
            "[[[ 0  6]\n",
            "  [ 1  7]\n",
            "  [ 2  8]]\n",
            "\n",
            " [[ 3  9]\n",
            "  [ 4 10]\n",
            "  [ 5 11]]]\n"
          ]
        }
      ]
    },
    {
      "cell_type": "markdown",
      "metadata": {
        "id": "O-AZHlQMQ5jI"
      },
      "source": [
        "**예제 13**\n",
        "\n",
        "아래 그림을 설명하는 코드를 차례대로 작성하세요.\n",
        "\n",
        "<p align='center'>\n",
        "<img src=https://github.com/yebiny/SkillTreePython-DataAnalysis/blob/main/imgs/ch0104-09.png?raw=true width=440>\n",
        "</p>"
      ]
    },
    {
      "cell_type": "code",
      "source": [
        "i = np.arange(4).reshape(2,2)\n",
        "j = np.arange(4,8).reshape(2,2)\n",
        "print(i.shape, j.shape) "
      ],
      "metadata": {
        "colab": {
          "base_uri": "https://localhost:8080/"
        },
        "id": "bGB5s-WZyoTV",
        "outputId": "c7e305d5-8ec9-43eb-be32-53101843e966"
      },
      "execution_count": 131,
      "outputs": [
        {
          "output_type": "stream",
          "name": "stdout",
          "text": [
            "(2, 2) (2, 2)\n"
          ]
        }
      ]
    },
    {
      "cell_type": "code",
      "source": [
        "# reshape 해서 concatenate 해도 이렇게된다. \n",
        "np.stack([i,j], axis = 0)"
      ],
      "metadata": {
        "colab": {
          "base_uri": "https://localhost:8080/"
        },
        "id": "ccE5f9vRy5Fj",
        "outputId": "9049f6c2-b826-4372-b4ab-efdf5d2a054e"
      },
      "execution_count": 132,
      "outputs": [
        {
          "output_type": "execute_result",
          "data": {
            "text/plain": [
              "array([[[0, 1],\n",
              "        [2, 3]],\n",
              "\n",
              "       [[4, 5],\n",
              "        [6, 7]]])"
            ]
          },
          "metadata": {},
          "execution_count": 132
        }
      ]
    },
    {
      "cell_type": "markdown",
      "metadata": {
        "id": "dAc67rCtUMdH"
      },
      "source": [
        "**예제 14**\n",
        "\n",
        "아래 그림을 설명하는 코드를 차례대로 작성하세요.\n",
        "\n",
        "<p align='center'>\n",
        "<img src=https://github.com/yebiny/SkillTreePython-DataAnalysis/blob/main/imgs/ch0104-10.png?raw=true width=440>\n",
        "</p>"
      ]
    },
    {
      "cell_type": "code",
      "source": [
        "np.stack([i,j], axis = 1)"
      ],
      "metadata": {
        "colab": {
          "base_uri": "https://localhost:8080/"
        },
        "id": "vkmCBKkAzcj0",
        "outputId": "9c10ed3c-9e75-48f2-aae4-1819873df647"
      },
      "execution_count": 134,
      "outputs": [
        {
          "output_type": "execute_result",
          "data": {
            "text/plain": [
              "array([[[0, 1],\n",
              "        [4, 5]],\n",
              "\n",
              "       [[2, 3],\n",
              "        [6, 7]]])"
            ]
          },
          "metadata": {},
          "execution_count": 134
        }
      ]
    },
    {
      "cell_type": "markdown",
      "metadata": {
        "id": "jx_t_a6dYl22"
      },
      "source": [
        "**예제 15**\n",
        "\n",
        "\n",
        "아래 그림을 설명하는 코드를 차례대로 작성하세요. 여기서 알수 있는 사실을 간단히 정리하세요.\n",
        "\n",
        "<p align='center'>\n",
        "<img src=https://github.com/yebiny/SkillTreePython-DataAnalysis/blob/main/imgs/ch0104-11.png?raw=true width=240>\n",
        "</p>"
      ]
    },
    {
      "cell_type": "code",
      "source": [
        "a1 = np.arange(3)\n",
        "a2 = np.arange(3,6)\n",
        "print(a1, a2)"
      ],
      "metadata": {
        "colab": {
          "base_uri": "https://localhost:8080/"
        },
        "id": "MwJaXHOJzy6j",
        "outputId": "a68d9fd7-1feb-46c2-b11d-77d0f8847b24"
      },
      "execution_count": 135,
      "outputs": [
        {
          "output_type": "stream",
          "name": "stdout",
          "text": [
            "[0 1 2] [3 4 5]\n"
          ]
        }
      ]
    },
    {
      "cell_type": "code",
      "source": [
        "# 마지막 쉐입이 (3,2) 인것을 보아 axis = 1 기준으로 stack이 되었음을 알 수 있다. \n",
        "# axis = -1은 마지막 axis를 의미하는 것으로 여기선 axis = 1에 해당한다. \n",
        "print(np.stack([a1, a2], axis = 1))\n",
        "print(np.stack([a1, a2], axis = -1))"
      ],
      "metadata": {
        "colab": {
          "base_uri": "https://localhost:8080/"
        },
        "id": "qc5SJUMQz7VR",
        "outputId": "bf97fc92-d4fe-40e2-beed-9d3785a5ad19"
      },
      "execution_count": 136,
      "outputs": [
        {
          "output_type": "stream",
          "name": "stdout",
          "text": [
            "[[0 3]\n",
            " [1 4]\n",
            " [2 5]]\n",
            "[[0 3]\n",
            " [1 4]\n",
            " [2 5]]\n"
          ]
        }
      ]
    },
    {
      "cell_type": "code",
      "source": [
        "# axis = -1 실험\n",
        "\n",
        "t1 = np.array([[1,2],[3,4]])\n",
        "t2 = np.array([[5,6],[7,8]])\n",
        "\n",
        "print(np.stack([t1,t2], axis = 2)) \n",
        "print(np.stack([t1,t2], axis = -1))\n",
        "# 여기서는 axis = -1 이 axis = 2에 해당한다. \n"
      ],
      "metadata": {
        "colab": {
          "base_uri": "https://localhost:8080/"
        },
        "id": "W9RYDtag0eNS",
        "outputId": "e968f50e-d5fa-4e2c-fde9-cbcb1047bd99"
      },
      "execution_count": 137,
      "outputs": [
        {
          "output_type": "stream",
          "name": "stdout",
          "text": [
            "[[[1 5]\n",
            "  [2 6]]\n",
            "\n",
            " [[3 7]\n",
            "  [4 8]]]\n",
            "[[[1 5]\n",
            "  [2 6]]\n",
            "\n",
            " [[3 7]\n",
            "  [4 8]]]\n"
          ]
        }
      ]
    },
    {
      "cell_type": "code",
      "source": [
        "print(np.stack([t1, t2], axis = 0))\n",
        "print(np.stack([t1, t2], axis = 1))"
      ],
      "metadata": {
        "colab": {
          "base_uri": "https://localhost:8080/"
        },
        "id": "G2C1nhOg1Lrf",
        "outputId": "2e9249dd-6ce4-4e78-e4dc-5542aa6e031c"
      },
      "execution_count": 138,
      "outputs": [
        {
          "output_type": "stream",
          "name": "stdout",
          "text": [
            "[[[1 2]\n",
            "  [3 4]]\n",
            "\n",
            " [[5 6]\n",
            "  [7 8]]]\n",
            "[[[1 2]\n",
            "  [5 6]]\n",
            "\n",
            " [[3 4]\n",
            "  [7 8]]]\n"
          ]
        }
      ]
    }
  ]
}