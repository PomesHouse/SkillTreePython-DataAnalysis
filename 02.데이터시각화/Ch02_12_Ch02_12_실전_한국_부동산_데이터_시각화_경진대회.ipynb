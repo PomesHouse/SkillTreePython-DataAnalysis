{
  "nbformat": 4,
  "nbformat_minor": 0,
  "metadata": {
    "colab": {
      "name": "Ch02.12. 실전-한국 부동산 데이터 시각화 경진대회.ipynb",
      "private_outputs": true,
      "provenance": [],
      "toc_visible": true,
      "authorship_tag": "ABX9TyMN0Mb7yuiYCPM4/eFATp1C",
      "include_colab_link": true
    },
    "kernelspec": {
      "name": "python3",
      "display_name": "Python 3"
    },
    "language_info": {
      "name": "python"
    }
  },
  "cells": [
    {
      "cell_type": "markdown",
      "metadata": {
        "id": "view-in-github",
        "colab_type": "text"
      },
      "source": [
        "<a href=\"https://colab.research.google.com/github/PomesHouse/SkillTreePython-DataAnalysis/blob/main/02.%EB%8D%B0%EC%9D%B4%ED%84%B0%EC%8B%9C%EA%B0%81%ED%99%94/Ch02_12_Ch02_12_%EC%8B%A4%EC%A0%84_%ED%95%9C%EA%B5%AD_%EB%B6%80%EB%8F%99%EC%82%B0_%EB%8D%B0%EC%9D%B4%ED%84%B0_%EC%8B%9C%EA%B0%81%ED%99%94_%EA%B2%BD%EC%A7%84%EB%8C%80%ED%9A%8C.ipynb\" target=\"_parent\"><img src=\"https://colab.research.google.com/assets/colab-badge.svg\" alt=\"Open In Colab\"/></a>"
      ]
    },
    {
      "cell_type": "markdown",
      "source": [
        "# Ch02.12. 실전-한국 부동산 데이터 시각화 경진대회\n",
        "\n",
        "[링크 텍스트](https://dacon.io/competitions/official/235724/overview/description"
      ],
      "metadata": {
        "id": "I8rJzvvRQWfO"
      }
    },
    {
      "cell_type": "code",
      "execution_count": null,
      "metadata": {
        "id": "FXa-44FaQV8B"
      },
      "outputs": [],
      "source": [
        "import numpy as np\n",
        "import pandas as pd\n",
        "import seaborn as sns\n",
        "import matplotlib.pyplot as plt\n",
        "import matplotlib.font_manager as fm"
      ]
    },
    {
      "cell_type": "code",
      "source": [
        "def get_font_family():\n",
        "    \n",
        "    # 시스템 환경에 따른 기본 폰트명을 반환하는 함수\n",
        "    \n",
        "    import platform\n",
        "    system_name = platform.system()\n",
        "\n",
        "    if system_name == \"Darwin\" :\n",
        "        font_family = \"AppleGothic\"\n",
        "    elif system_name == \"Windows\":\n",
        "        font_family = \"Malgun Gothic\"\n",
        "    else:\n",
        "        # Linux(colab)\n",
        "        ! apt-get install fonts-nanum -qq  > /dev/null\n",
        "        ! fc-cache -fv\n",
        "\n",
        "        import matplotlib as mpl\n",
        "        mpl.font_manager._rebuild()\n",
        "        findfont = mpl.font_manager.fontManager.findfont\n",
        "        mpl.font_manager.findfont = findfont\n",
        "        mpl.backends.backend_agg.findfont = findfont\n",
        "        \n",
        "        font_family = \"NanumBarunGothic\"\n",
        "    return font_family\n",
        "\n",
        "plt.rc(\"font\", family=get_font_family())"
      ],
      "metadata": {
        "id": "DrXmHEgvlwwS"
      },
      "execution_count": null,
      "outputs": []
    },
    {
      "cell_type": "code",
      "source": [
        "sns.set(font_scale = 1.1, style = 'white')\n",
        "plt.rcParams['font.family'] = 'NanumGothic' "
      ],
      "metadata": {
        "id": "RQ4BxSoSbp5P"
      },
      "execution_count": null,
      "outputs": []
    },
    {
      "cell_type": "markdown",
      "source": [
        "#### 미분양주택현황"
      ],
      "metadata": {
        "id": "WKQw4dD_vuQj"
      }
    },
    {
      "cell_type": "code",
      "source": [
        "dfun= pd.read_csv('/content/미분양주택현황.csv')\n",
        "print(dfun.head())\n",
        "# column 0 -> object, 나머지 float64"
      ],
      "metadata": {
        "id": "YnZD4ISTSo23"
      },
      "execution_count": null,
      "outputs": []
    },
    {
      "cell_type": "code",
      "source": [
        "dfun['date'] = pd.to_datetime(dfun['Unnamed: 0'], format = '%Y-%m-%d')\n",
        "dfun['year'] = pd.DatetimeIndex(dfun['date']).year"
      ],
      "metadata": {
        "id": "pyR8qBZvpED7"
      },
      "execution_count": null,
      "outputs": []
    },
    {
      "cell_type": "code",
      "source": [
        "plt.figure(figsize = (10,7))\n",
        "sns.lineplot(data = dfun, x = 'date', y = '전국[호]', label = '전국[호]', color = 'navy')\n",
        "plt.title('전국 미분양주택현황', fontsize = 20) \n",
        "plt.ylabel('')\n",
        "plt.xlabel('date', size = 15)\n",
        "\n",
        "plt.plot()\n"
      ],
      "metadata": {
        "id": "OVLivZwhW1rf"
      },
      "execution_count": null,
      "outputs": []
    },
    {
      "cell_type": "code",
      "source": [
        "dfun_total_per = dfun.groupby('year').mean()\n",
        "dfun_total_per.replace(np.nan, 0, inplace = True)\n",
        "del dfun_total_per['전국[호]']\n",
        "del dfun_total_per['수도권[호]']\n",
        "dfun_total_per"
      ],
      "metadata": {
        "id": "YCNLrekVqKWa"
      },
      "execution_count": null,
      "outputs": []
    },
    {
      "cell_type": "code",
      "source": [
        "dfun_total_per['전라도[호]'] = dfun_total_per['전북[호]'] + dfun_total_per['전남[호]']\n",
        "dfun_total_per['경상도[호]'] = dfun_total_per['경북[호]'] + dfun_total_per['경남[호]']\n",
        "dfun_total_per['충청도[호]'] = dfun_total_per['충북[호]'] + dfun_total_per['충남[호]']\n",
        "\n",
        "dfun_total_clean = pd.DataFrame(np.copy(dfun_total_per))"
      ],
      "metadata": {
        "id": "yrAw4IWD7JLm"
      },
      "execution_count": null,
      "outputs": []
    },
    {
      "cell_type": "code",
      "source": [
        "dfun_total_clean.columns = dfun_total_per.columns"
      ],
      "metadata": {
        "id": "0fKXs76x9_Oe"
      },
      "execution_count": null,
      "outputs": []
    },
    {
      "cell_type": "code",
      "source": [
        "dfun_total_clean.index = dfun_total_per.index"
      ],
      "metadata": {
        "id": "FKHtAZNwN3xC"
      },
      "execution_count": null,
      "outputs": []
    },
    {
      "cell_type": "code",
      "source": [
        "dfun_total_clean.drop(['전북[호]','전남[호]', '경북[호]', '경남[호]', '충북[호]', '충남[호]'], axis = 1, inplace = True)"
      ],
      "metadata": {
        "id": "SpO5UiGV-LYv"
      },
      "execution_count": null,
      "outputs": []
    },
    {
      "cell_type": "code",
      "source": [
        "sns.set_palette('tab20')\n",
        "fig, axes = plt.subplots(2,3, figsize = (16,10))\n",
        "axes = axes.flatten()\n",
        "\n",
        "for year, ax in zip(range(2016,2022), axes):\n",
        "     ax.set_title(f'{year}', fontsize = 20)\n",
        "     ax.pie(dfun_total_clean.loc[year, :], labels = dfun_total_clean.columns, autopct = '%.1f%%' )\n",
        "plt.plot()"
      ],
      "metadata": {
        "id": "xjXveUc8akvV"
      },
      "execution_count": null,
      "outputs": []
    },
    {
      "cell_type": "code",
      "source": [
        "dfun_total_clean.style.background_gradient()"
      ],
      "metadata": {
        "id": "qbu63fEu_zem"
      },
      "execution_count": null,
      "outputs": []
    },
    {
      "cell_type": "markdown",
      "source": [
        "#### 아파트 실거래가격지수"
      ],
      "metadata": {
        "id": "sOOM_UF7vn-E"
      }
    },
    {
      "cell_type": "code",
      "source": [
        "dfreal= pd.read_csv('/content/아파트 실거래가격지수.csv')\n",
        "del dfreal['광역시[2017.11=100]']\n",
        "dfreal['date'] = pd.to_datetime(dfreal['Unnamed: 0'], format = '%Y-%m-%d')\n",
        "del dfreal['Unnamed: 0']\n",
        "dfreal['year'] = pd.DatetimeIndex(dfreal['date']).year"
      ],
      "metadata": {
        "id": "Onz60z1ES2Kn"
      },
      "execution_count": null,
      "outputs": []
    },
    {
      "cell_type": "code",
      "source": [
        "dfreal.columns"
      ],
      "metadata": {
        "id": "AYHI5xyxkAKg"
      },
      "execution_count": null,
      "outputs": []
    },
    {
      "cell_type": "code",
      "source": [
        "sns.set_palette('viridis')\n",
        "plt.figure(figsize = (10,7))\n",
        "sns.lineplot(data =dfreal, x = 'date' , y = '서울[2017.11=100]', label = '서울 전역')\n",
        "sns.lineplot(data =dfreal, x = 'date' , y = '도심권[2017.11=100]', linestyle='--', label = '도심권')\n",
        "sns.lineplot(data = dfreal, x = 'date', y = '동북권[2017.11=100]', linestyle='--', label = '동북권')\n",
        "sns.lineplot(data = dfreal, x = 'date', y = '동남권[2017.11=100]', linestyle='--',  label = '동남권')\n",
        "sns.lineplot(data = dfreal, x = 'date', y = '서북권[2017.11=100]', linestyle='--',  label = '서북권')\n",
        "sns.lineplot(data = dfreal, x = 'date', y = '서남권[2017.11=100]', linestyle='--',  label = '서남권')\n",
        "sns.lineplot(data = dfreal, x = 'date', y = '전국[2017.11=100]', linestyle='-',  label = '전국', color = 'k')\n",
        "\n",
        "plt.title('서울 아파트 실거래가격지수', fontsize = 20)\n",
        "plt.ylabel('')\n",
        "plt.legend()\n",
        "plt.show()"
      ],
      "metadata": {
        "id": "r0aRf9adfy1y"
      },
      "execution_count": null,
      "outputs": []
    },
    {
      "cell_type": "markdown",
      "source": [
        ""
      ],
      "metadata": {
        "id": "5A0136e2vm0P"
      }
    },
    {
      "cell_type": "code",
      "source": [
        "plt.figure(figsize = (10,7))\n",
        "sns.set_palette('viridis')\n",
        "sns.lineplot(data = dfreal, x = 'year', y = '지방도[2017.11=100]', label = '지방도' )\n",
        "sns.lineplot(data = dfreal, x = 'year', y = '지방광역시[2017.11=100]', label = '지방광역시')\n",
        "sns.lineplot(data = dfreal, x = 'year', y = '수도권[2017.11=100]', label = '수도권' )\n",
        "sns.lineplot(data = dfreal, x = 'year', y = '서울[2017.11=100]', label = '서울')\n",
        "sns.lineplot(data = dfreal, x = 'year', y = '전국[2017.11=100]', linestyle='-',  label = '전국', color = 'k')\n",
        "plt.title('아파트 실거래가격지수(서울 vs. 수도권 vs. 지방광역시 vs. 지방도)',fontsize = 20)\n",
        "plt.ylabel('')\n",
        "plt.legend()\n",
        "plt.plot()"
      ],
      "metadata": {
        "id": "sImhPEcnPrGL"
      },
      "execution_count": null,
      "outputs": []
    },
    {
      "cell_type": "code",
      "source": [
        "dfrealnew = dfreal[['전국[2017.11=100]',\n",
        "                    '서울[2017.11=100]',\n",
        "                    '수도권[2017.11=100]',\n",
        "                    '지방광역시[2017.11=100]',\n",
        "                   '지방도[2017.11=100]', \n",
        "                   '지방[2017.11=100]']]\n",
        "dfrealnew['year'] = dfreal['year']\n",
        "dfrealnew_mean = dfrealnew.groupby('year')[['전국[2017.11=100]',\n",
        "                    '서울[2017.11=100]',\n",
        "                   '수도권[2017.11=100]',\n",
        "                    '지방광역시[2017.11=100]',\n",
        "                   '지방도[2017.11=100]', \n",
        "                   '지방[2017.11=100]']].mean()\n",
        "dfrealnew_mean.columns = ['전국','서울','수도권','지방광역시]','지방도', '지방']"
      ],
      "metadata": {
        "id": "bzjYmHiDPd6U"
      },
      "execution_count": null,
      "outputs": []
    },
    {
      "cell_type": "code",
      "source": [
        "plt.figure(figsize = (10,7))\n",
        "sns.heatmap(data = dfrealnew_mean, cmap= 'flare')\n",
        "plt.title('아파트 실거래가격지수',fontsize = 20)\n",
        "plt.xticks(rotation = 45)\n",
        "plt.yticks(rotation = 0)\n",
        "plt.ylabel('year', fontsize = 15)\n",
        "plt.xlabel('')\n",
        "plt.plot()"
      ],
      "metadata": {
        "id": "GvUsiBgnTmkt"
      },
      "execution_count": null,
      "outputs": []
    },
    {
      "cell_type": "markdown",
      "source": [
        "#### 주택매매가격지수"
      ],
      "metadata": {
        "id": "IpjX8s2gYsBO"
      }
    },
    {
      "cell_type": "code",
      "source": [
        "dfsell = pd.read_csv('/content/주택매매가격지수(KB).csv')\n",
        "dfsell['date'] = pd.to_datetime(dfsell['Unnamed: 0'], format = '%Y-%m-%d')\n",
        "dfsell.tail()"
      ],
      "metadata": {
        "id": "l2D1EPKzf7Mg"
      },
      "execution_count": null,
      "outputs": []
    },
    {
      "cell_type": "code",
      "source": [
        "sns.set_palette('rocket')\n",
        "plt.figure(figsize = (10,7))\n",
        "sns.lineplot(data = dfsell, x = 'date', y = '총지수[2019.01=100]', label = '총지수')\n",
        "sns.lineplot(data = dfsell, x = 'date', y = '아파트[2019.01=100]', linestyle = '--', label = '아파트')\n",
        "sns.lineplot(data = dfsell, x = 'date', y = '아파트(서울)[2019.01=100]' , linestyle = '--', label = '아파트(서울)')\n",
        "plt.title('주택 매매 가격지수(아파트)', fontsize = 20)\n",
        "plt.ylabel('')\n",
        "plt.plot()"
      ],
      "metadata": {
        "id": "W7sRP2C3iQKw"
      },
      "execution_count": null,
      "outputs": []
    },
    {
      "cell_type": "code",
      "source": [
        "sns.set_palette('rocket')\n",
        "plt.figure(figsize = (10,7))\n",
        "sns.lineplot(data = dfsell, x = 'date', y = '총지수[2019.01=100]', label = '총지수')\n",
        "sns.lineplot(data = dfsell, x = 'date', y = '아파트[2019.01=100]', linestyle = '--', label = '아파트')\n",
        "sns.lineplot(data = dfsell, x = 'date', y = '단독주택[2019.01=100]' , linestyle = '--', label = '단독주택')\n",
        "sns.lineplot(data = dfsell, x = 'date', y = '연립주택[2019.01=100]' , linestyle = '--',label = '연립주택')\n",
        "plt.title('주거 형태별 주택 매매 가격지수', fontsize = 20)\n",
        "plt.ylabel('')\n",
        "plt.plot()"
      ],
      "metadata": {
        "id": "YDg4dPgX10gk"
      },
      "execution_count": null,
      "outputs": []
    },
    {
      "cell_type": "code",
      "source": [
        "dfsell.columns"
      ],
      "metadata": {
        "id": "nthwwesDwUHK"
      },
      "execution_count": null,
      "outputs": []
    },
    {
      "cell_type": "code",
      "source": [
        "dfsell['year'] = pd.DatetimeIndex(dfsell['date']).year\n",
        "dfsell_recent = dfsell.groupby('year')[ '총지수[2019.01=100]', '단독주택[2019.01=100]',\n",
        "       '연립주택[2019.01=100]', '아파트[2019.01=100]'].mean()"
      ],
      "metadata": {
        "id": "Wx4e5c-WvzDv"
      },
      "execution_count": null,
      "outputs": []
    },
    {
      "cell_type": "code",
      "source": [
        "dfsell_recent = dfsell_recent.loc[2012 : 2022, :] \n",
        "dfsell_recent"
      ],
      "metadata": {
        "id": "psNl5w22wntB"
      },
      "execution_count": null,
      "outputs": []
    },
    {
      "cell_type": "code",
      "source": [
        "plt.figure(figsize = (10,7))\n",
        "sns.lineplot(data = dfsell_recent)\n",
        "plt.title('최근 10년간 주거 형태별 주택 매매 가격지수',fontsize = 20)"
      ],
      "metadata": {
        "id": "sYOgeY3txMXp"
      },
      "execution_count": null,
      "outputs": []
    },
    {
      "cell_type": "markdown",
      "source": [
        "#### 지역별 지가변동률"
      ],
      "metadata": {
        "id": "kc4uf2S0f1L3"
      }
    },
    {
      "cell_type": "code",
      "source": [
        "dfland = pd.read_csv('/content/지역별_지가변동률.csv')\n",
        "dfland.tail()"
      ],
      "metadata": {
        "id": "vkUicr6j3pn8"
      },
      "execution_count": null,
      "outputs": []
    },
    {
      "cell_type": "code",
      "source": [
        "dfland['date'] = pd.to_datetime(dfland['Unnamed: 0'], format = '%Y-%m-%d')\n",
        "dfland['year'] = pd.DatetimeIndex(dfland['date']).year\n",
        "dfland.head()"
      ],
      "metadata": {
        "id": "089rNmPUCuzW"
      },
      "execution_count": null,
      "outputs": []
    },
    {
      "cell_type": "code",
      "source": [
        "dfland.columns"
      ],
      "metadata": {
        "id": "EzNO5JiogKmN"
      },
      "execution_count": null,
      "outputs": []
    },
    {
      "cell_type": "code",
      "source": [
        "sns.set_palette('crest')\n",
        "plt.figure(figsize = (10,7))\n",
        "sns.lineplot(data = dfland, x = 'date', y = dfland['전국[%]'], label = '전국', color = 'navy')\n",
        "sns.lineplot(data = dfland, x = 'date', y = dfland['서울[%]'], label = '서울', linestyle = '--')\n",
        "sns.lineplot(data = dfland, x = 'date', y = dfland['부산[%]'], label = '부산', linestyle = '--')\n",
        "sns.lineplot(data = dfland, x = 'date', y = dfland['대구[%]'], label = '대구', linestyle = '--')\n",
        "sns.lineplot(data = dfland, x = 'date', y = dfland['인천[%]'], label = '인천', linestyle = '--')\n",
        "sns.lineplot(data = dfland, x = 'date', y = dfland['대전[%]'], label = '대전', linestyle = '--')\n",
        "plt.ylim(-4,1.5)\n",
        "plt.yticks(np.arange(-4,1.6, 0.5),labels = np.arange(-3.5,2.1,0.5))\n",
        "plt.legend()\n",
        "plt.title('5대 도시 지가변동률', fontsize = 20)\n",
        "plt.ylabel('')\n",
        "plt.show()"
      ],
      "metadata": {
        "id": "xUVobNA8c46E"
      },
      "execution_count": null,
      "outputs": []
    }
  ]
}